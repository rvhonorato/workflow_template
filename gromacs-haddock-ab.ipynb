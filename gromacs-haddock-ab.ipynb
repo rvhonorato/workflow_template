{
  "cells": [
    {
      "cell_type": "markdown",
      "metadata": {
        "id": "5ALF4jX_7T2-"
      },
      "source": [
        "<img src=\"https://github.com/rvhonorato/workflow_template/blob/main/workflow_template/images/logos.png?raw=1\">\n",
        "\n"
      ]
    },
    {
      "cell_type": "code",
      "source": [
        "# Install miniconda\n",
        "%%capture\n",
        "%%bash\n",
        "MINICONDA_INSTALLER_SCRIPT=Miniconda3-4.5.4-Linux-x86_64.sh\n",
        "MINICONDA_PREFIX=/usr/local\n",
        "wget https://repo.continuum.io/miniconda/$MINICONDA_INSTALLER_SCRIPT\n",
        "chmod +x $MINICONDA_INSTALLER_SCRIPT\n",
        "./$MINICONDA_INSTALLER_SCRIPT -b -f -p $MINICONDA_PREFIX \n",
        "rm Miniconda3-4.5.4-Linux-x86_64.sh"
      ],
      "metadata": {
        "id": "V3jDVHVU8Vt3"
      },
      "execution_count": null,
      "outputs": []
    },
    {
      "cell_type": "code",
      "source": [
        "!git clone https://github.com/rvhonorato/workflow_template.git\n",
        "%cd workflow_template"
      ],
      "metadata": {
        "id": "NONYM4r_71_Y",
        "colab": {
          "base_uri": "https://localhost:8080/"
        },
        "outputId": "fc22e79f-d067-47c8-e6e3-813430c1e54b"
      },
      "execution_count": 3,
      "outputs": [
        {
          "output_type": "stream",
          "name": "stdout",
          "text": [
            "Cloning into 'workflow_template'...\n",
            "remote: Enumerating objects: 354, done.\u001b[K\n",
            "remote: Counting objects: 100% (354/354), done.\u001b[K\n",
            "remote: Compressing objects: 100% (279/279), done.\u001b[K\n",
            "remote: Total 354 (delta 75), reused 330 (delta 67), pack-reused 0\n",
            "Receiving objects: 100% (354/354), 9.38 MiB | 15.23 MiB/s, done.\n",
            "Resolving deltas: 100% (75/75), done.\n",
            "/content/workflow_template\n"
          ]
        }
      ]
    },
    {
      "cell_type": "code",
      "source": [
        "# Install required packages,\n",
        "#  this step might take a few minutes, go get a ☕\n",
        "!conda env create -f workflow_template/environment.yml"
      ],
      "metadata": {
        "colab": {
          "base_uri": "https://localhost:8080/"
        },
        "id": "Z5bChGFl8ixN",
        "outputId": "1b5b7e48-5b6a-4997-85a3-ceac17ee81b5"
      },
      "execution_count": 7,
      "outputs": [
        {
          "output_type": "stream",
          "name": "stdout",
          "text": [
            "Solving environment: - \b\b\\ \b\b| \b\b/ \b\b- \b\b\\ \b\b| \b\b/ \b\b- \b\b\\ \b\b| \b\b/ \b\b- \b\b\\ \b\b| \b\b/ \b\b- \b\b\\ \b\b| \b\b/ \b\b- \b\b\\ \b\b| \b\b/ \b\b- \b\b\\ \b\b| \b\b/ \b\b- \b\b\\ \b\b| \b\b/ \b\b- \b\b\\ \b\b| \b\b/ \b\b- \b\b\\ \b\b| \b\b/ \b\b- \b\b\\ \b\b| \b\b/ \b\b- \b\b\\ \b\b| \b\b/ \b\b- \b\b\\ \b\b| \b\b/ \b\b- \b\b\\ \b\b| \b\b/ \b\b- \b\b\\ \b\b| \b\b/ \b\b- \b\b\\ \b\b| \b\b/ \b\b- \b\b\\ \b\b| \b\b/ \b\b- \b\b\\ \b\b| \b\b/ \b\b- \b\b\\ \b\b| \b\b/ \b\b- \b\b\\ \b\b| \b\b/ \b\b- \b\b\\ \b\b| \b\b/ \b\b- \b\b\\ \b\b| \b\b/ \b\b- \b\b\\ \b\b| \b\b/ \b\b- \b\b\\ \b\b| \b\b/ \b\b- \b\b\\ \b\b| \b\b/ \b\b- \b\b\\ \b\b| \b\b/ \b\b- \b\b\\ \b\b| \b\b/ \b\b- \b\b\\ \b\b| \b\b/ \b\b- \b\b\\ \b\b| \b\b/ \b\b- \b\b\\ \b\b| \b\b/ \b\b- \b\b\\ \b\b| \b\b/ \b\b- \b\b\\ \b\b| \b\b/ \b\b- \b\b\\ \b\b| \b\b/ \b\b- \b\b\\ \b\b| \b\b/ \b\b- \b\b\\ \b\b| \b\b/ \b\b- \b\b\\ \b\b| \b\b/ \b\b- \b\b\\ \b\b| \b\b/ \b\b- \b\b\\ \b\b| \b\b/ \b\b- \b\b\\ \b\b| \b\b/ \b\b- \b\b\\ \b\b| \b\b/ \b\b- \b\b\\ \b\b| \b\b/ \b\b- \b\b\\ \b\b| \b\b/ \b\b- \b\b\\ \b\b| \b\b/ \b\b- \b\b\\ \b\b| \b\b/ \b\b- \b\b\\ \b\b| \b\b/ \b\b- \b\b\\ \b\b| \b\b/ \b\b- \b\b\\ \b\b| \b\b/ \b\b- \b\b\\ \b\b| \b\b/ \b\b- \b\b\\ \b\b| \b\b/ \b\b- \b\b\\ \b\b| \b\b/ \b\b- \b\b\\ \b\b| \b\b/ \b\b- \b\b\\ \b\b| \b\b/ \b\b- \b\b\\ \b\b| \b\b/ \b\b- \b\b\\ \b\b| \b\b/ \b\b- \b\b\\ \b\b| \b\b/ \b\b- \b\b\\ \b\b| \b\b/ \b\b- \b\b\\ \b\b| \b\b/ \b\b- \b\b\\ \b\b| \b\b/ \b\b- \b\b\\ \b\b| \b\b/ \b\b- \b\b\\ \b\b| \b\b/ \b\b- \b\b\\ \b\b| \b\b/ \b\b- \b\b\\ \b\b| \b\b/ \b\b- \b\b\\ \b\b| \b\b/ \b\b- \b\b\\ \b\b| \b\b/ \b\b- \b\b\\ \b\b| \b\b/ \b\b- \b\b\\ \b\b| \b\b/ \b\b- \b\b\\ \b\b| \b\b/ \b\b- \b\b\\ \b\b| \b\b/ \b\b- \b\b\\ \b\b| \b\b/ \b\b- \b\b\\ \b\b| \b\b/ \b\b- \b\b\\ \b\b| \b\b/ \b\b- \b\b\\ \b\b| \b\b/ \b\b- \b\b\\ \b\b| \b\b/ \b\b- \b\b\\ \b\b| \b\b/ \b\b- \b\b\\ \b\b| \b\b/ \b\b- \b\b\\ \b\b| \b\b/ \b\b- \b\b\\ \b\b| \b\b/ \b\b- \b\b\\ \b\b| \b\b/ \b\b- \b\b\\ \b\b| \b\b/ \b\b- \b\b\\ \b\b| \b\b/ \b\b- \b\b\\ \b\b| \b\b/ \b\b- \b\b\\ \b\b| \b\b/ \b\b- \b\b\\ \b\b| \b\b/ \b\b- \b\b\\ \b\b| \b\b/ \b\b- \b\b\\ \b\b| \b\b/ \b\b- \b\b\\ \b\b| \b\b/ \b\b- \b\b\\ \b\b| \b\b/ \b\b- \b\b\\ \b\b| \b\b/ \b\b- \b\b\\ \b\b| \b\b/ \b\b- \b\b\\ \b\b| \b\b/ \b\b- \b\b\\ \b\b| \b\b/ \b\b- \b\b\\ \b\b| \b\b/ \b\b- \b\b\\ \b\b| \b\b/ \b\b- \b\b\\ \b\b| \b\b/ \b\b- \b\b\\ \b\b| \b\b/ \b\b- \b\b\\ \b\b| \b\b/ \b\b- \b\b\\ \b\b| \b\b/ \b\b- \b\b\\ \b\b| \b\b/ \b\b- \b\b\\ \b\b| \b\b/ \b\b- \b\b\\ \b\b| \b\b/ \b\b- \b\b\\ \b\b| \b\b/ \b\b- \b\b\\ \b\b| \b\b/ \b\b- \b\b\\ \b\b| \b\b/ \b\b- \b\b\\ \b\b| \b\b/ \b\b- \b\b\\ \b\b| \b\b/ \b\b- \b\b\\ \b\b| \b\b/ \b\b- \b\b\\ \b\b| \b\b/ \b\b- \b\b\\ \b\b| \b\b/ \b\b- \b\b\\ \b\b| \b\b/ \b\b- \b\b\\ \b\b| \b\b/ \b\b- \b\b\\ \b\b| \b\b/ \b\b- \b\b\\ \b\b| \b\b/ \b\b- \b\b\\ \b\b| \b\b/ \b\b- \b\b\\ \b\b| \b\b/ \b\b- \b\b\\ \b\b| \b\b/ \b\b- \b\b\\ \b\b| \b\b/ \b\b- \b\b\\ \b\b| \b\b/ \b\b- \b\b\\ \b\b| \b\b/ \b\b- \b\b\\ \b\b| \b\b/ \b\b- \b\b\\ \b\b| \b\b/ \b\b- \b\b\\ \b\b| \b\b/ \b\b- \b\b\\ \b\b| \b\b/ \b\b- \b\b\\ \b\b| \b\b/ \b\b- \b\b\\ \b\b| \b\b/ \b\b- \b\b\\ \b\b| \b\b/ \b\b- \b\b\\ \b\b| \b\b/ \b\b- \b\b\\ \b\b| \b\b/ \b\b- \b\b\\ \b\b| \b\b/ \b\b- \b\b\\ \b\b| \b\b/ \b\b- \b\b\\ \b\b| \b\b/ \b\b- \b\b\\ \b\b| \b\b/ \b\b- \b\b\\ \b\b| \b\b/ \b\b- \b\b\\ \b\b| \b\b/ \b\b- \b\b\\ \b\b| \b\b/ \b\b- \b\b\\ \b\b| \b\b/ \b\b- \b\b\\ \b\b| \b\b/ \b\b- \b\b\\ \b\b| \b\b/ \b\b- \b\b\\ \b\b| \b\b/ \b\b- \b\b\\ \b\b| \b\b/ \b\b- \b\b\\ \b\b| \b\b/ \b\b- \b\b\\ \b\b| \b\b/ \b\b- \b\b\\ \b\b| \b\b/ \b\b- \b\b\\ \b\b| \b\b/ \b\b- \b\b\\ \b\b| \b\b/ \b\b- \b\b\\ \b\b| \b\b/ \b\b- \b\b\\ \b\b| \b\b/ \b\b- \b\b\\ \b\b| \b\b/ \b\b- \b\b\\ \b\b| \b\b/ \b\b- \b\b\\ \b\b| \b\b/ \b\b- \b\b\\ \b\b| \b\b/ \b\b- \b\b\\ \b\b| \b\b/ \b\b- \b\b\\ \b\b| \b\b/ \b\b- \b\b\\ \b\b| \b\b/ \b\b- \b\b\\ \b\b| \b\b/ \b\b- \b\b\\ \b\b| \b\b/ \b\b- \b\b\\ \b\b| \b\b/ \b\b- \b\b\\ \b\b| \b\b/ \b\b- \b\b\\ \b\b| \b\b/ \b\b- \b\b\\ \b\b| \b\b/ \b\b- \b\b\\ \b\b| \b\b/ \b\b- \b\b\\ \b\b| \b\b/ \b\b- \b\b\\ \b\b| \b\b/ \b\b- \b\b\\ \b\b| \b\b/ \b\b- \b\b\\ \b\b| \b\b/ \b\b- \b\b\\ \b\b| \b\b/ \b\b- \b\b\\ \b\b| \b\b/ \b\b- \b\b\\ \b\b| \b\b/ \b\b- \b\b\\ \b\b| \b\b/ \b\b- \b\b\\ \b\b| \b\b/ \b\b- \b\b\\ \b\b| \b\b/ \b\b- \b\b\\ \b\b| \b\b/ \b\b- \b\b\\ \b\b| \b\b/ \b\b- \b\b\\ \b\b| \b\b/ \b\b- \b\b\\ \b\b| \b\b/ \b\b- \b\b\\ \b\b| \b\b/ \b\b- \b\b\\ \b\b| \b\b/ \b\b- \b\b\\ \b\b| \b\b/ \b\b- \b\b\\ \b\b| \b\b/ \b\b- \b\b\\ \b\b| \b\b/ \b\b- \b\b\\ \b\b| \b\b/ \b\b- \b\b\\ \b\b| \b\b/ \b\b- \b\b\\ \b\b| \b\b/ \b\b- \b\b\\ \b\b| \b\b/ \b\b- \b\b\\ \b\b| \b\b/ \b\b- \b\b\\ \b\b| \b\b/ \b\b- \b\b\\ \b\b| \b\b/ \b\b- \b\b\\ \b\b| \b\b/ \b\b- \b\b\\ \b\b| \b\b/ \b\b- \b\b\\ \b\b| \b\b/ \b\b- \b\b\\ \b\b| \b\b/ \b\b- \b\b\\ \b\b| \b\b/ \b\b- \b\b\\ \b\b| \b\b/ \b\b- \b\b\\ \b\b| \b\b/ \b\b- \b\b\\ \b\b| \b\b/ \b\b- \b\b\\ \b\b| \b\b/ \b\b- \b\b\\ \b\b| \b\b/ \b\b- \b\b\\ \b\b| \b\b/ \b\b- \b\b\\ \b\b| \b\b/ \b\b- \b\b\\ \b\b| \b\b/ \b\b- \b\b\\ \b\b| \b\b/ \b\b- \b\b\\ \b\b| \b\b/ \b\b- \b\b\\ \b\b| \b\b/ \b\b- \b\b\\ \b\b| \b\b/ \b\b- \b\b\\ \b\b| \b\b/ \b\b- \b\b\\ \b\b| \b\b/ \b\b- \b\b\\ \b\b| \b\b/ \b\b- \b\b\\ \b\b| \b\b/ \b\b- \b\b\\ \b\b| \b\b/ \b\b- \b\b\\ \b\b| \b\b/ \b\b- \b\b\\ \b\b| \b\b/ \b\b- \b\b\\ \b\b| \b\b/ \b\b- \b\b\\ \b\b| \b\b/ \b\b- \b\b\\ \b\b| \b\b/ \b\b- \b\b\\ \b\b| \b\b/ \b\b- \b\b\\ \b\b| \b\b/ \b\b- \b\b\\ \b\b| \b\b/ \b\b- \b\b\\ \b\b| \b\b/ \b\b- \b\b\\ \b\b| \b\b/ \b\b- \b\b\\ \b\b| \b\b/ \b\b- \b\b\\ \b\b| \b\b/ \b\b- \b\b\\ \b\b| \b\b/ \b\b- \b\b\\ \b\b| \b\b/ \b\b- \b\b\\ \b\b| \b\b/ \b\b- \b\b\\ \b\b| \b\b/ \b\b- \b\b\\ \b\b| \b\b/ \b\b- \b\b\\ \b\b| \b\b/ \b\b- \b\b\\ \b\b| \b\b/ \b\b- \b\b\\ \b\b| \b\b/ \b\b- \b\b\\ \b\b| \b\b/ \b\b- \b\b\\ \b\b| \b\b/ \b\b- \b\b\\ \b\b| \b\b/ \b\b- \b\b\\ \b\b| \b\b/ \b\b- \b\b\\ \b\b| \b\b/ \b\b- \b\b\\ \b\b| \b\b/ \b\b- \b\b\\ \b\b| \b\b/ \b\b- \b\b\\ \b\b| \b\b/ \b\b- \b\b\\ \b\b| \b\b/ \b\b- \b\b\\ \b\b| \b\b/ \b\b- \b\b\\ \b\b| \b\b/ \b\b- \b\b\\ \b\b| \b\b/ \b\b- \b\b\\ \b\b| \b\b/ \b\b- \b\b\\ \b\b| \b\b/ \b\b- \b\b\\ \b\b| \b\b/ \b\b- \b\b\\ \b\b| \b\b/ \b\b- \b\b\\ \b\b| \b\b/ \b\b- \b\b\\ \b\b| \b\b/ \b\b- \b\b\\ \b\b| \b\b/ \b\b- \b\b\\ \b\b| \b\b/ \b\b- \b\b\\ \b\b| \b\b/ \b\b- \b\b\\ \b\b| \b\b/ \b\b- \b\b\\ \b\b| \b\b/ \b\b- \b\b\\ \b\b| \b\b/ \b\b- \b\b\\ \b\b| \b\b/ \b\b- \b\b\\ \b\b| \b\b/ \b\b- \b\b\\ \b\b| \b\b/ \b\b- \b\b\\ \b\b| \b\b/ \b\b- \b\b\\ \b\b| \b\b/ \b\b- \b\b\\ \b\b| \b\b/ \b\b- \b\b\\ \b\b| \b\b/ \b\b- \b\b\\ \b\b| \b\b/ \b\b- \b\b\\ \b\b| \b\b/ \b\b- \b\b\\ \b\b| \b\b/ \b\b- \b\b\\ \b\b| \b\b/ \b\b- \b\b\\ \b\b| \b\b/ \b\b- \b\b\\ \b\b| \b\b/ \b\b- \b\b\\ \b\b| \b\b/ \b\b- \b\b\\ \b\b| \b\b/ \b\b- \b\b\\ \b\b| \b\b/ \b\b- \b\b\\ \b\b| \b\b/ \b\b- \b\b\\ \b\b| \b\b/ \b\b- \b\b\\ \b\b| \b\b/ \b\b- \b\b\\ \b\b| \b\b/ \b\b- \b\b\\ \b\b| \b\b/ \b\b- \b\b\\ \b\b| \b\b/ \b\b- \b\b\\ \b\b| \b\b/ \b\b- \b\b\\ \b\b| \b\b/ \b\b- \b\b\\ \b\b| \b\b/ \b\b- \b\b\\ \b\b| \b\b/ \b\b- \b\b\\ \b\b| \b\b/ \b\b- \b\b\\ \b\b| \b\b/ \b\b- \b\b\\ \b\b| \b\b/ \b\b- \b\b\\ \b\b| \b\b/ \b\b- \b\b\\ \b\b| \b\b/ \b\b- \b\b\\ \b\b| \b\b/ \b\b- \b\b\\ \b\b| \b\b/ \b\b- \b\b\\ \b\b| \b\b/ \b\b- \b\b\\ \b\b| \b\b/ \b\b- \b\b\\ \b\b| \b\b/ \b\b- \b\b\\ \b\b| \b\b/ \b\b- \b\b\\ \b\b| \b\b/ \b\b- \b\b\\ \b\b| \b\b/ \b\b- \b\b\\ \b\b| \b\b/ \b\b- \b\b\\ \b\b| \b\b/ \b\b- \b\b\\ \b\b| \b\b/ \b\b- \b\b\\ \b\b| \b\b/ \b\b- \b\b\\ \b\b| \b\b/ \b\b- \b\b\\ \b\b| \b\b/ \b\b- \b\b\\ \b\b| \b\b/ \b\b- \b\b\\ \b\b| \b\b/ \b\b- \b\b\\ \b\b| \b\b/ \b\b- \b\b\\ \b\b| \b\b/ \b\b- \b\b\\ \b\b| \b\b/ \b\b- \b\b\\ \b\b| \b\b/ \b\b- \b\b\\ \b\b| \b\b/ \b\b- \b\b\\ \b\b| \b\b/ \b\b- \b\b\\ \b\b| \b\b/ \b\b- \b\b\\ \b\b| \b\b/ \b\b- \b\b\\ \b\b| \b\b/ \b\b- \b\b\\ \b\b| \b\b/ \b\b- \b\b\\ \b\b| \b\b/ \b\b- \b\b\\ \b\b| \b\b/ \b\b- \b\b\\ \b\b| \b\b/ \b\b- \b\b\\ \b\b| \b\b/ \b\b- \b\b\\ \b\b| \b\b/ \b\b- \b\b\\ \b\b| \b\b/ \b\b- \b\b\\ \b\b| \b\b/ \b\b- \b\b\\ \b\b| \b\b/ \b\b- \b\b\\ \b\b| \b\b/ \b\b- \b\b\\ \b\b| \b\b/ \b\b- \b\b\\ \b\b| \b\b/ \b\b- \b\b\\ \b\b| \b\b/ \b\b- \b\b\\ \b\b| \b\b/ \b\b- \b\b\\ \b\b| \b\b/ \b\b- \b\b\\ \b\b| \b\b/ \b\b- \b\b\\ \b\b| \b\b/ \b\b- \b\b\\ \b\b| \b\b/ \b\b- \b\b\\ \b\b| \b\b/ \b\b- \b\b\\ \b\b| \b\b/ \b\b- \b\b\\ \b\b| \b\b/ \b\b- \b\b\\ \b\b| \b\b/ \b\b- \b\b\\ \b\b| \b\b/ \b\b- \b\b\\ \b\b| \b\b/ \b\b- \b\b\\ \b\b| \b\b/ \b\b- \b\b\\ \b\b| \b\b/ \b\b- \b\b\\ \b\b| \b\b/ \b\b- \b\b\\ \b\b| \b\b/ \b\b- \b\b\\ \b\b| \b\b/ \b\b- \b\b\\ \b\b| \b\b/ \b\b- \b\b\\ \b\b| \b\b/ \b\b- \b\b\\ \b\b| \b\b/ \b\b- \b\b\\ \b\b| \b\b/ \b\b- \b\b\\ \b\b| \b\b/ \b\b- \b\b\\ \b\b| \b\b/ \b\b- \b\b\\ \b\b| \b\b/ \b\b- \b\b\\ \b\b| \b\b/ \b\b- \b\b\\ \b\b| \b\b/ \b\b- \b\b\\ \b\b| \b\b/ \b\b- \b\b\\ \b\b| \b\b/ \b\b- \b\b\\ \b\b| \b\b/ \b\b- \b\b\\ \b\b| \b\b/ \b\b- \b\b\\ \b\b| \b\b/ \b\b- \b\b\\ \b\b| \b\b/ \b\b- \b\b\\ \b\b| \b\b/ \b\b- \b\b\\ \b\b| \b\b/ \b\b- \b\b\\ \b\b| \b\b/ \b\b- \b\b\\ \b\b| \b\b/ \b\b- \b\b\\ \b\b| \b\b/ \b\b- \b\b\\ \b\b| \b\b/ \b\b- \b\b\\ \b\b| \b\b/ \b\b- \b\b\\ \b\b| \b\b/ \b\b- \b\b\\ \b\b| \b\b/ \b\b- \b\b\\ \b\b| \b\b/ \b\b- \b\b\\ \b\b| \b\b/ \b\b- \b\b\\ \b\b| \b\b/ \b\b- \b\b\\ \b\b| \b\b/ \b\b- \b\b\\ \b\b| \b\b/ \b\b- \b\b\\ \b\b| \b\b/ \b\b- \b\b\\ \b\b| \b\b/ \b\b- \b\b\\ \b\b| \b\b/ \b\b- \b\b\\ \b\b| \b\b/ \b\b- \b\b\\ \b\b| \b\b/ \b\b- \b\b\\ \b\b| \b\b/ \b\b- \b\b\\ \b\b| \b\b/ \b\b- \b\b\\ \b\b| \b\b/ \b\b- \b\b\\ \b\b| \b\b/ \b\b- \b\b\\ \b\b| \b\b/ \b\b- \b\b\\ \b\b| \b\b/ \b\b- \b\b\\ \b\b| \b\b/ \b\b- \b\b\\ \b\b| \b\b/ \b\b- \b\b\\ \b\b| \b\b/ \b\b- \b\b\\ \b\b| \b\b/ \b\b- \b\b\\ \b\b| \b\b/ \b\b- \b\b\\ \b\b| \b\b/ \b\b- \b\b\\ \b\b| \b\b/ \b\b- \b\b\\ \b\b| \b\b/ \b\b- \b\b\\ \b\b| \b\b/ \b\b- \b\b\\ \b\b| \b\b/ \b\b- \b\b\\ \b\b| \b\b/ \b\b- \b\b\\ \b\b| \b\b/ \b\b- \b\b\\ \b\b| \b\b/ \b\b- \b\b\\ \b\b| \b\b/ \b\b- \b\b\\ \b\b| \b\b/ \b\b- \b\b\\ \b\b| \b\b/ \b\b- \b\b\\ \b\b| \b\b/ \b\b- \b\b\\ \b\b| \b\b/ \b\b- \b\b\\ \b\b| \b\b/ \b\b- \b\b\\ \b\b| \b\b/ \b\b- \b\b\\ \b\b| \b\b/ \b\b- \b\b\\ \b\b| \b\b/ \b\b- \b\b\\ \b\b| \b\b/ \b\b- \b\b\\ \b\b| \b\b/ \b\b- \b\b\\ \b\b| \b\b/ \b\b- \b\b\\ \b\b| \b\b/ \b\b- \b\b\\ \b\b| \b\b/ \b\b- \b\b\\ \b\b| \b\b/ \b\b- \b\b\\ \b\b| \b\b/ \b\b- \b\b\\ \b\b| \b\b/ \b\b- \b\b\\ \b\b| \b\b/ \b\b- \b\b\\ \b\b| \b\b/ \b\b- \b\b\\ \b\b| \b\b/ \b\b- \b\b\\ \b\b| \b\b/ \b\b- \b\b\\ \b\b| \b\b/ \b\b- \b\b\\ \b\b| \b\b/ \b\b- \b\b\\ \b\b| \b\b/ \b\b- \b\b\\ \b\b| \b\b/ \b\b- \b\b\\ \b\b| \b\b/ \b\b- \b\b\\ \b\b| \b\b/ \b\b- \b\b\\ \b\b| \b\b/ \b\b- \b\b\\ \b\b| \b\b/ \b\b- \b\b\\ \b\b| \b\b/ \b\b- \b\b\\ \b\b| \b\b/ \b\b- \b\b\\ \b\b| \b\b/ \b\b- \b\b\\ \b\b| \b\b/ \b\b- \b\b\\ \b\b| \b\b/ \b\b- \b\b\\ \b\b| \b\b/ \b\b- \b\b\\ \b\b| \b\b/ \b\b- \b\b\\ \b\b| \b\b/ \b\b- \b\b\\ \b\b| \b\b/ \b\b- \b\b\\ \b\b| \b\b/ \b\b- \b\b\\ \b\b| \b\b/ \b\b- \b\b\\ \b\b| \b\b/ \b\b- \b\b\\ \b\b| \b\b/ \b\b- \b\b\\ \b\b| \b\b/ \b\b- \b\b\\ \b\b| \b\b/ \b\b- \b\b\\ \b\b| \b\b/ \b\b- \b\b\\ \b\b| \b\b/ \b\b- \b\b\\ \b\b| \b\b/ \b\b- \b\b\\ \b\b| \b\b/ \b\b- \b\b\\ \b\b| \b\b/ \b\b- \b\b\\ \b\b| \b\b/ \b\b- \b\b\\ \b\b| \b\b/ \b\b- \b\b\\ \b\b| \b\b/ \b\b- \b\b\\ \b\b| \b\b/ \b\b- \b\b\\ \b\b| \b\b/ \b\b- \b\b\\ \b\b| \b\b/ \b\b- \b\b\\ \b\b| \b\b/ \b\b- \b\b\\ \b\b| \b\b/ \b\b- \b\b\\ \b\b| \b\b/ \b\b- \b\b\\ \b\b| \b\b/ \b\b- \b\b\\ \b\b| \b\b/ \b\b- \b\b\\ \b\b| \b\b/ \b\b- \b\b\\ \b\b| \b\b/ \b\b- \b\b\\ \b\b| \b\b/ \b\b- \b\b\\ \b\b| \b\b/ \b\b- \b\b\\ \b\b| \b\b/ \b\b- \b\b\\ \b\b| \b\b/ \b\b- \b\b\\ \b\b| \b\b/ \b\b- \b\b\\ \b\b| \b\b/ \b\b- \b\b\\ \b\b| \b\b/ \b\b- \b\b\\ \b\b| \b\b/ \b\b- \b\b\\ \b\b| \b\b/ \b\b- \b\b\\ \b\b| \b\b/ \b\b- \b\b\\ \b\b| \b\b/ \b\b- \b\b\\ \b\b| \b\b/ \b\b- \b\b\\ \b\b| \b\b/ \b\b- \b\b\\ \b\b| \b\b/ \b\b- \b\b\\ \b\b| \b\b/ \b\b- \b\b\\ \b\b| \b\b/ \b\b- \b\b\\ \b\b| \b\b/ \b\b- \b\b\\ \b\b| \b\b/ \b\b- \b\b\\ \b\b| \b\b/ \b\b- \b\b\\ \b\b| \b\b/ \b\b- \b\b\\ \b\b| \b\b/ \b\b- \b\b\\ \b\b| \b\b/ \b\b- \b\b\\ \b\b| \b\b/ \b\b- \b\b\\ \b\b| \b\b/ \b\b- \b\b\\ \b\b| \b\b/ \b\b- \b\b\\ \b\b| \b\b/ \b\b- \b\b\\ \b\b| \b\b/ \b\b- \b\b\\ \b\b| \b\b/ \b\b- \b\b\\ \b\b| \b\b/ \b\b- \b\b\\ \b\b| \b\b/ \b\b- \b\b\\ \b\b| \b\b/ \b\b- \b\b\\ \b\b| \b\b/ \b\b- \b\b\\ \b\b| \b\b/ \b\b- \b\b\\ \b\b| \b\b/ \b\b- \b\b\\ \b\b| \b\b/ \b\b- \b\b\\ \b\b| \b\b/ \b\b- \b\b\\ \b\b| \b\b/ \b\b- \b\b\\ \b\b| \b\b/ \b\b- \b\b\\ \b\b| \b\b/ \b\b- \b\b\\ \b\b| \b\b/ \b\b- \b\b\\ \b\b| \b\b/ \b\b- \b\b\\ \b\b| \b\b/ \b\b- \b\b\\ \b\b| \b\b/ \b\b- \b\b\\ \b\b| \b\b/ \b\b- \b\b\\ \b\b| \b\b/ \b\b- \b\b\\ \b\b| \b\b/ \b\b- \b\b\\ \b\b| \b\b/ \b\b- \b\b\\ \b\b| \b\b/ \b\b- \b\b\\ \b\b| \b\b/ \b\b- \b\b\\ \b\b| \b\b/ \b\b- \b\b\\ \b\b| \b\b/ \b\b- \b\b\\ \b\b| \b\b/ \b\b- \b\b\\ \b\b| \b\b/ \b\b- \b\b\\ \b\b| \b\b/ \b\b- \b\b\\ \b\b| \b\b/ \b\b- \b\b\\ \b\b| \b\b/ \b\b- \b\b\\ \b\b| \b\b/ \b\b- \b\b\\ \b\b| \b\b/ \b\b- \b\b\\ \b\b| \b\b/ \b\b- \b\b\\ \b\b| \b\b/ \b\b- \b\b\\ \b\b| \b\b/ \b\b- \b\b\\ \b\b| \b\b/ \b\b- \b\b\\ \b\b| \b\b/ \b\b- \b\b\\ \b\b| \b\b/ \b\b- \b\b\\ \b\b| \b\b/ \b\b- \b\b\\ \b\b| \b\b/ \b\b- \b\b\\ \b\b| \b\b/ \b\b- \b\b\\ \b\b| \b\b/ \b\b- \b\b\\ \b\b| \b\b/ \b\b- \b\b\\ \b\b| \b\b/ \b\b- \b\b\\ \b\b| \b\b/ \b\b- \b\b\\ \b\b| \b\b/ \b\b- \b\b\\ \b\b| \b\b/ \b\b- \b\b\\ \b\b| \b\b/ \b\b- \b\b\\ \b\b| \b\b/ \b\b- \b\b\\ \b\b| \b\b/ \b\b- \b\b\\ \b\b| \b\b/ \b\b- \b\b\\ \b\b| \b\b/ \b\b- \b\b\\ \b\b| \b\b/ \b\b- \b\b\\ \b\b| \b\b/ \b\b- \b\b\\ \b\b| \b\b/ \b\b- \b\b\\ \b\b| \b\b/ \b\b- \b\b\\ \b\b| \b\b/ \b\b- \b\b\\ \b\b| \b\b/ \b\b- \b\b\\ \b\b| \b\b/ \b\b- \b\b\\ \b\b| \b\b/ \b\b- \b\b\\ \b\b| \b\b/ \b\b- \b\b\\ \b\b| \b\b/ \b\b- \b\b\\ \b\b| \b\b/ \b\b- \b\b\\ \b\b| \b\b/ \b\b- \b\b\\ \b\b| \b\b/ \b\b- \b\b\\ \b\b| \b\b/ \b\b- \b\b\\ \b\b| \b\b/ \b\b- \b\b\\ \b\b| \b\b/ \b\b- \b\b\\ \b\b| \b\b/ \b\b- \b\b\\ \b\b| \b\b/ \b\b- \b\b\\ \b\b| \b\b/ \b\b- \b\b\\ \b\b| \b\b/ \b\b- \b\b\\ \b\b| \b\b/ \b\b- \b\b\\ \b\b| \b\b/ \b\b- \b\b\\ \b\b| \b\b/ \b\b- \b\b\\ \b\b| \b\b/ \b\b- \b\b\\ \b\b| \b\b/ \b\b- \b\b\\ \b\b| \b\b/ \b\b- \b\b\\ \b\b| \b\b/ \b\b- \b\b\\ \b\b| \b\b/ \b\b- \b\b\\ \b\b| \b\b/ \b\b- \b\b\\ \b\b| \b\b/ \b\b- \b\b\\ \b\b| \b\b/ \b\b- \b\b\\ \b\b| \b\b/ \b\b- \b\b\\ \b\b| \b\b/ \b\b- \b\b\\ \b\b| \b\b/ \b\b- \b\b\\ \b\b| \b\b/ \b\b- \b\b\\ \b\b| \b\b/ \b\b- \b\b\\ \b\b| \b\b/ \b\b- \b\b\\ \b\b| \b\b/ \b\b- \b\b\\ \b\b| \b\b/ \b\b- \b\b\\ \b\b| \b\b/ \b\b- \b\b\\ \b\b| \b\b/ \b\b- \b\b\\ \b\b| \b\b/ \b\b- \b\b\\ \b\b| \b\b/ \b\b- \b\b\\ \b\b| \b\b/ \b\b- \b\b\\ \b\b| \b\b/ \b\b- \b\b\\ \b\b| \b\b/ \b\b- \b\b\\ \b\b| \b\b/ \b\b- \b\b\\ \b\b| \b\b/ \b\b- \b\b\\ \b\b| \b\b/ \b\b- \b\b\\ \b\b| \b\b/ \b\b- \b\b\\ \b\b| \b\b/ \b\b- \b\b\\ \b\b| \b\b/ \b\b- \b\b\\ \b\b| \b\b/ \b\b- \b\b\\ \b\b| \b\b/ \b\b- \b\b\\ \b\b| \b\b/ \b\b- \b\b\\ \b\b| \b\b/ \b\b- \b\b\\ \b\b| \b\b/ \b\b- \b\b\\ \b\b| \b\b/ \b\b- \b\b\\ \b\b| \b\b/ \b\b- \b\b\\ \b\b| \b\b/ \b\b- \b\b\\ \b\b| \b\b/ \b\b- \b\b\\ \b\b| \b\b/ \b\b- \b\b\\ \b\b| \b\b/ \b\b- \b\b\\ \b\b| \b\b/ \b\b- \b\b\\ \b\b| \b\b/ \b\b- \b\b\\ \b\b| \b\b/ \b\b- \b\b\\ \b\b| \b\b/ \b\b- \b\b\\ \b\b| \b\b/ \b\b- \b\b\\ \b\b| \b\b/ \b\b- \b\b\\ \b\b| \b\b/ \b\b- \b\b\\ \b\b| \b\b/ \b\b- \b\b\\ \b\b| \b\b/ \b\b- \b\b\\ \b\b| \b\b/ \b\b- \b\b\\ \b\b| \b\b/ \b\b- \b\b\\ \b\b| \b\b/ \b\b- \b\b\\ \b\b| \b\b/ \b\b- \b\b\\ \b\b| \b\b/ \b\b- \b\b\\ \b\b| \b\b/ \b\b- \b\b\\ \b\b| \b\b/ \b\b- \b\b\\ \b\b| \b\b/ \b\b- \b\b\\ \b\b| \b\b/ \b\b- \b\b\\ \b\b| \b\b/ \b\b- \b\b\\ \b\b| \b\b/ \b\b- \b\b\\ \b\b| \b\b/ \b\b- \b\b\\ \b\b| \b\b/ \b\b- \b\b\\ \b\b| \b\b/ \b\b- \b\b\\ \b\b| \b\b/ \b\b- \b\b\\ \b\b| \b\b/ \b\b- \b\b\\ \b\b| \b\b/ \b\b- \b\b\\ \b\b| \b\b/ \b\b- \b\b\\ \b\b| \b\b/ \b\b- \b\b\\ \b\b| \b\b/ \b\b- \b\b\\ \b\b| \b\b/ \b\b- \b\b\\ \b\b| \b\b/ \b\b- \b\b\\ \b\b| \b\b/ \b\b- \b\b\\ \b\b| \b\b/ \b\b- \b\b\\ \b\b| \b\b/ \b\b- \b\b\\ \b\b| \b\b/ \b\b- \b\b\\ \b\b| \b\b/ \b\b- \b\b\\ \b\b| \b\b/ \b\b- \b\b\\ \b\b| \b\b/ \b\b- \b\b\\ \b\b| \b\b/ \b\b- \b\b\\ \b\b| \b\b/ \b\b- \b\b\\ \b\b| \b\b/ \b\b- \b\b\\ \b\b| \b\b/ \b\b- \b\b\\ \b\b| \b\b/ \b\b- \b\b\\ \b\b| \b\b/ \b\b- \b\b\\ \b\b| \b\b/ \b\b- \b\b\\ \b\b| \b\b/ \b\b- \b\b\\ \b\b| \b\b/ \b\b- \b\b\\ \b\b| \b\b/ \b\b- \b\b\\ \b\b| \b\b/ \b\b- \b\b\\ \b\b| \b\b/ \b\b- \b\b\\ \b\b| \b\b/ \b\b- \b\b\\ \b\b| \b\b/ \b\b- \b\b\\ \b\b| \b\b/ \b\b- \b\b\\ \b\b| \b\b/ \b\b- \b\b\\ \b\b| \b\b/ \b\b- \b\b\\ \b\b| \b\b/ \b\b- \b\b\\ \b\b| \b\b/ \b\b- \b\b\\ \b\b| \b\b/ \b\b- \b\b\\ \b\b| \b\b/ \b\b- \b\b\\ \b\b| \b\b/ \b\b- \b\b\\ \b\b| \b\b/ \b\b- \b\b\\ \b\b| \b\b/ \b\b- \b\b\\ \b\b| \b\b/ \b\b- \b\b\\ \b\b| \b\b/ \b\b- \b\b\\ \b\b| \b\b/ \b\b- \b\b\\ \b\b| \b\b/ \b\b- \b\b\\ \b\b| \b\b/ \b\b- \b\b\\ \b\b| \b\b/ \b\b- \b\b\\ \b\b| \b\b/ \b\b- \b\b\\ \b\b| \b\b/ \b\b- \b\b\\ \b\b| \b\b/ \b\b- \b\b\\ \b\b| \b\b/ \b\b- \b\b\\ \b\b| \b\b/ \b\b- \b\b\\ \b\b| \b\b/ \b\b- \b\b\\ \b\b| \b\b/ \b\b- \b\b\\ \b\b| \b\b/ \b\b- \b\b\\ \b\b| \b\b/ \b\b- \b\b\\ \b\b| \b\b/ \b\b- \b\b\\ \b\b| \b\b/ \b\b- \b\b\\ \b\b| \b\b/ \b\b- \b\b\\ \b\b| \b\b/ \b\b- \b\b\\ \b\b| \b\b/ \b\b- \b\b\\ \b\b| \b\b/ \b\b- \b\b\\ \b\b| \b\b/ \b\b- \b\b\\ \b\b| \b\b/ \b\b- \b\b\\ \b\b| \b\b/ \b\b- \b\b\\ \b\b| \b\b/ \b\b- \b\b\\ \b\b| \b\b/ \b\b- \b\b\\ \b\b| \b\b/ \b\b- \b\b\\ \b\b| \b\b/ \b\b- \b\b\\ \b\b| \b\b/ \b\b- \b\b\\ \b\b| \b\b/ \b\b- \b\b\\ \b\b| \b\b/ \b\b- \b\b\\ \b\b| \b\b/ \b\b- \b\b\\ \b\b| \b\b/ \b\b- \b\b\\ \b\b| \b\b/ \b\b- \b\b\\ \b\b| \b\b/ \b\b- \b\b\\ \b\b| \b\b/ \b\b- \b\b\\ \b\b| \b\b/ \b\b- \b\b\\ \b\b| \b\b/ \b\b- \b\b\\ \b\b| \b\b/ \b\b- \b\b\\ \b\b| \b\b/ \b\b- \b\b\\ \b\b| \b\b/ \b\b- \b\b\\ \b\b| \b\b/ \b\b- \b\b\\ \b\b| \b\b/ \b\b- \b\b\\ \b\b| \b\b/ \b\b- \b\b\\ \b\b| \b\b/ \b\b- \b\b\\ \b\b| \b\b/ \b\b- \b\b\\ \b\b| \b\b/ \b\b- \b\b\\ \b\b| \b\b/ \b\b- \b\b\\ \b\b| \b\b/ \b\b- \b\b\\ \b\b| \b\b/ \b\b- \b\b\\ \b\b| \b\b/ \b\b- \b\b\\ \b\b| \b\b/ \b\b- \b\b\\ \b\b| \b\b/ \b\b- \b\b\\ \b\b| \b\b/ \b\b- \b\b\\ \b\b| \b\b/ \b\b- \b\b\\ \b\b| \b\b/ \b\b- \b\b\\ \b\b| \b\b/ \b\b- \b\b\\ \b\b| \b\b/ \b\b- \b\b\\ \b\b| \b\b/ \b\b- \b\b\\ \b\b| \b\b/ \b\b- \b\b\\ \b\b| \b\b/ \b\b- \b\b\\ \b\b| \b\b/ \b\b- \b\b\\ \b\b| \b\b/ \b\b- \b\b\\ \b\b| \b\b/ \b\b- \b\b\\ \b\b| \b\b/ \b\b- \b\b\\ \b\b| \b\b/ \b\b- \b\b\\ \b\b| \b\b/ \b\b- \b\b\\ \b\b| \b\b/ \b\b- \b\b\\ \b\b| \b\b/ \b\b- \b\b\\ \b\b| \b\b/ \b\b- \b\b\\ \b\b| \b\b/ \b\b- \b\b\\ \b\b| \b\b/ \b\b- \b\b\\ \b\b| \b\b/ \b\b- \b\b\\ \b\b| \b\b/ \b\b- \b\b\\ \b\b| \b\b/ \b\b- \b\b\\ \b\b| \b\b/ \b\b- \b\b\\ \b\b| \b\b/ \b\b- \b\b\\ \b\b| \b\b/ \b\b- \b\b\\ \b\b| \b\b/ \b\b- \b\b\\ \b\b| \b\b/ \b\b- \b\b\\ \b\b| \b\b/ \b\b- \b\b\\ \b\b| \b\b/ \b\b- \b\b\\ \b\b| \b\b/ \b\b- \b\b\\ \b\b| \b\b/ \b\b- \b\b\\ \b\b| \b\b/ \b\b- \b\b\\ \b\b| \b\b/ \b\b- \b\b\\ \b\b| \b\b/ \b\b- \b\b\\ \b\b| \b\b/ \b\b- \b\b\\ \b\b| \b\b/ \b\b- \b\b\\ \b\b| \b\b/ \b\b- \b\b\\ \b\b| \b\b/ \b\b- \b\b\\ \b\b| \b\b/ \b\b- \b\b\\ \b\b| \b\b/ \b\b- \b\b\\ \b\b| \b\b/ \b\b- \b\b\\ \b\b| \b\b/ \b\b- \b\b\\ \b\b| \b\b/ \b\b- \b\b\\ \b\b| \b\b/ \b\b- \b\b\\ \b\b| \b\b/ \b\b- \b\b\\ \b\b| \b\b/ \b\b- \b\b\\ \b\b| \b\b/ \b\b- \b\b\\ \b\b| \b\b/ \b\b- \b\b\\ \b\b| \b\b/ \b\b- \b\b\\ \b\b| \b\b/ \b\b- \b\b\\ \b\b| \b\b/ \b\b- \b\b\\ \b\b| \b\b/ \b\b- \b\b\\ \b\b| \b\b/ \b\b- \b\b\\ \b\b| \b\b/ \b\b- \b\b\\ \b\b| \b\b/ \b\b- \b\b\\ \b\b| \b\b/ \b\b- \b\b\\ \b\b| \b\b/ \b\b- \b\b\\ \b\b| \b\b/ \b\b- \b\b\\ \b\b| \b\b/ \b\b- \b\b\\ \b\b| \b\b/ \b\b- \b\b\\ \b\b| \b\b/ \b\b- \b\b\\ \b\b| \b\b/ \b\b- \b\b\\ \b\b| \b\b/ \b\b- \b\b\\ \b\b| \b\b/ \b\b- \b\b\\ \b\b| \b\b/ \b\b- \b\b\\ \b\b| \b\b/ \b\b- \b\b\\ \b\b| \b\b/ \b\b- \b\b\\ \b\b| \b\b/ \b\b- \b\b\\ \b\b| \b\b/ \b\b- \b\b\\ \b\b| \b\b/ \b\b- \b\b\\ \b\b| \b\b/ \b\b- \b\b\\ \b\b| \b\b/ \b\b- \b\b\\ \b\b| \b\b/ \b\b- \b\b\\ \b\b| \b\b/ \b\b- \b\b\\ \b\b| \b\b/ \b\b- \b\b\\ \b\b| \b\b/ \b\b- \b\b\\ \b\b| \b\b/ \b\b- \b\b\\ \b\b| \b\b/ \b\b- \b\b\\ \b\b| \b\b/ \b\b- \b\b\\ \b\b| \b\b/ \b\b- \b\b\\ \b\b| \b\b/ \b\b- \b\b\\ \b\b| \b\b/ \b\b- \b\b\\ \b\b| \b\b/ \b\b- \b\b\\ \b\b| \b\b/ \b\b- \b\b\\ \b\b| \b\b/ \b\b- \b\b\\ \b\b| \b\b/ \b\b- \b\b\\ \b\b| \b\b/ \b\b- \b\b\\ \b\b| \b\b/ \b\b- \b\b\\ \b\b| \b\b/ \b\b- \b\b\\ \b\b| \b\b/ \b\b- \b\b\\ \b\b| \b\b/ \b\b- \b\b\\ \b\b| \b\b/ \b\b- \b\b\\ \b\b| \b\b/ \b\b- \b\b\\ \b\b| \b\b/ \b\b- \b\b\\ \b\b| \b\b/ \b\b- \b\b\\ \b\b| \b\b/ \b\b- \b\b\\ \b\b| \b\b/ \b\b- \b\b\\ \b\b| \b\b/ \b\b- \b\b\\ \b\b| \b\b/ \b\b- \b\b\\ \b\b| \b\b/ \b\b- \b\b\\ \b\b| \b\b/ \b\b- \b\b\\ \b\b| \b\b/ \b\b- \b\b\\ \b\b| \b\b/ \b\b- \b\b\\ \b\b| \b\b/ \b\b- \b\b\\ \b\b| \b\b/ \b\b- \b\b\\ \b\b| \b\b/ \b\b- \b\b\\ \b\b| \b\b/ \b\b- \b\b\\ \b\b| \b\b/ \b\b- \b\b\\ \b\b| \b\b/ \b\b- \b\b\\ \b\b| \b\b/ \b\b- \b\b\\ \b\b| \b\b/ \b\b- \b\b\\ \b\b| \b\b/ \b\b- \b\b\\ \b\b| \b\b/ \b\b- \b\b\\ \b\b| \b\b/ \b\b- \b\b\\ \b\b| \b\b/ \b\b- \b\b\\ \b\b| \b\b/ \b\b- \b\b\\ \b\b| \b\b/ \b\b- \b\b\\ \b\b| \b\b/ \b\b- \b\b\\ \b\b| \b\b/ \b\b- \b\b\\ \b\b| \b\b/ \b\b- \b\b\\ \b\b| \b\b/ \b\b- \b\b\\ \b\b| \b\b/ \b\b- \b\b\\ \b\b| \b\b/ \b\b- \b\b\\ \b\b| \b\b/ \b\b- \b\b\\ \b\b| \b\b/ \b\b- \b\b\\ \b\b| \b\b/ \b\b- \b\b\\ \b\b| \b\b/ \b\b- \b\b\\ \b\b| \b\b/ \b\b- \b\b\\ \b\b| \b\b/ \b\b- \b\b\\ \b\b| \b\b/ \b\b- \b\b\\ \b\b| \b\b/ \b\b- \b\b\\ \b\b| \b\b/ \b\b- \b\b\\ \b\b| \b\b/ \b\b- \b\b\\ \b\b| \b\b/ \b\b- \b\b\\ \b\b| \b\b/ \b\b- \b\b\\ \b\b| \b\b/ \b\b- \b\b\\ \b\b| \b\b/ \b\b- \b\b\\ \b\b| \b\b/ \b\b- \b\b\\ \b\b| \b\b/ \b\b- \b\b\\ \b\b| \b\b/ \b\b- \b\b\\ \b\b| \b\b/ \b\b- \b\b\\ \b\b| \b\b/ \b\b- \b\b\\ \b\b| \b\b/ \b\b- \b\b\\ \b\b| \b\b/ \b\b- \b\b\\ \b\b| \b\b/ \b\b- \b\b\\ \b\b| \b\b/ \b\b- \b\b\\ \b\b| \b\b/ \b\b- \b\b\\ \b\b| \b\b/ \b\b- \b\b\\ \b\b| \b\b/ \b\b- \b\b\\ \b\b| \b\b/ \b\b- \b\b\\ \b\b| \b\b/ \b\b- \b\b\\ \b\b| \b\b/ \b\b- \b\b\\ \b\b| \b\b/ \b\b- \b\b\\ \b\b| \b\b/ \b\b- \b\b\\ \b\b| \b\b/ \b\b- \b\b\\ \b\b| \b\b/ \b\b- \b\b\\ \b\b| \b\b/ \b\b- \b\b\\ \b\b| \b\b/ \b\b- \b\b\\ \b\b| \b\b/ \b\b- \b\b\\ \b\b| \b\b/ \b\b- \b\b\\ \b\b| \b\b/ \b\b- \b\b\\ \b\b| \b\b/ \b\b- \b\b\\ \b\b| \b\b/ \b\b- \b\b\\ \b\b| \b\b/ \b\b- \b\b\\ \b\b| \b\b/ \b\b- \b\b\\ \b\b| \b\b/ \b\b- \b\b\\ \b\b| \b\b/ \b\b- \b\b\\ \b\b| \b\b/ \b\b- \b\b\\ \b\b| \b\b/ \b\b- \b\b\\ \b\b| \b\b/ \b\b- \b\b\\ \b\b| \b\b/ \b\b- \b\b\\ \b\b| \b\b/ \b\b- \b\b\\ \b\b| \b\b/ \b\b- \b\b\\ \b\b| \b\b/ \b\b- \b\b\\ \b\b| \b\b/ \b\b- \b\b\\ \b\b| \b\b/ \b\b- \b\b\\ \b\b| \b\b/ \b\b- \b\b\\ \b\b| \b\b/ \b\b- \b\b\\ \b\b| \b\b/ \b\b- \b\b\\ \b\b| \b\b/ \b\b- \b\b\\ \b\b| \b\b/ \b\b- \b\b\\ \b\b| \b\b/ \b\b- \b\b\\ \b\b| \b\b/ \b\b- \b\b\\ \b\b| \b\b/ \b\b- \b\b\\ \b\b| \b\b/ \b\b- \b\b\\ \b\b| \b\b/ \b\b- \b\b\\ \b\b| \b\b/ \b\b- \b\b\\ \b\b| \b\b/ \b\b- \b\b\\ \b\b| \b\b/ \b\b- \b\b\\ \b\b| \b\b/ \b\b- \b\b\\ \b\b| \b\b/ \b\b- \b\b\\ \b\b| \b\b/ \b\b- \b\b\\ \b\b| \b\b/ \b\b- \b\b\\ \b\b| \b\b/ \b\b- \b\b\\ \b\b| \b\b/ \b\b- \b\b\\ \b\b| \b\b/ \b\b- \b\b\\ \b\b| \b\b/ \b\b- \b\b\\ \b\b| \b\b/ \b\b- \b\b\\ \b\b| \b\b/ \b\b- \b\b\\ \b\b| \b\b/ \b\b- \b\b\\ \b\b| \b\b/ \b\b- \b\b\\ \b\b| \b\b/ \b\b- \b\b\\ \b\b| \b\b/ \b\b- \b\b\\ \b\b| \b\b/ \b\b- \b\b\\ \b\b| \b\b/ \b\b- \b\b\\ \b\b| \b\b/ \b\b- \b\b\\ \b\b| \b\b/ \b\b- \b\b\\ \b\b| \b\b/ \b\b- \b\b\\ \b\b| \b\b/ \b\b- \b\b\\ \b\b| \b\b/ \b\b- \b\b\\ \b\b| \b\b/ \b\b- \b\b\\ \b\b| \b\b/ \b\b- \b\b\\ \b\b| \b\b/ \b\b- \b\b\\ \b\b| \b\b/ \b\b- \b\b\\ \b\b| \b\b/ \b\b- \b\b\\ \b\b| \b\b/ \b\b- \b\b\\ \b\b| \b\b/ \b\b- \b\b\\ \b\b| \b\b/ \b\b- \b\b\\ \b\b| \b\b/ \b\b- \b\b\\ \b\b| \b\b/ \b\b- \b\b\\ \b\b| \b\b/ \b\b- \b\b\\ \b\b| \b\b/ \b\b- \b\b\\ \b\b| \b\b/ \b\b- \b\b\\ \b\b| \b\b/ \b\b- \b\b\\ \b\b| \b\b/ \b\b- \b\b\\ \b\b| \b\b/ \b\b- \b\b\\ \b\b| \b\b/ \b\b- \b\b\\ \b\b| \b\b/ \b\b- \b\b\\ \b\b| \b\b/ \b\b- \b\b\\ \b\b| \b\b/ \b\b- \b\b\\ \b\b| \b\b/ \b\b- \b\b\\ \b\b| \b\b/ \b\b- \b\b\\ \b\b| \b\b/ \b\b- \b\b\\ \b\b| \b\b/ \b\b- \b\b\\ \b\b| \b\b/ \b\b- \b\b\\ \b\b| \b\b/ \b\b- \b\b\\ \b\b| \b\b/ \b\b- \b\b\\ \b\b| \b\b/ \b\b- \b\b\\ \b\b| \b\b/ \b\b- \b\b\\ \b\b| \b\b/ \b\b- \b\b\\ \b\b| \b\b/ \b\b- \b\b\\ \b\b| \b\b/ \b\b- \b\b\\ \b\b| \b\b/ \b\b- \b\b\\ \b\b| \b\b/ \b\b- \b\b\\ \b\b| \b\b/ \b\b- \b\b\\ \b\b| \b\b/ \b\b- \b\b\\ \b\b| \b\b/ \b\b- \b\b\\ \b\b| \b\b/ \b\b- \b\b\\ \b\b| \b\b/ \b\b- \b\b\\ \b\b| \b\b/ \b\b- \b\b\\ \b\b| \b\b/ \b\b- \b\b\\ \b\b| \b\b/ \b\b- \b\b\\ \b\b| \b\b/ \b\b- \b\b\\ \b\b| \b\b/ \b\b- \b\b\\ \b\b| \b\b/ \b\b- \b\b\\ \b\b| \b\b/ \b\b- \b\b\\ \b\b| \b\b/ \b\b- \b\b\\ \b\b| \b\b/ \b\b- \b\b\\ \b\b| \b\b/ \b\b- \b\b\\ \b\b| \b\b/ \b\b- \b\b\\ \b\b| \b\b/ \b\b- \b\b\\ \b\b| \b\b/ \b\b- \b\b\\ \b\b| \b\b/ \b\b- \b\b\\ \b\b| \b\b/ \b\b- \b\b\\ \b\b| \b\b/ \b\b- \b\b\\ \b\b| \b\b/ \b\b- \b\b\\ \b\b| \b\b/ \b\b- \b\b\\ \b\b| \b\b/ \b\b- \b\b\\ \b\b| \b\b/ \b\b- \b\b\\ \b\b| \b\b/ \b\b- \b\b\\ \b\b| \b\b/ \b\b- \b\b\\ \b\b| \b\b/ \b\b- \b\b\\ \b\b| \b\b/ \b\b- \b\b\\ \b\b| \b\b/ \b\b- \b\b\\ \b\b| \b\b/ \b\b- \b\b\\ \b\b| \b\b/ \b\b- \b\b\\ \b\b| \b\b/ \b\b- \b\b\\ \b\b| \b\b/ \b\b- \b\b\\ \b\b| \b\b/ \b\b- \b\b\\ \b\b| \b\b/ \b\b- \b\b\\ \b\b| \b\b/ \b\b- \b\b\\ \b\b| \b\b/ \b\b- \b\b\\ \b\b| \b\b/ \b\b- \b\b\\ \b\b| \b\b/ \b\b- \b\b\\ \b\b| \b\b/ \b\b- \b\b\\ \b\b| \b\b/ \b\b- \b\b\\ \b\b| \b\b/ \b\b- \b\b\\ \b\b| \b\b/ \b\b- \b\b\\ \b\b| \b\b/ \b\b- \b\b\\ \b\b| \b\b/ \b\b- \b\b\\ \b\b| \b\b/ \b\b- \b\b\\ \b\b| \b\b/ \b\b- \b\b\\ \b\b| \b\b/ \b\b- \b\b\\ \b\b| \b\b/ \b\b- \b\b\\ \b\b| \b\b/ \b\b- \b\b\\ \b\b| \b\b/ \b\b- \b\b\\ \b\b| \b\b/ \b\b- \b\b\\ \b\b| \b\b/ \b\b- \b\b\\ \b\b| \b\b/ \b\b- \b\b\\ \b\b| \b\b/ \b\b- \b\b\\ \b\b| \b\b/ \b\b- \b\b\\ \b\b| \b\b/ \b\b- \b\b\\ \b\b| \b\b/ \b\b- \b\b\\ \b\b| \b\b/ \b\b- \b\b\\ \b\b| \b\b/ \b\b- \b\b\\ \b\b| \b\b/ \b\b- \b\b\\ \b\b| \b\b/ \b\b- \b\b\\ \b\b| \b\b/ \b\b- \b\b\\ \b\b| \b\b/ \b\b- \b\b\\ \b\b| \b\b/ \b\b- \b\b\\ \b\b| \b\b/ \b\b- \b\b\\ \b\b| \b\b/ \b\b- \b\b\\ \b\b| \b\b/ \b\b- \b\b\\ \b\b| \b\b/ \b\b- \b\b\\ \b\b| \b\b/ \b\b- \b\b\\ \b\b| \b\b/ \b\b- \b\b\\ \b\b| \b\b/ \b\b- \b\b\\ \b\b| \b\b/ \b\b- \b\b\\ \b\b| \b\b/ \b\b- \b\b\\ \b\b| \b\b/ \b\b- \b\b\\ \b\b| \b\b/ \b\b- \b\b\\ \b\b| \b\b/ \b\b- \b\b\\ \b\b| \b\b/ \b\b- \b\b\\ \b\b| \b\b/ \b\b- \b\b\\ \b\b| \b\b/ \b\b- \b\b\\ \b\b| \b\b/ \b\b- \b\b\\ \b\b| \b\b/ \b\b- \b\b\\ \b\b| \b\b/ \b\b- \b\b\\ \b\b| \b\b/ \b\b- \b\b\\ \b\b| \b\b/ \b\b- \b\b\\ \b\b| \b\b/ \b\b- \b\b\\ \b\b| \b\b/ \b\b- \b\b\\ \b\b| \b\b/ \b\b- \b\b\\ \b\b| \b\b/ \b\b- \b\b\\ \b\b| \b\b/ \b\b- \b\b\\ \b\b| \b\b/ \b\b- \b\b\\ \b\b| \b\b/ \b\b- \b\b\\ \b\b| \b\b/ \b\b- \b\b\\ \b\b| \b\b/ \b\b- \b\b\\ \b\b| \b\b/ \b\b- \b\b\\ \b\b| \b\b/ \b\b- \b\b\\ \b\b| \b\b/ \b\b- \b\b\\ \b\b| \b\b/ \b\b- \b\b\\ \b\b| \b\b/ \b\b- \b\b\\ \b\b| \b\b/ \b\b- \b\b\\ \b\b| \b\b/ \b\b- \b\b\\ \b\b| \b\b/ \b\b- \b\b\\ \b\b| \b\b/ \b\b- \b\b\\ \b\b| \b\b/ \b\b- \b\b\\ \b\b| \b\b/ \b\b- \b\b\\ \b\b| \b\b/ \b\b- \b\b\\ \b\b| \b\b/ \b\b- \b\b\\ \b\b| \b\b/ \b\b- \b\b\\ \b\b| \b\b/ \b\b- \b\b\\ \b\b| \b\b/ \b\b- \b\b\\ \b\b| \b\b/ \b\b- \b\b\\ \b\b| \b\b/ \b\b- \b\b\\ \b\b| \b\b/ \b\b- \b\b\\ \b\b| \b\b/ \b\b- \b\b\\ \b\b| \b\b/ \b\b- \b\b\\ \b\b| \b\b/ \b\b- \b\b\\ \b\b| \b\b/ \b\b- \b\b\\ \b\b| \b\b/ \b\b- \b\b\\ \b\b| \b\b/ \b\b- \b\b\\ \b\b| \b\b/ \b\b- \b\b\\ \b\b| \b\b/ \b\b- \b\b\\ \b\b| \b\b/ \b\b- \b\b\\ \b\b| \b\b/ \b\b- \b\b\\ \b\b| \b\b/ \b\b- \b\b\\ \b\b| \b\b/ \b\b- \b\b\\ \b\b| \b\b/ \b\b- \b\b\\ \b\b| \b\b/ \b\b- \b\b\\ \b\b| \b\b/ \b\b- \b\b\\ \b\b| \b\b/ \b\b- \b\b\\ \b\b| \b\b/ \b\b- \b\b\\ \b\b| \b\b/ \b\b- \b\b\\ \b\b| \b\b/ \b\b- \b\b\\ \b\b| \b\b/ \b\b- \b\b\\ \b\b| \b\b/ \b\b- \b\b\\ \b\b| \b\b/ \b\b- \b\b\\ \b\b| \b\b/ \b\b- \b\b\\ \b\b| \b\b/ \b\b- \b\b\\ \b\b| \b\b/ \b\b- \b\b\\ \b\b| \b\b/ \b\b- \b\b\\ \b\b| \b\b/ \b\b- \b\b\\ \b\b| \b\b/ \b\b- \b\b\\ \b\b| \b\b/ \b\b- \b\b\\ \b\b| \b\b/ \b\b- \b\b\\ \b\b| \b\b/ \b\b- \b\b\\ \b\b| \b\b/ \b\b- \b\b\\ \b\b| \b\b/ \b\b- \b\b\\ \b\b| \b\b/ \b\b- \b\b\\ \b\b| \b\b/ \b\b- \b\b\\ \b\b| \b\b/ \b\b- \b\b\\ \b\b| \b\b/ \b\b- \b\b\\ \b\b| \b\b/ \b\b- \b\b\\ \b\b| \b\b/ \b\b- \b\b\\ \b\b| \b\b/ \b\b- \b\b\\ \b\b| \b\b/ \b\b- \b\b\\ \b\b| \b\b/ \b\b- \b\b\\ \b\b| \b\b/ \b\b- \b\b\\ \b\b| \b\b/ \b\b- \b\b\\ \b\b| \b\b/ \b\b- \b\b\\ \b\b| \b\b/ \b\b- \b\b\\ \b\b| \b\b/ \b\b- \b\b\\ \b\b| \b\b/ \b\b- \b\b\\ \b\b| \b\b/ \b\b- \b\b\\ \b\b| \b\b/ \b\b- \b\b\\ \b\b| \b\b/ \b\b- \b\b\\ \b\b| \b\b/ \b\b- \b\b\\ \b\b| \b\b/ \b\b- \b\b\\ \b\b| \b\b/ \b\b- \b\b\\ \b\b| \b\b/ \b\b- \b\b\\ \b\b| \b\b/ \b\b- \b\b\\ \b\b| \b\b/ \b\b- \b\b\\ \b\b| \b\b/ \b\b- \b\b\\ \b\b| \b\b/ \b\b- \b\b\\ \b\b| \b\b/ \b\b- \b\b\\ \b\b| \b\b/ \b\b- \b\b\\ \b\b| \b\b/ \b\b- \b\b\\ \b\b| \b\b/ \b\b- \b\b\\ \b\b| \b\b/ \b\b- \b\b\\ \b\b| \b\b/ \b\b- \b\b\\ \b\b| \b\b/ \b\b- \b\b\\ \b\b| \b\b/ \b\b- \b\b\\ \b\b| \b\b/ \b\b- \b\b\\ \b\b| \b\b/ \b\b- \b\b\\ \b\b| \b\b/ \b\b- \b\b\\ \b\b| \b\b/ \b\b- \b\b\\ \b\b| \b\b/ \b\b- \b\b\\ \b\b| \b\b/ \b\b- \b\b\\ \b\b| \b\b/ \b\b- \b\b\\ \b\b| \b\b/ \b\b- \b\b\\ \b\b| \b\b/ \b\b- \b\b\\ \b\b| \b\b/ \b\b- \b\b\\ \b\b| \b\b/ \b\b- \b\b\\ \b\b| \b\b/ \b\b- \b\b\\ \b\b| \b\b/ \b\b- \b\b\\ \b\b| \b\b/ \b\b- \b\b\\ \b\b| \b\b/ \b\b- \b\b\\ \b\b| \b\b/ \b\b- \b\b\\ \b\b| \b\b/ \b\b- \b\b\\ \b\b| \b\b/ \b\b- \b\b\\ \b\b| \b\b/ \b\b- \b\b\\ \b\b| \b\b/ \b\b- \b\b\\ \b\b| \b\b/ \b\b- \b\b\\ \b\b| \b\b/ \b\b- \b\b\\ \b\b| \b\b/ \b\b- \b\b\\ \b\b| \b\b/ \b\b- \b\b\\ \b\b| \b\b/ \b\b- \b\b\\ \b\b| \b\b/ \b\b- \b\b\\ \b\b| \b\b/ \b\b- \b\b\\ \b\b| \b\b/ \b\b- \b\b\\ \b\b| \b\b/ \b\b- \b\b\\ \b\b| \b\b/ \b\b- \b\b\\ \b\b| \b\b/ \b\b- \b\b\\ \b\b| \b\b/ \b\b- \b\b\\ \b\b| \b\b/ \b\b- \b\b\\ \b\b| \b\b/ \b\b- \b\b\\ \b\b| \b\b/ \b\b- \b\b\\ \b\b| \b\b/ \b\b- \b\b\\ \b\b| \b\b/ \b\b- \b\b\\ \b\b| \b\b/ \b\b- \b\b\\ \b\b| \b\b/ \b\b- \b\b\\ \b\b| \b\b/ \b\b- \b\b\\ \b\b| \b\b/ \b\b- \b\b\\ \b\b| \b\b/ \b\b- \b\b\\ \b\b| \b\b/ \b\b- \b\b\\ \b\b| \b\b/ \b\b- \b\b\\ \b\b| \b\b/ \b\b- \b\b\\ \b\b| \b\b/ \b\b- \b\b\\ \b\b| \b\b/ \b\b- \b\b\\ \b\b| \b\b/ \b\b- \b\b\\ \b\b| \b\b/ \b\b- \b\b\\ \b\b| \b\b/ \b\b- \b\b\\ \b\b| \b\b/ \b\b- \b\b\\ \b\b| \b\b/ \b\b- \b\b\\ \b\b| \b\b/ \b\b- \b\b\\ \b\b| \b\b/ \b\b- \b\b\\ \b\b| \b\b/ \b\b- \b\b\\ \b\b| \b\b/ \b\b- \b\b\\ \b\b| \b\b/ \b\b- \b\b\\ \b\b| \b\b/ \b\b- \b\b\\ \b\b| \b\b/ \b\b- \b\b\\ \b\b| \b\b/ \b\b- \b\b\\ \b\b| \b\b/ \b\b- \b\b\\ \b\b| \b\b/ \b\b- \b\b\\ \b\b| \b\b/ \b\b- \b\b\\ \b\b| \b\b/ \b\b- \b\b\\ \b\b| \b\b/ \b\b- \b\b\\ \b\b| \b\b/ \b\b- \b\b\\ \b\b| \b\b/ \b\b- \b\b\\ \b\b| \b\b/ \b\b- \b\b\\ \b\b| \b\b/ \b\b- \b\b\\ \b\b| \b\b/ \b\b- \b\b\\ \b\b| \b\b/ \b\b- \b\b\\ \b\b| \b\b/ \b\b- \b\b\\ \b\b| \b\b/ \b\b- \b\b\\ \b\b| \b\b/ \b\b- \b\b\\ \b\b| \b\b/ \b\b- \b\b\\ \b\b| \b\b/ \b\b- \b\b\\ \b\b| \b\b/ \b\b- \b\b\\ \b\b| \b\b/ \b\b- \b\b\\ \b\b| \b\b/ \b\b- \b\b\\ \b\b| \b\b/ \b\b- \b\b\\ \b\b| \b\b/ \b\b- \b\b\\ \b\b| \b\b/ \b\b- \b\b\\ \b\b| \b\b/ \b\b- \b\b\\ \b\b| \b\b/ \b\b- \b\b\\ \b\b| \b\b/ \b\b- \b\b\\ \b\b| \b\b/ \b\b- \b\b\\ \b\b| \b\b/ \b\b- \b\b\\ \b\b| \b\b/ \b\b- \b\b\\ \b\b| \b\b/ \b\b- \b\b\\ \b\b| \b\b/ \b\b- \b\b\\ \b\b| \b\b/ \b\b- \b\b\\ \b\b| \b\b/ \b\b- \b\b\\ \b\b| \b\b/ \b\b- \b\b\\ \b\b| \b\b/ \b\b- \b\b\\ \b\b| \b\b/ \b\b- \b\b\\ \b\b| \b\b/ \b\b- \b\b\\ \b\b| \b\b/ \b\b- \b\b\\ \b\b| \b\b/ \b\b- \b\b\\ \b\b| \b\b/ \b\b- \b\b\\ \b\b| \b\b/ \b\b- \b\b\\ \b\b| \b\b/ \b\b- \b\b\\ \b\b| \b\b/ \b\b- \b\b\\ \b\b| \b\b/ \b\b- \b\b\\ \b\b| \b\b/ \b\b- \b\b\\ \b\b| \b\b/ \b\b- \b\b\\ \b\b| \b\b/ \b\b- \b\b\\ \b\b| \b\b/ \b\b- \b\b\\ \b\b| \b\b/ \b\b- \b\b\\ \b\b| \b\b/ \b\b- \b\b\\ \b\b| \b\b/ \b\b- \b\b\\ \b\b| \b\b/ \b\b- \b\b\\ \b\b| \b\b/ \b\b- \b\b\\ \b\b| \b\b/ \b\b- \b\b\\ \b\b| \b\b/ \b\b- \b\b\\ \b\b| \b\b/ \b\b- \b\b\\ \b\b| \b\b/ \b\b- \b\b\\ \b\b| \b\b/ \b\b- \b\b\\ \b\b| \b\b/ \b\b- \b\b\\ \b\b| \b\b/ \b\b- \b\b\\ \b\b| \b\b/ \b\b- \b\b\\ \b\b| \b\b/ \b\b- \b\b\\ \b\b| \b\b/ \b\b- \b\b\\ \b\b| \b\b/ \b\b- \b\b\\ \b\b| \b\b/ \b\b- \b\b\\ \b\b| \b\b/ \b\b- \b\b\\ \b\b| \b\b/ \b\b- \b\b\\ \b\b| \b\b/ \b\b- \b\b\\ \b\b| \b\b/ \b\b- \b\b\\ \b\b| \b\b/ \b\b- \b\b\\ \b\b| \b\b/ \b\b- \b\b\\ \b\b| \b\b/ \b\b- \b\b\\ \b\b| \b\b/ \b\b- \b\b\\ \b\b| \b\b/ \b\b- \b\b\\ \b\b| \b\b/ \b\b- \b\b\\ \b\b| \b\b/ \b\b- \b\b\\ \b\b| \b\b/ \b\b- \b\b\\ \b\b| \b\b/ \b\b- \b\b\\ \b\b| \b\b/ \b\b- \b\b\\ \b\b| \b\b/ \b\b- \b\b\\ \b\b| \b\b/ \b\b- \b\b\\ \b\b| \b\b/ \b\b- \b\b\\ \b\b| \b\b/ \b\b- \b\b\\ \b\b| \b\b/ \b\b- \b\b\\ \b\b| \b\b/ \b\b- \b\b\\ \b\b| \b\b/ \b\b- \b\b\\ \b\b| \b\b/ \b\b- \b\b\\ \b\b| \b\b/ \b\b- \b\b\\ \b\b| \b\b/ \b\b- \b\b\\ \b\b| \b\b/ \b\b- \b\b\\ \b\b| \b\b/ \b\b- \b\b\\ \b\b| \b\b/ \b\b- \b\b\\ \b\b| \b\b/ \b\b- \b\b\\ \b\b| \b\b/ \b\b- \b\b\\ \b\b| \b\b/ \b\b- \b\b\\ \b\b| \b\b/ \b\b- \b\b\\ \b\b| \b\b/ \b\b- \b\b\\ \b\b| \b\b/ \b\b- \b\b\\ \b\b| \b\b/ \b\b- \b\b\\ \b\b| \b\b/ \b\b- \b\b\\ \b\b| \b\b/ \b\b- \b\b\\ \b\b| \b\b/ \b\b- \b\b\\ \b\b| \b\b/ \b\b- \b\b\\ \b\b| \b\b/ \b\b- \b\b\\ \b\b| \b\b/ \b\b- \b\b\\ \b\b| \b\b/ \b\b- \b\b\\ \b\b| \b\b/ \b\b- \b\b\\ \b\b| \b\b/ \b\b- \b\b\\ \b\b| \b\b/ \b\b- \b\b\\ \b\b| \b\b/ \b\b- \b\b\\ \b\b| \b\b/ \b\b- \b\b\\ \b\b| \b\b/ \b\b- \b\b\\ \b\b| \b\b/ \b\b- \b\b\\ \b\b| \b\b/ \b\b- \b\b\\ \b\b| \b\b/ \b\b- \b\b\\ \b\b| \b\b/ \b\b- \b\b\\ \b\b| \b\b/ \b\b- \b\b\\ \b\b| \b\b/ \b\b- \b\b\\ \b\b| \b\b/ \b\b- \b\b\\ \b\b| \b\b/ \b\b- \b\b\\ \b\b| \b\b/ \b\b- \b\b\\ \b\b| \b\b/ \b\b- \b\b\\ \b\b| \b\b/ \b\b- \b\b\\ \b\b| \b\b/ \b\b- \b\b\\ \b\b| \b\b/ \b\b- \b\b\\ \b\b| \b\b/ \b\b- \b\b\\ \b\b| \b\b/ \b\b- \b\b\\ \b\b| \b\b/ \b\b- \b\b\\ \b\b| \b\b/ \b\b- \b\b\\ \b\b| \b\b/ \b\b- \b\b\\ \b\b| \b\b/ \b\b- \b\b\\ \b\b| \b\b/ \b\b- \b\b\\ \b\b| \b\b/ \b\b- \b\b\\ \b\b| \b\b/ \b\b- \b\b\\ \b\b| \b\b/ \b\b- \b\b\\ \b\b| \b\b/ \b\b- \b\b\\ \b\b| \b\b/ \b\b- \b\b\\ \b\b| \b\b/ \b\b- \b\b\\ \b\b| \b\b/ \b\b- \b\b\\ \b\b| \b\b/ \b\b- \b\b\\ \b\b| \b\b/ \b\b- \b\b\\ \b\b| \b\b/ \b\b- \b\b\\ \b\b| \b\b/ \b\b- \b\b\\ \b\b| \b\b/ \b\b- \b\b\\ \b\b| \b\b/ \b\b- \b\b\\ \b\b| \b\b/ \b\b- \b\b\\ \b\b| \b\b/ \b\b- \b\b\\ \b\b| \b\b/ \b\b- \b\b\\ \b\b| \b\b/ \b\b- \b\b\\ \b\b| \b\b/ \b\b- \b\b\\ \b\b| \b\b/ \b\b- \b\b\\ \b\b| \b\b/ \b\b- \b\b\\ \b\b| \b\b/ \b\b- \b\b\\ \b\b| \b\b/ \b\b- \b\b\\ \b\b| \b\b/ \b\b- \b\b\\ \b\b| \b\b/ \b\b- \b\b\\ \b\b| \b\b/ \b\b- \b\b\\ \b\b| \b\b/ \b\b- \b\b\\ \b\b| \b\b/ \b\b- \b\b\\ \b\b| \b\b/ \b\b- \b\b\\ \b\b| \b\b/ \b\b- \b\b\\ \b\b| \b\b/ \b\b- \b\b\\ \b\b| \b\b/ \b\b- \b\b\\ \b\b| \b\b/ \b\b- \b\b\\ \b\b| \b\b/ \b\b- \b\b\\ \b\b| \b\b/ \b\b- \b\b\\ \b\b| \b\b/ \b\b- \b\b\\ \b\b| \b\b/ \b\b- \b\b\\ \b\b| \b\b/ \b\b- \b\b\\ \b\b| \b\b/ \b\b- \b\b\\ \b\b| \b\b/ \b\b- \b\b\\ \b\b| \b\b/ \b\b- \b\b\\ \b\b| \b\b/ \b\b- \b\b\\ \b\b| \b\b/ \b\b- \b\b\\ \b\b| \b\b/ \b\b- \b\b\\ \b\b| \b\b/ \b\b- \b\b\\ \b\b| \b\b/ \b\b- \b\b\\ \b\b| \b\b/ \b\b- \b\b\\ \b\b| \b\b/ \b\b- \b\b\\ \b\b| \b\b/ \b\b- \b\b\\ \b\b| \b\b/ \b\b- \b\b\\ \b\b| \b\b/ \b\b- \b\b\\ \b\b| \b\b/ \b\b- \b\b\\ \b\b| \b\b/ \b\b- \b\b\\ \b\b| \b\b/ \b\b- \b\b\\ \b\b| \b\b/ \b\b- \b\b\\ \b\b| \b\b/ \b\b- \b\b\\ \b\b| \b\b/ \b\b- \b\b\\ \b\b| \b\b/ \b\b- \b\b\\ \b\b| \b\b/ \b\b- \b\b\\ \b\b| \b\b/ \b\b- \b\b\\ \b\b| \b\b/ \b\b- \b\b\\ \b\b| \b\b/ \b\b- \b\b\\ \b\b| \b\b/ \b\b- \b\b\\ \b\b| \b\b/ \b\b- \b\b\\ \b\b| \b\b/ \b\b- \b\b\\ \b\b| \b\b/ \b\b- \b\b\\ \b\b| \b\b/ \b\b- \b\b\\ \b\b| \b\b/ \b\b- \b\b\\ \b\b| \b\b/ \b\b- \b\b\\ \b\b| \b\b/ \b\b- \b\b\\ \b\b| \b\b/ \b\b- \b\b\\ \b\b| \b\b/ \b\b- \b\b\\ \b\b| \b\b/ \b\b- \b\b\\ \b\b| \b\b/ \b\b- \b\b\\ \b\b| \b\b/ \b\b- \b\b\\ \b\b| \b\b/ \b\b- \b\b\\ \b\b| \b\b/ \b\b- \b\b\\ \b\b| \b\b/ \b\b- \b\b\\ \b\b| \b\b/ \b\b- \b\b\\ \b\b| \b\b/ \b\b- \b\b\\ \b\b| \b\b/ \b\b- \b\b\\ \b\b| \b\b/ \b\b- \b\b\\ \b\b| \b\b/ \b\b- \b\b\\ \b\b| \b\b/ \b\b- \b\b\\ \b\b| \b\b/ \b\b- \b\b\\ \b\b| \b\b/ \b\b- \b\b\\ \b\b| \b\b/ \b\b- \b\b\\ \b\b| \b\b/ \b\b- \b\b\\ \b\b| \b\b/ \b\b- \b\b\\ \b\b| \b\b/ \b\b- \b\b\\ \b\b| \b\b/ \b\b- \b\b\\ \b\b| \b\b/ \b\b- \b\b\\ \b\b| \b\b/ \b\b- \b\b\\ \b\b| \b\b/ \b\b- \b\b\\ \b\b| \b\b/ \b\b- \b\b\\ \b\b| \b\b/ \b\b- \b\b\\ \b\b| \b\b/ \b\b- \b\b\\ \b\b| \b\b/ \b\b- \b\b\\ \b\b| \b\b/ \b\b- \b\b\\ \b\b| \b\b/ \b\b- \b\b\\ \b\b| \b\b/ \b\b- \b\b\\ \b\b| \b\b/ \b\b- \b\b\\ \b\b| \b\b/ \b\b- \b\b\\ \b\b| \b\b/ \b\b- \b\b\\ \b\b| \b\b/ \b\b- \b\b\\ \b\b| \b\b/ \b\b- \b\b\\ \b\b| \b\b/ \b\b- \b\b\\ \b\b| \b\b/ \b\b- \b\b\\ \b\b| \b\b/ \b\b- \b\b\\ \b\b| \b\b/ \b\b- \b\b\\ \b\b| \b\b/ \b\b- \b\b\\ \b\b| \b\b/ \b\b- \b\b\\ \b\b| \b\b/ \b\b- \b\b\\ \b\b| \b\b/ \b\b- \b\b\\ \b\b| \b\b/ \b\b- \b\b\\ \b\b| \b\b/ \b\b- \b\b\\ \b\b| \b\b/ \b\b- \b\b\\ \b\b| \b\b/ \b\b- \b\b\\ \b\b| \b\b/ \b\b- \b\b\\ \b\b| \b\b/ \b\b- \b\b\\ \b\b| \b\b/ \b\b- \b\b\\ \b\b| \b\b/ \b\b- \b\b\\ \b\b| \b\b/ \b\b- \b\b\\ \b\b| \b\b/ \b\b- \b\b\\ \b\b| \b\b/ \b\b- \b\b\\ \b\b| \b\b/ \b\b- \b\b\\ \b\b| \b\b/ \b\b- \b\b\\ \b\b| \b\b/ \b\b- \b\b\\ \b\b| \b\b/ \b\b- \b\b\\ \b\b| \b\b/ \b\b- \b\b\\ \b\b| \b\b/ \b\b- \b\b\\ \b\b| \b\b/ \b\b- \b\b\\ \b\b| \b\b/ \b\b- \b\b\\ \b\b| \b\b/ \b\b- \b\b\\ \b\b| \b\b/ \b\b- \b\b\\ \b\b| \b\b/ \b\b- \b\b\\ \b\b| \b\b/ \b\b- \b\b\\ \b\b| \b\b/ \b\b- \b\b\\ \b\b| \b\b/ \b\b- \b\b\\ \b\b| \b\b/ \b\b- \b\b\\ \b\b| \b\b/ \b\b- \b\b\\ \b\b| \b\b/ \b\b- \b\b\\ \b\b| \b\b/ \b\b- \b\b\\ \b\b| \b\b/ \b\b- \b\b\\ \b\b| \b\b/ \b\b- \b\b\\ \b\b| \b\b/ \b\b- \b\b\\ \b\b| \b\b/ \b\b- \b\b\\ \b\b| \b\b/ \b\b- \b\b\\ \b\b| \b\b/ \b\b- \b\b\\ \b\b| \b\b/ \b\b- \b\b\\ \b\b| \b\b/ \b\b- \b\b\\ \b\b| \b\b/ \b\b- \b\b\\ \b\b| \b\b/ \b\b- \b\b\\ \b\b| \b\b/ \b\b- \b\b\\ \b\b| \b\b/ \b\b- \b\b\\ \b\b| \b\b/ \b\b- \b\b\\ \b\b| \b\b/ \b\b- \b\b\\ \b\b| \b\b/ \b\b- \b\b\\ \b\b| \b\b/ \b\b- \b\b\\ \b\b| \b\b/ \b\b- \b\b\\ \b\b| \b\b/ \b\b- \b\b\\ \b\b| \b\b/ \b\b- \b\b\\ \b\b| \b\b/ \b\b- \b\b\\ \b\b| \b\b/ \b\b- \b\b\\ \b\b| \b\b/ \b\b- \b\b\\ \b\b| \b\b/ \b\b- \b\b\\ \b\b| \b\b/ \b\b- \b\b\\ \b\b| \b\b/ \b\b- \b\b\\ \b\b| \b\b/ \b\b- \b\b\\ \b\b| \b\b/ \b\b- \b\b\\ \b\b| \b\b/ \b\b- \b\b\\ \b\b| \b\b/ \b\b- \b\b\\ \b\b| \b\b/ \b\b- \b\b\\ \b\b| \b\b/ \b\b- \b\b\\ \b\b| \b\b/ \b\b- \b\b\\ \b\b| \b\b/ \b\b- \b\b\\ \b\b| \b\b/ \b\b- \b\b\\ \b\b| \b\b/ \b\b- \b\b\\ \b\b| \b\b/ \b\b- \b\b\\ \b\b| \b\b/ \b\b- \b\b\\ \b\b| \b\b/ \b\b- \b\b\\ \b\b| \b\b/ \b\b- \b\b\\ \b\b| \b\b/ \b\b- \b\b\\ \b\b| \b\b/ \b\b- \b\b\\ \b\b| \b\b/ \b\b- \b\b\\ \b\b| \b\b/ \b\b- \b\b\\ \b\b| \b\b/ \b\b- \b\b\\ \b\b| \b\b/ \b\b- \b\b\\ \b\b| \b\b/ \b\b- \b\b\\ \b\b| \b\b/ \b\b- \b\b\\ \b\b| \b\b/ \b\b- \b\b\\ \b\b| \b\b/ \b\b- \b\b\\ \b\b| \b\b/ \b\b- \b\b\\ \b\b| \b\b/ \b\b- \b\b\\ \b\b| \b\b/ \b\b- \b\b\\ \b\b| \b\b/ \b\b- \b\b\\ \b\b| \b\b/ \b\b- \b\b\\ \b\b| \b\b/ \b\b- \b\b\\ \b\b| \b\b/ \b\b- \b\b\\ \b\b| \b\b/ \b\b- \b\b\\ \b\b| \b\b/ \b\b- \b\b\\ \b\b| \b\b/ \b\b- \b\b\\ \b\b| \b\b/ \b\b- \b\b\\ \b\b| \b\b/ \b\b- \b\b\\ \b\b| \b\b/ \b\b- \b\b\\ \b\b| \b\b/ \b\b- \b\b\\ \b\b| \b\b/ \b\b- \b\b\\ \b\b| \b\b/ \b\b- \b\b\\ \b\b| \b\b/ \b\b- \b\b\\ \b\b| \b\b/ \b\b- \b\b\\ \b\b| \b\b/ \b\b- \b\b\\ \b\b| \b\b/ \b\b- \b\b\\ \b\b| \b\b/ \b\b- \b\b\\ \b\b| \b\b/ \b\b- \b\b\\ \b\b| \b\b/ \b\b- \b\b\\ \b\b| \b\b/ \b\b- \b\b\\ \b\b| \b\b/ \b\b- \b\b\\ \b\b| \b\b/ \b\b- \b\b\\ \b\b| \b\b/ \b\b- \b\b\\ \b\b| \b\b/ \b\b- \b\b\\ \b\b| \b\b/ \b\b- \b\b\\ \b\b| \b\b/ \b\b- \b\b\\ \b\b| \b\b/ \b\b- \b\b\\ \b\b| \b\b/ \b\b- \b\b\\ \b\b| \b\b/ \b\b- \b\b\\ \b\b| \b\b/ \b\b- \b\b\\ \b\b| \b\b/ \b\b- \b\b\\ \b\b| \b\b/ \b\b- \b\b\\ \b\b| \b\b/ \b\b- \b\b\\ \b\b| \b\b/ \b\b- \b\b\\ \b\b| \b\b/ \b\b- \b\b\\ \b\b| \b\b/ \b\b- \b\b\\ \b\b| \b\b/ \b\b- \b\b\\ \b\b| \b\b/ \b\b- \b\b\\ \b\b| \b\b/ \b\b- \b\b\\ \b\b| \b\b/ \b\b- \b\b\\ \b\b| \b\b/ \b\b- \b\b\\ \b\b| \b\b/ \b\b- \b\b\\ \b\b| \b\b/ \b\b- \b\b\\ \b\b| \b\b/ \b\b- \b\b\\ \b\b| \b\b/ \b\b- \b\b\\ \b\b| \b\b/ \b\b- \b\b\\ \b\b| \b\b/ \b\b- \b\b\\ \b\b| \b\b/ \b\b- \b\b\\ \b\b| \b\b/ \b\b- \b\b\\ \b\b| \b\b/ \b\b- \b\b\\ \b\b| \b\b/ \b\b- \b\b\\ \b\b| \b\b/ \b\b- \b\b\\ \b\b| \b\b/ \b\b- \b\b\\ \b\b| \b\b/ \b\b- \b\b\\ \b\b| \b\b/ \b\b- \b\b\\ \b\b| \b\b/ \b\b- \b\b\\ \b\b| \b\b/ \b\b- \b\b\\ \b\b| \b\b/ \b\b- \b\b\\ \b\b| \b\b/ \b\b- \b\b\\ \b\b| \b\b/ \b\b- \b\b\\ \b\b| \b\b/ \b\b- \b\b\\ \b\b| \b\b/ \b\b- \b\b\\ \b\b| \b\b/ \b\b- \b\b\\ \b\b| \b\b/ \b\b- \b\b\\ \b\b| \b\b/ \b\b- \b\b\\ \b\b| \b\b/ \b\b- \b\b\\ \b\b| \b\b/ \b\b- \b\b\\ \b\b| \b\b/ \b\b- \b\b\\ \b\b| \b\b/ \b\b- \b\b\\ \b\b| \b\b/ \b\b- \b\b\\ \b\b| \b\b/ \b\b- \b\b\\ \b\b| \b\b/ \b\b- \b\b\\ \b\b| \b\b/ \b\b- \b\b\\ \b\b| \b\b/ \b\b- \b\b\\ \b\b| \b\b/ \b\b- \b\b\\ \b\b| \b\b/ \b\b- \b\b\\ \b\b| \b\b/ \b\b- \b\b\\ \b\b| \b\b/ \b\b- \b\b\\ \b\b| \b\b/ \b\b- \b\b\\ \b\b| \b\b/ \b\b- \b\b\\ \b\b| \b\b/ \b\b- \b\b\\ \b\b| \b\b/ \b\b- \b\b\\ \b\b| \b\b/ \b\b- \b\b\\ \b\b| \b\b/ \b\b- \b\b\\ \b\b| \b\b/ \b\b- \b\b\\ \b\b| \b\b/ \b\b- \b\b\\ \b\b| \b\b/ \b\b- \b\b\\ \b\b| \b\b/ \b\b- \b\b\\ \b\b| \b\b/ \b\b- \b\b\\ \b\b| \b\b/ \b\b- \b\b\\ \b\b| \b\b/ \b\b- \b\b\\ \b\b| \b\b/ \b\b- \b\b\\ \b\b| \b\b/ \b\b- \b\b\\ \b\b| \b\b/ \b\b- \b\b\\ \b\b| \b\b/ \b\b- \b\b\\ \b\b| \b\b/ \b\b- \b\b\\ \b\b| \b\b/ \b\b- \b\b\\ \b\b| \b\b/ \b\b- \b\b\\ \b\b| \b\b/ \b\b- \b\b\\ \b\b| \b\b/ \b\b- \b\b\\ \b\b| \b\b/ \b\b- \b\b\\ \b\b| \b\b/ \b\b- \b\b\\ \b\b| \b\b/ \b\b- \b\b\\ \b\b| \b\b/ \b\b- \b\b\\ \b\b| \b\b/ \b\b- \b\b\\ \b\b| \b\b/ \b\b- \b\b\\ \b\b| \b\b/ \b\b- \b\b\\ \b\b| \b\b/ \b\b- \b\b\\ \b\b| \b\b/ \b\b- \b\b\\ \b\b| \b\b/ \b\b- \b\b\\ \b\b| \b\b/ \b\b- \b\b\\ \b\b| \b\b/ \b\bdone\n",
            "\n",
            "\n",
            "==> WARNING: A newer version of conda exists. <==\n",
            "  current version: 4.5.4\n",
            "  latest version: 4.11.0\n",
            "\n",
            "Please update conda by running\n",
            "\n",
            "    $ conda update -n base conda\n",
            "\n",
            "\n",
            "\n",
            "Downloading and Extracting Packages\n",
            "rhash-1.4.1          |  192 KB | : 100% 1.0/1 [00:00<00:00,  5.00it/s]                \n",
            "libnghttp2-1.43.0    |  790 KB | : 100% 1.0/1 [00:00<00:00,  4.02it/s]               \n",
            "matplotlib-inline-0. |   11 KB | : 100% 1.0/1 [00:00<00:00, 18.81it/s]\n",
            "ipywidgets-7.6.5     |  101 KB | : 100% 1.0/1 [00:00<00:00, 10.69it/s]\n",
            "jedi-0.18.1          | 1016 KB | : 100% 1.0/1 [00:01<00:00,  1.09s/it]               \n",
            "pthread-stubs-0.4    |    5 KB | : 100% 1.0/1 [00:00<00:00, 20.14it/s]\n",
            "libxcb-1.13          |  391 KB | : 100% 1.0/1 [00:00<00:00,  3.81it/s]               \n",
            "matplotlib-3.5.1     |    6 KB | : 100% 1.0/1 [00:00<00:00, 20.99it/s]\n",
            "backcall-0.2.0       |   13 KB | : 100% 1.0/1 [00:00<00:00, 19.87it/s]\n",
            "libgomp-11.2.0       |  427 KB | : 100% 1.0/1 [00:00<00:00,  7.66it/s]              \n",
            "_openmp_mutex-4.5    |   22 KB | : 100% 1.0/1 [00:00<00:00, 17.41it/s]\n",
            "fontconfig-2.13.1    |  357 KB | : 100% 1.0/1 [00:00<00:00,  6.66it/s]               \n",
            "setuptools-60.0.3    |  1.0 MB | : 100% 1.0/1 [00:00<00:00,  1.94it/s]               \n",
            "pyzmq-22.3.0         |  1.5 MB | : 100% 1.0/1 [00:00<00:00,  2.19it/s]               \n",
            "libuv-1.42.0         |  1.0 MB | : 100% 1.0/1 [00:00<00:00,  4.43it/s]               \n",
            "libstdcxx-devel_linu |  9.9 MB | : 100% 1.0/1 [00:02<00:00,  2.44s/it]               \n",
            "libnsl-2.0.0         |   31 KB | : 100% 1.0/1 [00:00<00:00, 17.40it/s]\n",
            "c-compiler-1.3.0     |    5 KB | : 100% 1.0/1 [00:00<00:00, 22.15it/s]\n",
            "jinja2-3.0.3         |   99 KB | : 100% 1.0/1 [00:00<00:00, 12.34it/s]\n",
            "lz4-c-1.9.3          |  179 KB | : 100% 1.0/1 [00:00<00:00, 10.24it/s]\n",
            "ld_impl_linux-64-2.3 |  667 KB | : 100% 1.0/1 [00:00<00:00,  4.46it/s]               \n",
            "ca-certificates-2021 |  139 KB | : 100% 1.0/1 [00:00<00:00, 15.46it/s]\n",
            "jupyter_core-4.9.1   |   80 KB | : 100% 1.0/1 [00:00<00:00, 10.74it/s]\n",
            "olefile-0.46         |   32 KB | : 100% 1.0/1 [00:00<00:00, 18.79it/s]\n",
            "pyqtchart-5.12       |  254 KB | : 100% 1.0/1 [00:00<00:00,  6.73it/s]               \n",
            "nbformat-5.1.3       |   47 KB | : 100% 1.0/1 [00:00<00:00,  9.80it/s]\n",
            "libblas-3.9.0        |   12 KB | : 100% 1.0/1 [00:00<00:00, 19.80it/s]\n",
            "libgcc-ng-11.2.0     |  887 KB | : 100% 1.0/1 [00:00<00:00,  4.62it/s]               \n",
            "pandoc-2.16.2        | 12.6 MB | : 100% 1.0/1 [00:04<00:00,  4.21s/it]               \n",
            "pyqt5-sip-4.19.18    |  312 KB | : 100% 1.0/1 [00:00<00:00,  8.54it/s]\n",
            "pip-21.3.1           |  1.2 MB | : 100% 1.0/1 [00:00<00:00,  1.88it/s]               \n",
            "idna-3.1             |   52 KB | : 100% 1.0/1 [00:00<00:00, 18.39it/s]\n",
            "libbrotlicommon-1.0. |   65 KB | : 100% 1.0/1 [00:00<00:00, 11.85it/s]\n",
            "parso-0.8.3          |   69 KB | : 100% 1.0/1 [00:00<00:00, 13.72it/s]\n",
            "packaging-21.3       |   36 KB | : 100% 1.0/1 [00:00<00:00, 17.70it/s]\n",
            "fortran-compiler-1.3 |    5 KB | : 100% 1.0/1 [00:00<00:00, 22.95it/s]\n",
            "jupyterlab_widgets-1 |  130 KB | : 100% 1.0/1 [00:00<00:00,  7.73it/s]\n",
            "gxx_linux-64-9.4.0   |   24 KB | : 100% 1.0/1 [00:00<00:00, 13.13it/s]\n",
            "dbus-1.13.6          |  572 KB | : 100% 1.0/1 [00:00<00:00,  5.14it/s]               \n",
            "libwebp-base-1.2.1   |  845 KB | : 100% 1.0/1 [00:00<00:00,  3.82it/s]               \n",
            "snappy-1.1.8         |   32 KB | : 100% 1.0/1 [00:00<00:00, 17.20it/s]\n",
            "statsmodels-0.13.1   | 25.0 MB | : 100% 1.0/1 [00:06<00:00,  6.96s/it]              \n",
            "freetype-2.10.4      |  890 KB | : 100% 1.0/1 [00:00<00:00,  3.53it/s]               \n",
            "pycparser-2.21       |  100 KB | : 100% 1.0/1 [00:00<00:00,  7.13it/s]\n",
            "expat-2.4.2          |  182 KB | : 100% 1.0/1 [00:00<00:00, 10.97it/s]\n",
            "krb5-1.19.2          |  1.4 MB | : 100% 1.0/1 [00:00<00:00,  2.24it/s]               \n",
            "libgfortran5-11.2.0  |  1.7 MB | : 100% 1.0/1 [00:00<00:00,  2.19it/s]               \n",
            "libopus-1.3.1        |  255 KB | : 100% 1.0/1 [00:00<00:00, 11.61it/s]\n",
            "nest-asyncio-1.5.4   |    9 KB | : 100% 1.0/1 [00:00<00:00, 13.74it/s]\n",
            "prometheus_client-0. |   47 KB | : 100% 1.0/1 [00:00<00:00, 14.82it/s]\n",
            "bzip2-1.0.8          |  484 KB | : 100% 1.0/1 [00:00<00:00,  5.17it/s]               \n",
            "fonttools-4.28.5     |  1.8 MB | : 100% 1.0/1 [00:00<00:00,  1.29it/s]               \n",
            "c-ares-1.18.1        |  113 KB | : 100% 1.0/1 [00:00<00:00, 10.40it/s]\n",
            "zstd-1.5.0           |  490 KB | : 100% 1.0/1 [00:00<00:00,  6.46it/s]               \n",
            "tornado-6.1          |  667 KB | : 100% 1.0/1 [00:00<00:00,  2.91it/s]               \n",
            "gxx_impl_linux-64-9. | 10.6 MB | : 100% 1.0/1 [00:02<00:00,  2.64s/it]               \n",
            "six-1.16.0           |   14 KB | : 100% 1.0/1 [00:00<00:00, 22.27it/s]\n",
            "libsodium-1.0.18     |  366 KB | : 100% 1.0/1 [00:00<00:00,  6.50it/s]               \n",
            "nbconvert-6.3.0      |  553 KB | : 100% 1.0/1 [00:00<00:00,  3.03it/s]               \n",
            "kiwisolver-1.3.2     |  1.2 MB | : 100% 1.0/1 [00:00<00:00,  2.92it/s]               \n",
            "matplotlib-base-3.5. |  7.5 MB | : 100% 1.0/1 [00:02<00:00,  2.18s/it]               \n",
            "pyrsistent-0.18.0    |  128 KB | : 100% 1.0/1 [00:00<00:00, 11.53it/s]\n",
            "terminado-0.12.1     |   28 KB | : 100% 1.0/1 [00:00<00:00, 17.31it/s]\n",
            "mistune-0.8.4        |   54 KB | : 100% 1.0/1 [00:00<00:00,  9.30it/s]\n",
            "pyqtwebengine-5.12.1 |  175 KB | : 100% 1.0/1 [00:00<00:00,  8.80it/s]\n",
            "libgfortran-ng-11.2. |   19 KB | : 100% 1.0/1 [00:00<00:00, 16.96it/s]\n",
            "backports.functools_ |    9 KB | : 100% 1.0/1 [00:00<00:00, 23.99it/s]\n",
            "libopenblas-0.3.18   |  9.6 MB | : 100% 1.0/1 [00:02<00:00,  2.41s/it]               \n",
            "libpng-1.6.37        |  306 KB | : 100% 1.0/1 [00:00<00:00,  7.64it/s]               \n",
            "python-3.10.1        | 29.8 MB | : 100% 1.0/1 [00:07<00:00,  7.83s/it]               \n",
            "jbig-2.1             |   43 KB | : 100% 1.0/1 [00:00<00:00, 11.81it/s]\n",
            "xorg-libxdmcp-1.1.3  |   19 KB | : 100% 1.0/1 [00:00<00:00, 12.29it/s]\n",
            "ocl-icd-2.3.1        |  119 KB | : 100% 1.0/1 [00:00<00:00,  9.96it/s]\n",
            "gfortran-9.4.0       |   23 KB | : 100% 1.0/1 [00:00<00:00, 13.71it/s]\n",
            "pandocfilters-1.5.0  |   11 KB | : 100% 1.0/1 [00:00<00:00, 18.61it/s]\n",
            "gcc_impl_linux-64-9. | 45.6 MB | : 100% 1.0/1 [00:10<00:00, 10.60s/it]               \n",
            "pillow-8.4.0         |  1.4 MB | : 100% 1.0/1 [00:00<00:00,  1.80it/s]               \n",
            "glib-tools-2.70.2    |  106 KB | : 100% 1.0/1 [00:00<00:00, 14.10it/s]\n",
            "lzo-2.10             |  314 KB | : 100% 1.0/1 [00:00<00:00,  6.92it/s]              \n",
            "gstreamer-1.18.5     |  2.0 MB | : 100% 1.0/1 [00:00<00:00,  1.30it/s]               \n",
            "numpy-1.21.4         | 18.3 MB | : 100% 1.0/1 [00:05<00:00,  5.20s/it]              \n",
            "attrs-21.2.0         |   44 KB | : 100% 1.0/1 [00:00<00:00, 15.18it/s]\n",
            "charset-normalizer-2 |   34 KB | : 100% 1.0/1 [00:00<00:00,  9.55it/s]\n",
            "importlib_resources- |   21 KB | : 100% 1.0/1 [00:00<00:00, 13.64it/s]\n",
            "binutils-2.36.1      |   27 KB | : 100% 1.0/1 [00:00<00:00, 19.06it/s]\n",
            "libglib-2.70.2       |  3.1 MB | : 100% 1.0/1 [00:00<00:00,  1.03it/s]               \n",
            "pyqt-impl-5.12.3     |  5.9 MB | : 100% 1.0/1 [00:01<00:00,  1.99s/it]               \n",
            "libclang-11.1.0      | 19.2 MB | : 100% 1.0/1 [00:04<00:00,  4.71s/it]               \n",
            "gst-plugins-base-1.1 |  2.6 MB | : 100% 1.0/1 [00:00<00:00,  1.06it/s]               \n",
            "binutils_linux-64-2. |   23 KB | : 100% 1.0/1 [00:00<00:00, 16.40it/s]\n",
            "requests-2.26.0      |   52 KB | : 100% 1.0/1 [00:00<00:00, 14.11it/s]\n",
            "pygments-2.10.0      |  760 KB | : 100% 1.0/1 [00:00<00:00,  2.44it/s]              \n",
            "pickleshare-0.7.5    |    9 KB | : 100% 1.0/1 [00:00<00:00, 14.25it/s]\n",
            "libllvm11-11.1.0     | 29.1 MB | : 100% 1.0/1 [00:06<00:00,  6.79s/it]              \n",
            "nss-3.73             |  2.1 MB | : 100% 1.0/1 [00:00<00:00,  1.58it/s]              \n",
            "hdf5-1.12.1          |  3.6 MB | : 100% 1.0/1 [00:00<00:00,  1.04it/s]               \n",
            "cffi-1.15.0          |  433 KB | : 100% 1.0/1 [00:00<00:00,  6.42it/s]               \n",
            "patsy-0.5.2          |  188 KB | : 100% 1.0/1 [00:00<00:00,  9.97it/s]\n",
            "urllib3-1.26.7       |  100 KB | : 100% 1.0/1 [00:00<00:00, 10.48it/s]\n",
            "python_abi-3.10      |    4 KB | : 100% 1.0/1 [00:00<00:00, 20.00it/s]\n",
            "_libgcc_mutex-0.1    |    3 KB | : 100% 1.0/1 [00:00<00:00, 26.39it/s]\n",
            "ptyprocess-0.7.0     |   16 KB | : 100% 1.0/1 [00:00<00:00, 20.02it/s]\n",
            "gettext-0.19.8.1     |  3.6 MB | : 100% 1.0/1 [00:01<00:00,  1.63s/it]               \n",
            "libxkbcommon-1.0.3   |  581 KB | : 100% 1.0/1 [00:00<00:00,  4.59it/s]               \n",
            "ipython-7.30.1       |  1.1 MB | : 100% 1.0/1 [00:00<00:00,  1.56it/s]               \n",
            "markupsafe-2.0.1     |   38 KB | : 100% 1.0/1 [00:00<00:00, 17.54it/s]\n",
            "libdeflate-1.8       |   67 KB | : 100% 1.0/1 [00:00<00:00, 16.80it/s]\n",
            "munkres-1.0.7        |   10 KB | : 100% 1.0/1 [00:00<00:00, 23.51it/s]\n",
            "xorg-libxau-1.0.9    |   13 KB | : 100% 1.0/1 [00:00<00:00, 22.15it/s]\n",
            "lerc-3.0             |  216 KB | : 100% 1.0/1 [00:00<00:00, 10.67it/s]\n",
            "jpeg-9d              |  264 KB | : 100% 1.0/1 [00:00<00:00,  8.33it/s]\n",
            "send2trash-1.8.0     |   17 KB | : 100% 1.0/1 [00:00<00:00, 19.77it/s]\n",
            "brotli-1.0.9         |   18 KB | : 100% 1.0/1 [00:00<00:00, 15.20it/s]\n",
            "entrypoints-0.3      |    8 KB | : 100% 1.0/1 [00:00<00:00, 20.41it/s]\n",
            "pandas-1.3.5         | 44.5 MB | : 100% 1.0/1 [00:12<00:00, 12.16s/it]               \n",
            "wcwidth-0.2.5        |   33 KB | : 100% 1.0/1 [00:00<00:00, 14.24it/s]\n",
            "libev-4.33           |  104 KB | : 100% 1.0/1 [00:00<00:00, 13.31it/s]\n",
            "ncurses-6.2          |  985 KB | : 100% 1.0/1 [00:01<00:00,  1.06s/it]              \n",
            "cxx-compiler-1.3.0   |    5 KB | : 100% 1.0/1 [00:00<00:00, 23.19it/s]\n",
            "nspr-4.32            |  233 KB | : 100% 1.0/1 [00:00<00:00,  7.90it/s]\n",
            "libevent-2.1.10      |  1.1 MB | : 100% 1.0/1 [00:00<00:00,  2.00it/s]               \n",
            "fftw-3.3.10          |  6.4 MB | : 100% 1.0/1 [00:01<00:00,  1.69s/it]              \n",
            "kernel-headers_linux |  707 KB | : 100% 1.0/1 [00:00<00:00,  2.03it/s]               \n",
            "notebook-6.4.6       |  6.2 MB | : 100% 1.0/1 [00:02<00:00,  2.26s/it]               \n",
            "mock-4.0.3           |   52 KB | : 100% 1.0/1 [00:00<00:00,  3.26it/s]                \n",
            "prompt-toolkit-3.0.2 |  249 KB | : 100% 1.0/1 [00:00<00:00,  4.24it/s]               \n",
            "certifi-2021.10.8    |  145 KB | : 100% 1.0/1 [00:00<00:00, 14.66it/s]\n",
            "zeromq-4.3.4         |  351 KB | : 100% 1.0/1 [00:00<00:00,  6.82it/s]               \n",
            "llvm-meta-7.0.0      |    2 KB | : 100% 1.0/1 [00:00<00:00, 19.72it/s]\n",
            "pyparsing-3.0.6      |   79 KB | : 100% 1.0/1 [00:00<00:00, 13.29it/s]\n",
            "libvorbis-1.3.7      |  280 KB | : 100% 1.0/1 [00:00<00:00,  9.81it/s]\n",
            "backports-1.0        |    4 KB | : 100% 1.0/1 [00:00<00:00, 21.55it/s]\n",
            "numexpr-2.8.0        |  418 KB | : 100% 1.0/1 [00:00<00:00,  5.79it/s]              \n",
            "scipy-1.7.3          | 78.6 MB | : 100% 1.0/1 [00:18<00:00, 111.38s/it]               \n",
            "ipython_genutils-0.2 |   21 KB | : 100% 1.0/1 [00:00<00:00, 15.21it/s]\n",
            "libgcc-devel_linux-6 |  4.0 MB | : 100% 1.0/1 [00:00<00:00,  1.31it/s]               \n",
            "jupyterlab_pygments- |    8 KB | : 100% 1.0/1 [00:00<00:00, 20.41it/s]\n",
            "tzdata-2021e         |  121 KB | : 100% 1.0/1 [00:00<00:00,  4.16it/s]\n",
            "libcurl-7.80.0       |  337 KB | : 100% 1.0/1 [00:00<00:00,  8.84it/s]\n",
            "libsanitizer-9.4.0   |  6.9 MB | : 100% 1.0/1 [00:01<00:00,  1.43s/it]               \n",
            "binutils_impl_linux- | 10.4 MB | : 100% 1.0/1 [00:02<00:00,  2.57s/it]              \n",
            "libhwloc-2.4.1       |  2.8 MB | : 100% 1.0/1 [00:01<00:00,  1.03s/it]             \n",
            "libpq-13.5           |  2.8 MB | : 100% 1.0/1 [00:01<00:00,  1.07s/it]               \n",
            "wheel-0.37.0         |   31 KB | : 100% 1.0/1 [00:00<00:00, 16.75it/s]\n",
            "libogg-1.3.4         |  206 KB | : 100% 1.0/1 [00:00<00:00,  9.44it/s]\n",
            "brotli-bin-1.0.9     |   19 KB | : 100% 1.0/1 [00:00<00:00, 21.18it/s]\n",
            "webencodings-0.5.1   |   12 KB | : 100% 1.0/1 [00:00<00:00, 17.12it/s]\n",
            "libiconv-1.16        |  1.4 MB | : 100% 1.0/1 [00:00<00:00,  3.41it/s]               \n",
            "importlib-metadata-4 |   33 KB | : 100% 1.0/1 [00:00<00:00, 17.47it/s]\n",
            "libcblas-3.9.0       |   12 KB | : 100% 1.0/1 [00:00<00:00, 14.74it/s]\n",
            "async_generator-1.10 |   18 KB | : 100% 1.0/1 [00:00<00:00, 14.11it/s]\n",
            "zipp-3.6.0           |   12 KB | : 100% 1.0/1 [00:00<00:00, 15.98it/s]\n",
            "defusedxml-0.7.1     |   23 KB | : 100% 1.0/1 [00:00<00:00, 19.12it/s]\n",
            "jsonschema-4.3.2     |   56 KB | : 100% 1.0/1 [00:00<00:00, 13.82it/s]\n",
            "mdtraj-1.9.7         |  8.1 MB | : 100% 1.0/1 [00:02<00:00,  2.26s/it]               \n",
            "libzlib-1.2.11       |   59 KB | : 100% 1.0/1 [00:00<00:00, 17.62it/s]\n",
            "libbrotlienc-1.0.9   |  286 KB | : 100% 1.0/1 [00:00<00:00,  9.22it/s]\n",
            "qt-5.12.9            | 99.5 MB | : 100% 1.0/1 [00:28<00:00, 28.85s/it]                \n",
            "seaborn-0.11.2       |    4 KB | : 100% 1.0/1 [00:00<00:00,  8.76it/s] \n",
            "liblapack-3.9.0      |   12 KB | : 100% 1.0/1 [00:00<00:00, 11.30it/s]\n",
            "mysql-common-8.0.27  |  1.8 MB | : 100% 1.0/1 [00:00<00:00,  1.29it/s]               \n",
            "openssl-1.1.1l       |  2.1 MB | : 100% 1.0/1 [00:00<00:00,  1.89it/s]               \n",
            "gfortran_linux-64-9. |   24 KB | : 100% 1.0/1 [00:00<00:00, 15.65it/s]\n",
            "pytz-2021.3          |  242 KB | : 100% 1.0/1 [00:00<00:00,  3.30it/s]               \n",
            "python-dateutil-2.8. |  240 KB | : 100% 1.0/1 [00:00<00:00,  9.92it/s]\n",
            "compilers-1.3.0      |    5 KB | : 100% 1.0/1 [00:00<00:00, 15.82it/s]\n",
            "decorator-5.1.0      |   11 KB | : 100% 1.0/1 [00:00<00:00, 13.69it/s]\n",
            "pyqt-5.12.3          |   22 KB | : 100% 1.0/1 [00:00<00:00, 16.74it/s]\n",
            "testpath-0.5.0       |   86 KB | : 100% 1.0/1 [00:00<00:00, 17.09it/s]\n",
            "seaborn-base-0.11.2  |  223 KB | : 100% 1.0/1 [00:00<00:00,  6.19it/s]               \n",
            "pyopenssl-21.0.0     |   48 KB | : 100% 1.0/1 [00:00<00:00, 14.50it/s]\n",
            "libffi-3.4.2         |   57 KB | : 100% 1.0/1 [00:00<00:00, 15.42it/s]\n",
            "tk-8.6.11            |  3.3 MB | : 100% 1.0/1 [00:00<00:00,  1.03it/s]               \n",
            "gcc-9.4.0            |   24 KB | : 100% 1.0/1 [00:00<00:00, 16.03it/s]\n",
            "pcre-8.45            |  253 KB | : 100% 1.0/1 [00:00<00:00,  9.77it/s]\n",
            "astunparse-1.6.3     |   15 KB | : 100% 1.0/1 [00:00<00:00, 16.61it/s]\n",
            "icu-68.2             | 13.1 MB | : 100% 1.0/1 [00:02<00:00,  2.80s/it]               \n",
            "libstdcxx-ng-11.2.0  |  4.2 MB | : 100% 1.0/1 [00:00<00:00,  1.02it/s]               \n",
            "gromacs-2020.6       | 32.2 MB | : 100% 1.0/1 [00:08<00:00,  8.09s/it]               \n",
            "cryptography-36.0.1  |  2.0 MB | : 100% 1.0/1 [00:00<00:00,  1.49it/s]               \n",
            "libtiff-4.3.0        |  614 KB | : 100% 1.0/1 [00:00<00:00,  4.68it/s]               \n",
            "openjpeg-2.4.0       |  444 KB | : 100% 1.0/1 [00:00<00:00,  6.60it/s]               \n",
            "nglview-1.1.7        |  4.5 MB | : 100% 1.0/1 [00:01<00:00,  1.47s/it]               \n",
            "widgetsnbextension-3 |  1.3 MB | : 100% 1.0/1 [00:00<00:00,  1.99it/s]               \n",
            "libedit-3.1.20191231 |  121 KB | : 100% 1.0/1 [00:00<00:00, 10.30it/s]\n",
            "readline-8.1         |  295 KB | : 100% 1.0/1 [00:00<00:00,  7.98it/s]               \n",
            "glib-2.70.2          |  438 KB | : 100% 1.0/1 [00:00<00:00,  2.88it/s]              \n",
            "traitlets-5.1.1      |   82 KB | : 100% 1.0/1 [00:00<00:00, 13.17it/s]\n",
            "alsa-lib-1.2.3       |  560 KB | : 100% 1.0/1 [00:00<00:00,  4.74it/s]               \n",
            "openmp-7.0.0         |  396 KB | : 100% 1.0/1 [00:00<00:00,  8.09it/s]               \n",
            "nomkl-1.0            |    4 KB | : 100% 1.0/1 [00:00<00:00, 19.66it/s]\n",
            "pysocks-1.7.1        |   28 KB | : 100% 1.0/1 [00:00<00:00, 14.23it/s]\n",
            "gxx-9.4.0            |   23 KB | : 100% 1.0/1 [00:00<00:00, 15.83it/s]\n",
            "gfortran_impl_linux- | 14.6 MB | : 100% 1.0/1 [00:03<00:00,  3.37s/it]               \n",
            "libssh2-1.10.0       |  233 KB | : 100% 1.0/1 [00:00<00:00,  6.29it/s]\n",
            "nbclient-0.5.9       |   63 KB | : 100% 1.0/1 [00:00<00:00, 14.38it/s]\n",
            "brotlipy-0.7.0       |  1.0 MB | : 100% 1.0/1 [00:00<00:00,  3.62it/s]               \n",
            "mysql-libs-8.0.27    |  1.9 MB | : 100% 1.0/1 [00:00<00:00,  2.24it/s]               \n",
            "bleach-4.1.0         |  121 KB | : 100% 1.0/1 [00:00<00:00, 10.75it/s]\n",
            "pytables-3.6.1       |  4.2 MB | : 100% 1.0/1 [00:01<00:00,  1.08s/it]              \n",
            "pexpect-4.8.0        |   47 KB | : 100% 1.0/1 [00:00<00:00, 17.07it/s]\n",
            "xz-5.2.5             |  343 KB | : 100% 1.0/1 [00:00<00:00,  5.87it/s]               \n",
            "libuuid-2.32.1       |   28 KB | : 100% 1.0/1 [00:00<00:00, 20.24it/s]\n",
            "sysroot_linux-64-2.1 | 31.4 MB | : 100% 1.0/1 [00:07<00:00,  7.89s/it]               \n",
            "argon2-cffi-21.1.0   |  111 KB | : 100% 1.0/1 [00:00<00:00, 10.18it/s]\n",
            "debugpy-1.5.1        |  2.0 MB | : 100% 1.0/1 [00:00<00:00,  1.01it/s]               \n",
            "jupyter_client-7.1.0 |   89 KB | : 100% 1.0/1 [00:00<00:00, 10.79it/s]\n",
            "libbrotlidec-1.0.9   |   33 KB | : 100% 1.0/1 [00:00<00:00, 11.77it/s]\n",
            "blosc-1.21.0         |  841 KB | : 100% 1.0/1 [00:00<00:00,  4.62it/s]               \n",
            "gcc_linux-64-9.4.0   |   24 KB | : 100% 1.0/1 [00:00<00:00, 16.76it/s]\n",
            "lcms2-2.12           |  443 KB | : 100% 1.0/1 [00:00<00:00,  6.78it/s]               \n",
            "cmake-3.21.3         | 15.2 MB | : 100% 1.0/1 [00:05<00:00,  5.04s/it]              \n",
            "ipykernel-6.6.0      |  180 KB | : 100% 1.0/1 [00:00<00:00,  7.23it/s]\n",
            "cycler-0.11.0        |   10 KB | : 100% 1.0/1 [00:00<00:00, 21.81it/s]\n",
            "sqlite-3.37.0        |  1.5 MB | : 100% 1.0/1 [00:00<00:00,  2.55it/s]               \n",
            "zlib-1.2.11          |   86 KB | : 100% 1.0/1 [00:00<00:00, 16.79it/s]\n",
            "libxml2-2.9.12       |  772 KB | : 100% 1.0/1 [00:00<00:00,  4.37it/s]               \n",
            "Preparing transaction: \\ \b\b| \b\b/ \b\b- \b\b\\ \b\b| \b\b/ \b\b- \b\b\\ \b\b| \b\b/ \b\b- \b\b\\ \b\b| \b\b/ \b\b- \b\b\\ \b\b| \b\b/ \b\b- \b\b\\ \b\b| \b\b/ \b\b- \b\b\\ \b\b| \b\b/ \b\b- \b\b\\ \b\b| \b\b/ \b\b- \b\b\\ \b\b| \b\b/ \b\b- \b\b\\ \b\b| \b\b/ \b\b- \b\b\\ \b\bdone\n",
            "Verifying transaction: / \b\b- \b\b\\ \b\b| \b\b/ \b\b- \b\b\\ \b\b| \b\b/ \b\b- \b\b\\ \b\b| \b\b/ \b\b- \b\b\\ \b\b| \b\b/ \b\b- \b\b\\ \b\b| \b\b/ \b\b- \b\b\\ \b\b| \b\b/ \b\b- \b\b\\ \b\b| \b\b/ \b\b- \b\b\\ \b\b| \b\b/ \b\b- \b\b\\ \b\b| \b\b/ \b\b- \b\b\\ \b\b| \b\b/ \b\b- \b\b\\ \b\b| \b\b/ \b\b- \b\b\\ \b\b| \b\b/ \b\b- \b\b\\ \b\b| \b\b/ \b\b- \b\b\\ \b\b| \b\b/ \b\b- \b\b\\ \b\b| \b\b/ \b\b- \b\b\\ \b\b| \b\b/ \b\b- \b\b\\ \b\b| \b\b/ \b\b- \b\b\\ \b\b| \b\b/ \b\b- \b\b\\ \b\b| \b\b/ \b\b- \b\b\\ \b\b| \b\b/ \b\b- \b\b\\ \b\b| \b\b/ \b\b- \b\b\\ \b\b| \b\b/ \b\b- \b\b\\ \b\b| \b\b/ \b\b- \b\b\\ \b\b| \b\b/ \b\b- \b\b\\ \b\b| \b\b/ \b\b- \b\b\\ \b\b| \b\b/ \b\b- \b\b\\ \b\b| \b\b/ \b\b- \b\b\\ \b\b| \b\b/ \b\b- \b\b\\ \b\b| \b\b/ \b\b- \b\b\\ \b\b| \b\b/ \b\b- \b\b\\ \b\b| \b\b/ \b\b- \b\b\\ \b\b| \b\b/ \b\b- \b\b\\ \b\b| \b\b/ \b\b- \b\b\\ \b\b| \b\b/ \b\b- \b\b\\ \b\b| \b\b/ \b\b- \b\b\\ \b\b| \b\b/ \b\b- \b\b\\ \b\b| \b\b/ \b\b- \b\b\\ \b\b| \b\b/ \b\b- \b\b\\ \b\b| \b\b/ \b\b- \b\b\\ \b\b| \b\b/ \b\b- \b\b\\ \b\b| \b\b/ \b\b- \b\b\\ \b\b| \b\b/ \b\b- \b\b\\ \b\b| \b\b/ \b\b- \b\b\\ \b\b| \b\b/ \b\b- \b\b\\ \b\b| \b\b/ \b\b- \b\b\\ \b\b| \b\b/ \b\b- \b\b\\ \b\b| \b\b/ \b\b- \b\b\\ \b\b| \b\b/ \b\b- \b\b\\ \b\b| \b\b/ \b\b- \b\b\\ \b\b| \b\b/ \b\b- \b\b\\ \b\b| \b\b/ \b\b- \b\b\\ \b\b| \b\b/ \b\b- \b\b\\ \b\b| \b\b/ \b\b- \b\b\\ \b\b| \b\b/ \b\b- \b\b\\ \b\b| \b\b/ \b\b- \b\b\\ \b\b| \b\b/ \b\b- \b\b\\ \b\bdone\n",
            "Executing transaction: / \b\b- \b\b\\ \b\b| \b\b/ \b\b- \b\b\\ \b\b| \b\b/ \b\b- \b\bfailed\n",
            "ERROR conda.core.link:_execute(502): An error occurred while installing package 'conda-forge::async_generator-1.10-py_0'.\n",
            "FileNotFoundError(2, \"No such file or directory: '/usr/local/envs/use-case1/bin/python3.1'\")\n",
            "Attempting to roll back.\n",
            "\n",
            "Rolling back transaction: | \b\b/ \b\b- \b\b\\ \b\b| \b\b/ \b\bdone\n",
            "\n",
            "FileNotFoundError(2, \"No such file or directory: '/usr/local/envs/use-case1/bin/python3.1'\")\n",
            "\n",
            "\n"
          ]
        }
      ]
    },
    {
      "cell_type": "code",
      "execution_count": 10,
      "metadata": {
        "hide_input": true,
        "id": "xgAwgA197T3A",
        "outputId": "6bda04e0-5cec-46a6-9596-2a6b9528349b",
        "colab": {
          "base_uri": "https://localhost:8080/",
          "height": 17
        }
      },
      "outputs": [
        {
          "output_type": "display_data",
          "data": {
            "text/html": [
              "<style>\n",
              ".solarized.base03 { color: #002b36; }\n",
              ".solarized.base02 { color: #073642; }\n",
              ".solarized.base01 { color: #586e75; }\n",
              ".solarized.base00 { color: #657b83; }\n",
              ".solarized.base0 { color: #839496; }\n",
              ".solarized.base1 { color: #93a1a1; }\n",
              ".solarized.base2 { color: #eee8d5; }\n",
              ".solarized.base3  { color: #fdf6e3; }\n",
              ".solarized.solar-yellow  { color: #b58900; }\n",
              ".solarized.solar-orange  { color: #cb4b16; }\n",
              ".solarized.solar-red { color: #dc322f; }\n",
              ".solarized.solar-magenta { color: #d33682; }\n",
              ".solarized.solar-violet  { color: #6c71c4; }\n",
              ".solarized.solar-blue { color: #268bd2; }\n",
              ".solarized.solar-cyan { color: #2aa198; }\n",
              ".solarized.solar-green { color: #859900; }\n",
              "\n",
              ".ansiyellow { color: #b58900; }\n",
              ".ansiorange { color: #cb4b16; }\n",
              ".ansired { color: #dc322f; }\n",
              ".ansimagenta { color: #d33682; }\n",
              ".ansiviolet { color: #6c71c4; }\n",
              ".ansiblue { color: #268bd2; }\n",
              ".ansicyan { color: #2aa198; }\n",
              ".ansigreen { color: #859900; }\n",
              "\n",
              ".gromacs.blue {color: #3e3e7f}\n",
              "/* Notebook styling */\n",
              "\n",
              "body, p, div.rendered_html { \n",
              "    color: #162351;\n",
              "     font-family:  'PT Sans';\n",
              "/*    font-family:  'PT Sans', 'PT Serif', Georgia, Times, 'Times New Roman', serif; */\n",
              "    font-size: 12pt;\n",
              "    align: justify;\n",
              "}\n",
              "\n",
              "body { background-color: #eee8d5 !important;  align: justify; }\n",
              "\n",
              "#notebook { \n",
              "    background-color: #E7EFFF !important;\n",
              "    box-shadow: inset 20px 36px 20px -35px black !important;  align: justify;\n",
              "}\n",
              "\n",
              "/*\n",
              "#maintoolbar { padding-top: 1em; padding-bottom: 1em; }\n",
              "#header { border-color: #93a1a1 !important; }\n",
              "*/\n",
              "/* Pager */\n",
              "\n",
              "#pager_splitter { background: none !important; }\n",
              "#pager {\n",
              "    background-color: #eee8d5;\n",
              "}\n",
              "div#pager pre {\n",
              "    background-color: #fdf6e3;\n",
              "    color: #586e75;\n",
              "}    \n",
              "\n",
              "/* Forms and menus */\n",
              "/*\n",
              ".navbar-default, .navbar-static-top {\n",
              "    background-color: #fdf6e3 !important;\n",
              "    color: #586e75 !important;\n",
              "}\n",
              ".navbar-default { border: none !important; }\n",
              ".navbar-nav > li > a { color: #586e75 !important; }\n",
              ".navbar-nav > li.open > a { background-color: #eee8d5 !important; color: #93a1a1 !important; }\n",
              ".nav > li.active > a { background-color: #eee8d5 !important; color: #586e75 !important; }\n",
              "\n",
              ".dropdown-menu { background-color: #fdf6e3 !important; border: none !important; }\n",
              ".dropdown-menu > li > a { color: #586e75 !important; }\n",
              ".dropdown-menu > li > a:hover { background-color: #eee8d5 !important; }\n",
              ".dropdown-menu > li.disabled > a { color: #93a1a1 !important; }\n",
              "\n",
              "button, .btn-default, .form-control, select {\n",
              "    background-color: #fdf6e3 !important;\n",
              "    color: #586e75 !important;\n",
              "}\n",
              "*/\n",
              "/* Tooltips */\n",
              "\n",
              ".completions {\n",
              "    border: none;\n",
              "    -moz-box-shadow: none;\n",
              "    -webkit-box-shadow: none;\n",
              "    box-shadow: none;\n",
              "    border-radius: 0;\n",
              "    margin-top: 0.5em;\n",
              "}\n",
              ".completions select { font-size: 11pt; }\n",
              "\n",
              ".ipython_tooltip .tooltiptext pre { \n",
              "    font-size: 10pt;\n",
              "    background-color: #eee8d5;\n",
              "    color: #586e75;\n",
              "}\n",
              ".ipython_tooltip {\n",
              "    -moz-box-shadow: none;\n",
              "    -webkit-box-shadow: none;\n",
              "    box-shadow: none;\n",
              "    background-color: #eee8d5;\n",
              "    color: #586e75;\n",
              "}\n",
              ".pretooltiparrow:before {\n",
              "    background-color: #eee8d5;\n",
              "}\n",
              "\n",
              "/* Cell output */\n",
              "\n",
              ".rendered_html pre, .rendered_html code {\n",
              "    color: inherit !important;\n",
              "    background-color: inherit !important;\n",
              "}\n",
              "div.output_area pre {\n",
              "    color: #93a1a1 !important;\n",
              "}\n",
              ".rendered_html table, .rendered_html td, .rendered_html th {\n",
              "    border: 1px solid #586e75 !important;\n",
              "}\n",
              "\n",
              "/* Modal dialogs */\n",
              "\n",
              ".modal-content, .modal-content p {\n",
              "    background-color: #eee8d5 !important;\n",
              "    color: #586e75 !important;\n",
              "}\n",
              "\n",
              "/* Cell styling */\n",
              "\n",
              "div.cell.selected { border-color: #839496 !important; }\n",
              "div.cell.edit_mode { border-color: #268bd2 !important; }\n",
              "div.input_prompt { color: #268bd2 !important; }\n",
              "div.output_prompt { color: #dc322f !important; }\n",
              "div.input_area { border: none !important; background: none !important; }\n",
              "\n",
              ".celltoolbar {\n",
              "    background: #eee8d5 !important;\n",
              "    color: #586e75 !important;\n",
              "}\n",
              "\n",
              "/*    border: 1px solid #002b36 !important;*/\n",
              "/* CodeMirror Styling */\n",
              "/*\n",
              ".cm-s-ipython {\n",
              "    line-height: 1.45em;\n",
              "    color-profile: sRGB;\n",
              "    rendering-intent: auto;\n",
              "    background-color: #002b36;\n",
              "    color: #93a1a1;\n",
              "    text-shadow: none;\n",
              "    border-radius: 4px;\n",
              "}\n",
              "*/\n",
              "/* Cursor */\n",
              "\n",
              ".cm-s-ipython div.CodeMirror-cursor {\n",
              "    border: none;\n",
              "    width: 0.6em;\n",
              "    background-color: rgba(100, 100, 100, 0.5);\n",
              "}\n",
              "\n",
              "/* Gutters */\n",
              "\n",
              "/*\n",
              ".cm-s-ipython .CodeMirror-gutters {\n",
              "  border-right: 1px solid;\n",
              "}\n",
              "\n",
              ".cm-s-ipython .CodeMirror-gutters {\n",
              "  background-color:  #002b36;\n",
              "  border-color: #00232c;\n",
              "}\n",
              "\n",
              ".cm-s-ipython .CodeMirror-linenumber {\n",
              "  text-shadow: #021014 0 -1px;\n",
              "  padding: 0 8px 0 0;\n",
              "  color: #586e75;\n",
              "}\n",
              "*/\n",
              "/*\n",
              ".cm-s-ipython .CodeMirror-guttermarker-subtle { color: #586e75; }\n",
              ".cm-s-ipython .CodeMirror-guttermarker { color: #ddd; }\n",
              "*/\n",
              "/* Syntax highlighting */\n",
              "/*\n",
              ".cm-s-ipython span.cm-keyword { color: #cb4b16 }\n",
              ".cm-s-ipython span.cm-atom { color: #d33682; }\n",
              ".cm-s-ipython span.cm-number { color: #d33682; }\n",
              ".cm-s-ipython span.cm-def { color: #268bd2; font-weight: bold; }\n",
              "\n",
              ".cm-s-ipython span.cm-variable { color: #93a1a1; }\n",
              ".cm-s-ipython span.cm-variable-2 { color: #b58900; }\n",
              ".cm-s-ipython span.cm-variable-3 { color: #6c71c4; }\n",
              "\n",
              ".cm-s-ipython span.cm-property { color: #2aa198; }\n",
              ".cm-s-ipython span.cm-operator {color: #6c71c4;}\n",
              "\n",
              ".cm-s-ipython span.cm-comment { color: #6c71c4; font-style: italic; }\n",
              "\n",
              ".cm-s-ipython span.cm-string { color: #2aa198; }\n",
              ".cm-s-ipython span.cm-string-2 { color: #b58900; }\n",
              "\n",
              ".cm-s-ipython span.cm-meta { color: #859900; }\n",
              ".cm-s-ipython span.cm-qualifier { color: #b58900; }\n",
              ".cm-s-ipython span.cm-builtin { color: #859900; }\n",
              ".cm-s-ipython span.cm-bracket { color: #cb4b16; }\n",
              ".cm-s-ipython .CodeMirror-matchingbracket { color: #b58900 !important; font-weight: bold; }\n",
              ".cm-s-ipython .CodeMirror-nonmatchingbracket { color: #dc322f; }\n",
              ".cm-s-ipython span.cm-tag { color: #93a1a1 }\n",
              ".cm-s-ipython span.cm-attribute {  color: #2aa198; }\n",
              ".cm-s-ipython span.cm-header { color: #586e75; }\n",
              ".cm-s-ipython span.cm-quote { color: #93a1a1; }\n",
              ".cm-s-ipython span.cm-hr {\n",
              "  color: transparent;\n",
              "  border-top: 1px solid #080e05;\n",
              "  display: block;\n",
              "}\n",
              ".cm-s-ipython span.cm-link { color: #93a1a1; cursor: pointer; }\n",
              ".cm-s-ipython span.cm-special { color: #6c71c4; }\n",
              ".cm-s-ipython span.cm-em {\n",
              "  color: #999;\n",
              "  text-decoration: underline;\n",
              "  text-decoration-style: dotted;\n",
              "}\n",
              ".cm-s-ipython span.cm-strong { color: #eee; }\n",
              ".cm-s-ipython span.cm-error,\n",
              ".cm-s-ipython span.cm-invalidchar {\n",
              "  color: #586e75;\n",
              "  border-bottom: 1px dotted #dc322f;\n",
              "}\n",
              "*/\n",
              "</style>\n"
            ],
            "text/plain": [
              "<IPython.core.display.HTML object>"
            ]
          },
          "metadata": {}
        }
      ],
      "source": [
        "# Initialize this notebook's style and functionalities\n",
        "%run src/init_notebooks.py\n",
        "#hide_toggle()\n",
        "# %cd workflow_template\n",
        "# from IPython.display import HTML\n",
        "# html = HTML(open(\"src/gromacs-training.css\").read())\n",
        "# display(html)\n",
        "# Setup complete! :)"
      ]
    },
    {
      "cell_type": "markdown",
      "metadata": {
        "id": "YarMkd2q7T3B"
      },
      "source": [
        "# A GROMACS - HADDOCK antibody workflow \n",
        "\n",
        "```\n",
        "Author                : Alessandra Villa, Zuzana Jandova\n",
        "Goal                  : Jupyter notebook for training purposes in antibody simulation and docking\n",
        "Time                  : 10 minutes reading time, no computation wait time\n",
        "Prerequisites         : Know how to run an md simulation, register with HADDOCK\n",
        "Software requirements : GROMACS (version 2020) , pdb-tools, python 2.7, HMMER, Biopandas, Biopython\n",
        "Tested for            : \n",
        "```\n",
        " "
      ]
    },
    {
      "cell_type": "markdown",
      "metadata": {
        "id": "sHL_HN8i7T3C"
      },
      "source": [
        "# Table of Contents\n",
        "\n",
        "* [Use Case Introduction](#UCintro)\n",
        "* [Description of the Workflow](#Workflow)\n",
        "* [Structure preparation](#Structure)\n",
        "* [Molecular Dynamics with GROMACS](#MD)\n",
        "* [CDRs identification](#CDRs)\n",
        "* [Cluster antibody trajectory](#Cluster) \n",
        "* [Prepare HADDOCK json file](#HADDOCK)"
      ]
    },
    {
      "cell_type": "markdown",
      "metadata": {
        "id": "GbM4CzFU7T3D"
      },
      "source": [
        " ## <a class=\"anchor\" id=\"UCintro\" > Use Case Introduction </a>"
      ]
    },
    {
      "cell_type": "markdown",
      "metadata": {
        "id": "SYV5kiKW7T3E"
      },
      "source": [
        "\n",
        "Antibody design has grown into one of the fastest growing branches in the pharmaceutical industry. Antibodies promise extremely high specificity and the ability to use the body’s own immune system to kill e.g. tumors, however  their size and complexity make their computational design challenging. \n",
        " \n",
        "An antibody is a large protein that generally works by attaching itself to an antigen, which is a unique site of the pathogen. The binding harnesses the immune system to directly attack and destroy the pathogen. Antibodies can be highly specific while showing low immunogenicity, which is achieved by their unique structure. **The fragment crystallizable region (Fc region**) activates the immune response and is species specific, i.e. human Fc region should not evoke an immune response in humans.  **The fragment antigen-binding region (Fab region**) needs to be highly variable to be able to bind to antigens of various nature (high specificity).  The terminal (antigen recognising) domain of the Fab region is caleld **the variable domain (Fv domain)**.\n",
        " \n",
        "\n",
        "<figure >\n",
        "<img src=\"https://github.com/rvhonorato/workflow_template/blob/main/workflow_template/images/antibody_described.png?raw=1\">\n",
        "</figure>\n",
        "\n",
        "The small part of the Fab region that binds the antigen is called **paratope**. The part of the antigen that binds to an antibody is called **epitope**. The paratope consists of six highly flexible loops, known as **complementarity-determining regions (CDRs)** or hypervariable loops whose sequence and conformation are altered to bind to different antigens.  \n",
        "\n",
        "\n",
        " - Specific problem \n",
        "\n",
        " - Introduction of use case as tutorial\n",
        " what they will learn from a tutorial\n",
        "  \n",
        " - References\n",
        "     - reading material\n"
      ]
    },
    {
      "cell_type": "markdown",
      "metadata": {
        "id": "9G4tFvC_7T3F"
      },
      "source": [
        " ## <a class=\"anchor\" id=\"Workflow\"> Description of the Workflow </a>"
      ]
    },
    {
      "cell_type": "markdown",
      "metadata": {
        "id": "_Icv03gc7T3G"
      },
      "source": [
        "This jupyter notebook combines two approaches: molecular dynamics (MD) simulation with [GROMACS](http://www.gromacs.org/About_Gromacs) and molecular docking with [HADDOCK](https://www.bonvinlab.org/software/haddock2.4/) to provide a good starting point for antibody design. We improve the sampling of the CDRs  using MD, extract the most diverse loop conformations and prepare such ensemble for running with HADDOCK. \n",
        "\n",
        "\n",
        "\n",
        "<img src=\"https://github.com/rvhonorato/workflow_template/blob/main/workflow_template/images/UC1_example.png?raw=1\" width=\"500\">\n",
        "\n",
        "\n",
        "To obtain the best prediction of a bound antibody-antigen complex, we will be using a worflow consisting of several steps. \n",
        "<img src=\"https://github.com/rvhonorato/workflow_template/blob/main/workflow_template/images/workflow.png?raw=1\" width=\"900\">\n",
        "\n",
        "\n",
        "1. Download PDBs of antibody and antigen\n",
        "1. Pre-processing antibody pdb for HADDOCK\n",
        "1. Converting antibody pdb into GROMACS\n",
        "1. Generation of mdrun input file  \n",
        "1. Setup MD of unbound antibody (gmx) run mdrun (run local or on HPC - script)\n",
        "1. Trajectory postprocessing (remove pbc) gmx trjconv \n",
        "1. Define loop residues – (protocol Ambrosetti et al., 2020)\n",
        "1. Index on loop residues & backbone (gmx)\n",
        "1. Cluster MD of unbound antibody by loop residue conformations (gmx cluster) gromos\n",
        "1. extract 20 most populated cluster (automatic with gromos)\n",
        "1. Prepare clusters from MD for docking (renumber) ⟹ setup docking run json file\n",
        "\n",
        "\n",
        "\n",
        "\n"
      ]
    },
    {
      "cell_type": "markdown",
      "metadata": {
        "id": "9eMOBwqZ7T3H"
      },
      "source": [
        " ## System setting"
      ]
    },
    {
      "cell_type": "markdown",
      "metadata": {
        "id": "icgHYrUe7T3I"
      },
      "source": [
        "The starting point is a antibody structure file. For this tutorial, we will utilize a Fab part of an antibody (PDB code [3RVT](http://www.rcsb.org/structure/3RVT)) which binds to the group 1 house dust mite allergen (PDB code [3F5B](http://www.rcsb.org/structure/3F5B)). As a reference, a crystal structure of the complex is available (PDB code [3RVW](http://www.rcsb.org/structure/3RVW)). All files are available from the RCSB website, https://www.rcsb.org/. For this tutorial, the PDB file for the crystal structure is depositied in `input` directory as \"3RVT.pdb\" ."
      ]
    },
    {
      "cell_type": "markdown",
      "metadata": {
        "id": "ys7c8TpP7T3J"
      },
      "source": [
        "Below you can visualize the antibody structure  "
      ]
    },
    {
      "cell_type": "markdown",
      "metadata": {
        "id": "9fiSAaXT7T3K"
      },
      "source": [
        "In alternative you can visualize the structure using a viewing program such as VMD.\n",
        "Note: close the VMD window after you are done looking at the protein to continue with this notebook"
      ]
    },
    {
      "cell_type": "markdown",
      "metadata": {
        "id": "_2qAjAfd7T3K"
      },
      "source": [
        "# <a class=\"anchor\" id=\"Structure\">Structure preparation </a>"
      ]
    },
    {
      "cell_type": "markdown",
      "metadata": {
        "id": "gIRD7DVY7T3L"
      },
      "source": [
        "## Get your pdb"
      ]
    },
    {
      "cell_type": "code",
      "execution_count": null,
      "metadata": {
        "id": "C5trpGvY7T3M"
      },
      "outputs": [],
      "source": [
        "# Install ANARCI\n",
        "cd src/anarci-1.3\n",
        "python2.7 setup.py install\n",
        "cd ../.."
      ]
    },
    {
      "cell_type": "code",
      "execution_count": null,
      "metadata": {
        "id": "ode5QfP97T3M"
      },
      "outputs": [],
      "source": [
        ""
      ]
    },
    {
      "cell_type": "markdown",
      "metadata": {
        "id": "FEBWhdlI7T3N"
      },
      "source": [
        "In this step we will make use of the local version of [PDB-tools](http://www.bonvinlab.org/pdb-tools/). PDB-tools were designed to be a swiss-knife for the PDB format. They have no external dependencies, besides the Python programming language. You can find them on [Github](https://github.com/haddocking/pdb-tools) or as a webserver. [PDB-tools webserver](https://wenmr.science.uu.nl/pdbtools/) is a powerful tool that enables you to edit pdbs quickly and painlessly without any scripting knowledge."
      ]
    },
    {
      "cell_type": "code",
      "execution_count": null,
      "metadata": {
        "id": "JLcUloNG7T3N"
      },
      "outputs": [],
      "source": [
        "%cd data"
      ]
    },
    {
      "cell_type": "code",
      "execution_count": null,
      "metadata": {
        "id": "g0PP7ljv7T3O"
      },
      "outputs": [],
      "source": [
        "!pdb_fetch -biounit 3RVT > 3RVT.pdb"
      ]
    },
    {
      "cell_type": "code",
      "execution_count": null,
      "metadata": {
        "id": "NgIttdJv7T3O"
      },
      "outputs": [],
      "source": [
        "representations=[\n",
        "    {\"type\": \"cartoon\", \"params\": {\n",
        "        \"sele\": \"protein and not ANI\", \"color\": \"chainname\", \n",
        "    }},\n",
        "    {\"type\": \"ball+stick\", \"params\": {\n",
        "        \"sele\": \"hetero\"\n",
        "    }},]   "
      ]
    },
    {
      "cell_type": "code",
      "execution_count": null,
      "metadata": {
        "id": "vDTFC5Iz7T3P"
      },
      "outputs": [],
      "source": [
        "import nglview as ng\n",
        "#view = ng.show_structure_file(\"3RVT.pdb\")\n",
        "view = ng.show_structure_file(\"3RVT.pdb\", defaultRepresentation= False)\n",
        "view.representations = representations\n",
        "view\n",
        "# click and drag to rotate, zoom with your mouseweel \n",
        "# for more infor on this viewer have a look at https://github.com/nglviewer/nglview"
      ]
    },
    {
      "cell_type": "markdown",
      "metadata": {
        "id": "fufpyimn7T3P"
      },
      "source": [
        "### Clean your pdb\n"
      ]
    },
    {
      "cell_type": "code",
      "execution_count": null,
      "metadata": {
        "id": "y3InLVKw7T3P"
      },
      "outputs": [],
      "source": [
        "!pdb_chainxseg 3RVT.pdb > 3RVT_seg.pdb \n",
        "!pdb_splitseg 3RVT_seg.pdb \n",
        "!pdb_reres -501 3RVT_seg_D.pdb  > 3RVT_seg_D_ren.pdb  \n",
        "!pdb_merge 3RVT_seg_C.pdb 3RVT_seg_D_ren.pdb > 3RVT_merged.pdb \n",
        "!pdb_chain -A 3RVT_merged.pdb | pdb_seg| pdb_delhetatm | pdb_tidy  > 3RVT_clean.pdb  \n",
        "!sed -i \"\" '/ANISOU/d'  3RVT_clean.pdb  >> 3RVT_clean.pdb\n",
        "!rm *merged.pdb *seg* "
      ]
    },
    {
      "cell_type": "code",
      "execution_count": null,
      "metadata": {
        "id": "MVp1OPa47T3Q"
      },
      "outputs": [],
      "source": [
        "%ls 3RVT_clean.pdb\n",
        "view = ng.show_file(\"3RVT_clean.pdb\",  defaultRepresentation= False)\n",
        "view.representations = representations\n",
        "view"
      ]
    },
    {
      "cell_type": "markdown",
      "metadata": {
        "id": "bXqoIWSs7T3Q"
      },
      "source": [
        "Once you've had a look at the molecule, you are going to check that only the protein is present in the pdb file. Otherwise strip out all the other molecules in the crystal . To delete the other molecules , either use a plain text editor like vi, emacs (Linux/Mac), or Notepad (Windows). Do not use word processing software! \n",
        "\n",
        "Always check your .pdb file for entries listed under the comment MISSING, as these entries indicate either atoms or whole residues that are not present in the crystal structure. Terminal regions may be absent, and may not present a problem for dynamics."
      ]
    },
    {
      "cell_type": "markdown",
      "metadata": {
        "id": "BYi4wrVN7T3R"
      },
      "source": [
        "#  <a class=\"anchor\" id=\"MD\"> Molecular Dynamics with GROMACS </a >"
      ]
    },
    {
      "cell_type": "markdown",
      "metadata": {
        "id": "ZIFALPWw7T3R"
      },
      "source": [
        "## Generating a topology"
      ]
    },
    {
      "cell_type": "markdown",
      "metadata": {
        "id": "_UpR-dtk7T3R"
      },
      "source": [
        "Now the PDB file should contain only protein atoms, and is ready to be input into GROMACS. \n",
        "The first GROMACS tool, we use, is pdb2gmx. The purpose of pdb2gmx is to generate three files:\n",
        "\n",
        "* The topology for the molecule.\n",
        "* A position restraint file.\n",
        "* A post-processed structure file. \n",
        "\n",
        "The topology (topol.top by default) contains all the information necessary to define the molecule within a simulation. This information includes nonbonded parameters (atom types and charges) as well as bonded parameters (bonds, angles, dihedrals and atom connectivity)."
      ]
    },
    {
      "cell_type": "markdown",
      "metadata": {
        "id": "Z5a55YCt7T3S"
      },
      "source": [
        "## Force Field"
      ]
    },
    {
      "cell_type": "markdown",
      "metadata": {
        "id": "qr7Q89AI7T3S"
      },
      "source": [
        "Here, we made an important decision for the course of the simualtion in choosing the force field. Here we use CHARMM36m all-atom force field. Check [here](http://mackerell.umaryland.edu/charmm_ff.shtml#gromacs) for update in the CHARMM36 force field implementation for GROMACS . The force field files contain the information that will be written to the topology. "
      ]
    },
    {
      "cell_type": "code",
      "execution_count": null,
      "metadata": {
        "id": "w6TxK2YV7T3S"
      },
      "outputs": [],
      "source": [
        "!tar xvf input/charmm36.tar"
      ]
    },
    {
      "cell_type": "markdown",
      "metadata": {
        "id": "NegWAh4q7T3S"
      },
      "source": [
        "Here we excecute [gmx pdb2gmx](http://manual.gromacs.org/documentation/current/onlinehelp/gmx-pdb2gmx.html)"
      ]
    },
    {
      "cell_type": "code",
      "execution_count": null,
      "metadata": {
        "id": "TDCZoKWL7T3T"
      },
      "outputs": [],
      "source": [
        "!gmx pdb2gmx -f input/3RVW_antibody.pdb -p antibody.top -o antibody.gro -i posre -ff charmm36-jul2017 -water tip3p -ignh"
      ]
    },
    {
      "cell_type": "markdown",
      "metadata": {
        "id": "3Aoi2ta37T3T"
      },
      "source": [
        "## Defining a simulation box"
      ]
    },
    {
      "cell_type": "code",
      "execution_count": null,
      "metadata": {
        "scrolled": true,
        "id": "Xq0mDEYc7T3T"
      },
      "outputs": [],
      "source": [
        "!gmx editconf -f antibody.gro -d 0.7 -bt dodecahedron -o antibody_box.gro"
      ]
    },
    {
      "cell_type": "markdown",
      "metadata": {
        "id": "ZbP8xGIE7T3U"
      },
      "source": [
        "## Solvating the simulation system"
      ]
    },
    {
      "cell_type": "code",
      "execution_count": null,
      "metadata": {
        "id": "Yn5k35Uu7T3U"
      },
      "outputs": [],
      "source": [
        "!gmx solvate -cp antibody_box.gro -p antibody.top -o water.gro"
      ]
    },
    {
      "cell_type": "markdown",
      "metadata": {
        "id": "UA3k2-cQ7T3U"
      },
      "source": [
        "## Adding ions "
      ]
    },
    {
      "cell_type": "markdown",
      "metadata": {
        "id": "BvCG_Zpv7T3V"
      },
      "source": [
        "We now have a solvated system that contains a charged protein. The output of pdb2gmx told us that the protein has a net charge of 3e (based on its amino acid composition). If you missed this information in the pdb2gmx output, look at the last line of each [ atoms ] directive in topology file; it should read  \"qtot -1.\" for chain A and  \"qtot 4.\" for chain B. Since life does not exist at a net charge, we must add ions to our system. Further, we aim to approximate physiological conditions and use therefore a NaCl concentration of 0.15 M."
      ]
    },
    {
      "cell_type": "code",
      "execution_count": null,
      "metadata": {
        "id": "OJceTyq57T3V"
      },
      "outputs": [],
      "source": [
        "!touch ion.mdp\n",
        "!gmx grompp -f ion.mdp -c water.gro -p antibody.top -o\n",
        "!echo 13 | gmx genion -s topol.tpr -p antibody.top -neutral -conc 0.15 -o antibody.gro"
      ]
    },
    {
      "cell_type": "markdown",
      "metadata": {
        "id": "V-l08Y-d7T3V"
      },
      "source": [
        "# Energy minimization"
      ]
    },
    {
      "cell_type": "markdown",
      "metadata": {
        "id": "zKU6nZWs7T3W"
      },
      "source": [
        "The solvated, electroneutral system is now assembled. Before we can begin dynamics, we must ensure that the system has no steric clashes or inappropriate geometry. The structure is relaxed through a process called energy minimization (EM)."
      ]
    },
    {
      "cell_type": "code",
      "execution_count": null,
      "metadata": {
        "id": "_YU5ItCD7T3W"
      },
      "outputs": [],
      "source": [
        " !cat input/emin-charmm.mdp"
      ]
    },
    {
      "cell_type": "code",
      "execution_count": null,
      "metadata": {
        "id": "mOXKF8zs7T3X"
      },
      "outputs": [],
      "source": [
        "!gmx grompp -f input/emin-charmm.mdp -c antibody.gro -p antibody.top -o em.tpr \n",
        "!gmx mdrun -v -s em.tpr -deffnm antibody_em\n",
        "\n",
        "#gmx grompp -f ../../../mdp_files/md_charmm36m.mdp -c POS/confout.gro -p $name.top -o MD/topol.tpr\n",
        "#cp topol.tpr in topol100.tpr\n",
        "#gmx convert-tpr -s topol100.tpr -extend 400000 -o topol.tpr"
      ]
    },
    {
      "cell_type": "markdown",
      "metadata": {
        "id": "HTJJ2L997T3X"
      },
      "source": [
        "# Relaxing solvent and ions positions"
      ]
    },
    {
      "cell_type": "markdown",
      "metadata": {
        "id": "Uy3w9DoK7T3X"
      },
      "source": [
        "EM ensured that we have a reasonable starting structure, in terms of geometry and solvent orientation. To begin real dynamics, we must equilibrate the solvent and ions around the protein. If we were to attempt unrestrained dynamics at this point, the system may collapse. The reason is that the solvent is mostly optimized within itself, and not necessarily with the solute, and ions are randomly placed by replacing water molecules.\n",
        "\n",
        "Among other files, gmx pdb2gmx generated a file, called posre.itp  The purpose of posre.itp is to apply a position restraining force on the heavy atoms of the protein (anything that is not a hydrogen). Movement is permitted, but only after overcoming a substantial energy penalty. The utility of position restraints is that they allow us to relax our solvent and ions around our protein, without the added variable of structural changes in the protein. The origin of the position restraints (the coordinates at which the restraint potential is zero) is provided via a coordinate file passed to the -r option of grompp. Depending from the protein and ion types, this process may also be in the order nanoseconds."
      ]
    },
    {
      "cell_type": "code",
      "execution_count": null,
      "metadata": {
        "id": "-DiTuXzX7T3X"
      },
      "outputs": [],
      "source": [
        "!cat input/md_eq_posre_charmm36m.mdp"
      ]
    },
    {
      "cell_type": "code",
      "execution_count": null,
      "metadata": {
        "id": "wPJbFOCb7T3Y"
      },
      "outputs": [],
      "source": [
        "!gmx grompp -f input/md_eq_posre_charmm36m.mdp -c antibody_em.gro -p antibody.top -o posre.tpr -r antibody_em.gro\n",
        "!gmx mdrun -v -s posre.tpr -deffnm antibody_posre"
      ]
    },
    {
      "cell_type": "markdown",
      "metadata": {
        "id": "3Z03VuMn7T3Y"
      },
      "source": [
        "Upon completion of the the equilibration phase, the system is now equilibrated at the desired temperature and pressure. We are now ready to release the position restraints and run production MD for data collection. We will make use of the checkpoint file (which in this case now contains preserve pressure coupling information) to grompp. We will run a 100ns MD simulation. We use velocity-rescaling temperature coupling as thermostat and stochastic cell rescaling as barostat. A full explanation of the available thermostats and barostats in GROMACS can be found in the manual (see [here](http://manual.gromacs.org/documentation/current/reference-manual/algorithms/molecular-dynamics.html#temperature-coupling) for thermostat and [here](http://manual.gromacs.org/documentation/current/reference-manual/algorithms/molecular-dynamics.html#pressure-coupling) for barostat)"
      ]
    },
    {
      "cell_type": "code",
      "execution_count": null,
      "metadata": {
        "id": "Ew8Rjx_g7T3Z"
      },
      "outputs": [],
      "source": [
        "!cat input/md_charmm36m.mdp"
      ]
    },
    {
      "cell_type": "code",
      "execution_count": null,
      "metadata": {
        "id": "mycs4N5Y7T3a"
      },
      "outputs": [],
      "source": [
        "!gmx grompp -f input/md_charmm36m.mdp -c antibody_posre.gro -t antibody_posre.cpt -p antibody.top -o antibody_md.tpr\n",
        "!gmx mdrun -ntmpi 1 -v -deffnm antibody_md"
      ]
    },
    {
      "cell_type": "markdown",
      "metadata": {
        "id": "75x9eOmb7T3a"
      },
      "source": [
        "Approach to select the structure for HADDOCK \n",
        "* fit backbone\n",
        "* selection of variable loop (Ambrosetti et al.2020)\n",
        "* cluster analysisi\n",
        "* 20 high populated clusters will be given as input to HADDOCK "
      ]
    },
    {
      "cell_type": "code",
      "execution_count": null,
      "metadata": {
        "id": "blKTl8n07T3b"
      },
      "outputs": [],
      "source": [
        "!echo 1 | gmx trjconv -f antibody_md.xtc -s em.tpr -pbc nojump -o traj_nojump.xtc"
      ]
    },
    {
      "cell_type": "code",
      "execution_count": null,
      "metadata": {
        "id": "FayRaT-87T3b"
      },
      "outputs": [],
      "source": [
        "!echo 4 1 | gmx trjconv -f traj_nojump.xtc -s em.tpr -fit rot+trans -o antibody_fit.xtc"
      ]
    },
    {
      "cell_type": "code",
      "execution_count": null,
      "metadata": {
        "id": "LhTyzKBf7T3b"
      },
      "outputs": [],
      "source": [
        "import nglview as ng \n",
        "import mdtraj as md\n",
        "traj = md.load(\"antibody_fit.xtc\",top=\"antibody_box.gro\")\n",
        "view = ng.show_mdtraj(traj)\n",
        "view"
      ]
    },
    {
      "cell_type": "code",
      "execution_count": null,
      "metadata": {
        "id": "S8tTwZuJ7T3c"
      },
      "outputs": [],
      "source": [
        "!echo 20 1 |gmx cluster -h -f antibody_fit.xtc -cl cluster-gromos.pdb -s em.tpr -n input/loop_index.ndx -b 1000 -method gromos -cutoff 0.13 -nofit -g cluster-gromos.log"
      ]
    },
    {
      "cell_type": "code",
      "execution_count": null,
      "metadata": {
        "id": "qk6c6s777T3c"
      },
      "outputs": [],
      "source": [
        "!echo 20 1 |gmx cluster -f antibody_fir.xtc -cl cluster-jp.pdb -s em.tpr -n input/loop_index.ndx -b 1000 -method jarvis-patrick -cutoff 0.13 -nofit -g cluster-jp.log"
      ]
    },
    {
      "cell_type": "markdown",
      "metadata": {
        "id": "DEKBCWMJ7T3d"
      },
      "source": [
        "# <a class=\"anchor\" id=\"CDRs\"> CDRs identification </a >"
      ]
    },
    {
      "cell_type": "markdown",
      "metadata": {
        "id": "Jli3C6H47T3d"
      },
      "source": [
        "Antibodies are created by two identical pairs of  **light (L)** and **heavy (H)** chains. As shown above the variable domains of both chains are involved in the antigen recognition [1]. Each chain contains three <font color=\"#8F0306\">**CDRs** (in red) </font>in their variable domain, which show the highest level of variability and directly interact with the antigen [2, 3]. \n",
        "Each CDR contains one <font color=\"#8F0306\">**hyper variable loop (HV)** </font>(six loops in total) which are crucial for the recognition of the cognate antigen.\n",
        "\n",
        "<img src=\"https://github.com/rvhonorato/workflow_template/blob/main/workflow_template/images/CDRs.png?raw=1\" width=\"600\">\n",
        "\n",
        "In this notbeook we will be using the protocol of [Ambrosetti, et al ArXiv, 2020](https://www.biorxiv.org/content/10.1101/2020.03.18.967828v1) to identify CDRs residues and convert them to the GROMACS format for further trajectory clustering.\n",
        "\n",
        "1. Novotný J, Bruccoleri R, Newell J, et al (1983) Molecular anatomy of the antibody\n",
        "binding site. J Biol Chem 258:14433–14437\n",
        "2. Sela-Culang I, Kunik V, Ofran Y (2013) The Structural Basis of Antibody-Antigen\n",
        "Recognition. Front Immunol 4:302. https://doi.org/10.3389/fimmu.2013.00302\n",
        "3. MacCallum RM, Martin ACR, Thornton JM (1996) Antibody-antigen interactions:\n",
        "Contact analysis and binding site topography. J Mol Biol 262:732–745.\n",
        "https://doi.org/10.1006/jmbi.1996.0548"
      ]
    },
    {
      "cell_type": "code",
      "execution_count": null,
      "metadata": {
        "id": "9NSuOdgn7T3d"
      },
      "outputs": [],
      "source": [
        "\n",
        "%cd data\n",
        "# Renumber antibody with the Chothia scheme\n",
        "!python2.7 ../scripts/ImmunoPDB.py -i input/3RVT.pdb -o 3RVT_ch.pdb --scheme c --rename --splitscfv\n",
        "\n",
        "# Format the antib-ody in order to fit the HADDOCK format requirements\n",
        "# and extract the HV loop residues and save them into a file\n",
        "!python ../scripts/ab_haddock_format.py 3RVT_ch.pdb 3RVT_HADDOCK.pdb A > active.txt\n",
        "\n",
        "# Add END and TER statements to the .pdb file\n",
        "!pdb_tidy 3RVT_HADDOCK.pdb > oo; mv oo 3RVT_HADDOCK.pdb\n"
      ]
    },
    {
      "cell_type": "code",
      "execution_count": null,
      "metadata": {
        "id": "v3lNvorJ7T3d"
      },
      "outputs": [],
      "source": [
        "!pwd\n",
        "%cd ../"
      ]
    },
    {
      "cell_type": "markdown",
      "metadata": {
        "id": "KIKYusON7T3e"
      },
      "source": [
        "## Visualise CDR residues"
      ]
    },
    {
      "cell_type": "code",
      "execution_count": null,
      "metadata": {
        "id": "Ji9em1rx7T3e"
      },
      "outputs": [],
      "source": [
        "f = open(\"data/active.txt\")\n",
        "lines=f.read()\n",
        "representations=[\n",
        "    {\"type\": \"cartoon\", \"params\": {\n",
        "        \"sele\": \"protein and not ANI\", \"color\": \"chainname\", \n",
        "    }},\n",
        "    {\"type\": \"hyperball\", 'params': {\"sele\":lines, \"color\":\"orange\"}}\n",
        "]        "
      ]
    },
    {
      "cell_type": "code",
      "execution_count": null,
      "metadata": {
        "id": "uUkRDl1B7T3e"
      },
      "outputs": [],
      "source": [
        "\n",
        "\n",
        "print(lines)\n",
        "view = ng.show_file('data/3RVT_HADDOCK.pdb', defaultRepresentation= False)\n",
        "view.representations = representations\n",
        "view"
      ]
    },
    {
      "cell_type": "markdown",
      "metadata": {
        "id": "rACWuSGP7T3f"
      },
      "source": [
        "## Turn CDR residues into index file to cluster antibody trajectory"
      ]
    },
    {
      "cell_type": "code",
      "execution_count": null,
      "metadata": {
        "id": "hGdECS137T3f"
      },
      "outputs": [],
      "source": [
        "%cd data \n",
        "\n",
        "!echo -e  $(sed -e  '1 s/./ri /' -e 's/,/ /g'  active.txt)'\\n' name 15 CDRs '\\n'q  | gmx make_ndx -f topol.tpr -o index_jupy.ndx"
      ]
    },
    {
      "cell_type": "code",
      "execution_count": null,
      "metadata": {
        "id": "crWEiJtz7T3g"
      },
      "outputs": [],
      "source": [
        "!tail -n 45 index_jupy.ndx"
      ]
    },
    {
      "cell_type": "code",
      "execution_count": null,
      "metadata": {
        "id": "O9t4VDBW7T3i"
      },
      "outputs": [],
      "source": [
        ""
      ]
    },
    {
      "cell_type": "markdown",
      "metadata": {
        "id": "-5qTUiK97T3i"
      },
      "source": [
        "# <a class=\"anchor\" id=\"Cluster\">  Cluster antibody trajectory </a>"
      ]
    },
    {
      "cell_type": "markdown",
      "metadata": {
        "id": "lXIvhtA27T3i"
      },
      "source": [
        "## Create an ensemble for docking"
      ]
    },
    {
      "cell_type": "code",
      "execution_count": null,
      "metadata": {
        "id": "V4ILbmH07T3i"
      },
      "outputs": [],
      "source": [
        "%cd data\n",
        "!pdb_mkensemble input/3RVT.pdb input1.pdb input1.pdb > 3RVT_ensemble.pdb"
      ]
    },
    {
      "cell_type": "markdown",
      "metadata": {
        "id": "oxR0KPMr7T3i"
      },
      "source": [
        "# <a class=\"anchor\" id=\"HADDOCK\">  Prepare HADDOCK `json` file </a>"
      ]
    },
    {
      "cell_type": "markdown",
      "metadata": {
        "id": "zUFK9D3r7T3i"
      },
      "source": [
        "We prepared a sample HADDOCK `json` file that one can submit to the [Submit file interface](https://bianca.science.uu.nl/haddock2.4/submit_file) of HADDOCK2.4. First one needs to register  for all HADDOCK services [https://bianca.science.uu.nl/auth/register/](https://bianca.science.uu.nl/auth/register/). Then we will modify the `json` file with a few available scripts to update it with our newly created pdb. In this case we use ambiguous restraints created from the reference crystal structure (PDB ID [3RVW](https://www.rcsb.org/structure/3RVW)). They were defined based on the true interface (all residues within 3.9Å from the other protein) and are also located in `data/input/ambig.tbl`.  If one wishes to replace them too, there is a script `data/script/replace_tbl.py` which updates the restraint as well. Here one needs to specify which type of restraints they want to replace (`-type (ambig,unambig,hbond,dihedral)`). In this scenario we are using increased sampling such that each antibody conformer is used in 100 model for it0 - rigid body docking. In this case we have an ensemble of 12 conformers, thus 1200 structures geenrated in it0 (`structures_0`). Further, we increase sampling from 200 to 400 per it1 (`structures_1`) and it1 water (`waterrefine`) and in the analysis part (`anastruc_1`) too. These changes are already included in the sample `json` file, thus do not need to be modified manually.   \n",
        "\n",
        "\n",
        "### Modified sampling parameters:\n",
        "\n",
        "`\"anastruc_1\": 400,\n",
        "\"structures_0\": 1200,\n",
        "\"structures_1\": 400,\n",
        "\"waterrefine\": 400,`"
      ]
    },
    {
      "cell_type": "code",
      "execution_count": null,
      "metadata": {
        "id": "iHQ7OCoL7T3i"
      },
      "outputs": [],
      "source": [
        "%cd data\n",
        "python  ../scripts/rswieplace_pdb.py  -param input/job_params.json -pdb input/3RVT_ensemble.pdb -i 1 > new.json"
      ]
    },
    {
      "cell_type": "markdown",
      "metadata": {
        "id": "ZvXyPDzM7T3j"
      },
      "source": [
        "Visit [https://bianca.science.uu.nl/haddock2.4/submit_file](https://bianca.science.uu.nl/haddock2.4/submit_file) and upload the `json` file. "
      ]
    },
    {
      "cell_type": "code",
      "execution_count": null,
      "metadata": {
        "id": "MoiR2UXF7T3j"
      },
      "outputs": [],
      "source": [
        "%pwd"
      ]
    },
    {
      "cell_type": "markdown",
      "metadata": {
        "id": "ynycza-27T3j"
      },
      "source": [
        "# Writing the notebook"
      ]
    },
    {
      "cell_type": "markdown",
      "metadata": {
        "id": "P4JNhtCX7T3j"
      },
      "source": [
        "- Style the notebook with style sheet provided in src\n",
        "    - Rationale: Easy way to set context for notebooks, create a \"GROMACS\"-tutorial feel\n",
        "    - Con: requires users to execute the first cell\n",
        "    - Pro: can serve as an introduction on how to execute cells"
      ]
    },
    {
      "cell_type": "markdown",
      "metadata": {
        "id": "Zf4vSulv7T3k"
      },
      "source": [
        "- Write headers (# title, ## header2, etc.) in seperate cells \n",
        "    - Rationale: this enables folding of sections "
      ]
    },
    {
      "cell_type": "markdown",
      "metadata": {
        "id": "65sMxT-67T3k"
      },
      "source": [
        "- Include images as\n",
        "\n",
        "![ImageNotFoundAlternativeTxt](images/Bioexcel_symbol.svg \"Text you will see when hovering over the logo with the mouse\")\n",
        "\n",
        "![ImageNotFoundAlternativeTxt](images/non-existant.svg \"Logo Title Text 1\")\n"
      ]
    },
    {
      "cell_type": "markdown",
      "metadata": {
        "id": "nYa9n-sf7T3k"
      },
      "source": [
        "- Toggle solutions with the hide_toggle() function, hide the next cell with for_next=True"
      ]
    },
    {
      "cell_type": "code",
      "execution_count": null,
      "metadata": {
        "code_folding": [],
        "id": "5bp_cyMy7T3l"
      },
      "outputs": [],
      "source": [
        "#hide this cell\n",
        "hide_toggle()"
      ]
    },
    {
      "cell_type": "code",
      "execution_count": null,
      "metadata": {
        "id": "E35YkOLO7T3l"
      },
      "outputs": [],
      "source": [
        "hide_toggle(for_next=True)"
      ]
    },
    {
      "cell_type": "code",
      "execution_count": null,
      "metadata": {
        "id": "EwAtWX687T3l"
      },
      "outputs": [],
      "source": [
        "#some solution that should not yet be visible"
      ]
    },
    {
      "cell_type": "markdown",
      "metadata": {
        "id": "RaAl3cJ77T3l"
      },
      "source": [
        "more text"
      ]
    },
    {
      "cell_type": "markdown",
      "metadata": {
        "id": "y9De1fn17T3l"
      },
      "source": [
        "# Common pitfalls"
      ]
    },
    {
      "cell_type": "markdown",
      "metadata": {
        "id": "CEzOMQi97T3m"
      },
      "source": [
        "- Cells are stuck in evaluation (marked with `[*]`)\n",
        "    - Reason: Cells are evaluated serially. Jupyter cannot run bash commands in the background. Especially when opening another programm, like vmd, the notebook requires that the window is closed before going further\n",
        "    - Solution : Make workshop participants aware of this \n",
        "    - Solution : Show users the kernel -> interrupt solution\n",
        "    - Solution : start evaluations in subprocess\n",
        "        - Con : spawning subprocesses from within notebooks depends on the python verion. \n",
        "        - Con : This requires some python boilerplate code that makes it harder to have a one-to-one correspondence of the command line command and what users will read in the notebook\n",
        "- Users don't notice that they can execute / run input cells with the run botton, but rather copy-paste or type into the command line\n",
        "- Users feel like they are taken through the notebooks via \"auto-pilot\"\n",
        "    - Solution: Include the `hide_toggles()` function\n",
        "    - Solution: Use quizzes\n",
        "    - Con: This requires executing the first line of code in the notebook to work well\n",
        "- The notebook is unaware of the changes to shell environment and variables changes when executed with '! command!\n",
        "    - Reason: Bash commands are executed in subshells \n",
        "- '!cd directory' does not work as expected\n",
        "    - Reason: Bash commands are executed in subshells \n",
        "    - Solution: use `%cd ` or `cd ` to permanently change the current directory\n",
        "    - Con: this is notebook 'magic' that might confuse useres\n",
        "- Loading environment modules does not work\n",
        "    - Reason: Bash commands are executed in subshells\n",
        "    - Solution: Use python module commands\n",
        "       - Con : Depends on the python version and importing external modules\n",
        "- Markdown cell line breaks look differnetly when markdown cells are executed\n",
        "- Showing contents of long files requires lots of scrolling\n",
        "  - Solution: use `%less filename`\n",
        "- Longer bash script is hard to read in a cell\n",
        "  - Solution: use `%bash` on top of the cell, then continue with usual bash"
      ]
    }
  ],
  "metadata": {
    "anaconda-cloud": {},
    "kernelspec": {
      "display_name": "Python 3 (ipykernel)",
      "language": "python",
      "name": "python3"
    },
    "language_info": {
      "codemirror_mode": {
        "name": "ipython",
        "version": 3
      },
      "file_extension": ".py",
      "mimetype": "text/x-python",
      "name": "python",
      "nbconvert_exporter": "python",
      "pygments_lexer": "ipython3",
      "version": "3.9.7"
    },
    "colab": {
      "name": "Copy of workshop-template-ab.ipynb",
      "provenance": [],
      "collapsed_sections": [
        "fufpyimn7T3P",
        "ZIFALPWw7T3R",
        "Z5a55YCt7T3S",
        "3Aoi2ta37T3T",
        "ZbP8xGIE7T3U",
        "UA3k2-cQ7T3U",
        "KIKYusON7T3e",
        "rACWuSGP7T3f",
        "lXIvhtA27T3i",
        "zUFK9D3r7T3i"
      ]
    }
  },
  "nbformat": 4,
  "nbformat_minor": 0
}