{
  "cells": [
    {
      "cell_type": "markdown",
      "metadata": {
        "id": "view-in-github",
        "colab_type": "text"
      },
      "source": [
        "<a href=\"https://colab.research.google.com/github/rvhonorato/workflow_template/blob/review/gromacs-haddock-ab.ipynb\" target=\"_parent\"><img src=\"https://colab.research.google.com/assets/colab-badge.svg\" alt=\"Open In Colab\"/></a>"
      ]
    },
    {
      "cell_type": "markdown",
      "metadata": {
        "id": "5ALF4jX_7T2-"
      },
      "source": [
        "<img src=\"https://github.com/rvhonorato/workflow_template/blob/main/workflow_template/images/logos.png?raw=1\">\n",
        "\n"
      ]
    },
    {
      "cell_type": "code",
      "source": [
        "# # Install miniconda \n",
        "# #  This will take ~5 minutes\n",
        "# %%bash\n",
        "# MINICONDA_INSTALLER_SCRIPT=Miniconda3-4.5.4-Linux-x86_64.sh\n",
        "# MINICONDA_PREFIX=/usr/local\n",
        "# wget https://repo.continuum.io/miniconda/$MINICONDA_INSTALLER_SCRIPT\n",
        "# chmod +x $MINICONDA_INSTALLER_SCRIPT\n",
        "# ./$MINICONDA_INSTALLER_SCRIPT -b -f -p $MINICONDA_PREFIX \n",
        "# rm $MINICONDA_INSTALLER_SCRIPT"
      ],
      "metadata": {
        "id": "V3jDVHVU8Vt3"
      },
      "execution_count": 1,
      "outputs": []
    },
    {
      "cell_type": "code",
      "source": [
        "# import sys\n",
        "# _ = (sys.path.append(\"/usr/local/lib/python3.6/site-packages\"))"
      ],
      "metadata": {
        "id": "4tXUMWTLTRjG"
      },
      "execution_count": 5,
      "outputs": []
    },
    {
      "cell_type": "code",
      "source": [
        "!git clone https://github.com/rvhonorato/workflow_template.git"
      ],
      "metadata": {
        "id": "NONYM4r_71_Y",
        "colab": {
          "base_uri": "https://localhost:8080/"
        },
        "outputId": "c12b20bd-c5e4-4543-ac0b-496375647f00"
      },
      "execution_count": 2,
      "outputs": [
        {
          "output_type": "stream",
          "name": "stdout",
          "text": [
            "Cloning into 'workflow_template'...\n",
            "remote: Enumerating objects: 377, done.\u001b[K\n",
            "remote: Counting objects: 100% (377/377), done.\u001b[K\n",
            "remote: Compressing objects: 100% (300/300), done.\u001b[K\n",
            "remote: Total 377 (delta 85), reused 344 (delta 69), pack-reused 0\u001b[K\n",
            "Receiving objects: 100% (377/377), 9.77 MiB | 13.58 MiB/s, done.\n",
            "Resolving deltas: 100% (85/85), done.\n"
          ]
        }
      ]
    },
    {
      "cell_type": "code",
      "source": [
        "%cd workflow_template"
      ],
      "metadata": {
        "id": "JNe8RuDNLuOH",
        "outputId": "735eb032-6348-4625-da0a-c931f6f8abf4",
        "colab": {
          "base_uri": "https://localhost:8080/"
        }
      },
      "execution_count": 3,
      "outputs": [
        {
          "output_type": "stream",
          "name": "stdout",
          "text": [
            "/content/workflow_template\n"
          ]
        }
      ]
    },
    {
      "cell_type": "code",
      "source": [
        "!git checkout review"
      ],
      "metadata": {
        "colab": {
          "base_uri": "https://localhost:8080/"
        },
        "id": "kXg_npnqMxRA",
        "outputId": "ad7d9cb8-9287-42a5-e413-853752536983"
      },
      "execution_count": 4,
      "outputs": [
        {
          "output_type": "stream",
          "name": "stdout",
          "text": [
            "Branch 'review' set up to track remote branch 'review' from 'origin'.\n",
            "Switched to a new branch 'review'\n"
          ]
        }
      ]
    },
    {
      "cell_type": "code",
      "source": [
        "# Install NGLView for a nice visualization :)\n",
        "!pip install nglview 1> /dev/null"
      ],
      "metadata": {
        "id": "wjBnO6tXM0gE"
      },
      "execution_count": 5,
      "outputs": []
    },
    {
      "cell_type": "code",
      "source": [
        "from google.colab import output\n",
        "output.enable_custom_widget_manager()"
      ],
      "metadata": {
        "id": "3rQ6nWV8M9Us"
      },
      "execution_count": 6,
      "outputs": []
    },
    {
      "cell_type": "code",
      "execution_count": 7,
      "metadata": {
        "hide_input": true,
        "id": "xgAwgA197T3A",
        "outputId": "9cacd70a-e673-4010-8bad-770df11584c5",
        "colab": {
          "base_uri": "https://localhost:8080/",
          "height": 37
        }
      },
      "outputs": [
        {
          "output_type": "display_data",
          "data": {
            "text/html": [
              "<style>\n",
              ".solarized.base03 { color: #002b36; }\n",
              ".solarized.base02 { color: #073642; }\n",
              ".solarized.base01 { color: #586e75; }\n",
              ".solarized.base00 { color: #657b83; }\n",
              ".solarized.base0 { color: #839496; }\n",
              ".solarized.base1 { color: #93a1a1; }\n",
              ".solarized.base2 { color: #eee8d5; }\n",
              ".solarized.base3  { color: #fdf6e3; }\n",
              ".solarized.solar-yellow  { color: #b58900; }\n",
              ".solarized.solar-orange  { color: #cb4b16; }\n",
              ".solarized.solar-red { color: #dc322f; }\n",
              ".solarized.solar-magenta { color: #d33682; }\n",
              ".solarized.solar-violet  { color: #6c71c4; }\n",
              ".solarized.solar-blue { color: #268bd2; }\n",
              ".solarized.solar-cyan { color: #2aa198; }\n",
              ".solarized.solar-green { color: #859900; }\n",
              "\n",
              ".ansiyellow { color: #b58900; }\n",
              ".ansiorange { color: #cb4b16; }\n",
              ".ansired { color: #dc322f; }\n",
              ".ansimagenta { color: #d33682; }\n",
              ".ansiviolet { color: #6c71c4; }\n",
              ".ansiblue { color: #268bd2; }\n",
              ".ansicyan { color: #2aa198; }\n",
              ".ansigreen { color: #859900; }\n",
              "\n",
              ".gromacs.blue {color: #3e3e7f}\n",
              "/* Notebook styling */\n",
              "\n",
              "body, p, div.rendered_html { \n",
              "    color: #162351;\n",
              "     font-family:  'PT Sans';\n",
              "/*    font-family:  'PT Sans', 'PT Serif', Georgia, Times, 'Times New Roman', serif; */\n",
              "    font-size: 12pt;\n",
              "    align: justify;\n",
              "}\n",
              "\n",
              "body { background-color: #eee8d5 !important;  align: justify; }\n",
              "\n",
              "#notebook { \n",
              "    background-color: #E7EFFF !important;\n",
              "    box-shadow: inset 20px 36px 20px -35px black !important;  align: justify;\n",
              "}\n",
              "\n",
              "/*\n",
              "#maintoolbar { padding-top: 1em; padding-bottom: 1em; }\n",
              "#header { border-color: #93a1a1 !important; }\n",
              "*/\n",
              "/* Pager */\n",
              "\n",
              "#pager_splitter { background: none !important; }\n",
              "#pager {\n",
              "    background-color: #eee8d5;\n",
              "}\n",
              "div#pager pre {\n",
              "    background-color: #fdf6e3;\n",
              "    color: #586e75;\n",
              "}    \n",
              "\n",
              "/* Forms and menus */\n",
              "/*\n",
              ".navbar-default, .navbar-static-top {\n",
              "    background-color: #fdf6e3 !important;\n",
              "    color: #586e75 !important;\n",
              "}\n",
              ".navbar-default { border: none !important; }\n",
              ".navbar-nav > li > a { color: #586e75 !important; }\n",
              ".navbar-nav > li.open > a { background-color: #eee8d5 !important; color: #93a1a1 !important; }\n",
              ".nav > li.active > a { background-color: #eee8d5 !important; color: #586e75 !important; }\n",
              "\n",
              ".dropdown-menu { background-color: #fdf6e3 !important; border: none !important; }\n",
              ".dropdown-menu > li > a { color: #586e75 !important; }\n",
              ".dropdown-menu > li > a:hover { background-color: #eee8d5 !important; }\n",
              ".dropdown-menu > li.disabled > a { color: #93a1a1 !important; }\n",
              "\n",
              "button, .btn-default, .form-control, select {\n",
              "    background-color: #fdf6e3 !important;\n",
              "    color: #586e75 !important;\n",
              "}\n",
              "*/\n",
              "/* Tooltips */\n",
              "\n",
              ".completions {\n",
              "    border: none;\n",
              "    -moz-box-shadow: none;\n",
              "    -webkit-box-shadow: none;\n",
              "    box-shadow: none;\n",
              "    border-radius: 0;\n",
              "    margin-top: 0.5em;\n",
              "}\n",
              ".completions select { font-size: 11pt; }\n",
              "\n",
              ".ipython_tooltip .tooltiptext pre { \n",
              "    font-size: 10pt;\n",
              "    background-color: #eee8d5;\n",
              "    color: #586e75;\n",
              "}\n",
              ".ipython_tooltip {\n",
              "    -moz-box-shadow: none;\n",
              "    -webkit-box-shadow: none;\n",
              "    box-shadow: none;\n",
              "    background-color: #eee8d5;\n",
              "    color: #586e75;\n",
              "}\n",
              ".pretooltiparrow:before {\n",
              "    background-color: #eee8d5;\n",
              "}\n",
              "\n",
              "/* Cell output */\n",
              "\n",
              ".rendered_html pre, .rendered_html code {\n",
              "    color: inherit !important;\n",
              "    background-color: inherit !important;\n",
              "}\n",
              "div.output_area pre {\n",
              "    color: #93a1a1 !important;\n",
              "}\n",
              ".rendered_html table, .rendered_html td, .rendered_html th {\n",
              "    border: 1px solid #586e75 !important;\n",
              "}\n",
              "\n",
              "/* Modal dialogs */\n",
              "\n",
              ".modal-content, .modal-content p {\n",
              "    background-color: #eee8d5 !important;\n",
              "    color: #586e75 !important;\n",
              "}\n",
              "\n",
              "/* Cell styling */\n",
              "\n",
              "div.cell.selected { border-color: #839496 !important; }\n",
              "div.cell.edit_mode { border-color: #268bd2 !important; }\n",
              "div.input_prompt { color: #268bd2 !important; }\n",
              "div.output_prompt { color: #dc322f !important; }\n",
              "div.input_area { border: none !important; background: none !important; }\n",
              "\n",
              ".celltoolbar {\n",
              "    background: #eee8d5 !important;\n",
              "    color: #586e75 !important;\n",
              "}\n",
              "\n",
              "/*    border: 1px solid #002b36 !important;*/\n",
              "/* CodeMirror Styling */\n",
              "/*\n",
              ".cm-s-ipython {\n",
              "    line-height: 1.45em;\n",
              "    color-profile: sRGB;\n",
              "    rendering-intent: auto;\n",
              "    background-color: #002b36;\n",
              "    color: #93a1a1;\n",
              "    text-shadow: none;\n",
              "    border-radius: 4px;\n",
              "}\n",
              "*/\n",
              "/* Cursor */\n",
              "\n",
              ".cm-s-ipython div.CodeMirror-cursor {\n",
              "    border: none;\n",
              "    width: 0.6em;\n",
              "    background-color: rgba(100, 100, 100, 0.5);\n",
              "}\n",
              "\n",
              "/* Gutters */\n",
              "\n",
              "/*\n",
              ".cm-s-ipython .CodeMirror-gutters {\n",
              "  border-right: 1px solid;\n",
              "}\n",
              "\n",
              ".cm-s-ipython .CodeMirror-gutters {\n",
              "  background-color:  #002b36;\n",
              "  border-color: #00232c;\n",
              "}\n",
              "\n",
              ".cm-s-ipython .CodeMirror-linenumber {\n",
              "  text-shadow: #021014 0 -1px;\n",
              "  padding: 0 8px 0 0;\n",
              "  color: #586e75;\n",
              "}\n",
              "*/\n",
              "/*\n",
              ".cm-s-ipython .CodeMirror-guttermarker-subtle { color: #586e75; }\n",
              ".cm-s-ipython .CodeMirror-guttermarker { color: #ddd; }\n",
              "*/\n",
              "/* Syntax highlighting */\n",
              "/*\n",
              ".cm-s-ipython span.cm-keyword { color: #cb4b16 }\n",
              ".cm-s-ipython span.cm-atom { color: #d33682; }\n",
              ".cm-s-ipython span.cm-number { color: #d33682; }\n",
              ".cm-s-ipython span.cm-def { color: #268bd2; font-weight: bold; }\n",
              "\n",
              ".cm-s-ipython span.cm-variable { color: #93a1a1; }\n",
              ".cm-s-ipython span.cm-variable-2 { color: #b58900; }\n",
              ".cm-s-ipython span.cm-variable-3 { color: #6c71c4; }\n",
              "\n",
              ".cm-s-ipython span.cm-property { color: #2aa198; }\n",
              ".cm-s-ipython span.cm-operator {color: #6c71c4;}\n",
              "\n",
              ".cm-s-ipython span.cm-comment { color: #6c71c4; font-style: italic; }\n",
              "\n",
              ".cm-s-ipython span.cm-string { color: #2aa198; }\n",
              ".cm-s-ipython span.cm-string-2 { color: #b58900; }\n",
              "\n",
              ".cm-s-ipython span.cm-meta { color: #859900; }\n",
              ".cm-s-ipython span.cm-qualifier { color: #b58900; }\n",
              ".cm-s-ipython span.cm-builtin { color: #859900; }\n",
              ".cm-s-ipython span.cm-bracket { color: #cb4b16; }\n",
              ".cm-s-ipython .CodeMirror-matchingbracket { color: #b58900 !important; font-weight: bold; }\n",
              ".cm-s-ipython .CodeMirror-nonmatchingbracket { color: #dc322f; }\n",
              ".cm-s-ipython span.cm-tag { color: #93a1a1 }\n",
              ".cm-s-ipython span.cm-attribute {  color: #2aa198; }\n",
              ".cm-s-ipython span.cm-header { color: #586e75; }\n",
              ".cm-s-ipython span.cm-quote { color: #93a1a1; }\n",
              ".cm-s-ipython span.cm-hr {\n",
              "  color: transparent;\n",
              "  border-top: 1px solid #080e05;\n",
              "  display: block;\n",
              "}\n",
              ".cm-s-ipython span.cm-link { color: #93a1a1; cursor: pointer; }\n",
              ".cm-s-ipython span.cm-special { color: #6c71c4; }\n",
              ".cm-s-ipython span.cm-em {\n",
              "  color: #999;\n",
              "  text-decoration: underline;\n",
              "  text-decoration-style: dotted;\n",
              "}\n",
              ".cm-s-ipython span.cm-strong { color: #eee; }\n",
              ".cm-s-ipython span.cm-error,\n",
              ".cm-s-ipython span.cm-invalidchar {\n",
              "  color: #586e75;\n",
              "  border-bottom: 1px dotted #dc322f;\n",
              "}\n",
              "*/\n",
              "</style>\n"
            ],
            "text/plain": [
              "<IPython.core.display.HTML object>"
            ]
          },
          "metadata": {}
        },
        {
          "output_type": "execute_result",
          "data": {
            "text/html": [
              "\n",
              "        <script>\n",
              "            function code_toggle_4744696993593618317() {\n",
              "                $('div.cell.code_cell.rendered.selected').find('div.input').toggle();\n",
              "            }\n",
              "\n",
              "            \n",
              "        </script>\n",
              "\n",
              "        <a href=\"javascript:code_toggle_4744696993593618317()\">Show/hide solution</a>\n",
              "    "
            ],
            "text/plain": [
              "<IPython.core.display.HTML object>"
            ]
          },
          "metadata": {},
          "execution_count": 7
        }
      ],
      "source": [
        "# Initialize this notebook's style and functionalities\n",
        "%run src/init_notebooks.py\n",
        "hide_toggle()"
      ]
    },
    {
      "cell_type": "markdown",
      "metadata": {
        "id": "YarMkd2q7T3B"
      },
      "source": [
        "# A GROMACS - HADDOCK antibody workflow \n",
        "\n",
        "```\n",
        "Author                : Alessandra Villa, Zuzana Jandova\n",
        "Goal                  : Jupyter notebook for training purposes in antibody simulation and docking\n",
        "Time                  : 10 minutes reading time, no computation wait time\n",
        "Prerequisites         : Know how to run an md simulation, register with HADDOCK\n",
        "Software requirements : GROMACS (version 2020) , pdb-tools, python 2.7, HMMER, Biopandas, Biopython\n",
        "Tested for            : \n",
        "```\n",
        " "
      ]
    },
    {
      "cell_type": "markdown",
      "metadata": {
        "id": "sHL_HN8i7T3C"
      },
      "source": [
        "# Table of Contents\n",
        "\n",
        "* [Use Case Introduction](#UCintro)\n",
        "* [Description of the Workflow](#Workflow)\n",
        "* [Structure preparation](#Structure)\n",
        "* [Molecular Dynamics with GROMACS](#MD)\n",
        "* [CDRs identification](#CDRs)\n",
        "* [Cluster antibody trajectory](#Cluster) \n",
        "* [Prepare HADDOCK json file](#HADDOCK)"
      ]
    },
    {
      "cell_type": "markdown",
      "metadata": {
        "id": "GbM4CzFU7T3D"
      },
      "source": [
        " ## <a class=\"anchor\" id=\"UCintro\" > Use Case Introduction </a>"
      ]
    },
    {
      "cell_type": "markdown",
      "metadata": {
        "id": "SYV5kiKW7T3E"
      },
      "source": [
        "\n",
        "Antibody design has grown into one of the fastest growing branches in the pharmaceutical industry. Antibodies promise extremely high specificity and the ability to use the body’s own immune system to kill e.g. tumors, however  their size and complexity make their computational design challenging. \n",
        " \n",
        "An antibody is a large protein that generally works by attaching itself to an antigen, which is a unique site of the pathogen. The binding harnesses the immune system to directly attack and destroy the pathogen. Antibodies can be highly specific while showing low immunogenicity, which is achieved by their unique structure. **The fragment crystallizable region (Fc region**) activates the immune response and is species specific, i.e. human Fc region should not evoke an immune response in humans.  **The fragment antigen-binding region (Fab region**) needs to be highly variable to be able to bind to antigens of various nature (high specificity).  The terminal (antigen recognising) domain of the Fab region is caleld **the variable domain (Fv domain)**.\n",
        " \n",
        "\n",
        "<figure >\n",
        "<img src=\"https://github.com/rvhonorato/workflow_template/blob/main/workflow_template/images/antibody_described.png?raw=1\">\n",
        "</figure>\n",
        "\n",
        "The small part of the Fab region that binds the antigen is called **paratope**. The part of the antigen that binds to an antibody is called **epitope**. The paratope consists of six highly flexible loops, known as **complementarity-determining regions (CDRs)** or hypervariable loops whose sequence and conformation are altered to bind to different antigens.  \n",
        "\n",
        "\n",
        " - Specific problem \n",
        "\n",
        " - Introduction of use case as tutorial\n",
        " what they will learn from a tutorial\n",
        "  \n",
        " - References\n",
        "     - reading material\n"
      ]
    },
    {
      "cell_type": "markdown",
      "metadata": {
        "id": "9G4tFvC_7T3F"
      },
      "source": [
        " ## <a class=\"anchor\" id=\"Workflow\"> Description of the Workflow </a>"
      ]
    },
    {
      "cell_type": "markdown",
      "metadata": {
        "id": "_Icv03gc7T3G"
      },
      "source": [
        "This jupyter notebook combines two approaches: molecular dynamics (MD) simulation with [GROMACS](http://www.gromacs.org/About_Gromacs) and molecular docking with [HADDOCK](https://www.bonvinlab.org/software/haddock2.4/) to provide a good starting point for antibody design. We improve the sampling of the CDRs  using MD, extract the most diverse loop conformations and prepare such ensemble for running with HADDOCK. \n",
        "\n",
        "\n",
        "\n",
        "<img src=\"https://github.com/rvhonorato/workflow_template/blob/main/workflow_template/images/UC1_example.png?raw=1\" width=\"500\">\n",
        "\n",
        "\n",
        "To obtain the best prediction of a bound antibody-antigen complex, we will be using a worflow consisting of several steps. \n",
        "<img src=\"https://github.com/rvhonorato/workflow_template/blob/main/workflow_template/images/workflow.png?raw=1\" width=\"900\">\n",
        "\n",
        "\n",
        "1. Download PDBs of antibody and antigen\n",
        "1. Pre-processing antibody pdb for HADDOCK\n",
        "1. Converting antibody pdb into GROMACS\n",
        "1. Generation of mdrun input file  \n",
        "1. Setup MD of unbound antibody (gmx) run mdrun (run local or on HPC - script)\n",
        "1. Trajectory postprocessing (remove pbc) gmx trjconv \n",
        "1. Define loop residues – (protocol Ambrosetti et al., 2020)\n",
        "1. Index on loop residues & backbone (gmx)\n",
        "1. Cluster MD of unbound antibody by loop residue conformations (gmx cluster) gromos\n",
        "1. extract 20 most populated cluster (automatic with gromos)\n",
        "1. Prepare clusters from MD for docking (renumber) ⟹ setup docking run json file\n",
        "\n",
        "\n",
        "\n",
        "\n"
      ]
    },
    {
      "cell_type": "markdown",
      "metadata": {
        "id": "9eMOBwqZ7T3H"
      },
      "source": [
        " ## System setting"
      ]
    },
    {
      "cell_type": "markdown",
      "metadata": {
        "id": "icgHYrUe7T3I"
      },
      "source": [
        "The starting point is a antibody structure file. For this tutorial, we will utilize a Fab part of an antibody (PDB code [3RVT](http://www.rcsb.org/structure/3RVT)) which binds to the group 1 house dust mite allergen (PDB code [3F5B](http://www.rcsb.org/structure/3F5B)). As a reference, a crystal structure of the complex is available (PDB code [3RVW](http://www.rcsb.org/structure/3RVW)). All files are available from the RCSB website, https://www.rcsb.org/. For this tutorial, the PDB file for the crystal structure is depositied in `input` directory as \"3RVT.pdb\" ."
      ]
    },
    {
      "cell_type": "markdown",
      "metadata": {
        "id": "ys7c8TpP7T3J"
      },
      "source": [
        "Below you can visualize the antibody structure  "
      ]
    },
    {
      "cell_type": "markdown",
      "metadata": {
        "id": "9fiSAaXT7T3K"
      },
      "source": [
        "In alternative you can visualize the structure using a viewing program such as VMD.\n",
        "Note: close the VMD window after you are done looking at the protein to continue with this notebook"
      ]
    },
    {
      "cell_type": "markdown",
      "metadata": {
        "id": "_2qAjAfd7T3K"
      },
      "source": [
        "# <a class=\"anchor\" id=\"Structure\">Structure preparation </a>"
      ]
    },
    {
      "cell_type": "markdown",
      "metadata": {
        "id": "gIRD7DVY7T3L"
      },
      "source": [
        "## Get your pdb"
      ]
    },
    {
      "cell_type": "markdown",
      "metadata": {
        "id": "FEBWhdlI7T3N"
      },
      "source": [
        "In this step we will make use of the local version of [PDB-tools](http://www.bonvinlab.org/pdb-tools/). PDB-tools were designed to be a swiss-knife for the PDB format. They have no external dependencies, besides the Python programming language. You can find them on [Github](https://github.com/haddocking/pdb-tools) or as a webserver. [PDB-tools webserver](https://wenmr.science.uu.nl/pdbtools/) is a powerful tool that enables you to edit pdbs quickly and painlessly without any scripting knowledge."
      ]
    },
    {
      "cell_type": "code",
      "execution_count": 8,
      "metadata": {
        "id": "JLcUloNG7T3N",
        "colab": {
          "base_uri": "https://localhost:8080/"
        },
        "outputId": "7adb323d-4154-487b-b28b-fe6a0611fc2d"
      },
      "outputs": [
        {
          "output_type": "stream",
          "name": "stdout",
          "text": [
            "/content/workflow_template/data\n"
          ]
        }
      ],
      "source": [
        "%cd data"
      ]
    },
    {
      "cell_type": "code",
      "source": [
        "!pip install pdb-tools 1> /dev/null"
      ],
      "metadata": {
        "id": "x5ASCgIZSw6a"
      },
      "execution_count": 9,
      "outputs": []
    },
    {
      "cell_type": "code",
      "execution_count": 10,
      "metadata": {
        "id": "g0PP7ljv7T3O"
      },
      "outputs": [],
      "source": [
        "!pdb_fetch -biounit 3RVT > 3RVT.pdb"
      ]
    },
    {
      "cell_type": "code",
      "execution_count": 11,
      "metadata": {
        "id": "NgIttdJv7T3O"
      },
      "outputs": [],
      "source": [
        "representations=[\n",
        "    {\"type\": \"cartoon\", \"params\": {\n",
        "        \"sele\": \"protein and not ANI\", \"color\": \"chainname\", \n",
        "    }},\n",
        "    {\"type\": \"ball+stick\", \"params\": {\n",
        "        \"sele\": \"hetero\"\n",
        "    }},]   "
      ]
    },
    {
      "cell_type": "code",
      "execution_count": 12,
      "metadata": {
        "id": "vDTFC5Iz7T3P",
        "colab": {
          "base_uri": "https://localhost:8080/",
          "height": 317,
          "referenced_widgets": [
            "9e7780b0632547d5bda3a5dcf0b97516",
            "ed489fccf61a4a4dabf34655f12ddbb5",
            "ef25ce3ee9394ef9aca2cb91496ea3e1",
            "83a3d4658b4d4434b8e42cdb09f8d568",
            "322c0d9339434249a78857ee69419bca",
            "47481356d2664dc0a10766d30b0414fc",
            "8bb17131b2164310a886e1009737dbf5",
            "8923f1adb4e543f69c2d34347cd528a6",
            "b12ef8a8f80546458034bc0fcfa711d1",
            "dc0a1d755a454dcfa5df20e4b3a5951c",
            "f8e1b0c356ae4efebba42b05540b9d9c",
            "8034f0af4c554b958f6fa7208128916e",
            "0c1506490b374fe78ef5c40ff7157fce",
            "4f9cb564e9ec4e988af0472c8b5d71b2",
            "be67cf72554145c68ff0dbce54693c52"
          ]
        },
        "outputId": "1ab85af6-a986-459d-cda3-8776445b98fc"
      },
      "outputs": [
        {
          "output_type": "display_data",
          "data": {
            "application/vnd.jupyter.widget-view+json": {
              "model_id": "9e7780b0632547d5bda3a5dcf0b97516",
              "version_minor": 0,
              "version_major": 2
            },
            "text/plain": [
              ""
            ]
          },
          "metadata": {
            "application/vnd.jupyter.widget-view+json": {
              "colab": {
                "custom_widget_manager": {
                  "url": "https://ssl.gstatic.com/colaboratory-static/widgets/colab-cdn-widget-manager/a8874ba6619b6106/manager.min.js"
                }
              }
            }
          }
        },
        {
          "output_type": "display_data",
          "data": {
            "application/vnd.jupyter.widget-view+json": {
              "model_id": "f8e1b0c356ae4efebba42b05540b9d9c",
              "version_minor": 0,
              "version_major": 2
            },
            "text/plain": [
              "NGLWidget()"
            ]
          },
          "metadata": {
            "application/vnd.jupyter.widget-view+json": {
              "colab": {
                "custom_widget_manager": {
                  "url": "https://ssl.gstatic.com/colaboratory-static/widgets/colab-cdn-widget-manager/a8874ba6619b6106/manager.min.js"
                }
              }
            }
          }
        }
      ],
      "source": [
        "import nglview as nv\n",
        "view = nv.show_structure_file(\"3RVT.pdb\", defaultRepresentation= False)\n",
        "view.representations = representations\n",
        "view\n",
        "# click and drag to rotate, zoom with your mouseweel \n",
        "# for more infor on this viewer have a look at https://github.com/nglviewer/nglview"
      ]
    },
    {
      "cell_type": "markdown",
      "metadata": {
        "id": "fufpyimn7T3P"
      },
      "source": [
        "### Clean your pdb\n"
      ]
    },
    {
      "cell_type": "code",
      "source": [
        "# Swaps the segment identifier for the chain identifier.\n",
        "!pdb_chainxseg 3RVT.pdb > 3RVT_seg.pdb "
      ],
      "metadata": {
        "id": "kzsZBCxdNcTh"
      },
      "execution_count": null,
      "outputs": []
    },
    {
      "cell_type": "code",
      "source": [
        "# Splits a PDB file into several, each containing one segment.\n",
        "!pdb_splitseg 3RVT_seg.pdb "
      ],
      "metadata": {
        "id": "-Q3ki1hSNdTo"
      },
      "execution_count": 14,
      "outputs": []
    },
    {
      "cell_type": "code",
      "source": [
        "# Renumbers the residues of the PDB file starting from 501\n",
        "!pdb_reres -501 3RVT_seg_D.pdb  > 3RVT_seg_D_ren.pdb  "
      ],
      "metadata": {
        "id": "0vzp2ohFNeBC"
      },
      "execution_count": 15,
      "outputs": []
    },
    {
      "cell_type": "code",
      "source": [
        "# Merges several PDB files into one.\n",
        "!pdb_merge 3RVT_seg_C.pdb 3RVT_seg_D_ren.pdb > 3RVT_merged.pdb "
      ],
      "metadata": {
        "id": "kDNHtZ6WNfBX"
      },
      "execution_count": 16,
      "outputs": []
    },
    {
      "cell_type": "code",
      "source": [
        "# Modifies the chain identifier column of a PDB file,\n",
        "# Modifies the segment identifier column of a PDB file,\n",
        "# Removes all HETATM records in the PDB file,\n",
        "# Modifies the file to adhere (as much as possible) to the format specifications.\n",
        "!pdb_chain -A 3RVT_merged.pdb | pdb_seg| pdb_delhetatm | pdb_tidy  > 3RVT_clean.pdb  "
      ],
      "metadata": {
        "id": "6rsQr-o-Nf3Z"
      },
      "execution_count": 17,
      "outputs": []
    },
    {
      "cell_type": "code",
      "source": [
        " # Remove ANISOU records from PDB\n",
        "!grep -v ANISOU 3RVT_clean.pdb > oo\n",
        "!mv oo 3RVT_clean.pdb"
      ],
      "metadata": {
        "id": "QMeBGc-aNhX1"
      },
      "execution_count": 18,
      "outputs": []
    },
    {
      "cell_type": "code",
      "source": [
        "# Remove intermediary files\n",
        "!rm *merged.pdb *seg* "
      ],
      "metadata": {
        "id": "3su2ZtnyNiZT"
      },
      "execution_count": 19,
      "outputs": []
    },
    {
      "cell_type": "code",
      "execution_count": 20,
      "metadata": {
        "id": "MVp1OPa47T3Q",
        "colab": {
          "base_uri": "https://localhost:8080/",
          "height": 335,
          "referenced_widgets": [
            "fd82cc5e2c93453cb2c4d93c24bbc9b6",
            "270c2b1869914eceb75615b0c86e0f5a",
            "646656c490fd40769c2fac0eac0a2dec",
            "f81c50f0e2c841079df1752b9b2e56b8",
            "6867fbb8a1c94e00b7f50935e4cbafca",
            "f8bcf1ead2564c0ba0b34d29bd935950",
            "714b0e64d97d4ea3a0e01ae75f9c2ab5",
            "975bc1fe30a249a8a3368028ea6300bf",
            "dc71da214ccc457d818e16aa540aad08",
            "765a86ac7ecd4e2c90591be94180f4a9",
            "1eb3571e34424e769036b7bad0e352b4",
            "ffc860b7206347a59f3c685d4fc80afb",
            "16a0eb72574c4115ad5a32abf37c451a"
          ]
        },
        "outputId": "4b521848-0241-4c3a-9dd2-feef21a2c5b7"
      },
      "outputs": [
        {
          "output_type": "stream",
          "name": "stdout",
          "text": [
            "3RVT_clean.pdb\n"
          ]
        },
        {
          "output_type": "display_data",
          "data": {
            "application/vnd.jupyter.widget-view+json": {
              "model_id": "fd82cc5e2c93453cb2c4d93c24bbc9b6",
              "version_minor": 0,
              "version_major": 2
            },
            "text/plain": [
              "NGLWidget()"
            ]
          },
          "metadata": {
            "application/vnd.jupyter.widget-view+json": {
              "colab": {
                "custom_widget_manager": {
                  "url": "https://ssl.gstatic.com/colaboratory-static/widgets/colab-cdn-widget-manager/a8874ba6619b6106/manager.min.js"
                }
              }
            }
          }
        }
      ],
      "source": [
        "%ls 3RVT_clean.pdb\n",
        "# view.clear_representations()\n",
        "view = nv.show_file(\"3RVT.pdb\",  defaultRepresentation=True)\n",
        "# view.representations = representations\n",
        "view"
      ]
    },
    {
      "cell_type": "markdown",
      "metadata": {
        "id": "bXqoIWSs7T3Q"
      },
      "source": [
        "Once you've had a look at the molecule, you are going to check that only the protein is present in the pdb file. Otherwise strip out all the other molecules in the crystal . To delete the other molecules , either use a plain text editor like vi, emacs (Linux/Mac), or Notepad (Windows). Do not use word processing software! \n",
        "\n",
        "Always check your .pdb file for entries listed under the comment MISSING, as these entries indicate either atoms or whole residues that are not present in the crystal structure. Terminal regions may be absent, and may not present a problem for dynamics."
      ]
    },
    {
      "cell_type": "markdown",
      "metadata": {
        "id": "BYi4wrVN7T3R"
      },
      "source": [
        "#  <a class=\"anchor\" id=\"MD\"> Molecular Dynamics with GROMACS </a >"
      ]
    },
    {
      "cell_type": "code",
      "source": [
        "# Download and unzip the compressed folder of GROMACS 2020.6 version\n",
        "!wget https://raw.githubusercontent.com/pb3lab/ibm3202/master/software/gromacs.tar.gz\n",
        "!tar xzf gromacs.tar.gz\n",
        "!pip install cmake --upgrade"
      ],
      "metadata": {
        "colab": {
          "base_uri": "https://localhost:8080/"
        },
        "id": "en3sU2G1PueM",
        "outputId": "b007a2a2-1c85-4b35-fc11-e062f574bcb2"
      },
      "execution_count": 1,
      "outputs": [
        {
          "output_type": "stream",
          "name": "stdout",
          "text": [
            "--2021-12-21 14:21:04--  https://raw.githubusercontent.com/pb3lab/ibm3202/master/software/gromacs.tar.gz\n",
            "Resolving raw.githubusercontent.com (raw.githubusercontent.com)... 185.199.108.133, 185.199.109.133, 185.199.110.133, ...\n",
            "Connecting to raw.githubusercontent.com (raw.githubusercontent.com)|185.199.108.133|:443... connected.\n",
            "HTTP request sent, awaiting response... 200 OK\n",
            "Length: 35608971 (34M) [application/octet-stream]\n",
            "Saving to: ‘gromacs.tar.gz’\n",
            "\n",
            "gromacs.tar.gz      100%[===================>]  33.96M   164MB/s    in 0.2s    \n",
            "\n",
            "2021-12-21 14:21:06 (164 MB/s) - ‘gromacs.tar.gz’ saved [35608971/35608971]\n",
            "\n",
            "Requirement already satisfied: cmake in /usr/local/lib/python3.7/dist-packages (3.12.0)\n",
            "Collecting cmake\n",
            "  Downloading cmake-3.22.1-py2.py3-none-manylinux_2_17_x86_64.manylinux2014_x86_64.whl (22.7 MB)\n",
            "\u001b[K     |████████████████████████████████| 22.7 MB 4.2 MB/s \n",
            "\u001b[?25hInstalling collected packages: cmake\n",
            "  Attempting uninstall: cmake\n",
            "    Found existing installation: cmake 3.12.0\n",
            "    Uninstalling cmake-3.12.0:\n",
            "      Successfully uninstalled cmake-3.12.0\n",
            "Successfully installed cmake-3.22.1\n"
          ]
        }
      ]
    },
    {
      "cell_type": "code",
      "source": [
        "%%bash\n",
        "source /content/gromacs/bin/GMXRC\n",
        "gmx -h"
      ],
      "metadata": {
        "colab": {
          "base_uri": "https://localhost:8080/"
        },
        "id": "TRH7iAOuXbzZ",
        "outputId": "f0836a7e-8107-4f5e-a4ec-020805b2ae42"
      },
      "execution_count": 21,
      "outputs": [
        {
          "output_type": "stream",
          "name": "stdout",
          "text": [
            "SYNOPSIS\n",
            "\n",
            "gmx [-[no]h] [-[no]quiet] [-[no]version] [-[no]copyright] [-nice <int>]\n",
            "    [-[no]backup]\n",
            "\n",
            "OPTIONS\n",
            "\n",
            "Other options:\n",
            "\n",
            " -[no]h                     (no)\n",
            "           Print help and quit\n",
            " -[no]quiet                 (no)\n",
            "           Do not print common startup info or quotes\n",
            " -[no]version               (no)\n",
            "           Print extended version information and quit\n",
            " -[no]copyright             (yes)\n",
            "           Print copyright information on startup\n",
            " -nice   <int>              (19)\n",
            "           Set the nicelevel (default depends on command)\n",
            " -[no]backup                (yes)\n",
            "           Write backups if output files exist\n",
            "\n",
            "Additional help is available on the following topics:\n",
            "    commands    List of available commands\n",
            "    selections  Selection syntax and usage\n",
            "To access the help, use 'gmx help <topic>'.\n",
            "For help on a command, use 'gmx help <command>'.\n"
          ]
        },
        {
          "output_type": "stream",
          "name": "stderr",
          "text": [
            "                         :-) GROMACS - gmx, 2020.6 (-:\n",
            "\n",
            "                            GROMACS is written by:\n",
            "     Emile Apol      Rossen Apostolov      Paul Bauer     Herman J.C. Berendsen\n",
            "    Par Bjelkmar      Christian Blau   Viacheslav Bolnykh     Kevin Boyd    \n",
            " Aldert van Buuren   Rudi van Drunen     Anton Feenstra       Alan Gray     \n",
            "  Gerrit Groenhof     Anca Hamuraru    Vincent Hindriksen  M. Eric Irrgang  \n",
            "  Aleksei Iupinov   Christoph Junghans     Joe Jordan     Dimitrios Karkoulis\n",
            "    Peter Kasson        Jiri Kraus      Carsten Kutzner      Per Larsson    \n",
            "  Justin A. Lemkul    Viveca Lindahl    Magnus Lundborg     Erik Marklund   \n",
            "    Pascal Merz     Pieter Meulenhoff    Teemu Murtola       Szilard Pall   \n",
            "    Sander Pronk      Roland Schulz      Michael Shirts    Alexey Shvetsov  \n",
            "   Alfons Sijbers     Peter Tieleman      Jon Vincent      Teemu Virolainen \n",
            " Christian Wennberg    Maarten Wolf      Artem Zhmurov   \n",
            "                           and the project leaders:\n",
            "        Mark Abraham, Berk Hess, Erik Lindahl, and David van der Spoel\n",
            "\n",
            "Copyright (c) 1991-2000, University of Groningen, The Netherlands.\n",
            "Copyright (c) 2001-2019, The GROMACS development team at\n",
            "Uppsala University, Stockholm University and\n",
            "the Royal Institute of Technology, Sweden.\n",
            "check out http://www.gromacs.org for more information.\n",
            "\n",
            "GROMACS is free software; you can redistribute it and/or modify it\n",
            "under the terms of the GNU Lesser General Public License\n",
            "as published by the Free Software Foundation; either version 2.1\n",
            "of the License, or (at your option) any later version.\n",
            "\n",
            "GROMACS:      gmx, version 2020.6\n",
            "Executable:   /content/gromacs/bin/gmx\n",
            "Data prefix:  /content/gromacs\n",
            "Working dir:  /content/workflow_template/data\n",
            "Command line:\n",
            "  gmx -h\n",
            "\n",
            "\n",
            "GROMACS reminds you: \"Here's Another Useful Quote\" (S. Boot)\n",
            "\n"
          ]
        }
      ]
    },
    {
      "cell_type": "markdown",
      "metadata": {
        "id": "ZIFALPWw7T3R"
      },
      "source": [
        "## Generating a topology"
      ]
    },
    {
      "cell_type": "markdown",
      "metadata": {
        "id": "_UpR-dtk7T3R"
      },
      "source": [
        "Now the PDB file should contain only protein atoms, and is ready to be input into GROMACS. \n",
        "The first GROMACS tool, we use, is pdb2gmx. The purpose of pdb2gmx is to generate three files:\n",
        "\n",
        "* The topology for the molecule.\n",
        "* A position restraint file.\n",
        "* A post-processed structure file. \n",
        "\n",
        "The topology (topol.top by default) contains all the information necessary to define the molecule within a simulation. This information includes nonbonded parameters (atom types and charges) as well as bonded parameters (bonds, angles, dihedrals and atom connectivity)."
      ]
    },
    {
      "cell_type": "markdown",
      "metadata": {
        "id": "Z5a55YCt7T3S"
      },
      "source": [
        "## Force Field"
      ]
    },
    {
      "cell_type": "markdown",
      "metadata": {
        "id": "qr7Q89AI7T3S"
      },
      "source": [
        "Here, we made an important decision for the course of the simualtion in choosing the force field. Here we use CHARMM36m all-atom force field. Check [here](http://mackerell.umaryland.edu/charmm_ff.shtml#gromacs) for update in the CHARMM36 force field implementation for GROMACS . The force field files contain the information that will be written to the topology. "
      ]
    },
    {
      "cell_type": "code",
      "execution_count": 22,
      "metadata": {
        "id": "w6TxK2YV7T3S",
        "colab": {
          "base_uri": "https://localhost:8080/"
        },
        "outputId": "f4448c8d-4e6d-4bea-c385-2dc2cc1bccf5"
      },
      "outputs": [
        {
          "output_type": "stream",
          "name": "stdout",
          "text": [
            "charmm36-jul2017.ff/\n",
            "charmm36-jul2017.ff/atomtypes.atp\n",
            "charmm36-jul2017.ff/cmap.itp\n",
            "charmm36-jul2017.ff/ffbonded.itp\n",
            "charmm36-jul2017.ff/ffnonbonded.itp\n",
            "charmm36-jul2017.ff/forcefield.doc\n",
            "charmm36-jul2017.ff/forcefield.itp\n",
            "charmm36-jul2017.ff/gb.itp\n",
            "charmm36-jul2017.ff/ions.itp\n",
            "charmm36-jul2017.ff/merged.arn\n",
            "charmm36-jul2017.ff/merged.c.tdb\n",
            "charmm36-jul2017.ff/merged.hdb\n",
            "charmm36-jul2017.ff/merged.n.tdb\n",
            "charmm36-jul2017.ff/merged.r2b\n",
            "charmm36-jul2017.ff/merged.rtp\n",
            "charmm36-jul2017.ff/merged.vsd\n",
            "charmm36-jul2017.ff/nbfix.itp\n",
            "charmm36-jul2017.ff/old_c36_cmap.itp\n",
            "charmm36-jul2017.ff/spc.itp\n",
            "charmm36-jul2017.ff/spce.itp\n",
            "charmm36-jul2017.ff/tip3p.itp\n",
            "charmm36-jul2017.ff/tip4p.itp\n",
            "charmm36-jul2017.ff/watermodels.dat\n"
          ]
        }
      ],
      "source": [
        "!tar xvf input/charmm36.tar"
      ]
    },
    {
      "cell_type": "markdown",
      "metadata": {
        "id": "NegWAh4q7T3S"
      },
      "source": [
        "Here we excecute [gmx pdb2gmx](http://manual.gromacs.org/documentation/current/onlinehelp/gmx-pdb2gmx.html)"
      ]
    },
    {
      "cell_type": "markdown",
      "source": [
        ""
      ],
      "metadata": {
        "id": "iekh1-umYaEO"
      }
    },
    {
      "cell_type": "code",
      "execution_count": 27,
      "metadata": {
        "id": "TDCZoKWL7T3T",
        "colab": {
          "base_uri": "https://localhost:8080/"
        },
        "outputId": "6b37efa2-e4cf-4d8f-b6d6-8e29d055cfc8"
      },
      "outputs": [
        {
          "output_type": "stream",
          "name": "stdout",
          "text": [
            "\n",
            "Using the Charmm36-jul2017 force field in directory ./charmm36-jul2017.ff\n",
            "\n",
            "going to rename ./charmm36-jul2017.ff/merged.r2b\n",
            "Reading input/3RVW_antibody.pdb...\n",
            "Read 'Gravel Rubs Often Many Awfully Cauterized Sores', 3381 atoms\n",
            "Analyzing pdb file\n",
            "Splitting chemical chains based on TER records or chain id changing.\n",
            "There are 2 chains and 0 blocks of water and 435 residues with 3381 atoms\n",
            "\n",
            "  chain  #res #atoms\n",
            "  1 'A'   213   1680  \n",
            "  2 'B'   222   1701  \n",
            "\n",
            "Reading residue database... (Charmm36-jul2017)\n",
            "Processing chain 1 'A' (1680 atoms, 213 residues)\n",
            "Identified residue GLN1 as a starting terminus.\n",
            "Identified residue GLU213 as a ending terminus.\n",
            "Start terminus GLN-1: NH3+\n",
            "End terminus GLU-213: COO-\n",
            "Checking for duplicate atoms....\n",
            "Generating any missing hydrogen atoms and/or adding termini.\n",
            "Now there are 213 residues with 3300 atoms\n",
            "Chain time...\n",
            "Processing chain 2 'B' (1701 atoms, 222 residues)\n",
            "Identified residue GLU501 as a starting terminus.\n",
            "Identified residue ASP722 as a ending terminus.\n",
            "Start terminus GLU-501: NH3+\n",
            "End terminus ASP-722: COO-\n",
            "Checking for duplicate atoms....\n",
            "Generating any missing hydrogen atoms and/or adding termini.\n",
            "Now there are 222 residues with 3361 atoms\n",
            "Chain time...\n",
            "Including chain 1 in system: 3300 atoms 213 residues\n",
            "Including chain 2 in system: 3361 atoms 222 residues\n",
            "\t\t--------- PLEASE NOTE ------------\n",
            "You have successfully generated a topology from: input/3RVW_antibody.pdb.\n",
            "The Charmm36-jul2017 force field and the tip3p water model are used.\n",
            "\t\t--------- ETON ESAELP ------------\n"
          ]
        },
        {
          "output_type": "stream",
          "name": "stderr",
          "text": [
            "                     :-) GROMACS - gmx pdb2gmx, 2020.6 (-:\n",
            "\n",
            "                            GROMACS is written by:\n",
            "     Emile Apol      Rossen Apostolov      Paul Bauer     Herman J.C. Berendsen\n",
            "    Par Bjelkmar      Christian Blau   Viacheslav Bolnykh     Kevin Boyd    \n",
            " Aldert van Buuren   Rudi van Drunen     Anton Feenstra       Alan Gray     \n",
            "  Gerrit Groenhof     Anca Hamuraru    Vincent Hindriksen  M. Eric Irrgang  \n",
            "  Aleksei Iupinov   Christoph Junghans     Joe Jordan     Dimitrios Karkoulis\n",
            "    Peter Kasson        Jiri Kraus      Carsten Kutzner      Per Larsson    \n",
            "  Justin A. Lemkul    Viveca Lindahl    Magnus Lundborg     Erik Marklund   \n",
            "    Pascal Merz     Pieter Meulenhoff    Teemu Murtola       Szilard Pall   \n",
            "    Sander Pronk      Roland Schulz      Michael Shirts    Alexey Shvetsov  \n",
            "   Alfons Sijbers     Peter Tieleman      Jon Vincent      Teemu Virolainen \n",
            " Christian Wennberg    Maarten Wolf      Artem Zhmurov   \n",
            "                           and the project leaders:\n",
            "        Mark Abraham, Berk Hess, Erik Lindahl, and David van der Spoel\n",
            "\n",
            "Copyright (c) 1991-2000, University of Groningen, The Netherlands.\n",
            "Copyright (c) 2001-2019, The GROMACS development team at\n",
            "Uppsala University, Stockholm University and\n",
            "the Royal Institute of Technology, Sweden.\n",
            "check out http://www.gromacs.org for more information.\n",
            "\n",
            "GROMACS is free software; you can redistribute it and/or modify it\n",
            "under the terms of the GNU Lesser General Public License\n",
            "as published by the Free Software Foundation; either version 2.1\n",
            "of the License, or (at your option) any later version.\n",
            "\n",
            "GROMACS:      gmx pdb2gmx, version 2020.6\n",
            "Executable:   /content/gromacs/bin/gmx\n",
            "Data prefix:  /content/gromacs\n",
            "Working dir:  /content/workflow_template/data\n",
            "Command line:\n",
            "  gmx pdb2gmx -f input/3RVW_antibody.pdb -p antibody.top -o antibody.gro -i posre -ff charmm36-jul2017 -water tip3p -ignh\n",
            "\n",
            "Opening force field file ./charmm36-jul2017.ff/merged.r2b\n",
            "All occupancies are one\n",
            "Opening force field file ./charmm36-jul2017.ff/atomtypes.atp\n",
            "Opening force field file ./charmm36-jul2017.ff/merged.rtp\n",
            "Opening force field file ./charmm36-jul2017.ff/merged.hdb\n",
            "Opening force field file ./charmm36-jul2017.ff/merged.n.tdb\n",
            "Opening force field file ./charmm36-jul2017.ff/merged.c.tdb\n",
            "Analysing hydrogen-bonding network for automated assignment of histidine\n",
            " protonation. 339 donors and 339 acceptors were found.\n",
            "There are 583 hydrogen bonds\n",
            "Will use HISD for residue 189\n",
            "Will use HISD for residue 198\n",
            "8 out of 8 lines of specbond.dat converted successfully\n",
            "Special Atom Distance matrix:\n",
            "                    MET4   MET11   CYS23   MET83   CYS88  MET106  CYS134\n",
            "                    SD29    SD83   SG177   SD648   SG693   SD837  SG1033\n",
            "   MET11    SD83   1.868\n",
            "   CYS23   SG177   0.514   1.373\n",
            "   MET83   SD648   2.616   1.360   2.213\n",
            "   CYS88   SG693   0.571   1.338   0.203   2.066\n",
            "  MET106   SD837   2.888   1.265   2.415   0.699   2.316\n",
            "  CYS134  SG1033   4.406   3.251   4.115   2.368   3.958   2.652\n",
            "  MET175  SD1371   3.662   2.517   3.364   1.807   3.216   2.119   0.790\n",
            "  HIS189 NE21489   5.560   4.714   5.375   4.009   5.222   4.353   1.766\n",
            "  CYS194  SG1530   4.442   3.285   4.154   2.474   4.003   2.742   0.203\n",
            "  HIS198 NE21559   3.657   2.145   3.270   1.626   3.155   1.639   1.348\n",
            "                  MET175  HIS189  CYS194\n",
            "                  SD1371 NE21489  SG1530\n",
            "  HIS189 NE21489   2.257\n",
            "  CYS194  SG1530   0.795   1.650\n",
            "  HIS198 NE21559   0.859   2.898   1.346\n",
            "Linking CYS-23 SG-177 and CYS-88 SG-693...\n",
            "Linking CYS-134 SG-1033 and CYS-194 SG-1530...\n",
            "Opening force field file ./charmm36-jul2017.ff/merged.arn\n",
            "Making bonds...\n",
            "Number of bonds was 3340, now 3340\n",
            "Generating angles, dihedrals and pairs...\n",
            "Before cleaning: 8761 pairs\n",
            "Before cleaning: 8831 dihedrals\n",
            "Keeping all generated dihedrals\n",
            "Making cmap torsions...\n",
            "There are  211 cmap torsion pairs\n",
            "There are 8831 dihedrals,  559 impropers, 6002 angles\n",
            "          8686 pairs,     3340 bonds and     0 virtual sites\n",
            "Total mass 23909.700 a.m.u.\n",
            "Total charge -1.000 e\n",
            "Writing topology\n",
            "Analysing hydrogen-bonding network for automated assignment of histidine\n",
            " protonation. 351 donors and 337 acceptors were found.\n",
            "There are 586 hydrogen bonds\n",
            "Will use HISE for residue 672\n",
            "Will use HISH for residue 707\n",
            "8 out of 8 lines of specbond.dat converted successfully\n",
            "Special Atom Distance matrix:\n",
            "                  CYS522  MET549  CYS596  MET643  CYS648  HIS672  CYS703\n",
            "                   SG159   SD387   SG764  SD1110  SG1145 NE21324  SG1557\n",
            "  MET549   SD387   1.206\n",
            "  CYS596   SG764   0.203   1.096\n",
            "  MET643  SD1110   4.243   4.514   4.119\n",
            "  CYS648  SG1145   3.428   3.573   3.330   1.778\n",
            "  HIS672 NE21324   3.367   3.388   3.215   1.296   1.309\n",
            "  CYS703  SG1557   3.299   3.492   3.210   1.874   0.203   1.416\n",
            "  HIS707 NE21585   2.320   2.233   2.240   3.146   1.612   2.156   1.519\n",
            "                \n",
            "                \n",
            "Linking CYS-522 SG-159 and CYS-596 SG-764...\n",
            "Linking CYS-648 SG-1145 and CYS-703 SG-1557...\n",
            "Opening force field file ./charmm36-jul2017.ff/merged.arn\n",
            "Making bonds...\n",
            "Number of bonds was 3411, now 3411\n",
            "Generating angles, dihedrals and pairs...\n",
            "Before cleaning: 8982 pairs\n",
            "Before cleaning: 9107 dihedrals\n",
            "Keeping all generated dihedrals\n",
            "Making cmap torsions...\n",
            "There are  220 cmap torsion pairs\n",
            "There are 9107 dihedrals,  555 impropers, 6154 angles\n",
            "          8910 pairs,     3411 bonds and     0 virtual sites\n",
            "Total mass 24140.116 a.m.u.\n",
            "Total charge 4.000 e\n",
            "Writing topology\n",
            "Now there are 6661 atoms and 435 residues\n",
            "Total mass in system 48049.817 a.m.u.\n",
            "Total charge in system 3.000 e\n",
            "\n",
            "Writing coordinate file...\n",
            "\n",
            "GROMACS reminds you: \"I Am Testing Your Grey Matter\" (Red Hot Chili Peppers)\n",
            "\n"
          ]
        }
      ],
      "source": [
        "%%bash\n",
        "source /content/gromacs/bin/GMXRC\n",
        "\n",
        "gmx pdb2gmx -f input/3RVW_antibody.pdb -p antibody.top -o antibody.gro -i posre -ff charmm36-jul2017 -water tip3p -ignh"
      ]
    },
    {
      "cell_type": "markdown",
      "metadata": {
        "id": "3Aoi2ta37T3T"
      },
      "source": [
        "## Defining a simulation box"
      ]
    },
    {
      "cell_type": "code",
      "execution_count": 28,
      "metadata": {
        "scrolled": true,
        "id": "Xq0mDEYc7T3T",
        "colab": {
          "base_uri": "https://localhost:8080/"
        },
        "outputId": "f95ff295-6c7a-49de-be72-5ab2270f5411"
      },
      "outputs": [
        {
          "output_type": "stream",
          "name": "stdout",
          "text": [
            "Note that major changes are planned in future for editconf, to improve usability and utility.\n",
            "Read 6661 atoms\n",
            "Volume: 199.551 nm^3, corresponds to roughly 89700 electrons\n",
            "No velocities found\n",
            "    system size :  7.927  5.614  4.484 (nm)\n",
            "    diameter    :  8.005               (nm)\n",
            "    center      : -1.820 -0.015  0.057 (nm)\n",
            "    box vectors :  7.927  5.614  4.484 (nm)\n",
            "    box angles  :  90.00  90.00  90.00 (degrees)\n",
            "    box volume  : 199.55               (nm^3)\n",
            "    shift       :  8.874  7.069  3.269 (nm)\n",
            "new center      :  7.054  7.054  3.325 (nm)\n",
            "new box vectors :  9.405  9.405  9.405 (nm)\n",
            "new box angles  :  60.00  60.00  90.00 (degrees)\n",
            "new box volume  : 588.22               (nm^3)\n"
          ]
        },
        {
          "output_type": "stream",
          "name": "stderr",
          "text": [
            "                     :-) GROMACS - gmx editconf, 2020.6 (-:\n",
            "\n",
            "                            GROMACS is written by:\n",
            "     Emile Apol      Rossen Apostolov      Paul Bauer     Herman J.C. Berendsen\n",
            "    Par Bjelkmar      Christian Blau   Viacheslav Bolnykh     Kevin Boyd    \n",
            " Aldert van Buuren   Rudi van Drunen     Anton Feenstra       Alan Gray     \n",
            "  Gerrit Groenhof     Anca Hamuraru    Vincent Hindriksen  M. Eric Irrgang  \n",
            "  Aleksei Iupinov   Christoph Junghans     Joe Jordan     Dimitrios Karkoulis\n",
            "    Peter Kasson        Jiri Kraus      Carsten Kutzner      Per Larsson    \n",
            "  Justin A. Lemkul    Viveca Lindahl    Magnus Lundborg     Erik Marklund   \n",
            "    Pascal Merz     Pieter Meulenhoff    Teemu Murtola       Szilard Pall   \n",
            "    Sander Pronk      Roland Schulz      Michael Shirts    Alexey Shvetsov  \n",
            "   Alfons Sijbers     Peter Tieleman      Jon Vincent      Teemu Virolainen \n",
            " Christian Wennberg    Maarten Wolf      Artem Zhmurov   \n",
            "                           and the project leaders:\n",
            "        Mark Abraham, Berk Hess, Erik Lindahl, and David van der Spoel\n",
            "\n",
            "Copyright (c) 1991-2000, University of Groningen, The Netherlands.\n",
            "Copyright (c) 2001-2019, The GROMACS development team at\n",
            "Uppsala University, Stockholm University and\n",
            "the Royal Institute of Technology, Sweden.\n",
            "check out http://www.gromacs.org for more information.\n",
            "\n",
            "GROMACS is free software; you can redistribute it and/or modify it\n",
            "under the terms of the GNU Lesser General Public License\n",
            "as published by the Free Software Foundation; either version 2.1\n",
            "of the License, or (at your option) any later version.\n",
            "\n",
            "GROMACS:      gmx editconf, version 2020.6\n",
            "Executable:   /content/gromacs/bin/gmx\n",
            "Data prefix:  /content/gromacs\n",
            "Working dir:  /content/workflow_template/data\n",
            "Command line:\n",
            "  gmx editconf -f antibody.gro -d 0.7 -bt dodecahedron -o antibody_box.gro\n",
            "\n",
            "\n",
            "GROMACS reminds you: \"Martin [Karplus] had a green laser, Arieh [Warshel] had a red laser, I have a *blue* laser\" (Michael Levitt, Nobel lecture 2013)\n",
            "\n"
          ]
        }
      ],
      "source": [
        "%%bash\n",
        "source /content/gromacs/bin/GMXRC\n",
        "\n",
        "gmx editconf -f antibody.gro -d 0.7 -bt dodecahedron -o antibody_box.gro"
      ]
    },
    {
      "cell_type": "markdown",
      "metadata": {
        "id": "ZbP8xGIE7T3U"
      },
      "source": [
        "## Solvating the simulation system"
      ]
    },
    {
      "cell_type": "code",
      "execution_count": 29,
      "metadata": {
        "id": "Yn5k35Uu7T3U",
        "colab": {
          "base_uri": "https://localhost:8080/"
        },
        "outputId": "2c3501c5-aa18-49c9-936b-4ce831140cbb"
      },
      "outputs": [
        {
          "output_type": "stream",
          "name": "stdout",
          "text": [
            "\n",
            "WARNING: Masses and atomic (Van der Waals) radii will be guessed\n",
            "         based on residue and atom names, since they could not be\n",
            "         definitively assigned from the information in your input\n",
            "         files. These guessed numbers might deviate from the mass\n",
            "         and radius of the atom type. Please check the output\n",
            "         files if necessary.\n",
            "\n",
            "NOTE: From version 5.0 gmx solvate uses the Van der Waals radii\n",
            "from the source below. This means the results may be different\n",
            "compared to previous GROMACS versions.\n",
            "\n",
            "++++ PLEASE READ AND CITE THE FOLLOWING REFERENCE ++++\n",
            "A. Bondi\n",
            "van der Waals Volumes and Radii\n",
            "J. Phys. Chem. 68 (1964) pp. 441-451\n",
            "-------- -------- --- Thank You --- -------- --------\n",
            "\n",
            "Adding line for 16832 solvent molecules with resname (SOL) to topology file (antibody.top)\n"
          ]
        },
        {
          "output_type": "stream",
          "name": "stderr",
          "text": [
            "                     :-) GROMACS - gmx solvate, 2020.6 (-:\n",
            "\n",
            "                            GROMACS is written by:\n",
            "     Emile Apol      Rossen Apostolov      Paul Bauer     Herman J.C. Berendsen\n",
            "    Par Bjelkmar      Christian Blau   Viacheslav Bolnykh     Kevin Boyd    \n",
            " Aldert van Buuren   Rudi van Drunen     Anton Feenstra       Alan Gray     \n",
            "  Gerrit Groenhof     Anca Hamuraru    Vincent Hindriksen  M. Eric Irrgang  \n",
            "  Aleksei Iupinov   Christoph Junghans     Joe Jordan     Dimitrios Karkoulis\n",
            "    Peter Kasson        Jiri Kraus      Carsten Kutzner      Per Larsson    \n",
            "  Justin A. Lemkul    Viveca Lindahl    Magnus Lundborg     Erik Marklund   \n",
            "    Pascal Merz     Pieter Meulenhoff    Teemu Murtola       Szilard Pall   \n",
            "    Sander Pronk      Roland Schulz      Michael Shirts    Alexey Shvetsov  \n",
            "   Alfons Sijbers     Peter Tieleman      Jon Vincent      Teemu Virolainen \n",
            " Christian Wennberg    Maarten Wolf      Artem Zhmurov   \n",
            "                           and the project leaders:\n",
            "        Mark Abraham, Berk Hess, Erik Lindahl, and David van der Spoel\n",
            "\n",
            "Copyright (c) 1991-2000, University of Groningen, The Netherlands.\n",
            "Copyright (c) 2001-2019, The GROMACS development team at\n",
            "Uppsala University, Stockholm University and\n",
            "the Royal Institute of Technology, Sweden.\n",
            "check out http://www.gromacs.org for more information.\n",
            "\n",
            "GROMACS is free software; you can redistribute it and/or modify it\n",
            "under the terms of the GNU Lesser General Public License\n",
            "as published by the Free Software Foundation; either version 2.1\n",
            "of the License, or (at your option) any later version.\n",
            "\n",
            "GROMACS:      gmx solvate, version 2020.6\n",
            "Executable:   /content/gromacs/bin/gmx\n",
            "Data prefix:  /content/gromacs\n",
            "Working dir:  /content/workflow_template/data\n",
            "Command line:\n",
            "  gmx solvate -cp antibody_box.gro -p antibody.top -o water.gro\n",
            "\n",
            "Reading solute configuration\n",
            "Reading solvent configuration\n",
            "\n",
            "Initialising inter-atomic distances...\n",
            "Generating solvent configuration\n",
            "Will generate new solvent configuration of 6x6x4 boxes\n",
            "Solvent box contains 65619 atoms in 21873 residues\n",
            "Removed 9078 solvent atoms due to solvent-solvent overlap\n",
            "Removed 6045 solvent atoms due to solute-solvent overlap\n",
            "Sorting configuration\n",
            "Found 1 molecule type:\n",
            "    SOL (   3 atoms): 16832 residues\n",
            "Generated solvent containing 50496 atoms in 16832 residues\n",
            "Writing generated configuration to water.gro\n",
            "\n",
            "Output configuration contains 57157 atoms in 17267 residues\n",
            "Volume                 :     588.215 (nm^3)\n",
            "Density                :     1000.88 (g/l)\n",
            "Number of solvent molecules:  16832   \n",
            "\n",
            "Processing topology\n",
            "\n",
            "Back Off! I just backed up antibody.top to ./#antibody.top.1#\n",
            "\n",
            "GROMACS reminds you: \"I have no responsibility to live up to what others expect of me. That's their mistake, not my failing.\" (Richard Feynman)\n",
            "\n"
          ]
        }
      ],
      "source": [
        "%%bash\n",
        "source /content/gromacs/bin/GMXRC\n",
        "\n",
        "gmx solvate -cp antibody_box.gro -p antibody.top -o water.gro"
      ]
    },
    {
      "cell_type": "markdown",
      "metadata": {
        "id": "UA3k2-cQ7T3U"
      },
      "source": [
        "## Adding ions "
      ]
    },
    {
      "cell_type": "markdown",
      "metadata": {
        "id": "BvCG_Zpv7T3V"
      },
      "source": [
        "We now have a solvated system that contains a charged protein. The output of pdb2gmx told us that the protein has a net charge of 3e (based on its amino acid composition). If you missed this information in the pdb2gmx output, look at the last line of each [ atoms ] directive in topology file; it should read  \"qtot -1.\" for chain A and  \"qtot 4.\" for chain B. Since life does not exist at a net charge, we must add ions to our system. Further, we aim to approximate physiological conditions and use therefore a NaCl concentration of 0.15 M."
      ]
    },
    {
      "cell_type": "code",
      "execution_count": 30,
      "metadata": {
        "id": "OJceTyq57T3V",
        "colab": {
          "base_uri": "https://localhost:8080/"
        },
        "outputId": "02231cfb-a156-4278-df9d-f38d7de69723"
      },
      "outputs": [
        {
          "output_type": "stream",
          "name": "stdout",
          "text": [
            "Analysing residue names:\n",
            "There are:   435    Protein residues\n",
            "There are: 16832      Water residues\n",
            "Analysing Protein...\n",
            "This run will generate roughly 4 Mb of data\n",
            "Will try to add 53 NA ions and 56 CL ions.\n",
            "Select a continuous group of solvent molecules\n",
            "Selected 13: 'SOL'\n",
            "\n",
            "Processing topology\n",
            "Replacing 109 solute molecules in topology file (antibody.top)  by 53 NA and 56 CL ions.\n"
          ]
        },
        {
          "output_type": "stream",
          "name": "stderr",
          "text": [
            "                      :-) GROMACS - gmx grompp, 2020.6 (-:\n",
            "\n",
            "                            GROMACS is written by:\n",
            "     Emile Apol      Rossen Apostolov      Paul Bauer     Herman J.C. Berendsen\n",
            "    Par Bjelkmar      Christian Blau   Viacheslav Bolnykh     Kevin Boyd    \n",
            " Aldert van Buuren   Rudi van Drunen     Anton Feenstra       Alan Gray     \n",
            "  Gerrit Groenhof     Anca Hamuraru    Vincent Hindriksen  M. Eric Irrgang  \n",
            "  Aleksei Iupinov   Christoph Junghans     Joe Jordan     Dimitrios Karkoulis\n",
            "    Peter Kasson        Jiri Kraus      Carsten Kutzner      Per Larsson    \n",
            "  Justin A. Lemkul    Viveca Lindahl    Magnus Lundborg     Erik Marklund   \n",
            "    Pascal Merz     Pieter Meulenhoff    Teemu Murtola       Szilard Pall   \n",
            "    Sander Pronk      Roland Schulz      Michael Shirts    Alexey Shvetsov  \n",
            "   Alfons Sijbers     Peter Tieleman      Jon Vincent      Teemu Virolainen \n",
            " Christian Wennberg    Maarten Wolf      Artem Zhmurov   \n",
            "                           and the project leaders:\n",
            "        Mark Abraham, Berk Hess, Erik Lindahl, and David van der Spoel\n",
            "\n",
            "Copyright (c) 1991-2000, University of Groningen, The Netherlands.\n",
            "Copyright (c) 2001-2019, The GROMACS development team at\n",
            "Uppsala University, Stockholm University and\n",
            "the Royal Institute of Technology, Sweden.\n",
            "check out http://www.gromacs.org for more information.\n",
            "\n",
            "GROMACS is free software; you can redistribute it and/or modify it\n",
            "under the terms of the GNU Lesser General Public License\n",
            "as published by the Free Software Foundation; either version 2.1\n",
            "of the License, or (at your option) any later version.\n",
            "\n",
            "GROMACS:      gmx grompp, version 2020.6\n",
            "Executable:   /content/gromacs/bin/gmx\n",
            "Data prefix:  /content/gromacs\n",
            "Working dir:  /content/workflow_template/data\n",
            "Command line:\n",
            "  gmx grompp -f ion.mdp -c water.gro -p antibody.top -o\n",
            "\n",
            "\n",
            "NOTE 1 [file ion.mdp]:\n",
            "  For a correct single-point energy evaluation with nsteps = 0, use\n",
            "  continuation = yes to avoid constraining the input coordinates.\n",
            "\n",
            "Setting the LD random seed to -213926020\n",
            "Generated 97877 of the 97903 non-bonded parameter combinations\n",
            "Generating 1-4 interactions: fudge = 1\n",
            "Generated 64492 of the 97903 1-4 parameter combinations\n",
            "Excluding 3 bonded neighbours molecule type 'Protein_chain_A'\n",
            "Excluding 3 bonded neighbours molecule type 'Protein_chain_B'\n",
            "Excluding 2 bonded neighbours molecule type 'SOL'\n",
            "\n",
            "NOTE 2 [file antibody.top, line 48]:\n",
            "  System has non-zero total charge: 3.000000\n",
            "  Total charge should normally be an integer. See\n",
            "  http://www.gromacs.org/Documentation/Floating_Point_Arithmetic\n",
            "  for discussion on how close it should be to an integer.\n",
            "  \n",
            "\n",
            "\n",
            "\n",
            "NOTE 3 [file antibody.top, line 48]:\n",
            "  The bond in molecule-type Protein_chain_A between atoms 78 OG1 and 79 HG1\n",
            "  has an estimated oscillational period of 9.1e-03 ps, which is less than\n",
            "  10 times the time step of 1.0e-03 ps.\n",
            "  Maybe you forgot to change the constraints mdp option.\n",
            "\n",
            "Number of degrees of freedom in T-Coupling group rest is 120972.00\n",
            "\n",
            "NOTE 4 [file ion.mdp]:\n",
            "  NVE simulation with an initial temperature of zero: will use a Verlet\n",
            "  buffer of 10%. Check your energy drift!\n",
            "\n",
            "\n",
            "NOTE 5 [file ion.mdp]:\n",
            "  You are using a plain Coulomb cut-off, which might produce artifacts.\n",
            "  You might want to consider using PME electrostatics.\n",
            "\n",
            "\n",
            "\n",
            "There were 5 notes\n",
            "\n",
            "Back Off! I just backed up topol.tpr to ./#topol.tpr.1#\n",
            "\n",
            "GROMACS reminds you: \"I'm a Wishbone and I'm Breaking\" (Pixies)\n",
            "\n",
            "                      :-) GROMACS - gmx genion, 2020.6 (-:\n",
            "\n",
            "                            GROMACS is written by:\n",
            "     Emile Apol      Rossen Apostolov      Paul Bauer     Herman J.C. Berendsen\n",
            "    Par Bjelkmar      Christian Blau   Viacheslav Bolnykh     Kevin Boyd    \n",
            " Aldert van Buuren   Rudi van Drunen     Anton Feenstra       Alan Gray     \n",
            "  Gerrit Groenhof     Anca Hamuraru    Vincent Hindriksen  M. Eric Irrgang  \n",
            "  Aleksei Iupinov   Christoph Junghans     Joe Jordan     Dimitrios Karkoulis\n",
            "    Peter Kasson        Jiri Kraus      Carsten Kutzner      Per Larsson    \n",
            "  Justin A. Lemkul    Viveca Lindahl    Magnus Lundborg     Erik Marklund   \n",
            "    Pascal Merz     Pieter Meulenhoff    Teemu Murtola       Szilard Pall   \n",
            "    Sander Pronk      Roland Schulz      Michael Shirts    Alexey Shvetsov  \n",
            "   Alfons Sijbers     Peter Tieleman      Jon Vincent      Teemu Virolainen \n",
            " Christian Wennberg    Maarten Wolf      Artem Zhmurov   \n",
            "                           and the project leaders:\n",
            "        Mark Abraham, Berk Hess, Erik Lindahl, and David van der Spoel\n",
            "\n",
            "Copyright (c) 1991-2000, University of Groningen, The Netherlands.\n",
            "Copyright (c) 2001-2019, The GROMACS development team at\n",
            "Uppsala University, Stockholm University and\n",
            "the Royal Institute of Technology, Sweden.\n",
            "check out http://www.gromacs.org for more information.\n",
            "\n",
            "GROMACS is free software; you can redistribute it and/or modify it\n",
            "under the terms of the GNU Lesser General Public License\n",
            "as published by the Free Software Foundation; either version 2.1\n",
            "of the License, or (at your option) any later version.\n",
            "\n",
            "GROMACS:      gmx genion, version 2020.6\n",
            "Executable:   /content/gromacs/bin/gmx\n",
            "Data prefix:  /content/gromacs\n",
            "Working dir:  /content/workflow_template/data\n",
            "Command line:\n",
            "  gmx genion -s topol.tpr -p antibody.top -neutral -conc 0.15 -o antibody.gro\n",
            "\n",
            "Reading file topol.tpr, VERSION 2020.6 (single precision)\n",
            "Reading file topol.tpr, VERSION 2020.6 (single precision)\n",
            "Group     0 (         System) has 57157 elements\n",
            "Group     1 (        Protein) has  6661 elements\n",
            "Group     2 (      Protein-H) has  3383 elements\n",
            "Group     3 (        C-alpha) has   435 elements\n",
            "Group     4 (       Backbone) has  1305 elements\n",
            "Group     5 (      MainChain) has  1738 elements\n",
            "Group     6 (   MainChain+Cb) has  2144 elements\n",
            "Group     7 (    MainChain+H) has  2151 elements\n",
            "Group     8 (      SideChain) has  4510 elements\n",
            "Group     9 (    SideChain-H) has  1645 elements\n",
            "Group    10 (    Prot-Masses) has  6661 elements\n",
            "Group    11 (    non-Protein) has 50496 elements\n",
            "Group    12 (          Water) has 50496 elements\n",
            "Group    13 (            SOL) has 50496 elements\n",
            "Group    14 (      non-Water) has  6661 elements\n",
            "Select a group: Number of (3-atomic) solvent molecules: 16832\n",
            "\n",
            "Back Off! I just backed up antibody.top to ./#antibody.top.2#\n",
            "Using random seed 2146751473.\n",
            "Replacing solvent molecule 8069 (atom 30868) with NA\n",
            "Replacing solvent molecule 7863 (atom 30250) with NA\n",
            "Replacing solvent molecule 11148 (atom 40105) with NA\n",
            "Replacing solvent molecule 6923 (atom 27430) with NA\n",
            "Replacing solvent molecule 1196 (atom 10249) with NA\n",
            "Replacing solvent molecule 14453 (atom 50020) with NA\n",
            "Replacing solvent molecule 13507 (atom 47182) with NA\n",
            "Replacing solvent molecule 1072 (atom 9877) with NA\n",
            "Replacing solvent molecule 14787 (atom 51022) with NA\n",
            "Replacing solvent molecule 3220 (atom 16321) with NA\n",
            "Replacing solvent molecule 4046 (atom 18799) with NA\n",
            "Replacing solvent molecule 15893 (atom 54340) with NA\n",
            "Replacing solvent molecule 15426 (atom 52939) with NA\n",
            "Replacing solvent molecule 4232 (atom 19357) with NA\n",
            "Replacing solvent molecule 11945 (atom 42496) with NA\n",
            "Replacing solvent molecule 8961 (atom 33544) with NA\n",
            "Replacing solvent molecule 8096 (atom 30949) with NA\n",
            "Replacing solvent molecule 6464 (atom 26053) with NA\n",
            "Replacing solvent molecule 9533 (atom 35260) with NA\n",
            "Replacing solvent molecule 5401 (atom 22864) with NA\n",
            "Replacing solvent molecule 11228 (atom 40345) with NA\n",
            "Replacing solvent molecule 10321 (atom 37624) with NA\n",
            "Replacing solvent molecule 7580 (atom 29401) with NA\n",
            "Replacing solvent molecule 2087 (atom 12922) with NA\n",
            "Replacing solvent molecule 4512 (atom 20197) with NA\n",
            "Replacing solvent molecule 15150 (atom 52111) with NA\n",
            "Replacing solvent molecule 2190 (atom 13231) with NA\n",
            "Replacing solvent molecule 247 (atom 7402) with NA\n",
            "Replacing solvent molecule 8261 (atom 31444) with NA\n",
            "Replacing solvent molecule 8282 (atom 31507) with NA\n",
            "Replacing solvent molecule 6636 (atom 26569) with NA\n",
            "Replacing solvent molecule 3742 (atom 17887) with NA\n",
            "Replacing solvent molecule 3732 (atom 17857) with NA\n",
            "Replacing solvent molecule 3137 (atom 16072) with NA\n",
            "Replacing solvent molecule 11955 (atom 42526) with NA\n",
            "Replacing solvent molecule 16357 (atom 55732) with NA\n",
            "Replacing solvent molecule 7202 (atom 28267) with NA\n",
            "Replacing solvent molecule 15160 (atom 52141) with NA\n",
            "Replacing solvent molecule 7714 (atom 29803) with NA\n",
            "Replacing solvent molecule 706 (atom 8779) with NA\n",
            "Replacing solvent molecule 2393 (atom 13840) with NA\n",
            "Replacing solvent molecule 3587 (atom 17422) with NA\n",
            "Replacing solvent molecule 5149 (atom 22108) with NA\n",
            "Replacing solvent molecule 5666 (atom 23659) with NA\n",
            "Replacing solvent molecule 1132 (atom 10057) with NA\n",
            "Replacing solvent molecule 8262 (atom 31447) with NA\n",
            "Replacing solvent molecule 4860 (atom 21241) with NA\n",
            "Replacing solvent molecule 12971 (atom 45574) with NA\n",
            "Replacing solvent molecule 8055 (atom 30826) with NA\n",
            "Replacing solvent molecule 15350 (atom 52711) with NA\n",
            "Replacing solvent molecule 5365 (atom 22756) with NA\n",
            "Replacing solvent molecule 15223 (atom 52330) with NA\n",
            "Replacing solvent molecule 10923 (atom 39430) with NA\n",
            "Replacing solvent molecule 6712 (atom 26797) with CL\n",
            "Replacing solvent molecule 6206 (atom 25279) with CL\n",
            "Replacing solvent molecule 9125 (atom 34036) with CL\n",
            "Replacing solvent molecule 16530 (atom 56251) with CL\n",
            "Replacing solvent molecule 123 (atom 7030) with CL\n",
            "Replacing solvent molecule 5197 (atom 22252) with CL\n",
            "Replacing solvent molecule 13119 (atom 46018) with CL\n",
            "Replacing solvent molecule 14412 (atom 49897) with CL\n",
            "Replacing solvent molecule 13322 (atom 46627) with CL\n",
            "Replacing solvent molecule 6172 (atom 25177) with CL\n",
            "Replacing solvent molecule 14022 (atom 48727) with CL\n",
            "Replacing solvent molecule 10689 (atom 38728) with CL\n",
            "Replacing solvent molecule 13974 (atom 48583) with CL\n",
            "Replacing solvent molecule 5100 (atom 21961) with CL\n",
            "Replacing solvent molecule 13348 (atom 46705) with CL\n",
            "Replacing solvent molecule 8836 (atom 33169) with CL\n",
            "Replacing solvent molecule 1069 (atom 9868) with CL\n",
            "Replacing solvent molecule 4528 (atom 20245) with CL\n",
            "Replacing solvent molecule 5627 (atom 23542) with CL\n",
            "Replacing solvent molecule 7922 (atom 30427) with CL\n",
            "Replacing solvent molecule 5552 (atom 23317) with CL\n",
            "Replacing solvent molecule 2199 (atom 13258) with CL\n",
            "Replacing solvent molecule 1245 (atom 10396) with CL\n",
            "Replacing solvent molecule 5209 (atom 22288) with CL\n",
            "Replacing solvent molecule 13836 (atom 48169) with CL\n",
            "Replacing solvent molecule 4491 (atom 20134) with CL\n",
            "Replacing solvent molecule 9742 (atom 35887) with CL\n",
            "Replacing solvent molecule 2248 (atom 13405) with CL\n",
            "Replacing solvent molecule 9646 (atom 35599) with CL\n",
            "Replacing solvent molecule 14096 (atom 48949) with CL\n",
            "Replacing solvent molecule 29 (atom 6748) with CL\n",
            "Replacing solvent molecule 8139 (atom 31078) with CL\n",
            "Replacing solvent molecule 7825 (atom 30136) with CL\n",
            "Replacing solvent molecule 4222 (atom 19327) with CL\n",
            "Replacing solvent molecule 3781 (atom 18004) with CL\n",
            "Replacing solvent molecule 421 (atom 7924) with CL\n",
            "Replacing solvent molecule 14421 (atom 49924) with CL\n",
            "Replacing solvent molecule 11055 (atom 39826) with CL\n",
            "Replacing solvent molecule 15227 (atom 52342) with CL\n",
            "Replacing solvent molecule 7014 (atom 27703) with CL\n",
            "Replacing solvent molecule 13373 (atom 46780) with CL\n",
            "Replacing solvent molecule 13417 (atom 46912) with CL\n",
            "Replacing solvent molecule 4951 (atom 21514) with CL\n",
            "Replacing solvent molecule 8647 (atom 32602) with CL\n",
            "Replacing solvent molecule 7272 (atom 28477) with CL\n",
            "Replacing solvent molecule 16787 (atom 57022) with CL\n",
            "Replacing solvent molecule 4026 (atom 18739) with CL\n",
            "Replacing solvent molecule 14012 (atom 48697) with CL\n",
            "Replacing solvent molecule 10770 (atom 38971) with CL\n",
            "Replacing solvent molecule 6995 (atom 27646) with CL\n",
            "Replacing solvent molecule 16732 (atom 56857) with CL\n",
            "Replacing solvent molecule 8611 (atom 32494) with CL\n",
            "Replacing solvent molecule 7024 (atom 27733) with CL\n",
            "Replacing solvent molecule 6212 (atom 25297) with CL\n",
            "Replacing solvent molecule 15982 (atom 54607) with CL\n",
            "Replacing solvent molecule 296 (atom 7549) with CL\n",
            "\n",
            "\n",
            "Back Off! I just backed up antibody.gro to ./#antibody.gro.1#\n",
            "\n",
            "GROMACS reminds you: \"I'm a Wishbone and I'm Breaking\" (Pixies)\n",
            "\n"
          ]
        }
      ],
      "source": [
        "%%bash\n",
        "source /content/gromacs/bin/GMXRC\n",
        "\n",
        "touch ion.mdp\n",
        "gmx grompp -f ion.mdp -c water.gro -p antibody.top -o\n",
        "echo 13 | gmx genion -s topol.tpr -p antibody.top -neutral -conc 0.15 -o antibody.gro"
      ]
    },
    {
      "cell_type": "markdown",
      "metadata": {
        "id": "V-l08Y-d7T3V"
      },
      "source": [
        "# Energy minimization"
      ]
    },
    {
      "cell_type": "markdown",
      "metadata": {
        "id": "zKU6nZWs7T3W"
      },
      "source": [
        "The solvated, electroneutral system is now assembled. Before we can begin dynamics, we must ensure that the system has no steric clashes or inappropriate geometry. The structure is relaxed through a process called energy minimization (EM)."
      ]
    },
    {
      "cell_type": "code",
      "execution_count": 31,
      "metadata": {
        "id": "mOXKF8zs7T3X",
        "colab": {
          "base_uri": "https://localhost:8080/"
        },
        "outputId": "d0888878-8c1a-4bc3-d49b-e42c0dd37ce6"
      },
      "outputs": [
        {
          "output_type": "stream",
          "name": "stdout",
          "text": [
            "title       = CHARMM steepest descent enrgy minimisation\n",
            "\n",
            "; Parameters describing what to do, when to stop and what to save\n",
            "integrator  = steep  ; Algorithm (steep = steepest descent minimization)\n",
            "emtol       = 1000.0 ; Stop minimization when the maximum force < 1000.0 kJ/mol/nm\n",
            "emstep      = 0.01   ; Minimization step size\n",
            "nstenergy   = 500    ; save energies every 1.0 ps, so we can observe if we are successful\n",
            "nsteps      = -1     ; run as long as we need\n",
            "; Settings that make sure we run with parameters in harmony with the selected force-field\n",
            "constraints             = h-bonds   ; bonds involving H are constrained\n",
            "rcoulomb                = 1.2       ; short-range electrostatic cutoff (in nm)\n",
            "rvdw                    = 1.2       ; short-range van der Waals cutoff (in nm)\n",
            "vdw-modifier            = Force-switch ;  specific CHARMM\n",
            "rvdw_switch             = 1.0       ;\n",
            "DispCorr                = EnerPres  ; account for cut-off vdW scheme\n",
            "coulombtype             = PME       ; Particle Mesh Ewald for long-range electrostatics\n",
            "fourierspacing          = 0.15     ; grid spacing for FFT\n",
            "\n",
            "\n",
            "turning H bonds into constraints...\n",
            "turning H bonds into constraints...\n",
            "turning H bonds into constraints...\n",
            "turning H bonds into constraints...\n",
            "turning H bonds into constraints...\n",
            "Analysing residue names:\n",
            "There are:   435    Protein residues\n",
            "There are: 16723      Water residues\n",
            "There are:   109        Ion residues\n",
            "Analysing Protein...\n",
            "Analysing residues not classified as Protein/DNA/RNA/Water and splitting into groups...\n",
            "Calculating fourier grid dimensions for X Y Z\n",
            "Using a fourier grid of 64x64x64, spacing 0.147 0.147 0.147\n",
            "This run will generate roughly 4 Mb of data\n"
          ]
        },
        {
          "output_type": "stream",
          "name": "stderr",
          "text": [
            "                      :-) GROMACS - gmx grompp, 2020.6 (-:\n",
            "\n",
            "                            GROMACS is written by:\n",
            "     Emile Apol      Rossen Apostolov      Paul Bauer     Herman J.C. Berendsen\n",
            "    Par Bjelkmar      Christian Blau   Viacheslav Bolnykh     Kevin Boyd    \n",
            " Aldert van Buuren   Rudi van Drunen     Anton Feenstra       Alan Gray     \n",
            "  Gerrit Groenhof     Anca Hamuraru    Vincent Hindriksen  M. Eric Irrgang  \n",
            "  Aleksei Iupinov   Christoph Junghans     Joe Jordan     Dimitrios Karkoulis\n",
            "    Peter Kasson        Jiri Kraus      Carsten Kutzner      Per Larsson    \n",
            "  Justin A. Lemkul    Viveca Lindahl    Magnus Lundborg     Erik Marklund   \n",
            "    Pascal Merz     Pieter Meulenhoff    Teemu Murtola       Szilard Pall   \n",
            "    Sander Pronk      Roland Schulz      Michael Shirts    Alexey Shvetsov  \n",
            "   Alfons Sijbers     Peter Tieleman      Jon Vincent      Teemu Virolainen \n",
            " Christian Wennberg    Maarten Wolf      Artem Zhmurov   \n",
            "                           and the project leaders:\n",
            "        Mark Abraham, Berk Hess, Erik Lindahl, and David van der Spoel\n",
            "\n",
            "Copyright (c) 1991-2000, University of Groningen, The Netherlands.\n",
            "Copyright (c) 2001-2019, The GROMACS development team at\n",
            "Uppsala University, Stockholm University and\n",
            "the Royal Institute of Technology, Sweden.\n",
            "check out http://www.gromacs.org for more information.\n",
            "\n",
            "GROMACS is free software; you can redistribute it and/or modify it\n",
            "under the terms of the GNU Lesser General Public License\n",
            "as published by the Free Software Foundation; either version 2.1\n",
            "of the License, or (at your option) any later version.\n",
            "\n",
            "GROMACS:      gmx grompp, version 2020.6\n",
            "Executable:   /content/gromacs/bin/gmx\n",
            "Data prefix:  /content/gromacs\n",
            "Working dir:  /content/workflow_template/data\n",
            "Command line:\n",
            "  gmx grompp -f input/emin-charmm.mdp -c antibody.gro -p antibody.top -o em.tpr\n",
            "\n",
            "Ignoring obsolete mdp entry 'title'\n",
            "Setting the LD random seed to -1889687553\n",
            "Generated 97877 of the 97903 non-bonded parameter combinations\n",
            "Generating 1-4 interactions: fudge = 1\n",
            "Generated 64492 of the 97903 1-4 parameter combinations\n",
            "Excluding 3 bonded neighbours molecule type 'Protein_chain_A'\n",
            "Excluding 3 bonded neighbours molecule type 'Protein_chain_B'\n",
            "Excluding 2 bonded neighbours molecule type 'SOL'\n",
            "Excluding 1 bonded neighbours molecule type 'NA'\n",
            "Excluding 1 bonded neighbours molecule type 'CL'\n",
            "Number of degrees of freedom in T-Coupling group rest is 117367.00\n",
            "Estimate for the relative computational load of the PME mesh part: 0.15\n",
            "\n",
            "GROMACS reminds you: \"There's No Room For the Weak\" (Joy Division)\n",
            "\n",
            "                      :-) GROMACS - gmx mdrun, 2020.6 (-:\n",
            "\n",
            "                            GROMACS is written by:\n",
            "     Emile Apol      Rossen Apostolov      Paul Bauer     Herman J.C. Berendsen\n",
            "    Par Bjelkmar      Christian Blau   Viacheslav Bolnykh     Kevin Boyd    \n",
            " Aldert van Buuren   Rudi van Drunen     Anton Feenstra       Alan Gray     \n",
            "  Gerrit Groenhof     Anca Hamuraru    Vincent Hindriksen  M. Eric Irrgang  \n",
            "  Aleksei Iupinov   Christoph Junghans     Joe Jordan     Dimitrios Karkoulis\n",
            "    Peter Kasson        Jiri Kraus      Carsten Kutzner      Per Larsson    \n",
            "  Justin A. Lemkul    Viveca Lindahl    Magnus Lundborg     Erik Marklund   \n",
            "    Pascal Merz     Pieter Meulenhoff    Teemu Murtola       Szilard Pall   \n",
            "    Sander Pronk      Roland Schulz      Michael Shirts    Alexey Shvetsov  \n",
            "   Alfons Sijbers     Peter Tieleman      Jon Vincent      Teemu Virolainen \n",
            " Christian Wennberg    Maarten Wolf      Artem Zhmurov   \n",
            "                           and the project leaders:\n",
            "        Mark Abraham, Berk Hess, Erik Lindahl, and David van der Spoel\n",
            "\n",
            "Copyright (c) 1991-2000, University of Groningen, The Netherlands.\n",
            "Copyright (c) 2001-2019, The GROMACS development team at\n",
            "Uppsala University, Stockholm University and\n",
            "the Royal Institute of Technology, Sweden.\n",
            "check out http://www.gromacs.org for more information.\n",
            "\n",
            "GROMACS is free software; you can redistribute it and/or modify it\n",
            "under the terms of the GNU Lesser General Public License\n",
            "as published by the Free Software Foundation; either version 2.1\n",
            "of the License, or (at your option) any later version.\n",
            "\n",
            "GROMACS:      gmx mdrun, version 2020.6\n",
            "Executable:   /content/gromacs/bin/gmx\n",
            "Data prefix:  /content/gromacs\n",
            "Working dir:  /content/workflow_template/data\n",
            "Command line:\n",
            "  gmx mdrun -v -s em.tpr -deffnm antibody_em\n",
            "\n",
            "Reading file em.tpr, VERSION 2020.6 (single precision)\n",
            "Using 1 MPI thread\n",
            "\n",
            "Non-default thread affinity set, disabling internal thread affinity\n",
            "\n",
            "Using 2 OpenMP threads \n",
            "\n",
            "\n",
            "Steepest Descents:\n",
            "   Tolerance (Fmax)   =  1.00000e+03\n",
            "   Number of steps    =           -1\n",
            "Step=    0, Dmax= 1.0e-02 nm, Epot= -4.16277e+05 Fmax= 2.25061e+05, atom= 55079\n",
            "Step=    1, Dmax= 1.0e-02 nm, Epot= -4.65894e+05 Fmax= 9.75541e+04, atom= 25505\n",
            "Step=    2, Dmax= 1.2e-02 nm, Epot= -5.14587e+05 Fmax= 4.12296e+04, atom= 25505\n",
            "Step=    3, Dmax= 1.4e-02 nm, Epot= -5.61367e+05 Fmax= 2.29452e+04, atom= 3299\n",
            "Step=    4, Dmax= 1.7e-02 nm, Epot= -5.97183e+05 Fmax= 1.96775e+04, atom= 3299\n",
            "Step=    5, Dmax= 2.1e-02 nm, Epot= -6.20484e+05 Fmax= 1.44202e+04, atom= 3299\n",
            "Step=    6, Dmax= 2.5e-02 nm, Epot= -6.42603e+05 Fmax= 8.99559e+03, atom= 3299\n",
            "Step=    7, Dmax= 3.0e-02 nm, Epot= -6.67548e+05 Fmax= 4.88466e+03, atom= 3300\n",
            "Step=    8, Dmax= 3.6e-02 nm, Epot= -6.97633e+05 Fmax= 2.13258e+04, atom= 3298\n",
            "Step=    9, Dmax= 4.3e-02 nm, Epot= -7.01309e+05 Fmax= 2.90933e+04, atom= 3298\n",
            "Step=   10, Dmax= 5.2e-02 nm, Epot= -7.03845e+05 Fmax= 3.48553e+04, atom= 13\n",
            "Step=   11, Dmax= 6.2e-02 nm, Epot= -7.04926e+05 Fmax= 4.66359e+04, atom= 13\n",
            "Step=   12, Dmax= 7.4e-02 nm, Epot= -7.07474e+05 Fmax= 5.27816e+04, atom= 13\n",
            "Step=   13, Dmax= 8.9e-02 nm, Epot= -7.07604e+05 Fmax= 6.30888e+04, atom= 13\n",
            "Step=   14, Dmax= 1.1e-01 nm, Epot= -7.05669e+05 Fmax= 8.00205e+04, atom= 13\rStep=   15, Dmax= 5.3e-02 nm, Epot= -7.20846e+05 Fmax= 7.33741e+03, atom= 14\n",
            "Step=   16, Dmax= 6.4e-02 nm, Epot= -7.21171e+05 Fmax= 1.43328e+05, atom= 6434\n",
            "Step=   17, Dmax= 7.7e-02 nm, Epot= -7.35301e+05 Fmax= 1.71845e+04, atom= 13\n",
            "Step=   18, Dmax= 9.2e-02 nm, Epot= -7.13048e+05 Fmax= 1.15659e+05, atom= 6434\rStep=   19, Dmax= 4.6e-02 nm, Epot= -7.34461e+05 Fmax= 4.59015e+04, atom= 13\rStep=   20, Dmax= 2.3e-02 nm, Epot= -7.37666e+05 Fmax= 1.41225e+04, atom= 13\n",
            "Step=   21, Dmax= 2.8e-02 nm, Epot= -7.39535e+05 Fmax= 2.18012e+04, atom= 13\n",
            "Step=   22, Dmax= 3.3e-02 nm, Epot= -7.41432e+05 Fmax= 2.19152e+04, atom= 13\n",
            "Step=   23, Dmax= 4.0e-02 nm, Epot= -7.42586e+05 Fmax= 3.03435e+04, atom= 13\n",
            "Step=   24, Dmax= 4.8e-02 nm, Epot= -7.44145e+05 Fmax= 3.26305e+04, atom= 13\n",
            "Step=   25, Dmax= 5.8e-02 nm, Epot= -7.44507e+05 Fmax= 4.23825e+04, atom= 13\n",
            "Step=   26, Dmax= 6.9e-02 nm, Epot= -7.45290e+05 Fmax= 4.86119e+04, atom= 13\n",
            "Step=   27, Dmax= 8.3e-02 nm, Epot= -7.44692e+05 Fmax= 5.88555e+04, atom= 13\rStep=   28, Dmax= 4.1e-02 nm, Epot= -7.50788e+05 Fmax= 6.42658e+03, atom= 13\n",
            "Step=   29, Dmax= 5.0e-02 nm, Epot= -7.53200e+05 Fmax= 5.62207e+04, atom= 13\n",
            "Step=   30, Dmax= 6.0e-02 nm, Epot= -7.58284e+05 Fmax= 2.26191e+04, atom= 13\n",
            "Step=   31, Dmax= 7.2e-02 nm, Epot= -7.53913e+05 Fmax= 7.07823e+04, atom= 13\rStep=   32, Dmax= 3.6e-02 nm, Epot= -7.59481e+05 Fmax= 2.43594e+04, atom= 13\n",
            "Step=   33, Dmax= 4.3e-02 nm, Epot= -7.60256e+05 Fmax= 3.17360e+04, atom= 13\n",
            "Step=   34, Dmax= 5.2e-02 nm, Epot= -7.61142e+05 Fmax= 3.59326e+04, atom= 13\n",
            "Step=   35, Dmax= 6.2e-02 nm, Epot= -7.61356e+05 Fmax= 4.45480e+04, atom= 13\n",
            "Step=   36, Dmax= 7.4e-02 nm, Epot= -7.61501e+05 Fmax= 5.32256e+04, atom= 13\n",
            "Step=   37, Dmax= 8.9e-02 nm, Epot= -7.60986e+05 Fmax= 6.18735e+04, atom= 13\rStep=   38, Dmax= 4.5e-02 nm, Epot= -7.66097e+05 Fmax= 5.96730e+03, atom= 13\n",
            "Step=   39, Dmax= 5.3e-02 nm, Epot= -7.67576e+05 Fmax= 6.05038e+04, atom= 13\n",
            "Step=   40, Dmax= 6.4e-02 nm, Epot= -7.72092e+05 Fmax= 2.47796e+04, atom= 13\n",
            "Step=   41, Dmax= 7.7e-02 nm, Epot= -7.67598e+05 Fmax= 7.25443e+04, atom= 13\rStep=   42, Dmax= 3.8e-02 nm, Epot= -7.72982e+05 Fmax= 2.57092e+04, atom= 13\n",
            "Step=   43, Dmax= 4.6e-02 nm, Epot= -7.73350e+05 Fmax= 3.45136e+04, atom= 13\n",
            "Step=   44, Dmax= 5.5e-02 nm, Epot= -7.73976e+05 Fmax= 3.81993e+04, atom= 13\n",
            "Step=   45, Dmax= 6.6e-02 nm, Epot= -7.73796e+05 Fmax= 4.81257e+04, atom= 13\rStep=   46, Dmax= 3.3e-02 nm, Epot= -7.76218e+05 Fmax= 5.80260e+03, atom= 13\n",
            "Step=   47, Dmax= 4.0e-02 nm, Epot= -7.77602e+05 Fmax= 4.53221e+04, atom= 13\n",
            "Step=   48, Dmax= 4.8e-02 nm, Epot= -7.80144e+05 Fmax= 1.76810e+04, atom= 13\n",
            "Step=   49, Dmax= 5.7e-02 nm, Epot= -7.78247e+05 Fmax= 5.81644e+04, atom= 13\rStep=   50, Dmax= 2.9e-02 nm, Epot= -7.80855e+05 Fmax= 1.98548e+04, atom= 13\n",
            "Step=   51, Dmax= 3.4e-02 nm, Epot= -7.81415e+05 Fmax= 2.52017e+04, atom= 13\n",
            "Step=   52, Dmax= 4.1e-02 nm, Epot= -7.81971e+05 Fmax= 2.89493e+04, atom= 13\n",
            "Step=   53, Dmax= 5.0e-02 nm, Epot= -7.82237e+05 Fmax= 3.57165e+04, atom= 13\n",
            "Step=   54, Dmax= 6.0e-02 nm, Epot= -7.82443e+05 Fmax= 4.25005e+04, atom= 13\n",
            "Step=   55, Dmax= 7.1e-02 nm, Epot= -7.82261e+05 Fmax= 5.02149e+04, atom= 13\rStep=   56, Dmax= 3.6e-02 nm, Epot= -7.84856e+05 Fmax= 4.85274e+03, atom= 13\n",
            "Step=   57, Dmax= 4.3e-02 nm, Epot= -7.86124e+05 Fmax= 4.95061e+04, atom= 13\n",
            "Step=   58, Dmax= 5.1e-02 nm, Epot= -7.88777e+05 Fmax= 1.82830e+04, atom= 13\n",
            "Step=   59, Dmax= 6.2e-02 nm, Epot= -7.86236e+05 Fmax= 6.30871e+04, atom= 13\rStep=   60, Dmax= 3.1e-02 nm, Epot= -7.89282e+05 Fmax= 2.22497e+04, atom= 13\n",
            "Step=   61, Dmax= 3.7e-02 nm, Epot= -7.89721e+05 Fmax= 2.60968e+04, atom= 13\n",
            "Step=   62, Dmax= 4.4e-02 nm, Epot= -7.90010e+05 Fmax= 3.22010e+04, atom= 13\n",
            "Step=   63, Dmax= 5.3e-02 nm, Epot= -7.90222e+05 Fmax= 3.72537e+04, atom= 13\n",
            "Step=   64, Dmax= 6.4e-02 nm, Epot= -7.90055e+05 Fmax= 4.69046e+04, atom= 13\rStep=   65, Dmax= 3.2e-02 nm, Epot= -7.92032e+05 Fmax= 4.07929e+03, atom= 13\n",
            "Step=   66, Dmax= 3.8e-02 nm, Epot= -7.92854e+05 Fmax= 4.77186e+04, atom= 13\n",
            "Step=   67, Dmax= 4.6e-02 nm, Epot= -7.95590e+05 Fmax= 1.26493e+04, atom= 13\n",
            "Step=   68, Dmax= 5.5e-02 nm, Epot= -7.93395e+05 Fmax= 5.83801e+04, atom= 13\rStep=   69, Dmax= 2.8e-02 nm, Epot= -7.95887e+05 Fmax= 2.33156e+04, atom= 13\n",
            "Step=   70, Dmax= 3.3e-02 nm, Epot= -7.96506e+05 Fmax= 2.00549e+04, atom= 13\n",
            "Step=   71, Dmax= 4.0e-02 nm, Epot= -7.96463e+05 Fmax= 3.18092e+04, atom= 13\rStep=   72, Dmax= 2.0e-02 nm, Epot= -7.97220e+05 Fmax= 6.18407e+03, atom= 13\n",
            "Step=   73, Dmax= 2.4e-02 nm, Epot= -7.97826e+05 Fmax= 2.48093e+04, atom= 13\n",
            "Step=   74, Dmax= 2.9e-02 nm, Epot= -7.98655e+05 Fmax= 1.28344e+04, atom= 13\n",
            "Step=   75, Dmax= 3.4e-02 nm, Epot= -7.98547e+05 Fmax= 3.23279e+04, atom= 13\rStep=   76, Dmax= 1.7e-02 nm, Epot= -7.99138e+05 Fmax= 9.51789e+03, atom= 13\n",
            "Step=   77, Dmax= 2.1e-02 nm, Epot= -7.99553e+05 Fmax= 1.75944e+04, atom= 13\n",
            "Step=   78, Dmax= 2.5e-02 nm, Epot= -8.00063e+05 Fmax= 1.47188e+04, atom= 13\n",
            "Step=   79, Dmax= 3.0e-02 nm, Epot= -8.00255e+05 Fmax= 2.41308e+04, atom= 13\n",
            "Step=   80, Dmax= 3.6e-02 nm, Epot= -8.00763e+05 Fmax= 2.25180e+04, atom= 13\n",
            "Step=   81, Dmax= 4.3e-02 nm, Epot= -8.00639e+05 Fmax= 3.32229e+04, atom= 13\rStep=   82, Dmax= 2.1e-02 nm, Epot= -8.01535e+05 Fmax= 5.70771e+03, atom= 13\n",
            "Step=   83, Dmax= 2.6e-02 nm, Epot= -8.02029e+05 Fmax= 2.75805e+04, atom= 13\n",
            "Step=   84, Dmax= 3.1e-02 nm, Epot= -8.02942e+05 Fmax= 1.28908e+04, atom= 13\n",
            "Step=   85, Dmax= 3.7e-02 nm, Epot= -8.02568e+05 Fmax= 3.57692e+04, atom= 13\rStep=   86, Dmax= 1.8e-02 nm, Epot= -8.03369e+05 Fmax= 1.11767e+04, atom= 13\n",
            "Step=   87, Dmax= 2.2e-02 nm, Epot= -8.03682e+05 Fmax= 1.79182e+04, atom= 13\n",
            "Step=   88, Dmax= 2.7e-02 nm, Epot= -8.04108e+05 Fmax= 1.68563e+04, atom= 13\n",
            "Step=   89, Dmax= 3.2e-02 nm, Epot= -8.04234e+05 Fmax= 2.48763e+04, atom= 13\n",
            "Step=   90, Dmax= 3.8e-02 nm, Epot= -8.04610e+05 Fmax= 2.53221e+04, atom= 13\n",
            "Step=   91, Dmax= 4.6e-02 nm, Epot= -8.04452e+05 Fmax= 3.45700e+04, atom= 13\rStep=   92, Dmax= 2.3e-02 nm, Epot= -8.05481e+05 Fmax= 5.03817e+03, atom= 13\n",
            "Step=   93, Dmax= 2.8e-02 nm, Epot= -8.05895e+05 Fmax= 3.06858e+04, atom= 13\n",
            "Step=   94, Dmax= 3.3e-02 nm, Epot= -8.06939e+05 Fmax= 1.28311e+04, atom= 13\n",
            "Step=   95, Dmax= 4.0e-02 nm, Epot= -8.06255e+05 Fmax= 3.96037e+04, atom= 13\rStep=   96, Dmax= 2.0e-02 nm, Epot= -8.07296e+05 Fmax= 1.30895e+04, atom= 13\n",
            "Step=   97, Dmax= 2.4e-02 nm, Epot= -8.07554e+05 Fmax= 1.81463e+04, atom= 13\n",
            "Step=   98, Dmax= 2.9e-02 nm, Epot= -8.07876e+05 Fmax= 1.92764e+04, atom= 13\n",
            "Step=   99, Dmax= 3.4e-02 nm, Epot= -8.07978e+05 Fmax= 2.55639e+04, atom= 13\n",
            "Step=  100, Dmax= 4.1e-02 nm, Epot= -8.08191e+05 Fmax= 2.84521e+04, atom= 13\n",
            "Step=  101, Dmax= 4.9e-02 nm, Epot= -8.08043e+05 Fmax= 3.59082e+04, atom= 13\rStep=  102, Dmax= 2.5e-02 nm, Epot= -8.09203e+05 Fmax= 4.21132e+03, atom= 13\n",
            "Step=  103, Dmax= 3.0e-02 nm, Epot= -8.09600e+05 Fmax= 3.40261e+04, atom= 13\n",
            "Step=  104, Dmax= 3.6e-02 nm, Epot= -8.10809e+05 Fmax= 1.27673e+04, atom= 13\n",
            "Step=  105, Dmax= 4.3e-02 nm, Epot= -8.09767e+05 Fmax= 4.37575e+04, atom= 13\rStep=  106, Dmax= 2.1e-02 nm, Epot= -8.11090e+05 Fmax= 1.51752e+04, atom= 13\n",
            "Step=  107, Dmax= 2.6e-02 nm, Epot= -8.11324e+05 Fmax= 1.83676e+04, atom= 13\n",
            "Step=  108, Dmax= 3.1e-02 nm, Epot= -8.11523e+05 Fmax= 2.19094e+04, atom= 13\n",
            "Step=  109, Dmax= 3.7e-02 nm, Epot= -8.11636e+05 Fmax= 2.62763e+04, atom= 13\n",
            "Step=  110, Dmax= 4.4e-02 nm, Epot= -8.11656e+05 Fmax= 3.18484e+04, atom= 13\n",
            "Step=  111, Dmax= 5.3e-02 nm, Epot= -8.11550e+05 Fmax= 3.73172e+04, atom= 13\rStep=  112, Dmax= 2.7e-02 nm, Epot= -8.12844e+05 Fmax= 3.30082e+03, atom= 13\n",
            "Step=  113, Dmax= 3.2e-02 nm, Epot= -8.13348e+05 Fmax= 3.74205e+04, atom= 13\n",
            "Step=  114, Dmax= 3.8e-02 nm, Epot= -8.14742e+05 Fmax= 1.28956e+04, atom= 13\n",
            "Step=  115, Dmax= 4.6e-02 nm, Epot= -8.13292e+05 Fmax= 4.80293e+04, atom= 13\rStep=  116, Dmax= 2.3e-02 nm, Epot= -8.14937e+05 Fmax= 1.72710e+04, atom= 13\n",
            "Step=  117, Dmax= 2.8e-02 nm, Epot= -8.15168e+05 Fmax= 1.87473e+04, atom= 13\n",
            "Step=  118, Dmax= 3.3e-02 nm, Epot= -8.15232e+05 Fmax= 2.46103e+04, atom= 13\n",
            "Step=  119, Dmax= 4.0e-02 nm, Epot= -8.15368e+05 Fmax= 2.71722e+04, atom= 13\n",
            "Step=  120, Dmax= 4.8e-02 nm, Epot= -8.15177e+05 Fmax= 3.53746e+04, atom= 13\rStep=  121, Dmax= 2.4e-02 nm, Epot= -8.16265e+05 Fmax= 3.67083e+03, atom= 13\n",
            "Step=  122, Dmax= 2.9e-02 nm, Epot= -8.16358e+05 Fmax= 3.42974e+04, atom= 13\n",
            "Step=  123, Dmax= 3.4e-02 nm, Epot= -8.17686e+05 Fmax= 1.04497e+04, atom= 13\n",
            "Step=  124, Dmax= 4.1e-02 nm, Epot= -8.16442e+05 Fmax= 4.26835e+04, atom= 13\rStep=  125, Dmax= 2.1e-02 nm, Epot= -8.17838e+05 Fmax= 1.64388e+04, atom= 13\n",
            "Step=  126, Dmax= 2.5e-02 nm, Epot= -8.18107e+05 Fmax= 1.58287e+04, atom= 13\n",
            "Step=  127, Dmax= 3.0e-02 nm, Epot= -8.18109e+05 Fmax= 2.28467e+04, atom= 13\n",
            "Step=  128, Dmax= 3.6e-02 nm, Epot= -8.18326e+05 Fmax= 2.37014e+04, atom= 13\n",
            "Step=  129, Dmax= 4.3e-02 nm, Epot= -8.18093e+05 Fmax= 3.18354e+04, atom= 13\rStep=  130, Dmax= 2.1e-02 nm, Epot= -8.19058e+05 Fmax= 4.42803e+03, atom= 13\n",
            "Step=  131, Dmax= 2.6e-02 nm, Epot= -8.19109e+05 Fmax= 2.87494e+04, atom= 13\n",
            "Step=  132, Dmax= 3.1e-02 nm, Epot= -8.20012e+05 Fmax= 1.15851e+04, atom= 13\n",
            "Step=  133, Dmax= 3.7e-02 nm, Epot= -8.19170e+05 Fmax= 3.70410e+04, atom= 13\rStep=  134, Dmax= 1.8e-02 nm, Epot= -8.20234e+05 Fmax= 1.24712e+04, atom= 13\n",
            "Step=  135, Dmax= 2.2e-02 nm, Epot= -8.20373e+05 Fmax= 1.64708e+04, atom= 13\n",
            "Step=  136, Dmax= 2.7e-02 nm, Epot= -8.20549e+05 Fmax= 1.82404e+04, atom= 13\n",
            "Step=  137, Dmax= 3.2e-02 nm, Epot= -8.20564e+05 Fmax= 2.33287e+04, atom= 13\n",
            "Step=  138, Dmax= 3.8e-02 nm, Epot= -8.20626e+05 Fmax= 2.67568e+04, atom= 13\n",
            "Step=  139, Dmax= 4.6e-02 nm, Epot= -8.20426e+05 Fmax= 3.29325e+04, atom= 13\rStep=  140, Dmax= 2.3e-02 nm, Epot= -8.21538e+05 Fmax= 3.50818e+03, atom= 13\n",
            "Step=  141, Dmax= 2.8e-02 nm, Epot= -8.21560e+05 Fmax= 3.19694e+04, atom= 13\n",
            "Step=  142, Dmax= 3.3e-02 nm, Epot= -8.22689e+05 Fmax= 1.13977e+04, atom= 13\n",
            "Step=  143, Dmax= 4.0e-02 nm, Epot= -8.21441e+05 Fmax= 4.10442e+04, atom= 13\rStep=  144, Dmax= 2.0e-02 nm, Epot= -8.22840e+05 Fmax= 1.45475e+04, atom= 13\n",
            "Step=  145, Dmax= 2.4e-02 nm, Epot= -8.22994e+05 Fmax= 1.65336e+04, atom= 13\n",
            "Step=  146, Dmax= 2.9e-02 nm, Epot= -8.23049e+05 Fmax= 2.08301e+04, atom= 13\n",
            "Step=  147, Dmax= 3.4e-02 nm, Epot= -8.23103e+05 Fmax= 2.38438e+04, atom= 13\n",
            "Step=  148, Dmax= 4.1e-02 nm, Epot= -8.22961e+05 Fmax= 3.00557e+04, atom= 13\rStep=  149, Dmax= 2.1e-02 nm, Epot= -8.23880e+05 Fmax= 2.78196e+03, atom= 13\n",
            "Step=  150, Dmax= 2.5e-02 nm, Epot= -8.23953e+05 Fmax= 3.00043e+04, atom= 13\n",
            "Step=  151, Dmax= 3.0e-02 nm, Epot= -8.25121e+05 Fmax= 8.59651e+03, atom= 13\n",
            "Step=  152, Dmax= 3.5e-02 nm, Epot= -8.23968e+05 Fmax= 3.72367e+04, atom= 13\rStep=  153, Dmax= 1.8e-02 nm, Epot= -8.25212e+05 Fmax= 1.45670e+04, atom= 13\n",
            "Step=  154, Dmax= 2.1e-02 nm, Epot= -8.25446e+05 Fmax= 1.32682e+04, atom= 13\n",
            "Step=  155, Dmax= 2.6e-02 nm, Epot= -8.25396e+05 Fmax= 2.00880e+04, atom= 13\rStep=  156, Dmax= 1.3e-02 nm, Epot= -8.25774e+05 Fmax= 3.53924e+03, atom= 13\n",
            "Step=  157, Dmax= 1.5e-02 nm, Epot= -8.25998e+05 Fmax= 1.63766e+04, atom= 13\n",
            "Step=  158, Dmax= 1.8e-02 nm, Epot= -8.26402e+05 Fmax= 7.76484e+03, atom= 13\n",
            "Step=  159, Dmax= 2.2e-02 nm, Epot= -8.26252e+05 Fmax= 2.11806e+04, atom= 13\rStep=  160, Dmax= 1.1e-02 nm, Epot= -8.26598e+05 Fmax= 6.61238e+03, atom= 13\n",
            "Step=  161, Dmax= 1.3e-02 nm, Epot= -8.26751e+05 Fmax= 1.07654e+04, atom= 13\n",
            "Step=  162, Dmax= 1.6e-02 nm, Epot= -8.26951e+05 Fmax= 9.98784e+03, atom= 13\n",
            "Step=  163, Dmax= 1.9e-02 nm, Epot= -8.27015e+05 Fmax= 1.49642e+04, atom= 13\n",
            "Step=  164, Dmax= 2.3e-02 nm, Epot= -8.27200e+05 Fmax= 1.49716e+04, atom= 13\n",
            "Step=  165, Dmax= 2.7e-02 nm, Epot= -8.27125e+05 Fmax= 2.08763e+04, atom= 13\rStep=  166, Dmax= 1.4e-02 nm, Epot= -8.27600e+05 Fmax= 3.10278e+03, atom= 13\n",
            "Step=  167, Dmax= 1.6e-02 nm, Epot= -8.27787e+05 Fmax= 1.82818e+04, atom= 13\n",
            "Step=  168, Dmax= 2.0e-02 nm, Epot= -8.28288e+05 Fmax= 7.69577e+03, atom= 1920\n",
            "Step=  169, Dmax= 2.4e-02 nm, Epot= -8.27970e+05 Fmax= 2.38429e+04, atom= 1920\rStep=  170, Dmax= 1.2e-02 nm, Epot= -8.28464e+05 Fmax= 7.95500e+03, atom= 1920\n",
            "Step=  171, Dmax= 1.4e-02 nm, Epot= -8.28602e+05 Fmax= 1.06643e+04, atom= 1920\n",
            "Step=  172, Dmax= 1.7e-02 nm, Epot= -8.28755e+05 Fmax= 1.18753e+04, atom= 1920\n",
            "Step=  173, Dmax= 2.1e-02 nm, Epot= -8.28838e+05 Fmax= 1.49399e+04, atom= 1920\n",
            "Step=  174, Dmax= 2.5e-02 nm, Epot= -8.28925e+05 Fmax= 1.75270e+04, atom= 1920\n",
            "Step=  175, Dmax= 3.0e-02 nm, Epot= -8.28929e+05 Fmax= 2.10671e+04, atom= 1920\n",
            "Step=  176, Dmax= 3.5e-02 nm, Epot= -8.28861e+05 Fmax= 2.57178e+04, atom= 1920\rStep=  177, Dmax= 1.8e-02 nm, Epot= -8.29602e+05 Fmax= 2.06742e+03, atom= 1920\n",
            "Step=  178, Dmax= 2.1e-02 nm, Epot= -8.29893e+05 Fmax= 2.56814e+04, atom= 1920\n",
            "Step=  179, Dmax= 2.6e-02 nm, Epot= -8.30777e+05 Fmax= 7.83774e+03, atom= 1920\n",
            "Step=  180, Dmax= 3.1e-02 nm, Epot= -8.30002e+05 Fmax= 3.16231e+04, atom= 1920\rStep=  181, Dmax= 1.5e-02 nm, Epot= -8.30878e+05 Fmax= 1.20875e+04, atom= 1920\n",
            "Step=  182, Dmax= 1.8e-02 nm, Epot= -8.31041e+05 Fmax= 1.21434e+04, atom= 1920\n",
            "Step=  183, Dmax= 2.2e-02 nm, Epot= -8.31070e+05 Fmax= 1.66543e+04, atom= 1920\n",
            "Step=  184, Dmax= 2.6e-02 nm, Epot= -8.31184e+05 Fmax= 1.82305e+04, atom= 1920\n",
            "Step=  185, Dmax= 3.2e-02 nm, Epot= -8.31104e+05 Fmax= 2.32251e+04, atom= 1920\rStep=  186, Dmax= 1.6e-02 nm, Epot= -8.31660e+05 Fmax= 2.70862e+03, atom= 1920\n",
            "Step=  187, Dmax= 1.9e-02 nm, Epot= -8.31826e+05 Fmax= 2.25321e+04, atom= 1920\n",
            "Step=  188, Dmax= 2.3e-02 nm, Epot= -8.32432e+05 Fmax= 7.54130e+03, atom= 1920\n",
            "Step=  189, Dmax= 2.7e-02 nm, Epot= -8.31945e+05 Fmax= 2.90004e+04, atom= 1920\rStep=  190, Dmax= 1.4e-02 nm, Epot= -8.32557e+05 Fmax= 1.05744e+04, atom= 1920\n",
            "Step=  191, Dmax= 1.6e-02 nm, Epot= -8.32701e+05 Fmax= 1.09660e+04, atom= 1920\n",
            "Step=  192, Dmax= 2.0e-02 nm, Epot= -8.32766e+05 Fmax= 1.50984e+04, atom= 1920\n",
            "Step=  193, Dmax= 2.4e-02 nm, Epot= -8.32889e+05 Fmax= 1.59154e+04, atom= 1920\n",
            "Step=  194, Dmax= 2.8e-02 nm, Epot= -8.32844e+05 Fmax= 2.16307e+04, atom= 1920\rStep=  195, Dmax= 1.4e-02 nm, Epot= -8.33249e+05 Fmax= 2.69045e+03, atom= 1920\n",
            "Step=  196, Dmax= 1.7e-02 nm, Epot= -8.33459e+05 Fmax= 1.95418e+04, atom= 1920\n",
            "Step=  197, Dmax= 2.0e-02 nm, Epot= -8.33921e+05 Fmax= 7.34042e+03, atom= 1920\n",
            "Step=  198, Dmax= 2.5e-02 nm, Epot= -8.33646e+05 Fmax= 2.45444e+04, atom= 1920\rStep=  199, Dmax= 1.2e-02 nm, Epot= -8.34055e+05 Fmax= 8.72575e+03, atom= 1920\n",
            "Step=  200, Dmax= 1.5e-02 nm, Epot= -8.34176e+05 Fmax= 1.07176e+04, atom= 1920\n",
            "Step=  201, Dmax= 1.8e-02 nm, Epot= -8.34290e+05 Fmax= 1.24292e+04, atom= 1920\n",
            "Step=  202, Dmax= 2.1e-02 nm, Epot= -8.34364e+05 Fmax= 1.55721e+04, atom= 1920\n",
            "Step=  203, Dmax= 2.5e-02 nm, Epot= -8.34437e+05 Fmax= 1.77468e+04, atom= 1920\n",
            "Step=  204, Dmax= 3.1e-02 nm, Epot= -8.34412e+05 Fmax= 2.25967e+04, atom= 1920\rStep=  205, Dmax= 1.5e-02 nm, Epot= -8.34840e+05 Fmax= 2.23243e+03, atom= 1920\n",
            "Step=  206, Dmax= 1.8e-02 nm, Epot= -8.35117e+05 Fmax= 2.16863e+04, atom= 1920\n",
            "Step=  207, Dmax= 2.2e-02 nm, Epot= -8.35644e+05 Fmax= 7.21069e+03, atom= 1920\n",
            "Step=  208, Dmax= 2.6e-02 nm, Epot= -8.35282e+05 Fmax= 2.69781e+04, atom= 1920\rStep=  209, Dmax= 1.3e-02 nm, Epot= -8.35758e+05 Fmax= 1.00273e+04, atom= 1920\n",
            "Step=  210, Dmax= 1.6e-02 nm, Epot= -8.35885e+05 Fmax= 1.08659e+04, atom= 1920\n",
            "Step=  211, Dmax= 1.9e-02 nm, Epot= -8.35962e+05 Fmax= 1.39983e+04, atom= 1920\n",
            "Step=  212, Dmax= 2.3e-02 nm, Epot= -8.36050e+05 Fmax= 1.60868e+04, atom= 1920\n",
            "Step=  213, Dmax= 2.7e-02 nm, Epot= -8.36066e+05 Fmax= 1.97055e+04, atom= 1920\n",
            "Step=  214, Dmax= 3.3e-02 nm, Epot= -8.36061e+05 Fmax= 2.36445e+04, atom= 1920\rStep=  215, Dmax= 1.6e-02 nm, Epot= -8.36520e+05 Fmax= 1.74831e+03, atom= 1920\n",
            "Step=  216, Dmax= 2.0e-02 nm, Epot= -8.36930e+05 Fmax= 2.40183e+04, atom= 1920\n",
            "Step=  217, Dmax= 2.4e-02 nm, Epot= -8.37536e+05 Fmax= 7.06284e+03, atom= 1920\n",
            "Step=  218, Dmax= 2.8e-02 nm, Epot= -8.37069e+05 Fmax= 2.95386e+04, atom= 1920\rStep=  219, Dmax= 1.4e-02 nm, Epot= -8.37626e+05 Fmax= 1.14054e+04, atom= 1920\n",
            "Step=  220, Dmax= 1.7e-02 nm, Epot= -8.37763e+05 Fmax= 1.10494e+04, atom= 1920\n",
            "Step=  221, Dmax= 2.0e-02 nm, Epot= -8.37798e+05 Fmax= 1.56571e+04, atom= 1920\n",
            "Step=  222, Dmax= 2.5e-02 nm, Epot= -8.37903e+05 Fmax= 1.66700e+04, atom= 1920\n",
            "Step=  223, Dmax= 2.9e-02 nm, Epot= -8.37858e+05 Fmax= 2.17777e+04, atom= 1920\rStep=  224, Dmax= 1.5e-02 nm, Epot= -8.38226e+05 Fmax= 2.73449e+03, atom= 1920\n",
            "Step=  225, Dmax= 1.8e-02 nm, Epot= -8.38383e+05 Fmax= 2.06431e+04, atom= 1920\n",
            "Step=  226, Dmax= 2.1e-02 nm, Epot= -8.38796e+05 Fmax= 7.23292e+03, atom= 1920\n",
            "Step=  227, Dmax= 2.5e-02 nm, Epot= -8.38510e+05 Fmax= 2.65860e+04, atom= 1920\rStep=  228, Dmax= 1.3e-02 nm, Epot= -8.38904e+05 Fmax= 9.54242e+03, atom= 1920\n",
            "Step=  229, Dmax= 1.5e-02 nm, Epot= -8.39015e+05 Fmax= 1.04326e+04, atom= 1920\n",
            "Step=  230, Dmax= 1.8e-02 nm, Epot= -8.39087e+05 Fmax= 1.37158e+04, atom= 1920\n",
            "Step=  231, Dmax= 2.2e-02 nm, Epot= -8.39178e+05 Fmax= 1.50423e+04, atom= 1920\n",
            "Step=  232, Dmax= 2.6e-02 nm, Epot= -8.39181e+05 Fmax= 1.97459e+04, atom= 1920\n",
            "Step=  233, Dmax= 3.2e-02 nm, Epot= -8.39230e+05 Fmax= 2.16288e+04, atom= 1920\n",
            "Step=  234, Dmax= 3.8e-02 nm, Epot= -8.39087e+05 Fmax= 2.85085e+04, atom= 1920\rStep=  235, Dmax= 1.9e-02 nm, Epot= -8.39701e+05 Fmax= 3.14402e+03, atom= 1920\n",
            "Step=  236, Dmax= 2.3e-02 nm, Epot= -8.39643e+05 Fmax= 2.66375e+04, atom= 1920\rStep=  237, Dmax= 1.1e-02 nm, Epot= -8.39870e+05 Fmax= 1.18450e+04, atom= 1920\n",
            "Step=  238, Dmax= 1.4e-02 nm, Epot= -8.40050e+05 Fmax= 6.12379e+03, atom= 1920\n",
            "Step=  239, Dmax= 1.6e-02 nm, Epot= -8.40085e+05 Fmax= 1.52604e+04, atom= 1920\n",
            "Step=  240, Dmax= 2.0e-02 nm, Epot= -8.40289e+05 Fmax= 1.06111e+04, atom= 1920\n",
            "Step=  241, Dmax= 2.4e-02 nm, Epot= -8.40198e+05 Fmax= 2.02027e+04, atom= 1920\rStep=  242, Dmax= 1.2e-02 nm, Epot= -8.40450e+05 Fmax= 4.91077e+03, atom= 1920\n",
            "Step=  243, Dmax= 1.4e-02 nm, Epot= -8.40526e+05 Fmax= 1.38033e+04, atom= 1920\n",
            "Step=  244, Dmax= 1.7e-02 nm, Epot= -8.40719e+05 Fmax= 8.51770e+03, atom= 1920\n",
            "Step=  245, Dmax= 2.0e-02 nm, Epot= -8.40679e+05 Fmax= 1.84615e+04, atom= 1920\rStep=  246, Dmax= 1.0e-02 nm, Epot= -8.40850e+05 Fmax= 4.88445e+03, atom= 1920\n",
            "Step=  247, Dmax= 1.2e-02 nm, Epot= -8.40953e+05 Fmax= 1.11178e+04, atom= 1920\n",
            "Step=  248, Dmax= 1.5e-02 nm, Epot= -8.41099e+05 Fmax= 8.20646e+03, atom= 1920\n",
            "Step=  249, Dmax= 1.8e-02 nm, Epot= -8.41130e+05 Fmax= 1.48252e+04, atom= 1920\n",
            "Step=  250, Dmax= 2.1e-02 nm, Epot= -8.41281e+05 Fmax= 1.30171e+04, atom= 1920\n",
            "Step=  251, Dmax= 2.5e-02 nm, Epot= -8.41220e+05 Fmax= 2.01362e+04, atom= 1920\rStep=  252, Dmax= 1.3e-02 nm, Epot= -8.41478e+05 Fmax= 3.69266e+03, atom= 1920\n",
            "Step=  253, Dmax= 1.5e-02 nm, Epot= -8.41576e+05 Fmax= 1.64443e+04, atom= 1920\n",
            "Step=  254, Dmax= 1.8e-02 nm, Epot= -8.41823e+05 Fmax= 7.57644e+03, atom= 1920\n",
            "Step=  255, Dmax= 2.2e-02 nm, Epot= -8.41713e+05 Fmax= 2.14842e+04, atom= 1920\rStep=  256, Dmax= 1.1e-02 nm, Epot= -8.41938e+05 Fmax= 6.85274e+03, atom= 1920\n",
            "Step=  257, Dmax= 1.3e-02 nm, Epot= -8.42024e+05 Fmax= 1.03667e+04, atom= 1920\n",
            "Step=  258, Dmax= 1.6e-02 nm, Epot= -8.42134e+05 Fmax= 1.04296e+04, atom= 1920\n",
            "Step=  259, Dmax= 1.9e-02 nm, Epot= -8.42183e+05 Fmax= 1.43570e+04, atom= 1920\n",
            "Step=  260, Dmax= 2.3e-02 nm, Epot= -8.42269e+05 Fmax= 1.56053e+04, atom= 1920\n",
            "Step=  261, Dmax= 2.7e-02 nm, Epot= -8.42260e+05 Fmax= 2.00646e+04, atom= 1920\rStep=  262, Dmax= 1.4e-02 nm, Epot= -8.42516e+05 Fmax= 2.38488e+03, atom= 1920\n",
            "Step=  263, Dmax= 1.6e-02 nm, Epot= -8.42720e+05 Fmax= 1.92650e+04, atom= 1920\n",
            "Step=  264, Dmax= 2.0e-02 nm, Epot= -8.43042e+05 Fmax= 6.57703e+03, atom= 1920\n",
            "Step=  265, Dmax= 2.4e-02 nm, Epot= -8.42859e+05 Fmax= 2.47657e+04, atom= 1920\rStep=  266, Dmax= 1.2e-02 nm, Epot= -8.43137e+05 Fmax= 8.97973e+03, atom= 1920\n",
            "Step=  267, Dmax= 1.4e-02 nm, Epot= -8.43236e+05 Fmax= 9.54558e+03, atom= 1920\n",
            "Step=  268, Dmax= 1.7e-02 nm, Epot= -8.43303e+05 Fmax= 1.28423e+04, atom= 1920\n",
            "Step=  269, Dmax= 2.0e-02 nm, Epot= -8.43388e+05 Fmax= 1.38309e+04, atom= 1920\n",
            "Step=  270, Dmax= 2.4e-02 nm, Epot= -8.43400e+05 Fmax= 1.84184e+04, atom= 1920\n",
            "Step=  271, Dmax= 2.9e-02 nm, Epot= -8.43456e+05 Fmax= 1.99604e+04, atom= 1920\n",
            "Step=  272, Dmax= 3.5e-02 nm, Epot= -8.43358e+05 Fmax= 2.65153e+04, atom= 1920\rStep=  273, Dmax= 1.8e-02 nm, Epot= -8.43813e+05 Fmax= 3.02389e+03, atom= 1920\n",
            "Step=  274, Dmax= 2.1e-02 nm, Epot= -8.43819e+05 Fmax= 2.45904e+04, atom= 1920\n",
            "Step=  275, Dmax= 2.5e-02 nm, Epot= -8.44300e+05 Fmax= 8.65824e+03, atom= 1920\n",
            "Step=  276, Dmax= 3.0e-02 nm, Epot= -8.43852e+05 Fmax= 3.07332e+04, atom= 1920\rStep=  277, Dmax= 1.5e-02 nm, Epot= -8.44374e+05 Fmax= 1.12258e+04, atom= 1920\n",
            "Step=  278, Dmax= 1.8e-02 nm, Epot= -8.44454e+05 Fmax= 1.28208e+04, atom= 1920\n",
            "Step=  279, Dmax= 2.2e-02 nm, Epot= -8.44495e+05 Fmax= 1.58265e+04, atom= 1920\n",
            "Step=  280, Dmax= 2.6e-02 nm, Epot= -8.44533e+05 Fmax= 1.88150e+04, atom= 1920\n",
            "Step=  281, Dmax= 3.2e-02 nm, Epot= -8.44520e+05 Fmax= 2.24017e+04, atom= 1920\rStep=  282, Dmax= 1.6e-02 nm, Epot= -8.44846e+05 Fmax= 2.00159e+03, atom= 1920\n",
            "Step=  283, Dmax= 1.9e-02 nm, Epot= -8.45078e+05 Fmax= 2.29498e+04, atom= 1920\n",
            "Step=  284, Dmax= 2.3e-02 nm, Epot= -8.45483e+05 Fmax= 6.92451e+03, atom= 1920\n",
            "Step=  285, Dmax= 2.7e-02 nm, Epot= -8.45153e+05 Fmax= 2.94115e+04, atom= 1920\rStep=  286, Dmax= 1.4e-02 nm, Epot= -8.45554e+05 Fmax= 1.10975e+04, atom= 1920\n",
            "Step=  287, Dmax= 1.6e-02 nm, Epot= -8.45656e+05 Fmax= 1.03154e+04, atom= 1920\n",
            "Step=  288, Dmax= 2.0e-02 nm, Epot= -8.45680e+05 Fmax= 1.55729e+04, atom= 1920\n",
            "Step=  289, Dmax= 2.4e-02 nm, Epot= -8.45778e+05 Fmax= 1.52585e+04, atom= 1920\n",
            "Step=  290, Dmax= 2.8e-02 nm, Epot= -8.45717e+05 Fmax= 2.20328e+04, atom= 1920\rStep=  291, Dmax= 1.4e-02 nm, Epot= -8.45997e+05 Fmax= 3.22262e+03, atom= 1920\n",
            "Step=  292, Dmax= 1.7e-02 nm, Epot= -8.46067e+05 Fmax= 1.89120e+04, atom= 1920\n",
            "Step=  293, Dmax= 2.0e-02 nm, Epot= -8.46352e+05 Fmax= 7.77999e+03, atom= 1920\n",
            "Step=  294, Dmax= 2.4e-02 nm, Epot= -8.46164e+05 Fmax= 2.39572e+04, atom= 1920\rStep=  295, Dmax= 1.2e-02 nm, Epot= -8.46443e+05 Fmax= 8.20973e+03, atom= 1920\n",
            "Step=  296, Dmax= 1.5e-02 nm, Epot= -8.46511e+05 Fmax= 1.10897e+04, atom= 1920\n",
            "Step=  297, Dmax= 1.8e-02 nm, Epot= -8.46590e+05 Fmax= 1.19257e+04, atom= 1920\n",
            "Step=  298, Dmax= 2.1e-02 nm, Epot= -8.46620e+05 Fmax= 1.58789e+04, atom= 1920\n",
            "Step=  299, Dmax= 2.5e-02 nm, Epot= -8.46682e+05 Fmax= 1.72412e+04, atom= 1920\n",
            "Step=  300, Dmax= 3.0e-02 nm, Epot= -8.46633e+05 Fmax= 2.28260e+04, atom= 1920\rStep=  301, Dmax= 1.5e-02 nm, Epot= -8.46945e+05 Fmax= 2.60353e+03, atom= 1920\n",
            "Step=  302, Dmax= 1.8e-02 nm, Epot= -8.47034e+05 Fmax= 2.12133e+04, atom= 1920\n",
            "Step=  303, Dmax= 2.2e-02 nm, Epot= -8.47388e+05 Fmax= 7.47577e+03, atom= 1920\n",
            "Step=  304, Dmax= 2.6e-02 nm, Epot= -8.47113e+05 Fmax= 2.65590e+04, atom= 1920\rStep=  305, Dmax= 1.3e-02 nm, Epot= -8.47463e+05 Fmax= 9.68183e+03, atom= 1920\n",
            "Step=  306, Dmax= 1.6e-02 nm, Epot= -8.47540e+05 Fmax= 1.10580e+04, atom= 1920\n",
            "Step=  307, Dmax= 1.9e-02 nm, Epot= -8.47589e+05 Fmax= 1.36619e+04, atom= 1920\n",
            "Step=  308, Dmax= 2.3e-02 nm, Epot= -8.47633e+05 Fmax= 1.62125e+04, atom= 1920\n",
            "Step=  309, Dmax= 2.7e-02 nm, Epot= -8.47645e+05 Fmax= 1.93615e+04, atom= 1920\n",
            "Step=  310, Dmax= 3.3e-02 nm, Epot= -8.47618e+05 Fmax= 2.36907e+04, atom= 1920\rStep=  311, Dmax= 1.6e-02 nm, Epot= -8.47962e+05 Fmax= 1.94747e+03, atom= 1920\n",
            "Step=  312, Dmax= 2.0e-02 nm, Epot= -8.48124e+05 Fmax= 2.37161e+04, atom= 1920\n",
            "Step=  313, Dmax= 2.3e-02 nm, Epot= -8.48563e+05 Fmax= 7.13919e+03, atom= 1920\n",
            "Step=  314, Dmax= 2.8e-02 nm, Epot= -8.48179e+05 Fmax= 2.92984e+04, atom= 1920\rStep=  315, Dmax= 1.4e-02 nm, Epot= -8.48618e+05 Fmax= 1.12425e+04, atom= 1920\n",
            "Step=  316, Dmax= 1.7e-02 nm, Epot= -8.48707e+05 Fmax= 1.10493e+04, atom= 1920\n",
            "Step=  317, Dmax= 2.0e-02 nm, Epot= -8.48720e+05 Fmax= 1.54971e+04, atom= 1920\n",
            "Step=  318, Dmax= 2.4e-02 nm, Epot= -8.48786e+05 Fmax= 1.66037e+04, atom= 1920\n",
            "Step=  319, Dmax= 2.9e-02 nm, Epot= -8.48736e+05 Fmax= 2.16043e+04, atom= 1920\rStep=  320, Dmax= 1.5e-02 nm, Epot= -8.49029e+05 Fmax= 2.67752e+03, atom= 1920\n",
            "Step=  321, Dmax= 1.8e-02 nm, Epot= -8.49099e+05 Fmax= 2.04962e+04, atom= 1920\n",
            "Step=  322, Dmax= 2.1e-02 nm, Epot= -8.49415e+05 Fmax= 7.19880e+03, atom= 1920\n",
            "Step=  323, Dmax= 2.5e-02 nm, Epot= -8.49153e+05 Fmax= 2.63710e+04, atom= 1920\rStep=  324, Dmax= 1.3e-02 nm, Epot= -8.49485e+05 Fmax= 9.45492e+03, atom= 1920\n",
            "Step=  325, Dmax= 1.5e-02 nm, Epot= -8.49557e+05 Fmax= 1.03976e+04, atom= 1920\n",
            "Step=  326, Dmax= 1.8e-02 nm, Epot= -8.49598e+05 Fmax= 1.35790e+04, atom= 1920\n",
            "Step=  327, Dmax= 2.2e-02 nm, Epot= -8.49652e+05 Fmax= 1.49981e+04, atom= 1920\n",
            "Step=  328, Dmax= 2.6e-02 nm, Epot= -8.49639e+05 Fmax= 1.95469e+04, atom= 1920\rStep=  329, Dmax= 1.3e-02 nm, Epot= -8.49861e+05 Fmax= 2.13401e+03, atom= 1920\n",
            "Step=  330, Dmax= 1.6e-02 nm, Epot= -8.50008e+05 Fmax= 1.84048e+04, atom= 1920\n",
            "Step=  331, Dmax= 1.9e-02 nm, Epot= -8.50284e+05 Fmax= 6.35169e+03, atom= 1920\n",
            "Step=  332, Dmax= 2.3e-02 nm, Epot= -8.50103e+05 Fmax= 2.30368e+04, atom= 1920\rStep=  333, Dmax= 1.1e-02 nm, Epot= -8.50354e+05 Fmax= 8.44685e+03, atom= 1920\n",
            "Step=  334, Dmax= 1.4e-02 nm, Epot= -8.50425e+05 Fmax= 9.44286e+03, atom= 1920\n",
            "Step=  335, Dmax= 1.6e-02 nm, Epot= -8.50477e+05 Fmax= 1.18843e+04, atom= 1920\n",
            "Step=  336, Dmax= 2.0e-02 nm, Epot= -8.50529e+05 Fmax= 1.38802e+04, atom= 1920\n",
            "Step=  337, Dmax= 2.3e-02 nm, Epot= -8.50546e+05 Fmax= 1.68184e+04, atom= 1920\n",
            "Step=  338, Dmax= 2.8e-02 nm, Epot= -8.50542e+05 Fmax= 2.03055e+04, atom= 1920\rStep=  339, Dmax= 1.4e-02 nm, Epot= -8.50798e+05 Fmax= 1.58225e+03, atom= 1920\n",
            "Step=  340, Dmax= 1.7e-02 nm, Epot= -8.51025e+05 Fmax= 2.05294e+04, atom= 1920\n",
            "Step=  341, Dmax= 2.0e-02 nm, Epot= -8.51373e+05 Fmax= 6.09846e+03, atom= 1920\n",
            "Step=  342, Dmax= 2.4e-02 nm, Epot= -8.51098e+05 Fmax= 2.53733e+04, atom= 1920\rStep=  343, Dmax= 1.2e-02 nm, Epot= -8.51429e+05 Fmax= 9.75852e+03, atom= 1920\n",
            "Step=  344, Dmax= 1.5e-02 nm, Epot= -8.51510e+05 Fmax= 9.47155e+03, atom= 1920\n",
            "Step=  345, Dmax= 1.8e-02 nm, Epot= -8.51531e+05 Fmax= 1.34347e+04, atom= 1920\n",
            "Step=  346, Dmax= 2.1e-02 nm, Epot= -8.51595e+05 Fmax= 1.42534e+04, atom= 1920\n",
            "Step=  347, Dmax= 2.5e-02 nm, Epot= -8.51563e+05 Fmax= 1.87233e+04, atom= 1920\rStep=  348, Dmax= 1.3e-02 nm, Epot= -8.51790e+05 Fmax= 2.36644e+03, atom= 1920\n",
            "Step=  349, Dmax= 1.5e-02 nm, Epot= -8.51879e+05 Fmax= 1.76382e+04, atom= 1920\n",
            "Step=  350, Dmax= 1.8e-02 nm, Epot= -8.52137e+05 Fmax= 6.24326e+03, atom= 1920\n",
            "Step=  351, Dmax= 2.2e-02 nm, Epot= -8.51948e+05 Fmax= 2.26838e+04, atom= 1920\rStep=  352, Dmax= 1.1e-02 nm, Epot= -8.52202e+05 Fmax= 8.12232e+03, atom= 1920\n",
            "Step=  353, Dmax= 1.3e-02 nm, Epot= -8.52266e+05 Fmax= 9.00360e+03, atom= 1920\n",
            "Step=  354, Dmax= 1.6e-02 nm, Epot= -8.52310e+05 Fmax= 1.16779e+04, atom= 1920\n",
            "Step=  355, Dmax= 1.9e-02 nm, Epot= -8.52364e+05 Fmax= 1.29788e+04, atom= 1920\n",
            "Step=  356, Dmax= 2.3e-02 nm, Epot= -8.52362e+05 Fmax= 1.68137e+04, atom= 1920\rStep=  357, Dmax= 1.1e-02 nm, Epot= -8.52536e+05 Fmax= 1.81315e+03, atom= 1920\n",
            "Step=  358, Dmax= 1.4e-02 nm, Epot= -8.52696e+05 Fmax= 1.58845e+04, atom= 1920\n",
            "Step=  359, Dmax= 1.6e-02 nm, Epot= -8.52925e+05 Fmax= 5.47946e+03, atom= 1920\n",
            "Step=  360, Dmax= 2.0e-02 nm, Epot= -8.52794e+05 Fmax= 1.98960e+04, atom= 1920\rStep=  361, Dmax= 9.8e-03 nm, Epot= -8.52989e+05 Fmax= 7.28586e+03, atom= 1920\n",
            "Step=  362, Dmax= 1.2e-02 nm, Epot= -8.53056e+05 Fmax= 8.14863e+03, atom= 1920\n",
            "Step=  363, Dmax= 1.4e-02 nm, Epot= -8.53106e+05 Fmax= 1.02513e+04, atom= 1920\n",
            "Step=  364, Dmax= 1.7e-02 nm, Epot= -8.53154e+05 Fmax= 1.19736e+04, atom= 1920\n",
            "Step=  365, Dmax= 2.0e-02 nm, Epot= -8.53176e+05 Fmax= 1.45171e+04, atom= 1920\n",
            "Step=  366, Dmax= 2.4e-02 nm, Epot= -8.53181e+05 Fmax= 1.75017e+04, atom= 1920\n",
            "Step=  367, Dmax= 2.9e-02 nm, Epot= -8.53152e+05 Fmax= 2.06147e+04, atom= 1920\rStep=  368, Dmax= 1.5e-02 nm, Epot= -8.53465e+05 Fmax= 1.73275e+03, atom= 1920\n",
            "Step=  369, Dmax= 1.7e-02 nm, Epot= -8.53577e+05 Fmax= 2.13283e+04, atom= 1920\n",
            "Step=  370, Dmax= 2.1e-02 nm, Epot= -8.53952e+05 Fmax= 6.27754e+03, atom= 1920\n",
            "Step=  371, Dmax= 2.5e-02 nm, Epot= -8.53577e+05 Fmax= 2.72971e+04, atom= 1920\rStep=  372, Dmax= 1.3e-02 nm, Epot= -8.53990e+05 Fmax= 1.03856e+04, atom= 1920\n",
            "Step=  373, Dmax= 1.5e-02 nm, Epot= -8.54071e+05 Fmax= 9.41078e+03, atom= 1920\n",
            "Step=  374, Dmax= 1.8e-02 nm, Epot= -8.54059e+05 Fmax= 1.45167e+04, atom= 1920\rStep=  375, Dmax= 9.1e-03 nm, Epot= -8.54184e+05 Fmax= 2.48541e+03, atom= 1920\n",
            "Step=  376, Dmax= 1.1e-02 nm, Epot= -8.54273e+05 Fmax= 1.17063e+04, atom= 1920\n",
            "Step=  377, Dmax= 1.3e-02 nm, Epot= -8.54412e+05 Fmax= 5.44504e+03, atom= 1920\n",
            "Step=  378, Dmax= 1.6e-02 nm, Epot= -8.54376e+05 Fmax= 1.49925e+04, atom= 1920\rStep=  379, Dmax= 7.8e-03 nm, Epot= -8.54483e+05 Fmax= 4.82303e+03, atom= 1920\n",
            "Step=  380, Dmax= 9.4e-03 nm, Epot= -8.54542e+05 Fmax= 7.57105e+03, atom= 1920\n",
            "Step=  381, Dmax= 1.1e-02 nm, Epot= -8.54611e+05 Fmax= 7.21181e+03, atom= 1920\n",
            "Step=  382, Dmax= 1.4e-02 nm, Epot= -8.54645e+05 Fmax= 1.06367e+04, atom= 1920\n",
            "Step=  383, Dmax= 1.6e-02 nm, Epot= -8.54712e+05 Fmax= 1.06464e+04, atom= 1920\n",
            "Step=  384, Dmax= 1.9e-02 nm, Epot= -8.54700e+05 Fmax= 1.50607e+04, atom= 1920\rStep=  385, Dmax= 9.7e-03 nm, Epot= -8.54847e+05 Fmax= 2.12911e+03, atom= 1920\n",
            "Step=  386, Dmax= 1.2e-02 nm, Epot= -8.54941e+05 Fmax= 1.31311e+04, atom= 1920\n",
            "Step=  387, Dmax= 1.4e-02 nm, Epot= -8.55116e+05 Fmax= 5.30287e+03, atom= 1920\n",
            "Step=  388, Dmax= 1.7e-02 nm, Epot= -8.55032e+05 Fmax= 1.66381e+04, atom= 1920\rStep=  389, Dmax= 8.4e-03 nm, Epot= -8.55182e+05 Fmax= 5.72505e+03, atom= 1920\n",
            "Step=  390, Dmax= 1.0e-02 nm, Epot= -8.55238e+05 Fmax= 7.59461e+03, atom= 1920\n",
            "Step=  391, Dmax= 1.2e-02 nm, Epot= -8.55296e+05 Fmax= 8.28858e+03, atom= 1920\n",
            "Step=  392, Dmax= 1.5e-02 nm, Epot= -8.55327e+05 Fmax= 1.08911e+04, atom= 1920\n",
            "Step=  393, Dmax= 1.7e-02 nm, Epot= -8.55373e+05 Fmax= 1.19771e+04, atom= 1920\n",
            "Step=  394, Dmax= 2.1e-02 nm, Epot= -8.55358e+05 Fmax= 1.56498e+04, atom= 1920\rStep=  395, Dmax= 1.0e-02 nm, Epot= -8.55538e+05 Fmax= 1.74649e+03, atom= 1920\n",
            "Step=  396, Dmax= 1.3e-02 nm, Epot= -8.55646e+05 Fmax= 1.46551e+04, atom= 1920\n",
            "Step=  397, Dmax= 1.5e-02 nm, Epot= -8.55871e+05 Fmax= 5.15988e+03, atom= 1920\n",
            "Step=  398, Dmax= 1.8e-02 nm, Epot= -8.55713e+05 Fmax= 1.83872e+04, atom= 1920\rStep=  399, Dmax= 9.0e-03 nm, Epot= -8.55928e+05 Fmax= 6.67993e+03, atom= 1920\n",
            "Step=  400, Dmax= 1.1e-02 nm, Epot= -8.55985e+05 Fmax= 7.63422e+03, atom= 1920\n",
            "Step=  401, Dmax= 1.3e-02 nm, Epot= -8.56025e+05 Fmax= 9.43056e+03, atom= 1920\n",
            "Step=  402, Dmax= 1.6e-02 nm, Epot= -8.56060e+05 Fmax= 1.11799e+04, atom= 1920\n",
            "Step=  403, Dmax= 1.9e-02 nm, Epot= -8.56076e+05 Fmax= 1.33906e+04, atom= 1920\n",
            "Step=  404, Dmax= 2.3e-02 nm, Epot= -8.56061e+05 Fmax= 1.63002e+04, atom= 1920\rStep=  405, Dmax= 1.1e-02 nm, Epot= -8.56290e+05 Fmax= 1.35113e+03, atom= 1920\n",
            "Step=  406, Dmax= 1.4e-02 nm, Epot= -8.56415e+05 Fmax= 1.62865e+04, atom= 1920\n",
            "Step=  407, Dmax= 1.6e-02 nm, Epot= -8.56722e+05 Fmax= 5.01988e+03, atom= 1920\n",
            "Step=  408, Dmax= 1.9e-02 nm, Epot= -8.56442e+05 Fmax= 2.02268e+04, atom= 1920\rStep=  409, Dmax= 9.7e-03 nm, Epot= -8.56764e+05 Fmax= 7.68055e+03, atom= 1920\n",
            "Step=  410, Dmax= 1.2e-02 nm, Epot= -8.56827e+05 Fmax= 7.70446e+03, atom= 1920\n",
            "Step=  411, Dmax= 1.4e-02 nm, Epot= -8.56839e+05 Fmax= 1.06284e+04, atom= 1920\n",
            "Step=  412, Dmax= 1.7e-02 nm, Epot= -8.56882e+05 Fmax= 1.15214e+04, atom= 1920\n",
            "Step=  413, Dmax= 2.0e-02 nm, Epot= -8.56845e+05 Fmax= 1.48775e+04, atom= 1920\rStep=  414, Dmax= 1.0e-02 nm, Epot= -8.57068e+05 Fmax= 1.76162e+03, atom= 1920\n",
            "Step=  415, Dmax= 1.2e-02 nm, Epot= -8.57116e+05 Fmax= 1.42621e+04, atom= 1920\n",
            "Step=  416, Dmax= 1.5e-02 nm, Epot= -8.57364e+05 Fmax= 4.83223e+03, atom= 1920\n",
            "Step=  417, Dmax= 1.7e-02 nm, Epot= -8.57150e+05 Fmax= 1.82926e+04, atom= 1920\rStep=  418, Dmax= 8.7e-03 nm, Epot= -8.57411e+05 Fmax= 6.66727e+03, atom= 1920\n",
            "Step=  419, Dmax= 1.0e-02 nm, Epot= -8.57467e+05 Fmax= 7.03310e+03, atom= 1920\n",
            "Step=  420, Dmax= 1.3e-02 nm, Epot= -8.57490e+05 Fmax= 9.51487e+03, atom= 1920\n",
            "Step=  421, Dmax= 1.5e-02 nm, Epot= -8.57535e+05 Fmax= 1.02161e+04, atom= 1920\n",
            "Step=  422, Dmax= 1.8e-02 nm, Epot= -8.57511e+05 Fmax= 1.36148e+04, atom= 1920\rStep=  423, Dmax= 9.0e-03 nm, Epot= -8.57695e+05 Fmax= 1.64024e+03, atom= 3909\n",
            "Step=  424, Dmax= 1.1e-02 nm, Epot= -8.57760e+05 Fmax= 1.26286e+04, atom= 3909\n",
            "Step=  425, Dmax= 1.3e-02 nm, Epot= -8.57974e+05 Fmax= 4.53657e+03, atom= 3909\n",
            "Step=  426, Dmax= 1.6e-02 nm, Epot= -8.57820e+05 Fmax= 1.61876e+04, atom= 3909\rStep=  427, Dmax= 7.8e-03 nm, Epot= -8.58028e+05 Fmax= 5.77653e+03, atom= 3909\n",
            "Step=  428, Dmax= 9.4e-03 nm, Epot= -8.58079e+05 Fmax= 6.56950e+03, atom= 3909\n",
            "Step=  429, Dmax= 1.1e-02 nm, Epot= -8.58118e+05 Fmax= 8.28794e+03, atom= 3909\n",
            "Step=  430, Dmax= 1.3e-02 nm, Epot= -8.58156e+05 Fmax= 9.47811e+03, atom= 3909\n",
            "Step=  431, Dmax= 1.6e-02 nm, Epot= -8.58161e+05 Fmax= 1.19346e+04, atom= 3909\n",
            "Step=  432, Dmax= 1.9e-02 nm, Epot= -8.58174e+05 Fmax= 1.36237e+04, atom= 3909\n",
            "Step=  433, Dmax= 2.3e-02 nm, Epot= -8.58114e+05 Fmax= 1.72457e+04, atom= 3909\rStep=  434, Dmax= 1.2e-02 nm, Epot= -8.58420e+05 Fmax= 1.70351e+03, atom= 3909\n",
            "Step=  435, Dmax= 1.4e-02 nm, Epot= -8.58401e+05 Fmax= 1.68921e+04, atom= 3909\rStep=  436, Dmax= 7.0e-03 nm, Epot= -8.58516e+05 Fmax= 7.62943e+03, atom= 3909\n",
            "Step=  437, Dmax= 8.4e-03 nm, Epot= -8.58612e+05 Fmax= 3.45062e+03, atom= 3909\n",
            "Step=  438, Dmax= 1.0e-02 nm, Epot= -8.58627e+05 Fmax= 9.79493e+03, atom= 3909\n",
            "Step=  439, Dmax= 1.2e-02 nm, Epot= -8.58744e+05 Fmax= 6.15609e+03, atom= 3909\n",
            "Step=  440, Dmax= 1.4e-02 nm, Epot= -8.58681e+05 Fmax= 1.29175e+04, atom= 3909\rStep=  441, Dmax= 7.2e-03 nm, Epot= -8.58817e+05 Fmax= 3.42211e+03, atom= 3909\n",
            "Step=  442, Dmax= 8.7e-03 nm, Epot= -8.58856e+05 Fmax= 8.05649e+03, atom= 3909\n",
            "Step=  443, Dmax= 1.0e-02 nm, Epot= -8.58941e+05 Fmax= 5.71239e+03, atom= 3909\n",
            "Step=  444, Dmax= 1.3e-02 nm, Epot= -8.58931e+05 Fmax= 1.08551e+04, atom= 3909\rStep=  445, Dmax= 6.3e-03 nm, Epot= -8.59012e+05 Fmax= 2.53975e+03, atom= 3909\n",
            "Step=  446, Dmax= 7.5e-03 nm, Epot= -8.59071e+05 Fmax= 7.38182e+03, atom= 3909\n",
            "Step=  447, Dmax= 9.0e-03 nm, Epot= -8.59155e+05 Fmax= 4.52228e+03, atom= 3909\n",
            "Step=  448, Dmax= 1.1e-02 nm, Epot= -8.59159e+05 Fmax= 9.72894e+03, atom= 3909\n",
            "Step=  449, Dmax= 1.3e-02 nm, Epot= -8.59256e+05 Fmax= 7.42624e+03, atom= 3909\n",
            "Step=  450, Dmax= 1.6e-02 nm, Epot= -8.59208e+05 Fmax= 1.30753e+04, atom= 3909\rStep=  451, Dmax= 7.8e-03 nm, Epot= -8.59346e+05 Fmax= 2.87258e+03, atom= 3909\n",
            "Step=  452, Dmax= 9.4e-03 nm, Epot= -8.59383e+05 Fmax= 9.46218e+03, atom= 3909\n",
            "Step=  453, Dmax= 1.1e-02 nm, Epot= -8.59491e+05 Fmax= 5.34068e+03, atom= 3909\n",
            "Step=  454, Dmax= 1.3e-02 nm, Epot= -8.59454e+05 Fmax= 1.24809e+04, atom= 3909\rStep=  455, Dmax= 6.7e-03 nm, Epot= -8.59554e+05 Fmax= 3.53354e+03, atom= 3909\n",
            "Step=  456, Dmax= 8.1e-03 nm, Epot= -8.59600e+05 Fmax= 7.12308e+03, atom= 3909\n",
            "Step=  457, Dmax= 9.7e-03 nm, Epot= -8.59669e+05 Fmax= 5.67630e+03, atom= 3909\n",
            "Step=  458, Dmax= 1.2e-02 nm, Epot= -8.59683e+05 Fmax= 9.64425e+03, atom= 3909\n",
            "Step=  459, Dmax= 1.4e-02 nm, Epot= -8.59752e+05 Fmax= 8.80346e+03, atom= 3909\n",
            "Step=  460, Dmax= 1.7e-02 nm, Epot= -8.59722e+05 Fmax= 1.32355e+04, atom= 3909\rStep=  461, Dmax= 8.4e-03 nm, Epot= -8.59862e+05 Fmax= 2.27166e+03, atom= 3909\n",
            "Step=  462, Dmax= 1.0e-02 nm, Epot= -8.59909e+05 Fmax= 1.09714e+04, atom= 3909\n",
            "Step=  463, Dmax= 1.2e-02 nm, Epot= -8.60047e+05 Fmax= 4.94195e+03, atom= 3909\n",
            "Step=  464, Dmax= 1.4e-02 nm, Epot= -8.59980e+05 Fmax= 1.42347e+04, atom= 3909\rStep=  465, Dmax= 7.2e-03 nm, Epot= -8.60102e+05 Fmax= 4.60397e+03, atom= 3909\n",
            "Step=  466, Dmax= 8.7e-03 nm, Epot= -8.60146e+05 Fmax= 6.84587e+03, atom= 3909\n",
            "Step=  467, Dmax= 1.0e-02 nm, Epot= -8.60200e+05 Fmax= 6.91789e+03, atom= 3909\n",
            "Step=  468, Dmax= 1.3e-02 nm, Epot= -8.60224e+05 Fmax= 9.55149e+03, atom= 3909\n",
            "Step=  469, Dmax= 1.5e-02 nm, Epot= -8.60267e+05 Fmax= 1.02870e+04, atom= 3909\n",
            "Step=  470, Dmax= 1.8e-02 nm, Epot= -8.60259e+05 Fmax= 1.34049e+04, atom= 3909\rStep=  471, Dmax= 9.0e-03 nm, Epot= -8.60398e+05 Fmax= 1.62404e+03, atom= 3909\n",
            "Step=  472, Dmax= 1.1e-02 nm, Epot= -8.60494e+05 Fmax= 1.25707e+04, atom= 3909\n",
            "Step=  473, Dmax= 1.3e-02 nm, Epot= -8.60657e+05 Fmax= 4.53211e+03, atom= 3909\n",
            "Step=  474, Dmax= 1.6e-02 nm, Epot= -8.60564e+05 Fmax= 1.61222e+04, atom= 3909\rStep=  475, Dmax= 7.8e-03 nm, Epot= -8.60705e+05 Fmax= 5.74654e+03, atom= 3909\n",
            "Step=  476, Dmax= 9.3e-03 nm, Epot= -8.60755e+05 Fmax= 6.55595e+03, atom= 3909\n",
            "Step=  477, Dmax= 1.1e-02 nm, Epot= -8.60792e+05 Fmax= 8.24786e+03, atom= 3909\n",
            "Step=  478, Dmax= 1.3e-02 nm, Epot= -8.60833e+05 Fmax= 9.45650e+03, atom= 3909\n",
            "Step=  479, Dmax= 1.6e-02 nm, Epot= -8.60848e+05 Fmax= 1.18790e+04, atom= 3909\n",
            "Step=  480, Dmax= 1.9e-02 nm, Epot= -8.60864e+05 Fmax= 1.35902e+04, atom= 3909\n",
            "Step=  481, Dmax= 2.3e-02 nm, Epot= -8.60830e+05 Fmax= 1.71688e+04, atom= 3909\rStep=  482, Dmax= 1.2e-02 nm, Epot= -8.61057e+05 Fmax= 1.68209e+03, atom= 3909\n",
            "Step=  483, Dmax= 1.4e-02 nm, Epot= -8.61092e+05 Fmax= 1.68557e+04, atom= 3909\n",
            "Step=  484, Dmax= 1.7e-02 nm, Epot= -8.61359e+05 Fmax= 5.25738e+03, atom= 3909\n",
            "Step=  485, Dmax= 2.0e-02 nm, Epot= -8.61119e+05 Fmax= 2.09837e+04, atom= 3909\rStep=  486, Dmax= 1.0e-02 nm, Epot= -8.61391e+05 Fmax= 7.94204e+03, atom= 3909\n",
            "Step=  487, Dmax= 1.2e-02 nm, Epot= -8.61445e+05 Fmax= 7.96789e+03, atom= 3909\n",
            "Step=  488, Dmax= 1.4e-02 nm, Epot= -8.61455e+05 Fmax= 1.10499e+04, atom= 3909\n",
            "Step=  489, Dmax= 1.7e-02 nm, Epot= -8.61496e+05 Fmax= 1.18768e+04, atom= 3909\n",
            "Step=  490, Dmax= 2.1e-02 nm, Epot= -8.61466e+05 Fmax= 1.54814e+04, atom= 3909\rStep=  491, Dmax= 1.0e-02 nm, Epot= -8.61645e+05 Fmax= 1.88888e+03, atom= 3909\n",
            "Step=  492, Dmax= 1.2e-02 nm, Epot= -8.61695e+05 Fmax= 1.45000e+04, atom= 3909\n",
            "Step=  493, Dmax= 1.5e-02 nm, Epot= -8.61883e+05 Fmax= 5.26004e+03, atom= 3909\n",
            "Step=  494, Dmax= 1.8e-02 nm, Epot= -8.61738e+05 Fmax= 1.86205e+04, atom= 3909\rStep=  495, Dmax= 9.0e-03 nm, Epot= -8.61927e+05 Fmax= 6.61534e+03, atom= 3909\n",
            "Step=  496, Dmax= 1.1e-02 nm, Epot= -8.61973e+05 Fmax= 7.59605e+03, atom= 3909\n",
            "Step=  497, Dmax= 1.3e-02 nm, Epot= -8.62002e+05 Fmax= 9.50937e+03, atom= 3909\n",
            "Step=  498, Dmax= 1.6e-02 nm, Epot= -8.62033e+05 Fmax= 1.09391e+04, atom= 3909\n",
            "Step=  499, Dmax= 1.9e-02 nm, Epot= -8.62036e+05 Fmax= 1.37175e+04, atom= 3909\n",
            "Step=  500, Dmax= 2.2e-02 nm, Epot= -8.62040e+05 Fmax= 1.56943e+04, atom= 3909\n",
            "Step=  501, Dmax= 2.7e-02 nm, Epot= -8.61981e+05 Fmax= 1.98590e+04, atom= 3909\rStep=  502, Dmax= 1.3e-02 nm, Epot= -8.62269e+05 Fmax= 1.93951e+03, atom= 3909\n",
            "Step=  503, Dmax= 1.6e-02 nm, Epot= -8.62229e+05 Fmax= 1.95074e+04, atom= 3909\rStep=  504, Dmax= 8.1e-03 nm, Epot= -8.62347e+05 Fmax= 8.82996e+03, atom= 3909\n",
            "Step=  505, Dmax= 9.7e-03 nm, Epot= -8.62436e+05 Fmax= 3.92512e+03, atom= 3909\n",
            "Step=  506, Dmax= 1.2e-02 nm, Epot= -8.62440e+05 Fmax= 1.13195e+04, atom= 3909\n",
            "Step=  507, Dmax= 1.4e-02 nm, Epot= -8.62546e+05 Fmax= 7.04210e+03, atom= 3909\n",
            "Step=  508, Dmax= 1.7e-02 nm, Epot= -8.62480e+05 Fmax= 1.49083e+04, atom= 3909\rStep=  509, Dmax= 8.3e-03 nm, Epot= -8.62612e+05 Fmax= 3.98785e+03, atom= 3909\n",
            "Step=  510, Dmax= 1.0e-02 nm, Epot= -8.62639e+05 Fmax= 9.22261e+03, atom= 3909\n",
            "Step=  511, Dmax= 1.2e-02 nm, Epot= -8.62715e+05 Fmax= 6.62864e+03, atom= 3909\n",
            "Step=  512, Dmax= 1.4e-02 nm, Epot= -8.62698e+05 Fmax= 1.24465e+04, atom= 3909\rStep=  513, Dmax= 7.2e-03 nm, Epot= -8.62779e+05 Fmax= 2.86685e+03, atom= 3909\n",
            "Step=  514, Dmax= 8.7e-03 nm, Epot= -8.62825e+05 Fmax= 8.56031e+03, atom= 3909\n",
            "Step=  515, Dmax= 1.0e-02 nm, Epot= -8.62904e+05 Fmax= 5.14187e+03, atom= 3909\n",
            "Step=  516, Dmax= 1.2e-02 nm, Epot= -8.62901e+05 Fmax= 1.12616e+04, atom= 3909\rStep=  517, Dmax= 6.2e-03 nm, Epot= -8.62958e+05 Fmax= 3.09075e+03, atom= 3909\n",
            "Step=  518, Dmax= 7.5e-03 nm, Epot= -8.63006e+05 Fmax= 6.76731e+03, atom= 3909\n",
            "Step=  519, Dmax= 9.0e-03 nm, Epot= -8.63064e+05 Fmax= 5.06894e+03, atom= 3909\n",
            "Step=  520, Dmax= 1.1e-02 nm, Epot= -8.63087e+05 Fmax= 9.15779e+03, atom= 3909\n",
            "Step=  521, Dmax= 1.3e-02 nm, Epot= -8.63150e+05 Fmax= 7.87123e+03, atom= 3909\n",
            "Step=  522, Dmax= 1.6e-02 nm, Epot= -8.63137e+05 Fmax= 1.26380e+04, atom= 3909\rStep=  523, Dmax= 7.8e-03 nm, Epot= -8.63225e+05 Fmax= 2.33493e+03, atom= 3909\n",
            "Step=  524, Dmax= 9.3e-03 nm, Epot= -8.63280e+05 Fmax= 9.95532e+03, atom= 3909\n",
            "Step=  525, Dmax= 1.1e-02 nm, Epot= -8.63377e+05 Fmax= 4.77589e+03, atom= 3909\n",
            "Step=  526, Dmax= 1.3e-02 nm, Epot= -8.63353e+05 Fmax= 1.28418e+04, atom= 3909\rStep=  527, Dmax= 6.7e-03 nm, Epot= -8.63427e+05 Fmax= 4.06856e+03, atom= 3909\n",
            "Step=  528, Dmax= 8.0e-03 nm, Epot= -8.63469e+05 Fmax= 6.53604e+03, atom= 3909\n",
            "Step=  529, Dmax= 9.6e-03 nm, Epot= -8.63520e+05 Fmax= 6.18153e+03, atom= 3909\n",
            "Step=  530, Dmax= 1.2e-02 nm, Epot= -8.63546e+05 Fmax= 9.11130e+03, atom= 3909\n",
            "Step=  531, Dmax= 1.4e-02 nm, Epot= -8.63591e+05 Fmax= 9.18467e+03, atom= 3909\n",
            "Step=  532, Dmax= 1.7e-02 nm, Epot= -8.63588e+05 Fmax= 1.28608e+04, atom= 3909\rStep=  533, Dmax= 8.3e-03 nm, Epot= -8.63683e+05 Fmax= 1.78230e+03, atom= 3909\n",
            "Step=  534, Dmax= 1.0e-02 nm, Epot= -8.63760e+05 Fmax= 1.14553e+04, atom= 3909\n",
            "Step=  535, Dmax= 1.2e-02 nm, Epot= -8.63880e+05 Fmax= 4.38434e+03, atom= 3909\n",
            "Step=  536, Dmax= 1.4e-02 nm, Epot= -8.63834e+05 Fmax= 1.45290e+04, atom= 3909\rStep=  537, Dmax= 7.2e-03 nm, Epot= -8.63929e+05 Fmax= 5.11323e+03, atom= 3909\n",
            "Step=  538, Dmax= 8.6e-03 nm, Epot= -8.63969e+05 Fmax= 6.29109e+03, atom= 3909\n",
            "Step=  539, Dmax= 1.0e-02 nm, Epot= -8.64010e+05 Fmax= 7.37206e+03, atom= 3909\n",
            "Step=  540, Dmax= 1.2e-02 nm, Epot= -8.64040e+05 Fmax= 9.06630e+03, atom= 3909\n",
            "Step=  541, Dmax= 1.5e-02 nm, Epot= -8.64068e+05 Fmax= 1.05901e+04, atom= 3909\n",
            "Step=  542, Dmax= 1.8e-02 nm, Epot= -8.64076e+05 Fmax= 1.31054e+04, atom= 3909\n",
            "Step=  543, Dmax= 2.2e-02 nm, Epot= -8.64081e+05 Fmax= 1.51677e+04, atom= 3909\n",
            "Step=  544, Dmax= 2.6e-02 nm, Epot= -8.64037e+05 Fmax= 1.89986e+04, atom= 3909\rStep=  545, Dmax= 1.3e-02 nm, Epot= -8.64281e+05 Fmax= 1.78295e+03, atom= 3909\n",
            "Step=  546, Dmax= 1.5e-02 nm, Epot= -8.64273e+05 Fmax= 1.88412e+04, atom= 3909\rStep=  547, Dmax= 7.7e-03 nm, Epot= -8.64362e+05 Fmax= 8.57178e+03, atom= 3909\n",
            "Step=  548, Dmax= 9.3e-03 nm, Epot= -8.64441e+05 Fmax= 3.68930e+03, atom= 3909\n",
            "Step=  549, Dmax= 1.1e-02 nm, Epot= -8.64451e+05 Fmax= 1.09616e+04, atom= 3909\n",
            "Step=  550, Dmax= 1.3e-02 nm, Epot= -8.64547e+05 Fmax= 6.68552e+03, atom= 3909\n",
            "Step=  551, Dmax= 1.6e-02 nm, Epot= -8.64494e+05 Fmax= 1.44151e+04, atom= 3909\rStep=  552, Dmax= 8.0e-03 nm, Epot= -8.64605e+05 Fmax= 3.91598e+03, atom= 3909\n",
            "Step=  553, Dmax= 9.6e-03 nm, Epot= -8.64634e+05 Fmax= 8.78163e+03, atom= 3909\n",
            "Step=  554, Dmax= 1.2e-02 nm, Epot= -8.64701e+05 Fmax= 6.45468e+03, atom= 3909\n",
            "Step=  555, Dmax= 1.4e-02 nm, Epot= -8.64691e+05 Fmax= 1.18767e+04, atom= 3909\rStep=  556, Dmax= 6.9e-03 nm, Epot= -8.64757e+05 Fmax= 2.67214e+03, atom= 3909\n",
            "Step=  557, Dmax= 8.3e-03 nm, Epot= -8.64806e+05 Fmax= 8.31331e+03, atom= 3909\n",
            "Step=  558, Dmax= 1.0e-02 nm, Epot= -8.64878e+05 Fmax= 4.85595e+03, atom= 3909\n",
            "Step=  559, Dmax= 1.2e-02 nm, Epot= -8.64879e+05 Fmax= 1.09122e+04, atom= 3909\n",
            "Step=  560, Dmax= 1.4e-02 nm, Epot= -8.64959e+05 Fmax= 8.06808e+03, atom= 3909\n",
            "Step=  561, Dmax= 1.7e-02 nm, Epot= -8.64909e+05 Fmax= 1.46108e+04, atom= 3909\rStep=  562, Dmax= 8.6e-03 nm, Epot= -8.65030e+05 Fmax= 3.33079e+03, atom= 3909\n",
            "Step=  563, Dmax= 1.0e-02 nm, Epot= -8.65052e+05 Fmax= 1.03139e+04, atom= 3909\n",
            "Step=  564, Dmax= 1.2e-02 nm, Epot= -8.65141e+05 Fmax= 6.06668e+03, atom= 3909\n",
            "Step=  565, Dmax= 1.5e-02 nm, Epot= -8.65105e+05 Fmax= 1.36528e+04, atom= 3909\rStep=  566, Dmax= 7.5e-03 nm, Epot= -8.65194e+05 Fmax= 3.74807e+03, atom= 3909\n",
            "Step=  567, Dmax= 8.9e-03 nm, Epot= -8.65225e+05 Fmax= 8.04796e+03, atom= 3909\n",
            "Step=  568, Dmax= 1.1e-02 nm, Epot= -8.65286e+05 Fmax= 6.11158e+03, atom= 3909\n",
            "Step=  569, Dmax= 1.3e-02 nm, Epot= -8.65288e+05 Fmax= 1.08390e+04, atom= 3909\n",
            "Step=  570, Dmax= 1.5e-02 nm, Epot= -8.65352e+05 Fmax= 9.57183e+03, atom= 3909\n",
            "Step=  571, Dmax= 1.9e-02 nm, Epot= -8.65314e+05 Fmax= 1.48070e+04, atom= 3909\rStep=  572, Dmax= 9.3e-03 nm, Epot= -8.65443e+05 Fmax= 2.68659e+03, atom= 3909\n",
            "Step=  573, Dmax= 1.1e-02 nm, Epot= -8.65464e+05 Fmax= 1.19623e+04, atom= 3909\n",
            "Step=  574, Dmax= 1.3e-02 nm, Epot= -8.65577e+05 Fmax= 5.64797e+03, atom= 3909\n",
            "Step=  575, Dmax= 1.6e-02 nm, Epot= -8.65510e+05 Fmax= 1.55703e+04, atom= 3909\rStep=  576, Dmax= 8.0e-03 nm, Epot= -8.65623e+05 Fmax= 4.90898e+03, atom= 3909\n",
            "Step=  577, Dmax= 9.6e-03 nm, Epot= -8.65656e+05 Fmax= 7.76311e+03, atom= 3909\n",
            "Step=  578, Dmax= 1.2e-02 nm, Epot= -8.65702e+05 Fmax= 7.46311e+03, atom= 3909\n",
            "Step=  579, Dmax= 1.4e-02 nm, Epot= -8.65712e+05 Fmax= 1.07583e+04, atom= 3909\n",
            "Step=  580, Dmax= 1.7e-02 nm, Epot= -8.65750e+05 Fmax= 1.11918e+04, atom= 3909\n",
            "Step=  581, Dmax= 2.0e-02 nm, Epot= -8.65727e+05 Fmax= 1.50155e+04, atom= 3909\rStep=  582, Dmax= 1.0e-02 nm, Epot= -8.65865e+05 Fmax= 1.99189e+03, atom= 3909\n",
            "Step=  583, Dmax= 1.2e-02 nm, Epot= -8.65909e+05 Fmax= 1.37113e+04, atom= 3909\n",
            "Step=  584, Dmax= 1.4e-02 nm, Epot= -8.66051e+05 Fmax= 5.21681e+03, atom= 3909\n",
            "Step=  585, Dmax= 1.7e-02 nm, Epot= -8.65946e+05 Fmax= 1.76324e+04, atom= 3909\rStep=  586, Dmax= 8.6e-03 nm, Epot= -8.66091e+05 Fmax= 6.14790e+03, atom= 3909\n",
            "Step=  587, Dmax= 1.0e-02 nm, Epot= -8.66127e+05 Fmax= 7.46673e+03, atom= 3909\n",
            "Step=  588, Dmax= 1.2e-02 nm, Epot= -8.66157e+05 Fmax= 8.90989e+03, atom= 3909\n",
            "Step=  589, Dmax= 1.5e-02 nm, Epot= -8.66179e+05 Fmax= 1.06775e+04, atom= 3909\n",
            "Step=  590, Dmax= 1.8e-02 nm, Epot= -8.66191e+05 Fmax= 1.29298e+04, atom= 3909\n",
            "Step=  591, Dmax= 2.1e-02 nm, Epot= -8.66188e+05 Fmax= 1.52430e+04, atom= 3909\rStep=  592, Dmax= 1.1e-02 nm, Epot= -8.66333e+05 Fmax= 1.24944e+03, atom= 3909\n",
            "Step=  593, Dmax= 1.3e-02 nm, Epot= -8.66458e+05 Fmax= 1.55084e+04, atom= 3909\n",
            "Step=  594, Dmax= 1.5e-02 nm, Epot= -8.66635e+05 Fmax= 4.82214e+03, atom= 3909\n",
            "Step=  595, Dmax= 1.9e-02 nm, Epot= -8.66486e+05 Fmax= 1.98469e+04, atom= 3909\rStep=  596, Dmax= 9.3e-03 nm, Epot= -8.66665e+05 Fmax= 7.44583e+03, atom= 3909\n",
            "Step=  597, Dmax= 1.1e-02 nm, Epot= -8.66709e+05 Fmax= 7.18004e+03, atom= 3909\n",
            "Step=  598, Dmax= 1.3e-02 nm, Epot= -8.66722e+05 Fmax= 1.04417e+04, atom= 3909\n",
            "Step=  599, Dmax= 1.6e-02 nm, Epot= -8.66761e+05 Fmax= 1.06133e+04, atom= 3909\n",
            "Step=  600, Dmax= 1.9e-02 nm, Epot= -8.66742e+05 Fmax= 1.47800e+04, atom= 3909\rStep=  601, Dmax= 9.6e-03 nm, Epot= -8.66863e+05 Fmax= 2.00915e+03, atom= 3909\n",
            "Step=  602, Dmax= 1.2e-02 nm, Epot= -8.66901e+05 Fmax= 1.32330e+04, atom= 3909\n",
            "Step=  603, Dmax= 1.4e-02 nm, Epot= -8.67036e+05 Fmax= 5.00445e+03, atom= 3909\n",
            "Step=  604, Dmax= 1.7e-02 nm, Epot= -8.66946e+05 Fmax= 1.67543e+04, atom= 3909\rStep=  605, Dmax= 8.3e-03 nm, Epot= -8.67074e+05 Fmax= 5.92941e+03, atom= 3909\n",
            "Step=  606, Dmax= 1.0e-02 nm, Epot= -8.67109e+05 Fmax= 7.20042e+03, atom= 3909\n",
            "Step=  607, Dmax= 1.2e-02 nm, Epot= -8.67140e+05 Fmax= 8.52646e+03, atom= 3909\n",
            "Step=  608, Dmax= 1.4e-02 nm, Epot= -8.67161e+05 Fmax= 1.04018e+04, atom= 3909\n",
            "Step=  609, Dmax= 1.7e-02 nm, Epot= -8.67179e+05 Fmax= 1.22207e+04, atom= 3909\n",
            "Step=  610, Dmax= 2.1e-02 nm, Epot= -8.67172e+05 Fmax= 1.50682e+04, atom= 3909\rStep=  611, Dmax= 1.0e-02 nm, Epot= -8.67304e+05 Fmax= 1.33843e+03, atom= 3909\n",
            "Step=  612, Dmax= 1.2e-02 nm, Epot= -8.67394e+05 Fmax= 1.51560e+04, atom= 3909\n",
            "Step=  613, Dmax= 1.5e-02 nm, Epot= -8.67569e+05 Fmax= 4.47170e+03, atom= 3909\n",
            "Step=  614, Dmax= 1.8e-02 nm, Epot= -8.67440e+05 Fmax= 1.88336e+04, atom= 3909\rStep=  615, Dmax= 8.9e-03 nm, Epot= -8.67600e+05 Fmax= 7.24447e+03, atom= 3909\n",
            "Step=  616, Dmax= 1.1e-02 nm, Epot= -8.67642e+05 Fmax= 6.87631e+03, atom= 3909\n",
            "Step=  617, Dmax= 1.3e-02 nm, Epot= -8.67658e+05 Fmax= 1.00142e+04, atom= 3909\n",
            "Step=  618, Dmax= 1.5e-02 nm, Epot= -8.67694e+05 Fmax= 1.03313e+04, atom= 3909\n",
            "Step=  619, Dmax= 1.8e-02 nm, Epot= -8.67679e+05 Fmax= 1.39686e+04, atom= 3909\rStep=  620, Dmax= 9.2e-03 nm, Epot= -8.67788e+05 Fmax= 1.88759e+03, atom= 3909\n",
            "Step=  621, Dmax= 1.1e-02 nm, Epot= -8.67838e+05 Fmax= 1.26766e+04, atom= 3909\n",
            "Step=  622, Dmax= 1.3e-02 nm, Epot= -8.67958e+05 Fmax= 4.87149e+03, atom= 3909\n",
            "Step=  623, Dmax= 1.6e-02 nm, Epot= -8.67881e+05 Fmax= 1.62958e+04, atom= 3909\rStep=  624, Dmax= 8.0e-03 nm, Epot= -8.67997e+05 Fmax= 5.66056e+03, atom= 3909\n",
            "Step=  625, Dmax= 9.6e-03 nm, Epot= -8.68030e+05 Fmax= 6.96326e+03, atom= 3909\n",
            "Step=  626, Dmax= 1.2e-02 nm, Epot= -8.68061e+05 Fmax= 8.21497e+03, atom= 3909\n",
            "Step=  627, Dmax= 1.4e-02 nm, Epot= -8.68085e+05 Fmax= 9.94664e+03, atom= 3909\n",
            "Step=  628, Dmax= 1.7e-02 nm, Epot= -8.68099e+05 Fmax= 1.19322e+04, atom= 3909\n",
            "Step=  629, Dmax= 2.0e-02 nm, Epot= -8.68101e+05 Fmax= 1.41913e+04, atom= 3909\n",
            "Step=  630, Dmax= 2.4e-02 nm, Epot= -8.68080e+05 Fmax= 1.73540e+04, atom= 3909\rStep=  631, Dmax= 1.2e-02 nm, Epot= -8.68261e+05 Fmax= 1.46769e+03, atom= 3909\n",
            "Step=  632, Dmax= 1.4e-02 nm, Epot= -8.68299e+05 Fmax= 1.76220e+04, atom= 3909\n",
            "Step=  633, Dmax= 1.7e-02 nm, Epot= -8.68524e+05 Fmax= 5.07033e+03, atom= 3909\n",
            "Step=  634, Dmax= 2.1e-02 nm, Epot= -8.68316e+05 Fmax= 2.18031e+04, atom= 3909\rStep=  635, Dmax= 1.0e-02 nm, Epot= -8.68545e+05 Fmax= 8.45083e+03, atom= 3909\n",
            "Step=  636, Dmax= 1.2e-02 nm, Epot= -8.68590e+05 Fmax= 7.86806e+03, atom= 3909\n",
            "Step=  637, Dmax= 1.5e-02 nm, Epot= -8.68590e+05 Fmax= 1.16364e+04, atom= 3909\rStep=  638, Dmax= 7.4e-03 nm, Epot= -8.68656e+05 Fmax= 1.92859e+03, atom= 3909\n",
            "Step=  639, Dmax= 8.9e-03 nm, Epot= -8.68711e+05 Fmax= 9.77935e+03, atom= 3909\n",
            "Step=  640, Dmax= 1.1e-02 nm, Epot= -8.68793e+05 Fmax= 4.30332e+03, atom= 3909\n",
            "Step=  641, Dmax= 1.3e-02 nm, Epot= -8.68771e+05 Fmax= 1.26425e+04, atom= 3909\rStep=  642, Dmax= 6.4e-03 nm, Epot= -8.68832e+05 Fmax= 4.13615e+03, atom= 3909\n",
            "Step=  643, Dmax= 7.7e-03 nm, Epot= -8.68864e+05 Fmax= 6.00010e+03, atom= 3909\n",
            "Step=  644, Dmax= 9.2e-03 nm, Epot= -8.68904e+05 Fmax= 6.16901e+03, atom= 3909\n",
            "Step=  645, Dmax= 1.1e-02 nm, Epot= -8.68926e+05 Fmax= 8.40949e+03, atom= 3909\n",
            "Step=  646, Dmax= 1.3e-02 nm, Epot= -8.68960e+05 Fmax= 9.13123e+03, atom= 3909\n",
            "Step=  647, Dmax= 1.6e-02 nm, Epot= -8.68963e+05 Fmax= 1.18401e+04, atom= 3909\n",
            "Step=  648, Dmax= 1.9e-02 nm, Epot= -8.68980e+05 Fmax= 1.34464e+04, atom= 3909\n",
            "Step=  649, Dmax= 2.3e-02 nm, Epot= -8.68952e+05 Fmax= 1.67148e+04, atom= 3909\rStep=  650, Dmax= 1.1e-02 nm, Epot= -8.69123e+05 Fmax= 1.74080e+03, atom= 3909\n",
            "Step=  651, Dmax= 1.4e-02 nm, Epot= -8.69147e+05 Fmax= 1.62764e+04, atom= 3909\n",
            "Step=  652, Dmax= 1.7e-02 nm, Epot= -8.69329e+05 Fmax= 5.50984e+03, atom= 3909\n",
            "Step=  653, Dmax= 2.0e-02 nm, Epot= -8.69150e+05 Fmax= 2.08689e+04, atom= 3909\rStep=  654, Dmax= 9.9e-03 nm, Epot= -8.69356e+05 Fmax= 7.60122e+03, atom= 3909\n",
            "Step=  655, Dmax= 1.2e-02 nm, Epot= -8.69388e+05 Fmax= 8.06525e+03, atom= 3909\n",
            "Step=  656, Dmax= 1.4e-02 nm, Epot= -8.69399e+05 Fmax= 1.08021e+04, atom= 3909\n",
            "Step=  657, Dmax= 1.7e-02 nm, Epot= -8.69424e+05 Fmax= 1.17435e+04, atom= 3909\n",
            "Step=  658, Dmax= 2.1e-02 nm, Epot= -8.69402e+05 Fmax= 1.54523e+04, atom= 3909\rStep=  659, Dmax= 1.0e-02 nm, Epot= -8.69537e+05 Fmax= 1.76936e+03, atom= 3909\n",
            "Step=  660, Dmax= 1.2e-02 nm, Epot= -8.69569e+05 Fmax= 1.45991e+04, atom= 3909\n",
            "Step=  661, Dmax= 1.5e-02 nm, Epot= -8.69723e+05 Fmax= 4.94043e+03, atom= 3909\n",
            "Step=  662, Dmax= 1.8e-02 nm, Epot= -8.69597e+05 Fmax= 1.83333e+04, atom= 3909\rStep=  663, Dmax= 8.9e-03 nm, Epot= -8.69752e+05 Fmax= 6.75926e+03, atom= 3909\n",
            "Step=  664, Dmax= 1.1e-02 nm, Epot= -8.69786e+05 Fmax= 7.30582e+03, atom= 3909\n",
            "Step=  665, Dmax= 1.3e-02 nm, Epot= -8.69802e+05 Fmax= 9.53234e+03, atom= 3909\n",
            "Step=  666, Dmax= 1.5e-02 nm, Epot= -8.69829e+05 Fmax= 1.07404e+04, atom= 3909\n",
            "Step=  667, Dmax= 1.8e-02 nm, Epot= -8.69823e+05 Fmax= 1.34798e+04, atom= 3909\rStep=  668, Dmax= 9.2e-03 nm, Epot= -8.69925e+05 Fmax= 1.43841e+03, atom= 3909\n",
            "Step=  669, Dmax= 1.1e-02 nm, Epot= -8.70003e+05 Fmax= 1.30254e+04, atom= 3909\n",
            "Step=  670, Dmax= 1.3e-02 nm, Epot= -8.70127e+05 Fmax= 4.45679e+03, atom= 3909\n",
            "Step=  671, Dmax= 1.6e-02 nm, Epot= -8.70044e+05 Fmax= 1.66617e+04, atom= 3909\rStep=  672, Dmax= 8.0e-03 nm, Epot= -8.70159e+05 Fmax= 6.05166e+03, atom= 3909\n",
            "Step=  673, Dmax= 9.6e-03 nm, Epot= -8.70195e+05 Fmax= 6.52582e+03, atom= 3909\n",
            "Step=  674, Dmax= 1.1e-02 nm, Epot= -8.70216e+05 Fmax= 8.60260e+03, atom= 3909\n",
            "Step=  675, Dmax= 1.4e-02 nm, Epot= -8.70242e+05 Fmax= 9.49724e+03, atom= 3909\n",
            "Step=  676, Dmax= 1.7e-02 nm, Epot= -8.70244e+05 Fmax= 1.23076e+04, atom= 3909\n",
            "Step=  677, Dmax= 2.0e-02 nm, Epot= -8.70256e+05 Fmax= 1.37283e+04, atom= 3909\n",
            "Step=  678, Dmax= 2.4e-02 nm, Epot= -8.70217e+05 Fmax= 1.77092e+04, atom= 3909\rStep=  679, Dmax= 1.2e-02 nm, Epot= -8.70401e+05 Fmax= 1.87702e+03, atom= 3909\n",
            "Step=  680, Dmax= 1.4e-02 nm, Epot= -8.70387e+05 Fmax= 1.70632e+04, atom= 3909\rStep=  681, Dmax= 7.1e-03 nm, Epot= -8.70456e+05 Fmax= 7.63066e+03, atom= 3909\n",
            "Step=  682, Dmax= 8.6e-03 nm, Epot= -8.70513e+05 Fmax= 3.64654e+03, atom= 3909\n",
            "Step=  683, Dmax= 1.0e-02 nm, Epot= -8.70524e+05 Fmax= 9.85819e+03, atom= 3909\n",
            "Step=  684, Dmax= 1.2e-02 nm, Epot= -8.70593e+05 Fmax= 6.38317e+03, atom= 3909\n",
            "Step=  685, Dmax= 1.5e-02 nm, Epot= -8.70561e+05 Fmax= 1.30494e+04, atom= 3909\rStep=  686, Dmax= 7.4e-03 nm, Epot= -8.70639e+05 Fmax= 3.37696e+03, atom= 3909\n",
            "Step=  687, Dmax= 8.9e-03 nm, Epot= -8.70664e+05 Fmax= 8.30463e+03, atom= 3909\n",
            "Step=  688, Dmax= 1.1e-02 nm, Epot= -8.70719e+05 Fmax= 5.72395e+03, atom= 3909\n",
            "Step=  689, Dmax= 1.3e-02 nm, Epot= -8.70712e+05 Fmax= 1.11442e+04, atom= 3909\rStep=  690, Dmax= 6.4e-03 nm, Epot= -8.70763e+05 Fmax= 2.67692e+03, atom= 3909\n",
            "Step=  691, Dmax= 7.7e-03 nm, Epot= -8.70797e+05 Fmax= 7.43606e+03, atom= 3909\n",
            "Step=  692, Dmax= 9.2e-03 nm, Epot= -8.70850e+05 Fmax= 4.68342e+03, atom= 3909\n",
            "Step=  693, Dmax= 1.1e-02 nm, Epot= -8.70856e+05 Fmax= 9.83823e+03, atom= 3909\n",
            "Step=  694, Dmax= 1.3e-02 nm, Epot= -8.70914e+05 Fmax= 7.62938e+03, atom= 3909\n",
            "Step=  695, Dmax= 1.6e-02 nm, Epot= -8.70883e+05 Fmax= 1.32561e+04, atom= 3909\rStep=  696, Dmax= 7.9e-03 nm, Epot= -8.70972e+05 Fmax= 2.86421e+03, atom= 3909\n",
            "Step=  697, Dmax= 9.5e-03 nm, Epot= -8.70994e+05 Fmax= 9.68803e+03, atom= 3909\n",
            "Step=  698, Dmax= 1.1e-02 nm, Epot= -8.71063e+05 Fmax= 5.39342e+03, atom= 3909\n",
            "Step=  699, Dmax= 1.4e-02 nm, Epot= -8.71036e+05 Fmax= 1.27524e+04, atom= 3909\rStep=  700, Dmax= 6.9e-03 nm, Epot= -8.71104e+05 Fmax= 3.64088e+03, atom= 3909\n",
            "Step=  701, Dmax= 8.2e-03 nm, Epot= -8.71130e+05 Fmax= 7.21886e+03, atom= 3909\n",
            "Step=  702, Dmax= 9.9e-03 nm, Epot= -8.71175e+05 Fmax= 5.81286e+03, atom= 3909\n",
            "Step=  703, Dmax= 1.2e-02 nm, Epot= -8.71182e+05 Fmax= 9.79608e+03, atom= 3909\n",
            "Step=  704, Dmax= 1.4e-02 nm, Epot= -8.71225e+05 Fmax= 8.98841e+03, atom= 3909\n",
            "Step=  705, Dmax= 1.7e-02 nm, Epot= -8.71200e+05 Fmax= 1.34618e+04, atom= 3909\rStep=  706, Dmax= 8.5e-03 nm, Epot= -8.71298e+05 Fmax= 2.29584e+03, atom= 3909\n",
            "Step=  707, Dmax= 1.0e-02 nm, Epot= -8.71321e+05 Fmax= 1.11799e+04, atom= 3909\n",
            "Step=  708, Dmax= 1.2e-02 nm, Epot= -8.71412e+05 Fmax= 5.03257e+03, atom= 3909\n",
            "Step=  709, Dmax= 1.5e-02 nm, Epot= -8.71360e+05 Fmax= 1.44928e+04, atom= 3909\rStep=  710, Dmax= 7.4e-03 nm, Epot= -8.71448e+05 Fmax= 4.68544e+03, atom= 3909\n",
            "Step=  711, Dmax= 8.9e-03 nm, Epot= -8.71475e+05 Fmax= 6.98138e+03, atom= 3909\n",
            "Step=  712, Dmax= 1.1e-02 nm, Epot= -8.71511e+05 Fmax= 7.03251e+03, atom= 3909\n",
            "Step=  713, Dmax= 1.3e-02 nm, Epot= -8.71522e+05 Fmax= 9.74611e+03, atom= 3909\n",
            "Step=  714, Dmax= 1.5e-02 nm, Epot= -8.71548e+05 Fmax= 1.04550e+04, atom= 3909\n",
            "Step=  715, Dmax= 1.8e-02 nm, Epot= -8.71536e+05 Fmax= 1.36784e+04, atom= 3909\rStep=  716, Dmax= 9.2e-03 nm, Epot= -8.71640e+05 Fmax= 1.68022e+03, atom= 3909\n",
            "Step=  717, Dmax= 1.1e-02 nm, Epot= -8.71683e+05 Fmax= 1.27623e+04, atom= 3909\n",
            "Step=  718, Dmax= 1.3e-02 nm, Epot= -8.71799e+05 Fmax= 4.66178e+03, atom= 3909\n",
            "Step=  719, Dmax= 1.6e-02 nm, Epot= -8.71717e+05 Fmax= 1.63661e+04, atom= 3909\rStep=  720, Dmax= 7.9e-03 nm, Epot= -8.71830e+05 Fmax= 5.80108e+03, atom= 3909\n",
            "Step=  721, Dmax= 9.5e-03 nm, Epot= -8.71860e+05 Fmax= 6.73352e+03, atom= 3909\n",
            "Step=  722, Dmax= 1.1e-02 nm, Epot= -8.71883e+05 Fmax= 8.33949e+03, atom= 3909\n",
            "Step=  723, Dmax= 1.4e-02 nm, Epot= -8.71902e+05 Fmax= 9.69615e+03, atom= 3909\n",
            "Step=  724, Dmax= 1.6e-02 nm, Epot= -8.71908e+05 Fmax= 1.20298e+04, atom= 3909\n",
            "Step=  725, Dmax= 2.0e-02 nm, Epot= -8.71910e+05 Fmax= 1.39130e+04, atom= 3909\n",
            "Step=  726, Dmax= 2.4e-02 nm, Epot= -8.71880e+05 Fmax= 1.74115e+04, atom= 3909\rStep=  727, Dmax= 1.2e-02 nm, Epot= -8.72059e+05 Fmax= 1.63641e+03, atom= 3909\n",
            "Step=  728, Dmax= 1.4e-02 nm, Epot= -8.72052e+05 Fmax= 1.72772e+04, atom= 3909\rStep=  729, Dmax= 7.1e-03 nm, Epot= -8.72115e+05 Fmax= 7.85782e+03, atom= 3909\n",
            "Step=  730, Dmax= 8.5e-03 nm, Epot= -8.72174e+05 Fmax= 3.38464e+03, atom= 3909\n",
            "Step=  731, Dmax= 1.0e-02 nm, Epot= -8.72180e+05 Fmax= 1.00632e+04, atom= 3909\n",
            "Step=  732, Dmax= 1.2e-02 nm, Epot= -8.72250e+05 Fmax= 6.11994e+03, atom= 3909\n",
            "Step=  733, Dmax= 1.5e-02 nm, Epot= -8.72211e+05 Fmax= 1.32433e+04, atom= 3909\rStep=  734, Dmax= 7.4e-03 nm, Epot= -8.72294e+05 Fmax= 3.60535e+03, atom= 3909\n",
            "Step=  735, Dmax= 8.8e-03 nm, Epot= -8.72314e+05 Fmax= 8.03814e+03, atom= 3909\n",
            "Step=  736, Dmax= 1.1e-02 nm, Epot= -8.72362e+05 Fmax= 5.94045e+03, atom= 3909\n",
            "Step=  737, Dmax= 1.3e-02 nm, Epot= -8.72357e+05 Fmax= 1.08678e+04, atom= 3909\rStep=  738, Dmax= 6.4e-03 nm, Epot= -8.72406e+05 Fmax= 2.43059e+03, atom= 3909\n",
            "Step=  739, Dmax= 7.6e-03 nm, Epot= -8.72440e+05 Fmax= 7.65017e+03, atom= 3909\n",
            "Step=  740, Dmax= 9.2e-03 nm, Epot= -8.72492e+05 Fmax= 4.42675e+03, atom= 3909\n",
            "Step=  741, Dmax= 1.1e-02 nm, Epot= -8.72493e+05 Fmax= 1.00430e+04, atom= 3909\n",
            "Step=  742, Dmax= 1.3e-02 nm, Epot= -8.72554e+05 Fmax= 7.36252e+03, atom= 3909\n",
            "Step=  743, Dmax= 1.6e-02 nm, Epot= -8.72514e+05 Fmax= 1.34481e+04, atom= 3909\rStep=  744, Dmax= 7.9e-03 nm, Epot= -8.72604e+05 Fmax= 3.09340e+03, atom= 3909\n",
            "Step=  745, Dmax= 9.5e-03 nm, Epot= -8.72621e+05 Fmax= 9.41937e+03, atom= 3909\n",
            "Step=  746, Dmax= 1.1e-02 nm, Epot= -8.72685e+05 Fmax= 5.60868e+03, atom= 3909\n",
            "Step=  747, Dmax= 1.4e-02 nm, Epot= -8.72657e+05 Fmax= 1.24713e+04, atom= 3909\rStep=  748, Dmax= 6.8e-03 nm, Epot= -8.72724e+05 Fmax= 3.39311e+03, atom= 3909\n",
            "Step=  749, Dmax= 8.2e-03 nm, Epot= -8.72747e+05 Fmax= 7.43090e+03, atom= 3909\n",
            "Step=  750, Dmax= 9.9e-03 nm, Epot= -8.72793e+05 Fmax= 5.55430e+03, atom= 3909\n",
            "Step=  751, Dmax= 1.2e-02 nm, Epot= -8.72792e+05 Fmax= 9.99938e+03, atom= 3909\rStep=  752, Dmax= 5.9e-03 nm, Epot= -8.72832e+05 Fmax= 2.25063e+03, atom= 3909\n",
            "Step=  753, Dmax= 7.1e-03 nm, Epot= -8.72870e+05 Fmax= 7.08157e+03, atom= 3909\n",
            "Step=  754, Dmax= 8.5e-03 nm, Epot= -8.72917e+05 Fmax= 4.13951e+03, atom= 3909\n",
            "Step=  755, Dmax= 1.0e-02 nm, Epot= -8.72926e+05 Fmax= 9.34294e+03, atom= 3909\n",
            "Step=  756, Dmax= 1.2e-02 nm, Epot= -8.72980e+05 Fmax= 6.80330e+03, atom= 3909\n",
            "Step=  757, Dmax= 1.5e-02 nm, Epot= -8.72952e+05 Fmax= 1.26335e+04, atom= 3909\rStep=  758, Dmax= 7.4e-03 nm, Epot= -8.73029e+05 Fmax= 2.87111e+03, atom= 3909\n",
            "Step=  759, Dmax= 8.8e-03 nm, Epot= -8.73050e+05 Fmax= 8.76696e+03, atom= 3909\n",
            "Step=  760, Dmax= 1.1e-02 nm, Epot= -8.73107e+05 Fmax= 5.19116e+03, atom= 3909\n",
            "Step=  761, Dmax= 1.3e-02 nm, Epot= -8.73089e+05 Fmax= 1.15170e+04, atom= 3909\rStep=  762, Dmax= 6.4e-03 nm, Epot= -8.73144e+05 Fmax= 3.19571e+03, atom= 3909\n",
            "Step=  763, Dmax= 7.6e-03 nm, Epot= -8.73172e+05 Fmax= 6.84718e+03, atom= 3909\n",
            "Step=  764, Dmax= 9.2e-03 nm, Epot= -8.73214e+05 Fmax= 5.21077e+03, atom= 3909\n",
            "Step=  765, Dmax= 1.1e-02 nm, Epot= -8.73219e+05 Fmax= 9.28136e+03, atom= 3909\n",
            "Step=  766, Dmax= 1.3e-02 nm, Epot= -8.73264e+05 Fmax= 8.06650e+03, atom= 3909\n",
            "Step=  767, Dmax= 1.6e-02 nm, Epot= -8.73239e+05 Fmax= 1.28256e+04, atom= 3909\rStep=  768, Dmax= 7.9e-03 nm, Epot= -8.73324e+05 Fmax= 2.32864e+03, atom= 3909\n",
            "Step=  769, Dmax= 9.5e-03 nm, Epot= -8.73344e+05 Fmax= 1.01942e+04, atom= 3909\n",
            "Step=  770, Dmax= 1.1e-02 nm, Epot= -8.73422e+05 Fmax= 4.80994e+03, atom= 3909\n",
            "Step=  771, Dmax= 1.4e-02 nm, Epot= -8.73382e+05 Fmax= 1.31359e+04, atom= 3909\rStep=  772, Dmax= 6.8e-03 nm, Epot= -8.73456e+05 Fmax= 4.20065e+03, atom= 3909\n",
            "Step=  773, Dmax= 8.2e-03 nm, Epot= -8.73479e+05 Fmax= 6.60074e+03, atom= 3909\n",
            "Step=  774, Dmax= 9.8e-03 nm, Epot= -8.73512e+05 Fmax= 6.35544e+03, atom= 3909\n",
            "Step=  775, Dmax= 1.2e-02 nm, Epot= -8.73524e+05 Fmax= 9.22122e+03, atom= 3909\n",
            "Step=  776, Dmax= 1.4e-02 nm, Epot= -8.73553e+05 Fmax= 9.41689e+03, atom= 3909\n",
            "Step=  777, Dmax= 1.7e-02 nm, Epot= -8.73536e+05 Fmax= 1.30385e+04, atom= 3909\rStep=  778, Dmax= 8.5e-03 nm, Epot= -8.73628e+05 Fmax= 1.75229e+03, atom= 3909\n",
            "Step=  779, Dmax= 1.0e-02 nm, Epot= -8.73661e+05 Fmax= 1.17411e+04, atom= 3909\n",
            "Step=  780, Dmax= 1.2e-02 nm, Epot= -8.73760e+05 Fmax= 4.39158e+03, atom= 3909\n",
            "Step=  781, Dmax= 1.5e-02 nm, Epot= -8.73696e+05 Fmax= 1.48727e+04, atom= 3909\rStep=  782, Dmax= 7.3e-03 nm, Epot= -8.73789e+05 Fmax= 5.28403e+03, atom= 3909\n",
            "Step=  783, Dmax= 8.8e-03 nm, Epot= -8.73817e+05 Fmax= 6.33135e+03, atom= 3909\n",
            "Step=  784, Dmax= 1.1e-02 nm, Epot= -8.73838e+05 Fmax= 7.58766e+03, atom= 3909\n",
            "Step=  785, Dmax= 1.3e-02 nm, Epot= -8.73856e+05 Fmax= 9.15527e+03, atom= 3909\n",
            "Step=  786, Dmax= 1.5e-02 nm, Epot= -8.73866e+05 Fmax= 1.08682e+04, atom= 3909\n",
            "Step=  787, Dmax= 1.8e-02 nm, Epot= -8.73865e+05 Fmax= 1.32675e+04, atom= 3909\rStep=  788, Dmax= 9.1e-03 nm, Epot= -8.73961e+05 Fmax= 1.13202e+03, atom= 3909\n",
            "Step=  789, Dmax= 1.1e-02 nm, Epot= -8.74040e+05 Fmax= 1.34624e+04, atom= 3909\n",
            "Step=  790, Dmax= 1.3e-02 nm, Epot= -8.74173e+05 Fmax= 3.89844e+03, atom= 3909\n",
            "Step=  791, Dmax= 1.6e-02 nm, Epot= -8.74076e+05 Fmax= 1.67373e+04, atom= 3909\rStep=  792, Dmax= 7.9e-03 nm, Epot= -8.74196e+05 Fmax= 6.47002e+03, atom= 3909\n",
            "Step=  793, Dmax= 9.5e-03 nm, Epot= -8.74228e+05 Fmax= 6.02200e+03, atom= 3909\n",
            "Step=  794, Dmax= 1.1e-02 nm, Epot= -8.74237e+05 Fmax= 8.92746e+03, atom= 3909\n",
            "Step=  795, Dmax= 1.4e-02 nm, Epot= -8.74266e+05 Fmax= 9.06995e+03, atom= 3909\n",
            "Step=  796, Dmax= 1.6e-02 nm, Epot= -8.74255e+05 Fmax= 1.24396e+04, atom= 3909\rStep=  797, Dmax= 8.2e-03 nm, Epot= -8.74338e+05 Fmax= 1.73924e+03, atom= 3909\n",
            "Step=  798, Dmax= 9.8e-03 nm, Epot= -8.74374e+05 Fmax= 1.11545e+04, atom= 3909\n",
            "Step=  799, Dmax= 1.2e-02 nm, Epot= -8.74464e+05 Fmax= 4.37436e+03, atom= 3909\n",
            "Step=  800, Dmax= 1.4e-02 nm, Epot= -8.74408e+05 Fmax= 1.43391e+04, atom= 3909\rStep=  801, Dmax= 7.1e-03 nm, Epot= -8.74491e+05 Fmax= 4.94163e+03, atom= 3909\n",
            "Step=  802, Dmax= 8.5e-03 nm, Epot= -8.74519e+05 Fmax= 6.23156e+03, atom= 3909\n",
            "Step=  803, Dmax= 1.0e-02 nm, Epot= -8.74542e+05 Fmax= 7.19520e+03, atom= 3909\n",
            "Step=  804, Dmax= 1.2e-02 nm, Epot= -8.74558e+05 Fmax= 8.87953e+03, atom= 3909\n",
            "Step=  805, Dmax= 1.5e-02 nm, Epot= -8.74572e+05 Fmax= 1.04730e+04, atom= 3909\n",
            "Step=  806, Dmax= 1.8e-02 nm, Epot= -8.74571e+05 Fmax= 1.26504e+04, atom= 3909\rStep=  807, Dmax= 8.8e-03 nm, Epot= -8.74659e+05 Fmax= 1.15194e+03, atom= 3909\n",
            "Step=  808, Dmax= 1.1e-02 nm, Epot= -8.74739e+05 Fmax= 1.26347e+04, atom= 3909\n",
            "Step=  809, Dmax= 1.3e-02 nm, Epot= -8.74852e+05 Fmax= 4.04893e+03, atom= 3909\n",
            "Step=  810, Dmax= 1.5e-02 nm, Epot= -8.74768e+05 Fmax= 1.61272e+04, atom= 3909\rStep=  811, Dmax= 7.6e-03 nm, Epot= -8.74876e+05 Fmax= 5.99291e+03, atom= 3909\n",
            "Step=  812, Dmax= 9.1e-03 nm, Epot= -8.74905e+05 Fmax= 6.01126e+03, atom= 3909\n",
            "Step=  813, Dmax= 1.1e-02 nm, Epot= -8.74917e+05 Fmax= 8.43219e+03, atom= 3909\n",
            "Step=  814, Dmax= 1.3e-02 nm, Epot= -8.74945e+05 Fmax= 8.84640e+03, atom= 3909\n",
            "Step=  815, Dmax= 1.6e-02 nm, Epot= -8.74938e+05 Fmax= 1.19676e+04, atom= 3909\rStep=  816, Dmax= 7.9e-03 nm, Epot= -8.75013e+05 Fmax= 1.51031e+03, atom= 3909\n",
            "Step=  817, Dmax= 9.5e-03 nm, Epot= -8.75054e+05 Fmax= 1.10011e+04, atom= 3909\n",
            "Step=  818, Dmax= 1.1e-02 nm, Epot= -8.75146e+05 Fmax= 3.95458e+03, atom= 3909\n",
            "Step=  819, Dmax= 1.4e-02 nm, Epot= -8.75095e+05 Fmax= 1.39074e+04, atom= 3909\rStep=  820, Dmax= 6.8e-03 nm, Epot= -8.75174e+05 Fmax= 5.01419e+03, atom= 3909\n",
            "Step=  821, Dmax= 8.2e-03 nm, Epot= -8.75200e+05 Fmax= 5.75388e+03, atom= 3909\n",
            "Step=  822, Dmax= 9.8e-03 nm, Epot= -8.75220e+05 Fmax= 7.15059e+03, atom= 3909\n",
            "Step=  823, Dmax= 1.2e-02 nm, Epot= -8.75241e+05 Fmax= 8.36883e+03, atom= 3909\n",
            "Step=  824, Dmax= 1.4e-02 nm, Epot= -8.75251e+05 Fmax= 1.01966e+04, atom= 3909\n",
            "Step=  825, Dmax= 1.7e-02 nm, Epot= -8.75254e+05 Fmax= 1.21736e+04, atom= 3909\n",
            "Step=  826, Dmax= 2.0e-02 nm, Epot= -8.75243e+05 Fmax= 1.45304e+04, atom= 3909\rStep=  827, Dmax= 1.0e-02 nm, Epot= -8.75368e+05 Fmax= 1.26309e+03, atom= 3909\n",
            "Step=  828, Dmax= 1.2e-02 nm, Epot= -8.75416e+05 Fmax= 1.46473e+04, atom= 3909\n",
            "Step=  829, Dmax= 1.5e-02 nm, Epot= -8.75557e+05 Fmax= 4.62622e+03, atom= 3909\n",
            "Step=  830, Dmax= 1.8e-02 nm, Epot= -8.75420e+05 Fmax= 1.87263e+04, atom= 3909\rStep=  831, Dmax= 8.8e-03 nm, Epot= -8.75577e+05 Fmax= 6.98888e+03, atom= 3909\n",
            "Step=  832, Dmax= 1.1e-02 nm, Epot= -8.75608e+05 Fmax= 6.87563e+03, atom= 3909\n",
            "Step=  833, Dmax= 1.3e-02 nm, Epot= -8.75611e+05 Fmax= 9.82012e+03, atom= 3909\n",
            "Step=  834, Dmax= 1.5e-02 nm, Epot= -8.75635e+05 Fmax= 1.01373e+04, atom= 3909\n",
            "Step=  835, Dmax= 1.8e-02 nm, Epot= -8.75610e+05 Fmax= 1.39226e+04, atom= 3909\rStep=  836, Dmax= 9.1e-03 nm, Epot= -8.75719e+05 Fmax= 1.82532e+03, atom= 3909\n",
            "Step=  837, Dmax= 1.1e-02 nm, Epot= -8.75724e+05 Fmax= 1.26254e+04, atom= 3909\n",
            "Step=  838, Dmax= 1.3e-02 nm, Epot= -8.75836e+05 Fmax= 4.65590e+03, atom= 3909\n",
            "Step=  839, Dmax= 1.6e-02 nm, Epot= -8.75745e+05 Fmax= 1.59681e+04, atom= 3909\rStep=  840, Dmax= 7.9e-03 nm, Epot= -8.75862e+05 Fmax= 5.70585e+03, atom= 3909\n",
            "Step=  841, Dmax= 9.4e-03 nm, Epot= -8.75884e+05 Fmax= 6.73663e+03, atom= 3909\n",
            "Step=  842, Dmax= 1.1e-02 nm, Epot= -8.75903e+05 Fmax= 8.16982e+03, atom= 3909\n",
            "Step=  843, Dmax= 1.4e-02 nm, Epot= -8.75915e+05 Fmax= 9.76591e+03, atom= 3909\n",
            "Step=  844, Dmax= 1.6e-02 nm, Epot= -8.75918e+05 Fmax= 1.16768e+04, atom= 3909\n",
            "Step=  845, Dmax= 2.0e-02 nm, Epot= -8.75908e+05 Fmax= 1.41798e+04, atom= 3909\rStep=  846, Dmax= 9.8e-03 nm, Epot= -8.76022e+05 Fmax= 1.17369e+03, atom= 3909\n",
            "Step=  847, Dmax= 1.2e-02 nm, Epot= -8.76069e+05 Fmax= 1.44733e+04, atom= 3909\n",
            "Step=  848, Dmax= 1.4e-02 nm, Epot= -8.76215e+05 Fmax= 4.12657e+03, atom= 3909\n",
            "Step=  849, Dmax= 1.7e-02 nm, Epot= -8.76087e+05 Fmax= 1.79558e+04, atom= 3909\rStep=  850, Dmax= 8.5e-03 nm, Epot= -8.76232e+05 Fmax= 6.97298e+03, atom= 3909\n",
            "Step=  851, Dmax= 1.0e-02 nm, Epot= -8.76264e+05 Fmax= 6.40860e+03, atom= 3909\n",
            "Step=  852, Dmax= 1.2e-02 nm, Epot= -8.76268e+05 Fmax= 9.60044e+03, atom= 3909\n",
            "Step=  853, Dmax= 1.5e-02 nm, Epot= -8.76294e+05 Fmax= 9.67874e+03, atom= 3909\n",
            "Step=  854, Dmax= 1.8e-02 nm, Epot= -8.76271e+05 Fmax= 1.33546e+04, atom= 3909\rStep=  855, Dmax= 8.8e-03 nm, Epot= -8.76370e+05 Fmax= 1.90078e+03, atom= 3909\n",
            "Step=  856, Dmax= 1.1e-02 nm, Epot= -8.76382e+05 Fmax= 1.19104e+04, atom= 3909\n",
            "Step=  857, Dmax= 1.3e-02 nm, Epot= -8.76479e+05 Fmax= 4.72326e+03, atom= 3909\n",
            "Step=  858, Dmax= 1.5e-02 nm, Epot= -8.76399e+05 Fmax= 1.53263e+04, atom= 3909\rStep=  859, Dmax= 7.6e-03 nm, Epot= -8.76505e+05 Fmax= 5.25454e+03, atom= 3909\n",
            "Step=  860, Dmax= 9.1e-03 nm, Epot= -8.76524e+05 Fmax= 6.71232e+03, atom= 3909\n",
            "Step=  861, Dmax= 1.1e-02 nm, Epot= -8.76543e+05 Fmax= 7.66968e+03, atom= 3909\n",
            "Step=  862, Dmax= 1.3e-02 nm, Epot= -8.76553e+05 Fmax= 9.54546e+03, atom= 3909\n",
            "Step=  863, Dmax= 1.6e-02 nm, Epot= -8.76561e+05 Fmax= 1.11853e+04, atom= 3909\n",
            "Step=  864, Dmax= 1.9e-02 nm, Epot= -8.76553e+05 Fmax= 1.35768e+04, atom= 3909\rStep=  865, Dmax= 9.4e-03 nm, Epot= -8.76658e+05 Fmax= 1.26856e+03, atom= 3909\n",
            "Step=  866, Dmax= 1.1e-02 nm, Epot= -8.76702e+05 Fmax= 1.34966e+04, atom= 3909\n",
            "Step=  867, Dmax= 1.4e-02 nm, Epot= -8.76826e+05 Fmax= 4.37476e+03, atom= 3909\n",
            "Step=  868, Dmax= 1.6e-02 nm, Epot= -8.76713e+05 Fmax= 1.72430e+04, atom= 3909\rStep=  869, Dmax= 8.1e-03 nm, Epot= -8.76846e+05 Fmax= 6.38106e+03, atom= 3909\n",
            "Step=  870, Dmax= 9.8e-03 nm, Epot= -8.76873e+05 Fmax= 6.47570e+03, atom= 3909\n",
            "Step=  871, Dmax= 1.2e-02 nm, Epot= -8.76879e+05 Fmax= 8.99605e+03, atom= 3909\n",
            "Step=  872, Dmax= 1.4e-02 nm, Epot= -8.76900e+05 Fmax= 9.50896e+03, atom= 3909\n",
            "Step=  873, Dmax= 1.7e-02 nm, Epot= -8.76883e+05 Fmax= 1.27880e+04, atom= 3909\rStep=  874, Dmax= 8.4e-03 nm, Epot= -8.76973e+05 Fmax= 1.58126e+03, atom= 3909\n",
            "Step=  875, Dmax= 1.0e-02 nm, Epot= -8.76997e+05 Fmax= 1.18264e+04, atom= 3909\n",
            "Step=  876, Dmax= 1.2e-02 nm, Epot= -8.77097e+05 Fmax= 4.19374e+03, atom= 3909\n",
            "Step=  877, Dmax= 1.5e-02 nm, Epot= -8.77024e+05 Fmax= 1.49301e+04, atom= 3909\rStep=  878, Dmax= 7.3e-03 nm, Epot= -8.77121e+05 Fmax= 5.41144e+03, atom= 3909\n",
            "Step=  879, Dmax= 8.8e-03 nm, Epot= -8.77144e+05 Fmax= 6.12271e+03, atom= 3909\n",
            "Step=  880, Dmax= 1.1e-02 nm, Epot= -8.77160e+05 Fmax= 7.69800e+03, atom= 3909\n",
            "Step=  881, Dmax= 1.3e-02 nm, Epot= -8.77175e+05 Fmax= 8.92625e+03, atom= 3909\n",
            "Step=  882, Dmax= 1.5e-02 nm, Epot= -8.77178e+05 Fmax= 1.09561e+04, atom= 3909\n",
            "Step=  883, Dmax= 1.8e-02 nm, Epot= -8.77176e+05 Fmax= 1.30079e+04, atom= 3909\rStep=  884, Dmax= 9.1e-03 nm, Epot= -8.77273e+05 Fmax= 9.58732e+02, atom= 3909\n",
            "\n",
            "writing lowest energy coordinates.\n",
            "\n",
            "Steepest Descents converged to Fmax < 1000 in 885 steps\n",
            "Potential Energy  = -8.7727256e+05\n",
            "Maximum force     =  9.5873169e+02 on atom 3909\n",
            "Norm of force     =  1.8379023e+01\n",
            "\n",
            "GROMACS reminds you: \"There are two major products that come out of Berkeley: LSD and UNIX. We don't believe this to be a coincidence.\" (Jeremy Anderson)\n",
            "\n"
          ]
        }
      ],
      "source": [
        "%%bash\n",
        "source /content/gromacs/bin/GMXRC\n",
        "\n",
        "cat input/emin-charmm.mdp\n",
        "gmx grompp -f input/emin-charmm.mdp -c antibody.gro -p antibody.top -o em.tpr \n",
        "gmx mdrun -v -s em.tpr -deffnm antibody_em\n",
        "\n",
        "#gmx grompp -f ../../../mdp_files/md_charmm36m.mdp -c POS/confout.gro -p $name.top -o MD/topol.tpr\n",
        "#cp topol.tpr in topol100.tpr\n",
        "#gmx convert-tpr -s topol100.tpr -extend 400000 -o topol.tpr"
      ]
    },
    {
      "cell_type": "markdown",
      "metadata": {
        "id": "HTJJ2L997T3X"
      },
      "source": [
        "# Relaxing solvent and ions positions"
      ]
    },
    {
      "cell_type": "markdown",
      "metadata": {
        "id": "Uy3w9DoK7T3X"
      },
      "source": [
        "EM ensured that we have a reasonable starting structure, in terms of geometry and solvent orientation. To begin real dynamics, we must equilibrate the solvent and ions around the protein. If we were to attempt unrestrained dynamics at this point, the system may collapse. The reason is that the solvent is mostly optimized within itself, and not necessarily with the solute, and ions are randomly placed by replacing water molecules.\n",
        "\n",
        "Among other files, gmx pdb2gmx generated a file, called posre.itp  The purpose of posre.itp is to apply a position restraining force on the heavy atoms of the protein (anything that is not a hydrogen). Movement is permitted, but only after overcoming a substantial energy penalty. The utility of position restraints is that they allow us to relax our solvent and ions around our protein, without the added variable of structural changes in the protein. The origin of the position restraints (the coordinates at which the restraint potential is zero) is provided via a coordinate file passed to the -r option of grompp. Depending from the protein and ion types, this process may also be in the order nanoseconds."
      ]
    },
    {
      "cell_type": "code",
      "execution_count": 33,
      "metadata": {
        "id": "wPJbFOCb7T3Y",
        "colab": {
          "base_uri": "https://localhost:8080/"
        },
        "outputId": "dc569585-3f73-4138-a429-20f08e598727"
      },
      "outputs": [
        {
          "output_type": "stream",
          "name": "stdout",
          "text": [
            "title       = CHARMM steepest descent enrgy minimisation\n",
            "\n",
            "; Parameters describing what to do, when to stop and what to save\n",
            "integrator  = steep  ; Algorithm (steep = steepest descent minimization)\n",
            "emtol       = 1000.0 ; Stop minimization when the maximum force < 1000.0 kJ/mol/nm\n",
            "emstep      = 0.01   ; Minimization step size\n",
            "nstenergy   = 500    ; save energies every 1.0 ps, so we can observe if we are successful\n",
            "nsteps      = -1     ; run as long as we need\n",
            "; Settings that make sure we run with parameters in harmony with the selected force-field\n",
            "constraints             = h-bonds   ; bonds involving H are constrained\n",
            "rcoulomb                = 1.2       ; short-range electrostatic cutoff (in nm)\n",
            "rvdw                    = 1.2       ; short-range van der Waals cutoff (in nm)\n",
            "vdw-modifier            = Force-switch ;  specific CHARMM\n",
            "rvdw_switch             = 1.0       ;\n",
            "DispCorr                = EnerPres  ; account for cut-off vdW scheme\n",
            "coulombtype             = PME       ; Particle Mesh Ewald for long-range electrostatics\n",
            "fourierspacing          = 0.15     ; grid spacing for FFT\n",
            "\n",
            "\n",
            "#########\n"
          ]
        },
        {
          "output_type": "stream",
          "name": "stderr",
          "text": [
            "                      :-) GROMACS - gmx grompp, 2020.6 (-:\n",
            "\n",
            "                            GROMACS is written by:\n",
            "     Emile Apol      Rossen Apostolov      Paul Bauer     Herman J.C. Berendsen\n",
            "    Par Bjelkmar      Christian Blau   Viacheslav Bolnykh     Kevin Boyd    \n",
            " Aldert van Buuren   Rudi van Drunen     Anton Feenstra       Alan Gray     \n",
            "  Gerrit Groenhof     Anca Hamuraru    Vincent Hindriksen  M. Eric Irrgang  \n",
            "  Aleksei Iupinov   Christoph Junghans     Joe Jordan     Dimitrios Karkoulis\n",
            "    Peter Kasson        Jiri Kraus      Carsten Kutzner      Per Larsson    \n",
            "  Justin A. Lemkul    Viveca Lindahl    Magnus Lundborg     Erik Marklund   \n",
            "    Pascal Merz     Pieter Meulenhoff    Teemu Murtola       Szilard Pall   \n",
            "    Sander Pronk      Roland Schulz      Michael Shirts    Alexey Shvetsov  \n",
            "   Alfons Sijbers     Peter Tieleman      Jon Vincent      Teemu Virolainen \n",
            " Christian Wennberg    Maarten Wolf      Artem Zhmurov   \n",
            "                           and the project leaders:\n",
            "        Mark Abraham, Berk Hess, Erik Lindahl, and David van der Spoel\n",
            "\n",
            "Copyright (c) 1991-2000, University of Groningen, The Netherlands.\n",
            "Copyright (c) 2001-2019, The GROMACS development team at\n",
            "Uppsala University, Stockholm University and\n",
            "the Royal Institute of Technology, Sweden.\n",
            "check out http://www.gromacs.org for more information.\n",
            "\n",
            "GROMACS is free software; you can redistribute it and/or modify it\n",
            "under the terms of the GNU Lesser General Public License\n",
            "as published by the Free Software Foundation; either version 2.1\n",
            "of the License, or (at your option) any later version.\n",
            "\n",
            "GROMACS:      gmx grompp, version 2020.6\n",
            "Executable:   /content/gromacs/bin/gmx\n",
            "Data prefix:  /content/gromacs\n",
            "Working dir:  /content/workflow_template/data\n",
            "Command line:\n",
            "  gmx grompp -f input/md_eq_posre_charmm36m.mdp -c antibody_em.gro -p antibody.top -o posre.tpr -r antibody_em.gro\n",
            "\n",
            "Ignoring obsolete mdp entry 'ns_type'\n",
            "\n",
            "ERROR 1 [file input/md_eq_posre_charmm36m.mdp, line 40]:\n",
            "  Invalid enum 'C-rescale' for variable pcoupl, using 'No'\n",
            "  Next time use one of: 'No' 'Berendsen' 'Parrinello-Rahman' 'Isotropic'\n",
            "  'MTTK'\n",
            "\n",
            "\n",
            "-------------------------------------------------------\n",
            "Program:     gmx grompp, version 2020.6\n",
            "Source file: src/gromacs/fileio/readinp.cpp (line 245)\n",
            "\n",
            "Fatal error:\n",
            "There was 1 error in input file(s)\n",
            "\n",
            "For more information and tips for troubleshooting, please check the GROMACS\n",
            "website at http://www.gromacs.org/Documentation/Errors\n",
            "-------------------------------------------------------\n",
            "                      :-) GROMACS - gmx mdrun, 2020.6 (-:\n",
            "\n",
            "                            GROMACS is written by:\n",
            "     Emile Apol      Rossen Apostolov      Paul Bauer     Herman J.C. Berendsen\n",
            "    Par Bjelkmar      Christian Blau   Viacheslav Bolnykh     Kevin Boyd    \n",
            " Aldert van Buuren   Rudi van Drunen     Anton Feenstra       Alan Gray     \n",
            "  Gerrit Groenhof     Anca Hamuraru    Vincent Hindriksen  M. Eric Irrgang  \n",
            "  Aleksei Iupinov   Christoph Junghans     Joe Jordan     Dimitrios Karkoulis\n",
            "    Peter Kasson        Jiri Kraus      Carsten Kutzner      Per Larsson    \n",
            "  Justin A. Lemkul    Viveca Lindahl    Magnus Lundborg     Erik Marklund   \n",
            "    Pascal Merz     Pieter Meulenhoff    Teemu Murtola       Szilard Pall   \n",
            "    Sander Pronk      Roland Schulz      Michael Shirts    Alexey Shvetsov  \n",
            "   Alfons Sijbers     Peter Tieleman      Jon Vincent      Teemu Virolainen \n",
            " Christian Wennberg    Maarten Wolf      Artem Zhmurov   \n",
            "                           and the project leaders:\n",
            "        Mark Abraham, Berk Hess, Erik Lindahl, and David van der Spoel\n",
            "\n",
            "Copyright (c) 1991-2000, University of Groningen, The Netherlands.\n",
            "Copyright (c) 2001-2019, The GROMACS development team at\n",
            "Uppsala University, Stockholm University and\n",
            "the Royal Institute of Technology, Sweden.\n",
            "check out http://www.gromacs.org for more information.\n",
            "\n",
            "GROMACS is free software; you can redistribute it and/or modify it\n",
            "under the terms of the GNU Lesser General Public License\n",
            "as published by the Free Software Foundation; either version 2.1\n",
            "of the License, or (at your option) any later version.\n",
            "\n",
            "GROMACS:      gmx mdrun, version 2020.6\n",
            "Executable:   /content/gromacs/bin/gmx\n",
            "Data prefix:  /content/gromacs\n",
            "Working dir:  /content/workflow_template/data\n",
            "Command line:\n",
            "  gmx mdrun -v -s posre.tpr -deffnm antibody_posre\n",
            "\n",
            "\n",
            "-------------------------------------------------------\n",
            "Program:     gmx mdrun, version 2020.6\n",
            "Source file: src/gromacs/commandline/cmdlineparser.cpp (line 275)\n",
            "Function:    void gmx::CommandLineParser::parse(int*, char**)\n",
            "\n",
            "Error in user input:\n",
            "Invalid command-line options\n",
            "  In command-line option -s\n",
            "    File 'posre.tpr' does not exist or is not accessible.\n",
            "    The file could not be opened.\n",
            "      Reason: No such file or directory\n",
            "      (call to fopen() returned error code 2)\n",
            "\n",
            "For more information and tips for troubleshooting, please check the GROMACS\n",
            "website at http://www.gromacs.org/Documentation/Errors\n",
            "-------------------------------------------------------\n"
          ]
        }
      ],
      "source": [
        "%%bash\n",
        "source /content/gromacs/bin/GMXRC\n",
        "\n",
        "cat input/emin-charmm.mdp\n",
        "echo \"#########\"\n",
        "gmx grompp -f input/md_eq_posre_charmm36m.mdp -c antibody_em.gro -p antibody.top -o posre.tpr -r antibody_em.gro\n",
        "gmx mdrun -v -s posre.tpr -deffnm antibody_posre"
      ]
    },
    {
      "cell_type": "markdown",
      "metadata": {
        "id": "3Z03VuMn7T3Y"
      },
      "source": [
        "Upon completion of the the equilibration phase, the system is now equilibrated at the desired temperature and pressure. We are now ready to release the position restraints and run production MD for data collection. We will make use of the checkpoint file (which in this case now contains preserve pressure coupling information) to grompp. We will run a 100ns MD simulation. We use velocity-rescaling temperature coupling as thermostat and stochastic cell rescaling as barostat. A full explanation of the available thermostats and barostats in GROMACS can be found in the manual (see [here](http://manual.gromacs.org/documentation/current/reference-manual/algorithms/molecular-dynamics.html#temperature-coupling) for thermostat and [here](http://manual.gromacs.org/documentation/current/reference-manual/algorithms/molecular-dynamics.html#pressure-coupling) for barostat)"
      ]
    },
    {
      "cell_type": "code",
      "execution_count": null,
      "metadata": {
        "id": "mycs4N5Y7T3a"
      },
      "outputs": [],
      "source": [
        "%%bash\n",
        "source /content/gromacs/bin/GMXRC\n",
        "\n",
        "cat input/md_charmm36m.mdp\n",
        "gmx grompp -f input/md_charmm36m.mdp -c antibody_posre.gro -t antibody_posre.cpt -p antibody.top -o antibody_md.tpr\n",
        "gmx mdrun -ntmpi 1 -v -deffnm antibody_md"
      ]
    },
    {
      "cell_type": "markdown",
      "metadata": {
        "id": "75x9eOmb7T3a"
      },
      "source": [
        "Approach to select the structure for HADDOCK \n",
        "* fit backbone\n",
        "* selection of variable loop (Ambrosetti et al.2020)\n",
        "* cluster analysisi\n",
        "* 20 high populated clusters will be given as input to HADDOCK "
      ]
    },
    {
      "cell_type": "code",
      "execution_count": null,
      "metadata": {
        "id": "blKTl8n07T3b"
      },
      "outputs": [],
      "source": [
        "%%bash\n",
        "source /content/gromacs/bin/GMXRC\n",
        "\n",
        "echo 1 | gmx trjconv -f antibody_md.xtc -s em.tpr -pbc nojump -o traj_nojump.xtc"
      ]
    },
    {
      "cell_type": "code",
      "execution_count": null,
      "metadata": {
        "id": "FayRaT-87T3b"
      },
      "outputs": [],
      "source": [
        "%%bash\n",
        "source /content/gromacs/bin/GMXRC\n",
        "\n",
        "echo 4 1 | gmx trjconv -f traj_nojump.xtc -s em.tpr -fit rot+trans -o antibody_fit.xtc"
      ]
    },
    {
      "cell_type": "code",
      "source": [
        "!pip install mdtraj"
      ],
      "metadata": {
        "colab": {
          "base_uri": "https://localhost:8080/"
        },
        "id": "mVXUrcnyZ7IP",
        "outputId": "9780ba4f-c51d-4ed5-b670-dff63c30d8d8"
      },
      "execution_count": 34,
      "outputs": [
        {
          "output_type": "stream",
          "name": "stdout",
          "text": [
            "Collecting mdtraj\n",
            "  Downloading mdtraj-1.9.7.tar.gz (2.1 MB)\n",
            "\u001b[K     |████████████████████████████████| 2.1 MB 8.2 MB/s \n",
            "\u001b[?25h  Installing build dependencies ... \u001b[?25l\u001b[?25hdone\n",
            "  Getting requirements to build wheel ... \u001b[?25l\u001b[?25hdone\n",
            "    Preparing wheel metadata ... \u001b[?25l\u001b[?25hdone\n",
            "Requirement already satisfied: astunparse in /usr/local/lib/python3.7/dist-packages (from mdtraj) (1.6.3)\n",
            "Requirement already satisfied: numpy>=1.6 in /usr/local/lib/python3.7/dist-packages (from mdtraj) (1.19.5)\n",
            "Requirement already satisfied: scipy in /usr/local/lib/python3.7/dist-packages (from mdtraj) (1.4.1)\n",
            "Requirement already satisfied: pyparsing in /usr/local/lib/python3.7/dist-packages (from mdtraj) (3.0.6)\n",
            "Requirement already satisfied: wheel<1.0,>=0.23.0 in /usr/local/lib/python3.7/dist-packages (from astunparse->mdtraj) (0.37.0)\n",
            "Requirement already satisfied: six<2.0,>=1.6.1 in /usr/local/lib/python3.7/dist-packages (from astunparse->mdtraj) (1.15.0)\n",
            "Building wheels for collected packages: mdtraj\n",
            "  Building wheel for mdtraj (PEP 517) ... \u001b[?25l\u001b[?25hdone\n",
            "  Created wheel for mdtraj: filename=mdtraj-1.9.7-cp37-cp37m-linux_x86_64.whl size=5531633 sha256=c51b4abfd5a4d8943cdd9e3c8b467b60c536b327b40dfa5bb2649825ef7cbb32\n",
            "  Stored in directory: /root/.cache/pip/wheels/6f/84/9d/6854e5264a4423209de26a6e4b34d13750289c72ba0439bbfd\n",
            "Successfully built mdtraj\n",
            "Installing collected packages: mdtraj\n",
            "Successfully installed mdtraj-1.9.7\n"
          ]
        }
      ]
    },
    {
      "cell_type": "code",
      "execution_count": null,
      "metadata": {
        "id": "LhTyzKBf7T3b"
      },
      "outputs": [],
      "source": [
        "import nglview as ng \n",
        "import mdtraj as md\n",
        "traj = md.load(\"antibody_fit.xtc\",top=\"antibody_box.gro\")\n",
        "view = ng.show_mdtraj(traj)\n",
        "view"
      ]
    },
    {
      "cell_type": "code",
      "execution_count": null,
      "metadata": {
        "id": "S8tTwZuJ7T3c"
      },
      "outputs": [],
      "source": [
        "%%bash\n",
        "source /content/gromacs/bin/GMXRC\n",
        "\n",
        "echo 20 1 |gmx cluster -h -f antibody_fit.xtc -cl cluster-gromos.pdb -s em.tpr -n input/loop_index.ndx -b 1000 -method gromos -cutoff 0.13 -nofit -g cluster-gromos.log"
      ]
    },
    {
      "cell_type": "code",
      "execution_count": null,
      "metadata": {
        "id": "qk6c6s777T3c"
      },
      "outputs": [],
      "source": [
        "%%bash\n",
        "source /content/gromacs/bin/GMXRC\n",
        "\n",
        "echo 20 1 |gmx cluster -f antibody_fir.xtc -cl cluster-jp.pdb -s em.tpr -n input/loop_index.ndx -b 1000 -method jarvis-patrick -cutoff 0.13 -nofit -g cluster-jp.log"
      ]
    },
    {
      "cell_type": "markdown",
      "metadata": {
        "id": "DEKBCWMJ7T3d"
      },
      "source": [
        "# <a class=\"anchor\" id=\"CDRs\"> CDRs identification </a >"
      ]
    },
    {
      "cell_type": "markdown",
      "metadata": {
        "id": "Jli3C6H47T3d"
      },
      "source": [
        "Antibodies are created by two identical pairs of  **light (L)** and **heavy (H)** chains. As shown above the variable domains of both chains are involved in the antigen recognition [1]. Each chain contains three <font color=\"#8F0306\">**CDRs** (in red) </font>in their variable domain, which show the highest level of variability and directly interact with the antigen [2, 3]. \n",
        "Each CDR contains one <font color=\"#8F0306\">**hyper variable loop (HV)** </font>(six loops in total) which are crucial for the recognition of the cognate antigen.\n",
        "\n",
        "<img src=\"https://github.com/rvhonorato/workflow_template/blob/main/workflow_template/images/CDRs.png?raw=1\" width=\"600\">\n",
        "\n",
        "In this notbeook we will be using the protocol of [Ambrosetti](https://academic.oup.com/bioinformatics/article/36/20/5107/5873593) to identify CDRs residues and convert them to the GROMACS format for further trajectory clustering.\n",
        "\n",
        "1. Ambrosetti, F. et al. proABC-2: [PRediction of AntiBody contacts v2 and its application to information-driven docking.](https://academic.oup.com/bioinformatics/article/36/20/5107/5873593) Bioinformatics vol. 36 5107–5108 (2020). \n",
        "\n",
        "2. Novotný J, Bruccoleri R, Newell J, et al (1983) Molecular anatomy of the antibody\n",
        "binding site. J Biol Chem 258:14433–14437\n",
        "\n",
        "3. Sela-Culang I, Kunik V, Ofran Y (2013) [The Structural Basis of Antibody-Antigen\n",
        "Recognition.](https://doi.org/10.3389/fimmu.2013.00302) Front Immunol 4:302. \n",
        "\n",
        "4. MacCallum RM, Martin ACR, Thornton JM (1996) Antibody-antigen interactions:\n",
        "Contact analysis and binding site topography. J Mol Biol 262:732–745.\n",
        "https://doi.org/10.1006/jmbi.1996.0548"
      ]
    },
    {
      "cell_type": "code",
      "execution_count": null,
      "metadata": {
        "id": "9NSuOdgn7T3d"
      },
      "outputs": [],
      "source": [
        "\n",
        "%cd data\n",
        "# Renumber antibody with the Chothia scheme\n",
        "!python2.7 ../scripts/ImmunoPDB.py -i input/3RVT.pdb -o 3RVT_ch.pdb --scheme c --rename --splitscfv\n",
        "\n",
        "# Format the antib-ody in order to fit the HADDOCK format requirements\n",
        "# and extract the HV loop residues and save them into a file\n",
        "!python ../scripts/ab_haddock_format.py 3RVT_ch.pdb 3RVT_HADDOCK.pdb A > active.txt\n",
        "\n",
        "# Add END and TER statements to the .pdb file\n",
        "!pdb_tidy 3RVT_HADDOCK.pdb > oo; mv oo 3RVT_HADDOCK.pdb\n"
      ]
    },
    {
      "cell_type": "code",
      "execution_count": null,
      "metadata": {
        "id": "v3lNvorJ7T3d"
      },
      "outputs": [],
      "source": [
        "!pwd\n",
        "%cd ../"
      ]
    },
    {
      "cell_type": "markdown",
      "metadata": {
        "id": "KIKYusON7T3e"
      },
      "source": [
        "## Visualise CDR residues"
      ]
    },
    {
      "cell_type": "code",
      "execution_count": null,
      "metadata": {
        "id": "Ji9em1rx7T3e"
      },
      "outputs": [],
      "source": [
        "f = open(\"data/active.txt\")\n",
        "lines=f.read()\n",
        "representations=[\n",
        "    {\"type\": \"cartoon\", \"params\": {\n",
        "        \"sele\": \"protein and not ANI\", \"color\": \"chainname\", \n",
        "    }},\n",
        "    {\"type\": \"hyperball\", 'params': {\"sele\":lines, \"color\":\"orange\"}}\n",
        "]        "
      ]
    },
    {
      "cell_type": "code",
      "execution_count": null,
      "metadata": {
        "id": "uUkRDl1B7T3e"
      },
      "outputs": [],
      "source": [
        "\n",
        "\n",
        "print(lines)\n",
        "view = ng.show_file('data/3RVT_HADDOCK.pdb', defaultRepresentation= False)\n",
        "view.representations = representations\n",
        "view"
      ]
    },
    {
      "cell_type": "markdown",
      "metadata": {
        "id": "rACWuSGP7T3f"
      },
      "source": [
        "## Turn CDR residues into index file to cluster antibody trajectory"
      ]
    },
    {
      "cell_type": "code",
      "execution_count": null,
      "metadata": {
        "id": "hGdECS137T3f"
      },
      "outputs": [],
      "source": [
        "%cd data \n",
        "\n",
        "!echo -e  $(sed -e  '1 s/./ri /' -e 's/,/ /g'  active.txt)'\\n' name 15 CDRs '\\n'q  | gmx make_ndx -f topol.tpr -o index_jupy.ndx"
      ]
    },
    {
      "cell_type": "code",
      "execution_count": null,
      "metadata": {
        "id": "crWEiJtz7T3g"
      },
      "outputs": [],
      "source": [
        "!tail -n 45 index_jupy.ndx"
      ]
    },
    {
      "cell_type": "code",
      "execution_count": null,
      "metadata": {
        "id": "O9t4VDBW7T3i"
      },
      "outputs": [],
      "source": [
        ""
      ]
    },
    {
      "cell_type": "markdown",
      "metadata": {
        "id": "-5qTUiK97T3i"
      },
      "source": [
        "# <a class=\"anchor\" id=\"Cluster\">  Cluster antibody trajectory </a>"
      ]
    },
    {
      "cell_type": "markdown",
      "metadata": {
        "id": "lXIvhtA27T3i"
      },
      "source": [
        "## Create an ensemble for docking"
      ]
    },
    {
      "cell_type": "code",
      "execution_count": null,
      "metadata": {
        "id": "V4ILbmH07T3i"
      },
      "outputs": [],
      "source": [
        "%cd data\n",
        "!pdb_mkensemble input/3RVT.pdb input1.pdb input1.pdb > 3RVT_ensemble.pdb"
      ]
    },
    {
      "cell_type": "markdown",
      "metadata": {
        "id": "oxR0KPMr7T3i"
      },
      "source": [
        "# <a class=\"anchor\" id=\"HADDOCK\">  Prepare HADDOCK `json` file </a>"
      ]
    },
    {
      "cell_type": "markdown",
      "metadata": {
        "id": "zUFK9D3r7T3i"
      },
      "source": [
        "We prepared a sample HADDOCK `json` file that one can submit to the [Submit file interface](https://bianca.science.uu.nl/haddock2.4/submit_file) of HADDOCK2.4. First one needs to register  for all HADDOCK services [https://bianca.science.uu.nl/auth/register/](https://bianca.science.uu.nl/auth/register/). Then we will modify the `json` file with a few available scripts to update it with our newly created pdb. In this case we use ambiguous restraints created from the reference crystal structure (PDB ID [3RVW](https://www.rcsb.org/structure/3RVW)). They were defined based on the true interface (all residues within 3.9Å from the other protein) and are also located in `data/input/ambig.tbl`.  If one wishes to replace them too, there is a script `data/script/replace_tbl.py` which updates the restraint as well. Here one needs to specify which type of restraints they want to replace (`-type (ambig,unambig,hbond,dihedral)`). In this scenario we are using increased sampling such that each antibody conformer is used in 100 model for it0 - rigid body docking. In this case we have an ensemble of 12 conformers, thus 1200 structures geenrated in it0 (`structures_0`). Further, we increase sampling from 200 to 400 per it1 (`structures_1`) and it1 water (`waterrefine`) and in the analysis part (`anastruc_1`) too. These changes are already included in the sample `json` file, thus do not need to be modified manually.   \n",
        "\n",
        "\n",
        "### Modified sampling parameters:\n",
        "\n",
        "`\"anastruc_1\": 400,\n",
        "\"structures_0\": 1200,\n",
        "\"structures_1\": 400,\n",
        "\"waterrefine\": 400,`"
      ]
    },
    {
      "cell_type": "code",
      "execution_count": null,
      "metadata": {
        "id": "iHQ7OCoL7T3i"
      },
      "outputs": [],
      "source": [
        "%cd data\n",
        "python  ../scripts/rswieplace_pdb.py  -param input/job_params.json -pdb input/3RVT_ensemble.pdb -i 1 > new.json"
      ]
    },
    {
      "cell_type": "markdown",
      "metadata": {
        "id": "ZvXyPDzM7T3j"
      },
      "source": [
        "Visit [https://bianca.science.uu.nl/haddock2.4/submit_file](https://bianca.science.uu.nl/haddock2.4/submit_file) and upload the `json` file. "
      ]
    },
    {
      "cell_type": "code",
      "execution_count": null,
      "metadata": {
        "id": "MoiR2UXF7T3j"
      },
      "outputs": [],
      "source": [
        "%pwd"
      ]
    },
    {
      "cell_type": "markdown",
      "metadata": {
        "id": "ynycza-27T3j"
      },
      "source": [
        "# Writing the notebook"
      ]
    },
    {
      "cell_type": "markdown",
      "metadata": {
        "id": "P4JNhtCX7T3j"
      },
      "source": [
        "- Style the notebook with style sheet provided in src\n",
        "    - Rationale: Easy way to set context for notebooks, create a \"GROMACS\"-tutorial feel\n",
        "    - Con: requires users to execute the first cell\n",
        "    - Pro: can serve as an introduction on how to execute cells"
      ]
    },
    {
      "cell_type": "markdown",
      "metadata": {
        "id": "Zf4vSulv7T3k"
      },
      "source": [
        "- Write headers (# title, ## header2, etc.) in seperate cells \n",
        "    - Rationale: this enables folding of sections "
      ]
    },
    {
      "cell_type": "markdown",
      "metadata": {
        "id": "65sMxT-67T3k"
      },
      "source": [
        "- Include images as\n",
        "\n",
        "![ImageNotFoundAlternativeTxt](images/Bioexcel_symbol.svg \"Text you will see when hovering over the logo with the mouse\")\n",
        "\n",
        "![ImageNotFoundAlternativeTxt](images/non-existant.svg \"Logo Title Text 1\")\n"
      ]
    },
    {
      "cell_type": "markdown",
      "metadata": {
        "id": "nYa9n-sf7T3k"
      },
      "source": [
        "- Toggle solutions with the hide_toggle() function, hide the next cell with for_next=True"
      ]
    },
    {
      "cell_type": "code",
      "execution_count": null,
      "metadata": {
        "code_folding": [],
        "id": "5bp_cyMy7T3l"
      },
      "outputs": [],
      "source": [
        "#hide this cell\n",
        "hide_toggle()"
      ]
    },
    {
      "cell_type": "code",
      "execution_count": null,
      "metadata": {
        "id": "E35YkOLO7T3l"
      },
      "outputs": [],
      "source": [
        "hide_toggle(for_next=True)"
      ]
    },
    {
      "cell_type": "code",
      "execution_count": null,
      "metadata": {
        "id": "EwAtWX687T3l"
      },
      "outputs": [],
      "source": [
        "#some solution that should not yet be visible"
      ]
    },
    {
      "cell_type": "markdown",
      "metadata": {
        "id": "RaAl3cJ77T3l"
      },
      "source": [
        "more text"
      ]
    },
    {
      "cell_type": "markdown",
      "metadata": {
        "id": "y9De1fn17T3l"
      },
      "source": [
        "# Common pitfalls"
      ]
    },
    {
      "cell_type": "markdown",
      "metadata": {
        "id": "CEzOMQi97T3m"
      },
      "source": [
        "- Cells are stuck in evaluation (marked with `[*]`)\n",
        "    - Reason: Cells are evaluated serially. Jupyter cannot run bash commands in the background. Especially when opening another programm, like vmd, the notebook requires that the window is closed before going further\n",
        "    - Solution : Make workshop participants aware of this \n",
        "    - Solution : Show users the kernel -> interrupt solution\n",
        "    - Solution : start evaluations in subprocess\n",
        "        - Con : spawning subprocesses from within notebooks depends on the python verion. \n",
        "        - Con : This requires some python boilerplate code that makes it harder to have a one-to-one correspondence of the command line command and what users will read in the notebook\n",
        "- Users don't notice that they can execute / run input cells with the run botton, but rather copy-paste or type into the command line\n",
        "- Users feel like they are taken through the notebooks via \"auto-pilot\"\n",
        "    - Solution: Include the `hide_toggles()` function\n",
        "    - Solution: Use quizzes\n",
        "    - Con: This requires executing the first line of code in the notebook to work well\n",
        "- The notebook is unaware of the changes to shell environment and variables changes when executed with '! command!\n",
        "    - Reason: Bash commands are executed in subshells \n",
        "- '!cd directory' does not work as expected\n",
        "    - Reason: Bash commands are executed in subshells \n",
        "    - Solution: use `%cd ` or `cd ` to permanently change the current directory\n",
        "    - Con: this is notebook 'magic' that might confuse useres\n",
        "- Loading environment modules does not work\n",
        "    - Reason: Bash commands are executed in subshells\n",
        "    - Solution: Use python module commands\n",
        "       - Con : Depends on the python version and importing external modules\n",
        "- Markdown cell line breaks look differnetly when markdown cells are executed\n",
        "- Showing contents of long files requires lots of scrolling\n",
        "  - Solution: use `%less filename`\n",
        "- Longer bash script is hard to read in a cell\n",
        "  - Solution: use `%bash` on top of the cell, then continue with usual bash"
      ]
    }
  ],
  "metadata": {
    "anaconda-cloud": {},
    "kernelspec": {
      "display_name": "Python 3 (ipykernel)",
      "language": "python",
      "name": "python3"
    },
    "language_info": {
      "codemirror_mode": {
        "name": "ipython",
        "version": 3
      },
      "file_extension": ".py",
      "mimetype": "text/x-python",
      "name": "python",
      "nbconvert_exporter": "python",
      "pygments_lexer": "ipython3",
      "version": "3.9.7"
    },
    "colab": {
      "name": "workshop-template-ab.ipynb",
      "provenance": [],
      "collapsed_sections": [
        "rACWuSGP7T3f",
        "lXIvhtA27T3i",
        "zUFK9D3r7T3i"
      ],
      "include_colab_link": true
    },
    "widgets": {
      "application/vnd.jupyter.widget-state+json": {
        "9e7780b0632547d5bda3a5dcf0b97516": {
          "model_module": "nglview-js-widgets",
          "model_name": "ColormakerRegistryModel",
          "model_module_version": "3.0.1",
          "state": {
            "_view_name": "ColormakerRegistryView",
            "_dom_classes": [],
            "_model_name": "ColormakerRegistryModel",
            "_msg_q": [],
            "_view_module": "nglview-js-widgets",
            "_model_module_version": "3.0.1",
            "_msg_ar": [],
            "_ready": true,
            "_view_module_version": "3.0.1",
            "_view_count": null,
            "_model_module": "nglview-js-widgets",
            "layout": "IPY_MODEL_ed489fccf61a4a4dabf34655f12ddbb5"
          }
        },
        "ed489fccf61a4a4dabf34655f12ddbb5": {
          "model_module": "@jupyter-widgets/base",
          "model_name": "LayoutModel",
          "model_module_version": "1.2.0",
          "state": {
            "_view_name": "LayoutView",
            "grid_template_rows": null,
            "right": null,
            "justify_content": null,
            "_view_module": "@jupyter-widgets/base",
            "overflow": null,
            "_model_module_version": "1.2.0",
            "_view_count": null,
            "flex_flow": null,
            "width": null,
            "min_width": null,
            "border": null,
            "align_items": null,
            "bottom": null,
            "_model_module": "@jupyter-widgets/base",
            "top": null,
            "grid_column": null,
            "overflow_y": null,
            "overflow_x": null,
            "grid_auto_flow": null,
            "grid_area": null,
            "grid_template_columns": null,
            "flex": null,
            "_model_name": "LayoutModel",
            "justify_items": null,
            "grid_row": null,
            "max_height": null,
            "align_content": null,
            "visibility": null,
            "align_self": null,
            "height": null,
            "min_height": null,
            "padding": null,
            "grid_auto_rows": null,
            "grid_gap": null,
            "max_width": null,
            "order": null,
            "_view_module_version": "1.2.0",
            "grid_template_areas": null,
            "object_position": null,
            "object_fit": null,
            "grid_auto_columns": null,
            "margin": null,
            "display": null,
            "left": null
          }
        },
        "ef25ce3ee9394ef9aca2cb91496ea3e1": {
          "model_module": "@jupyter-widgets/base",
          "model_name": "LayoutModel",
          "model_module_version": "1.2.0",
          "state": {
            "_view_name": "LayoutView",
            "grid_template_rows": null,
            "right": null,
            "justify_content": null,
            "_view_module": "@jupyter-widgets/base",
            "overflow": null,
            "_model_module_version": "1.2.0",
            "_view_count": null,
            "flex_flow": null,
            "width": null,
            "min_width": null,
            "border": null,
            "align_items": null,
            "bottom": null,
            "_model_module": "@jupyter-widgets/base",
            "top": null,
            "grid_column": null,
            "overflow_y": null,
            "overflow_x": null,
            "grid_auto_flow": null,
            "grid_area": null,
            "grid_template_columns": null,
            "flex": null,
            "_model_name": "LayoutModel",
            "justify_items": null,
            "grid_row": null,
            "max_height": null,
            "align_content": null,
            "visibility": null,
            "align_self": null,
            "height": null,
            "min_height": null,
            "padding": null,
            "grid_auto_rows": null,
            "grid_gap": null,
            "max_width": null,
            "order": null,
            "_view_module_version": "1.2.0",
            "grid_template_areas": null,
            "object_position": null,
            "object_fit": null,
            "grid_auto_columns": null,
            "margin": null,
            "display": null,
            "left": null
          }
        },
        "83a3d4658b4d4434b8e42cdb09f8d568": {
          "model_module": "@jupyter-widgets/controls",
          "model_name": "DescriptionStyleModel",
          "model_module_version": "1.5.0",
          "state": {
            "_view_name": "StyleView",
            "_model_name": "DescriptionStyleModel",
            "description_width": "",
            "_view_module": "@jupyter-widgets/base",
            "_model_module_version": "1.5.0",
            "_view_count": null,
            "_view_module_version": "1.2.0",
            "_model_module": "@jupyter-widgets/controls"
          }
        },
        "322c0d9339434249a78857ee69419bca": {
          "model_module": "@jupyter-widgets/base",
          "model_name": "LayoutModel",
          "model_module_version": "1.2.0",
          "state": {
            "_view_name": "LayoutView",
            "grid_template_rows": null,
            "right": null,
            "justify_content": null,
            "_view_module": "@jupyter-widgets/base",
            "overflow": null,
            "_model_module_version": "1.2.0",
            "_view_count": null,
            "flex_flow": null,
            "width": null,
            "min_width": null,
            "border": null,
            "align_items": null,
            "bottom": null,
            "_model_module": "@jupyter-widgets/base",
            "top": null,
            "grid_column": null,
            "overflow_y": null,
            "overflow_x": null,
            "grid_auto_flow": null,
            "grid_area": null,
            "grid_template_columns": null,
            "flex": null,
            "_model_name": "LayoutModel",
            "justify_items": null,
            "grid_row": null,
            "max_height": null,
            "align_content": null,
            "visibility": null,
            "align_self": null,
            "height": null,
            "min_height": null,
            "padding": null,
            "grid_auto_rows": null,
            "grid_gap": null,
            "max_width": null,
            "order": null,
            "_view_module_version": "1.2.0",
            "grid_template_areas": null,
            "object_position": null,
            "object_fit": null,
            "grid_auto_columns": null,
            "margin": null,
            "display": null,
            "left": null
          }
        },
        "47481356d2664dc0a10766d30b0414fc": {
          "model_module": "@jupyter-widgets/controls",
          "model_name": "SliderStyleModel",
          "model_module_version": "1.5.0",
          "state": {
            "_view_name": "StyleView",
            "handle_color": null,
            "_model_name": "SliderStyleModel",
            "description_width": "",
            "_view_module": "@jupyter-widgets/base",
            "_model_module_version": "1.5.0",
            "_view_count": null,
            "_view_module_version": "1.2.0",
            "_model_module": "@jupyter-widgets/controls"
          }
        },
        "8bb17131b2164310a886e1009737dbf5": {
          "model_module": "@jupyter-widgets/base",
          "model_name": "LayoutModel",
          "model_module_version": "1.2.0",
          "state": {
            "_view_name": "LayoutView",
            "grid_template_rows": null,
            "right": null,
            "justify_content": null,
            "_view_module": "@jupyter-widgets/base",
            "overflow": null,
            "_model_module_version": "1.2.0",
            "_view_count": null,
            "flex_flow": null,
            "width": null,
            "min_width": null,
            "border": null,
            "align_items": null,
            "bottom": null,
            "_model_module": "@jupyter-widgets/base",
            "top": null,
            "grid_column": null,
            "overflow_y": null,
            "overflow_x": null,
            "grid_auto_flow": null,
            "grid_area": null,
            "grid_template_columns": null,
            "flex": null,
            "_model_name": "LayoutModel",
            "justify_items": null,
            "grid_row": null,
            "max_height": null,
            "align_content": null,
            "visibility": null,
            "align_self": null,
            "height": null,
            "min_height": null,
            "padding": null,
            "grid_auto_rows": null,
            "grid_gap": null,
            "max_width": null,
            "order": null,
            "_view_module_version": "1.2.0",
            "grid_template_areas": null,
            "object_position": null,
            "object_fit": null,
            "grid_auto_columns": null,
            "margin": null,
            "display": null,
            "left": null
          }
        },
        "8923f1adb4e543f69c2d34347cd528a6": {
          "model_module": "@jupyter-widgets/base",
          "model_name": "LayoutModel",
          "model_module_version": "1.2.0",
          "state": {
            "_view_name": "LayoutView",
            "grid_template_rows": null,
            "right": null,
            "justify_content": null,
            "_view_module": "@jupyter-widgets/base",
            "overflow": null,
            "_model_module_version": "1.2.0",
            "_view_count": null,
            "flex_flow": null,
            "width": null,
            "min_width": null,
            "border": null,
            "align_items": null,
            "bottom": null,
            "_model_module": "@jupyter-widgets/base",
            "top": null,
            "grid_column": null,
            "overflow_y": null,
            "overflow_x": null,
            "grid_auto_flow": null,
            "grid_area": null,
            "grid_template_columns": null,
            "flex": null,
            "_model_name": "LayoutModel",
            "justify_items": null,
            "grid_row": null,
            "max_height": null,
            "align_content": null,
            "visibility": null,
            "align_self": null,
            "height": null,
            "min_height": null,
            "padding": null,
            "grid_auto_rows": null,
            "grid_gap": null,
            "max_width": null,
            "order": null,
            "_view_module_version": "1.2.0",
            "grid_template_areas": null,
            "object_position": null,
            "object_fit": null,
            "grid_auto_columns": null,
            "margin": null,
            "display": null,
            "left": null
          }
        },
        "b12ef8a8f80546458034bc0fcfa711d1": {
          "model_module": "@jupyter-widgets/controls",
          "model_name": "PlayModel",
          "model_module_version": "1.5.0",
          "state": {
            "_view_name": "PlayView",
            "style": "IPY_MODEL_83a3d4658b4d4434b8e42cdb09f8d568",
            "interval": 100,
            "_dom_classes": [],
            "description": "",
            "_model_name": "PlayModel",
            "max": 0,
            "_view_module": "@jupyter-widgets/controls",
            "_model_module_version": "1.5.0",
            "value": 0,
            "_view_count": null,
            "disabled": false,
            "_repeat": false,
            "_view_module_version": "1.5.0",
            "show_repeat": true,
            "min": 0,
            "_playing": false,
            "step": 1,
            "description_tooltip": null,
            "_model_module": "@jupyter-widgets/controls",
            "layout": "IPY_MODEL_322c0d9339434249a78857ee69419bca"
          }
        },
        "dc0a1d755a454dcfa5df20e4b3a5951c": {
          "model_module": "@jupyter-widgets/controls",
          "model_name": "IntSliderModel",
          "model_module_version": "1.5.0",
          "state": {
            "_view_name": "IntSliderView",
            "style": "IPY_MODEL_47481356d2664dc0a10766d30b0414fc",
            "_dom_classes": [],
            "description": "",
            "step": 1,
            "_model_name": "IntSliderModel",
            "orientation": "horizontal",
            "max": 0,
            "_view_module": "@jupyter-widgets/controls",
            "_model_module_version": "1.5.0",
            "value": 0,
            "_view_count": null,
            "disabled": false,
            "_view_module_version": "1.5.0",
            "min": 0,
            "continuous_update": true,
            "readout_format": "d",
            "description_tooltip": null,
            "readout": true,
            "_model_module": "@jupyter-widgets/controls",
            "layout": "IPY_MODEL_8bb17131b2164310a886e1009737dbf5"
          }
        },
        "f8e1b0c356ae4efebba42b05540b9d9c": {
          "model_module": "nglview-js-widgets",
          "model_name": "NGLModel",
          "model_module_version": "3.0.1",
          "state": {
            "_view_name": "NGLView",
            "_scene_rotation": {},
            "_ngl_view_id": [
              "94CB7D17-14B4-4E44-9D4A-33E1A303C478"
            ],
            "_synced_model_ids": [],
            "_camera_orientation": [
              87.87813867966446,
              0,
              0,
              0,
              0,
              87.87813867966446,
              0,
              0,
              0,
              0,
              87.87813867966446,
              0,
              0,
              0,
              0,
              1
            ],
            "frame": 0,
            "_view_module": "nglview-js-widgets",
            "_ibtn_fullscreen": "IPY_MODEL_4f9cb564e9ec4e988af0472c8b5d71b2",
            "_camera_str": "orthographic",
            "_ngl_serialize": false,
            "picked": {},
            "_model_module": "nglview-js-widgets",
            "_igui": null,
            "_iplayer": "IPY_MODEL_be67cf72554145c68ff0dbce54693c52",
            "layout": "IPY_MODEL_ef25ce3ee9394ef9aca2cb91496ea3e1",
            "_view_width": "",
            "_ngl_coordinate_resource": {},
            "_view_module_version": "3.0.1",
            "_player_dict": {},
            "_synced_repr_model_ids": [],
            "_ngl_version": "2.0.0-dev.36",
            "max_frame": 0,
            "_dom_classes": [],
            "_model_name": "NGLModel",
            "_scene_position": {},
            "_model_module_version": "3.0.1",
            "gui_style": null,
            "background": "white",
            "_view_count": null,
            "_view_height": "",
            "_ngl_repr_dict": {
              "0": {
                "0": {
                  "type": "cartoon",
                  "params": {
                    "clipCenter": {
                      "y": 0,
                      "x": 0,
                      "z": 0
                    },
                    "radiusScale": 0.7,
                    "metalness": 0,
                    "visible": true,
                    "capped": true,
                    "radiusData": {},
                    "quality": "medium",
                    "depthWrite": true,
                    "matrix": {
                      "elements": [
                        1,
                        0,
                        0,
                        0,
                        0,
                        1,
                        0,
                        0,
                        0,
                        0,
                        1,
                        0,
                        0,
                        0,
                        0,
                        1
                      ]
                    },
                    "disablePicking": false,
                    "smoothSheet": false,
                    "sele": "protein and not ANI",
                    "wireframe": false,
                    "colorReverse": false,
                    "roughness": 0.4,
                    "subdiv": 6,
                    "flatShaded": false,
                    "clipNear": 0,
                    "useInteriorColor": true,
                    "opacity": 1,
                    "tension": null,
                    "lazy": false,
                    "assembly": "default",
                    "colorScale": "RdYlBu",
                    "interiorColor": 2236962,
                    "clipRadius": 0,
                    "radiusSize": 1,
                    "colorScheme": "chainname",
                    "diffuse": 16777215,
                    "defaultAssembly": "",
                    "radialSegments": 10,
                    "diffuseInterior": false,
                    "colorMode": "hcl",
                    "radiusType": "sstruc",
                    "interiorDarkening": 0,
                    "aspectRatio": 5,
                    "side": "double",
                    "colorValue": 9474192
                  }
                },
                "1": {
                  "type": "cartoon",
                  "params": {
                    "clipCenter": {
                      "y": 0,
                      "x": 0,
                      "z": 0
                    },
                    "radiusScale": 0.7,
                    "metalness": 0,
                    "visible": true,
                    "capped": true,
                    "radiusData": {},
                    "quality": "medium",
                    "depthWrite": true,
                    "matrix": {
                      "elements": [
                        1,
                        0,
                        0,
                        0,
                        0,
                        1,
                        0,
                        0,
                        0,
                        0,
                        1,
                        0,
                        0,
                        0,
                        0,
                        1
                      ]
                    },
                    "disablePicking": false,
                    "smoothSheet": false,
                    "sele": "protein and not ANI",
                    "wireframe": false,
                    "colorReverse": false,
                    "roughness": 0.4,
                    "subdiv": 6,
                    "flatShaded": false,
                    "clipNear": 0,
                    "useInteriorColor": true,
                    "opacity": 1,
                    "tension": null,
                    "lazy": false,
                    "assembly": "default",
                    "colorScale": "RdYlBu",
                    "interiorColor": 2236962,
                    "clipRadius": 0,
                    "radiusSize": 1,
                    "colorScheme": "chainname",
                    "diffuse": 16777215,
                    "defaultAssembly": "",
                    "radialSegments": 10,
                    "diffuseInterior": false,
                    "colorMode": "hcl",
                    "radiusType": "sstruc",
                    "interiorDarkening": 0,
                    "aspectRatio": 5,
                    "side": "double",
                    "colorValue": 9474192
                  }
                },
                "2": {
                  "type": "ball+stick",
                  "params": {
                    "clipCenter": {
                      "y": 0,
                      "x": 0,
                      "z": 0
                    },
                    "cylinderOnly": false,
                    "radiusScale": 1,
                    "metalness": 0,
                    "visible": true,
                    "radiusData": {},
                    "linewidth": 2,
                    "quality": "medium",
                    "depthWrite": true,
                    "openEnded": true,
                    "disablePicking": false,
                    "radiusType": "size",
                    "sele": "hetero",
                    "wireframe": false,
                    "lineOnly": false,
                    "colorReverse": false,
                    "roughness": 0.4,
                    "flatShaded": false,
                    "bondScale": 0.4,
                    "clipNear": 0,
                    "useInteriorColor": true,
                    "opacity": 1,
                    "lazy": false,
                    "multipleBond": "off",
                    "assembly": "default",
                    "disableImpostor": false,
                    "colorScale": "",
                    "bondSpacing": 1,
                    "interiorColor": 2236962,
                    "clipRadius": 0,
                    "radiusSize": 0.15,
                    "colorScheme": "element",
                    "diffuse": 16777215,
                    "matrix": {
                      "elements": [
                        1,
                        0,
                        0,
                        0,
                        0,
                        1,
                        0,
                        0,
                        0,
                        0,
                        1,
                        0,
                        0,
                        0,
                        0,
                        1
                      ]
                    },
                    "defaultAssembly": "",
                    "radialSegments": 10,
                    "diffuseInterior": false,
                    "colorMode": "hcl",
                    "sphereDetail": 1,
                    "interiorDarkening": 0,
                    "aspectRatio": 2,
                    "side": "double",
                    "colorValue": 9474192
                  }
                },
                "3": {
                  "type": "ball+stick",
                  "params": {
                    "clipCenter": {
                      "y": 0,
                      "x": 0,
                      "z": 0
                    },
                    "cylinderOnly": false,
                    "radiusScale": 1,
                    "metalness": 0,
                    "visible": true,
                    "radiusData": {},
                    "linewidth": 2,
                    "quality": "medium",
                    "depthWrite": true,
                    "openEnded": true,
                    "disablePicking": false,
                    "radiusType": "size",
                    "sele": "hetero",
                    "wireframe": false,
                    "lineOnly": false,
                    "colorReverse": false,
                    "roughness": 0.4,
                    "flatShaded": false,
                    "bondScale": 0.4,
                    "clipNear": 0,
                    "useInteriorColor": true,
                    "opacity": 1,
                    "lazy": false,
                    "multipleBond": "off",
                    "assembly": "default",
                    "disableImpostor": false,
                    "colorScale": "",
                    "bondSpacing": 1,
                    "interiorColor": 2236962,
                    "clipRadius": 0,
                    "radiusSize": 0.15,
                    "colorScheme": "element",
                    "diffuse": 16777215,
                    "matrix": {
                      "elements": [
                        1,
                        0,
                        0,
                        0,
                        0,
                        1,
                        0,
                        0,
                        0,
                        0,
                        1,
                        0,
                        0,
                        0,
                        0,
                        1
                      ]
                    },
                    "defaultAssembly": "",
                    "radialSegments": 10,
                    "diffuseInterior": false,
                    "colorMode": "hcl",
                    "sphereDetail": 1,
                    "interiorDarkening": 0,
                    "aspectRatio": 2,
                    "side": "double",
                    "colorValue": 9474192
                  }
                }
              },
              "1": {}
            },
            "_ngl_original_stage_parameters": {
              "impostor": true,
              "quality": "medium",
              "workerDefault": true,
              "sampleLevel": 0,
              "backgroundColor": "white",
              "rotateSpeed": 2,
              "zoomSpeed": 1.2,
              "panSpeed": 1,
              "clipNear": 0,
              "clipFar": 100,
              "clipDist": 10,
              "fogNear": 50,
              "fogFar": 100,
              "cameraFov": 40,
              "cameraEyeSep": 0.3,
              "cameraType": "perspective",
              "lightColor": 14540253,
              "lightIntensity": 1,
              "ambientColor": 14540253,
              "ambientIntensity": 0.2,
              "hoverTimeout": 0,
              "tooltip": true,
              "mousePreset": "default"
            },
            "_ngl_full_stage_parameters": {
              "impostor": true,
              "quality": "medium",
              "workerDefault": true,
              "sampleLevel": 0,
              "backgroundColor": "white",
              "rotateSpeed": 2,
              "zoomSpeed": 1.2,
              "panSpeed": 1,
              "clipNear": 0,
              "clipFar": 100,
              "clipDist": 10,
              "fogNear": 50,
              "fogFar": 100,
              "cameraFov": 40,
              "cameraEyeSep": 0.3,
              "cameraType": "perspective",
              "lightColor": 14540253,
              "lightIntensity": 1,
              "ambientColor": 14540253,
              "ambientIntensity": 0.2,
              "hoverTimeout": 0,
              "tooltip": true,
              "mousePreset": "default"
            },
            "n_components": 2,
            "_ngl_color_dict": {},
            "_gui_theme": null,
            "_ngl_msg_archive": [
              {
                "reconstruc_color_scheme": false,
                "methodName": "loadFile",
                "target": "Stage",
                "args": [
                  {
                    "data": "HEADER    IMMUNE SYSTEM                           06-MAY-11   XXXX              \nTITLE     STRUCTURE OF 4C1 FAB IN P212121 SPACE GROUP                           \nKEYWDS    IGG, ANTIBODY, DER F 1, DER P 1, IMMUNE SYSTEM                        \nEXPDTA    X-RAY DIFFRACTION                                                     \nAUTHOR    M.CHRUSZCZ, L.D.VAILES, M.D.CHAPMAN, A.POMES, W.MINOR                 \nJRNL        AUTH   M.CHRUSZCZ, A.POMES, J.GLESNER, L.D.VAILES, T.OSINSKI,       \nJRNL        AUTH 2 P.J.POREBSKI, K.A.MAJOREK, P.W.HEYMANN, T.A.PLATTS-MILLS,    \nJRNL        AUTH 3 W.MINOR, M.D.CHAPMAN                                         \nJRNL        TITL   MOLECULAR DETERMINANTS FOR ANTIBODY BINDING ON GROUP 1 HOUSE \nJRNL        TITL 2 DUST MITE ALLERGENS.                                         \nJRNL        REF    J.BIOL.CHEM.                  V. 287  7388 2012              \nJRNL        REFN   ASTM JBCHA3  US ISSN 0021-9258                               \nJRNL        PMID   22210776                                                     \nJRNL        DOI    10.1074/JBC.M111.311159                                      \nSEQRES   1 C  213  GLN ILE VAL MET THR GLN SER PRO PHE SER MET TYR ALA          \nSEQRES   2 C  213  THR LEU GLY GLU ARG VAL THR ILE THR CYS LYS ALA SER          \nSEQRES   3 C  213  GLN ASP ILE TYR SER TYR LEU SER TRP LEU GLN GLN LYS          \nSEQRES   4 C  213  PRO GLY LYS SER LEU LYS THR LEU ILE TYR ARG ALA ASN          \nSEQRES   5 C  213  ARG LEU ILE THR GLY VAL PRO SER ARG PHE SER GLY SER          \nSEQRES   6 C  213  GLY SER GLY GLN ASP TYR SER LEU THR ILE SER SER LEU          \nSEQRES   7 C  213  GLU TYR GLU ASP MET GLY ILE TYR TYR CYS LEU GLN TYR          \nSEQRES   8 C  213  ASP GLU PHE PRO TYR THR PHE GLY GLY GLY THR LYS LEU          \nSEQRES   9 C  213  GLU MET LYS ARG ALA ASP ALA ALA PRO THR VAL SER ILE          \nSEQRES  10 C  213  PHE PRO PRO SER SER GLU GLN LEU THR SER GLY GLY ALA          \nSEQRES  11 C  213  SER VAL VAL CYS PHE LEU ASN ASN PHE TYR PRO LYS ASP          \nSEQRES  12 C  213  ILE ASN VAL LYS TRP LYS ILE ASP GLY SER GLU ARG GLN          \nSEQRES  13 C  213  ASN GLY VAL LEU ASN SER TRP THR ASP GLN ASP SER LYS          \nSEQRES  14 C  213  ASP SER THR TYR SER MET SER SER THR LEU THR LEU THR          \nSEQRES  15 C  213  LYS ASP GLU TYR GLU ARG HIS ASN SER TYR THR CYS GLU          \nSEQRES  16 C  213  ALA THR HIS LYS THR SER THR SER PRO ILE VAL LYS SER          \nSEQRES  17 C  213  PHE ASN ARG ASN GLU                                          \nSEQRES   1 D  255  GLU VAL GLN LEU GLN GLU SER GLY PRO GLY LEU VAL LYS          \nSEQRES   2 D  255  PRO SER GLN SER LEU SER LEU THR CYS THR VAL THR GLY          \nSEQRES   3 D  255  TYR SER ILE THR SER ASP TYR ALA TRP ASN TRP ILE ARG          \nSEQRES   4 D  255  GLN PHE PRO GLY ASN LYS LEU GLU TRP MET GLY TYR ILE          \nSEQRES   5 D  255  SER TYR SER GLY THR THR SER TYR ASN PRO SER LEU LYS          \nSEQRES   6 D  255  SER ARG ILE SER ILE THR ARG ASP THR SER LYS ASN GLN          \nSEQRES   7 D  255  PHE PHE LEU GLN LEU ASN SER VAL THR THR GLU ASP THR          \nSEQRES   8 D  255  ALA THR TYR TYR CYS GLY ARG THR GLY VAL TYR ARG TYR          \nSEQRES   9 D  255  PRO GLU ARG ALA PRO TYR TRP GLY GLN GLY THR LEU VAL          \nSEQRES  10 D  255  THR VAL SER ALA ALA LYS THR THR PRO PRO SER VAL TYR          \nSEQRES  11 D  255  PRO LEU ALA PRO GLY SER ALA ALA GLN THR ASN SER MET          \nSEQRES  12 D  255  VAL THR LEU GLY CYS LEU VAL LYS GLY TYR PHE PRO GLU          \nSEQRES  13 D  255  PRO VAL THR VAL THR TRP ASN SER GLY SER LEU SER SER          \nSEQRES  14 D  255  GLY VAL HIS THR PHE PRO ALA VAL LEU GLN SER ASP LEU          \nSEQRES  15 D  255  TYR THR LEU SER SER SER VAL THR VAL PRO SER SER THR          \nSEQRES  16 D  255  TRP PRO SER GLU THR VAL THR CYS ASN VAL ALA HIS PRO          \nSEQRES  17 D  255  ALA SER SER THR LYS VAL ASP LYS LYS ILE VAL PRO ARG          \nSEQRES  18 D  255  ASP CYS GLY CYS LYS PRO CYS ILE CYS THR VAL PRO GLU          \nSEQRES  19 D  255  VAL SER SER VAL PHE ILE PHE PRO PRO LYS PRO LYS ASP          \nSEQRES  20 D  255  VAL LEU THR ILE THR LEU THR PRO                              \nFORMUL   3  HOH   *219(H2 O)                                                    \nHELIX    1   1 GLU C   79  MET C   83  5                                   5    \nHELIX    2   2 SER C  121  SER C  127  1                                   7    \nHELIX    3   3 LYS C  183  GLU C  187  1                                   5    \nHELIX    4   4 PRO D   62  LYS D   65  5                                   4    \nHELIX    5   5 THR D   87  THR D   91  5                                   5    \nHELIX    6   6 SER D  164  SER D  166  5                                   3    \nHELIX    7   7 PRO D  208  SER D  211  5                                   4    \nSHEET    1   A 4 MET C   4  SER C   7  0                                        \nSHEET    2   A 4 VAL C  19  ALA C  25 -1  O  THR C  22   N  SER C   7           \nSHEET    3   A 4 ASP C  70  ILE C  75 -1  O  TYR C  71   N  CYS C  23           \nSHEET    4   A 4 PHE C  62  SER C  67 -1  N  SER C  63   O  THR C  74           \nSHEET    1   B 6 SER C  10  THR C  14  0                                        \nSHEET    2   B 6 THR C 102  LYS C 107  1  O  GLU C 105   N  MET C  11           \nSHEET    3   B 6 GLY C  84  GLN C  90 -1  N  GLY C  84   O  LEU C 104           \nSHEET    4   B 6 LEU C  33  GLN C  38 -1  N  SER C  34   O  LEU C  89           \nSHEET    5   B 6 LYS C  45  TYR C  49 -1  O  LEU C  47   N  TRP C  35           \nSHEET    6   B 6 ARG C  53  LEU C  54 -1  O  ARG C  53   N  TYR C  49           \nSHEET    1   C 4 SER C  10  THR C  14  0                                        \nSHEET    2   C 4 THR C 102  LYS C 107  1  O  GLU C 105   N  MET C  11           \nSHEET    3   C 4 GLY C  84  GLN C  90 -1  N  GLY C  84   O  LEU C 104           \nSHEET    4   C 4 THR C  97  PHE C  98 -1  O  THR C  97   N  GLN C  90           \nSHEET    1   D 4 THR C 114  PHE C 118  0                                        \nSHEET    2   D 4 GLY C 129  PHE C 139 -1  O  ASN C 137   N  THR C 114           \nSHEET    3   D 4 TYR C 173  THR C 182 -1  O  LEU C 181   N  ALA C 130           \nSHEET    4   D 4 VAL C 159  TRP C 163 -1  N  LEU C 160   O  THR C 178           \nSHEET    1   E 4 SER C 153  ARG C 155  0                                        \nSHEET    2   E 4 ASN C 145  ILE C 150 -1  N  TRP C 148   O  ARG C 155           \nSHEET    3   E 4 SER C 191  THR C 197 -1  O  THR C 197   N  ASN C 145           \nSHEET    4   E 4 ILE C 205  ASN C 210 -1  O  ILE C 205   N  ALA C 196           \nSHEET    1   F 4 GLN D   3  SER D   7  0                                        \nSHEET    2   F 4 LEU D  18  THR D  25 -1  O  THR D  21   N  SER D   7           \nSHEET    3   F 4 GLN D  78  LEU D  83 -1  O  LEU D  83   N  LEU D  18           \nSHEET    4   F 4 ILE D  68  ASP D  73 -1  N  ASP D  73   O  GLN D  78           \nSHEET    1   G 6 LEU D  11  VAL D  12  0                                        \nSHEET    2   G 6 THR D 115  VAL D 119  1  O  THR D 118   N  VAL D  12           \nSHEET    3   G 6 ALA D  92  THR D  99 -1  N  TYR D  94   O  THR D 115           \nSHEET    4   G 6 ALA D  34  GLN D  40 -1  N  ALA D  34   O  THR D  99           \nSHEET    5   G 6 LEU D  46  SER D  53 -1  O  GLY D  50   N  TRP D  37           \nSHEET    6   G 6 THR D  58  TYR D  60 -1  O  SER D  59   N  TYR D  51           \nSHEET    1   H 4 LEU D  11  VAL D  12  0                                        \nSHEET    2   H 4 THR D 115  VAL D 119  1  O  THR D 118   N  VAL D  12           \nSHEET    3   H 4 ALA D  92  THR D  99 -1  N  TYR D  94   O  THR D 115           \nSHEET    4   H 4 TYR D 110  TRP D 111 -1  O  TYR D 110   N  ARG D  98           \nSHEET    1   I 4 SER D 128  LEU D 132  0                                        \nSHEET    2   I 4 MET D 143  TYR D 153 -1  O  LYS D 151   N  SER D 128           \nSHEET    3   I 4 LEU D 182  PRO D 192 -1  O  TYR D 183   N  TYR D 153           \nSHEET    4   I 4 VAL D 171  THR D 173 -1  N  HIS D 172   O  SER D 188           \nSHEET    1   J 4 SER D 128  LEU D 132  0                                        \nSHEET    2   J 4 MET D 143  TYR D 153 -1  O  LYS D 151   N  SER D 128           \nSHEET    3   J 4 LEU D 182  PRO D 192 -1  O  TYR D 183   N  TYR D 153           \nSHEET    4   J 4 VAL D 177  GLN D 179 -1  N  GLN D 179   O  LEU D 182           \nSHEET    1   K 3 THR D 159  TRP D 162  0                                        \nSHEET    2   K 3 THR D 202  HIS D 207 -1  O  ALA D 206   N  THR D 159           \nSHEET    3   K 3 THR D 212  LYS D 217 -1  O  VAL D 214   N  VAL D 205           \nSSBOND   1 CYS C   23    CYS C   88                          1555   1555  2.23  \nSSBOND   2 CYS C  134    CYS C  194                          1555   1555  1.82  \nSSBOND   3 CYS D   22    CYS D   96                          1555   1555  2.19  \nSSBOND   4 CYS D  148    CYS D  203                          1555   1555  2.04  \nCISPEP   1 SER C    7    PRO C    8          1        -8.62                     \nCISPEP   2 PHE C   94    PRO C   95          1       -12.06                     \nCISPEP   3 TYR C  140    PRO C  141          1        -0.55                     \nCISPEP   4 TYR D  104    PRO D  105          1        -1.41                     \nCISPEP   5 PHE D  154    PRO D  155          1       -12.06                     \nCISPEP   6 GLU D  156    PRO D  157          1         0.76                     \nCISPEP   7 TRP D  196    PRO D  197          1         4.30                     \nCRYST1   73.050   79.656   80.948  90.00  90.00  90.00 P 21 21 21    4          \nORIGX1      1.000000  0.000000  0.000000        0.00000                         \nORIGX2      0.000000  1.000000  0.000000        0.00000                         \nORIGX3      0.000000  0.000000  1.000000        0.00000                         \nSCALE1      0.013689  0.000000  0.000000        0.00000                         \nSCALE2      0.000000  0.012554  0.000000        0.00000                         \nSCALE3      0.000000  0.000000  0.012354        0.00000                         \nMODEL        1                                                                  \nATOM      1  N   GLN C   1      20.790   7.704 -19.820  1.00 53.50           N  \nANISOU    1  N   GLN C   1     6433   7523   6369   -332    593   1349       N  \nATOM      2  CA  GLN C   1      20.690   6.683 -18.796  1.00 51.21           C  \nANISOU    2  CA  GLN C   1     5962   7300   6196   -242    531   1140       C  \nATOM      3  C   GLN C   1      20.148   5.411 -19.398  1.00 48.70           C  \nANISOU    3  C   GLN C   1     5549   7174   5779   -112    434   1076       C  \nATOM      4  O   GLN C   1      19.454   5.448 -20.369  1.00 49.74           O  \nANISOU    4  O   GLN C   1     5753   7352   5791    -43    365   1189       O  \nATOM      5  CB  GLN C   1      19.813   7.160 -17.653  1.00 50.93           C  \nANISOU    5  CB  GLN C   1     5958   7039   6353   -138    473   1130       C  \nATOM      6  CG  GLN C   1      20.340   8.375 -16.929  1.00 54.98           C  \nANISOU    6  CG  GLN C   1     6556   7346   6985   -271    571   1139       C  \nATOM      7  CD  GLN C   1      19.409   8.775 -15.823  1.00 56.72           C  \nANISOU    7  CD  GLN C   1     6801   7363   7383   -156    524   1096       C  \nATOM      8  OE1 GLN C   1      18.446   8.057 -15.551  1.00 58.56           O  \nANISOU    8  OE1 GLN C   1     6966   7635   7649      7    431   1050       O  \nATOM      9  NE2 GLN C   1      19.672   9.907 -15.169  1.00 54.79           N  \nANISOU    9  NE2 GLN C   1     6650   6904   7263   -254    604   1085       N  \nATOM     10  N   ILE C   2      20.497   4.290 -18.812  1.00 44.65           N  \nANISOU   10  N   ILE C   2     4881   6769   5315    -80    425    891       N  \nATOM     11  CA  ILE C   2      20.061   3.028 -19.283  1.00 42.03           C  \nANISOU   11  CA  ILE C   2     4460   6582   4925     21    355    797       C  \nATOM     12  C   ILE C   2      18.658   2.779 -18.798  1.00 39.60           C  \nANISOU   12  C   ILE C   2     4154   6163   4728    167    244    799       C  \nATOM     13  O   ILE C   2      18.380   2.878 -17.652  1.00 38.05           O  \nANISOU   13  O   ILE C   2     3948   5832   4676    200    242    763       O  \nATOM     14  CB  ILE C   2      20.979   1.927 -18.793  1.00 41.24           C  \nANISOU   14  CB  ILE C   2     4214   6592   4864     16    391    608       C  \nATOM     15  CG1 ILE C   2      22.392   2.146 -19.324  1.00 43.12           C  \nANISOU   15  CG1 ILE C   2     4396   6976   5009   -128    511    567       C  \nATOM     16  CG2 ILE C   2      20.448   0.608 -19.174  1.00 40.30           C  \nANISOU   16  CG2 ILE C   2     4024   6560   4726    122    329    499       C  \nATOM     17  CD1 ILE C   2      23.365   1.075 -18.996  1.00 38.75           C  \nANISOU   17  CD1 ILE C   2     3671   6554   4498   -100    533    371       C  \nATOM     18  N   VAL C   3      17.781   2.458 -19.722  1.00 40.10           N  \nANISOU   18  N   VAL C   3     4220   6308   4706    244    156    827       N  \nATOM     19  CA  VAL C   3      16.402   2.184 -19.433  1.00 39.85           C  \nANISOU   19  CA  VAL C   3     4147   6211   4780    370     52    801       C  \nATOM     20  C   VAL C   3      16.215   0.718 -19.166  1.00 38.63           C  \nANISOU   20  C   VAL C   3     3871   6127   4678    396     47    614       C  \nATOM     21  O   VAL C   3      16.632  -0.083 -19.929  1.00 37.99           O  \nANISOU   21  O   VAL C   3     3747   6197   4490    371     52    527       O  \nATOM     22  CB  VAL C   3      15.505   2.580 -20.596  1.00 41.82           C  \nANISOU   22  CB  VAL C   3     4438   6537   4912    446    -69    909       C  \nATOM     23  CG1 VAL C   3      14.110   2.314 -20.273  1.00 44.75           C  \nANISOU   23  CG1 VAL C   3     4716   6865   5420    571   -176    848       C  \nATOM     24  CG2 VAL C   3      15.656   4.004 -20.914  1.00 47.11           C  \nANISOU   24  CG2 VAL C   3     5269   7099   5531    435    -65   1127       C  \nATOM     25  N   MET C   4      15.596   0.397 -18.054  1.00 37.56           N  \nANISOU   25  N   MET C   4     3696   5863   4711    439     54    550       N  \nATOM     26  CA  MET C   4      15.261  -0.970 -17.683  1.00 36.86           C  \nANISOU   26  CA  MET C   4     3526   5781   4698    456     65    395       C  \nATOM     27  C   MET C   4      13.736  -1.141 -17.743  1.00 38.02           C  \nANISOU   27  C   MET C   4     3600   5907   4939    513      0    349       C  \nATOM     28  O   MET C   4      13.042  -0.445 -17.002  1.00 36.01           O  \nANISOU   28  O   MET C   4     3348   5534   4797    549      6    394       O  \nATOM     29  CB  MET C   4      15.713  -1.237 -16.241  1.00 36.28           C  \nANISOU   29  CB  MET C   4     3480   5576   4729    442    145    366       C  \nATOM     30  CG  MET C   4      17.217  -1.048 -16.005  1.00 35.86           C  \nANISOU   30  CG  MET C   4     3455   5558   4611    396    189    382       C  \nATOM     31  SD  MET C   4      18.198  -2.145 -17.024  1.00 38.32           S  \nANISOU   31  SD  MET C   4     3696   6037   4825    390    199    272       S  \nATOM     32  CE  MET C   4      18.027  -3.692 -16.061  1.00 38.21           C  \nANISOU   32  CE  MET C   4     3672   5908   4938    460    212    157       C  \nATOM     33  N   THR C   5      13.284  -2.068 -18.566  1.00 38.83           N  \nANISOU   33  N   THR C   5     3622   6127   5006    513    -50    230       N  \nATOM     34  CA  THR C   5      11.894  -2.355 -18.728  1.00 40.43           C  \nANISOU   34  CA  THR C   5     3710   6350   5299    546   -119    140       C  \nATOM     35  C   THR C   5      11.523  -3.751 -18.337  1.00 41.01           C  \nANISOU   35  C   THR C   5     3714   6378   5490    487    -50    -42       C  \nATOM     36  O   THR C   5      11.977  -4.672 -18.911  1.00 41.93           O  \nANISOU   36  O   THR C   5     3823   6558   5547    450    -40   -148       O  \nATOM     37  CB  THR C   5      11.527  -2.225 -20.160  1.00 43.82           C  \nANISOU   37  CB  THR C   5     4093   6980   5574    580   -260    133       C  \nATOM     38  OG1 THR C   5      11.874  -0.932 -20.601  1.00 43.35           O  \nANISOU   38  OG1 THR C   5     4139   6940   5392    630   -317    335       O  \nATOM     39  CG2 THR C   5      10.069  -2.418 -20.322  1.00 42.43           C  \nANISOU   39  CG2 THR C   5     3761   6855   5504    624   -360     23       C  \nATOM     40  N   GLN C   6      10.632  -3.882 -17.386  1.00 40.86           N  \nANISOU   40  N   GLN C   6     3645   6238   5642    474     10    -87       N  \nATOM     41  CA  GLN C   6      10.186  -5.167 -16.919  1.00 41.73           C  \nANISOU   41  CA  GLN C   6     3713   6263   5878    391    107   -242       C  \nATOM     42  C   GLN C   6       8.852  -5.521 -17.496  1.00 44.76           C  \nANISOU   42  C   GLN C   6     3914   6740   6350    362     46   -405       C  \nATOM     43  O   GLN C   6       8.029  -4.686 -17.744  1.00 44.47           O  \nANISOU   43  O   GLN C   6     3768   6788   6337    428    -49   -387       O  \nATOM     44  CB  GLN C   6      10.083  -5.213 -15.410  1.00 41.07           C  \nANISOU   44  CB  GLN C   6     3705   5988   5909    357    253   -197       C  \nATOM     45  CG  GLN C   6      11.368  -5.229 -14.700  1.00 40.37           C  \nANISOU   45  CG  GLN C   6     3781   5810   5746    372    309    -86       C  \nATOM     46  CD  GLN C   6      11.209  -5.182 -13.227  1.00 39.04           C  \nANISOU   46  CD  GLN C   6     3703   5488   5641    343    433    -36       C  \nATOM     47  OE1 GLN C   6      11.543  -4.214 -12.594  1.00 35.96           O  \nANISOU   47  OE1 GLN C   6     3372   5078   5211    375    437     60       O  \nATOM     48  NE2 GLN C   6      10.706  -6.231 -12.680  1.00 37.00           N  \nANISOU   48  NE2 GLN C   6     3469   5116   5471    268    544   -107       N  \nATOM     49  N   SER C   7       8.669  -6.797 -17.713  1.00 47.58           N  \nANISOU   49  N   SER C   7     4231   7076   6768    266    100   -580       N  \nATOM     50  CA  SER C   7       7.450  -7.299 -18.243  1.00 50.32           C  \nANISOU   50  CA  SER C   7     4384   7519   7215    200     54   -786       C  \nATOM     51  C   SER C   7       7.199  -8.616 -17.564  1.00 50.97           C  \nANISOU   51  C   SER C   7     4488   7411   7465     50    237   -928       C  \nATOM     52  O   SER C   7       8.105  -9.330 -17.284  1.00 50.59           O  \nANISOU   52  O   SER C   7     4600   7221   7398     30    326   -897       O  \nATOM     53  CB  SER C   7       7.616  -7.439 -19.740  1.00 50.97           C  \nANISOU   53  CB  SER C   7     4405   7830   7129    227   -112   -879       C  \nATOM     54  OG  SER C   7       6.673  -8.285 -20.279  1.00 56.96           O  \nANISOU   54  OG  SER C   7     4989   8676   7977    129   -144  -1135       O  \nATOM     55  N   PRO C   8       5.959  -8.963 -17.302  1.00 53.22           N  \nANISOU   55  N   PRO C   8     4609   7685   7927    -56    298  -1088       N  \nATOM     56  CA  PRO C   8       4.802  -8.108 -17.451  1.00 54.86           C  \nANISOU   56  CA  PRO C   8     4590   8050   8201    -10    199  -1139       C  \nATOM     57  C   PRO C   8       4.688  -7.150 -16.281  1.00 54.43           C  \nANISOU   57  C   PRO C   8     4589   7888   8201     52    292   -972       C  \nATOM     58  O   PRO C   8       5.277  -7.385 -15.271  1.00 52.61           O  \nANISOU   58  O   PRO C   8     4548   7466   7973      8    457   -864       O  \nATOM     59  CB  PRO C   8       3.679  -9.112 -17.377  1.00 57.60           C  \nANISOU   59  CB  PRO C   8     4751   8379   8755   -197    303  -1408       C  \nATOM     60  CG  PRO C   8       4.174 -10.100 -16.442  1.00 56.89           C  \nANISOU   60  CG  PRO C   8     4869   8006   8738   -333    544  -1378       C  \nATOM     61  CD  PRO C   8       5.588 -10.269 -16.759  1.00 54.06           C  \nANISOU   61  CD  PRO C   8     4737   7595   8205   -239    493  -1239       C  \nATOM     62  N   PHE C   9       3.917  -6.092 -16.416  1.00 56.10           N  \nANISOU   62  N   PHE C   9     4635   8225   8453    166    179   -963       N  \nATOM     63  CA  PHE C   9       3.687  -5.175 -15.309  1.00 56.89           C  \nANISOU   63  CA  PHE C   9     4762   8221   8632    223    282   -856       C  \nATOM     64  C   PHE C   9       3.009  -5.890 -14.138  1.00 57.52           C  \nANISOU   64  C   PHE C   9     4806   8160   8887     44    548   -977       C  \nATOM     65  O   PHE C   9       3.280  -5.613 -13.000  1.00 55.81           O  \nANISOU   65  O   PHE C   9     4736   7798   8668     24    711   -873       O  \nATOM     66  CB  PHE C   9       2.843  -4.002 -15.782  1.00 59.14           C  \nANISOU   66  CB  PHE C   9     4842   8656   8971    397    103   -864       C  \nATOM     67  CG  PHE C   9       2.595  -2.946 -14.742  1.00 62.64           C  \nANISOU   67  CG  PHE C   9     5302   8989   9508    482    200   -782       C  \nATOM     68  CD1 PHE C   9       3.335  -1.810 -14.711  1.00 65.62           C  \nANISOU   68  CD1 PHE C   9     5846   9305   9779    630    124   -572       C  \nATOM     69  CD2 PHE C   9       1.580  -3.074 -13.835  1.00 68.03           C  \nANISOU   69  CD2 PHE C   9     5820   9634  10394    401    381   -940       C  \nATOM     70  CE1 PHE C   9       3.084  -0.817 -13.768  1.00 66.99           C  \nANISOU   70  CE1 PHE C   9     6033   9366  10052    706    217   -531       C  \nATOM     71  CE2 PHE C   9       1.324  -2.090 -12.902  1.00 69.03           C  \nANISOU   71  CE2 PHE C   9     5951   9672  10605    483    481   -900       C  \nATOM     72  CZ  PHE C   9       2.076  -0.964 -12.869  1.00 67.86           C  \nANISOU   72  CZ  PHE C   9     5978   9450  10355    641    393   -702       C  \nATOM     73  N   SER C  10       2.103  -6.795 -14.449  1.00 60.10           N  \nANISOU   73  N   SER C  10     4936   8543   9356   -101    594  -1208       N  \nATOM     74  CA  SER C  10       1.342  -7.503 -13.450  1.00 62.31           C  \nANISOU   74  CA  SER C  10     5164   8698   9811   -307    868  -1340       C  \nATOM     75  C   SER C  10       1.039  -8.946 -13.816  1.00 63.81           C  \nANISOU   75  C   SER C  10     5308   8839  10095   -529    961  -1537       C  \nATOM     76  O   SER C  10       0.841  -9.255 -14.958  1.00 64.69           O  \nANISOU   76  O   SER C  10     5265   9106  10205   -522    784  -1685       O  \nATOM     77  CB  SER C  10       0.024  -6.774 -13.298  1.00 64.45           C  \nANISOU   77  CB  SER C  10     5110   9112  10264   -270    867  -1498       C  \nATOM     78  OG  SER C  10      -0.786  -7.429 -12.379  1.00 68.58           O  \nANISOU   78  OG  SER C  10     5552   9543  10960   -497   1159  -1651       O  \nATOM     79  N   MET C  11       0.951  -9.824 -12.835  1.00 64.69           N  \nANISOU   79  N   MET C  11     5559   8730  10288   -735   1247  -1548       N  \nATOM     80  CA  MET C  11       0.537 -11.181 -13.120  1.00 66.73           C  \nANISOU   80  CA  MET C  11     5774   8898  10682   -973   1371  -1753       C  \nATOM     81  C   MET C  11      -0.071 -11.993 -11.978  1.00 68.00           C  \nANISOU   81  C   MET C  11     6006   8837  10993  -1246   1732  -1808       C  \nATOM     82  O   MET C  11       0.111 -11.708 -10.821  1.00 66.53           O  \nANISOU   82  O   MET C  11     6008   8522  10749  -1255   1912  -1635       O  \nATOM     83  CB  MET C  11       1.669 -11.958 -13.719  1.00 66.27           C  \nANISOU   83  CB  MET C  11     5952   8725  10502   -942   1288  -1680       C  \nATOM     84  CG  MET C  11       2.656 -12.386 -12.742  1.00 67.15           C  \nANISOU   84  CG  MET C  11     6434   8556  10521   -944   1447  -1442       C  \nATOM     85  SD  MET C  11       3.808 -13.423 -13.572  1.00 72.24           S  \nANISOU   85  SD  MET C  11     7275   9076  11094   -904   1353  -1439       S  \nATOM     86  CE  MET C  11       2.699 -14.553 -14.353  1.00 71.78           C  \nANISOU   86  CE  MET C  11     6986   9019  11268  -1164   1427  -1814       C  \nATOM     87  N   TYR C  12      -0.789 -13.036 -12.351  1.00 69.95           N  \nANISOU   87  N   TYR C  12     6110   9042  11424  -1488   1842  -2063       N  \nATOM     88  CA  TYR C  12      -1.411 -13.940 -11.410  1.00 72.05           C  \nANISOU   88  CA  TYR C  12     6448   9079  11848  -1797   2209  -2135       C  \nATOM     89  C   TYR C  12      -0.889 -15.325 -11.662  1.00 72.24           C  \nANISOU   89  C   TYR C  12     6714   8824  11909  -1950   2301  -2152       C  \nATOM     90  O   TYR C  12      -0.811 -15.750 -12.777  1.00 73.26           O  \nANISOU   90  O   TYR C  12     6725   9033  12076  -1943   2126  -2331       O  \nATOM     91  CB  TYR C  12      -2.939 -13.904 -11.555  1.00 75.27           C  \nANISOU   91  CB  TYR C  12     6411   9679  12508  -1995   2307  -2478       C  \nATOM     92  CG  TYR C  12      -3.612 -12.864 -10.701  1.00 76.99           C  \nANISOU   92  CG  TYR C  12     6466  10029  12757  -1945   2415  -2460       C  \nATOM     93  CD1 TYR C  12      -3.781 -13.065  -9.354  1.00 78.80           C  \nANISOU   93  CD1 TYR C  12     6890  10061  12986  -2124   2779  -2355       C  \nATOM     94  CD2 TYR C  12      -4.067 -11.690 -11.233  1.00 77.12           C  \nANISOU   94  CD2 TYR C  12     6153  10356  12793  -1710   2160  -2546       C  \nATOM     95  CE1 TYR C  12      -4.364 -12.134  -8.567  1.00 79.27           C  \nANISOU   95  CE1 TYR C  12     6807  10244  13066  -2082   2899  -2366       C  \nATOM     96  CE2 TYR C  12      -4.658 -10.749 -10.441  1.00 77.16           C  \nANISOU   96  CE2 TYR C  12     6012  10453  12850  -1647   2270  -2550       C  \nATOM     97  CZ  TYR C  12      -4.799 -10.982  -9.104  1.00 79.09           C  \nANISOU   97  CZ  TYR C  12     6443  10512  13096  -1841   2649  -2475       C  \nATOM     98  OH  TYR C  12      -5.385 -10.060  -8.276  1.00 79.45           O  \nANISOU   98  OH  TYR C  12     6346  10653  13186  -1789   2789  -2509       O  \nATOM     99  N   ALA C  13      -0.515 -16.022 -10.616  1.00 72.00           N  \nANISOU   99  N   ALA C  13     7040   8460  11855  -2077   2571  -1962       N  \nATOM    100  CA  ALA C  13      -0.065 -17.386 -10.737  1.00 72.00           C  \nANISOU  100  CA  ALA C  13     7302   8129  11923  -2218   2689  -1964       C  \nATOM    101  C   ALA C  13      -0.613 -18.291  -9.645  1.00 74.05           C  \nANISOU  101  C   ALA C  13     7768   8061  12306  -2540   3101  -1929       C  \nATOM    102  O   ALA C  13      -0.718 -17.896  -8.522  1.00 72.96           O  \nANISOU  102  O   ALA C  13     7773   7878  12070  -2565   3281  -1739       O  \nATOM    103  CB  ALA C  13       1.408 -17.427 -10.709  1.00 69.57           C  \nANISOU  103  CB  ALA C  13     7341   7683  11408  -1954   2533  -1678       C  \nATOM    104  N   THR C  14      -0.902 -19.531 -10.005  1.00 75.99           N  \nANISOU  104  N   THR C  14     8057   8062  12753  -2790   3253  -2112       N  \nATOM    105  CA  THR C  14      -1.351 -20.573  -9.098  1.00 79.15           C  \nANISOU  105  CA  THR C  14     8706   8080  13286  -3127   3661  -2073       C  \nATOM    106  C   THR C  14      -0.270 -21.034  -8.168  1.00 78.05           C  \nANISOU  106  C   THR C  14     9120   7570  12963  -3007   3752  -1660       C  \nATOM    107  O   THR C  14       0.869 -21.078  -8.554  1.00 76.79           O  \nANISOU  107  O   THR C  14     9141   7355  12679  -2722   3509  -1509       O  \nATOM    108  CB  THR C  14      -1.837 -21.801  -9.901  1.00 82.45           C  \nANISOU  108  CB  THR C  14     9031   8305  13988  -3413   3765  -2403       C  \nATOM    109  OG1 THR C  14      -3.011 -21.470 -10.608  1.00 84.18           O  \nANISOU  109  OG1 THR C  14     8720   8872  14393  -3582   3721  -2810       O  \nATOM    110  CG2 THR C  14      -2.102 -22.982  -9.016  1.00 86.24           C  \nANISOU  110  CG2 THR C  14     9859   8302  14604  -3751   4190  -2314       C  \nATOM    111  N   LEU C  15      -0.655 -21.453  -6.973  1.00 79.88           N  \nANISOU  111  N   LEU C  15     9616   7549  13186  -3240   4114  -1495       N  \nATOM    112  CA  LEU C  15       0.266 -22.025  -6.028  1.00 80.00           C  \nANISOU  112  CA  LEU C  15    10187   7185  13023  -3151   4217  -1095       C  \nATOM    113  C   LEU C  15       0.855 -23.263  -6.684  1.00 82.33           C  \nANISOU  113  C   LEU C  15    10700   7107  13475  -3144   4178  -1126       C  \nATOM    114  O   LEU C  15       0.174 -23.997  -7.344  1.00 84.85           O  \nANISOU  114  O   LEU C  15    10851   7317  14068  -3409   4300  -1435       O  \nATOM    115  CB  LEU C  15      -0.466 -22.453  -4.765  1.00 83.46           C  \nANISOU  115  CB  LEU C  15    10866   7393  13452  -3488   4664   -964       C  \nATOM    116  CG  LEU C  15       0.335 -23.113  -3.660  1.00 83.12           C  \nANISOU  116  CG  LEU C  15    11442   6940  13200  -3432   4808   -521       C  \nATOM    117  CD1 LEU C  15       1.181 -22.099  -2.967  1.00 76.85           C  \nANISOU  117  CD1 LEU C  15    10790   6363  12045  -3090   4595   -219       C  \nATOM    118  CD2 LEU C  15      -0.587 -23.813  -2.679  1.00 84.24           C  \nANISOU  118  CD2 LEU C  15    11807   6802  13398  -3867   5310   -464       C  \nATOM    119  N   GLY C  16       2.147 -23.444  -6.527  1.00 81.60           N  \nANISOU  119  N   GLY C  16    10951   6840  13213  -2823   3991   -832       N  \nATOM    120  CA  GLY C  16       2.901 -24.545  -7.066  1.00 83.53           C  \nANISOU  120  CA  GLY C  16    11432   6718  13585  -2731   3928   -825       C  \nATOM    121  C   GLY C  16       3.405 -24.346  -8.472  1.00 81.59           C  \nANISOU  121  C   GLY C  16    10889   6707  13405  -2517   3593  -1087       C  \nATOM    122  O   GLY C  16       4.211 -25.083  -8.955  1.00 82.35           O  \nANISOU  122  O   GLY C  16    11155   6562  13570  -2364   3494  -1086       O  \nATOM    123  N   GLU C  17       2.944 -23.298  -9.111  1.00 79.90           N  \nANISOU  123  N   GLU C  17    10234   6973  13148  -2489   3417  -1301       N  \nATOM    124  CA  GLU C  17       3.238 -23.037 -10.505  1.00 78.49           C  \nANISOU  124  CA  GLU C  17     9747   7071  13002  -2334   3119  -1572       C  \nATOM    125  C   GLU C  17       4.599 -22.388 -10.802  1.00 74.44           C  \nANISOU  125  C   GLU C  17     9299   6729  12255  -1913   2793  -1380       C  \nATOM    126  O   GLU C  17       5.170 -21.699  -9.985  1.00 73.13           O  \nANISOU  126  O   GLU C  17     9285   6627  11874  -1723   2732  -1075       O  \nATOM    127  CB  GLU C  17       2.048 -22.322 -11.137  1.00 78.81           C  \nANISOU  127  CB  GLU C  17     9294   7525  13122  -2508   3077  -1901       C  \nATOM    128  CG  GLU C  17       2.300 -21.443 -12.326  1.00 77.35           C  \nANISOU  128  CG  GLU C  17     8775   7782  12830  -2282   2719  -2065       C  \nATOM    129  CD  GLU C  17       1.109 -20.539 -12.642  1.00 81.26           C  \nANISOU  129  CD  GLU C  17     8820   8688  13363  -2394   2665  -2292       C  \nATOM    130  OE1 GLU C  17      -0.036 -20.954 -12.393  1.00 85.06           O  \nANISOU  130  OE1 GLU C  17     9148   9116  14053  -2718   2901  -2498       O  \nATOM    131  OE2 GLU C  17       1.308 -19.416 -13.135  1.00 81.13           O  \nANISOU  131  OE2 GLU C  17     8601   9041  13183  -2159   2392  -2267       O  \nATOM    132  N   ARG C  18       5.111 -22.621 -11.991  1.00 73.05           N  \nANISOU  132  N   ARG C  18     8995   6638  12122  -1789   2595  -1587       N  \nATOM    133  CA  ARG C  18       6.364 -22.054 -12.390  1.00 69.63           C  \nANISOU  133  CA  ARG C  18     8582   6383  11490  -1431   2316  -1458       C  \nATOM    134  C   ARG C  18       6.113 -20.729 -13.065  1.00 66.21           C  \nANISOU  134  C   ARG C  18     7788   6460  10908  -1349   2093  -1557       C  \nATOM    135  O   ARG C  18       5.414 -20.647 -14.043  1.00 67.29           O  \nANISOU  135  O   ARG C  18     7627   6819  11119  -1468   2027  -1860       O  \nATOM    136  CB  ARG C  18       7.073 -23.004 -13.338  1.00 70.95           C  \nANISOU  136  CB  ARG C  18     8805   6379  11772  -1342   2246  -1643       C  \nATOM    137  CG  ARG C  18       8.343 -22.501 -13.887  1.00 69.59           C  \nANISOU  137  CG  ARG C  18     8609   6410  11421  -1004   1987  -1573       C  \nATOM    138  CD  ARG C  18       8.606 -23.027 -15.236  1.00 73.10           C  \nANISOU  138  CD  ARG C  18     8906   6919  11947   -985   1894  -1907       C  \nATOM    139  NE  ARG C  18       9.892 -22.601 -15.738  1.00 72.79           N  \nANISOU  139  NE  ARG C  18     8852   7065  11739   -673   1684  -1843       N  \nATOM    140  CZ  ARG C  18      11.057 -23.094 -15.341  1.00 76.95           C  \nANISOU  140  CZ  ARG C  18     9616   7345  12274   -434   1666  -1674       C  \nATOM    141  NH1 ARG C  18      12.170 -22.625 -15.859  1.00 74.32           N  \nANISOU  141  NH1 ARG C  18     9204   7238  11793   -177   1484  -1659       N  \nATOM    142  NH2 ARG C  18      11.114 -24.041 -14.428  1.00 81.41           N  \nANISOU  142  NH2 ARG C  18    10494   7443  12992   -447   1830  -1517       N  \nATOM    143  N   VAL C  19       6.727 -19.695 -12.519  1.00 62.59           N  \nANISOU  143  N   VAL C  19     7377   6175  10230  -1134   1969  -1290       N  \nATOM    144  CA  VAL C  19       6.576 -18.302 -12.929  1.00 59.25           C  \nANISOU  144  CA  VAL C  19     6681   6179   9651  -1028   1773  -1301       C  \nATOM    145  C   VAL C  19       7.887 -17.733 -13.424  1.00 57.23           C  \nANISOU  145  C   VAL C  19     6452   6087   9206   -736   1536  -1187       C  \nATOM    146  O   VAL C  19       8.895 -17.957 -12.843  1.00 55.29           O  \nANISOU  146  O   VAL C  19     6444   5673   8888   -580   1528   -980       O  \nATOM    147  CB  VAL C  19       6.148 -17.409 -11.739  1.00 58.14           C  \nANISOU  147  CB  VAL C  19     6573   6098   9417  -1049   1862  -1090       C  \nATOM    148  CG1 VAL C  19       6.139 -15.970 -12.124  1.00 56.08           C  \nANISOU  148  CG1 VAL C  19     6080   6215   9012   -903   1656  -1075       C  \nATOM    149  CG2 VAL C  19       4.834 -17.818 -11.163  1.00 60.64           C  \nANISOU  149  CG2 VAL C  19     6837   6298   9905  -1348   2127  -1199       C  \nATOM    150  N   THR C  20       7.830 -17.006 -14.526  1.00 56.57           N  \nANISOU  150  N   THR C  20     6113   6342   9039   -674   1344  -1332       N  \nATOM    151  CA  THR C  20       8.953 -16.311 -15.126  1.00 54.74           C  \nANISOU  151  CA  THR C  20     5862   6320   8616   -441   1137  -1249       C  \nATOM    152  C   THR C  20       8.646 -14.844 -15.432  1.00 52.80           C  \nANISOU  152  C   THR C  20     5417   6421   8222   -377    984  -1197       C  \nATOM    153  O   THR C  20       7.617 -14.544 -15.972  1.00 53.96           O  \nANISOU  153  O   THR C  20     5344   6744   8412   -478    945  -1359       O  \nATOM    154  CB  THR C  20       9.483 -17.020 -16.414  1.00 55.96           C  \nANISOU  154  CB  THR C  20     5959   6520   8782   -404   1055  -1481       C  \nATOM    155  OG1 THR C  20      10.058 -18.276 -16.076  1.00 57.00           O  \nANISOU  155  OG1 THR C  20     6312   6295   9050   -389   1177  -1488       O  \nATOM    156  CG2 THR C  20      10.526 -16.172 -17.110  1.00 53.81           C  \nANISOU  156  CG2 THR C  20     5630   6520   8295   -202    868  -1413       C  \nATOM    157  N   ILE C  21       9.567 -13.954 -15.093  1.00 50.27           N  \nANISOU  157  N   ILE C  21     5175   6187   7738   -203    892   -978       N  \nATOM    158  CA  ILE C  21       9.406 -12.535 -15.398  1.00 48.68           C  \nANISOU  158  CA  ILE C  21     4827   6265   7403   -128    752   -908       C  \nATOM    159  C   ILE C  21      10.659 -11.985 -16.049  1.00 47.52           C  \nANISOU  159  C   ILE C  21     4704   6272   7078     34    608   -827       C  \nATOM    160  O   ILE C  21      11.757 -12.474 -15.791  1.00 48.37           O  \nANISOU  160  O   ILE C  21     4954   6263   7161    120    628   -761       O  \nATOM    161  CB  ILE C  21       9.025 -11.725 -14.159  1.00 48.32           C  \nANISOU  161  CB  ILE C  21     4832   6173   7354   -132    826   -732       C  \nATOM    162  CG1 ILE C  21      10.078 -11.825 -13.080  1.00 47.69           C  \nANISOU  162  CG1 ILE C  21     4996   5924   7200    -44    880   -520       C  \nATOM    163  CG2 ILE C  21       7.676 -12.202 -13.612  1.00 48.21           C  \nANISOU  163  CG2 ILE C  21     4750   6050   7515   -322    996   -844       C  \nATOM    164  CD1 ILE C  21       9.792 -10.863 -11.929  1.00 47.85           C  \nANISOU  164  CD1 ILE C  21     5062   5949   7167    -42    936   -367       C  \nATOM    165  N   THR C  22      10.526 -11.012 -16.914  1.00 46.83           N  \nANISOU  165  N   THR C  22     4479   6445   6870     78    467   -836       N  \nATOM    166  CA  THR C  22      11.648 -10.563 -17.678  1.00 45.96           C  \nANISOU  166  CA  THR C  22     4384   6491   6586    187    363   -786       C  \nATOM    167  C   THR C  22      11.978  -9.123 -17.508  1.00 44.93           C  \nANISOU  167  C   THR C  22     4259   6483   6327    266    287   -590       C  \nATOM    168  O   THR C  22      11.165  -8.327 -17.120  1.00 44.71           O  \nANISOU  168  O   THR C  22     4182   6474   6331    257    270   -523       O  \nATOM    169  CB  THR C  22      11.459 -10.801 -19.153  1.00 47.70           C  \nANISOU  169  CB  THR C  22     4481   6922   6720    161    268   -978       C  \nATOM    170  OG1 THR C  22      10.432  -9.957 -19.627  1.00 47.35           O  \nANISOU  170  OG1 THR C  22     4298   7065   6628    144    155   -983       O  \nATOM    171  CG2 THR C  22      11.069 -12.205 -19.413  1.00 49.92           C  \nANISOU  171  CG2 THR C  22     4742   7079   7143     60    345  -1218       C  \nATOM    172  N   CYS C  23      13.253  -8.831 -17.734  1.00 45.14           N  \nANISOU  172  N   CYS C  23     4349   6572   6230    343    259   -511       N  \nATOM    173  CA  CYS C  23      13.788  -7.486 -17.661  1.00 44.19           C  \nANISOU  173  CA  CYS C  23     4250   6552   5987    395    205   -336       C  \nATOM    174  C   CYS C  23      14.614  -7.247 -18.915  1.00 44.35           C  \nANISOU  174  C   CYS C  23     4240   6776   5833    414    146   -365       C  \nATOM    175  O   CYS C  23      15.440  -8.080 -19.286  1.00 46.05           O  \nANISOU  175  O   CYS C  23     4459   7006   6032    429    184   -473       O  \nATOM    176  CB  CYS C  23      14.660  -7.329 -16.415  1.00 43.32           C  \nANISOU  176  CB  CYS C  23     4252   6305   5903    438    264   -208       C  \nATOM    177  SG  CYS C  23      15.534  -5.755 -16.303  1.00 49.56           S  \nANISOU  177  SG  CYS C  23     5067   7198   6564    468    220    -38       S  \nATOM    178  N   LYS C  24      14.399  -6.113 -19.566  1.00 44.11           N  \nANISOU  178  N   LYS C  24     4190   6897   5672    418     66   -267       N  \nATOM    179  CA  LYS C  24      15.151  -5.788 -20.741  1.00 43.77           C  \nANISOU  179  CA  LYS C  24     4147   7054   5428    412     35   -266       C  \nATOM    180  C   LYS C  24      15.864  -4.478 -20.587  1.00 42.88           C  \nANISOU  180  C   LYS C  24     4105   6964   5222    415     42    -67       C  \nATOM    181  O   LYS C  24      15.287  -3.514 -20.204  1.00 44.11           O  \nANISOU  181  O   LYS C  24     4293   7058   5408    433      1     69       O  \nATOM    182  CB  LYS C  24      14.267  -5.739 -21.965  1.00 46.12           C  \nANISOU  182  CB  LYS C  24     4384   7538   5599    398    -74   -337       C  \nATOM    183  CG  LYS C  24      15.057  -5.453 -23.215  1.00 48.87           C  \nANISOU  183  CG  LYS C  24     4764   8113   5691    375    -86   -331       C  \nATOM    184  CD  LYS C  24      14.277  -5.601 -24.462  1.00 56.51           C  \nANISOU  184  CD  LYS C  24     5684   9297   6488    364   -206   -430       C  \nATOM    185  CE  LYS C  24      15.167  -5.857 -25.654  1.00 58.41           C  \nANISOU  185  CE  LYS C  24     5953   9763   6476    316   -164   -520       C  \nATOM    186  NZ  LYS C  24      15.100  -7.250 -26.104  1.00 58.26           N  \nANISOU  186  NZ  LYS C  24     5849   9794   6490    280   -133   -826       N  \nATOM    187  N   ALA C  25      17.133  -4.445 -20.906  1.00 41.80           N  \nANISOU  187  N   ALA C  25     3983   6910   4987    390    107    -71       N  \nATOM    188  CA  ALA C  25      17.884  -3.228 -20.816  1.00 41.33           C  \nANISOU  188  CA  ALA C  25     3983   6872   4849    353    138     92       C  \nATOM    189  C   ALA C  25      18.063  -2.602 -22.170  1.00 42.71           C  \nANISOU  189  C   ALA C  25     4197   7240   4789    298    127    155       C  \nATOM    190  O   ALA C  25      18.100  -3.276 -23.137  1.00 43.92           O  \nANISOU  190  O   ALA C  25     4313   7553   4819    285    124     30       O  \nATOM    191  CB  ALA C  25      19.190  -3.486 -20.217  1.00 40.01           C  \nANISOU  191  CB  ALA C  25     3786   6684   4731    343    225     46       C  \nATOM    192  N   SER C  26      18.179  -1.297 -22.195  1.00 42.47           N  \nANISOU  192  N   SER C  26     4261   7181   4695    261    130    352       N  \nATOM    193  CA  SER C  26      18.327  -0.516 -23.400  1.00 43.65           C  \nANISOU  193  CA  SER C  26     4504   7477   4603    203    128    478       C  \nATOM    194  C   SER C  26      19.637  -0.742 -24.161  1.00 44.94           C  \nANISOU  194  C   SER C  26     4649   7826   4598     91    268    403       C  \nATOM    195  O   SER C  26      19.727  -0.433 -25.313  1.00 46.12           O  \nANISOU  195  O   SER C  26     4875   8146   4502     32    283    463       O  \nATOM    196  CB  SER C  26      18.075   0.957 -23.125  1.00 43.66           C  \nANISOU  196  CB  SER C  26     4638   7331   4618    197    108    723       C  \nATOM    197  OG  SER C  26      18.957   1.485 -22.208  1.00 40.38           O  \nANISOU  197  OG  SER C  26     4232   6786   4324    124    218    753       O  \nATOM    198  N   GLN C  27      20.643  -1.254 -23.485  1.00 43.29           N  \nANISOU  198  N   GLN C  27     4338   7594   4517     68    368    272       N  \nATOM    199  CA  GLN C  27      21.921  -1.568 -24.075  1.00 44.77           C  \nANISOU  199  CA  GLN C  27     4450   7962   4599    -21    512    149       C  \nATOM    200  C   GLN C  27      22.506  -2.709 -23.258  1.00 43.08           C  \nANISOU  200  C   GLN C  27     4081   7699   4588     62    531    -60       C  \nATOM    201  O   GLN C  27      22.005  -3.011 -22.225  1.00 42.89           O  \nANISOU  201  O   GLN C  27     4052   7495   4747    155    451    -54       O  \nATOM    202  CB  GLN C  27      22.827  -0.358 -24.079  1.00 45.32           C  \nANISOU  202  CB  GLN C  27     4574   8039   4606   -169    635    291       C  \nATOM    203  CG  GLN C  27      23.422  -0.059 -22.782  1.00 45.43           C  \nANISOU  203  CG  GLN C  27     4519   7903   4837   -175    657    283       C  \nATOM    204  CD  GLN C  27      24.061   1.296 -22.690  1.00 49.72           C  \nANISOU  204  CD  GLN C  27     5137   8400   5354   -341    763    431       C  \nATOM    205  OE1 GLN C  27      23.522   2.274 -23.107  1.00 48.05           O  \nANISOU  205  OE1 GLN C  27     5100   8110   5046   -394    756    636       O  \nATOM    206  NE2 GLN C  27      25.207   1.343 -22.092  1.00 47.84           N  \nANISOU  206  NE2 GLN C  27     4761   8195   5220   -417    853    319       N  \nATOM    207  N   ASP C  28      23.552  -3.356 -23.733  1.00 44.20           N  \nANISOU  207  N   ASP C  28     4102   8000   4692     40    640   -246       N  \nATOM    208  CA  ASP C  28      24.141  -4.460 -23.017  1.00 43.44           C  \nANISOU  208  CA  ASP C  28     3865   7846   4794    159    641   -436       C  \nATOM    209  C   ASP C  28      24.579  -3.996 -21.667  1.00 41.71           C  \nANISOU  209  C   ASP C  28     3620   7481   4744    186    607   -351       C  \nATOM    210  O   ASP C  28      25.169  -2.967 -21.560  1.00 41.86           O  \nANISOU  210  O   ASP C  28     3637   7544   4722     70    668   -260       O  \nATOM    211  CB  ASP C  28      25.402  -4.878 -23.709  1.00 46.21           C  \nANISOU  211  CB  ASP C  28     4064   8407   5085    123    783   -636       C  \nATOM    212  CG  ASP C  28      25.210  -5.983 -24.632  1.00 51.06           C  \nANISOU  212  CG  ASP C  28     4642   9123   5635    175    809   -848       C  \nATOM    213  OD1 ASP C  28      24.172  -6.066 -25.276  1.00 57.84           O  \nANISOU  213  OD1 ASP C  28     5610   9999   6368    155    748   -818       O  \nATOM    214  OD2 ASP C  28      26.109  -6.798 -24.719  1.00 60.52           O  \nANISOU  214  OD2 ASP C  28     5686  10389   6918    244    886  -1071       O  \nATOM    215  N   ILE C  29      24.313  -4.777 -20.641  1.00 39.86           N  \nANISOU  215  N   ILE C  29     3376   7077   4691    328    518   -389       N  \nATOM    216  CA  ILE C  29      24.754  -4.383 -19.297  1.00 38.88           C  \nANISOU  216  CA  ILE C  29     3236   6843   4694    362    470   -319       C  \nATOM    217  C   ILE C  29      25.706  -5.426 -18.685  1.00 38.90           C  \nANISOU  217  C   ILE C  29     3103   6843   4832    514    442   -475       C  \nATOM    218  O   ILE C  29      25.865  -5.473 -17.484  1.00 39.20           O  \nANISOU  218  O   ILE C  29     3153   6771   4969    596    358   -427       O  \nATOM    219  CB  ILE C  29      23.564  -4.123 -18.371  1.00 37.23           C  \nANISOU  219  CB  ILE C  29     3173   6422   4551    394    379   -169       C  \nATOM    220  CG1 ILE C  29      22.614  -5.308 -18.381  1.00 35.10           C  \nANISOU  220  CG1 ILE C  29     2950   6033   4350    497    334   -229       C  \nATOM    221  CG2 ILE C  29      22.828  -2.838 -18.768  1.00 36.96           C  \nANISOU  221  CG2 ILE C  29     3248   6377   4417    273    389     -3       C  \nATOM    222  CD1 ILE C  29      21.590  -5.238 -17.260  1.00 33.05           C  \nANISOU  222  CD1 ILE C  29     2804   5569   4183    530    274   -116       C  \nATOM    223  N   TYR C  30      26.294  -6.276 -19.515  1.00 40.48           N  \nANISOU  223  N   TYR C  30     3185   7162   5031    567    504   -663       N  \nATOM    224  CA  TYR C  30      27.327  -7.213 -19.118  1.00 42.07           C  \nANISOU  224  CA  TYR C  30     3230   7380   5371    736    482   -830       C  \nATOM    225  C   TYR C  30      26.971  -8.060 -17.884  1.00 41.97           C  \nANISOU  225  C   TYR C  30     3309   7123   5514    929    347   -775       C  \nATOM    226  O   TYR C  30      27.852  -8.420 -17.094  1.00 41.91           O  \nANISOU  226  O   TYR C  30     3204   7109   5609   1077    271   -819       O  \nATOM    227  CB  TYR C  30      28.631  -6.462 -18.902  1.00 43.56           C  \nANISOU  227  CB  TYR C  30     3232   7757   5560    674    519   -880       C  \nATOM    228  CG  TYR C  30      29.138  -5.908 -20.175  1.00 46.34           C  \nANISOU  228  CG  TYR C  30     3488   8347   5769    491    692   -967       C  \nATOM    229  CD1 TYR C  30      30.209  -6.513 -20.841  1.00 50.57           C  \nANISOU  229  CD1 TYR C  30     3800   9078   6336    537    796  -1214       C  \nATOM    230  CD2 TYR C  30      28.556  -4.787 -20.748  1.00 46.81           C  \nANISOU  230  CD2 TYR C  30     3689   8438   5658    278    764   -803       C  \nATOM    231  CE1 TYR C  30      30.665  -6.029 -22.054  1.00 53.99           C  \nANISOU  231  CE1 TYR C  30     4159   9749   6605    345    990  -1300       C  \nATOM    232  CE2 TYR C  30      29.017  -4.296 -21.968  1.00 48.84           C  \nANISOU  232  CE2 TYR C  30     3899   8912   5743     98    939   -856       C  \nATOM    233  CZ  TYR C  30      30.073  -4.915 -22.606  1.00 51.40           C  \nANISOU  233  CZ  TYR C  30     4007   9446   6076    117   1063  -1105       C  \nATOM    234  OH  TYR C  30      30.529  -4.439 -23.819  1.00 56.15           O  \nANISOU  234  OH  TYR C  30     4573  10279   6478    -82   1267  -1161       O  \nATOM    235  N   SER C  31      25.684  -8.393 -17.755  1.00 40.95           N  \nANISOU  235  N   SER C  31     3363   6803   5392    923    321   -682       N  \nATOM    236  CA  SER C  31      25.184  -9.174 -16.632  1.00 41.65           C  \nANISOU  236  CA  SER C  31     3584   6639   5602   1061    233   -603       C  \nATOM    237  C   SER C  31      25.403  -8.566 -15.238  1.00 42.04           C  \nANISOU  237  C   SER C  31     3685   6636   5651   1089    139   -447       C  \nATOM    238  O   SER C  31      25.284  -9.297 -14.224  1.00 42.61           O  \nANISOU  238  O   SER C  31     3866   6525   5798   1230     62   -381       O  \nATOM    239  CB  SER C  31      25.720 -10.605 -16.648  1.00 43.20           C  \nANISOU  239  CB  SER C  31     3741   6728   5943   1266    217   -751       C  \nATOM    240  OG  SER C  31      25.508 -11.217 -17.901  1.00 46.91           O  \nANISOU  240  OG  SER C  31     4166   7242   6414   1234    311   -933       O  \nATOM    241  N   TYR C  32      25.657  -7.247 -15.173  1.00 41.55           N  \nANISOU  241  N   TYR C  32     3575   6717   5495    946    151   -384       N  \nATOM    242  CA  TYR C  32      25.679  -6.546 -13.889  1.00 42.11           C  \nANISOU  242  CA  TYR C  32     3711   6740   5545    934     73   -259       C  \nATOM    243  C   TYR C  32      24.254  -6.154 -13.575  1.00 40.72           C  \nANISOU  243  C   TYR C  32     3723   6407   5341    844     98   -119       C  \nATOM    244  O   TYR C  32      23.862  -5.015 -13.729  1.00 41.25           O  \nANISOU  244  O   TYR C  32     3812   6510   5348    701    137    -54       O  \nATOM    245  CB  TYR C  32      26.697  -5.372 -13.852  1.00 42.97           C  \nANISOU  245  CB  TYR C  32     3671   7051   5604    820     80   -295       C  \nATOM    246  CG  TYR C  32      28.102  -5.908 -13.886  1.00 45.07           C  \nANISOU  246  CG  TYR C  32     3718   7475   5930    943     35   -456       C  \nATOM    247  CD1 TYR C  32      28.748  -6.394 -12.736  1.00 45.32           C  \nANISOU  247  CD1 TYR C  32     3713   7494   6010   1125   -118   -465       C  \nATOM    248  CD2 TYR C  32      28.776  -6.011 -15.094  1.00 46.05           C  \nANISOU  248  CD2 TYR C  32     3665   7772   6057    897    142   -610       C  \nATOM    249  CE1 TYR C  32      30.043  -6.944 -12.820  1.00 46.14           C  \nANISOU  249  CE1 TYR C  32     3579   7756   6195   1278   -181   -632       C  \nATOM    250  CE2 TYR C  32      30.055  -6.540 -15.173  1.00 47.49           C  \nANISOU  250  CE2 TYR C  32     3607   8113   6322   1024    115   -793       C  \nATOM    251  CZ  TYR C  32      30.678  -7.009 -14.058  1.00 47.58           C  \nANISOU  251  CZ  TYR C  32     3558   8109   6412   1224    -53   -808       C  \nATOM    252  OH  TYR C  32      31.945  -7.526 -14.262  1.00 51.56           O  \nANISOU  252  OH  TYR C  32     3783   8789   7015   1369    -84  -1013       O  \nATOM    253  N   LEU C  33      23.479  -7.181 -13.297  1.00 40.92           N  \nANISOU  253  N   LEU C  33     3868   6251   5428    928     93    -96       N  \nATOM    254  CA  LEU C  33      22.079  -7.098 -13.059  1.00 39.57           C  \nANISOU  254  CA  LEU C  33     3839   5932   5263    855    134     -7       C  \nATOM    255  C   LEU C  33      21.684  -7.840 -11.818  1.00 39.87           C  \nANISOU  255  C   LEU C  33     4034   5775   5339    938    111     75       C  \nATOM    256  O   LEU C  33      22.086  -8.941 -11.615  1.00 41.23           O  \nANISOU  256  O   LEU C  33     4242   5851   5571   1070     81     51       O  \nATOM    257  CB  LEU C  33      21.295  -7.654 -14.229  1.00 40.65           C  \nANISOU  257  CB  LEU C  33     3960   6053   5433    813    194    -90       C  \nATOM    258  CG  LEU C  33      19.797  -7.493 -14.007  1.00 41.93           C  \nANISOU  258  CG  LEU C  33     4218   6093   5619    728    231    -25       C  \nATOM    259  CD1 LEU C  33      19.117  -6.686 -14.979  1.00 42.60           C  \nANISOU  259  CD1 LEU C  33     4248   6289   5650    627    243    -30       C  \nATOM    260  CD2 LEU C  33      19.055  -8.717 -13.643  1.00 44.98           C  \nANISOU  260  CD2 LEU C  33     4700   6280   6110    758    270    -51       C  \nATOM    261  N   SER C  34      20.868  -7.202 -11.011  1.00 39.29           N  \nANISOU  261  N   SER C  34     4065   5634   5228    857    136    175       N  \nATOM    262  CA  SER C  34      20.338  -7.765  -9.782  1.00 39.12           C  \nANISOU  262  CA  SER C  34     4223   5439   5202    892    151    271       C  \nATOM    263  C   SER C  34      18.802  -7.785  -9.739  1.00 38.25           C  \nANISOU  263  C   SER C  34     4190   5202   5139    774    267    293       C  \nATOM    264  O   SER C  34      18.123  -6.949 -10.328  1.00 36.12           O  \nANISOU  264  O   SER C  34     3839   5002   4882    675    302    263       O  \nATOM    265  CB  SER C  34      20.929  -6.970  -8.623  1.00 39.28           C  \nANISOU  265  CB  SER C  34     4284   5532   5108    905     82    340       C  \nATOM    266  OG  SER C  34      20.323  -7.345  -7.431  1.00 43.35           O  \nANISOU  266  OG  SER C  34     4993   5907   5570    911    114    442       O  \nATOM    267  N   TRP C  35      18.248  -8.785  -9.063  1.00 39.06           N  \nANISOU  267  N   TRP C  35     4448   5114   5279    788    329    344       N  \nATOM    268  CA  TRP C  35      16.834  -8.850  -8.855  1.00 37.69           C  \nANISOU  268  CA  TRP C  35     4330   4830   5160    659    459    347       C  \nATOM    269  C   TRP C  35      16.535  -8.612  -7.381  1.00 37.75           C  \nANISOU  269  C   TRP C  35     4506   4767   5067    629    516    464       C  \nATOM    270  O   TRP C  35      17.163  -9.238  -6.531  1.00 39.26           O  \nANISOU  270  O   TRP C  35     4857   4878   5179    721    478    563       O  \nATOM    271  CB  TRP C  35      16.296 -10.197  -9.300  1.00 39.14           C  \nANISOU  271  CB  TRP C  35     4560   4839   5473    641    537    289       C  \nATOM    272  CG  TRP C  35      16.285 -10.469 -10.774  1.00 39.17           C  \nANISOU  272  CG  TRP C  35     4400   4918   5564    633    510    133       C  \nATOM    273  CD1 TRP C  35      17.223 -11.148 -11.506  1.00 38.32           C  \nANISOU  273  CD1 TRP C  35     4248   4824   5488    742    448     54       C  \nATOM    274  CD2 TRP C  35      15.253 -10.106 -11.685  1.00 38.35           C  \nANISOU  274  CD2 TRP C  35     4156   4900   5514    516    543     22       C  \nATOM    275  NE1 TRP C  35      16.836 -11.189 -12.826  1.00 36.93           N  \nANISOU  275  NE1 TRP C  35     3925   4749   5355    678    453   -102       N  \nATOM    276  CE2 TRP C  35      15.620 -10.588 -12.953  1.00 36.31           C  \nANISOU  276  CE2 TRP C  35     3792   4716   5286    545    497   -116       C  \nATOM    277  CE3 TRP C  35      14.055  -9.412 -11.552  1.00 38.95           C  \nANISOU  277  CE3 TRP C  35     4174   5011   5614    404    599     14       C  \nATOM    278  CZ2 TRP C  35      14.840 -10.386 -14.074  1.00 37.70           C  \nANISOU  278  CZ2 TRP C  35     3825   5016   5481    461    486   -245       C  \nATOM    279  CZ3 TRP C  35      13.265  -9.215 -12.681  1.00 38.48           C  \nANISOU  279  CZ3 TRP C  35     3949   5065   5604    341    575   -114       C  \nATOM    280  CH2 TRP C  35      13.669  -9.673 -13.921  1.00 38.39           C  \nANISOU  280  CH2 TRP C  35     3853   5144   5587    368    508   -232       C  \nATOM    281  N   LEU C  36      15.581  -7.715  -7.108  1.00 35.61           N  \nANISOU  281  N   LEU C  36     4201   4533   4794    513    602    446       N  \nATOM    282  CA  LEU C  36      15.083  -7.422  -5.797  1.00 37.70           C  \nANISOU  282  CA  LEU C  36     4608   4749   4964    451    699    514       C  \nATOM    283  C   LEU C  36      13.609  -7.821  -5.618  1.00 38.24           C  \nANISOU  283  C   LEU C  36     4698   4700   5132    310    893    475       C  \nATOM    284  O   LEU C  36      12.812  -7.793  -6.571  1.00 38.24           O  \nANISOU  284  O   LEU C  36     4530   4716   5281    250    926    364       O  \nATOM    285  CB  LEU C  36      15.167  -5.912  -5.483  1.00 36.63           C  \nANISOU  285  CB  LEU C  36     4400   4755   4760    426    669    485       C  \nATOM    286  CG  LEU C  36      16.528  -5.261  -5.507  1.00 38.98           C  \nANISOU  286  CG  LEU C  36     4656   5187   4964    509    508    494       C  \nATOM    287  CD1 LEU C  36      16.908  -5.016  -6.986  1.00 37.01           C  \nANISOU  287  CD1 LEU C  36     4222   5022   4817    533    430    429       C  \nATOM    288  CD2 LEU C  36      16.493  -3.956  -4.707  1.00 40.31           C  \nANISOU  288  CD2 LEU C  36     4839   5429   5048    452    525    468       C  \nATOM    289  N   GLN C  37      13.259  -8.114  -4.361  1.00 40.41           N  \nANISOU  289  N   GLN C  37     5167   4881   5303    250   1021    558       N  \nATOM    290  CA  GLN C  37      11.917  -8.518  -3.939  1.00 40.91           C  \nANISOU  290  CA  GLN C  37     5270   4834   5437     86   1251    524       C  \nATOM    291  C   GLN C  37      11.446  -7.585  -2.854  1.00 42.34           C  \nANISOU  291  C   GLN C  37     5497   5088   5499     15   1362    518       C  \nATOM    292  O   GLN C  37      12.203  -7.253  -1.899  1.00 42.13           O  \nANISOU  292  O   GLN C  37     5634   5111   5261     72   1306    612       O  \nATOM    293  CB  GLN C  37      11.965  -9.902  -3.349  1.00 43.31           C  \nANISOU  293  CB  GLN C  37     5826   4926   5701     57   1349    648       C  \nATOM    294  CG  GLN C  37      10.617 -10.575  -2.963  1.00 45.82           C  \nANISOU  294  CG  GLN C  37     6205   5092   6112   -155   1628    613       C  \nATOM    295  CD  GLN C  37      10.867 -11.834  -2.142  1.00 48.17           C  \nANISOU  295  CD  GLN C  37     6841   5148   6311   -174   1727    800       C  \nATOM    296  OE1 GLN C  37      11.620 -11.773  -1.196  1.00 46.86           O  \nANISOU  296  OE1 GLN C  37     6900   4991   5914    -75   1660    969       O  \nATOM    297  NE2 GLN C  37      10.298 -12.993  -2.544  1.00 47.91           N  \nANISOU  297  NE2 GLN C  37     6855   4894   6453   -289   1868    772       N  \nATOM    298  N   GLN C  38      10.153  -7.249  -2.942  1.00 42.60           N  \nANISOU  298  N   GLN C  38     5385   5131   5668   -113   1530    389       N  \nATOM    299  CA  GLN C  38       9.496  -6.458  -1.936  1.00 43.52           C  \nANISOU  299  CA  GLN C  38     5523   5302   5709   -197   1690    339       C  \nATOM    300  C   GLN C  38       8.180  -7.105  -1.655  1.00 45.90           C  \nANISOU  300  C   GLN C  38     5804   5515   6119   -381   1958    266       C  \nATOM    301  O   GLN C  38       7.294  -7.058  -2.504  1.00 45.83           O  \nANISOU  301  O   GLN C  38     5544   5529   6338   -429   1991    116       O  \nATOM    302  CB  GLN C  38       9.277  -5.036  -2.423  1.00 41.12           C  \nANISOU  302  CB  GLN C  38     4988   5131   5503   -136   1609    209       C  \nATOM    303  CG  GLN C  38       8.590  -4.185  -1.378  1.00 45.32           C  \nANISOU  303  CG  GLN C  38     5530   5708   5982   -209   1786    119       C  \nATOM    304  CD  GLN C  38       8.643  -2.746  -1.730  1.00 43.25           C  \nANISOU  304  CD  GLN C  38     5103   5529   5798   -116   1683     20       C  \nATOM    305  OE1 GLN C  38       8.541  -2.382  -2.909  1.00 46.33           O  \nANISOU  305  OE1 GLN C  38     5300   5941   6359    -36   1547    -17       O  \nATOM    306  NE2 GLN C  38       8.899  -1.916  -0.742  1.00 46.52           N  \nANISOU  306  NE2 GLN C  38     5618   5984   6070   -122   1730    -12       N  \nATOM    307  N   LYS C  39       8.085  -7.750  -0.497  1.00 48.28           N  \nANISOU  307  N   LYS C  39     6371   5723   6249   -488   2143    374       N  \nATOM    308  CA  LYS C  39       6.839  -8.348  -0.045  1.00 52.19           C  \nANISOU  308  CA  LYS C  39     6875   6133   6822   -710   2456    306       C  \nATOM    309  C   LYS C  39       5.917  -7.232   0.413  1.00 53.07           C  \nANISOU  309  C   LYS C  39     6803   6387   6972   -779   2613    123       C  \nATOM    310  O   LYS C  39       6.384  -6.153   0.745  1.00 50.96           O  \nANISOU  310  O   LYS C  39     6528   6238   6593   -668   2508    105       O  \nATOM    311  CB  LYS C  39       7.093  -9.322   1.098  1.00 54.65           C  \nANISOU  311  CB  LYS C  39     7576   6292   6894   -804   2616    513       C  \nATOM    312  CG  LYS C  39       7.927 -10.541   0.688  1.00 56.57           C  \nANISOU  312  CG  LYS C  39     8014   6342   7136   -719   2480    693       C  \nATOM    313  CD  LYS C  39       7.978 -11.580   1.834  1.00 64.91           C  \nANISOU  313  CD  LYS C  39     9486   7200   7973   -823   2670    921       C  \nATOM    314  CE  LYS C  39       9.238 -12.449   1.783  1.00 68.22           C  \nANISOU  314  CE  LYS C  39    10166   7465   8288   -624   2445   1154       C  \nATOM    315  NZ  LYS C  39       9.069 -13.682   0.950  1.00 70.89           N  \nANISOU  315  NZ  LYS C  39    10516   7543   8874   -666   2485   1156       N  \nATOM    316  N   PRO C  40       4.621  -7.456   0.412  1.00 56.39           N  \nANISOU  316  N   PRO C  40     7054   6799   7572   -958   2865    -37       N  \nATOM    317  CA  PRO C  40       3.733  -6.347   0.689  1.00 57.10           C  \nANISOU  317  CA  PRO C  40     6907   7033   7755   -980   2990   -248       C  \nATOM    318  C   PRO C  40       3.952  -5.805   2.065  1.00 59.07           C  \nANISOU  318  C   PRO C  40     7383   7335   7726  -1015   3135   -208       C  \nATOM    319  O   PRO C  40       4.019  -6.511   3.031  1.00 60.97           O  \nANISOU  319  O   PRO C  40     7916   7507   7743  -1153   3325    -81       O  \nATOM    320  CB  PRO C  40       2.354  -6.964   0.550  1.00 60.32           C  \nANISOU  320  CB  PRO C  40     7109   7416   8391  -1197   3263   -424       C  \nATOM    321  CG  PRO C  40       2.543  -8.145  -0.197  1.00 60.00           C  \nANISOU  321  CG  PRO C  40     7116   7238   8442  -1248   3196   -344       C  \nATOM    322  CD  PRO C  40       3.853  -8.675   0.174  1.00 58.58           C  \nANISOU  322  CD  PRO C  40     7318   6936   8001  -1158   3062    -68       C  \nATOM    323  N   GLY C  41       4.078  -4.499   2.105  1.00 59.08           N  \nANISOU  323  N   GLY C  41     7253   7455   7739   -881   3033   -321       N  \nATOM    324  CA  GLY C  41       4.295  -3.761   3.319  1.00 61.00           C  \nANISOU  324  CA  GLY C  41     7666   7776   7736   -897   3142   -347       C  \nATOM    325  C   GLY C  41       5.691  -3.799   3.867  1.00 60.73           C  \nANISOU  325  C   GLY C  41     7953   7747   7375   -808   2950   -141       C  \nATOM    326  O   GLY C  41       5.929  -3.269   4.911  1.00 62.69           O  \nANISOU  326  O   GLY C  41     8364   8077   7379   -833   3025   -165       O  \nATOM    327  N   LYS C  42       6.622  -4.393   3.152  1.00 59.00           N  \nANISOU  327  N   LYS C  42     7802   7459   7153   -697   2694     34       N  \nATOM    328  CA  LYS C  42       7.937  -4.643   3.678  1.00 58.87           C  \nANISOU  328  CA  LYS C  42     8074   7454   6841   -608   2509    232       C  \nATOM    329  C   LYS C  42       9.074  -4.035   2.883  1.00 55.25           C  \nANISOU  329  C   LYS C  42     7514   7045   6431   -413   2170    253       C  \nATOM    330  O   LYS C  42       8.843  -3.400   1.905  1.00 55.03           O  \nANISOU  330  O   LYS C  42     7226   7030   6650   -350   2083    139       O  \nATOM    331  CB  LYS C  42       8.097  -6.126   3.868  1.00 60.55           C  \nANISOU  331  CB  LYS C  42     8537   7521   6948   -669   2563    448       C  \nATOM    332  CG  LYS C  42       7.044  -6.691   4.785  1.00 66.59           C  \nANISOU  332  CG  LYS C  42     9450   8231   7620   -899   2934    445       C  \nATOM    333  CD  LYS C  42       6.895  -8.150   4.542  1.00 71.12           C  \nANISOU  333  CD  LYS C  42    10179   8594   8247   -985   3019    612       C  \nATOM    334  CE  LYS C  42       6.613  -8.933   5.811  1.00 76.80           C  \nANISOU  334  CE  LYS C  42    11278   9228   8673  -1164   3297    780       C  \nATOM    335  NZ  LYS C  42       7.228 -10.284   5.738  1.00 79.28           N  \nANISOU  335  NZ  LYS C  42    11891   9311   8920  -1123   3219   1057       N  \nATOM    336  N   SER C  43      10.292  -4.129   3.377  1.00 54.17           N  \nANISOU  336  N   SER C  43     7581   6957   6044   -323   1985    388       N  \nATOM    337  CA  SER C  43      11.432  -3.537   2.690  1.00 51.88           C  \nANISOU  337  CA  SER C  43     7182   6734   5795   -168   1689    388       C  \nATOM    338  C   SER C  43      12.047  -4.309   1.515  1.00 49.07           C  \nANISOU  338  C   SER C  43     6749   6307   5588    -58   1500    492       C  \nATOM    339  O   SER C  43      11.875  -5.488   1.393  1.00 48.41           O  \nANISOU  339  O   SER C  43     6766   6104   5521    -75   1551    605       O  \nATOM    340  CB  SER C  43      12.487  -3.118   3.680  1.00 53.10           C  \nANISOU  340  CB  SER C  43     7513   7016   5644   -120   1557    422       C  \nATOM    341  OG  SER C  43      12.618  -4.045   4.704  1.00 57.78           O  \nANISOU  341  OG  SER C  43     8403   7597   5952   -149   1616    584       O  \nATOM    342  N   LEU C  44      12.750  -3.603   0.654  1.00 46.68           N  \nANISOU  342  N   LEU C  44     6271   6069   5394     39   1302    440       N  \nATOM    343  CA  LEU C  44      13.418  -4.192  -0.484  1.00 45.56           C  \nANISOU  343  CA  LEU C  44     6038   5898   5375    141   1130    503       C  \nATOM    344  C   LEU C  44      14.475  -5.163  -0.048  1.00 46.77           C  \nANISOU  344  C   LEU C  44     6380   6038   5351    238    998    659       C  \nATOM    345  O   LEU C  44      15.199  -4.907   0.864  1.00 48.44           O  \nANISOU  345  O   LEU C  44     6720   6343   5343    277    913    697       O  \nATOM    346  CB  LEU C  44      14.146  -3.123  -1.252  1.00 44.42           C  \nANISOU  346  CB  LEU C  44     5715   5853   5309    208    961    427       C  \nATOM    347  CG  LEU C  44      13.406  -2.109  -2.067  1.00 46.07           C  \nANISOU  347  CG  LEU C  44     5720   6060   5722    179   1004    309       C  \nATOM    348  CD1 LEU C  44      14.429  -1.234  -2.662  1.00 43.62           C  \nANISOU  348  CD1 LEU C  44     5318   5827   5428    235    836    289       C  \nATOM    349  CD2 LEU C  44      12.631  -2.801  -3.130  1.00 45.83           C  \nANISOU  349  CD2 LEU C  44     5568   5964   5880    176   1040    306       C  \nATOM    350  N   LYS C  45      14.571  -6.270  -0.743  1.00 46.15           N  \nANISOU  350  N   LYS C  45     6307   5846   5380    290    967    732       N  \nATOM    351  CA  LYS C  45      15.582  -7.254  -0.474  1.00 47.61           C  \nANISOU  351  CA  LYS C  45     6653   5986   5448    426    826    878       C  \nATOM    352  C   LYS C  45      16.198  -7.768  -1.774  1.00 45.27           C  \nANISOU  352  C   LYS C  45     6199   5662   5337    536    691    851       C  \nATOM    353  O   LYS C  45      15.500  -8.050  -2.693  1.00 44.44           O  \nANISOU  353  O   LYS C  45     5978   5480   5425    475    776    782       O  \nATOM    354  CB  LYS C  45      14.934  -8.381   0.320  1.00 50.47           C  \nANISOU  354  CB  LYS C  45     7287   6163   5724    363    996   1020       C  \nATOM    355  CG  LYS C  45      15.821  -9.472   0.729  1.00 55.34           C  \nANISOU  355  CG  LYS C  45     8127   6679   6217    520    867   1206       C  \nATOM    356  CD  LYS C  45      15.005 -10.604   1.242  1.00 60.38           C  \nANISOU  356  CD  LYS C  45     9030   7074   6835    422   1080   1346       C  \nATOM    357  CE  LYS C  45      15.821 -11.837   1.485  1.00 64.80           C  \nANISOU  357  CE  LYS C  45     9833   7460   7328    603    953   1552       C  \nATOM    358  NZ  LYS C  45      14.923 -13.018   1.564  1.00 67.52           N  \nANISOU  358  NZ  LYS C  45    10393   7495   7765    475   1195   1655       N  \nATOM    359  N   THR C  46      17.507  -7.884  -1.824  1.00 44.72           N  \nANISOU  359  N   THR C  46     6113   5678   5201    698    480    886       N  \nATOM    360  CA  THR C  46      18.182  -8.397  -2.984  1.00 42.90           C  \nANISOU  360  CA  THR C  46     5732   5438   5127    809    368    842       C  \nATOM    361  C   THR C  46      18.136  -9.899  -2.997  1.00 43.96           C  \nANISOU  361  C   THR C  46     6032   5350   5318    892    396    945       C  \nATOM    362  O   THR C  46      18.433 -10.520  -2.022  1.00 45.48           O  \nANISOU  362  O   THR C  46     6456   5457   5368    977    361   1095       O  \nATOM    363  CB  THR C  46      19.624  -8.030  -2.983  1.00 42.72           C  \nANISOU  363  CB  THR C  46     5606   5593   5030    953    149    818       C  \nATOM    364  OG1 THR C  46      19.762  -6.623  -3.004  1.00 43.06           O  \nANISOU  364  OG1 THR C  46     5504   5816   5038    860    130    714       O  \nATOM    365  CG2 THR C  46      20.270  -8.576  -4.171  1.00 41.26           C  \nANISOU  365  CG2 THR C  46     5260   5409   5006   1057     72    750       C  \nATOM    366  N   LEU C  47      17.727 -10.478  -4.101  1.00 42.61           N  \nANISOU  366  N   LEU C  47     5759   5075   5352    862    462    862       N  \nATOM    367  CA  LEU C  47      17.721 -11.904  -4.250  1.00 43.52           C  \nANISOU  367  CA  LEU C  47     6019   4948   5567    934    496    923       C  \nATOM    368  C   LEU C  47      18.837 -12.431  -5.133  1.00 44.01           C  \nANISOU  368  C   LEU C  47     5956   5030   5736   1126    339    854       C  \nATOM    369  O   LEU C  47      19.407 -13.444  -4.843  1.00 44.19           O  \nANISOU  369  O   LEU C  47     6128   4889   5774   1291    274    945       O  \nATOM    370  CB  LEU C  47      16.426 -12.342  -4.844  1.00 43.72           C  \nANISOU  370  CB  LEU C  47     6022   4825   5764    750    699    838       C  \nATOM    371  CG  LEU C  47      15.154 -12.033  -4.110  1.00 43.44           C  \nANISOU  371  CG  LEU C  47     6075   4744   5683    542    905    866       C  \nATOM    372  CD1 LEU C  47      14.082 -12.818  -4.691  1.00 47.39           C  \nANISOU  372  CD1 LEU C  47     6556   5069   6381    388   1083    775       C  \nATOM    373  CD2 LEU C  47      15.334 -12.344  -2.690  1.00 42.70           C  \nANISOU  373  CD2 LEU C  47     6282   4558   5384    572    936   1067       C  \nATOM    374  N   ILE C  48      19.137 -11.726  -6.213  1.00 42.44           N  \nANISOU  374  N   ILE C  48     5488   5027   5608   1106    286    692       N  \nATOM    375  CA  ILE C  48      20.108 -12.209  -7.227  1.00 42.61           C  \nANISOU  375  CA  ILE C  48     5353   5092   5742   1255    183    577       C  \nATOM    376  C   ILE C  48      21.068 -11.104  -7.546  1.00 41.64           C  \nANISOU  376  C   ILE C  48     5011   5262   5548   1288     58    500       C  \nATOM    377  O   ILE C  48      20.666  -9.918  -7.591  1.00 40.81           O  \nANISOU  377  O   ILE C  48     4823   5304   5379   1141     93    477       O  \nATOM    378  CB  ILE C  48      19.433 -12.743  -8.546  1.00 42.19           C  \nANISOU  378  CB  ILE C  48     5197   4965   5868   1161    294    416       C  \nATOM    379  CG1 ILE C  48      18.820 -14.110  -8.310  1.00 45.06           C  \nANISOU  379  CG1 ILE C  48     5770   5001   6350   1157    404    459       C  \nATOM    380  CG2 ILE C  48      20.435 -12.868  -9.725  1.00 40.06           C  \nANISOU  380  CG2 ILE C  48     4716   4834   5671   1274    208    252       C  \nATOM    381  CD1 ILE C  48      17.471 -13.985  -7.854  1.00 47.64           C  \nANISOU  381  CD1 ILE C  48     6198   5230   6672    946    569    504       C  \nATOM    382  N   TYR C  49      22.313 -11.494  -7.795  1.00 42.96           N  \nANISOU  382  N   TYR C  49     5076   5500   5745   1477    -74    448       N  \nATOM    383  CA  TYR C  49      23.388 -10.631  -8.239  1.00 42.56           C  \nANISOU  383  CA  TYR C  49     4782   5726   5662   1504   -174    339       C  \nATOM    384  C   TYR C  49      24.180 -11.232  -9.414  1.00 42.85           C  \nANISOU  384  C   TYR C  49     4630   5818   5831   1613   -190    172       C  \nATOM    385  O   TYR C  49      24.215 -12.422  -9.591  1.00 43.62           O  \nANISOU  385  O   TYR C  49     4801   5730   6043   1748   -184    154       O  \nATOM    386  CB  TYR C  49      24.273 -10.175  -7.083  1.00 43.74           C  \nANISOU  386  CB  TYR C  49     4943   6004   5672   1606   -334    412       C  \nATOM    387  CG  TYR C  49      25.181 -11.213  -6.500  1.00 46.81           C  \nANISOU  387  CG  TYR C  49     5391   6321   6071   1880   -493    467       C  \nATOM    388  CD1 TYR C  49      26.499 -11.257  -6.854  1.00 48.52           C  \nANISOU  388  CD1 TYR C  49     5370   6720   6343   2044   -632    340       C  \nATOM    389  CD2 TYR C  49      24.727 -12.128  -5.583  1.00 49.23           C  \nANISOU  389  CD2 TYR C  49     5991   6381   6332   1980   -502    651       C  \nATOM    390  CE1 TYR C  49      27.335 -12.184  -6.340  1.00 50.61           C  \nANISOU  390  CE1 TYR C  49     5666   6926   6635   2333   -802    383       C  \nATOM    391  CE2 TYR C  49      25.575 -13.071  -5.054  1.00 51.56           C  \nANISOU  391  CE2 TYR C  49     6363   6590   6634   2265   -671    729       C  \nATOM    392  CZ  TYR C  49      26.882 -13.089  -5.445  1.00 51.34           C  \nANISOU  392  CZ  TYR C  49     6073   6753   6679   2459   -835    589       C  \nATOM    393  OH  TYR C  49      27.750 -13.995  -4.939  1.00 54.53           O  \nANISOU  393  OH  TYR C  49     6524   7085   7109   2780  -1029    655       O  \nATOM    394  N   ARG C  50      24.719 -10.363 -10.247  1.00 40.90           N  \nANISOU  394  N   ARG C  50     4154   5814   5569   1529   -182     44       N  \nATOM    395  CA  ARG C  50      25.390 -10.724 -11.474  1.00 42.34           C  \nANISOU  395  CA  ARG C  50     4139   6103   5843   1577   -153   -139       C  \nATOM    396  C   ARG C  50      24.531 -11.666 -12.281  1.00 42.16           C  \nANISOU  396  C   ARG C  50     4198   5898   5922   1553    -42   -203       C  \nATOM    397  O   ARG C  50      25.014 -12.656 -12.742  1.00 42.34           O  \nANISOU  397  O   ARG C  50     4176   5850   6060   1698    -43   -320       O  \nATOM    398  CB  ARG C  50      26.796 -11.278 -11.295  1.00 44.89           C  \nANISOU  398  CB  ARG C  50     4316   6508   6231   1815   -278   -227       C  \nATOM    399  CG  ARG C  50      27.643 -11.221 -12.559  1.00 47.45           C  \nANISOU  399  CG  ARG C  50     4369   7043   6616   1811   -219   -453       C  \nATOM    400  CD  ARG C  50      28.216  -9.848 -12.793  1.00 49.61           C  \nANISOU  400  CD  ARG C  50     4453   7605   6788   1637   -200   -500       C  \nATOM    401  NE  ARG C  50      28.642  -9.604 -14.153  1.00 48.31           N  \nANISOU  401  NE  ARG C  50     4093   7633   6628   1532    -72   -680       N  \nATOM    402  CZ  ARG C  50      29.715 -10.152 -14.698  1.00 53.17           C  \nANISOU  402  CZ  ARG C  50     4486   8380   7334   1664    -65   -879       C  \nATOM    403  NH1 ARG C  50      30.044  -9.887 -15.931  1.00 54.60           N  \nANISOU  403  NH1 ARG C  50     4508   8750   7485   1538     81  -1041       N  \nATOM    404  NH2 ARG C  50      30.452 -10.990 -14.010  1.00 53.70           N  \nANISOU  404  NH2 ARG C  50     4495   8389   7519   1935   -204   -917       N  \nATOM    405  N   ALA C  51      23.247 -11.360 -12.400  1.00 40.11           N  \nANISOU  405  N   ALA C  51     4047   5559   5631   1374     49   -144       N  \nATOM    406  CA  ALA C  51      22.318 -12.113 -13.215  1.00 40.35           C  \nANISOU  406  CA  ALA C  51     4124   5457   5750   1304    151   -235       C  \nATOM    407  C   ALA C  51      21.863 -13.474 -12.714  1.00 42.96           C  \nANISOU  407  C   ALA C  51     4644   5465   6211   1390    185   -205       C  \nATOM    408  O   ALA C  51      20.729 -13.802 -12.816  1.00 43.88           O  \nANISOU  408  O   ALA C  51     4856   5438   6375   1262    278   -208       O  \nATOM    409  CB  ALA C  51      22.807 -12.202 -14.609  1.00 40.45           C  \nANISOU  409  CB  ALA C  51     3954   5639   5774   1294    187   -438       C  \nATOM    410  N   ASN C  52      22.773 -14.310 -12.261  1.00 44.28           N  \nANISOU  410  N   ASN C  52     4855   5514   6453   1611    111   -193       N  \nATOM    411  CA  ASN C  52      22.386 -15.631 -11.842  1.00 47.19           C  \nANISOU  411  CA  ASN C  52     5438   5533   6959   1698    154   -149       C  \nATOM    412  C   ASN C  52      22.954 -16.088 -10.539  1.00 49.19           C  \nANISOU  412  C   ASN C  52     5874   5620   7194   1905     45     50       C  \nATOM    413  O   ASN C  52      22.937 -17.253 -10.265  1.00 49.67           O  \nANISOU  413  O   ASN C  52     6114   5377   7380   2034     61     91       O  \nATOM    414  CB  ASN C  52      22.777 -16.636 -12.891  1.00 49.28           C  \nANISOU  414  CB  ASN C  52     5619   5713   7391   1797    195   -376       C  \nATOM    415  CG  ASN C  52      24.224 -16.562 -13.232  1.00 51.29           C  \nANISOU  415  CG  ASN C  52     5665   6162   7659   2005     91   -490       C  \nATOM    416  OD1 ASN C  52      25.056 -16.435 -12.381  1.00 54.23           O  \nANISOU  416  OD1 ASN C  52     6038   6567   7997   2184    -42   -373       O  \nATOM    417  ND2 ASN C  52      24.517 -16.602 -14.485  1.00 56.98           N  \nANISOU  417  ND2 ASN C  52     6191   7042   8416   1971    154   -734       N  \nATOM    418  N   ARG C  53      23.483 -15.186  -9.746  1.00 48.30           N  \nANISOU  418  N   ARG C  53     5726   5702   6922   1942    -73    170       N  \nATOM    419  CA  ARG C  53      24.053 -15.615  -8.484  1.00 51.83           C  \nANISOU  419  CA  ARG C  53     6352   6029   7310   2155   -210    363       C  \nATOM    420  C   ARG C  53      23.055 -15.311  -7.400  1.00 51.34           C  \nANISOU  420  C   ARG C  53     6543   5862   7102   2000   -144    575       C  \nATOM    421  O   ARG C  53      22.623 -14.175  -7.207  1.00 48.62           O  \nANISOU  421  O   ARG C  53     6136   5711   6626   1815   -111    587       O  \nATOM    422  CB  ARG C  53      25.432 -15.010  -8.235  1.00 53.03           C  \nANISOU  422  CB  ARG C  53     6293   6470   7386   2331   -409    326       C  \nATOM    423  CG  ARG C  53      26.442 -15.525  -9.287  1.00 56.25           C  \nANISOU  423  CG  ARG C  53     6450   6955   7968   2506   -446     96       C  \nATOM    424  CD  ARG C  53      27.821 -14.992  -9.084  1.00 60.89           C  \nANISOU  424  CD  ARG C  53     6782   7840   8512   2671   -628     22       C  \nATOM    425  NE  ARG C  53      28.578 -15.870  -8.183  1.00 65.77           N  \nANISOU  425  NE  ARG C  53     7501   8319   9167   3014   -827    134       N  \nATOM    426  CZ  ARG C  53      29.675 -15.525  -7.527  1.00 67.21           C  \nANISOU  426  CZ  ARG C  53     7531   8726   9278   3201  -1048    138       C  \nATOM    427  NH1 ARG C  53      30.249 -16.401  -6.734  1.00 73.51           N  \nANISOU  427  NH1 ARG C  53     8451   9375  10104   3537  -1245    263       N  \nATOM    428  NH2 ARG C  53      30.209 -14.319  -7.660  1.00 67.36           N  \nANISOU  428  NH2 ARG C  53     7278   9111   9203   3057  -1079     17       N  \nATOM    429  N   LEU C  54      22.639 -16.381  -6.758  1.00 54.21           N  \nANISOU  429  N   LEU C  54     7200   5890   7505   2066    -96    730       N  \nATOM    430  CA  LEU C  54      21.688 -16.355  -5.659  1.00 55.50           C  \nANISOU  430  CA  LEU C  54     7650   5904   7530   1924      4    943       C  \nATOM    431  C   LEU C  54      22.303 -15.812  -4.373  1.00 56.94           C  \nANISOU  431  C   LEU C  54     7938   6234   7463   2041   -163   1128       C  \nATOM    432  O   LEU C  54      23.376 -16.255  -3.973  1.00 59.73           O  \nANISOU  432  O   LEU C  54     8319   6585   7787   2323   -365   1200       O  \nATOM    433  CB  LEU C  54      21.271 -17.800  -5.392  1.00 58.24           C  \nANISOU  433  CB  LEU C  54     8305   5820   8003   1982    105   1063       C  \nATOM    434  CG  LEU C  54      19.934 -18.051  -4.727  1.00 58.78           C  \nANISOU  434  CG  LEU C  54     8647   5661   8024   1734    332   1204       C  \nATOM    435  CD1 LEU C  54      18.801 -17.485  -5.572  1.00 54.64           C  \nANISOU  435  CD1 LEU C  54     7924   5243   7591   1425    518   1002       C  \nATOM    436  CD2 LEU C  54      19.804 -19.556  -4.537  1.00 58.82           C  \nANISOU  436  CD2 LEU C  54     8960   5208   8178   1824    415   1323       C  \nATOM    437  N   ILE C  55      21.587 -14.947  -3.671  1.00 56.42           N  \nANISOU  437  N   ILE C  55     7944   6278   7215   1840    -82   1201       N  \nATOM    438  CA  ILE C  55      22.055 -14.471  -2.382  1.00 58.69           C  \nANISOU  438  CA  ILE C  55     8364   6700   7233   1922   -224   1361       C  \nATOM    439  C   ILE C  55      21.843 -15.585  -1.331  1.00 62.57           C  \nANISOU  439  C   ILE C  55     9267   6886   7619   2029   -207   1634       C  \nATOM    440  O   ILE C  55      20.823 -16.286  -1.348  1.00 62.77           O  \nANISOU  440  O   ILE C  55     9498   6619   7729   1879     18   1705       O  \nATOM    441  CB  ILE C  55      21.330 -13.172  -1.979  1.00 56.87           C  \nANISOU  441  CB  ILE C  55     8083   6674   6849   1667   -119   1321       C  \nATOM    442  CG1 ILE C  55      21.580 -12.068  -3.026  1.00 55.28           C  \nANISOU  442  CG1 ILE C  55     7517   6735   6751   1575   -141   1088       C  \nATOM    443  CG2 ILE C  55      21.763 -12.726  -0.614  1.00 58.09           C  \nANISOU  443  CG2 ILE C  55     8396   6971   6705   1733   -252   1460       C  \nATOM    444  CD1 ILE C  55      22.547 -10.964  -2.612  1.00 55.42           C  \nANISOU  444  CD1 ILE C  55     7373   7064   6618   1622   -322   1028       C  \nATOM    445  N   THR C  56      22.806 -15.772  -0.429  1.00 65.81           N  \nANISOU  445  N   THR C  56     9802   7359   7844   2284   -446   1790       N  \nATOM    446  CA  THR C  56      22.604 -16.739   0.663  1.00 69.93           C  \nANISOU  446  CA  THR C  56    10765   7599   8206   2388   -441   2097       C  \nATOM    447  C   THR C  56      21.314 -16.419   1.429  1.00 69.65           C  \nANISOU  447  C   THR C  56    10975   7503   7984   2073   -175   2208       C  \nATOM    448  O   THR C  56      20.917 -15.255   1.572  1.00 67.45           O  \nANISOU  448  O   THR C  56    10544   7489   7592   1868   -108   2086       O  \nATOM    449  CB  THR C  56      23.801 -16.835   1.659  1.00 73.42           C  \nANISOU  449  CB  THR C  56    11313   8180   8403   2718   -778   2266       C  \nATOM    450  OG1 THR C  56      24.041 -15.562   2.247  1.00 71.94           O  \nANISOU  450  OG1 THR C  56    10985   8387   7962   2624   -881   2188       O  \nATOM    451  CG2 THR C  56      25.075 -17.309   0.951  1.00 74.01           C  \nANISOU  451  CG2 THR C  56    11139   8288   8692   3062  -1032   2152       C  \nATOM    452  N   GLY C  57      20.656 -17.475   1.890  1.00 72.89           N  \nANISOU  452  N   GLY C  57    11763   7544   8385   2031     -4   2428       N  \nATOM    453  CA  GLY C  57      19.372 -17.372   2.543  1.00 73.13           C  \nANISOU  453  CA  GLY C  57    12029   7475   8280   1713    301   2521       C  \nATOM    454  C   GLY C  57      18.207 -17.390   1.571  1.00 71.13           C  \nANISOU  454  C   GLY C  57    11605   7100   8320   1414    601   2314       C  \nATOM    455  O   GLY C  57      17.058 -17.516   2.007  1.00 71.97           O  \nANISOU  455  O   GLY C  57    11889   7072   8383   1141    892   2371       O  \nATOM    456  N   VAL C  58      18.470 -17.248   0.267  1.00 68.26           N  \nANISOU  456  N   VAL C  58    10888   6807   8240   1452    537   2064       N  \nATOM    457  CA  VAL C  58      17.388 -17.236  -0.732  1.00 66.14           C  \nANISOU  457  CA  VAL C  58    10428   6467   8233   1186    778   1846       C  \nATOM    458  C   VAL C  58      17.146 -18.659  -1.212  1.00 69.11           C  \nANISOU  458  C   VAL C  58    10973   6429   8856   1197    897   1875       C  \nATOM    459  O   VAL C  58      18.110 -19.374  -1.513  1.00 71.07           O  \nANISOU  459  O   VAL C  58    11256   6544   9202   1473    720   1910       O  \nATOM    460  CB  VAL C  58      17.707 -16.314  -1.944  1.00 61.58           C  \nANISOU  460  CB  VAL C  58     9404   6190   7801   1193    664   1560       C  \nATOM    461  CG1 VAL C  58      16.649 -16.448  -3.029  1.00 58.69           C  \nANISOU  461  CG1 VAL C  58     8857   5749   7690    961    867   1346       C  \nATOM    462  CG2 VAL C  58      17.836 -14.877  -1.493  1.00 58.33           C  \nANISOU  462  CG2 VAL C  58     8843   6137   7183   1143    586   1518       C  \nATOM    463  N   PRO C  59      15.870 -19.085  -1.285  1.00 70.83           N  \nANISOU  463  N   PRO C  59    11281   6435   9195    897   1203   1838       N  \nATOM    464  CA  PRO C  59      15.613 -20.498  -1.683  1.00 73.96           C  \nANISOU  464  CA  PRO C  59    11869   6389   9841    876   1342   1856       C  \nATOM    465  C   PRO C  59      15.971 -20.923  -3.134  1.00 73.04           C  \nANISOU  465  C   PRO C  59    11483   6228  10039    968   1262   1584       C  \nATOM    466  O   PRO C  59      15.898 -20.124  -4.076  1.00 70.48           O  \nANISOU  466  O   PRO C  59    10783   6209   9785    910   1205   1327       O  \nATOM    467  CB  PRO C  59      14.112 -20.672  -1.425  1.00 74.97           C  \nANISOU  467  CB  PRO C  59    12091   6370  10022    481   1703   1828       C  \nATOM    468  CG  PRO C  59      13.794 -19.644  -0.349  1.00 74.43           C  \nANISOU  468  CG  PRO C  59    12072   6572   9634    380   1746   1946       C  \nATOM    469  CD  PRO C  59      14.681 -18.467  -0.650  1.00 70.11           C  \nANISOU  469  CD  PRO C  59    11221   6438   8978    585   1450   1840       C  \nATOM    470  N   SER C  60      16.315 -22.203  -3.286  1.00 75.98           N  \nANISOU  470  N   SER C  60    12078   6202  10590   1104   1275   1648       N  \nATOM    471  CA  SER C  60      16.759 -22.788  -4.563  1.00 75.49           C  \nANISOU  471  CA  SER C  60    11815   6047  10818   1222   1208   1392       C  \nATOM    472  C   SER C  60      15.777 -22.539  -5.722  1.00 72.51           C  \nANISOU  472  C   SER C  60    11125   5794  10631    919   1369   1047       C  \nATOM    473  O   SER C  60      16.184 -22.401  -6.883  1.00 70.53           O  \nANISOU  473  O   SER C  60    10577   5711  10507    997   1263    783       O  \nATOM    474  CB  SER C  60      16.977 -24.300  -4.373  1.00 80.52           C  \nANISOU  474  CB  SER C  60    12815   6137  11642   1352   1276   1527       C  \nATOM    475  OG  SER C  60      17.614 -24.895  -5.497  1.00 82.37           O  \nANISOU  475  OG  SER C  60    12877   6277  12143   1533   1186   1281       O  \nATOM    476  N   ARG C  61      14.486 -22.453  -5.407  1.00 71.56           N  \nANISOU  476  N   ARG C  61    11057   5620  10513    576   1621   1039       N  \nATOM    477  CA  ARG C  61      13.449 -22.293  -6.428  1.00 69.72           C  \nANISOU  477  CA  ARG C  61    10530   5498  10462    287   1764    713       C  \nATOM    478  C   ARG C  61      13.533 -20.984  -7.262  1.00 64.53           C  \nANISOU  478  C   ARG C  61     9449   5344   9724    302   1598    506       C  \nATOM    479  O   ARG C  61      12.941 -20.873  -8.347  1.00 62.48           O  \nANISOU  479  O   ARG C  61     8917   5214   9605    151   1633    219       O  \nATOM    480  CB  ARG C  61      12.075 -22.426  -5.770  1.00 71.71           C  \nANISOU  480  CB  ARG C  61    10907   5612  10728    -72   2067    755       C  \nATOM    481  CG  ARG C  61      11.773 -21.450  -4.648  1.00 72.11           C  \nANISOU  481  CG  ARG C  61    11016   5882  10498   -136   2103    957       C  \nATOM    482  CD  ARG C  61      10.265 -21.473  -4.322  1.00 74.92           C  \nANISOU  482  CD  ARG C  61    11357   6185  10922   -535   2431    876       C  \nATOM    483  NE  ARG C  61       9.852 -20.447  -3.358  1.00 75.07           N  \nANISOU  483  NE  ARG C  61    11373   6455  10694   -619   2493    996       N  \nATOM    484  CZ  ARG C  61      10.070 -20.501  -2.046  1.00 76.80           C  \nANISOU  484  CZ  ARG C  61    11944   6572  10661   -587   2561   1304       C  \nATOM    485  NH1 ARG C  61       9.633 -19.520  -1.273  1.00 74.46           N  \nANISOU  485  NH1 ARG C  61    11605   6534  10152   -683   2633   1347       N  \nATOM    486  NH2 ARG C  61      10.710 -21.541  -1.496  1.00 80.09           N  \nANISOU  486  NH2 ARG C  61    12770   6625  11033   -451   2558   1568       N  \nATOM    487  N   PHE C  62      14.291 -20.024  -6.750  1.00 61.36           N  \nANISOU  487  N   PHE C  62     9011   5212   9092    486   1415    656       N  \nATOM    488  CA  PHE C  62      14.484 -18.742  -7.420  1.00 57.76           C  \nANISOU  488  CA  PHE C  62     8210   5189   8546    512   1264    511       C  \nATOM    489  C   PHE C  62      15.741 -18.903  -8.226  1.00 56.91           C  \nANISOU  489  C   PHE C  62     7981   5160   8480    773   1061    420       C  \nATOM    490  O   PHE C  62      16.692 -19.534  -7.760  1.00 59.02           O  \nANISOU  490  O   PHE C  62     8432   5253   8738   1009    966    562       O  \nATOM    491  CB  PHE C  62      14.696 -17.620  -6.408  1.00 56.83           C  \nANISOU  491  CB  PHE C  62     8122   5299   8170    554   1190    698       C  \nATOM    492  CG  PHE C  62      13.427 -17.123  -5.750  1.00 56.49           C  \nANISOU  492  CG  PHE C  62     8103   5290   8069    290   1391    724       C  \nATOM    493  CD1 PHE C  62      12.729 -16.042  -6.277  1.00 55.48           C  \nANISOU  493  CD1 PHE C  62     7682   5447   7950    158   1400    556       C  \nATOM    494  CD2 PHE C  62      12.972 -17.690  -4.579  1.00 58.85           C  \nANISOU  494  CD2 PHE C  62     8720   5346   8294    190   1571    923       C  \nATOM    495  CE1 PHE C  62      11.580 -15.567  -5.658  1.00 52.86           C  \nANISOU  495  CE1 PHE C  62     7339   5157   7588    -57   1585    553       C  \nATOM    496  CE2 PHE C  62      11.816 -17.224  -3.957  1.00 58.44           C  \nANISOU  496  CE2 PHE C  62     8669   5347   8188    -61   1785    921       C  \nATOM    497  CZ  PHE C  62      11.134 -16.158  -4.493  1.00 56.81           C  \nANISOU  497  CZ  PHE C  62     8133   5430   8020   -174   1788    722       C  \nATOM    498  N   SER C  63      15.742 -18.397  -9.443  1.00 53.56           N  \nANISOU  498  N   SER C  63     7254   4991   8104    739    999    180       N  \nATOM    499  CA  SER C  63      16.915 -18.525 -10.284  1.00 53.12           C  \nANISOU  499  CA  SER C  63     7059   5041   8082    958    842     59       C  \nATOM    500  C   SER C  63      16.853 -17.459 -11.330  1.00 50.29           C  \nANISOU  500  C   SER C  63     6389   5065   7653    886    774   -117       C  \nATOM    501  O   SER C  63      15.761 -17.172 -11.829  1.00 50.04           O  \nANISOU  501  O   SER C  63     6246   5113   7652    671    860   -239       O  \nATOM    502  CB  SER C  63      16.969 -19.919 -10.939  1.00 54.74           C  \nANISOU  502  CB  SER C  63     7338   4938   8521    993    918   -102       C  \nATOM    503  OG  SER C  63      16.305 -19.931 -12.199  1.00 53.79           O  \nANISOU  503  OG  SER C  63     7001   4939   8496    815    981   -397       O  \nATOM    504  N   GLY C  64      18.007 -16.866 -11.648  1.00 49.21           N  \nANISOU  504  N   GLY C  64     6111   5164   7420   1061    619   -129       N  \nATOM    505  CA  GLY C  64      18.091 -15.821 -12.675  1.00 46.54           C  \nANISOU  505  CA  GLY C  64     5509   5180   6991    998    559   -267       C  \nATOM    506  C   GLY C  64      18.898 -16.335 -13.871  1.00 47.79           C  \nANISOU  506  C   GLY C  64     5526   5414   7219   1104    524   -489       C  \nATOM    507  O   GLY C  64      19.830 -17.123 -13.667  1.00 48.81           O  \nANISOU  507  O   GLY C  64     5717   5396   7432   1305    485   -491       O  \nATOM    508  N   SER C  65      18.529 -15.924 -15.097  1.00 45.84           N  \nANISOU  508  N   SER C  65     5095   5391   6930    981    537   -676       N  \nATOM    509  CA  SER C  65      19.321 -16.206 -16.305  1.00 47.96           C  \nANISOU  509  CA  SER C  65     5211   5809   7203   1055    518   -901       C  \nATOM    510  C   SER C  65      19.254 -14.975 -17.242  1.00 45.63           C  \nANISOU  510  C   SER C  65     4730   5890   6715    946    477   -949       C  \nATOM    511  O   SER C  65      18.653 -13.949 -16.900  1.00 44.12           O  \nANISOU  511  O   SER C  65     4536   5805   6423    845    449   -802       O  \nATOM    512  CB  SER C  65      18.819 -17.460 -17.003  1.00 50.09           C  \nANISOU  512  CB  SER C  65     5512   5880   7639   1004    611  -1138       C  \nATOM    513  OG  SER C  65      17.402 -17.408 -16.968  1.00 54.32           O  \nANISOU  513  OG  SER C  65     6080   6361   8198    786    674  -1145       O  \nATOM    514  N   GLY C  66      19.906 -15.100 -18.391  1.00 45.93           N  \nANISOU  514  N   GLY C  66     4632   6112   6705    976    482  -1149       N  \nATOM    515  CA  GLY C  66      20.010 -14.044 -19.354  1.00 45.13           C  \nANISOU  515  CA  GLY C  66     4393   6355   6400    884    456  -1183       C  \nATOM    516  C   GLY C  66      21.430 -13.510 -19.498  1.00 45.43           C  \nANISOU  516  C   GLY C  66     4320   6588   6350    987    439  -1172       C  \nATOM    517  O   GLY C  66      22.355 -13.884 -18.741  1.00 46.81           O  \nANISOU  517  O   GLY C  66     4501   6654   6629   1152    416  -1133       O  \nATOM    518  N   SER C  67      21.605 -12.660 -20.498  1.00 45.13           N  \nANISOU  518  N   SER C  67     4179   6848   6120    887    451  -1214       N  \nATOM    519  CA  SER C  67      22.883 -11.985 -20.748  1.00 45.52           C  \nANISOU  519  CA  SER C  67     4106   7122   6068    920    469  -1213       C  \nATOM    520  C   SER C  67      22.599 -10.900 -21.752  1.00 45.29           C  \nANISOU  520  C   SER C  67     4045   7364   5798    753    489  -1177       C  \nATOM    521  O   SER C  67      21.471 -10.797 -22.243  1.00 43.80           O  \nANISOU  521  O   SER C  67     3915   7191   5534    656    460  -1170       O  \nATOM    522  CB  SER C  67      23.885 -12.966 -21.331  1.00 47.53           C  \nANISOU  522  CB  SER C  67     4245   7410   6401   1041    538  -1470       C  \nATOM    523  OG  SER C  67      23.301 -13.558 -22.461  1.00 49.14           O  \nANISOU  523  OG  SER C  67     4449   7670   6552    963    597  -1683       O  \nATOM    524  N   GLY C  68      23.615 -10.092 -22.055  1.00 46.33           N  \nANISOU  524  N   GLY C  68     4083   7708   5811    718    535  -1152       N  \nATOM    525  CA  GLY C  68      23.450  -8.963 -22.958  1.00 46.24           C  \nANISOU  525  CA  GLY C  68     4084   7930   5554    556    566  -1067       C  \nATOM    526  C   GLY C  68      22.451  -7.957 -22.409  1.00 44.47           C  \nANISOU  526  C   GLY C  68     3981   7616   5297    489    477   -812       C  \nATOM    527  O   GLY C  68      22.705  -7.332 -21.369  1.00 42.73           O  \nANISOU  527  O   GLY C  68     3781   7297   5156    506    448   -657       O  \nATOM    528  N   GLN C  69      21.317  -7.834 -23.110  1.00 45.00           N  \nANISOU  528  N   GLN C  69     4114   7730   5253    425    428   -796       N  \nATOM    529  CA  GLN C  69      20.199  -6.933 -22.760  1.00 44.15           C  \nANISOU  529  CA  GLN C  69     4099   7551   5124    385    334   -588       C  \nATOM    530  C   GLN C  69      18.997  -7.598 -22.104  1.00 44.06           C  \nANISOU  530  C   GLN C  69     4115   7339   5285    428    266   -613       C  \nATOM    531  O   GLN C  69      18.103  -6.889 -21.632  1.00 43.72           O  \nANISOU  531  O   GLN C  69     4119   7222   5269    414    202   -463       O  \nATOM    532  CB  GLN C  69      19.649  -6.250 -24.007  1.00 45.32           C  \nANISOU  532  CB  GLN C  69     4289   7907   5024    302    296   -538       C  \nATOM    533  CG  GLN C  69      20.611  -5.245 -24.654  1.00 47.53           C  \nANISOU  533  CG  GLN C  69     4595   8368   5094    213    379   -432       C  \nATOM    534  CD  GLN C  69      20.028  -4.678 -25.920  1.00 47.93           C  \nANISOU  534  CD  GLN C  69     4729   8619   4863    147    330   -360       C  \nATOM    535  OE1 GLN C  69      20.579  -4.868 -26.967  1.00 50.31           O  \nANISOU  535  OE1 GLN C  69     5021   9139   4954     82    410   -464       O  \nATOM    536  NE2 GLN C  69      18.859  -4.042 -25.831  1.00 52.13           N  \nANISOU  536  NE2 GLN C  69     5336   9085   5384    179    190   -197       N  \nATOM    537  N   ASP C  70      18.949  -8.934 -22.115  1.00 45.32           N  \nANISOU  537  N   ASP C  70     4244   7406   5568    471    296   -814       N  \nATOM    538  CA  ASP C  70      17.747  -9.703 -21.756  1.00 45.39           C  \nANISOU  538  CA  ASP C  70     4272   7243   5728    463    264   -885       C  \nATOM    539  C   ASP C  70      17.949 -10.695 -20.608  1.00 44.04           C  \nANISOU  539  C   ASP C  70     4154   6789   5790    538    317   -908       C  \nATOM    540  O   ASP C  70      18.718 -11.651 -20.713  1.00 45.19           O  \nANISOU  540  O   ASP C  70     4288   6869   6012    609    370  -1052       O  \nATOM    541  CB  ASP C  70      17.243 -10.453 -22.971  1.00 48.00           C  \nANISOU  541  CB  ASP C  70     4548   7702   5988    408    254  -1125       C  \nATOM    542  CG  ASP C  70      16.842  -9.510 -24.097  1.00 51.34           C  \nANISOU  542  CG  ASP C  70     4950   8410   6147    345    171  -1078       C  \nATOM    543  OD1 ASP C  70      15.852  -8.772 -23.937  1.00 54.08           O  \nANISOU  543  OD1 ASP C  70     5303   8764   6477    327     75   -942       O  \nATOM    544  OD2 ASP C  70      17.547  -9.480 -25.131  1.00 56.34           O  \nANISOU  544  OD2 ASP C  70     5565   9261   6581    321    206  -1169       O  \nATOM    545  N   TYR C  71      17.189 -10.479 -19.555  1.00 40.98           N  \nANISOU  545  N   TYR C  71     3831   6232   5508    524    305   -771       N  \nATOM    546  CA  TYR C  71      17.373 -11.116 -18.268  1.00 40.87           C  \nANISOU  546  CA  TYR C  71     3914   5955   5656    589    349   -703       C  \nATOM    547  C   TYR C  71      16.029 -11.661 -17.778  1.00 42.02           C  \nANISOU  547  C   TYR C  71     4109   5914   5939    505    389   -726       C  \nATOM    548  O   TYR C  71      14.970 -11.121 -18.142  1.00 40.99           O  \nANISOU  548  O   TYR C  71     3912   5884   5777    412    357   -737       O  \nATOM    549  CB  TYR C  71      17.983 -10.100 -17.286  1.00 38.93           C  \nANISOU  549  CB  TYR C  71     3710   5719   5360    636    321   -491       C  \nATOM    550  CG  TYR C  71      19.404  -9.750 -17.729  1.00 38.59           C  \nANISOU  550  CG  TYR C  71     3593   5847   5222    699    306   -511       C  \nATOM    551  CD1 TYR C  71      20.488 -10.520 -17.353  1.00 37.63           C  \nANISOU  551  CD1 TYR C  71     3465   5655   5177    828    313   -566       C  \nATOM    552  CD2 TYR C  71      19.638  -8.672 -18.557  1.00 36.76           C  \nANISOU  552  CD2 TYR C  71     3293   5843   4830    630    292   -480       C  \nATOM    553  CE1 TYR C  71      21.770 -10.243 -17.827  1.00 39.52           C  \nANISOU  553  CE1 TYR C  71     3585   6078   5349    876    315   -630       C  \nATOM    554  CE2 TYR C  71      20.902  -8.382 -19.014  1.00 37.29           C  \nANISOU  554  CE2 TYR C  71     3278   6074   4814    648    316   -521       C  \nATOM    555  CZ  TYR C  71      21.966  -9.169 -18.659  1.00 39.21           C  \nANISOU  555  CZ  TYR C  71     3471   6276   5149    766    332   -614       C  \nATOM    556  OH  TYR C  71      23.219  -8.853 -19.132  1.00 41.57           O  \nANISOU  556  OH  TYR C  71     3644   6767   5381    774    370   -685       O  \nATOM    557  N   SER C  72      16.058 -12.739 -16.994  1.00 43.15           N  \nANISOU  557  N   SER C  72     4366   5791   6238    536    461   -737       N  \nATOM    558  CA  SER C  72      14.827 -13.277 -16.396  1.00 45.14           C  \nANISOU  558  CA  SER C  72     4681   5842   6629    422    543   -747       C  \nATOM    559  C   SER C  72      14.981 -13.804 -15.006  1.00 45.63           C  \nANISOU  559  C   SER C  72     4932   5625   6780    464    619   -593       C  \nATOM    560  O   SER C  72      16.019 -14.333 -14.657  1.00 46.38           O  \nANISOU  560  O   SER C  72     5122   5609   6891    606    604   -544       O  \nATOM    561  CB  SER C  72      14.355 -14.480 -17.192  1.00 48.26           C  \nANISOU  561  CB  SER C  72     5045   6142   7148    344    600   -996       C  \nATOM    562  OG  SER C  72      14.167 -14.114 -18.532  1.00 54.03           O  \nANISOU  562  OG  SER C  72     5612   7149   7765    300    522  -1161       O  \nATOM    563  N   LEU C  73      13.881 -13.765 -14.257  1.00 45.89           N  \nANISOU  563  N   LEU C  73     5017   5543   6875    340    707   -535       N  \nATOM    564  CA  LEU C  73      13.773 -14.443 -12.978  1.00 46.40           C  \nANISOU  564  CA  LEU C  73     5296   5320   7012    332    818   -398       C  \nATOM    565  C   LEU C  73      12.677 -15.530 -12.998  1.00 48.13           C  \nANISOU  565  C   LEU C  73     5561   5309   7415    155    976   -528       C  \nATOM    566  O   LEU C  73      11.559 -15.286 -13.454  1.00 47.91           O  \nANISOU  566  O   LEU C  73     5376   5386   7441     -6   1014   -667       O  \nATOM    567  CB  LEU C  73      13.430 -13.414 -11.938  1.00 44.37           C  \nANISOU  567  CB  LEU C  73     5077   5126   6655    303    833   -220       C  \nATOM    568  CG  LEU C  73      13.318 -13.884 -10.496  1.00 46.76           C  \nANISOU  568  CG  LEU C  73     5624   5188   6955    286    949    -44       C  \nATOM    569  CD1 LEU C  73      14.672 -14.209  -9.939  1.00 46.21           C  \nANISOU  569  CD1 LEU C  73     5715   5039   6804    489    855    102       C  \nATOM    570  CD2 LEU C  73      12.706 -12.795  -9.685  1.00 44.00           C  \nANISOU  570  CD2 LEU C  73     5257   4946   6511    213    989     50       C  \nATOM    571  N   THR C  74      12.988 -16.679 -12.408  1.00 49.82           N  \nANISOU  571  N   THR C  74     5997   5201   7728    186   1069   -470       N  \nATOM    572  CA  THR C  74      12.122 -17.845 -12.406  1.00 51.27           C  \nANISOU  572  CA  THR C  74     6266   5102   8110      8   1245   -590       C  \nATOM    573  C   THR C  74      11.959 -18.359 -10.994  1.00 53.10           C  \nANISOU  573  C   THR C  74     6792   5024   8357    -28   1395   -359       C  \nATOM    574  O   THR C  74      12.943 -18.570 -10.284  1.00 52.20           O  \nANISOU  574  O   THR C  74     6886   4782   8163    165   1337   -152       O  \nATOM    575  CB  THR C  74      12.678 -18.899 -13.315  1.00 53.37           C  \nANISOU  575  CB  THR C  74     6540   5232   8505     75   1228   -781       C  \nATOM    576  OG1 THR C  74      12.516 -18.431 -14.657  1.00 51.99           O  \nANISOU  576  OG1 THR C  74     6091   5372   8290     40   1125  -1023       O  \nATOM    577  CG2 THR C  74      11.964 -20.312 -13.146  1.00 53.78           C  \nANISOU  577  CG2 THR C  74     6758   4876   8798   -101   1435   -886       C  \nATOM    578  N   ILE C  75      10.705 -18.548 -10.653  1.00 54.67           N  \nANISOU  578  N   ILE C  75     6990   5129   8650   -281   1583   -411       N  \nATOM    579  CA  ILE C  75      10.292 -19.169  -9.432  1.00 58.63           C  \nANISOU  579  CA  ILE C  75     7777   5320   9179   -396   1791   -229       C  \nATOM    580  C   ILE C  75       9.730 -20.497  -9.842  1.00 62.54           C  \nANISOU  580  C   ILE C  75     8345   5493   9923   -579   1966   -402       C  \nATOM    581  O   ILE C  75       8.916 -20.571 -10.724  1.00 63.12           O  \nANISOU  581  O   ILE C  75     8175   5672  10134   -759   2003   -685       O  \nATOM    582  CB  ILE C  75       9.145 -18.444  -8.803  1.00 58.50           C  \nANISOU  582  CB  ILE C  75     7670   5435   9121   -606   1934   -216       C  \nATOM    583  CG1 ILE C  75       9.554 -17.068  -8.347  1.00 56.58           C  \nANISOU  583  CG1 ILE C  75     7354   5489   8652   -459   1790    -73       C  \nATOM    584  CG2 ILE C  75       8.683 -19.165  -7.612  1.00 61.16           C  \nANISOU  584  CG2 ILE C  75     8311   5452   9472   -764   2189    -45       C  \nATOM    585  CD1 ILE C  75       8.402 -16.276  -7.957  1.00 58.92           C  \nANISOU  585  CD1 ILE C  75     7496   5947   8943   -640   1913   -130       C  \nATOM    586  N   SER C  76      10.168 -21.550  -9.198  1.00 66.24           N  \nANISOU  586  N   SER C  76     9156   5561  10450   -530   2067   -235       N  \nATOM    587  CA  SER C  76       9.617 -22.859  -9.481  1.00 71.61           C  \nANISOU  587  CA  SER C  76     9954   5862  11392   -727   2269   -388       C  \nATOM    588  C   SER C  76       8.853 -23.256  -8.254  1.00 75.29           C  \nANISOU  588  C   SER C  76    10695   6048  11860   -953   2547   -187       C  \nATOM    589  O   SER C  76       9.346 -23.139  -7.161  1.00 76.29           O  \nANISOU  589  O   SER C  76    11103   6080  11802   -823   2546    140       O  \nATOM    590  CB  SER C  76      10.721 -23.845  -9.755  1.00 73.35           C  \nANISOU  590  CB  SER C  76    10382   5777  11709   -487   2187   -356       C  \nATOM    591  OG  SER C  76      11.765 -23.678  -8.839  1.00 73.56           O  \nANISOU  591  OG  SER C  76    10652   5745  11549   -198   2063    -16       O  \nATOM    592  N   SER C  77       7.650 -23.752  -8.398  1.00 78.75           N  \nANISOU  592  N   SER C  77    11064   6360  12497  -1304   2796   -385       N  \nATOM    593  CA  SER C  77       6.956 -24.055  -7.186  1.00 81.53           C  \nANISOU  593  CA  SER C  77    11682   6472  12823  -1535   3089   -180       C  \nATOM    594  C   SER C  77       6.741 -22.778  -6.408  1.00 79.33           C  \nANISOU  594  C   SER C  77    11309   6550  12282  -1510   3057    -27       C  \nATOM    595  O   SER C  77       7.335 -22.566  -5.371  1.00 79.90           O  \nANISOU  595  O   SER C  77    11666   6568  12123  -1357   3034    300       O  \nATOM    596  CB  SER C  77       7.817 -24.978  -6.318  1.00 84.63           C  \nANISOU  596  CB  SER C  77    12588   6405  13160  -1368   3135    171       C  \nATOM    597  OG  SER C  77       8.504 -25.957  -7.074  1.00 87.01           O  \nANISOU  597  OG  SER C  77    12981   6414  13662  -1218   3050     69       O  \nATOM    598  N   LEU C  78       5.892 -21.924  -6.938  1.00 77.08           N  \nANISOU  598  N   LEU C  78    10615   6632  12036  -1647   3040   -281       N  \nATOM    599  CA  LEU C  78       5.505 -20.703  -6.280  1.00 74.53           C  \nANISOU  599  CA  LEU C  78    10161   6633  11523  -1653   3042   -202       C  \nATOM    600  C   LEU C  78       4.883 -21.044  -4.932  1.00 76.96           C  \nANISOU  600  C   LEU C  78    10758   6719  11762  -1888   3380     -6       C  \nATOM    601  O   LEU C  78       4.209 -22.040  -4.802  1.00 79.67           O  \nANISOU  601  O   LEU C  78    11225   6756  12287  -2170   3659    -68       O  \nATOM    602  CB  LEU C  78       4.468 -20.030  -7.150  1.00 73.80           C  \nANISOU  602  CB  LEU C  78     9587   6880  11571  -1803   3017   -549       C  \nATOM    603  CG  LEU C  78       3.710 -18.868  -6.558  1.00 73.63           C  \nANISOU  603  CG  LEU C  78     9366   7158  11450  -1872   3083   -557       C  \nATOM    604  CD1 LEU C  78       4.625 -17.715  -6.314  1.00 70.49           C  \nANISOU  604  CD1 LEU C  78     8985   7000  10795  -1559   2831   -367       C  \nATOM    605  CD2 LEU C  78       2.622 -18.462  -7.456  1.00 75.98           C  \nANISOU  605  CD2 LEU C  78     9201   7727  11939  -2017   3064   -912       C  \nATOM    606  N   GLU C  79       5.163 -20.232  -3.927  1.00 74.77           N  \nANISOU  606  N   GLU C  79    10609   6591  11210  -1778   3362    227       N  \nATOM    607  CA  GLU C  79       4.646 -20.393  -2.565  1.00 77.02           C  \nANISOU  607  CA  GLU C  79    11185   6730  11347  -1983   3677    432       C  \nATOM    608  C   GLU C  79       3.932 -19.097  -2.220  1.00 74.59           C  \nANISOU  608  C   GLU C  79    10584   6815  10942  -2051   3722    315       C  \nATOM    609  O   GLU C  79       4.180 -18.074  -2.862  1.00 71.13           O  \nANISOU  609  O   GLU C  79     9832   6704  10489  -1854   3455    187       O  \nATOM    610  CB  GLU C  79       5.788 -20.589  -1.567  1.00 77.57           C  \nANISOU  610  CB  GLU C  79    11722   6633  11115  -1741   3581    836       C  \nATOM    611  CG  GLU C  79       6.604 -21.838  -1.770  1.00 80.56           C  \nANISOU  611  CG  GLU C  79    12429   6600  11578  -1606   3515    995       C  \nATOM    612  CD  GLU C  79       5.824 -23.081  -1.419  1.00 86.92           C  \nANISOU  612  CD  GLU C  79    13512   6963  12548  -1937   3892   1035       C  \nATOM    613  OE1 GLU C  79       5.393 -23.190  -0.253  1.00 90.60           O  \nANISOU  613  OE1 GLU C  79    14273   7319  12830  -2119   4161   1253       O  \nATOM    614  OE2 GLU C  79       5.636 -23.949  -2.303  1.00 91.47           O  \nANISOU  614  OE2 GLU C  79    14021   7300  13433  -2034   3936    839       O  \nATOM    615  N   TYR C  80       3.076 -19.141  -1.204  1.00 76.67           N  \nANISOU  615  N   TYR C  80    10963   7029  11136  -2323   4071    362       N  \nATOM    616  CA  TYR C  80       2.368 -17.973  -0.706  1.00 75.88           C  \nANISOU  616  CA  TYR C  80    10620   7266  10944  -2394   4166    249       C  \nATOM    617  C   TYR C  80       3.300 -16.821  -0.412  1.00 72.10           C  \nANISOU  617  C   TYR C  80    10157   7044  10194  -2063   3871    388       C  \nATOM    618  O   TYR C  80       3.053 -15.701  -0.850  1.00 70.07           O  \nANISOU  618  O   TYR C  80     9537   7103   9982  -1968   3728    198       O  \nATOM    619  CB  TYR C  80       1.674 -18.305   0.591  1.00 79.63           C  \nANISOU  619  CB  TYR C  80    11365   7607  11282  -2691   4589    374       C  \nATOM    620  CG  TYR C  80       0.353 -19.003   0.447  1.00 85.06           C  \nANISOU  620  CG  TYR C  80    11890   8171  12256  -3109   4971    136       C  \nATOM    621  CD1 TYR C  80      -0.801 -18.278   0.170  1.00 85.95           C  \nANISOU  621  CD1 TYR C  80    11510   8588  12557  -3275   5092   -215       C  \nATOM    622  CD2 TYR C  80       0.231 -20.385   0.658  1.00 89.74           C  \nANISOU  622  CD2 TYR C  80    12826   8332  12937  -3351   5231    258       C  \nATOM    623  CE1 TYR C  80      -2.040 -18.897   0.081  1.00 88.30           C  \nANISOU  623  CE1 TYR C  80    11613   8806  13128  -3679   5453   -468       C  \nATOM    624  CE2 TYR C  80      -1.011 -21.025   0.553  1.00 92.34           C  \nANISOU  624  CE2 TYR C  80    12992   8545  13546  -3784   5615     13       C  \nATOM    625  CZ  TYR C  80      -2.147 -20.268   0.269  1.00 92.77           C  \nANISOU  625  CZ  TYR C  80    12511   8952  13785  -3954   5725   -362       C  \nATOM    626  OH  TYR C  80      -3.400 -20.845   0.172  1.00 95.93           O  \nANISOU  626  OH  TYR C  80    12687   9286  14476  -4392   6102   -647       O  \nATOM    627  N   GLU C  81       4.376 -17.105   0.319  1.00 72.24           N  \nANISOU  627  N   GLU C  81    10593   6916   9936  -1884   3771    715       N  \nATOM    628  CA  GLU C  81       5.345 -16.088   0.722  1.00 70.16           C  \nANISOU  628  CA  GLU C  81    10376   6883   9396  -1594   3500    850       C  \nATOM    629  C   GLU C  81       6.187 -15.499  -0.428  1.00 66.00           C  \nANISOU  629  C   GLU C  81     9579   6534   8961  -1302   3104    747       C  \nATOM    630  O   GLU C  81       7.120 -14.734  -0.178  1.00 64.86           O  \nANISOU  630  O   GLU C  81     9475   6556   8612  -1066   2867    853       O  \nATOM    631  CB  GLU C  81       6.292 -16.652   1.789  1.00 72.28           C  \nANISOU  631  CB  GLU C  81    11157   6961   9345  -1472   3472   1220       C  \nATOM    632  CG  GLU C  81       7.515 -17.430   1.230  1.00 74.21           C  \nANISOU  632  CG  GLU C  81    11567   7001   9625  -1199   3183   1375       C  \nATOM    633  CD  GLU C  81       8.282 -18.218   2.308  1.00 79.65           C  \nANISOU  633  CD  GLU C  81    12788   7439  10033  -1090   3181   1756       C  \nATOM    634  OE1 GLU C  81       9.528 -18.096   2.333  1.00 79.21           O  \nANISOU  634  OE1 GLU C  81    12824   7437   9832   -764   2853   1901       O  \nATOM    635  OE2 GLU C  81       7.646 -18.953   3.124  1.00 83.56           O  \nANISOU  635  OE2 GLU C  81    13608   7691  10450  -1327   3504   1911       O  \nATOM    636  N   ASP C  82       5.903 -15.854  -1.679  1.00 64.75           N  \nANISOU  636  N   ASP C  82     9158   6352   9093  -1329   3035    537       N  \nATOM    637  CA  ASP C  82       6.614 -15.238  -2.807  1.00 60.45           C  \nANISOU  637  CA  ASP C  82     8353   6003   8609  -1084   2694    429       C  \nATOM    638  C   ASP C  82       5.867 -14.063  -3.420  1.00 58.65           C  \nANISOU  638  C   ASP C  82     7706   6088   8489  -1107   2640    184       C  \nATOM    639  O   ASP C  82       6.423 -13.388  -4.302  1.00 55.86           O  \nANISOU  639  O   ASP C  82     7156   5917   8150   -913   2370    118       O  \nATOM    640  CB  ASP C  82       6.869 -16.262  -3.898  1.00 60.18           C  \nANISOU  640  CB  ASP C  82     8286   5790   8787  -1063   2611    339       C  \nATOM    641  CG  ASP C  82       7.663 -17.414  -3.412  1.00 61.95           C  \nANISOU  641  CG  ASP C  82     8913   5677   8948   -989   2631    574       C  \nATOM    642  OD1 ASP C  82       8.487 -17.193  -2.495  1.00 59.81           O  \nANISOU  642  OD1 ASP C  82     8899   5403   8420   -823   2546    828       O  \nATOM    643  OD2 ASP C  82       7.467 -18.540  -3.947  1.00 61.19           O  \nANISOU  643  OD2 ASP C  82     8874   5314   9061  -1088   2721    498       O  \nATOM    644  N   MET C  83       4.632 -13.807  -2.986  1.00 60.01           N  \nANISOU  644  N   MET C  83     7740   6321   8739  -1331   2894     48       N  \nATOM    645  CA  MET C  83       3.888 -12.642  -3.509  1.00 59.45           C  \nANISOU  645  CA  MET C  83     7265   6539   8783  -1312   2829   -180       C  \nATOM    646  C   MET C  83       4.569 -11.321  -3.144  1.00 56.27           C  \nANISOU  646  C   MET C  83     6865   6329   8183  -1091   2648    -87       C  \nATOM    647  O   MET C  83       5.243 -11.197  -2.116  1.00 55.95           O  \nANISOU  647  O   MET C  83     7113   6243   7899  -1037   2674    110       O  \nATOM    648  CB  MET C  83       2.380 -12.655  -3.145  1.00 62.50           C  \nANISOU  648  CB  MET C  83     7446   6967   9334  -1588   3144   -387       C  \nATOM    649  CG  MET C  83       2.017 -12.740  -1.669  1.00 68.63           C  \nANISOU  649  CG  MET C  83     8469   7661   9946  -1766   3475   -275       C  \nATOM    650  SD  MET C  83       0.291 -13.283  -1.338  1.00 78.93           S  \nANISOU  650  SD  MET C  83     9566   8935  11488  -2175   3924   -530       S  \nATOM    651  CE  MET C  83       0.216 -14.938  -2.019  1.00 79.31           C  \nANISOU  651  CE  MET C  83     9723   8672  11738  -2375   4005   -549       C  \nATOM    652  N   GLY C  84       4.430 -10.352  -4.039  1.00 53.16           N  \nANISOU  652  N   GLY C  84     6160   6146   7892   -961   2449   -231       N  \nATOM    653  CA  GLY C  84       5.056  -9.044  -3.855  1.00 51.04           C  \nANISOU  653  CA  GLY C  84     5874   6035   7483   -764   2276   -170       C  \nATOM    654  C   GLY C  84       5.490  -8.481  -5.190  1.00 48.11           C  \nANISOU  654  C   GLY C  84     5294   5796   7189   -583   1980   -225       C  \nATOM    655  O   GLY C  84       5.057  -8.961  -6.230  1.00 49.11           O  \nANISOU  655  O   GLY C  84     5237   5943   7480   -617   1921   -354       O  \nATOM    656  N   ILE C  85       6.363  -7.481  -5.161  1.00 45.81           N  \nANISOU  656  N   ILE C  85     5043   5597   6766   -408   1802   -133       N  \nATOM    657  CA  ILE C  85       6.861  -6.820  -6.365  1.00 42.78           C  \nANISOU  657  CA  ILE C  85     4502   5336   6416   -247   1542   -153       C  \nATOM    658  C   ILE C  85       8.322  -7.131  -6.528  1.00 41.52           C  \nANISOU  658  C   ILE C  85     4529   5140   6106   -135   1385      0       C  \nATOM    659  O   ILE C  85       9.091  -7.089  -5.563  1.00 40.51           O  \nANISOU  659  O   ILE C  85     4615   4965   5810   -105   1402    130       O  \nATOM    660  CB  ILE C  85       6.654  -5.301  -6.303  1.00 43.11           C  \nANISOU  660  CB  ILE C  85     4413   5499   6465   -147   1477   -189       C  \nATOM    661  CG1 ILE C  85       5.151  -5.003  -6.132  1.00 45.81           C  \nANISOU  661  CG1 ILE C  85     4529   5887   6989   -230   1633   -370       C  \nATOM    662  CG2 ILE C  85       7.214  -4.655  -7.595  1.00 36.03           C  \nANISOU  662  CG2 ILE C  85     3400   4707   5580      4   1220   -170       C  \nATOM    663  CD1 ILE C  85       4.811  -3.622  -5.426  1.00 49.13           C  \nANISOU  663  CD1 ILE C  85     4895   6357   7415   -162   1686   -416       C  \nATOM    664  N   TYR C  86       8.672  -7.509  -7.748  1.00 40.87           N  \nANISOU  664  N   TYR C  86     4353   5096   6080    -78   1236    -38       N  \nATOM    665  CA  TYR C  86      10.023  -7.836  -8.119  1.00 39.87           C  \nANISOU  665  CA  TYR C  86     4339   4960   5848     33   1089     59       C  \nATOM    666  C   TYR C  86      10.565  -6.774  -9.047  1.00 38.26           C  \nANISOU  666  C   TYR C  86     4003   4924   5607    148    902     55       C  \nATOM    667  O   TYR C  86       9.883  -6.381 -10.001  1.00 36.73           O  \nANISOU  667  O   TYR C  86     3621   4831   5500    148    843    -41       O  \nATOM    668  CB  TYR C  86      10.077  -9.184  -8.794  1.00 40.37           C  \nANISOU  668  CB  TYR C  86     4420   4921   5996     -1   1097      0       C  \nATOM    669  CG  TYR C  86       9.745 -10.303  -7.805  1.00 43.43           C  \nANISOU  669  CG  TYR C  86     5010   5084   6406   -115   1293     52       C  \nATOM    670  CD1 TYR C  86       8.435 -10.607  -7.509  1.00 41.91           C  \nANISOU  670  CD1 TYR C  86     4753   4830   6338   -297   1490    -48       C  \nATOM    671  CD2 TYR C  86      10.747 -11.000  -7.140  1.00 43.88           C  \nANISOU  671  CD2 TYR C  86     5321   4995   6355    -36   1281    209       C  \nATOM    672  CE1 TYR C  86       8.103 -11.592  -6.609  1.00 46.92           C  \nANISOU  672  CE1 TYR C  86     5597   5247   6984   -433   1702     12       C  \nATOM    673  CE2 TYR C  86      10.426 -12.027  -6.251  1.00 48.12           C  \nANISOU  673  CE2 TYR C  86     6087   5300   6897   -137   1463    293       C  \nATOM    674  CZ  TYR C  86       9.085 -12.292  -5.985  1.00 47.11           C  \nANISOU  674  CZ  TYR C  86     5914   5101   6885   -353   1689    199       C  \nATOM    675  OH  TYR C  86       8.719 -13.248  -5.118  1.00 49.15           O  \nANISOU  675  OH  TYR C  86     6411   5123   7141   -488   1903    289       O  \nATOM    676  N   TYR C  87      11.787  -6.323  -8.776  1.00 37.11           N  \nANISOU  676  N   TYR C  87     3958   4812   5328    239    809    160       N  \nATOM    677  CA  TYR C  87      12.433  -5.282  -9.565  1.00 37.59           C  \nANISOU  677  CA  TYR C  87     3928   5011   5343    317    665    176       C  \nATOM    678  C   TYR C  87      13.795  -5.738 -10.074  1.00 37.10           C  \nANISOU  678  C   TYR C  87     3903   4991   5202    391    561    210       C  \nATOM    679  O   TYR C  87      14.476  -6.535  -9.429  1.00 38.27           O  \nANISOU  679  O   TYR C  87     4175   5061   5304    425    571    257       O  \nATOM    680  CB  TYR C  87      12.633  -4.016  -8.728  1.00 37.64           C  \nANISOU  680  CB  TYR C  87     3978   5038   5284    329    672    229       C  \nATOM    681  CG  TYR C  87      11.392  -3.491  -8.044  1.00 38.78           C  \nANISOU  681  CG  TYR C  87     4088   5141   5506    273    796    176       C  \nATOM    682  CD1 TYR C  87      11.007  -3.971  -6.800  1.00 41.15           C  \nANISOU  682  CD1 TYR C  87     4509   5355   5771    201    949    180       C  \nATOM    683  CD2 TYR C  87      10.620  -2.499  -8.631  1.00 39.34           C  \nANISOU  683  CD2 TYR C  87     4009   5259   5678    302    765    124       C  \nATOM    684  CE1 TYR C  87       9.879  -3.488  -6.166  1.00 42.01           C  \nANISOU  684  CE1 TYR C  87     4566   5444   5951    140   1094    103       C  \nATOM    685  CE2 TYR C  87       9.490  -2.009  -8.005  1.00 41.43           C  \nANISOU  685  CE2 TYR C  87     4209   5491   6041    274    882     46       C  \nATOM    686  CZ  TYR C  87       9.125  -2.507  -6.773  1.00 42.83           C  \nANISOU  686  CZ  TYR C  87     4483   5600   6188    183   1059     21       C  \nATOM    687  OH  TYR C  87       8.001  -2.022  -6.146  1.00 48.59           O  \nANISOU  687  OH  TYR C  87     5128   6316   7016    144   1206    -84       O  \nATOM    688  N   CYS C  88      14.188  -5.222 -11.233  1.00 37.03           N  \nANISOU  688  N   CYS C  88     3785   5109   5172    423    462    187       N  \nATOM    689  CA  CYS C  88      15.482  -5.540 -11.821  1.00 37.33           C  \nANISOU  689  CA  CYS C  88     3818   5223   5141    482    385    187       C  \nATOM    690  C   CYS C  88      16.335  -4.278 -11.843  1.00 36.51           C  \nANISOU  690  C   CYS C  88     3697   5223   4953    490    329    248       C  \nATOM    691  O   CYS C  88      15.887  -3.227 -12.298  1.00 36.10           O  \nANISOU  691  O   CYS C  88     3598   5215   4900    461    315    271       O  \nATOM    692  CB  CYS C  88      15.311  -6.076 -13.241  1.00 39.03           C  \nANISOU  692  CB  CYS C  88     3930   5520   5377    479    349     89       C  \nATOM    693  SG  CYS C  88      14.754  -4.838 -14.430  1.00 38.84           S  \nANISOU  693  SG  CYS C  88     3795   5655   5306    456    277     98       S  \nATOM    694  N   LEU C  89      17.559  -4.380 -11.340  1.00 35.76           N  \nANISOU  694  N   LEU C  89     3635   5156   4795    532    294    268       N  \nATOM    695  CA  LEU C  89      18.454  -3.231 -11.285  1.00 33.73           C  \nANISOU  695  CA  LEU C  89     3348   4994   4472    506    257    296       C  \nATOM    696  C   LEU C  89      19.790  -3.451 -11.987  1.00 33.90           C  \nANISOU  696  C   LEU C  89     3280   5150   4451    533    210    249       C  \nATOM    697  O   LEU C  89      20.462  -4.455 -11.754  1.00 34.08           O  \nANISOU  697  O   LEU C  89     3294   5175   4480    620    178    209       O  \nATOM    698  CB  LEU C  89      18.712  -2.844  -9.827  1.00 34.27           C  \nANISOU  698  CB  LEU C  89     3505   5015   4498    504    258    329       C  \nATOM    699  CG  LEU C  89      19.952  -1.988  -9.559  1.00 32.30           C  \nANISOU  699  CG  LEU C  89     3213   4873   4186    476    205    314       C  \nATOM    700  CD1 LEU C  89      19.778  -0.590 -10.130  1.00 30.37           C  \nANISOU  700  CD1 LEU C  89     2936   4638   3962    377    240    327       C  \nATOM    701  CD2 LEU C  89      20.249  -1.927  -8.070  1.00 30.25           C  \nANISOU  701  CD2 LEU C  89     3044   4594   3853    492    178    319       C  \nATOM    702  N   GLN C  90      20.181  -2.502 -12.833  1.00 33.85           N  \nANISOU  702  N   GLN C  90     3208   5248   4404    462    216    255       N  \nATOM    703  CA  GLN C  90      21.502  -2.568 -13.488  1.00 34.63           C  \nANISOU  703  CA  GLN C  90     3199   5501   4457    453    209    191       C  \nATOM    704  C   GLN C  90      22.503  -1.717 -12.703  1.00 34.66           C  \nANISOU  704  C   GLN C  90     3172   5556   4441    400    193    186       C  \nATOM    705  O   GLN C  90      22.235  -0.537 -12.379  1.00 34.68           O  \nANISOU  705  O   GLN C  90     3228   5507   4440    306    219    241       O  \nATOM    706  CB  GLN C  90      21.483  -2.167 -14.970  1.00 34.69           C  \nANISOU  706  CB  GLN C  90     3159   5617   4402    381    250    191       C  \nATOM    707  CG  GLN C  90      21.337  -0.692 -15.325  1.00 35.74           C  \nANISOU  707  CG  GLN C  90     3339   5749   4491    265    285    293       C  \nATOM    708  CD  GLN C  90      22.607   0.109 -15.270  1.00 37.38           C  \nANISOU  708  CD  GLN C  90     3490   6043   4667    157    331    275       C  \nATOM    709  OE1 GLN C  90      23.716  -0.443 -15.394  1.00 37.29           O  \nANISOU  709  OE1 GLN C  90     3354   6167   4644    164    342    166       O  \nATOM    710  NE2 GLN C  90      22.462   1.448 -15.130  1.00 32.07           N  \nANISOU  710  NE2 GLN C  90     2897   5288   4001     52    368    367       N  \nATOM    711  N   TYR C  91      23.612  -2.345 -12.378  1.00 34.65           N  \nANISOU  711  N   TYR C  91     3076   5648   4440    471    143    103       N  \nATOM    712  CA  TYR C  91      24.715  -1.688 -11.760  1.00 35.66           C  \nANISOU  712  CA  TYR C  91     3118   5879   4551    421    109     50       C  \nATOM    713  C   TYR C  91      25.939  -1.626 -12.669  1.00 38.42           C  \nANISOU  713  C   TYR C  91     3278   6422   4899    370    147    -59       C  \nATOM    714  O   TYR C  91      27.025  -1.460 -12.196  1.00 39.38           O  \nANISOU  714  O   TYR C  91     3265   6667   5029    363    101   -153       O  \nATOM    715  CB  TYR C  91      25.002  -2.209 -10.350  1.00 35.95           C  \nANISOU  715  CB  TYR C  91     3191   5892   4574    539     -2     41       C  \nATOM    716  CG  TYR C  91      25.160  -3.684 -10.192  1.00 38.85           C  \nANISOU  716  CG  TYR C  91     3564   6229   4966    734    -73     30       C  \nATOM    717  CD1 TYR C  91      26.396  -4.234 -10.039  1.00 38.13           C  \nANISOU  717  CD1 TYR C  91     3326   6270   4892    855   -170    -64       C  \nATOM    718  CD2 TYR C  91      24.088  -4.522 -10.166  1.00 37.98           C  \nANISOU  718  CD2 TYR C  91     3601   5948   4882    799    -44    104       C  \nATOM    719  CE1 TYR C  91      26.558  -5.554  -9.895  1.00 42.27           C  \nANISOU  719  CE1 TYR C  91     3872   6728   5458   1057   -239    -65       C  \nATOM    720  CE2 TYR C  91      24.255  -5.853 -10.029  1.00 38.39           C  \nANISOU  720  CE2 TYR C  91     3683   5926   4975    966    -93     98       C  \nATOM    721  CZ  TYR C  91      25.503  -6.361  -9.882  1.00 40.44           C  \nANISOU  721  CZ  TYR C  91     3818   6292   5251   1108   -197     22       C  \nATOM    722  OH  TYR C  91      25.690  -7.688  -9.724  1.00 44.66           O  \nANISOU  722  OH  TYR C  91     4402   6719   5848   1304   -254     26       O  \nATOM    723  N   ASP C  92      25.733  -1.837 -13.960  1.00 38.17           N  \nANISOU  723  N   ASP C  92     3224   6431   4845    338    228    -64       N  \nATOM    724  CA  ASP C  92      26.781  -1.709 -14.962  1.00 40.75           C  \nANISOU  724  CA  ASP C  92     3385   6951   5144    256    312   -169       C  \nATOM    725  C   ASP C  92      27.340  -0.306 -15.249  1.00 41.30           C  \nANISOU  725  C   ASP C  92     3421   7092   5176     30    414   -152       C  \nATOM    726  O   ASP C  92      28.522  -0.156 -15.315  1.00 42.31           O  \nANISOU  726  O   ASP C  92     3367   7385   5323    -38    453   -279       O  \nATOM    727  CB  ASP C  92      26.389  -2.398 -16.271  1.00 39.95           C  \nANISOU  727  CB  ASP C  92     3290   6894   4993    281    378   -194       C  \nATOM    728  CG  ASP C  92      27.508  -2.387 -17.301  1.00 43.62           C  \nANISOU  728  CG  ASP C  92     3579   7582   5409    197    492   -329       C  \nATOM    729  OD1 ASP C  92      28.580  -2.836 -16.981  1.00 41.88           O  \nANISOU  729  OD1 ASP C  92     3173   7478   5260    266    472   -476       O  \nATOM    730  OD2 ASP C  92      27.305  -1.947 -18.416  1.00 43.08           O  \nANISOU  730  OD2 ASP C  92     3557   7585   5226     71    600   -290       O  \nATOM    731  N   GLU C  93      26.506   0.707 -15.391  1.00 40.29           N  \nANISOU  731  N   GLU C  93     3461   6830   5014    -82    459     -5       N  \nATOM    732  CA  GLU C  93      26.977   2.053 -15.641  1.00 42.18           C  \nANISOU  732  CA  GLU C  93     3714   7074   5236   -302    568     30       C  \nATOM    733  C   GLU C  93      26.235   3.026 -14.805  1.00 39.98           C  \nANISOU  733  C   GLU C  93     3596   6589   5006   -343    540    133       C  \nATOM    734  O   GLU C  93      25.109   2.810 -14.520  1.00 38.86           O  \nANISOU  734  O   GLU C  93     3579   6310   4876   -227    476    219       O  \nATOM    735  CB  GLU C  93      26.699   2.490 -17.066  1.00 43.35           C  \nANISOU  735  CB  GLU C  93     3953   7246   5272   -412    690    138       C  \nATOM    736  CG  GLU C  93      27.242   1.635 -18.118  1.00 49.37           C  \nANISOU  736  CG  GLU C  93     4594   8213   5951   -394    753     39       C  \nATOM    737  CD  GLU C  93      27.367   2.372 -19.417  1.00 56.88           C  \nANISOU  737  CD  GLU C  93     5626   9233   6751   -578    910    134       C  \nATOM    738  OE1 GLU C  93      26.851   3.495 -19.531  1.00 59.49           O  \nANISOU  738  OE1 GLU C  93     6143   9409   7051   -685    945    316       O  \nATOM    739  OE2 GLU C  93      27.998   1.824 -20.326  1.00 65.41           O  \nANISOU  739  OE2 GLU C  93     6595  10518   7740   -612   1007     27       O  \nATOM    740  N   PHE C  94      26.875   4.111 -14.443  1.00 40.89           N  \nANISOU  740  N   PHE C  94     3694   6682   5161   -522    605    100       N  \nATOM    741  CA  PHE C  94      26.232   5.180 -13.740  1.00 40.66           C  \nANISOU  741  CA  PHE C  94     3823   6436   5190   -584    607    174       C  \nATOM    742  C   PHE C  94      25.357   5.928 -14.706  1.00 41.29           C  \nANISOU  742  C   PHE C  94     4092   6354   5239   -627    684    368       C  \nATOM    743  O   PHE C  94      25.745   6.083 -15.813  1.00 41.70           O  \nANISOU  743  O   PHE C  94     4145   6484   5214   -726    780    424       O  \nATOM    744  CB  PHE C  94      27.254   6.137 -13.169  1.00 42.72           C  \nANISOU  744  CB  PHE C  94     4004   6714   5512   -791    668     52       C  \nATOM    745  CG  PHE C  94      28.133   5.548 -12.119  1.00 44.87           C  \nANISOU  745  CG  PHE C  94     4081   7163   5803   -741    555   -145       C  \nATOM    746  CD1 PHE C  94      27.613   4.899 -11.047  1.00 43.13           C  \nANISOU  746  CD1 PHE C  94     3900   6917   5570   -554    409   -162       C  \nATOM    747  CD2 PHE C  94      29.492   5.680 -12.194  1.00 49.07           C  \nANISOU  747  CD2 PHE C  94     4389   7896   6360   -885    596   -316       C  \nATOM    748  CE1 PHE C  94      28.408   4.376 -10.108  1.00 46.02           C  \nANISOU  748  CE1 PHE C  94     4115   7446   5923   -488    282   -313       C  \nATOM    749  CE2 PHE C  94      30.287   5.164 -11.240  1.00 50.64           C  \nANISOU  749  CE2 PHE C  94     4395   8273   6571   -811    457   -497       C  \nATOM    750  CZ  PHE C  94      29.748   4.506 -10.201  1.00 49.56           C  \nANISOU  750  CZ  PHE C  94     4328   8103   6398   -600    288   -483       C  \nATOM    751  N   PRO C  95      24.206   6.432 -14.287  1.00 40.55           N  \nANISOU  751  N   PRO C  95     4158   6045   5202   -551    645    469       N  \nATOM    752  CA  PRO C  95      23.597   6.101 -13.006  1.00 38.41           C  \nANISOU  752  CA  PRO C  95     3896   5703   4995   -424    550    401       C  \nATOM    753  C   PRO C  95      23.019   4.718 -12.984  1.00 36.35           C  \nANISOU  753  C   PRO C  95     3590   5528   4694   -233    457    393       C  \nATOM    754  O   PRO C  95      22.421   4.294 -13.963  1.00 34.84           O  \nANISOU  754  O   PRO C  95     3423   5356   4458   -165    450    478       O  \nATOM    755  CB  PRO C  95      22.421   7.054 -12.918  1.00 39.38           C  \nANISOU  755  CB  PRO C  95     4193   5576   5193   -393    568    518       C  \nATOM    756  CG  PRO C  95      22.184   7.503 -14.304  1.00 40.71           C  \nANISOU  756  CG  PRO C  95     4451   5705   5311   -424    616    687       C  \nATOM    757  CD  PRO C  95      23.473   7.507 -14.977  1.00 41.23           C  \nANISOU  757  CD  PRO C  95     4436   5931   5299   -593    703    654       C  \nATOM    758  N   TYR C  96      23.115   4.051 -11.850  1.00 34.20           N  \nANISOU  758  N   TYR C  96     3272   5290   4431   -152    385    296       N  \nATOM    759  CA  TYR C  96      22.450   2.769 -11.709  1.00 34.37           C  \nANISOU  759  CA  TYR C  96     3292   5330   4435     13    319    303       C  \nATOM    760  C   TYR C  96      20.953   3.024 -11.864  1.00 33.26           C  \nANISOU  760  C   TYR C  96     3264   5032   4340     71    334    399       C  \nATOM    761  O   TYR C  96      20.483   4.063 -11.468  1.00 35.35           O  \nANISOU  761  O   TYR C  96     3608   5161   4661     28    369    427       O  \nATOM    762  CB  TYR C  96      22.723   2.146 -10.351  1.00 34.12           C  \nANISOU  762  CB  TYR C  96     3250   5325   4387     86    248    223       C  \nATOM    763  CG  TYR C  96      24.194   1.910 -10.033  1.00 35.36           C  \nANISOU  763  CG  TYR C  96     3267   5657   4509     64    191    109       C  \nATOM    764  CD1 TYR C  96      25.162   1.762 -11.058  1.00 36.77           C  \nANISOU  764  CD1 TYR C  96     3299   5985   4686     17    219     60       C  \nATOM    765  CD2 TYR C  96      24.625   1.786  -8.712  1.00 32.28           C  \nANISOU  765  CD2 TYR C  96     2875   5311   4077    100    104     35       C  \nATOM    766  CE1 TYR C  96      26.513   1.510 -10.756  1.00 36.93           C  \nANISOU  766  CE1 TYR C  96     3140   6189   4700     14    163    -75       C  \nATOM    767  CE2 TYR C  96      25.952   1.526  -8.422  1.00 37.22           C  \nANISOU  767  CE2 TYR C  96     3341   6123   4676    111     17    -80       C  \nATOM    768  CZ  TYR C  96      26.886   1.410  -9.444  1.00 39.28           C  \nANISOU  768  CZ  TYR C  96     3424   6526   4973     69     48   -144       C  \nATOM    769  OH  TYR C  96      28.195   1.173  -9.133  1.00 40.40           O  \nANISOU  769  OH  TYR C  96     3364   6871   5113     88    -39   -288       O  \nATOM    770  N   THR C  97      20.256   2.124 -12.546  1.00 32.79           N  \nANISOU  770  N   THR C  97     3190   4997   4270    164    309    429       N  \nATOM    771  CA  THR C  97      18.846   2.291 -12.859  1.00 32.27           C  \nANISOU  771  CA  THR C  97     3178   4828   4255    224    305    495       C  \nATOM    772  C   THR C  97      18.068   1.005 -12.615  1.00 32.59           C  \nANISOU  772  C   THR C  97     3193   4869   4320    317    282    448       C  \nATOM    773  O   THR C  97      18.599  -0.117 -12.717  1.00 33.20           O  \nANISOU  773  O   THR C  97     3225   5025   4362    349    263    394       O  \nATOM    774  CB  THR C  97      18.595   2.750 -14.312  1.00 33.59           C  \nANISOU  774  CB  THR C  97     3355   5031   4376    212    295    589       C  \nATOM    775  OG1 THR C  97      19.339   1.929 -15.214  1.00 33.63           O  \nANISOU  775  OG1 THR C  97     3290   5205   4283    197    291    551       O  \nATOM    776  CG2 THR C  97      18.936   4.252 -14.510  1.00 30.37           C  \nANISOU  776  CG2 THR C  97     3033   4529   3976    118    341    682       C  \nATOM    777  N   PHE C  98      16.800   1.194 -12.238  1.00 32.96           N  \nANISOU  777  N   PHE C  98     3266   4811   4447    357    296    458       N  \nATOM    778  CA  PHE C  98      15.903   0.098 -11.876  1.00 33.47           C  \nANISOU  778  CA  PHE C  98     3310   4846   4558    405    312    405       C  \nATOM    779  C   PHE C  98      14.771  -0.055 -12.893  1.00 33.54           C  \nANISOU  779  C   PHE C  98     3248   4879   4618    444    276    401       C  \nATOM    780  O   PHE C  98      14.316   0.950 -13.490  1.00 34.37           O  \nANISOU  780  O   PHE C  98     3344   4972   4741    469    238    462       O  \nATOM    781  CB  PHE C  98      15.202   0.425 -10.532  1.00 33.13           C  \nANISOU  781  CB  PHE C  98     3322   4689   4576    399    384    379       C  \nATOM    782  CG  PHE C  98      16.095   0.419  -9.321  1.00 31.80           C  \nANISOU  782  CG  PHE C  98     3234   4515   4332    367    405    362       C  \nATOM    783  CD1 PHE C  98      16.731   1.588  -8.903  1.00 33.45           C  \nANISOU  783  CD1 PHE C  98     3476   4711   4520    317    405    358       C  \nATOM    784  CD2 PHE C  98      16.261  -0.730  -8.562  1.00 34.08           C  \nANISOU  784  CD2 PHE C  98     3576   4802   4569    386    419    348       C  \nATOM    785  CE1 PHE C  98      17.500   1.605  -7.763  1.00 34.10           C  \nANISOU  785  CE1 PHE C  98     3617   4821   4518    286    403    315       C  \nATOM    786  CE2 PHE C  98      17.069  -0.727  -7.422  1.00 34.25           C  \nANISOU  786  CE2 PHE C  98     3680   4844   4489    379    406    343       C  \nATOM    787  CZ  PHE C  98      17.692   0.477  -7.029  1.00 31.55           C  \nANISOU  787  CZ  PHE C  98     3342   4530   4114    326    388    313       C  \nATOM    788  N   GLY C  99      14.259  -1.277 -13.009  1.00 33.66           N  \nANISOU  788  N   GLY C  99     3216   4908   4662    454    285    327       N  \nATOM    789  CA  GLY C  99      13.025  -1.530 -13.682  1.00 34.42           C  \nANISOU  789  CA  GLY C  99     3217   5032   4828    477    255    275       C  \nATOM    790  C   GLY C  99      11.851  -1.006 -12.875  1.00 35.62           C  \nANISOU  790  C   GLY C  99     3337   5091   5105    490    310    251       C  \nATOM    791  O   GLY C  99      11.974  -0.693 -11.712  1.00 34.88           O  \nANISOU  791  O   GLY C  99     3315   4905   5029    467    395    260       O  \nATOM    792  N   GLY C 100      10.720  -0.865 -13.540  1.00 37.06           N  \nANISOU  792  N   GLY C 100     3395   5320   5365    533    254    205       N  \nATOM    793  CA  GLY C 100       9.510  -0.392 -12.910  1.00 38.90           C  \nANISOU  793  CA  GLY C 100     3543   5491   5746    562    305    146       C  \nATOM    794  C   GLY C 100       8.786  -1.374 -12.025  1.00 39.27           C  \nANISOU  794  C   GLY C 100     3544   5488   5887    476    448     24       C  \nATOM    795  O   GLY C 100       7.820  -0.990 -11.382  1.00 41.45           O  \nANISOU  795  O   GLY C 100     3739   5721   6286    482    530    -46       O  \nATOM    796  N   GLY C 101       9.198  -2.642 -11.996  1.00 39.21           N  \nANISOU  796  N   GLY C 101     3589   5474   5835    396    494     -8       N  \nATOM    797  CA  GLY C 101       8.576  -3.609 -11.081  1.00 39.39           C  \nANISOU  797  CA  GLY C 101     3620   5407   5936    289    661    -94       C  \nATOM    798  C   GLY C 101       7.557  -4.481 -11.798  1.00 40.21           C  \nANISOU  798  C   GLY C 101     3553   5563   6159    228    662   -246       C  \nATOM    799  O   GLY C 101       6.896  -4.007 -12.733  1.00 41.29           O  \nANISOU  799  O   GLY C 101     3514   5826   6348    291    535   -308       O  \nATOM    800  N   THR C 102       7.502  -5.756 -11.398  1.00 40.42           N  \nANISOU  800  N   THR C 102     3646   5492   6219    108    789   -301       N  \nATOM    801  CA  THR C 102       6.464  -6.719 -11.801  1.00 42.01           C  \nANISOU  801  CA  THR C 102     3697   5700   6566    -10    852   -481       C  \nATOM    802  C   THR C 102       5.776  -7.171 -10.486  1.00 43.92           C  \nANISOU  802  C   THR C 102     3993   5797   6894   -156   1104   -513       C  \nATOM    803  O   THR C 102       6.432  -7.683  -9.562  1.00 42.78           O  \nANISOU  803  O   THR C 102     4088   5502   6664   -198   1222   -396       O  \nATOM    804  CB  THR C 102       7.044  -7.973 -12.538  1.00 42.40           C  \nANISOU  804  CB  THR C 102     3809   5709   6592    -56    819   -532       C  \nATOM    805  OG1 THR C 102       7.638  -7.600 -13.794  1.00 40.73           O  \nANISOU  805  OG1 THR C 102     3541   5658   6274     54    614   -525       O  \nATOM    806  CG2 THR C 102       5.950  -9.047 -12.820  1.00 42.50           C  \nANISOU  806  CG2 THR C 102     3679   5691   6777   -225    919   -749       C  \nATOM    807  N   LYS C 103       4.467  -6.975 -10.412  1.00 45.47           N  \nANISOU  807  N   LYS C 103     3967   6057   7250   -227   1185   -671       N  \nATOM    808  CA  LYS C 103       3.700  -7.445  -9.277  1.00 47.86           C  \nANISOU  808  CA  LYS C 103     4293   6248   7640   -401   1459   -733       C  \nATOM    809  C   LYS C 103       3.190  -8.876  -9.483  1.00 49.32           C  \nANISOU  809  C   LYS C 103     4454   6337   7948   -607   1594   -868       C  \nATOM    810  O   LYS C 103       2.537  -9.177 -10.487  1.00 51.07           O  \nANISOU  810  O   LYS C 103     4433   6670   8298   -646   1504  -1057       O  \nATOM    811  CB  LYS C 103       2.509  -6.535  -9.014  1.00 49.68           C  \nANISOU  811  CB  LYS C 103     4265   6595   8012   -391   1518   -872       C  \nATOM    812  CG  LYS C 103       1.716  -6.999  -7.781  1.00 54.42           C  \nANISOU  812  CG  LYS C 103     4888   7099   8687   -600   1849   -951       C  \nATOM    813  CD  LYS C 103       0.402  -6.325  -7.696  1.00 58.51           C  \nANISOU  813  CD  LYS C 103     5075   7754   9402   -607   1922  -1162       C  \nATOM    814  CE  LYS C 103       0.540  -4.917  -7.182  1.00 59.81           C  \nANISOU  814  CE  LYS C 103     5247   7961   9516   -426   1881  -1100       C  \nATOM    815  NZ  LYS C 103      -0.734  -4.586  -6.479  1.00 62.90           N  \nANISOU  815  NZ  LYS C 103     5399   8412  10085   -510   2112  -1311       N  \nATOM    816  N   LEU C 104       3.473  -9.737  -8.513  1.00 49.17           N  \nANISOU  816  N   LEU C 104     4695   6106   7881   -742   1809   -772       N  \nATOM    817  CA  LEU C 104       3.115 -11.143  -8.573  1.00 51.43           C  \nANISOU  817  CA  LEU C 104     5033   6223   8283   -952   1972   -864       C  \nATOM    818  C   LEU C 104       2.076 -11.430  -7.513  1.00 53.42           C  \nANISOU  818  C   LEU C 104     5277   6388   8630  -1186   2299   -933       C  \nATOM    819  O   LEU C 104       2.358 -11.340  -6.322  1.00 51.60           O  \nANISOU  819  O   LEU C 104     5295   6048   8260  -1213   2463   -764       O  \nATOM    820  CB  LEU C 104       4.353 -11.997  -8.323  1.00 50.78           C  \nANISOU  820  CB  LEU C 104     5305   5920   8069   -906   1963   -665       C  \nATOM    821  CG  LEU C 104       4.172 -13.508  -8.303  1.00 54.87           C  \nANISOU  821  CG  LEU C 104     5962   6180   8705  -1100   2139   -717       C  \nATOM    822  CD1 LEU C 104       3.345 -13.959  -9.505  1.00 55.97           C  \nANISOU  822  CD1 LEU C 104     5798   6410   9055  -1219   2095  -1014       C  \nATOM    823  CD2 LEU C 104       5.559 -14.178  -8.271  1.00 54.17           C  \nANISOU  823  CD2 LEU C 104     6188   5900   8492   -955   2044   -520       C  \nATOM    824  N   GLU C 105       0.898 -11.832  -7.959  1.00 56.17           N  \nANISOU  824  N   GLU C 105     5341   6797   9204  -1370   2399  -1194       N  \nATOM    825  CA  GLU C 105      -0.202 -12.092  -7.044  1.00 59.83           C  \nANISOU  825  CA  GLU C 105     5735   7209   9788  -1628   2740  -1309       C  \nATOM    826  C   GLU C 105      -0.620 -13.517  -7.205  1.00 63.56           C  \nANISOU  826  C   GLU C 105     6251   7481  10417  -1909   2937  -1428       C  \nATOM    827  O   GLU C 105      -0.413 -14.083  -8.266  1.00 64.50           O  \nANISOU  827  O   GLU C 105     6298   7593  10616  -1893   2769  -1533       O  \nATOM    828  CB  GLU C 105      -1.333 -11.090  -7.297  1.00 60.61           C  \nANISOU  828  CB  GLU C 105     5395   7587  10045  -1594   2705  -1546       C  \nATOM    829  CG  GLU C 105      -1.078  -9.719  -6.568  1.00 59.22           C  \nANISOU  829  CG  GLU C 105     5261   7511   9727  -1389   2667  -1415       C  \nATOM    830  CD  GLU C 105      -2.236  -8.748  -6.709  1.00 62.66           C  \nANISOU  830  CD  GLU C 105     5274   8182  10350  -1334   2658  -1654       C  \nATOM    831  OE1 GLU C 105      -2.656  -8.504  -7.859  1.00 65.24           O  \nANISOU  831  OE1 GLU C 105     5286   8686  10815  -1225   2413  -1813       O  \nATOM    832  OE2 GLU C 105      -2.761  -8.247  -5.680  1.00 68.90           O  \nANISOU  832  OE2 GLU C 105     6036   8990  11151  -1394   2896  -1696       O  \nATOM    833  N   MET C 106      -1.149 -14.124  -6.147  1.00 66.87           N  \nANISOU  833  N   MET C 106     6821   7717  10866  -2178   3306  -1407       N  \nATOM    834  CA  MET C 106      -1.522 -15.535  -6.191  1.00 70.52           C  \nANISOU  834  CA  MET C 106     7384   7920  11488  -2482   3543  -1497       C  \nATOM    835  C   MET C 106      -2.993 -15.724  -6.613  1.00 73.15           C  \nANISOU  835  C   MET C 106     7266   8402  12125  -2756   3699  -1888       C  \nATOM    836  O   MET C 106      -3.919 -15.113  -6.046  1.00 72.60           O  \nANISOU  836  O   MET C 106     6957   8500  12125  -2856   3880  -2018       O  \nATOM    837  CB  MET C 106      -1.263 -16.233  -4.839  1.00 73.29           C  \nANISOU  837  CB  MET C 106     8197   7951  11697  -2656   3880  -1235       C  \nATOM    838  CG  MET C 106      -1.960 -17.595  -4.719  1.00 81.51           C  \nANISOU  838  CG  MET C 106     9319   8705  12944  -3044   4221  -1352       C  \nATOM    839  SD  MET C 106      -1.284 -18.805  -3.551  1.00 91.57           S  \nANISOU  839  SD  MET C 106    11264   9479  14048  -3187   4516   -970       S  \nATOM    840  CE  MET C 106       0.284 -19.081  -4.403  1.00 87.46           C  \nANISOU  840  CE  MET C 106    10961   8840  13428  -2801   4085   -788       C  \nATOM    841  N   LYS C 107      -3.178 -16.599  -7.607  1.00 74.38           N  \nANISOU  841  N   LYS C 107     7295   8497  12465  -2878   3631  -2097       N  \nATOM    842  CA  LYS C 107      -4.501 -17.063  -8.027  1.00 78.06           C  \nANISOU  842  CA  LYS C 107     7359   9061  13237  -3192   3792  -2493       C  \nATOM    843  C   LYS C 107      -5.009 -18.150  -7.057  1.00 81.30           C  \nANISOU  843  C   LYS C 107     7996   9137  13757  -3611   4281  -2485       C  \nATOM    844  O   LYS C 107      -4.215 -18.976  -6.613  1.00 80.52           O  \nANISOU  844  O   LYS C 107     8378   8668  13548  -3650   4397  -2220       O  \nATOM    845  CB  LYS C 107      -4.450 -17.581  -9.474  1.00 78.21           C  \nANISOU  845  CB  LYS C 107     7174   9154  13385  -3171   3521  -2738       C  \nATOM    846  CG  LYS C 107      -5.827 -17.945 -10.024  1.00 83.99           C  \nANISOU  846  CG  LYS C 107     7418  10062  14430  -3471   3618  -3196       C  \nATOM    847  CD  LYS C 107      -5.815 -18.165 -11.531  1.00 86.64           C  \nANISOU  847  CD  LYS C 107     7491  10589  14837  -3391   3272  -3466       C  \nATOM    848  CE  LYS C 107      -7.097 -18.886 -11.986  1.00 93.09           C  \nANISOU  848  CE  LYS C 107     7891  11496  15981  -3772   3420  -3941       C  \nATOM    849  NZ  LYS C 107      -7.031 -19.334 -13.405  1.00 94.67           N  \nANISOU  849  NZ  LYS C 107     7901  11838  16231  -3748   3118  -4222       N  \nATOM    850  N   ARG C 108      -6.310 -18.086  -6.741  1.00 70.76           N  \nANISOU  850  N   ARG C 108     7621   6080  13184  -1493   4319  -2591       N  \nATOM    851  CA  ARG C 108      -7.002 -18.958  -5.773  1.00 71.77           C  \nANISOU  851  CA  ARG C 108     7763   5953  13552  -1503   4392  -2469       C  \nATOM    852  C   ARG C 108      -8.517 -19.099  -5.974  1.00 72.13           C  \nANISOU  852  C   ARG C 108     7836   6198  13370  -1798   4346  -2701       C  \nATOM    853  O   ARG C 108      -9.114 -18.398  -6.760  1.00 70.17           O  \nANISOU  853  O   ARG C 108     7584   6352  12725  -1960   4179  -2913       O  \nATOM    854  CB  ARG C 108      -6.767 -18.492  -4.348  1.00 70.02           C  \nANISOU  854  CB  ARG C 108     7495   5725  13384  -1205   4149  -1986       C  \nATOM    855  CG  ARG C 108      -7.810 -17.517  -3.912  1.00 69.76           C  \nANISOU  855  CG  ARG C 108     7457   6084  12961  -1256   3807  -1876       C  \nATOM    856  CD  ARG C 108      -7.444 -16.741  -2.728  1.00 69.82           C  \nANISOU  856  CD  ARG C 108     7414   6190  12922   -974   3528  -1465       C  \nATOM    857  NE  ARG C 108      -7.657 -17.420  -1.463  1.00 74.05           N  \nANISOU  857  NE  ARG C 108     7967   6489  13676   -829   3567  -1177       N  \nATOM    858  CZ  ARG C 108      -8.779 -18.013  -1.094  1.00 73.10           C  \nANISOU  858  CZ  ARG C 108     7904   6296  13573   -981   3659  -1202       C  \nATOM    859  NH1 ARG C 108      -8.849 -18.569   0.088  1.00 72.80           N  \nANISOU  859  NH1 ARG C 108     7901   6036  13722   -811   3714   -889       N  \nATOM    860  NH2 ARG C 108      -9.802 -18.081  -1.916  1.00 76.18           N  \nANISOU  860  NH2 ARG C 108     8309   6838  13798  -1298   3710  -1543       N  \nATOM    861  N   ALA C 109      -9.130 -20.046  -5.270  1.00 74.03           N  \nANISOU  861  N   ALA C 109     8096   6150  13881  -1863   4514  -2660       N  \nATOM    862  CA  ALA C 109     -10.586 -20.184  -5.324  1.00 74.86           C  \nANISOU  862  CA  ALA C 109     8186   6440  13815  -2146   4473  -2873       C  \nATOM    863  C   ALA C 109     -11.312 -18.941  -4.841  1.00 71.75           C  \nANISOU  863  C   ALA C 109     7743   6507  13009  -2083   4054  -2664       C  \nATOM    864  O   ALA C 109     -10.886 -18.272  -3.906  1.00 69.46           O  \nANISOU  864  O   ALA C 109     7449   6253  12687  -1809   3843  -2259       O  \nATOM    865  CB  ALA C 109     -11.047 -21.411  -4.541  1.00 77.67           C  \nANISOU  865  CB  ALA C 109     8577   6349  14583  -2213   4775  -2822       C  \nATOM    866  N   ASP C 110     -12.419 -18.627  -5.505  1.00 71.99           N  \nANISOU  866  N   ASP C 110     7724   6908  12719  -2334   3931  -2967       N  \nATOM    867  CA  ASP C 110     -13.217 -17.457  -5.170  1.00 69.27           C  \nANISOU  867  CA  ASP C 110     7323   7012  11982  -2284   3553  -2811       C  \nATOM    868  C   ASP C 110     -13.677 -17.502  -3.704  1.00 68.07           C  \nANISOU  868  C   ASP C 110     7161   6731  11970  -2161   3488  -2452       C  \nATOM    869  O   ASP C 110     -13.798 -18.579  -3.138  1.00 70.63           O  \nANISOU  869  O   ASP C 110     7514   6672  12650  -2217   3762  -2425       O  \nATOM    870  CB  ASP C 110     -14.424 -17.369  -6.112  1.00 70.26           C  \nANISOU  870  CB  ASP C 110     7367   7530  11797  -2580   3474  -3229       C  \nATOM    871  CG  ASP C 110     -14.048 -16.869  -7.511  1.00 71.74           C  \nANISOU  871  CG  ASP C 110     7579   8020  11658  -2627   3415  -3494       C  \nATOM    872  OD1 ASP C 110     -12.862 -16.553  -7.762  1.00 71.85           O  \nANISOU  872  OD1 ASP C 110     7672   7924  11702  -2449   3455  -3357       O  \nATOM    873  OD2 ASP C 110     -14.945 -16.787  -8.374  1.00 72.38           O  \nANISOU  873  OD2 ASP C 110     7590   8471  11438  -2839   3330  -3845       O  \nATOM    874  N   ALA C 111     -13.889 -16.337  -3.093  1.00 65.45           N  \nANISOU  874  N   ALA C 111     6803   6699  11365  -1985   3156  -2169       N  \nATOM    875  CA  ALA C 111     -14.382 -16.229  -1.709  1.00 63.98           C  \nANISOU  875  CA  ALA C 111     6610   6465  11232  -1863   3067  -1838       C  \nATOM    876  C   ALA C 111     -15.292 -15.027  -1.593  1.00 61.35           C  \nANISOU  876  C   ALA C 111     6205   6597  10509  -1855   2732  -1794       C  \nATOM    877  O   ALA C 111     -14.961 -13.927  -2.079  1.00 58.33           O  \nANISOU  877  O   ALA C 111     5818   6499   9845  -1746   2501  -1763       O  \nATOM    878  CB  ALA C 111     -13.234 -16.078  -0.740  1.00 63.58           C  \nANISOU  878  CB  ALA C 111     6620   6195  11341  -1536   3032  -1430       C  \nATOM    879  N   ALA C 112     -16.439 -15.226  -0.948  1.00 61.04           N  \nANISOU  879  N   ALA C 112     6107   6615  10467  -1963   2732  -1784       N  \nATOM    880  CA  ALA C 112     -17.343 -14.125  -0.641  1.00 59.15           C  \nANISOU  880  CA  ALA C 112     5788   6784   9903  -1922   2434  -1704       C  \nATOM    881  C   ALA C 112     -16.775 -13.310   0.532  1.00 56.27           C  \nANISOU  881  C   ALA C 112     5482   6408   9489  -1613   2252  -1274       C  \nATOM    882  O   ALA C 112     -16.098 -13.839   1.394  1.00 56.67           O  \nANISOU  882  O   ALA C 112     5609   6148   9773  -1470   2376  -1031       O  \nATOM    883  CB  ALA C 112     -18.806 -14.663  -0.310  1.00 59.74           C  \nANISOU  883  CB  ALA C 112     5749   6923  10024  -2159   2525  -1865       C  \nATOM    884  N   PRO C 113     -17.037 -12.010   0.562  1.00 54.93           N  \nANISOU  884  N   PRO C 113     5275   6586   9010  -1497   1961  -1185       N  \nATOM    885  CA  PRO C 113     -16.651 -11.197   1.704  1.00 52.50           C  \nANISOU  885  CA  PRO C 113     5003   6302   8641  -1242   1788   -839       C  \nATOM    886  C   PRO C 113     -17.461 -11.446   2.959  1.00 53.02           C  \nANISOU  886  C   PRO C 113     5058   6335   8753  -1227   1817   -666       C  \nATOM    887  O   PRO C 113     -18.611 -11.814   2.876  1.00 54.99           O  \nANISOU  887  O   PRO C 113     5230   6669   8992  -1419   1890   -824       O  \nATOM    888  CB  PRO C 113     -16.926  -9.776   1.225  1.00 50.68           C  \nANISOU  888  CB  PRO C 113     4731   6442   8080  -1172   1518   -859       C  \nATOM    889  CG  PRO C 113     -17.879  -9.911   0.158  1.00 52.78           C  \nANISOU  889  CG  PRO C 113     4915   6935   8201  -1380   1522  -1162       C  \nATOM    890  CD  PRO C 113     -17.516 -11.169  -0.540  1.00 54.98           C  \nANISOU  890  CD  PRO C 113     5217   6970   8701  -1564   1781  -1394       C  \nATOM    891  N   THR C 114     -16.817 -11.279   4.109  1.00 52.43           N  \nANISOU  891  N   THR C 114     5051   6143   8727  -1000   1770   -353       N  \nATOM    892  CA  THR C 114     -17.463 -11.249   5.421  1.00 51.82           C  \nANISOU  892  CA  THR C 114     4987   6088   8612   -924   1759   -134       C  \nATOM    893  C   THR C 114     -17.610  -9.761   5.751  1.00 49.37           C  \nANISOU  893  C   THR C 114     4639   6104   8014   -780   1459    -50       C  \nATOM    894  O   THR C 114     -16.592  -9.055   5.949  1.00 47.63           O  \nANISOU  894  O   THR C 114     4449   5905   7743   -588   1307     73       O  \nATOM    895  CB  THR C 114     -16.578 -11.953   6.476  1.00 52.53           C  \nANISOU  895  CB  THR C 114     5184   5883   8888   -725   1878    165       C  \nATOM    896  OG1 THR C 114     -16.557 -13.356   6.201  1.00 55.02           O  \nANISOU  896  OG1 THR C 114     5547   5853   9503   -856   2203     99       O  \nATOM    897  CG2 THR C 114     -17.083 -11.699   7.912  1.00 51.50           C  \nANISOU  897  CG2 THR C 114     5093   5838   8635   -589   1824    432       C  \nATOM    898  N   VAL C 115     -18.860  -9.284   5.761  1.00 48.36           N  \nANISOU  898  N   VAL C 115     4427   6223   7722   -878   1389   -142       N  \nATOM    899  CA  VAL C 115     -19.164  -7.849   5.910  1.00 46.43           C  \nANISOU  899  CA  VAL C 115     4138   6281   7220   -758   1134   -102       C  \nATOM    900  C   VAL C 115     -19.561  -7.508   7.329  1.00 46.59           C  \nANISOU  900  C   VAL C 115     4180   6357   7165   -631   1090    109       C  \nATOM    901  O   VAL C 115     -20.359  -8.225   7.935  1.00 46.88           O  \nANISOU  901  O   VAL C 115     4206   6337   7269   -722   1249    142       O  \nATOM    902  CB  VAL C 115     -20.287  -7.348   5.000  1.00 46.41           C  \nANISOU  902  CB  VAL C 115     4012   6566   7053   -890   1050   -327       C  \nATOM    903  CG1 VAL C 115     -20.414  -5.811   5.148  1.00 42.63           C  \nANISOU  903  CG1 VAL C 115     3515   6339   6341   -713    812   -243       C  \nATOM    904  CG2 VAL C 115     -20.005  -7.726   3.519  1.00 49.55           C  \nANISOU  904  CG2 VAL C 115     4391   6963   7470  -1029   1096   -570       C  \nATOM    905  N   SER C 116     -18.986  -6.415   7.840  1.00 44.73           N  \nANISOU  905  N   SER C 116     3974   6228   6793   -435    898    234       N  \nATOM    906  CA  SER C 116     -19.285  -5.892   9.179  1.00 44.73           C  \nANISOU  906  CA  SER C 116     3997   6328   6670   -297    828    406       C  \nATOM    907  C   SER C 116     -19.527  -4.395   9.077  1.00 43.15           C  \nANISOU  907  C   SER C 116     3749   6367   6279   -210    624    356       C  \nATOM    908  O   SER C 116     -18.751  -3.689   8.453  1.00 42.68           O  \nANISOU  908  O   SER C 116     3696   6314   6203   -150    517    311       O  \nATOM    909  CB  SER C 116     -18.067  -6.087  10.067  1.00 45.30           C  \nANISOU  909  CB  SER C 116     4159   6263   6788   -112    800    605       C  \nATOM    910  OG  SER C 116     -17.886  -7.469  10.321  1.00 47.57           O  \nANISOU  910  OG  SER C 116     4511   6307   7256   -144   1011    709       O  \nATOM    911  N   ILE C 117     -20.567  -3.912   9.728  1.00 42.80           N  \nANISOU  911  N   ILE C 117     3660   6493   6109   -196    601    373       N  \nATOM    912  CA  ILE C 117     -20.793  -2.489   9.861  1.00 40.87           C  \nANISOU  912  CA  ILE C 117     3384   6437   5706    -80    438    354       C  \nATOM    913  C   ILE C 117     -20.681  -2.099  11.339  1.00 41.12           C  \nANISOU  913  C   ILE C 117     3471   6510   5642     58    402    490       C  \nATOM    914  O   ILE C 117     -21.054  -2.852  12.266  1.00 41.56           O  \nANISOU  914  O   ILE C 117     3562   6536   5692     47    518    598       O  \nATOM    915  CB  ILE C 117     -22.169  -2.125   9.331  1.00 41.30           C  \nANISOU  915  CB  ILE C 117     3316   6694   5682   -156    433    233       C  \nATOM    916  CG1 ILE C 117     -22.297  -0.622   9.087  1.00 39.87           C  \nANISOU  916  CG1 ILE C 117     3111   6666   5371    -17    281    210       C  \nATOM    917  CG2 ILE C 117     -23.247  -2.577  10.307  1.00 43.61           C  \nANISOU  917  CG2 ILE C 117     3559   7051   5958   -207    547    271       C  \nATOM    918  CD1 ILE C 117     -23.485  -0.302   8.122  1.00 41.47           C  \nANISOU  918  CD1 ILE C 117     3174   7083   5497    -61    246     86       C  \nATOM    919  N   PHE C 118     -20.140  -0.912  11.543  1.00 40.48           N  \nANISOU  919  N   PHE C 118     3404   6492   5481    186    260    477       N  \nATOM    920  CA  PHE C 118     -19.894  -0.363  12.870  1.00 40.41           C  \nANISOU  920  CA  PHE C 118     3440   6556   5356    319    195    549       C  \nATOM    921  C   PHE C 118     -20.401   1.034  12.983  1.00 40.06           C  \nANISOU  921  C   PHE C 118     3358   6651   5209    387    116    461       C  \nATOM    922  O   PHE C 118     -20.050   1.900  12.185  1.00 39.90           O  \nANISOU  922  O   PHE C 118     3322   6608   5228    409     50    380       O  \nATOM    923  CB  PHE C 118     -18.411  -0.311  13.136  1.00 40.23           C  \nANISOU  923  CB  PHE C 118     3461   6445   5379    412    102    582       C  \nATOM    924  CG  PHE C 118     -17.762  -1.633  13.079  1.00 42.13           C  \nANISOU  924  CG  PHE C 118     3739   6529   5740    394    179    689       C  \nATOM    925  CD1 PHE C 118     -17.139  -2.063  11.926  1.00 43.40           C  \nANISOU  925  CD1 PHE C 118     3883   6537   6069    320    214    633       C  \nATOM    926  CD2 PHE C 118     -17.788  -2.472  14.184  1.00 45.44           C  \nANISOU  926  CD2 PHE C 118     4223   6942   6101    464    243    858       C  \nATOM    927  CE1 PHE C 118     -16.536  -3.297  11.877  1.00 45.35           C  \nANISOU  927  CE1 PHE C 118     4164   6611   6456    315    312    725       C  \nATOM    928  CE2 PHE C 118     -17.207  -3.732  14.136  1.00 47.39           C  \nANISOU  928  CE2 PHE C 118     4515   7005   6482    475    346    987       C  \nATOM    929  CZ  PHE C 118     -16.583  -4.145  12.987  1.00 45.25           C  \nANISOU  929  CZ  PHE C 118     4215   6566   6410    399    382    911       C  \nATOM    930  N   PRO C 119     -21.244   1.289  13.979  1.00 40.31           N  \nANISOU  930  N   PRO C 119     3385   6814   5116    429    149    483       N  \nATOM    931  CA  PRO C 119     -21.690   2.669  14.128  1.00 39.90           C  \nANISOU  931  CA  PRO C 119     3299   6868   4991    511     93    390       C  \nATOM    932  C   PRO C 119     -20.562   3.551  14.706  1.00 39.74           C  \nANISOU  932  C   PRO C 119     3332   6822   4945    610    -13    335       C  \nATOM    933  O   PRO C 119     -19.547   3.027  15.177  1.00 39.28           O  \nANISOU  933  O   PRO C 119     3316   6720   4887    630    -63    381       O  \nATOM    934  CB  PRO C 119     -22.889   2.559  15.098  1.00 40.86           C  \nANISOU  934  CB  PRO C 119     3395   7133   4996    518    189    417       C  \nATOM    935  CG  PRO C 119     -22.635   1.323  15.881  1.00 44.24           C  \nANISOU  935  CG  PRO C 119     3897   7523   5389    486    270    552       C  \nATOM    936  CD  PRO C 119     -21.752   0.400  15.018  1.00 42.09           C  \nANISOU  936  CD  PRO C 119     3647   7076   5268    416    262    598       C  \nATOM    937  N   PRO C 120     -20.730   4.876  14.669  1.00 39.13           N  \nANISOU  937  N   PRO C 120     3238   6768   4859    675    -41    227       N  \nATOM    938  CA  PRO C 120     -19.811   5.774  15.360  1.00 40.15           C  \nANISOU  938  CA  PRO C 120     3396   6885   4973    740   -115    120       C  \nATOM    939  C   PRO C 120     -19.721   5.526  16.868  1.00 41.07           C  \nANISOU  939  C   PRO C 120     3546   7148   4911    791   -146    122       C  \nATOM    940  O   PRO C 120     -20.726   5.262  17.492  1.00 40.31           O  \nANISOU  940  O   PRO C 120     3459   7167   4689    804    -68    176       O  \nATOM    941  CB  PRO C 120     -20.433   7.147  15.150  1.00 39.68           C  \nANISOU  941  CB  PRO C 120     3320   6817   4940    799    -71     15       C  \nATOM    942  CG  PRO C 120     -21.417   6.992  14.091  1.00 40.22           C  \nANISOU  942  CG  PRO C 120     3343   6889   5047    788    -14     90       C  \nATOM    943  CD  PRO C 120     -21.906   5.597  14.155  1.00 41.14           C  \nANISOU  943  CD  PRO C 120     3434   7081   5113    704     11    193       C  \nATOM    944  N   SER C 121     -18.537   5.685  17.437  1.00 41.99           N  \nANISOU  944  N   SER C 121     3668   7279   5006    825   -255     50       N  \nATOM    945  CA  SER C 121     -18.351   5.601  18.873  1.00 44.30           C  \nANISOU  945  CA  SER C 121     3992   7760   5080    900   -315     30       C  \nATOM    946  C   SER C 121     -18.839   6.894  19.528  1.00 46.06           C  \nANISOU  946  C   SER C 121     4210   8070   5217    932   -291   -166       C  \nATOM    947  O   SER C 121     -18.878   7.944  18.895  1.00 44.74           O  \nANISOU  947  O   SER C 121     4012   7778   5205    908   -255   -304       O  \nATOM    948  CB  SER C 121     -16.870   5.414  19.196  1.00 45.49           C  \nANISOU  948  CB  SER C 121     4108   7937   5237    937   -471    -17       C  \nATOM    949  OG  SER C 121     -16.190   6.568  18.790  1.00 43.90           O  \nANISOU  949  OG  SER C 121     3840   7649   5189    897   -516   -244       O  \nATOM    950  N   SER C 122     -19.201   6.828  20.814  1.00 49.12           N  \nANISOU  950  N   SER C 122     4642   8664   5354    995   -288   -178       N  \nATOM    951  CA  SER C 122     -19.677   8.032  21.516  1.00 50.81           C  \nANISOU  951  CA  SER C 122     4858   8968   5481   1024   -244   -396       C  \nATOM    952  C   SER C 122     -18.521   9.018  21.715  1.00 51.89           C  \nANISOU  952  C   SER C 122     4944   9090   5680   1010   -360   -668       C  \nATOM    953  O   SER C 122     -18.728  10.239  21.723  1.00 51.83           O  \nANISOU  953  O   SER C 122     4918   9010   5762    994   -290   -888       O  \nATOM    954  CB  SER C 122     -20.355   7.670  22.841  1.00 52.98           C  \nANISOU  954  CB  SER C 122     5201   9483   5444   1090   -190   -347       C  \nATOM    955  OG  SER C 122     -19.441   6.982  23.678  1.00 58.85           O  \nANISOU  955  OG  SER C 122     5984  10400   5976   1153   -329   -288       O  \nATOM    956  N   GLU C 123     -17.297   8.485  21.864  1.00 53.11           N  \nANISOU  956  N   GLU C 123     5061   9303   5814   1016   -522   -663       N  \nATOM    957  CA  GLU C 123     -16.089   9.318  21.891  1.00 54.39           C  \nANISOU  957  CA  GLU C 123     5127   9442   6094    972   -634   -941       C  \nATOM    958  C   GLU C 123     -16.019  10.202  20.658  1.00 52.43           C  \nANISOU  958  C   GLU C 123     4849   8888   6184    882   -521  -1032       C  \nATOM    959  O   GLU C 123     -15.898  11.404  20.790  1.00 53.63           O  \nANISOU  959  O   GLU C 123     4973   8964   6437    840   -463  -1294       O  \nATOM    960  CB  GLU C 123     -14.816   8.473  21.985  1.00 55.55           C  \nANISOU  960  CB  GLU C 123     5202   9681   6224   1003   -821   -882       C  \nATOM    961  CG  GLU C 123     -14.646   7.767  23.326  1.00 61.03           C  \nANISOU  961  CG  GLU C 123     5922  10711   6553   1133   -960   -812       C  \nATOM    962  CD  GLU C 123     -15.036   6.294  23.278  1.00 64.34           C  \nANISOU  962  CD  GLU C 123     6438  11135   6870   1220   -921   -422       C  \nATOM    963  OE1 GLU C 123     -16.104   5.952  22.669  1.00 65.65           O  \nANISOU  963  OE1 GLU C 123     6686  11137   7121   1172   -739   -245       O  \nATOM    964  OE2 GLU C 123     -14.267   5.483  23.853  1.00 69.26           O  \nANISOU  964  OE2 GLU C 123     7046  11930   7338   1341  -1067   -301       O  \nATOM    965  N   GLN C 124     -16.148   9.622  19.460  1.00 50.17           N  \nANISOU  965  N   GLN C 124     4579   8419   6064    858   -465   -816       N  \nATOM    966  CA  GLN C 124     -16.130  10.451  18.263  1.00 49.30           C  \nANISOU  966  CA  GLN C 124     4466   8038   6228    801   -343   -861       C  \nATOM    967  C   GLN C 124     -17.293  11.471  18.194  1.00 51.15           C  \nANISOU  967  C   GLN C 124     4752   8195   6486    840   -184   -910       C  \nATOM    968  O   GLN C 124     -17.075  12.620  17.780  1.00 52.21           O  \nANISOU  968  O   GLN C 124     4886   8132   6817    817    -79  -1061       O  \nATOM    969  CB  GLN C 124     -16.112   9.624  17.007  1.00 46.14           C  \nANISOU  969  CB  GLN C 124     4081   7503   5947    777   -316   -633       C  \nATOM    970  CG  GLN C 124     -15.957  10.502  15.827  1.00 45.09           C  \nANISOU  970  CG  GLN C 124     3959   7119   6051    739   -194   -671       C  \nATOM    971  CD  GLN C 124     -15.974   9.769  14.532  1.00 43.18           C  \nANISOU  971  CD  GLN C 124     3741   6771   5894    716   -159   -473       C  \nATOM    972  OE1 GLN C 124     -16.477   8.647  14.442  1.00 39.52           O  \nANISOU  972  OE1 GLN C 124     3289   6404   5321    723   -195   -305       O  \nATOM    973  NE2 GLN C 124     -15.371  10.384  13.499  1.00 44.33           N  \nANISOU  973  NE2 GLN C 124     3898   6703   6242    676    -67   -504       N  \nATOM    974  N   LEU C 125     -18.502  11.039  18.578  1.00 51.65           N  \nANISOU  974  N   LEU C 125     4852   8394   6375    903   -144   -777       N  \nATOM    975  CA  LEU C 125     -19.689  11.933  18.626  1.00 53.67           C  \nANISOU  975  CA  LEU C 125     5131   8616   6644    969      3   -818       C  \nATOM    976  C   LEU C 125     -19.501  13.139  19.541  1.00 56.03           C  \nANISOU  976  C   LEU C 125     5432   8912   6944    976     55  -1115       C  \nATOM    977  O   LEU C 125     -19.844  14.264  19.177  1.00 57.21           O  \nANISOU  977  O   LEU C 125     5596   8872   7266   1011    201  -1210       O  \nATOM    978  CB  LEU C 125     -20.980  11.163  18.982  1.00 52.97           C  \nANISOU  978  CB  LEU C 125     5046   8703   6374   1019     43   -649       C  \nATOM    979  CG  LEU C 125     -21.474  10.295  17.806  1.00 52.04           C  \nANISOU  979  CG  LEU C 125     4905   8537   6328   1002     51   -412       C  \nATOM    980  CD1 LEU C 125     -22.521   9.242  18.250  1.00 50.79           C  \nANISOU  980  CD1 LEU C 125     4728   8558   6009    999     89   -266       C  \nATOM    981  CD2 LEU C 125     -21.987  11.138  16.642  1.00 52.10           C  \nANISOU  981  CD2 LEU C 125     4894   8386   6513   1060    137   -384       C  \nATOM    982  N   THR C 126     -18.915  12.922  20.701  1.00 58.43           N  \nANISOU  982  N   THR C 126     5723   9419   7059    949    -56  -1268       N  \nATOM    983  CA  THR C 126     -18.505  14.037  21.553  1.00 61.46           C  \nANISOU  983  CA  THR C 126     6088   9817   7445    919    -29  -1619       C  \nATOM    984  C   THR C 126     -17.685  15.109  20.813  1.00 62.01           C  \nANISOU  984  C   THR C 126     6125   9586   7848    840     52  -1811       C  \nATOM    985  O   THR C 126     -17.755  16.280  21.155  1.00 63.65           O  \nANISOU  985  O   THR C 126     6337   9677   8169    821    186  -2077       O  \nATOM    986  CB  THR C 126     -17.685  13.497  22.717  1.00 63.72           C  \nANISOU  986  CB  THR C 126     6339  10405   7466    900   -223  -1749       C  \nATOM    987  OG1 THR C 126     -18.561  12.682  23.508  1.00 65.64           O  \nANISOU  987  OG1 THR C 126     6647  10899   7394    985   -231  -1575       O  \nATOM    988  CG2 THR C 126     -17.073  14.634  23.565  1.00 66.65           C  \nANISOU  988  CG2 THR C 126     6657  10824   7839    835   -226  -2186       C  \nATOM    989  N   SER C 127     -16.906  14.727  19.810  1.00 60.04           N  \nANISOU  989  N   SER C 127     5846   9191   7772    787      6  -1688       N  \nATOM    990  CA  SER C 127     -16.154  15.724  19.054  1.00 61.14           C  \nANISOU  990  CA  SER C 127     5967   9021   8241    706    131  -1842       C  \nATOM    991  C   SER C 127     -16.919  16.391  17.882  1.00 60.18           C  \nANISOU  991  C   SER C 127     5936   8596   8330    782    352  -1662       C  \nATOM    992  O   SER C 127     -16.327  17.217  17.178  1.00 61.35           O  \nANISOU  992  O   SER C 127     6099   8452   8757    730    500  -1741       O  \nATOM    993  CB  SER C 127     -14.887  15.090  18.485  1.00 60.80           C  \nANISOU  993  CB  SER C 127     5846   8950   8304    616     12  -1809       C  \nATOM    994  OG  SER C 127     -15.226  14.270  17.371  1.00 61.35           O  \nANISOU  994  OG  SER C 127     5970   8949   8392    664     19  -1466       O  \nATOM    995  N   GLY C 128     -18.178  16.030  17.628  1.00 57.94           N  \nANISOU  995  N   GLY C 128     5703   8386   7923    909    380  -1416       N  \nATOM    996  CA  GLY C 128     -18.928  16.621  16.489  1.00 57.19           C  \nANISOU  996  CA  GLY C 128     5675   8063   7989   1023    553  -1222       C  \nATOM    997  C   GLY C 128     -18.858  15.905  15.138  1.00 54.49           C  \nANISOU  997  C   GLY C 128     5353   7673   7676   1040    515   -933       C  \nATOM    998  O   GLY C 128     -19.556  16.295  14.165  1.00 54.26           O  \nANISOU  998  O   GLY C 128     5376   7524   7716   1165    626   -743       O  \nATOM    999  N   GLY C 129     -18.068  14.835  15.079  1.00 52.13           N  \nANISOU  999  N   GLY C 129     5012   7488   7306    936    357   -895       N  \nATOM   1000  CA  GLY C 129     -17.933  14.041  13.873  1.00 49.37           C  \nANISOU 1000  CA  GLY C 129     4677   7111   6968    928    321   -665       C  \nATOM   1001  C   GLY C 129     -18.572  12.683  14.037  1.00 47.69           C  \nANISOU 1001  C   GLY C 129     4428   7150   6541    933    183   -506       C  \nATOM   1002  O   GLY C 129     -18.781  12.232  15.144  1.00 47.86           O  \nANISOU 1002  O   GLY C 129     4417   7358   6408    922    102   -568       O  \nATOM   1003  N   ALA C 130     -18.862  12.022  12.921  1.00 45.34           N  \nANISOU 1003  N   ALA C 130     4141   6853   6231    943    174   -311       N  \nATOM   1004  CA  ALA C 130     -19.513  10.735  12.943  1.00 44.78           C  \nANISOU 1004  CA  ALA C 130     4031   6979   6004    922     85   -180       C  \nATOM   1005  C   ALA C 130     -19.026   9.925  11.737  1.00 43.15           C  \nANISOU 1005  C   ALA C 130     3834   6717   5842    858     64    -64       C  \nATOM   1006  O   ALA C 130     -19.410  10.210  10.603  1.00 44.49           O  \nANISOU 1006  O   ALA C 130     4030   6837   6035    909    120     29       O  \nATOM   1007  CB  ALA C 130     -21.090  10.893  12.918  1.00 44.13           C  \nANISOU 1007  CB  ALA C 130     3914   7030   5823   1028    129   -100       C  \nATOM   1008  N   SER C 131     -18.209   8.915  11.996  1.00 41.43           N  \nANISOU 1008  N   SER C 131     3597   6522   5623    765    -13    -68       N  \nATOM   1009  CA  SER C 131     -17.803   7.947  10.992  1.00 39.27           C  \nANISOU 1009  CA  SER C 131     3327   6207   5387    695    -21     21       C  \nATOM   1010  C   SER C 131     -18.447   6.577  11.144  1.00 39.58           C  \nANISOU 1010  C   SER C 131     3334   6380   5321    647    -57    112       C  \nATOM   1011  O   SER C 131     -18.397   5.942  12.200  1.00 39.97           O  \nANISOU 1011  O   SER C 131     3370   6509   5306    637   -100    120       O  \nATOM   1012  CB  SER C 131     -16.291   7.755  11.057  1.00 40.52           C  \nANISOU 1012  CB  SER C 131     3472   6248   5674    630    -49    -51       C  \nATOM   1013  OG  SER C 131     -15.609   8.965  10.755  1.00 37.35           O  \nANISOU 1013  OG  SER C 131     3089   5684   5418    635     25   -153       O  \nATOM   1014  N   VAL C 132     -18.999   6.084  10.053  1.00 38.45           N  \nANISOU 1014  N   VAL C 132     3184   6260   5165    613    -26    177       N  \nATOM   1015  CA  VAL C 132     -19.604   4.779  10.027  1.00 38.62           C  \nANISOU 1015  CA  VAL C 132     3165   6372   5134    532    -22    227       C  \nATOM   1016  C   VAL C 132     -18.675   3.934   9.181  1.00 37.46           C  \nANISOU 1016  C   VAL C 132     3041   6105   5084    443     -2    233       C  \nATOM   1017  O   VAL C 132     -18.289   4.311   8.096  1.00 36.25           O  \nANISOU 1017  O   VAL C 132     2917   5885   4970    440     22    218       O  \nATOM   1018  CB  VAL C 132     -21.030   4.842   9.429  1.00 39.21           C  \nANISOU 1018  CB  VAL C 132     3173   6601   5121    545     -4    238       C  \nATOM   1019  CG1 VAL C 132     -21.721   3.479   9.586  1.00 41.03           C  \nANISOU 1019  CG1 VAL C 132     3339   6917   5331    425     30    247       C  \nATOM   1020  CG2 VAL C 132     -21.837   5.928  10.125  1.00 40.21           C  \nANISOU 1020  CG2 VAL C 132     3273   6816   5186    667     -4    226       C  \nATOM   1021  N   VAL C 133     -18.269   2.807   9.706  1.00 38.03           N  \nANISOU 1021  N   VAL C 133     3113   6138   5197    386      4    266       N  \nATOM   1022  CA  VAL C 133     -17.248   2.033   9.032  1.00 37.80           C  \nANISOU 1022  CA  VAL C 133     3102   5968   5292    322     37    264       C  \nATOM   1023  C   VAL C 133     -17.803   0.682   8.632  1.00 39.00           C  \nANISOU 1023  C   VAL C 133     3239   6114   5463    210    118    281       C  \nATOM   1024  O   VAL C 133     -18.575   0.009   9.380  1.00 39.89           O  \nANISOU 1024  O   VAL C 133     3335   6284   5536    183    155    330       O  \nATOM   1025  CB  VAL C 133     -16.063   1.838   9.963  1.00 38.70           C  \nANISOU 1025  CB  VAL C 133     3216   6006   5480    374    -12    285       C  \nATOM   1026  CG1 VAL C 133     -15.076   0.851   9.358  1.00 37.61           C  \nANISOU 1026  CG1 VAL C 133     3076   5718   5494    325     39    296       C  \nATOM   1027  CG2 VAL C 133     -15.422   3.213  10.324  1.00 37.66           C  \nANISOU 1027  CG2 VAL C 133     3072   5873   5362    447    -80    202       C  \nATOM   1028  N   CYS C 134     -17.404   0.249   7.460  1.00 39.34           N  \nANISOU 1028  N   CYS C 134     3292   6077   5578    133    173    229       N  \nATOM   1029  CA  CYS C 134     -17.760  -1.090   7.011  1.00 41.21           C  \nANISOU 1029  CA  CYS C 134     3514   6269   5874      1    276    197       C  \nATOM   1030  C   CYS C 134     -16.483  -1.845   6.563  1.00 40.32           C  \nANISOU 1030  C   CYS C 134     3435   5952   5930    -29    348    187       C  \nATOM   1031  O   CYS C 134     -15.651  -1.297   5.820  1.00 39.30           O  \nANISOU 1031  O   CYS C 134     3326   5770   5836     -7    341    143       O  \nATOM   1032  CB  CYS C 134     -18.774  -0.903   5.866  1.00 43.18           C  \nANISOU 1032  CB  CYS C 134     3718   6677   6012    -74    279     91       C  \nATOM   1033  SG  CYS C 134     -19.369  -2.392   5.197  1.00 51.42           S  \nANISOU 1033  SG  CYS C 134     4710   7705   7119   -275    406    -32       S  \nATOM   1034  N   PHE C 135     -16.326  -3.091   7.037  1.00 40.30           N  \nANISOU 1034  N   PHE C 135     3443   5819   6048    -68    444    238       N  \nATOM   1035  CA  PHE C 135     -15.267  -3.966   6.590  1.00 40.43           C  \nANISOU 1035  CA  PHE C 135     3480   5629   6251    -92    543    226       C  \nATOM   1036  C   PHE C 135     -15.875  -5.050   5.707  1.00 41.24           C  \nANISOU 1036  C   PHE C 135     3582   5666   6421   -271    704    106       C  \nATOM   1037  O   PHE C 135     -16.880  -5.696   6.059  1.00 40.76           O  \nANISOU 1037  O   PHE C 135     3505   5627   6354   -360    781    103       O  \nATOM   1038  CB  PHE C 135     -14.532  -4.686   7.745  1.00 41.56           C  \nANISOU 1038  CB  PHE C 135     3640   5637   6512     25    560    387       C  \nATOM   1039  CG  PHE C 135     -13.817  -3.780   8.743  1.00 41.19           C  \nANISOU 1039  CG  PHE C 135     3570   5679   6400    198    390    472       C  \nATOM   1040  CD1 PHE C 135     -13.368  -2.505   8.416  1.00 41.66           C  \nANISOU 1040  CD1 PHE C 135     3595   5821   6412    227    280    382       C  \nATOM   1041  CD2 PHE C 135     -13.538  -4.255  10.015  1.00 44.36           C  \nANISOU 1041  CD2 PHE C 135     3986   6076   6792    335    357    637       C  \nATOM   1042  CE1 PHE C 135     -12.710  -1.727   9.366  1.00 42.87           C  \nANISOU 1042  CE1 PHE C 135     3706   6053   6529    356    139    408       C  \nATOM   1043  CE2 PHE C 135     -12.863  -3.473  10.972  1.00 44.78           C  \nANISOU 1043  CE2 PHE C 135     3997   6254   6760    490    183    676       C  \nATOM   1044  CZ  PHE C 135     -12.465  -2.217  10.650  1.00 43.27           C  \nANISOU 1044  CZ  PHE C 135     3751   6146   6543    484     74    538       C  \nATOM   1045  N   LEU C 136     -15.252  -5.224   4.551  1.00 41.14           N  \nANISOU 1045  N   LEU C 136     3580   5576   6476   -336    771    -16       N  \nATOM   1046  CA  LEU C 136     -15.526  -6.323   3.671  1.00 43.16           C  \nANISOU 1046  CA  LEU C 136     3836   5738   6824   -509    941   -173       C  \nATOM   1047  C   LEU C 136     -14.294  -7.222   3.721  1.00 43.67           C  \nANISOU 1047  C   LEU C 136     3933   5515   7141   -470   1079   -132       C  \nATOM   1048  O   LEU C 136     -13.280  -6.961   3.039  1.00 43.57           O  \nANISOU 1048  O   LEU C 136     3928   5441   7186   -435   1093   -183       O  \nATOM   1049  CB  LEU C 136     -15.773  -5.794   2.256  1.00 44.04           C  \nANISOU 1049  CB  LEU C 136     3939   6016   6777   -597    917   -357       C  \nATOM   1050  CG  LEU C 136     -17.045  -5.004   1.946  1.00 45.43           C  \nANISOU 1050  CG  LEU C 136     4063   6498   6698   -620    788   -414       C  \nATOM   1051  CD1 LEU C 136     -17.027  -3.738   2.727  1.00 48.11           C  \nANISOU 1051  CD1 LEU C 136     4411   6933   6936   -443    630   -245       C  \nATOM   1052  CD2 LEU C 136     -17.161  -4.701   0.433  1.00 45.95           C  \nANISOU 1052  CD2 LEU C 136     4137   6730   6591   -685    783   -585       C  \nATOM   1053  N   ASN C 137     -14.308  -8.226   4.572  1.00 44.07           N  \nANISOU 1053  N   ASN C 137     4004   5385   7354   -447   1191    -17       N  \nATOM   1054  CA  ASN C 137     -13.056  -9.011   4.761  1.00 46.41           C  \nANISOU 1054  CA  ASN C 137     4322   5410   7900   -340   1305     72       C  \nATOM   1055  C   ASN C 137     -12.881 -10.362   4.022  1.00 48.31           C  \nANISOU 1055  C   ASN C 137     4592   5377   8385   -473   1578    -59       C  \nATOM   1056  O   ASN C 137     -13.819 -11.156   3.903  1.00 50.78           O  \nANISOU 1056  O   ASN C 137     4922   5621   8748   -643   1736   -153       O  \nATOM   1057  CB  ASN C 137     -12.824  -9.220   6.254  1.00 46.81           C  \nANISOU 1057  CB  ASN C 137     4392   5409   7985   -143   1253    344       C  \nATOM   1058  CG  ASN C 137     -12.408  -7.955   6.957  1.00 46.53           C  \nANISOU 1058  CG  ASN C 137     4314   5586   7777     23    998    442       C  \nATOM   1059  OD1 ASN C 137     -11.911  -6.986   6.328  1.00 45.58           O  \nANISOU 1059  OD1 ASN C 137     4148   5569   7599     21    891    332       O  \nATOM   1060  ND2 ASN C 137     -12.618  -7.933   8.273  1.00 47.09           N  \nANISOU 1060  ND2 ASN C 137     4405   5723   7762    163    919    641       N  \nATOM   1061  N   ASN C 138     -11.658 -10.624   3.559  1.00 49.61           N  \nANISOU 1061  N   ASN C 138     4749   5372   8728   -400   1653    -82       N  \nATOM   1062  CA  ASN C 138     -11.265 -11.955   3.100  1.00 51.91           C  \nANISOU 1062  CA  ASN C 138     5071   5343   9307   -465   1934   -164       C  \nATOM   1063  C   ASN C 138     -12.083 -12.483   1.937  1.00 53.16           C  \nANISOU 1063  C   ASN C 138     5246   5495   9455   -752   2106   -477       C  \nATOM   1064  O   ASN C 138     -12.741 -13.546   2.026  1.00 55.21           O  \nANISOU 1064  O   ASN C 138     5536   5570   9869   -891   2321   -544       O  \nATOM   1065  CB  ASN C 138     -11.298 -12.930   4.277  1.00 54.08           C  \nANISOU 1065  CB  ASN C 138     5394   5384   9769   -337   2056     84       C  \nATOM   1066  CG  ASN C 138     -10.328 -12.522   5.360  1.00 55.00           C  \nANISOU 1066  CG  ASN C 138     5477   5532   9885    -28   1878    372       C  \nATOM   1067  OD1 ASN C 138     -10.698 -11.853   6.315  1.00 57.66           O  \nANISOU 1067  OD1 ASN C 138     5813   6075  10021     72   1682    533       O  \nATOM   1068  ND2 ASN C 138      -9.048 -12.831   5.151  1.00 58.09           N  \nANISOU 1068  ND2 ASN C 138     5821   5761  10490    118   1929    400       N  \nATOM   1069  N   PHE C 139     -12.041 -11.715   0.851  1.00 51.73           N  \nANISOU 1069  N   PHE C 139     5044   5526   9082   -840   2019   -675       N  \nATOM   1070  CA  PHE C 139     -12.726 -12.055  -0.387  1.00 53.33           C  \nANISOU 1070  CA  PHE C 139     5248   5814   9198  -1094   2133  -1005       C  \nATOM   1071  C   PHE C 139     -11.757 -12.219  -1.550  1.00 53.87           C  \nANISOU 1071  C   PHE C 139     5339   5793   9335  -1130   2271  -1192       C  \nATOM   1072  O   PHE C 139     -10.641 -11.747  -1.478  1.00 52.94           O  \nANISOU 1072  O   PHE C 139     5216   5616   9279   -961   2230  -1065       O  \nATOM   1073  CB  PHE C 139     -13.771 -11.010  -0.730  1.00 51.62           C  \nANISOU 1073  CB  PHE C 139     4996   5996   8621  -1162   1911  -1079       C  \nATOM   1074  CG  PHE C 139     -13.229  -9.630  -0.941  1.00 50.90           C  \nANISOU 1074  CG  PHE C 139     4913   6107   8317  -1008   1707   -970       C  \nATOM   1075  CD1 PHE C 139     -13.265  -8.690   0.086  1.00 49.80           C  \nANISOU 1075  CD1 PHE C 139     4758   6071   8092   -834   1503   -724       C  \nATOM   1076  CD2 PHE C 139     -12.725  -9.245  -2.168  1.00 49.81           C  \nANISOU 1076  CD2 PHE C 139     4807   6055   8060  -1045   1741  -1124       C  \nATOM   1077  CE1 PHE C 139     -12.789  -7.431  -0.124  1.00 47.31           C  \nANISOU 1077  CE1 PHE C 139     4452   5902   7622   -717   1358   -651       C  \nATOM   1078  CE2 PHE C 139     -12.279  -7.987  -2.373  1.00 47.88           C  \nANISOU 1078  CE2 PHE C 139     4584   5961   7644   -917   1603  -1016       C  \nATOM   1079  CZ  PHE C 139     -12.286  -7.078  -1.362  1.00 47.39           C  \nANISOU 1079  CZ  PHE C 139     4499   5962   7543   -758   1419   -786       C  \nATOM   1080  N   TYR C 140     -12.196 -12.910  -2.596  1.00 55.78           N  \nANISOU 1080  N   TYR C 140     5593   6030   9571  -1361   2445  -1515       N  \nATOM   1081  CA  TYR C 140     -11.427 -13.103  -3.822  1.00 57.43           C  \nANISOU 1081  CA  TYR C 140     5833   6189   9796  -1429   2603  -1746       C  \nATOM   1082  C   TYR C 140     -12.411 -13.387  -4.950  1.00 59.50           C  \nANISOU 1082  C   TYR C 140     6090   6675   9841  -1699   2655  -2123       C  \nATOM   1083  O   TYR C 140     -13.362 -14.128  -4.743  1.00 60.68           O  \nANISOU 1083  O   TYR C 140     6199   6792  10065  -1871   2730  -2265       O  \nATOM   1084  CB  TYR C 140     -10.456 -14.280  -3.702  1.00 59.68           C  \nANISOU 1084  CB  TYR C 140     6138   6033  10502  -1394   2898  -1757       C  \nATOM   1085  CG  TYR C 140      -9.479 -14.324  -4.854  1.00 61.08           C  \nANISOU 1085  CG  TYR C 140     6341   6157  10707  -1419   3059  -1956       C  \nATOM   1086  CD1 TYR C 140      -9.816 -14.954  -6.052  1.00 66.16           C  \nANISOU 1086  CD1 TYR C 140     7018   6825  11293  -1664   3258  -2349       C  \nATOM   1087  CD2 TYR C 140      -8.230 -13.769  -4.745  1.00 58.40           C  \nANISOU 1087  CD2 TYR C 140     5981   5752  10457  -1213   3029  -1781       C  \nATOM   1088  CE1 TYR C 140      -8.939 -14.996  -7.123  1.00 67.08           C  \nANISOU 1088  CE1 TYR C 140     7171   6906  11408  -1690   3428  -2542       C  \nATOM   1089  CE2 TYR C 140      -7.325 -13.798  -5.833  1.00 61.23           C  \nANISOU 1089  CE2 TYR C 140     6359   6059  10846  -1245   3212  -1972       C  \nATOM   1090  CZ  TYR C 140      -7.707 -14.411  -7.018  1.00 65.61           C  \nANISOU 1090  CZ  TYR C 140     6972   6643  11312  -1480   3415  -2342       C  \nATOM   1091  OH  TYR C 140      -6.865 -14.483  -8.099  1.00 66.96           O  \nANISOU 1091  OH  TYR C 140     7177   6773  11491  -1520   3621  -2545       O  \nATOM   1092  N   PRO C 141     -12.204 -12.794  -6.137  1.00 60.20           N  \nANISOU 1092  N   PRO C 141     6212   7009   9650  -1737   2619  -2292       N  \nATOM   1093  CA  PRO C 141     -11.134 -11.871  -6.513  1.00 59.25           C  \nANISOU 1093  CA  PRO C 141     6144   6933   9434  -1566   2573  -2152       C  \nATOM   1094  C   PRO C 141     -11.252 -10.472  -5.932  1.00 56.81           C  \nANISOU 1094  C   PRO C 141     5827   6846   8911  -1379   2289  -1852       C  \nATOM   1095  O   PRO C 141     -12.179 -10.172  -5.178  1.00 54.62           O  \nANISOU 1095  O   PRO C 141     5504   6704   8544  -1359   2106  -1735       O  \nATOM   1096  CB  PRO C 141     -11.226 -11.847  -8.052  1.00 61.59           C  \nANISOU 1096  CB  PRO C 141     6497   7457   9447  -1717   2663  -2475       C  \nATOM   1097  CG  PRO C 141     -12.653 -12.186  -8.321  1.00 62.72           C  \nANISOU 1097  CG  PRO C 141     6583   7864   9383  -1914   2578  -2714       C  \nATOM   1098  CD  PRO C 141     -12.951 -13.239  -7.325  1.00 62.88           C  \nANISOU 1098  CD  PRO C 141     6542   7563   9783  -1988   2696  -2701       C  \nATOM   1099  N   LYS C 142     -10.274  -9.633  -6.280  1.00 56.47           N  \nANISOU 1099  N   LYS C 142     5826   6811   8816  -1250   2286  -1743       N  \nATOM   1100  CA  LYS C 142     -10.101  -8.297  -5.712  1.00 54.79           C  \nANISOU 1100  CA  LYS C 142     5610   6719   8486  -1069   2078  -1469       C  \nATOM   1101  C   LYS C 142     -11.221  -7.331  -6.055  1.00 54.13           C  \nANISOU 1101  C   LYS C 142     5556   7008   8000  -1068   1874  -1447       C  \nATOM   1102  O   LYS C 142     -11.515  -6.436  -5.274  1.00 51.97           O  \nANISOU 1102  O   LYS C 142     5260   6820   7663   -941   1686  -1233       O  \nATOM   1103  CB  LYS C 142      -8.773  -7.694  -6.210  1.00 55.35           C  \nANISOU 1103  CB  LYS C 142     5715   6692   8624   -978   2192  -1419       C  \nATOM   1104  CG  LYS C 142      -8.550  -6.232  -5.765  1.00 56.20           C  \nANISOU 1104  CG  LYS C 142     5824   6904   8623   -822   2023  -1182       C  \nATOM   1105  CD  LYS C 142      -7.178  -5.631  -6.261  1.00 59.42           C  \nANISOU 1105  CD  LYS C 142     6246   7185   9146   -761   2182  -1154       C  \nATOM   1106  CE  LYS C 142      -6.809  -4.348  -5.453  1.00 60.11           C  \nANISOU 1106  CE  LYS C 142     6288   7278   9271   -619   2036   -935       C  \nATOM   1107  NZ  LYS C 142      -5.339  -4.401  -5.074  1.00 59.52           N  \nANISOU 1107  NZ  LYS C 142     6094   6961   9559   -556   2150   -917       N  \nATOM   1108  N   ASP C 143     -11.815  -7.469  -7.219  1.00 56.31           N  \nANISOU 1108  N   ASP C 143     5877   7519   7997  -1189   1908  -1669       N  \nATOM   1109  CA  ASP C 143     -12.827  -6.553  -7.644  1.00 57.22           C  \nANISOU 1109  CA  ASP C 143     6010   8017   7712  -1148   1711  -1636       C  \nATOM   1110  C   ASP C 143     -14.071  -6.679  -6.793  1.00 56.46           C  \nANISOU 1110  C   ASP C 143     5804   8049   7599  -1174   1527  -1610       C  \nATOM   1111  O   ASP C 143     -14.555  -7.749  -6.576  1.00 56.04           O  \nANISOU 1111  O   ASP C 143     5676   7924   7691  -1332   1591  -1787       O  \nATOM   1112  CB  ASP C 143     -13.151  -6.845  -9.083  1.00 61.50           C  \nANISOU 1112  CB  ASP C 143     6607   8813   7948  -1269   1786  -1910       C  \nATOM   1113  CG  ASP C 143     -14.172  -5.915  -9.651  1.00 66.56           C  \nANISOU 1113  CG  ASP C 143     7262   9893   8135  -1188   1575  -1868       C  \nATOM   1114  OD1 ASP C 143     -14.395  -4.830  -9.096  1.00 71.85           O  \nANISOU 1114  OD1 ASP C 143     7939  10628   8731  -1008   1416  -1593       O  \nATOM   1115  OD2 ASP C 143     -14.768  -6.261 -10.678  1.00 74.91           O  \nANISOU 1115  OD2 ASP C 143     8317  11249   8896  -1293   1567  -2121       O  \nATOM   1116  N   ILE C 144     -14.565  -5.558  -6.306  1.00 54.54           N  \nANISOU 1116  N   ILE C 144     5550   7973   7197  -1019   1326  -1390       N  \nATOM   1117  CA  ILE C 144     -15.735  -5.545  -5.458  1.00 53.80           C  \nANISOU 1117  CA  ILE C 144     5346   8012   7083  -1023   1159  -1348       C  \nATOM   1118  C   ILE C 144     -16.329  -4.166  -5.445  1.00 53.07           C  \nANISOU 1118  C   ILE C 144     5264   8186   6714   -842    959  -1161       C  \nATOM   1119  O   ILE C 144     -15.643  -3.209  -5.702  1.00 52.85           O  \nANISOU 1119  O   ILE C 144     5339   8123   6615   -697    970   -998       O  \nATOM   1120  CB  ILE C 144     -15.360  -5.965  -4.059  1.00 52.22           C  \nANISOU 1120  CB  ILE C 144     5109   7504   7229   -997   1191  -1201       C  \nATOM   1121  CG1 ILE C 144     -16.586  -6.282  -3.232  1.00 51.82           C  \nANISOU 1121  CG1 ILE C 144     4946   7553   7190  -1055   1095  -1208       C  \nATOM   1122  CG2 ILE C 144     -14.567  -4.917  -3.396  1.00 49.29           C  \nANISOU 1122  CG2 ILE C 144     4785   7024   6916   -801   1124   -938       C  \nATOM   1123  CD1 ILE C 144     -16.272  -7.075  -2.056  1.00 50.70           C  \nANISOU 1123  CD1 ILE C 144     4787   7106   7368  -1069   1190  -1112       C  \nATOM   1124  N   ASN C 145     -17.603  -4.065  -5.134  1.00 52.88           N  \nANISOU 1124  N   ASN C 145     5124   8406   6559   -848    801  -1186       N  \nATOM   1125  CA  ASN C 145     -18.271  -2.797  -5.053  1.00 52.30           C  \nANISOU 1125  CA  ASN C 145     5043   8577   6250   -655    618  -1006       C  \nATOM   1126  C   ASN C 145     -18.977  -2.661  -3.718  1.00 50.96           C  \nANISOU 1126  C   ASN C 145     4766   8379   6216   -618    516   -895       C  \nATOM   1127  O   ASN C 145     -19.545  -3.603  -3.248  1.00 51.41           O  \nANISOU 1127  O   ASN C 145     4712   8415   6405   -772    542  -1030       O  \nATOM   1128  CB  ASN C 145     -19.301  -2.671  -6.158  1.00 54.68           C  \nANISOU 1128  CB  ASN C 145     5280   9311   6182   -658    499  -1157       C  \nATOM   1129  CG  ASN C 145     -18.689  -2.460  -7.516  1.00 55.40           C  \nANISOU 1129  CG  ASN C 145     5512   9507   6029   -625    575  -1205       C  \nATOM   1130  OD1 ASN C 145     -17.665  -1.807  -7.669  1.00 54.81           O  \nANISOU 1130  OD1 ASN C 145     5596   9239   5988   -511    680  -1024       O  \nATOM   1131  ND2 ASN C 145     -19.333  -2.998  -8.523  1.00 56.18           N  \nANISOU 1131  ND2 ASN C 145     5544   9932   5869   -732    532  -1466       N  \nATOM   1132  N   VAL C 146     -18.952  -1.485  -3.123  1.00 49.53           N  \nANISOU 1132  N   VAL C 146     4623   8189   6006   -421    427   -661       N  \nATOM   1133  CA  VAL C 146     -19.668  -1.241  -1.881  1.00 48.42           C  \nANISOU 1133  CA  VAL C 146     4388   8056   5953   -370    334   -563       C  \nATOM   1134  C   VAL C 146     -20.570  -0.045  -2.056  1.00 48.66           C  \nANISOU 1134  C   VAL C 146     4383   8362   5744   -181    183   -453       C  \nATOM   1135  O   VAL C 146     -20.208   0.902  -2.685  1.00 48.82           O  \nANISOU 1135  O   VAL C 146     4511   8416   5622    -27    175   -333       O  \nATOM   1136  CB  VAL C 146     -18.735  -1.005  -0.720  1.00 46.48           C  \nANISOU 1136  CB  VAL C 146     4209   7503   5947   -306    383   -400       C  \nATOM   1137  CG1 VAL C 146     -17.992   0.211  -0.935  1.00 48.39           C  \nANISOU 1137  CG1 VAL C 146     4562   7677   6144   -143    381   -250       C  \nATOM   1138  CG2 VAL C 146     -19.473  -0.860   0.535  1.00 45.34           C  \nANISOU 1138  CG2 VAL C 146     3982   7385   5860   -267    309   -323       C  \nATOM   1139  N   LYS C 147     -21.774  -0.118  -1.529  1.00 48.62           N  \nANISOU 1139  N   LYS C 147     4220   8548   5704   -188     83   -494       N  \nATOM   1140  CA  LYS C 147     -22.723   0.965  -1.653  1.00 49.02           C  \nANISOU 1140  CA  LYS C 147     4205   8871   5549     12    -60   -393       C  \nATOM   1141  C   LYS C 147     -23.265   1.357  -0.295  1.00 46.76           C  \nANISOU 1141  C   LYS C 147     3844   8529   5393     77    -93   -293       C  \nATOM   1142  O   LYS C 147     -23.623   0.538   0.476  1.00 46.16           O  \nANISOU 1142  O   LYS C 147     3673   8402   5461    -69    -54   -381       O  \nATOM   1143  CB  LYS C 147     -23.852   0.550  -2.596  1.00 51.98           C  \nANISOU 1143  CB  LYS C 147     4407   9649   5692    -42   -172   -588       C  \nATOM   1144  CG  LYS C 147     -24.985   1.506  -2.694  1.00 55.24           C  \nANISOU 1144  CG  LYS C 147     4696  10390   5903    176   -338   -501       C  \nATOM   1145  CD  LYS C 147     -26.226   0.899  -3.305  1.00 58.84           C  \nANISOU 1145  CD  LYS C 147     4896  11268   6190     83   -468   -749       C  \nATOM   1146  CE  LYS C 147     -26.020   0.558  -4.736  1.00 62.13           C  \nANISOU 1146  CE  LYS C 147     5347  11911   6349     40   -504   -897       C  \nATOM   1147  NZ  LYS C 147     -27.172  -0.127  -5.323  1.00 67.15           N  \nANISOU 1147  NZ  LYS C 147     5705  12979   6828    -89   -637  -1204       N  \nATOM   1148  N   TRP C 148     -23.320   2.632  -0.019  1.00 45.55           N  \nANISOU 1148  N   TRP C 148     3746   8372   5187    303   -139   -108       N  \nATOM   1149  CA  TRP C 148     -23.917   3.098   1.231  1.00 44.29           C  \nANISOU 1149  CA  TRP C 148     3513   8192   5121    379   -165    -35       C  \nATOM   1150  C   TRP C 148     -25.335   3.629   0.949  1.00 44.76           C  \nANISOU 1150  C   TRP C 148     3398   8600   5007    521   -291    -41       C  \nATOM   1151  O   TRP C 148     -25.552   4.255  -0.067  1.00 45.44           O  \nANISOU 1151  O   TRP C 148     3499   8873   4893    682   -363     17       O  \nATOM   1152  CB  TRP C 148     -23.075   4.190   1.854  1.00 42.96           C  \nANISOU 1152  CB  TRP C 148     3500   7772   5047    529   -114    135       C  \nATOM   1153  CG  TRP C 148     -21.806   3.711   2.480  1.00 40.61           C  \nANISOU 1153  CG  TRP C 148     3310   7172   4948    409    -20    129       C  \nATOM   1154  CD1 TRP C 148     -20.564   3.620   1.875  1.00 41.53           C  \nANISOU 1154  CD1 TRP C 148     3553   7101   5122    368     58    137       C  \nATOM   1155  CD2 TRP C 148     -21.619   3.331   3.826  1.00 36.75           C  \nANISOU 1155  CD2 TRP C 148     2803   6549   4610    345      4    128       C  \nATOM   1156  NE1 TRP C 148     -19.639   3.170   2.783  1.00 39.78           N  \nANISOU 1156  NE1 TRP C 148     3364   6652   5098    285    110    129       N  \nATOM   1157  CE2 TRP C 148     -20.266   2.968   3.983  1.00 41.12           C  \nANISOU 1157  CE2 TRP C 148     3455   6859   5307    278     71    133       C  \nATOM   1158  CE3 TRP C 148     -22.471   3.205   4.920  1.00 38.61           C  \nANISOU 1158  CE3 TRP C 148     2944   6863   4863    342    -15    123       C  \nATOM   1159  CZ2 TRP C 148     -19.745   2.518   5.214  1.00 40.19           C  \nANISOU 1159  CZ2 TRP C 148     3344   6601   5325    236     89    149       C  \nATOM   1160  CZ3 TRP C 148     -21.986   2.734   6.096  1.00 38.51           C  \nANISOU 1160  CZ3 TRP C 148     2961   6702   4967    285     27    143       C  \nATOM   1161  CH2 TRP C 148     -20.617   2.425   6.259  1.00 42.06           C  \nANISOU 1161  CH2 TRP C 148     3513   6932   5536    248     65    164       C  \nATOM   1162  N   LYS C 149     -26.267   3.353   1.861  1.00 44.58           N  \nANISOU 1162  N   LYS C 149     3208   8667   5060    471   -305   -103       N  \nATOM   1163  CA  LYS C 149     -27.595   3.911   1.854  1.00 46.45           C  \nANISOU 1163  CA  LYS C 149     3248   9210   5190    619   -410   -107       C  \nATOM   1164  C   LYS C 149     -27.821   4.490   3.260  1.00 45.60           C  \nANISOU 1164  C   LYS C 149     3141   8961   5222    700   -350    -14       C  \nATOM   1165  O   LYS C 149     -27.526   3.824   4.283  1.00 43.00           O  \nANISOU 1165  O   LYS C 149     2842   8447   5048    536   -251    -51       O  \nATOM   1166  CB  LYS C 149     -28.656   2.830   1.531  1.00 48.76           C  \nANISOU 1166  CB  LYS C 149     3276   9798   5451    426   -461   -349       C  \nATOM   1167  CG  LYS C 149     -28.665   2.281   0.099  1.00 51.44           C  \nANISOU 1167  CG  LYS C 149     3566  10369   5608    346   -544   -503       C  \nATOM   1168  CD  LYS C 149     -29.680   1.119  -0.066  1.00 55.17           C  \nANISOU 1168  CD  LYS C 149     3753  11099   6108     92   -564   -810       C  \nATOM   1169  CE  LYS C 149     -29.769   0.626  -1.518  1.00 60.17           C  \nANISOU 1169  CE  LYS C 149     4312  12026   6523     14   -667  -1016       C  \nATOM   1170  NZ  LYS C 149     -30.980  -0.221  -1.854  1.00 65.92           N  \nANISOU 1170  NZ  LYS C 149     4693  13122   7229   -187   -737  -1355       N  \nATOM   1171  N   ILE C 150     -28.306   5.739   3.288  1.00 45.88           N  \nANISOU 1171  N   ILE C 150     3160   9079   5191    969   -398    114       N  \nATOM   1172  CA  ILE C 150     -28.696   6.424   4.521  1.00 45.73           C  \nANISOU 1172  CA  ILE C 150     3120   8975   5278   1073   -340    173       C  \nATOM   1173  C   ILE C 150     -30.198   6.656   4.422  1.00 47.45           C  \nANISOU 1173  C   ILE C 150     3067   9536   5426   1197   -423    124       C  \nATOM   1174  O   ILE C 150     -30.653   7.297   3.492  1.00 49.68           O  \nANISOU 1174  O   ILE C 150     3285  10026   5564   1412   -528    193       O  \nATOM   1175  CB  ILE C 150     -27.970   7.798   4.686  1.00 45.37           C  \nANISOU 1175  CB  ILE C 150     3281   8691   5266   1296   -285    346       C  \nATOM   1176  CG1 ILE C 150     -26.459   7.628   4.830  1.00 44.71           C  \nANISOU 1176  CG1 ILE C 150     3424   8285   5277   1172   -205    367       C  \nATOM   1177  CG2 ILE C 150     -28.524   8.549   5.917  1.00 45.88           C  \nANISOU 1177  CG2 ILE C 150     3302   8705   5426   1411   -221    363       C  \nATOM   1178  CD1 ILE C 150     -25.712   8.931   4.794  1.00 42.63           C  \nANISOU 1178  CD1 ILE C 150     3342   7785   5066   1351   -130    496       C  \nATOM   1179  N   ASP C 151     -30.973   6.083   5.338  1.00 47.44           N  \nANISOU 1179  N   ASP C 151     2894   9611   5519   1065   -370      8       N  \nATOM   1180  CA  ASP C 151     -32.428   6.007   5.189  1.00 49.33           C  \nANISOU 1180  CA  ASP C 151     2811  10209   5721   1112   -441    -99       C  \nATOM   1181  C   ASP C 151     -32.821   5.602   3.789  1.00 51.09           C  \nANISOU 1181  C   ASP C 151     2878  10752   5782   1103   -602   -198       C  \nATOM   1182  O   ASP C 151     -33.659   6.226   3.173  1.00 53.40           O  \nANISOU 1182  O   ASP C 151     2988  11350   5949   1332   -736   -175       O  \nATOM   1183  CB  ASP C 151     -33.139   7.318   5.612  1.00 50.31           C  \nANISOU 1183  CB  ASP C 151     2864  10401   5849   1427   -445     16       C  \nATOM   1184  CG  ASP C 151     -33.286   7.447   7.133  1.00 49.31           C  \nANISOU 1184  CG  ASP C 151     2762  10100   5871   1379   -281      4       C  \nATOM   1185  OD1 ASP C 151     -33.083   6.457   7.879  1.00 50.35           O  \nANISOU 1185  OD1 ASP C 151     2918  10127   6084   1114   -175    -85       O  \nATOM   1186  OD2 ASP C 151     -33.594   8.545   7.611  1.00 50.08           O  \nANISOU 1186  OD2 ASP C 151     2868  10157   6000   1616   -239     91       O  \nATOM   1187  N   GLY C 152     -32.179   4.556   3.286  1.00 51.42           N  \nANISOU 1187  N   GLY C 152     2992  10727   5817    850   -587   -312       N  \nATOM   1188  CA  GLY C 152     -32.475   4.001   1.956  1.00 53.53           C  \nANISOU 1188  CA  GLY C 152     3117  11305   5914    784   -727   -468       C  \nATOM   1189  C   GLY C 152     -31.861   4.705   0.765  1.00 54.51           C  \nANISOU 1189  C   GLY C 152     3411  11485   5812   1003   -837   -321       C  \nATOM   1190  O   GLY C 152     -31.823   4.157  -0.329  1.00 56.26           O  \nANISOU 1190  O   GLY C 152     3586  11920   5869    921   -930   -451       O  \nATOM   1191  N   SER C 153     -31.379   5.920   0.968  1.00 54.15           N  \nANISOU 1191  N   SER C 153     3569  11245   5759   1276   -805    -59       N  \nATOM   1192  CA  SER C 153     -30.921   6.763  -0.123  1.00 55.92           C  \nANISOU 1192  CA  SER C 153     3959  11514   5772   1533   -871    129       C  \nATOM   1193  C   SER C 153     -29.402   6.527  -0.391  1.00 53.48           C  \nANISOU 1193  C   SER C 153     3967  10851   5502   1397   -748    184       C  \nATOM   1194  O   SER C 153     -28.590   6.625   0.517  1.00 48.22           O  \nANISOU 1194  O   SER C 153     3465   9812   5043   1313   -607    240       O  \nATOM   1195  CB  SER C 153     -31.192   8.211   0.280  1.00 56.81           C  \nANISOU 1195  CB  SER C 153     4130  11542   5913   1889   -844    377       C  \nATOM   1196  OG  SER C 153     -30.698   9.095  -0.691  1.00 61.65           O  \nANISOU 1196  OG  SER C 153     4942  12129   6351   2153   -853    605       O  \nATOM   1197  N   GLU C 154     -29.032   6.188  -1.627  1.00 55.02           N  \nANISOU 1197  N   GLU C 154     4225  11189   5490   1372   -803    149       N  \nATOM   1198  CA  GLU C 154     -27.599   5.913  -1.935  1.00 53.99           C  \nANISOU 1198  CA  GLU C 154     4368  10734   5410   1236   -668    181       C  \nATOM   1199  C   GLU C 154     -26.747   7.149  -1.681  1.00 52.65           C  \nANISOU 1199  C   GLU C 154     4454  10226   5322   1444   -541    451       C  \nATOM   1200  O   GLU C 154     -27.059   8.242  -2.114  1.00 54.38           O  \nANISOU 1200  O   GLU C 154     4725  10525   5410   1746   -564    654       O  \nATOM   1201  CB  GLU C 154     -27.430   5.440  -3.386  1.00 55.83           C  \nANISOU 1201  CB  GLU C 154     4627  11216   5369   1202   -735     94       C  \nATOM   1202  CG  GLU C 154     -25.998   5.317  -3.891  1.00 55.98           C  \nANISOU 1202  CG  GLU C 154     4924  10937   5408   1115   -582    149       C  \nATOM   1203  CD  GLU C 154     -25.944   4.863  -5.354  1.00 61.95           C  \nANISOU 1203  CD  GLU C 154     5700  11987   5848   1093   -642     45       C  \nATOM   1204  OE1 GLU C 154     -26.656   5.431  -6.198  1.00 67.23           O  \nANISOU 1204  OE1 GLU C 154     6314  13027   6201   1337   -783    131       O  \nATOM   1205  OE2 GLU C 154     -25.196   3.929  -5.681  1.00 63.80           O  \nANISOU 1205  OE2 GLU C 154     6003  12101   6134    845   -549   -126       O  \nATOM   1206  N   ARG C 155     -25.658   6.971  -0.991  1.00 51.72           N  \nANISOU 1206  N   ARG C 155     4490   9727   5431   1285   -398    446       N  \nATOM   1207  CA  ARG C 155     -24.774   8.058  -0.721  1.00 52.65           C  \nANISOU 1207  CA  ARG C 155     4825   9513   5667   1424   -260    637       C  \nATOM   1208  C   ARG C 155     -23.446   7.880  -1.475  1.00 54.64           C  \nANISOU 1208  C   ARG C 155     5282   9557   5921   1329   -139    659       C  \nATOM   1209  O   ARG C 155     -22.750   6.879  -1.241  1.00 52.25           O  \nANISOU 1209  O   ARG C 155     4982   9128   5742   1079    -99    509       O  \nATOM   1210  CB  ARG C 155     -24.513   8.033   0.771  1.00 50.26           C  \nANISOU 1210  CB  ARG C 155     4506   8960   5630   1313   -197    582       C  \nATOM   1211  CG  ARG C 155     -23.526   9.039   1.242  1.00 48.92           C  \nANISOU 1211  CG  ARG C 155     4522   8434   5629   1389    -52    696       C  \nATOM   1212  CD  ARG C 155     -24.163  10.391   1.294  1.00 52.08           C  \nANISOU 1212  CD  ARG C 155     4945   8836   6006   1678    -24    860       C  \nATOM   1213  NE  ARG C 155     -23.235  11.325   1.909  1.00 50.79           N  \nANISOU 1213  NE  ARG C 155     4941   8300   6057   1704    140    911       N  \nATOM   1214  CZ  ARG C 155     -23.576  12.281   2.757  1.00 54.18           C  \nANISOU 1214  CZ  ARG C 155     5368   8607   6608   1837    203    941       C  \nATOM   1215  NH1 ARG C 155     -24.845  12.491   3.099  1.00 55.55           N  \nANISOU 1215  NH1 ARG C 155     5391   8996   6717   1985    121    955       N  \nATOM   1216  NH2 ARG C 155     -22.635  13.051   3.256  1.00 57.98           N  \nANISOU 1216  NH2 ARG C 155     5984   8750   7293   1815    361    933       N  \nATOM   1217  N   GLN C 156     -23.056   8.839  -2.319  1.00 58.80           N  \nANISOU 1217  N   GLN C 156     5985  10020   6335   1531    -51    855       N  \nATOM   1218  CA  GLN C 156     -21.678   8.778  -2.932  1.00 61.16           C  \nANISOU 1218  CA  GLN C 156     6488  10066   6682   1433    118    881       C  \nATOM   1219  C   GLN C 156     -20.479   9.561  -2.284  1.00 60.51           C  \nANISOU 1219  C   GLN C 156     6561   9534   6893   1412    320    954       C  \nATOM   1220  O   GLN C 156     -19.384   8.978  -2.045  1.00 60.21           O  \nANISOU 1220  O   GLN C 156     6556   9282   7036   1200    406    837       O  \nATOM   1221  CB  GLN C 156     -21.747   9.063  -4.423  1.00 64.33           C  \nANISOU 1221  CB  GLN C 156     7007  10667   6766   1596    135   1013       C  \nATOM   1222  CG  GLN C 156     -22.611   8.029  -5.158  1.00 68.72           C  \nANISOU 1222  CG  GLN C 156     7398  11672   7040   1526    -58    842       C  \nATOM   1223  CD  GLN C 156     -22.012   7.550  -6.478  1.00 73.58           C  \nANISOU 1223  CD  GLN C 156     8140  12395   7422   1465      3    802       C  \nATOM   1224  OE1 GLN C 156     -20.830   7.178  -6.554  1.00 75.27           O  \nANISOU 1224  OE1 GLN C 156     8480  12328   7791   1286    173    743       O  \nATOM   1225  NE2 GLN C 156     -22.841   7.521  -7.518  1.00 78.40           N  \nANISOU 1225  NE2 GLN C 156     8698  13442   7645   1615   -141    815       N  \nATOM   1226  N   ASN C 157     -20.650  10.851  -2.034  1.00 61.52           N  \nANISOU 1226  N   ASN C 157     6770   9521   7082   1627    407   1128       N  \nATOM   1227  CA  ASN C 157     -19.633  11.690  -1.406  1.00 60.47           C  \nANISOU 1227  CA  ASN C 157     6757   8979   7240   1600    606   1155       C  \nATOM   1228  C   ASN C 157     -19.584  11.624   0.133  1.00 56.94           C  \nANISOU 1228  C   ASN C 157     6190   8405   7037   1479    556    997       C  \nATOM   1229  O   ASN C 157     -20.570  11.357   0.730  1.00 56.04           O  \nANISOU 1229  O   ASN C 157     5936   8489   6866   1510    409    949       O  \nATOM   1230  CB  ASN C 157     -19.855  13.093  -1.888  1.00 64.11           C  \nANISOU 1230  CB  ASN C 157     7372   9318   7666   1882    760   1404       C  \nATOM   1231  CG  ASN C 157     -20.354  13.138  -3.339  1.00 68.54           C  \nANISOU 1231  CG  ASN C 157     8021  10145   7875   2084    738   1599       C  \nATOM   1232  OD1 ASN C 157     -19.565  13.118  -4.268  1.00 74.39           O  \nANISOU 1232  OD1 ASN C 157     8920  10801   8540   2057    884   1672       O  \nATOM   1233  ND2 ASN C 157     -21.668  13.228  -3.522  1.00 73.40           N  \nANISOU 1233  ND2 ASN C 157     8524  11100   8265   2299    557   1681       N  \nATOM   1234  N   GLY C 158     -18.436  11.847   0.767  1.00 54.39           N  \nANISOU 1234  N   GLY C 158     5911   7779   6974   1342    678    904       N  \nATOM   1235  CA  GLY C 158     -18.276  11.530   2.189  1.00 51.02           C  \nANISOU 1235  CA  GLY C 158     5364   7301   6718   1207    597    728       C  \nATOM   1236  C   GLY C 158     -17.734  10.108   2.432  1.00 47.91           C  \nANISOU 1236  C   GLY C 158     4879   6977   6345    987    496    583       C  \nATOM   1237  O   GLY C 158     -17.533   9.718   3.579  1.00 46.16           O  \nANISOU 1237  O   GLY C 158     4569   6736   6232    890    424    463       O  \nATOM   1238  N   VAL C 159     -17.539   9.325   1.369  1.00 46.30           N  \nANISOU 1238  N   VAL C 159     4702   6863   6024    925    498    597       N  \nATOM   1239  CA  VAL C 159     -17.134   7.905   1.481  1.00 44.60           C  \nANISOU 1239  CA  VAL C 159     4406   6700   5837    734    429    468       C  \nATOM   1240  C   VAL C 159     -15.664   7.696   1.046  1.00 43.78           C  \nANISOU 1240  C   VAL C 159     4365   6376   5892    620    565    420       C  \nATOM   1241  O   VAL C 159     -15.291   8.118  -0.022  1.00 45.64           O  \nANISOU 1241  O   VAL C 159     4714   6552   6075    661    698    493       O  \nATOM   1242  CB  VAL C 159     -18.022   6.994   0.602  1.00 44.92           C  \nANISOU 1242  CB  VAL C 159     4402   7016   5649    712    342    455       C  \nATOM   1243  CG1 VAL C 159     -17.521   5.543   0.613  1.00 45.56           C  \nANISOU 1243  CG1 VAL C 159     4424   7084   5800    509    331    316       C  \nATOM   1244  CG2 VAL C 159     -19.504   7.057   1.049  1.00 45.42           C  \nANISOU 1244  CG2 VAL C 159     4349   7328   5579    802    202    469       C  \nATOM   1245  N   LEU C 160     -14.838   7.067   1.862  1.00 41.15           N  \nANISOU 1245  N   LEU C 160     3954   5934   5747    497    542    308       N  \nATOM   1246  CA  LEU C 160     -13.436   6.812   1.467  1.00 41.10           C  \nANISOU 1246  CA  LEU C 160     3964   5735   5917    396    667    245       C  \nATOM   1247  C   LEU C 160     -13.173   5.333   1.644  1.00 39.70           C  \nANISOU 1247  C   LEU C 160     3701   5601   5782    279    602    159       C  \nATOM   1248  O   LEU C 160     -13.571   4.746   2.652  1.00 39.00           O  \nANISOU 1248  O   LEU C 160     3528   5586   5705    265    476    133       O  \nATOM   1249  CB  LEU C 160     -12.454   7.622   2.280  1.00 40.93           C  \nANISOU 1249  CB  LEU C 160     3904   5510   6135    382    723    180       C  \nATOM   1250  CG  LEU C 160     -12.498   9.144   2.019  1.00 42.61           C  \nANISOU 1250  CG  LEU C 160     4220   5586   6383    476    867    249       C  \nATOM   1251  CD1 LEU C 160     -11.727   9.891   3.088  1.00 45.95           C  \nANISOU 1251  CD1 LEU C 160     4564   5843   7049    434    892    117       C  \nATOM   1252  CD2 LEU C 160     -11.994   9.522   0.627  1.00 40.84           C  \nANISOU 1252  CD2 LEU C 160     4132   5240   6142    485   1088    338       C  \nATOM   1253  N   ASN C 161     -12.547   4.738   0.641  1.00 39.45           N  \nANISOU 1253  N   ASN C 161     3706   5515   5766    205    715    123       N  \nATOM   1254  CA  ASN C 161     -12.362   3.277   0.563  1.00 39.09           C  \nANISOU 1254  CA  ASN C 161     3601   5484   5765     98    701     39       C  \nATOM   1255  C   ASN C 161     -10.893   2.911   0.602  1.00 38.64           C  \nANISOU 1255  C   ASN C 161     3495   5222   5961     38    804    -30       C  \nATOM   1256  O   ASN C 161     -10.090   3.646   0.095  1.00 39.58           O  \nANISOU 1256  O   ASN C 161     3653   5220   6165     40    936    -33       O  \nATOM   1257  CB  ASN C 161     -12.937   2.737  -0.736  1.00 39.50           C  \nANISOU 1257  CB  ASN C 161     3722   5671   5613     53    755     10       C  \nATOM   1258  CG  ASN C 161     -14.438   2.940  -0.821  1.00 41.12           C  \nANISOU 1258  CG  ASN C 161     3924   6130   5567    112    629     52       C  \nATOM   1259  OD1 ASN C 161     -15.103   2.908   0.189  1.00 40.60           O  \nANISOU 1259  OD1 ASN C 161     3783   6126   5518    136    511     70       O  \nATOM   1260  ND2 ASN C 161     -14.968   3.156  -2.034  1.00 41.98           N  \nANISOU 1260  ND2 ASN C 161     4107   6410   5431    148    656     65       N  \nATOM   1261  N   SER C 162     -10.537   1.742   1.135  1.00 38.21           N  \nANISOU 1261  N   SER C 162     3354   5123   6039     -9    769    -80       N  \nATOM   1262  CA  SER C 162      -9.147   1.339   1.125  1.00 39.12           C  \nANISOU 1262  CA  SER C 162     3395   5063   6404    -38    862   -145       C  \nATOM   1263  C   SER C 162      -9.035  -0.165   1.075  1.00 39.86           C  \nANISOU 1263  C   SER C 162     3453   5110   6582    -88    894   -186       C  \nATOM   1264  O   SER C 162      -9.683  -0.806   1.843  1.00 38.56           O  \nANISOU 1264  O   SER C 162     3263   5001   6385    -72    793   -143       O  \nATOM   1265  CB  SER C 162      -8.450   1.853   2.379  1.00 39.52           C  \nANISOU 1265  CB  SER C 162     3325   5068   6620     26    756   -147       C  \nATOM   1266  OG  SER C 162      -7.137   1.411   2.435  1.00 40.11           O  \nANISOU 1266  OG  SER C 162     3284   5012   6943     16    817   -216       O  \nATOM   1267  N   TRP C 163      -8.163  -0.664   0.201  1.00 40.56           N  \nANISOU 1267  N   TRP C 163     3540   5070   6798   -145   1063   -267       N  \nATOM   1268  CA  TRP C 163      -7.951  -2.074  -0.010  1.00 43.35           C  \nANISOU 1268  CA  TRP C 163     3870   5329   7271   -196   1151   -327       C  \nATOM   1269  C   TRP C 163      -6.624  -2.551   0.557  1.00 43.03           C  \nANISOU 1269  C   TRP C 163     3692   5118   7537   -131   1183   -334       C  \nATOM   1270  O   TRP C 163      -5.630  -1.935   0.343  1.00 41.08           O  \nANISOU 1270  O   TRP C 163     3381   4803   7423   -117   1247   -376       O  \nATOM   1271  CB  TRP C 163      -7.855  -2.343  -1.507  1.00 46.00           C  \nANISOU 1271  CB  TRP C 163     4299   5646   7533   -300   1348   -444       C  \nATOM   1272  CG  TRP C 163      -9.157  -2.574  -2.177  1.00 50.98           C  \nANISOU 1272  CG  TRP C 163     5028   6457   7883   -376   1328   -490       C  \nATOM   1273  CD1 TRP C 163      -9.729  -3.790  -2.518  1.00 54.64           C  \nANISOU 1273  CD1 TRP C 163     5501   6929   8329   -483   1386   -607       C  \nATOM   1274  CD2 TRP C 163     -10.040  -1.558  -2.635  1.00 53.07           C  \nANISOU 1274  CD2 TRP C 163     5378   6931   7855   -350   1252   -439       C  \nATOM   1275  NE1 TRP C 163     -10.932  -3.560  -3.150  1.00 57.02           N  \nANISOU 1275  NE1 TRP C 163     5864   7472   8328   -538   1324   -657       N  \nATOM   1276  CE2 TRP C 163     -11.137  -2.199  -3.236  1.00 55.23           C  \nANISOU 1276  CE2 TRP C 163     5685   7380   7919   -437   1233   -537       C  \nATOM   1277  CE3 TRP C 163      -9.999  -0.156  -2.611  1.00 54.71           C  \nANISOU 1277  CE3 TRP C 163     5632   7183   7971   -256   1214   -325       C  \nATOM   1278  CZ2 TRP C 163     -12.196  -1.484  -3.779  1.00 56.34           C  \nANISOU 1278  CZ2 TRP C 163     5883   7781   7741   -403   1139   -508       C  \nATOM   1279  CZ3 TRP C 163     -11.045   0.542  -3.155  1.00 55.32           C  \nANISOU 1279  CZ3 TRP C 163     5797   7474   7749   -212   1152   -270       C  \nATOM   1280  CH2 TRP C 163     -12.131  -0.118  -3.723  1.00 56.74           C  \nANISOU 1280  CH2 TRP C 163     5989   7866   7702   -272   1097   -353       C  \nATOM   1281  N   THR C 164      -6.612  -3.713   1.200  1.00 44.88           N  \nANISOU 1281  N   THR C 164     3878   5277   7897    -89   1164   -294       N  \nATOM   1282  CA  THR C 164      -5.362  -4.363   1.520  1.00 46.29           C  \nANISOU 1282  CA  THR C 164     3925   5295   8368     -2   1220   -297       C  \nATOM   1283  C   THR C 164      -4.753  -4.996   0.271  1.00 49.81           C  \nANISOU 1283  C   THR C 164     4392   5582   8948    -90   1472   -434       C  \nATOM   1284  O   THR C 164      -5.374  -5.030  -0.809  1.00 49.61           O  \nANISOU 1284  O   THR C 164     4497   5593   8756   -224   1592   -530       O  \nATOM   1285  CB  THR C 164      -5.522  -5.450   2.571  1.00 46.50           C  \nANISOU 1285  CB  THR C 164     3916   5264   8485    107   1153   -171       C  \nATOM   1286  OG1 THR C 164      -6.317  -6.518   2.038  1.00 46.37           O  \nANISOU 1286  OG1 THR C 164     4013   5158   8447      2   1302   -205       O  \nATOM   1287  CG2 THR C 164      -6.194  -4.863   3.797  1.00 44.25           C  \nANISOU 1287  CG2 THR C 164     3629   5157   8026    189    924    -42       C  \nATOM   1288  N   ASP C 165      -3.491  -5.403   0.435  1.00 52.56           N  \nANISOU 1288  N   ASP C 165     4595   5787   9589      0   1542   -452       N  \nATOM   1289  CA  ASP C 165      -2.800  -6.284  -0.485  1.00 55.93           C  \nANISOU 1289  CA  ASP C 165     5009   6023  10216    -44   1795   -571       C  \nATOM   1290  C   ASP C 165      -3.222  -7.704  -0.164  1.00 56.30           C  \nANISOU 1290  C   ASP C 165     5097   5932  10362    -11   1855   -524       C  \nATOM   1291  O   ASP C 165      -3.838  -7.953   0.884  1.00 54.72           O  \nANISOU 1291  O   ASP C 165     4907   5780  10103     72   1697   -370       O  \nATOM   1292  CB  ASP C 165      -1.293  -6.152  -0.306  1.00 58.36           C  \nANISOU 1292  CB  ASP C 165     5106   6237  10830     64   1837   -602       C  \nATOM   1293  CG  ASP C 165      -0.754  -4.818  -0.833  1.00 62.02           C  \nANISOU 1293  CG  ASP C 165     5531   6771  11263    -11   1876   -691       C  \nATOM   1294  OD1 ASP C 165      -0.887  -4.565  -2.060  1.00 68.28           O  \nANISOU 1294  OD1 ASP C 165     6458   7541  11944   -151   2080   -793       O  \nATOM   1295  OD2 ASP C 165      -0.204  -4.026  -0.032  1.00 66.29           O  \nANISOU 1295  OD2 ASP C 165     5912   7388  11885     64   1719   -666       O  \nATOM   1296  N   GLN C 166      -2.910  -8.637  -1.056  1.00 58.13           N  \nANISOU 1296  N   GLN C 166     5361   5977  10748    -81   2112   -658       N  \nATOM   1297  CA  GLN C 166      -3.193 -10.019  -0.751  1.00 60.19           C  \nANISOU 1297  CA  GLN C 166     5656   6041  11171    -49   2224   -622       C  \nATOM   1298  C   GLN C 166      -2.596 -10.395   0.570  1.00 61.83           C  \nANISOU 1298  C   GLN C 166     5732   6175  11583    202   2096   -399       C  \nATOM   1299  O   GLN C 166      -1.427 -10.119   0.835  1.00 63.33           O  \nANISOU 1299  O   GLN C 166     5748   6356  11959    352   2052   -370       O  \nATOM   1300  CB  GLN C 166      -2.632 -10.955  -1.796  1.00 62.37           C  \nANISOU 1300  CB  GLN C 166     5948   6084  11666   -124   2541   -813       C  \nATOM   1301  CG  GLN C 166      -3.523 -11.117  -2.978  1.00 62.28           C  \nANISOU 1301  CG  GLN C 166     6098   6128  11436   -373   2689  -1040       C  \nATOM   1302  CD  GLN C 166      -3.152 -12.316  -3.793  1.00 65.10           C  \nANISOU 1302  CD  GLN C 166     6485   6223  12027   -452   3017  -1242       C  \nATOM   1303  OE1 GLN C 166      -2.040 -12.427  -4.325  1.00 65.71           O  \nANISOU 1303  OE1 GLN C 166     6487   6169  12310   -405   3194  -1331       O  \nATOM   1304  NE2 GLN C 166      -4.068 -13.229  -3.886  1.00 60.90           N  \nANISOU 1304  NE2 GLN C 166     6050   5601  11488   -580   3121  -1336       N  \nATOM   1305  N   ASP C 167      -3.420 -11.007   1.401  1.00 63.49           N  \nANISOU 1305  N   ASP C 167     6019   6357  11747    249   2039   -244       N  \nATOM   1306  CA  ASP C 167      -2.956 -11.616   2.623  1.00 66.08           C  \nANISOU 1306  CA  ASP C 167     6265   6595  12245    512   1961      0       C  \nATOM   1307  C   ASP C 167      -1.973 -12.735   2.298  1.00 68.97           C  \nANISOU 1307  C   ASP C 167     6561   6655  12986    632   2207    -12       C  \nATOM   1308  O   ASP C 167      -2.146 -13.517   1.354  1.00 69.77           O  \nANISOU 1308  O   ASP C 167     6755   6537  13217    481   2492   -182       O  \nATOM   1309  CB  ASP C 167      -4.120 -12.157   3.476  1.00 66.59           C  \nANISOU 1309  CB  ASP C 167     6465   6649  12186    520   1928    177       C  \nATOM   1310  CG  ASP C 167      -3.611 -12.840   4.745  1.00 71.50           C  \nANISOU 1310  CG  ASP C 167     7032   7179  12956    830   1870    476       C  \nATOM   1311  OD1 ASP C 167      -3.012 -12.121   5.588  1.00 73.21           O  \nANISOU 1311  OD1 ASP C 167     7114   7612  13091   1024   1606    597       O  \nATOM   1312  OD2 ASP C 167      -3.730 -14.091   4.869  1.00 71.93           O  \nANISOU 1312  OD2 ASP C 167     7168   6942  13218    892   2099    581       O  \nATOM   1313  N   SER C 168      -0.911 -12.797   3.078  1.00 70.69           N  \nANISOU 1313  N   SER C 168     6600   6875  13382    913   2094    148       N  \nATOM   1314  CA  SER C 168       0.149 -13.724   2.789  1.00 73.24           C  \nANISOU 1314  CA  SER C 168     6813   6931  14080   1071   2307    142       C  \nATOM   1315  C   SER C 168      -0.157 -15.146   3.251  1.00 75.53           C  \nANISOU 1315  C   SER C 168     7217   6913  14565   1211   2503    336       C  \nATOM   1316  O   SER C 168       0.530 -16.056   2.844  1.00 78.44           O  \nANISOU 1316  O   SER C 168     7543   6993  15268   1308   2756    307       O  \nATOM   1317  CB  SER C 168       1.439 -13.230   3.428  1.00 74.51           C  \nANISOU 1317  CB  SER C 168     6697   7245  14369   1337   2098    226       C  \nATOM   1318  OG  SER C 168       1.209 -13.045   4.803  1.00 75.61           O  \nANISOU 1318  OG  SER C 168     6808   7579  14339   1548   1809    489       O  \nATOM   1319  N   LYS C 169      -1.168 -15.336   4.095  1.00 74.84           N  \nANISOU 1319  N   LYS C 169     7276   6866  14292   1225   2418    534       N  \nATOM   1320  CA  LYS C 169      -1.600 -16.681   4.508  1.00 77.37           C  \nANISOU 1320  CA  LYS C 169     7742   6853  14799   1322   2661    725       C  \nATOM   1321  C   LYS C 169      -2.697 -17.287   3.617  1.00 75.80           C  \nANISOU 1321  C   LYS C 169     7743   6440  14616    975   2963    498       C  \nATOM   1322  O   LYS C 169      -2.590 -18.433   3.191  1.00 77.68           O  \nANISOU 1322  O   LYS C 169     8049   6301  15166    961   3306    446       O  \nATOM   1323  CB  LYS C 169      -2.148 -16.663   5.935  1.00 78.37           C  \nANISOU 1323  CB  LYS C 169     7936   7115  14725   1518   2462   1073       C  \nATOM   1324  CG  LYS C 169      -1.143 -16.678   7.078  1.00 82.60           C  \nANISOU 1324  CG  LYS C 169     8314   7767  15303   1950   2243   1387       C  \nATOM   1325  CD  LYS C 169      -1.933 -16.344   8.377  1.00 85.21           C  \nANISOU 1325  CD  LYS C 169     8743   8339  15291   2055   2012   1661       C  \nATOM   1326  CE  LYS C 169      -1.302 -16.916   9.645  1.00 90.38           C  \nANISOU 1326  CE  LYS C 169     9352   9007  15978   2516   1909   2070       C  \nATOM   1327  NZ  LYS C 169      -2.254 -16.734  10.787  1.00 91.71           N  \nANISOU 1327  NZ  LYS C 169     9679   9364  15803   2569   1773   2320       N  \nATOM   1328  N   ASP C 170      -3.769 -16.541   3.374  1.00 70.93           N  \nANISOU 1328  N   ASP C 170     7207   6066  13674    705   2838    355       N  \nATOM   1329  CA  ASP C 170      -4.917 -17.103   2.652  1.00 70.38           C  \nANISOU 1329  CA  ASP C 170     7292   5860  13588    380   3079    131       C  \nATOM   1330  C   ASP C 170      -5.083 -16.489   1.263  1.00 67.15           C  \nANISOU 1330  C   ASP C 170     6873   5611  13027     86   3098   -252       C  \nATOM   1331  O   ASP C 170      -6.056 -16.750   0.581  1.00 65.82           O  \nANISOU 1331  O   ASP C 170     6799   5439  12769   -197   3230   -488       O  \nATOM   1332  CB  ASP C 170      -6.219 -16.975   3.491  1.00 69.33           C  \nANISOU 1332  CB  ASP C 170     7264   5857  13217    305   2973    277       C  \nATOM   1333  CG  ASP C 170      -6.733 -15.548   3.583  1.00 67.69           C  \nANISOU 1333  CG  ASP C 170     7016   6091  12611    219   2629    232       C  \nATOM   1334  OD1 ASP C 170      -6.103 -14.631   3.017  1.00 69.89           O  \nANISOU 1334  OD1 ASP C 170     7199   6564  12793    213   2479    102       O  \nATOM   1335  OD2 ASP C 170      -7.800 -15.331   4.201  1.00 70.07           O  \nANISOU 1335  OD2 ASP C 170     7383   6531  12708    151   2536    320       O  \nATOM   1336  N   SER C 171      -4.133 -15.658   0.841  1.00 65.81           N  \nANISOU 1336  N   SER C 171     6584   5601  12818    155   2970   -318       N  \nATOM   1337  CA  SER C 171      -4.245 -14.965  -0.444  1.00 63.49           C  \nANISOU 1337  CA  SER C 171     6303   5483  12334    -87   2988   -631       C  \nATOM   1338  C   SER C 171      -5.564 -14.218  -0.694  1.00 60.14           C  \nANISOU 1338  C   SER C 171     5967   5361  11521   -313   2828   -733       C  \nATOM   1339  O   SER C 171      -5.879 -13.961  -1.843  1.00 59.53           O  \nANISOU 1339  O   SER C 171     5936   5398  11282   -526   2900  -1000       O  \nATOM   1340  CB  SER C 171      -4.020 -15.961  -1.581  1.00 65.85           C  \nANISOU 1340  CB  SER C 171     6652   5508  12859   -242   3354   -915       C  \nATOM   1341  OG  SER C 171      -2.716 -16.484  -1.518  1.00 70.53           O  \nANISOU 1341  OG  SER C 171     7139   5849  13807    -27   3504   -849       O  \nATOM   1342  N   THR C 172      -6.320 -13.879   0.337  1.00 58.61           N  \nANISOU 1342  N   THR C 172     5791   5310  11166   -254   2621   -527       N  \nATOM   1343  CA  THR C 172      -7.539 -13.078   0.159  1.00 55.54           C  \nANISOU 1343  CA  THR C 172     5454   5226  10420   -431   2452   -608       C  \nATOM   1344  C   THR C 172      -7.264 -11.581   0.190  1.00 52.75           C  \nANISOU 1344  C   THR C 172     5047   5175   9821   -360   2184   -553       C  \nATOM   1345  O   THR C 172      -6.254 -11.182   0.685  1.00 54.07           O  \nANISOU 1345  O   THR C 172     5123   5327  10092   -172   2091   -420       O  \nATOM   1346  CB  THR C 172      -8.604 -13.361   1.218  1.00 55.47           C  \nANISOU 1346  CB  THR C 172     5490   5239  10347   -425   2384   -437       C  \nATOM   1347  OG1 THR C 172      -8.051 -13.212   2.509  1.00 54.49           O  \nANISOU 1347  OG1 THR C 172     5324   5096  10283   -153   2239   -121       O  \nATOM   1348  CG2 THR C 172      -9.107 -14.744   1.081  1.00 58.93           C  \nANISOU 1348  CG2 THR C 172     5996   5382  11012   -558   2684   -530       C  \nATOM   1349  N   TYR C 173      -8.182 -10.787  -0.328  1.00 50.20           N  \nANISOU 1349  N   TYR C 173     4769   5115   9188   -508   2072   -663       N  \nATOM   1350  CA  TYR C 173      -8.164  -9.337  -0.236  1.00 47.40           C  \nANISOU 1350  CA  TYR C 173     4390   5024   8595   -448   1842   -594       C  \nATOM   1351  C   TYR C 173      -9.178  -8.867   0.803  1.00 45.96           C  \nANISOU 1351  C   TYR C 173     4214   5016   8231   -407   1633   -437       C  \nATOM   1352  O   TYR C 173     -10.092  -9.575   1.137  1.00 45.38           O  \nANISOU 1352  O   TYR C 173     4174   4913   8155   -482   1680   -433       O  \nATOM   1353  CB  TYR C 173      -8.553  -8.696  -1.551  1.00 46.74           C  \nANISOU 1353  CB  TYR C 173     4367   5128   8261   -601   1867   -791       C  \nATOM   1354  CG  TYR C 173      -7.590  -8.924  -2.664  1.00 48.18           C  \nANISOU 1354  CG  TYR C 173     4561   5193   8551   -649   2074   -955       C  \nATOM   1355  CD1 TYR C 173      -6.511  -8.088  -2.866  1.00 45.14           C  \nANISOU 1355  CD1 TYR C 173     4132   4804   8213   -556   2071   -913       C  \nATOM   1356  CD2 TYR C 173      -7.748  -9.986  -3.512  1.00 49.34           C  \nANISOU 1356  CD2 TYR C 173     4754   5222   8768   -802   2300  -1178       C  \nATOM   1357  CE1 TYR C 173      -5.637  -8.309  -3.873  1.00 47.39           C  \nANISOU 1357  CE1 TYR C 173     4425   4978   8601   -604   2291  -1064       C  \nATOM   1358  CE2 TYR C 173      -6.885 -10.213  -4.506  1.00 51.36           C  \nANISOU 1358  CE2 TYR C 173     5025   5374   9113   -846   2509  -1341       C  \nATOM   1359  CZ  TYR C 173      -5.820  -9.378  -4.695  1.00 51.45           C  \nANISOU 1359  CZ  TYR C 173     4997   5388   9162   -741   2509  -1274       C  \nATOM   1360  OH  TYR C 173      -4.964  -9.641  -5.719  1.00 54.19           O  \nANISOU 1360  OH  TYR C 173     5359   5626   9603   -793   2754  -1446       O  \nATOM   1361  N   SER C 174      -8.991  -7.662   1.315  1.00 44.93           N  \nANISOU 1361  N   SER C 174     4047   5054   7970   -296   1429   -325       N  \nATOM   1362  CA  SER C 174      -9.935  -7.029   2.206  1.00 43.40           C  \nANISOU 1362  CA  SER C 174     3860   5049   7579   -257   1238   -205       C  \nATOM   1363  C   SER C 174     -10.080  -5.567   1.823  1.00 41.94           C  \nANISOU 1363  C   SER C 174     3682   5075   7177   -254   1105   -232       C  \nATOM   1364  O   SER C 174      -9.209  -5.032   1.233  1.00 40.90           O  \nANISOU 1364  O   SER C 174     3536   4911   7092   -238   1144   -282       O  \nATOM   1365  CB  SER C 174      -9.500  -7.164   3.644  1.00 43.78           C  \nANISOU 1365  CB  SER C 174     3856   5050   7727    -72   1132      2       C  \nATOM   1366  OG  SER C 174      -9.775  -8.438   4.135  1.00 44.59           O  \nANISOU 1366  OG  SER C 174     3992   4982   7968    -63   1257     84       O  \nATOM   1367  N   MET C 175     -11.210  -4.953   2.118  1.00 41.57           N  \nANISOU 1367  N   MET C 175     3659   5226   6910   -271    979   -198       N  \nATOM   1368  CA  MET C 175     -11.404  -3.541   1.876  1.00 42.14           C  \nANISOU 1368  CA  MET C 175     3747   5467   6795   -232    866   -187       C  \nATOM   1369  C   MET C 175     -12.203  -2.934   3.002  1.00 41.02           C  \nANISOU 1369  C   MET C 175     3586   5466   6532   -155    701    -74       C  \nATOM   1370  O   MET C 175     -12.950  -3.606   3.619  1.00 41.99           O  \nANISOU 1370  O   MET C 175     3702   5610   6641   -177    691    -35       O  \nATOM   1371  CB  MET C 175     -12.013  -3.270   0.507  1.00 43.30           C  \nANISOU 1371  CB  MET C 175     3958   5745   6747   -334    925   -309       C  \nATOM   1372  CG  MET C 175     -13.491  -3.042   0.437  1.00 50.94           C  \nANISOU 1372  CG  MET C 175     4929   6945   7478   -372    829   -324       C  \nATOM   1373  SD  MET C 175     -14.006  -1.696  -0.641  1.00 59.78           S  \nANISOU 1373  SD  MET C 175     6114   8298   8302   -323    772   -326       S  \nATOM   1374  CE  MET C 175     -14.385  -0.507   0.566  1.00 57.81           C  \nANISOU 1374  CE  MET C 175     5839   8108   8019   -174    614   -162       C  \nATOM   1375  N   SER C 176     -12.015  -1.667   3.276  1.00 39.91           N  \nANISOU 1375  N   SER C 176     3441   5400   6322    -70    602    -32       N  \nATOM   1376  CA  SER C 176     -12.768  -0.989   4.289  1.00 39.40           C  \nANISOU 1376  CA  SER C 176     3364   5470   6137      2    464     45       C  \nATOM   1377  C   SER C 176     -13.371   0.207   3.626  1.00 39.05           C  \nANISOU 1377  C   SER C 176     3363   5549   5922     16    439     28       C  \nATOM   1378  O   SER C 176     -12.783   0.754   2.743  1.00 39.42           O  \nANISOU 1378  O   SER C 176     3450   5544   5983     12    512     -4       O  \nATOM   1379  CB  SER C 176     -11.885  -0.552   5.434  1.00 38.68           C  \nANISOU 1379  CB  SER C 176     3213   5337   6145    113    371     98       C  \nATOM   1380  OG  SER C 176     -11.250   0.642   5.116  1.00 40.03           O  \nANISOU 1380  OG  SER C 176     3377   5488   6343    139    368     48       O  \nATOM   1381  N   SER C 177     -14.582   0.563   4.010  1.00 39.88           N  \nANISOU 1381  N   SER C 177     3465   5819   5869     42    358     63       N  \nATOM   1382  CA  SER C 177     -15.251   1.721   3.482  1.00 39.63           C  \nANISOU 1382  CA  SER C 177     3468   5911   5676    103    328     79       C  \nATOM   1383  C   SER C 177     -15.719   2.538   4.635  1.00 39.05           C  \nANISOU 1383  C   SER C 177     3368   5900   5566    199    234    135       C  \nATOM   1384  O   SER C 177     -16.335   2.021   5.502  1.00 38.33           O  \nANISOU 1384  O   SER C 177     3233   5878   5451    191    185    154       O  \nATOM   1385  CB  SER C 177     -16.418   1.290   2.638  1.00 41.32           C  \nANISOU 1385  CB  SER C 177     3671   6307   5719     45    326     34       C  \nATOM   1386  OG  SER C 177     -17.023   2.377   2.038  1.00 43.10           O  \nANISOU 1386  OG  SER C 177     3929   6670   5777    144    292     77       O  \nATOM   1387  N   THR C 178     -15.421   3.818   4.633  1.00 38.69           N  \nANISOU 1387  N   THR C 178     3359   5813   5526    286    237    155       N  \nATOM   1388  CA  THR C 178     -15.744   4.690   5.725  1.00 39.43           C  \nANISOU 1388  CA  THR C 178     3433   5940   5606    372    171    170       C  \nATOM   1389  C   THR C 178     -16.567   5.897   5.266  1.00 40.94           C  \nANISOU 1389  C   THR C 178     3670   6196   5688    478    190    217       C  \nATOM   1390  O   THR C 178     -16.140   6.638   4.427  1.00 41.29           O  \nANISOU 1390  O   THR C 178     3786   6145   5755    516    279    243       O  \nATOM   1391  CB  THR C 178     -14.454   5.173   6.397  1.00 39.85           C  \nANISOU 1391  CB  THR C 178     3467   5845   5827    379    174    112       C  \nATOM   1392  OG1 THR C 178     -13.692   4.056   6.808  1.00 40.35           O  \nANISOU 1392  OG1 THR C 178     3476   5868   5985    326    144     95       O  \nATOM   1393  CG2 THR C 178     -14.735   6.033   7.567  1.00 38.56           C  \nANISOU 1393  CG2 THR C 178     3280   5727   5641    450    110     81       C  \nATOM   1394  N   LEU C 179     -17.733   6.088   5.859  1.00 40.37           N  \nANISOU 1394  N   LEU C 179     3555   6275   5508    540    126    240       N  \nATOM   1395  CA  LEU C 179     -18.604   7.209   5.575  1.00 41.28           C  \nANISOU 1395  CA  LEU C 179     3692   6459   5533    679    139    298       C  \nATOM   1396  C   LEU C 179     -18.468   8.190   6.698  1.00 41.25           C  \nANISOU 1396  C   LEU C 179     3693   6371   5609    747    148    262       C  \nATOM   1397  O   LEU C 179     -18.792   7.862   7.844  1.00 41.50           O  \nANISOU 1397  O   LEU C 179     3664   6480   5621    727     86    216       O  \nATOM   1398  CB  LEU C 179     -20.077   6.759   5.489  1.00 41.25           C  \nANISOU 1398  CB  LEU C 179     3596   6704   5370    704     67    317       C  \nATOM   1399  CG  LEU C 179     -21.173   7.819   5.300  1.00 43.52           C  \nANISOU 1399  CG  LEU C 179     3863   7114   5559    886     58    386       C  \nATOM   1400  CD1 LEU C 179     -21.172   8.351   3.917  1.00 42.61           C  \nANISOU 1400  CD1 LEU C 179     3819   7019   5351    991     93    479       C  \nATOM   1401  CD2 LEU C 179     -22.583   7.270   5.615  1.00 45.93           C  \nANISOU 1401  CD2 LEU C 179     4016   7678   5757    884    -19    358       C  \nATOM   1402  N   THR C 180     -17.972   9.382   6.421  1.00 41.17           N  \nANISOU 1402  N   THR C 180     3759   6193   5691    820    247    271       N  \nATOM   1403  CA  THR C 180     -17.845  10.339   7.495  1.00 42.04           C  \nANISOU 1403  CA  THR C 180     3866   6212   5893    864    274    187       C  \nATOM   1404  C   THR C 180     -18.837  11.465   7.302  1.00 42.95           C  \nANISOU 1404  C   THR C 180     4020   6329   5970   1037    344    263       C  \nATOM   1405  O   THR C 180     -18.882  12.062   6.232  1.00 43.62           O  \nANISOU 1405  O   THR C 180     4188   6332   6053   1133    441    380       O  \nATOM   1406  CB  THR C 180     -16.430  10.851   7.626  1.00 42.73           C  \nANISOU 1406  CB  THR C 180     3981   6073   6180    787    356     79       C  \nATOM   1407  OG1 THR C 180     -15.574   9.723   7.886  1.00 45.08           O  \nANISOU 1407  OG1 THR C 180     4214   6404   6510    661    269     19       O  \nATOM   1408  CG2 THR C 180     -16.297  11.834   8.822  1.00 41.29           C  \nANISOU 1408  CG2 THR C 180     3776   5818   6092    805    379    -72       C  \nATOM   1409  N   LEU C 181     -19.664  11.699   8.323  1.00 43.11           N  \nANISOU 1409  N   LEU C 181     3980   6454   5945   1093    303    213       N  \nATOM   1410  CA  LEU C 181     -20.629  12.782   8.358  1.00 45.05           C  \nANISOU 1410  CA  LEU C 181     4238   6694   6183   1276    377    265       C  \nATOM   1411  C   LEU C 181     -20.425  13.648   9.598  1.00 45.42           C  \nANISOU 1411  C   LEU C 181     4291   6622   6345   1279    443    104       C  \nATOM   1412  O   LEU C 181     -19.708  13.266  10.529  1.00 44.20           O  \nANISOU 1412  O   LEU C 181     4104   6473   6214   1144    385    -49       O  \nATOM   1413  CB  LEU C 181     -22.065  12.225   8.454  1.00 46.64           C  \nANISOU 1413  CB  LEU C 181     4325   7178   6216   1348    279    325       C  \nATOM   1414  CG  LEU C 181     -22.571  11.329   7.327  1.00 48.80           C  \nANISOU 1414  CG  LEU C 181     4547   7646   6348   1339    193    430       C  \nATOM   1415  CD1 LEU C 181     -23.752  10.520   7.845  1.00 52.32           C  \nANISOU 1415  CD1 LEU C 181     4835   8358   6683   1310    101    396       C  \nATOM   1416  CD2 LEU C 181     -22.986  12.171   6.152  1.00 53.58           C  \nANISOU 1416  CD2 LEU C 181     5204   8247   6904   1542    246    586       C  \nATOM   1417  N   THR C 182     -21.080  14.801   9.632  1.00 45.58           N  \nANISOU 1417  N   THR C 182     4344   6550   6423   1447    564    130       N  \nATOM   1418  CA  THR C 182     -21.166  15.561  10.877  1.00 46.59           C  \nANISOU 1418  CA  THR C 182     4460   6610   6632   1455    631    -54       C  \nATOM   1419  C   THR C 182     -22.068  14.822  11.868  1.00 46.86           C  \nANISOU 1419  C   THR C 182     4385   6926   6494   1440    511   -103       C  \nATOM   1420  O   THR C 182     -22.939  14.015  11.484  1.00 46.95           O  \nANISOU 1420  O   THR C 182     4319   7153   6365   1473    421     24       O  \nATOM   1421  CB  THR C 182     -21.825  16.947  10.689  1.00 48.58           C  \nANISOU 1421  CB  THR C 182     4771   6683   7003   1665    819     -4       C  \nATOM   1422  OG1 THR C 182     -23.191  16.749  10.306  1.00 46.55           O  \nANISOU 1422  OG1 THR C 182     4439   6642   6604   1847    763    166       O  \nATOM   1423  CG2 THR C 182     -21.097  17.788   9.656  1.00 48.20           C  \nANISOU 1423  CG2 THR C 182     4859   6324   7131   1717    998     95       C  \nATOM   1424  N   LYS C 183     -21.919  15.149  13.140  1.00 48.58           N  \nANISOU 1424  N   LYS C 183     4590   7145   6720   1391    532   -303       N  \nATOM   1425  CA  LYS C 183     -22.801  14.592  14.164  1.00 49.54           C  \nANISOU 1425  CA  LYS C 183     4632   7516   6672   1392    470   -347       C  \nATOM   1426  C   LYS C 183     -24.243  14.950  13.841  1.00 50.17           C  \nANISOU 1426  C   LYS C 183     4648   7683   6729   1575    534   -231       C  \nATOM   1427  O   LYS C 183     -25.132  14.106  13.870  1.00 49.64           O  \nANISOU 1427  O   LYS C 183     4481   7847   6531   1575    465   -150       O  \nATOM   1428  CB  LYS C 183     -22.381  15.101  15.533  1.00 50.77           C  \nANISOU 1428  CB  LYS C 183     4805   7661   6822   1336    504   -597       C  \nATOM   1429  CG  LYS C 183     -23.293  14.686  16.686  1.00 53.91           C  \nANISOU 1429  CG  LYS C 183     5148   8306   7029   1352    488   -649       C  \nATOM   1430  CD  LYS C 183     -22.786  15.333  17.987  1.00 57.71           C  \nANISOU 1430  CD  LYS C 183     5661   8786   7479   1304    526   -930       C  \nATOM   1431  CE  LYS C 183     -23.596  14.916  19.198  1.00 60.75           C  \nANISOU 1431  CE  LYS C 183     6017   9428   7635   1319    529   -983       C  \nATOM   1432  NZ  LYS C 183     -24.764  15.827  19.475  1.00 63.26           N  \nANISOU 1432  NZ  LYS C 183     6309   9723   8003   1458    706  -1046       N  \nATOM   1433  N   ASP C 184     -24.449  16.213  13.503  1.00 52.35           N  \nANISOU 1433  N   ASP C 184     4973   7761   7156   1733    682   -226       N  \nATOM   1434  CA  ASP C 184     -25.762  16.724  13.136  1.00 54.25           C  \nANISOU 1434  CA  ASP C 184     5143   8066   7403   1960    750   -104       C  \nATOM   1435  C   ASP C 184     -26.464  15.982  11.973  1.00 53.57           C  \nANISOU 1435  C   ASP C 184     4963   8184   7206   2034    629    118       C  \nATOM   1436  O   ASP C 184     -27.638  15.625  12.112  1.00 53.75           O  \nANISOU 1436  O   ASP C 184     4833   8447   7139   2109    587    151       O  \nATOM   1437  CB  ASP C 184     -25.669  18.233  12.863  1.00 56.84           C  \nANISOU 1437  CB  ASP C 184     5571   8081   7944   2138    956   -103       C  \nATOM   1438  CG  ASP C 184     -25.667  19.059  14.147  1.00 60.87           C  \nANISOU 1438  CG  ASP C 184     6103   8473   8551   2125   1103   -361       C  \nATOM   1439  OD1 ASP C 184     -25.605  18.483  15.265  1.00 63.36           O  \nANISOU 1439  OD1 ASP C 184     6372   8965   8735   1974   1029   -541       O  \nATOM   1440  OD2 ASP C 184     -25.760  20.299  14.044  1.00 67.19           O  \nANISOU 1440  OD2 ASP C 184     6975   9001   9551   2277   1311   -383       O  \nATOM   1441  N   GLU C 185     -25.763  15.724  10.862  1.00 52.65           N  \nANISOU 1441  N   GLU C 185     4919   7995   7089   1999    578    240       N  \nATOM   1442  CA  GLU C 185     -26.342  14.971   9.744  1.00 52.46           C  \nANISOU 1442  CA  GLU C 185     4808   8195   6930   2044    452    405       C  \nATOM   1443  C   GLU C 185     -26.582  13.516  10.146  1.00 50.64           C  \nANISOU 1443  C   GLU C 185     4457   8213   6569   1838    315    333       C  \nATOM   1444  O   GLU C 185     -27.674  12.977   9.920  1.00 51.75           O  \nANISOU 1444  O   GLU C 185     4433   8614   6614   1875    243    367       O  \nATOM   1445  CB  GLU C 185     -25.487  15.049   8.470  1.00 52.69           C  \nANISOU 1445  CB  GLU C 185     4964   8087   6966   2051    456    538       C  \nATOM   1446  CG  GLU C 185     -26.330  14.676   7.227  1.00 57.66           C  \nANISOU 1446  CG  GLU C 185     5502   8973   7431   2190    347    711       C  \nATOM   1447  CD  GLU C 185     -25.614  14.725   5.863  1.00 61.18           C  \nANISOU 1447  CD  GLU C 185     6082   9339   7823   2223    357    862       C  \nATOM   1448  OE1 GLU C 185     -24.379  14.886   5.757  1.00 63.94           O  \nANISOU 1448  OE1 GLU C 185     6589   9425   8279   2105    453    839       O  \nATOM   1449  OE2 GLU C 185     -26.313  14.538   4.852  1.00 65.12           O  \nANISOU 1449  OE2 GLU C 185     6513  10077   8153   2365    263    993       O  \nATOM   1450  N   TYR C 186     -25.611  12.909  10.819  1.00 47.94           N  \nANISOU 1450  N   TYR C 186     4184   7793   6238   1629    295    227       N  \nATOM   1451  CA  TYR C 186     -25.747  11.545  11.307  1.00 47.49           C  \nANISOU 1451  CA  TYR C 186     4049   7913   6081   1447    210    184       C  \nATOM   1452  C   TYR C 186     -27.041  11.392  12.137  1.00 49.60           C  \nANISOU 1452  C   TYR C 186     4173   8384   6286   1486    239    141       C  \nATOM   1453  O   TYR C 186     -27.785  10.388  11.999  1.00 49.47           O  \nANISOU 1453  O   TYR C 186     4025   8570   6200   1404    195    157       O  \nATOM   1454  CB  TYR C 186     -24.493  11.088  12.113  1.00 44.86           C  \nANISOU 1454  CB  TYR C 186     3815   7462   5766   1279    193     93       C  \nATOM   1455  CG  TYR C 186     -24.648   9.720  12.793  1.00 45.62           C  \nANISOU 1455  CG  TYR C 186     3860   7710   5763   1129    144     84       C  \nATOM   1456  CD1 TYR C 186     -24.651   8.546  12.036  1.00 45.27           C  \nANISOU 1456  CD1 TYR C 186     3775   7728   5695   1016     90    152       C  \nATOM   1457  CD2 TYR C 186     -24.791   9.600  14.174  1.00 44.86           C  \nANISOU 1457  CD2 TYR C 186     3768   7683   5593   1102    176     10       C  \nATOM   1458  CE1 TYR C 186     -24.796   7.316  12.631  1.00 45.88           C  \nANISOU 1458  CE1 TYR C 186     3822   7890   5719    885     93    160       C  \nATOM   1459  CE2 TYR C 186     -24.965   8.379  14.771  1.00 43.67           C  \nANISOU 1459  CE2 TYR C 186     3595   7646   5351    990    170     45       C  \nATOM   1460  CZ  TYR C 186     -24.966   7.241  13.995  1.00 45.25           C  \nANISOU 1460  CZ  TYR C 186     3759   7864   5569    881    139    127       C  \nATOM   1461  OH  TYR C 186     -25.152   6.000  14.535  1.00 46.13           O  \nANISOU 1461  OH  TYR C 186     3861   8039   5627    767    177    176       O  \nATOM   1462  N   GLU C 187     -27.347  12.402  12.955  1.00 51.75           N  \nANISOU 1462  N   GLU C 187     4461   8598   6604   1605    338     68       N  \nATOM   1463  CA  GLU C 187     -28.465  12.273  13.877  1.00 53.90           C  \nANISOU 1463  CA  GLU C 187     4608   9049   6821   1630    399      7       C  \nATOM   1464  C   GLU C 187     -29.761  12.725  13.270  1.00 55.60           C  \nANISOU 1464  C   GLU C 187     4654   9407   7063   1820    416     70       C  \nATOM   1465  O   GLU C 187     -30.748  12.746  13.957  1.00 55.79           O  \nANISOU 1465  O   GLU C 187     4549   9574   7072   1863    487     13       O  \nATOM   1466  CB  GLU C 187     -28.195  13.001  15.216  1.00 55.41           C  \nANISOU 1466  CB  GLU C 187     4887   9147   7018   1644    507   -142       C  \nATOM   1467  CG  GLU C 187     -27.100  12.302  15.986  1.00 55.55           C  \nANISOU 1467  CG  GLU C 187     5017   9137   6950   1461    454   -209       C  \nATOM   1468  CD  GLU C 187     -26.741  12.921  17.321  1.00 58.07           C  \nANISOU 1468  CD  GLU C 187     5417   9425   7220   1458    526   -389       C  \nATOM   1469  OE1 GLU C 187     -27.094  14.087  17.601  1.00 58.40           O  \nANISOU 1469  OE1 GLU C 187     5463   9381   7343   1583    641   -495       O  \nATOM   1470  OE2 GLU C 187     -26.050  12.210  18.079  1.00 58.82           O  \nANISOU 1470  OE2 GLU C 187     5574   9584   7188   1336    466   -426       O  \nATOM   1471  N   ARG C 188     -29.733  13.103  11.990  1.00 56.16           N  \nANISOU 1471  N   ARG C 188     4722   9451   7163   1950    355    192       N  \nATOM   1472  CA  ARG C 188     -30.939  13.427  11.252  1.00 58.00           C  \nANISOU 1472  CA  ARG C 188     4769   9879   7388   2160    324    277       C  \nATOM   1473  C   ARG C 188     -31.510  12.173  10.585  1.00 56.92           C  \nANISOU 1473  C   ARG C 188     4450  10030   7147   2029    189    281       C  \nATOM   1474  O   ARG C 188     -32.584  12.233  10.045  1.00 58.04           O  \nANISOU 1474  O   ARG C 188     4379  10411   7260   2167    132    308       O  \nATOM   1475  CB  ARG C 188     -30.680  14.533  10.202  1.00 59.81           C  \nANISOU 1475  CB  ARG C 188     5098   9958   7668   2410    337    432       C  \nATOM   1476  CG  ARG C 188     -30.745  15.974  10.763  1.00 64.25           C  \nANISOU 1476  CG  ARG C 188     5748  10281   8382   2627    517    427       C  \nATOM   1477  CD  ARG C 188     -30.880  17.029   9.654  1.00 70.18           C  \nANISOU 1477  CD  ARG C 188     6556  10924   9184   2940    557    636       C  \nATOM   1478  NE  ARG C 188     -29.763  16.976   8.702  1.00 73.04           N  \nANISOU 1478  NE  ARG C 188     7108  11121   9521   2878    531    746       N  \nATOM   1479  CZ  ARG C 188     -28.730  17.832   8.649  1.00 76.93           C  \nANISOU 1479  CZ  ARG C 188     7829  11242  10158   2891    690    770       C  \nATOM   1480  NH1 ARG C 188     -28.656  18.870   9.483  1.00 80.74           N  \nANISOU 1480  NH1 ARG C 188     8388  11461  10829   2967    886    676       N  \nATOM   1481  NH2 ARG C 188     -27.757  17.654   7.746  1.00 75.17           N  \nANISOU 1481  NH2 ARG C 188     7753  10902   9904   2814    674    866       N  \nATOM   1482  N   HIS C 189     -30.810  11.036  10.635  1.00 53.79           N  \nANISOU 1482  N   HIS C 189     4118   9613   6707   1766    144    237       N  \nATOM   1483  CA  HIS C 189     -31.280   9.828   9.946  1.00 53.48           C  \nANISOU 1483  CA  HIS C 189     3916   9802   6599   1614     46    207       C  \nATOM   1484  C   HIS C 189     -31.298   8.593  10.827  1.00 51.92           C  \nANISOU 1484  C   HIS C 189     3690   9628   6409   1346    108    111       C  \nATOM   1485  O   HIS C 189     -30.545   8.505  11.778  1.00 51.39           O  \nANISOU 1485  O   HIS C 189     3787   9383   6355   1263    181    103       O  \nATOM   1486  CB  HIS C 189     -30.436   9.569   8.702  1.00 52.85           C  \nANISOU 1486  CB  HIS C 189     3946   9668   6466   1578    -54    274       C  \nATOM   1487  CG  HIS C 189     -30.474  10.694   7.712  1.00 56.54           C  \nANISOU 1487  CG  HIS C 189     4454  10131   6897   1854    -96    409       C  \nATOM   1488  ND1 HIS C 189     -29.464  11.628   7.613  1.00 56.78           N  \nANISOU 1488  ND1 HIS C 189     4718   9867   6986   1956    -23    504       N  \nATOM   1489  CD2 HIS C 189     -31.425  11.068   6.825  1.00 58.08           C  \nANISOU 1489  CD2 HIS C 189     4481  10578   7005   2067   -187    474       C  \nATOM   1490  CE1 HIS C 189     -29.778  12.510   6.678  1.00 58.55           C  \nANISOU 1490  CE1 HIS C 189     4950  10132   7165   2222    -42    650       C  \nATOM   1491  NE2 HIS C 189     -30.959  12.190   6.182  1.00 59.65           N  \nANISOU 1491  NE2 HIS C 189     4847  10618   7197   2311   -158    646       N  \nATOM   1492  N   ASN C 190     -32.167   7.634  10.502  1.00 52.19           N  \nANISOU 1492  N   ASN C 190     3509   9887   6433   1216     86     35       N  \nATOM   1493  CA  ASN C 190     -32.306   6.398  11.293  1.00 51.75           C  \nANISOU 1493  CA  ASN C 190     3421   9831   6409    960    195    -37       C  \nATOM   1494  C   ASN C 190     -31.416   5.253  10.816  1.00 49.50           C  \nANISOU 1494  C   ASN C 190     3248   9428   6131    742    172    -39       C  \nATOM   1495  O   ASN C 190     -30.749   4.632  11.598  1.00 48.95           O  \nANISOU 1495  O   ASN C 190     3327   9190   6080    615    260     -8       O  \nATOM   1496  CB  ASN C 190     -33.745   5.891  11.292  1.00 53.35           C  \nANISOU 1496  CB  ASN C 190     3313  10305   6651    890    242   -153       C  \nATOM   1497  CG  ASN C 190     -33.982   4.804  12.338  1.00 54.99           C  \nANISOU 1497  CG  ASN C 190     3511  10466   6913    652    432   -203       C  \nATOM   1498  OD1 ASN C 190     -33.632   4.970  13.510  1.00 56.86           O  \nANISOU 1498  OD1 ASN C 190     3912  10565   7125    666    552   -143       O  \nATOM   1499  ND2 ASN C 190     -34.562   3.689  11.917  1.00 55.56           N  \nANISOU 1499  ND2 ASN C 190     3400  10655   7054    433    473   -316       N  \nATOM   1500  N   SER C 191     -31.458   4.959   9.533  1.00 49.47           N  \nANISOU 1500  N   SER C 191     3161   9531   6101    712     58    -78       N  \nATOM   1501  CA  SER C 191     -30.910   3.726   9.013  1.00 49.26           C  \nANISOU 1501  CA  SER C 191     3176   9433   6104    480     67   -133       C  \nATOM   1502  C   SER C 191     -29.609   3.937   8.227  1.00 46.76           C  \nANISOU 1502  C   SER C 191     3070   8944   5750    521    -15    -57       C  \nATOM   1503  O   SER C 191     -29.540   4.807   7.341  1.00 45.40           O  \nANISOU 1503  O   SER C 191     2909   8843   5495    697   -124    -10       O  \nATOM   1504  CB  SER C 191     -31.962   3.127   8.097  1.00 52.17           C  \nANISOU 1504  CB  SER C 191     3269  10087   6465    378     12   -295       C  \nATOM   1505  OG  SER C 191     -31.706   1.764   7.936  1.00 55.88           O  \nANISOU 1505  OG  SER C 191     3742  10470   7017    100     99   -397       O  \nATOM   1506  N   TYR C 192     -28.591   3.126   8.549  1.00 46.07           N  \nANISOU 1506  N   TYR C 192     3147   8629   5728    370     53    -33       N  \nATOM   1507  CA  TYR C 192     -27.287   3.128   7.882  1.00 45.00           C  \nANISOU 1507  CA  TYR C 192     3191   8311   5593    370      8     15       C  \nATOM   1508  C   TYR C 192     -26.964   1.718   7.392  1.00 46.07           C  \nANISOU 1508  C   TYR C 192     3325   8382   5798    140     65    -68       C  \nATOM   1509  O   TYR C 192     -26.936   0.775   8.197  1.00 46.27           O  \nANISOU 1509  O   TYR C 192     3366   8296   5918      0    187    -70       O  \nATOM   1510  CB  TYR C 192     -26.173   3.653   8.829  1.00 44.18           C  \nANISOU 1510  CB  TYR C 192     3284   7973   5527    447     37    120       C  \nATOM   1511  CG  TYR C 192     -26.378   5.112   9.133  1.00 44.91           C  \nANISOU 1511  CG  TYR C 192     3396   8089   5577    661      3    167       C  \nATOM   1512  CD1 TYR C 192     -25.819   6.094   8.331  1.00 46.00           C  \nANISOU 1512  CD1 TYR C 192     3621   8156   5701    799    -45    217       C  \nATOM   1513  CD2 TYR C 192     -27.251   5.512  10.155  1.00 47.21           C  \nANISOU 1513  CD2 TYR C 192     3610   8473   5853    727     53    155       C  \nATOM   1514  CE1 TYR C 192     -26.078   7.463   8.570  1.00 46.58           C  \nANISOU 1514  CE1 TYR C 192     3715   8213   5770   1003    -36    261       C  \nATOM   1515  CE2 TYR C 192     -27.523   6.854  10.389  1.00 47.02           C  \nANISOU 1515  CE2 TYR C 192     3594   8456   5815    928     49    178       C  \nATOM   1516  CZ  TYR C 192     -26.945   7.825   9.595  1.00 47.21           C  \nANISOU 1516  CZ  TYR C 192     3711   8378   5848   1068      7    232       C  \nATOM   1517  OH  TYR C 192     -27.207   9.158   9.834  1.00 45.64           O  \nANISOU 1517  OH  TYR C 192     3533   8137   5671   1270     43    259       O  \nATOM   1518  N   THR C 193     -26.690   1.596   6.080  1.00 45.63           N  \nANISOU 1518  N   THR C 193     3266   8381   5689    114     -2   -131       N  \nATOM   1519  CA  THR C 193     -26.504   0.330   5.416  1.00 46.05           C  \nANISOU 1519  CA  THR C 193     3294   8398   5802   -103     56   -262       C  \nATOM   1520  C   THR C 193     -25.288   0.356   4.493  1.00 46.19           C  \nANISOU 1520  C   THR C 193     3470   8279   5801    -91     33   -241       C  \nATOM   1521  O   THR C 193     -25.082   1.314   3.736  1.00 45.53           O  \nANISOU 1521  O   THR C 193     3433   8276   5590     66    -59   -186       O  \nATOM   1522  CB  THR C 193     -27.679   0.019   4.523  1.00 48.90           C  \nANISOU 1522  CB  THR C 193     3425   9071   6083   -186     -3   -450       C  \nATOM   1523  OG1 THR C 193     -28.862   0.025   5.311  1.00 49.15           O  \nANISOU 1523  OG1 THR C 193     3273   9249   6151   -202     30   -489       O  \nATOM   1524  CG2 THR C 193     -27.508  -1.363   3.884  1.00 49.69           C  \nANISOU 1524  CG2 THR C 193     3493   9114   6272   -452     90   -640       C  \nATOM   1525  N   CYS C 194     -24.554  -0.739   4.551  1.00 45.86           N  \nANISOU 1525  N   CYS C 194     3503   8025   5896   -254    146   -281       N  \nATOM   1526  CA  CYS C 194     -23.398  -1.021   3.770  1.00 47.82           C  \nANISOU 1526  CA  CYS C 194     3877   8113   6176   -287    174   -293       C  \nATOM   1527  C   CYS C 194     -23.747  -2.259   2.933  1.00 48.26           C  \nANISOU 1527  C   CYS C 194     3846   8219   6271   -514    252   -509       C  \nATOM   1528  O   CYS C 194     -24.141  -3.248   3.464  1.00 47.77           O  \nANISOU 1528  O   CYS C 194     3723   8075   6350   -673    372   -579       O  \nATOM   1529  CB  CYS C 194     -22.249  -1.299   4.752  1.00 46.44           C  \nANISOU 1529  CB  CYS C 194     3843   7637   6164   -268    254   -161       C  \nATOM   1530  SG  CYS C 194     -20.736  -1.890   4.110  1.00 57.12           S  \nANISOU 1530  SG  CYS C 194     5324   8738   7640   -320    332   -173       S  \nATOM   1531  N   GLU C 195     -23.603  -2.183   1.620  1.00 49.27           N  \nANISOU 1531  N   GLU C 195     3975   8476   6268   -529    202   -622       N  \nATOM   1532  CA  GLU C 195     -23.975  -3.298   0.722  1.00 51.71           C  \nANISOU 1532  CA  GLU C 195     4186   8874   6586   -757    268   -888       C  \nATOM   1533  C   GLU C 195     -22.806  -3.685  -0.150  1.00 51.08           C  \nANISOU 1533  C   GLU C 195     4251   8628   6528   -806    347   -939       C  \nATOM   1534  O   GLU C 195     -22.281  -2.838  -0.860  1.00 49.92           O  \nANISOU 1534  O   GLU C 195     4199   8550   6217   -659    272   -860       O  \nATOM   1535  CB  GLU C 195     -25.132  -2.925  -0.236  1.00 54.22           C  \nANISOU 1535  CB  GLU C 195     4320   9626   6655   -744    112  -1053       C  \nATOM   1536  CG  GLU C 195     -26.479  -3.121   0.307  1.00 56.45           C  \nANISOU 1536  CG  GLU C 195     4370  10109   6965   -819     84  -1156       C  \nATOM   1537  CD  GLU C 195     -27.593  -2.744  -0.682  1.00 62.27           C  \nANISOU 1537  CD  GLU C 195     4886  11326   7447   -779   -101  -1332       C  \nATOM   1538  OE1 GLU C 195     -28.713  -2.487  -0.186  1.00 66.08           O  \nANISOU 1538  OE1 GLU C 195     5161  12018   7926   -749   -166  -1359       O  \nATOM   1539  OE2 GLU C 195     -27.367  -2.723  -1.922  1.00 64.01           O  \nANISOU 1539  OE2 GLU C 195     5127  11730   7463   -771   -180  -1446       O  \nATOM   1540  N   ALA C 196     -22.448  -4.969  -0.138  1.00 51.73           N  \nANISOU 1540  N   ALA C 196     4347   8488   6820  -1011    526  -1077       N  \nATOM   1541  CA  ALA C 196     -21.249  -5.456  -0.867  1.00 51.18           C  \nANISOU 1541  CA  ALA C 196     4412   8208   6824  -1061    643  -1133       C  \nATOM   1542  C   ALA C 196     -21.649  -6.314  -2.062  1.00 54.12           C  \nANISOU 1542  C   ALA C 196     4704   8726   7132  -1279    708  -1469       C  \nATOM   1543  O   ALA C 196     -22.328  -7.335  -1.889  1.00 55.89           O  \nANISOU 1543  O   ALA C 196     4811   8920   7504  -1496    821  -1670       O  \nATOM   1544  CB  ALA C 196     -20.334  -6.239   0.078  1.00 50.14           C  \nANISOU 1544  CB  ALA C 196     4376   7669   7003  -1085    817  -1013       C  \nATOM   1545  N   THR C 197     -21.264  -5.901  -3.278  1.00 54.33           N  \nANISOU 1545  N   THR C 197     4792   8918   6933  -1233    654  -1547       N  \nATOM   1546  CA  THR C 197     -21.530  -6.700  -4.458  1.00 56.30           C  \nANISOU 1546  CA  THR C 197     4979   9328   7084  -1437    714  -1894       C  \nATOM   1547  C   THR C 197     -20.258  -7.298  -4.939  1.00 56.62           C  \nANISOU 1547  C   THR C 197     5175   9069   7268  -1498    912  -1947       C  \nATOM   1548  O   THR C 197     -19.236  -6.606  -5.109  1.00 55.79           O  \nANISOU 1548  O   THR C 197     5222   8853   7121  -1328    916  -1749       O  \nATOM   1549  CB  THR C 197     -22.217  -5.929  -5.565  1.00 58.50           C  \nANISOU 1549  CB  THR C 197     5189  10091   6944  -1349    509  -1988       C  \nATOM   1550  OG1 THR C 197     -23.498  -5.554  -5.089  1.00 59.69           O  \nANISOU 1550  OG1 THR C 197     5146  10521   7012  -1312    341  -1983       O  \nATOM   1551  CG2 THR C 197     -22.415  -6.804  -6.837  1.00 59.38           C  \nANISOU 1551  CG2 THR C 197     5239  10407   6916  -1573    567  -2394       C  \nATOM   1552  N   HIS C 198     -20.286  -8.602  -5.078  1.00 58.41           N  \nANISOU 1552  N   HIS C 198     5358   9123   7711  -1745   1109  -2213       N  \nATOM   1553  CA  HIS C 198     -19.140  -9.357  -5.484  1.00 59.43           C  \nANISOU 1553  CA  HIS C 198     5613   8930   8035  -1819   1339  -2298       C  \nATOM   1554  C   HIS C 198     -19.585 -10.448  -6.437  1.00 63.00           C  \nANISOU 1554  C   HIS C 198     5984   9466   8486  -2107   1479  -2746       C  \nATOM   1555  O   HIS C 198     -20.653 -10.973  -6.307  1.00 64.18           O  \nANISOU 1555  O   HIS C 198     5970   9744   8669  -2290   1474  -2962       O  \nATOM   1556  CB  HIS C 198     -18.509  -9.960  -4.263  1.00 58.05           C  \nANISOU 1556  CB  HIS C 198     5494   8299   8263  -1793   1503  -2097       C  \nATOM   1557  CG  HIS C 198     -17.138 -10.487  -4.489  1.00 58.01           C  \nANISOU 1557  CG  HIS C 198     5617   7942   8482  -1771   1710  -2079       C  \nATOM   1558  ND1 HIS C 198     -16.832 -11.818  -4.381  1.00 61.08           N  \nANISOU 1558  ND1 HIS C 198     6017   7981   9209  -1929   1985  -2227       N  \nATOM   1559  CD2 HIS C 198     -15.982  -9.859  -4.784  1.00 55.81           C  \nANISOU 1559  CD2 HIS C 198     5449   7589   8167  -1604   1704  -1927       C  \nATOM   1560  CE1 HIS C 198     -15.549 -11.989  -4.597  1.00 61.88           C  \nANISOU 1560  CE1 HIS C 198     6221   7823   9465  -1840   2121  -2162       C  \nATOM   1561  NE2 HIS C 198     -15.012 -10.816  -4.848  1.00 56.19           N  \nANISOU 1561  NE2 HIS C 198     5552   7273   8522  -1654   1953  -1991       N  \nATOM   1562  N   LYS C 199     -18.723 -10.860  -7.333  1.00 64.28           N  \nANISOU 1562  N   LYS C 199     6250   9519   8652  -2167   1637  -2909       N  \nATOM   1563  CA  LYS C 199     -19.093 -11.815  -8.345  1.00 68.62           C  \nANISOU 1563  CA  LYS C 199     6731  10179   9160  -2442   1770  -3378       C  \nATOM   1564  C   LYS C 199     -19.529 -13.134  -7.736  1.00 71.13           C  \nANISOU 1564  C   LYS C 199     6954  10184   9886  -2699   2004  -3585       C  \nATOM   1565  O   LYS C 199     -20.200 -13.907  -8.361  1.00 74.00           O  \nANISOU 1565  O   LYS C 199     7198  10675  10244  -2971   2092  -4012       O  \nATOM   1566  CB  LYS C 199     -17.982 -11.979  -9.376  1.00 69.33           C  \nANISOU 1566  CB  LYS C 199     6974  10180   9187  -2441   1930  -3498       C  \nATOM   1567  CG  LYS C 199     -16.988 -13.060  -9.109  1.00 71.14           C  \nANISOU 1567  CG  LYS C 199     7288   9872   9868  -2530   2266  -3548       C  \nATOM   1568  CD  LYS C 199     -16.254 -13.383 -10.390  1.00 74.56           C  \nANISOU 1568  CD  LYS C 199     7817  10327  10185  -2612   2438  -3829       C  \nATOM   1569  CE  LYS C 199     -15.613 -14.752 -10.354  1.00 75.84           C  \nANISOU 1569  CE  LYS C 199     8012  10001  10800  -2785   2812  -4046       C  \nATOM   1570  NZ  LYS C 199     -14.450 -14.882 -11.266  1.00 77.31           N  \nANISOU 1570  NZ  LYS C 199     8331  10069  10975  -2759   3013  -4154       N  \nATOM   1571  N   THR C 200     -19.155 -13.373  -6.498  1.00 70.63           N  \nANISOU 1571  N   THR C 200     6945   9717  10174  -2608   2113  -3280       N  \nATOM   1572  CA  THR C 200     -19.580 -14.566  -5.786  1.00 73.07           C  \nANISOU 1572  CA  THR C 200     7193   9687  10882  -2814   2366  -3392       C  \nATOM   1573  C   THR C 200     -21.093 -14.684  -5.534  1.00 75.69           C  \nANISOU 1573  C   THR C 200     7311  10287  11160  -3003   2282  -3584       C  \nATOM   1574  O   THR C 200     -21.566 -15.747  -5.193  1.00 78.22           O  \nANISOU 1574  O   THR C 200     7561  10358  11798  -3243   2533  -3777       O  \nATOM   1575  CB  THR C 200     -18.893 -14.694  -4.473  1.00 70.29           C  \nANISOU 1575  CB  THR C 200     6953   8904  10848  -2624   2471  -2970       C  \nATOM   1576  OG1 THR C 200     -18.982 -13.453  -3.807  1.00 67.70           O  \nANISOU 1576  OG1 THR C 200     6630   8793  10297  -2367   2181  -2612       O  \nATOM   1577  CG2 THR C 200     -17.476 -15.008  -4.684  1.00 70.68           C  \nANISOU 1577  CG2 THR C 200     7157   8613  11084  -2509   2642  -2877       C  \nATOM   1578  N   SER C 201     -21.827 -13.591  -5.613  1.00 75.79           N  \nANISOU 1578  N   SER C 201     7217  10768  10808  -2882   1955  -3504       N  \nATOM   1579  CA  SER C 201     -23.261 -13.651  -5.481  1.00 78.55           C  \nANISOU 1579  CA  SER C 201     7325  11427  11092  -3051   1859  -3717       C  \nATOM   1580  C   SER C 201     -23.967 -12.709  -6.416  1.00 79.89           C  \nANISOU 1580  C   SER C 201     7353  12224  10776  -2984   1521  -3864       C  \nATOM   1581  O   SER C 201     -23.506 -11.619  -6.650  1.00 77.83           O  \nANISOU 1581  O   SER C 201     7203  12141  10227  -2704   1311  -3595       O  \nATOM   1582  CB  SER C 201     -23.656 -13.299  -4.078  1.00 77.01           C  \nANISOU 1582  CB  SER C 201     7113  11107  11038  -2918   1824  -3355       C  \nATOM   1583  OG  SER C 201     -22.839 -13.960  -3.149  1.00 77.46           O  \nANISOU 1583  OG  SER C 201     7343  10617  11470  -2877   2089  -3105       O  \nATOM   1584  N   THR C 202     -25.115 -13.120  -6.934  1.00 83.97           N  \nANISOU 1584  N   THR C 202     7613  13084  11208  -3233   1473  -4289       N  \nATOM   1585  CA  THR C 202     -25.974 -12.245  -7.732  1.00 85.92           C  \nANISOU 1585  CA  THR C 202     7674  13989  10980  -3142   1121  -4422       C  \nATOM   1586  C   THR C 202     -26.606 -11.207  -6.827  1.00 83.45           C  \nANISOU 1586  C   THR C 202     7283  13841  10583  -2894    898  -4056       C  \nATOM   1587  O   THR C 202     -26.811 -10.068  -7.225  1.00 83.97           O  \nANISOU 1587  O   THR C 202     7333  14304  10265  -2630    606  -3889       O  \nATOM   1588  CB  THR C 202     -27.087 -13.035  -8.398  1.00 90.99           C  \nANISOU 1588  CB  THR C 202     8008  14967  11597  -3491   1126  -5009       C  \nATOM   1589  OG1 THR C 202     -26.489 -14.011  -9.251  1.00 94.65           O  \nANISOU 1589  OG1 THR C 202     8552  15265  12145  -3735   1357  -5387       O  \nATOM   1590  CG2 THR C 202     -28.006 -12.128  -9.216  1.00 93.45           C  \nANISOU 1590  CG2 THR C 202     8098  16019  11390  -3357    727  -5135       C  \nATOM   1591  N   SER C 203     -26.902 -11.605  -5.599  1.00 81.60           N  \nANISOU 1591  N   SER C 203     7012  13281  10709  -2969   1063  -3920       N  \nATOM   1592  CA  SER C 203     -27.446 -10.696  -4.636  1.00 78.54           C  \nANISOU 1592  CA  SER C 203     6567  12996  10278  -2749    902  -3583       C  \nATOM   1593  C   SER C 203     -26.302 -10.202  -3.741  1.00 74.12           C  \nANISOU 1593  C   SER C 203     6304  12021   9834  -2487    963  -3087       C  \nATOM   1594  O   SER C 203     -25.448 -10.986  -3.325  1.00 72.52           O  \nANISOU 1594  O   SER C 203     6273  11348   9932  -2564   1222  -3017       O  \nATOM   1595  CB  SER C 203     -28.490 -11.405  -3.802  1.00 80.69           C  \nANISOU 1595  CB  SER C 203     6617  13190  10850  -2990   1061  -3738       C  \nATOM   1596  OG  SER C 203     -27.883 -12.468  -3.096  1.00 81.89           O  \nANISOU 1596  OG  SER C 203     6930  12761  11423  -3152   1426  -3684       O  \nATOM   1597  N   PRO C 204     -26.304  -8.894  -3.429  1.00 70.79           N  \nANISOU 1597  N   PRO C 204     5928  11783   9183  -2171    726  -2754       N  \nATOM   1598  CA  PRO C 204     -25.328  -8.288  -2.541  1.00 66.64           C  \nANISOU 1598  CA  PRO C 204     5639  10935   8744  -1926    747  -2324       C  \nATOM   1599  C   PRO C 204     -25.473  -8.692  -1.062  1.00 64.87           C  \nANISOU 1599  C   PRO C 204     5430  10389   8826  -1954    911  -2134       C  \nATOM   1600  O   PRO C 204     -26.529  -9.106  -0.621  1.00 65.92           O  \nANISOU 1600  O   PRO C 204     5377  10606   9064  -2110    971  -2268       O  \nATOM   1601  CB  PRO C 204     -25.614  -6.790  -2.697  1.00 65.57           C  \nANISOU 1601  CB  PRO C 204     5490  11145   8278  -1625    460  -2111       C  \nATOM   1602  CG  PRO C 204     -27.030  -6.706  -3.036  1.00 68.45           C  \nANISOU 1602  CG  PRO C 204     5566  11953   8486  -1698    312  -2344       C  \nATOM   1603  CD  PRO C 204     -27.366  -7.941  -3.810  1.00 71.91           C  \nANISOU 1603  CD  PRO C 204     5863  12457   8999  -2034    434  -2790       C  \nATOM   1604  N   ILE C 205     -24.391  -8.563  -0.313  1.00 61.77           N  \nANISOU 1604  N   ILE C 205     5256   9648   8566  -1799    987  -1824       N  \nATOM   1605  CA  ILE C 205     -24.394  -8.801   1.124  1.00 59.95           C  \nANISOU 1605  CA  ILE C 205     5080   9146   8551  -1758   1114  -1584       C  \nATOM   1606  C   ILE C 205     -24.744  -7.453   1.781  1.00 57.71           C  \nANISOU 1606  C   ILE C 205     4779   9079   8067  -1506    893  -1339       C  \nATOM   1607  O   ILE C 205     -24.013  -6.506   1.634  1.00 56.63           O  \nANISOU 1607  O   ILE C 205     4759   8970   7786  -1291    748  -1165       O  \nATOM   1608  CB  ILE C 205     -22.989  -9.314   1.587  1.00 57.97           C  \nANISOU 1608  CB  ILE C 205     5055   8456   8513  -1682   1277  -1378       C  \nATOM   1609  CG1 ILE C 205     -22.688 -10.679   0.966  1.00 59.66           C  \nANISOU 1609  CG1 ILE C 205     5287   8416   8964  -1923   1535  -1625       C  \nATOM   1610  CG2 ILE C 205     -22.910  -9.393   3.077  1.00 56.67           C  \nANISOU 1610  CG2 ILE C 205     4968   8077   8487  -1573   1359  -1083       C  \nATOM   1611  CD1 ILE C 205     -21.297 -11.228   1.268  1.00 58.96           C  \nANISOU 1611  CD1 ILE C 205     5394   7909   9096  -1828   1698  -1443       C  \nATOM   1612  N   VAL C 206     -25.847  -7.402   2.517  1.00 58.56           N  \nANISOU 1612  N   VAL C 206     4740   9313   8196  -1546    901  -1340       N  \nATOM   1613  CA  VAL C 206     -26.348  -6.182   3.136  1.00 56.96           C  \nANISOU 1613  CA  VAL C 206     4493   9323   7824  -1327    722  -1156       C  \nATOM   1614  C   VAL C 206     -26.099  -6.246   4.640  1.00 55.78           C  \nANISOU 1614  C   VAL C 206     4462   8922   7807  -1244    841   -891       C  \nATOM   1615  O   VAL C 206     -26.495  -7.209   5.284  1.00 57.31           O  \nANISOU 1615  O   VAL C 206     4629   8951   8193  -1407   1058   -916       O  \nATOM   1616  CB  VAL C 206     -27.856  -6.054   2.928  1.00 59.15           C  \nANISOU 1616  CB  VAL C 206     4488   9962   8023  -1419    652  -1362       C  \nATOM   1617  CG1 VAL C 206     -28.369  -4.676   3.411  1.00 57.86           C  \nANISOU 1617  CG1 VAL C 206     4272  10034   7676  -1156    459  -1180       C  \nATOM   1618  CG2 VAL C 206     -28.230  -6.338   1.467  1.00 60.03           C  \nANISOU 1618  CG2 VAL C 206     4442  10352   8011  -1559    561  -1691       C  \nATOM   1619  N   LYS C 207     -25.417  -5.246   5.193  1.00 52.88           N  \nANISOU 1619  N   LYS C 207     4233   8522   7337   -997    717   -646       N  \nATOM   1620  CA  LYS C 207     -25.326  -5.091   6.640  1.00 51.33           C  \nANISOU 1620  CA  LYS C 207     4125   8195   7183   -887    778   -417       C  \nATOM   1621  C   LYS C 207     -25.873  -3.756   7.013  1.00 49.93           C  \nANISOU 1621  C   LYS C 207     3889   8256   6826   -700    610   -341       C  \nATOM   1622  O   LYS C 207     -25.672  -2.783   6.298  1.00 49.15           O  \nANISOU 1622  O   LYS C 207     3790   8298   6586   -567    438   -348       O  \nATOM   1623  CB  LYS C 207     -23.881  -5.202   7.127  1.00 49.72           C  \nANISOU 1623  CB  LYS C 207     4134   7711   7045   -766    801   -217       C  \nATOM   1624  CG  LYS C 207     -23.384  -6.625   7.070  1.00 51.59           C  \nANISOU 1624  CG  LYS C 207     4440   7656   7505   -917   1021   -238       C  \nATOM   1625  CD  LYS C 207     -24.158  -7.579   8.015  1.00 56.24           C  \nANISOU 1625  CD  LYS C 207     5008   8125   8233  -1041   1257   -192       C  \nATOM   1626  CE  LYS C 207     -23.780  -9.004   7.686  1.00 59.98           C  \nANISOU 1626  CE  LYS C 207     5537   8290   8961  -1215   1509   -259       C  \nATOM   1627  NZ  LYS C 207     -23.619  -9.783   8.907  1.00 63.54           N  \nANISOU 1627  NZ  LYS C 207     6117   8478   9545  -1173   1730    -17       N  \nATOM   1628  N   SER C 208     -26.498  -3.698   8.174  1.00 49.80           N  \nANISOU 1628  N   SER C 208     3846   8256   6820   -675    686   -249       N  \nATOM   1629  CA  SER C 208     -27.259  -2.555   8.538  1.00 49.98           C  \nANISOU 1629  CA  SER C 208     3775   8509   6703   -527    571   -223       C  \nATOM   1630  C   SER C 208     -27.295  -2.327  10.028  1.00 48.92           C  \nANISOU 1630  C   SER C 208     3728   8307   6553   -430    651    -52       C  \nATOM   1631  O   SER C 208     -27.246  -3.294  10.785  1.00 49.34           O  \nANISOU 1631  O   SER C 208     3847   8195   6705   -530    838     19       O  \nATOM   1632  CB  SER C 208     -28.711  -2.824   8.095  1.00 52.52           C  \nANISOU 1632  CB  SER C 208     3829   9083   7041   -669    600   -429       C  \nATOM   1633  OG  SER C 208     -29.130  -1.742   7.334  1.00 54.54           O  \nANISOU 1633  OG  SER C 208     3973   9608   7142   -518    396   -483       O  \nATOM   1634  N   PHE C 209     -27.437  -1.069  10.441  1.00 47.83           N  \nANISOU 1634  N   PHE C 209     3591   8294   6284   -236    531      7       N  \nATOM   1635  CA  PHE C 209     -27.961  -0.762  11.811  1.00 48.79           C  \nANISOU 1635  CA  PHE C 209     3725   8457   6355   -164    619     96       C  \nATOM   1636  C   PHE C 209     -28.963   0.415  11.826  1.00 49.52           C  \nANISOU 1636  C   PHE C 209     3665   8790   6360    -33    538     33       C  \nATOM   1637  O   PHE C 209     -28.937   1.268  10.936  1.00 48.18           O  \nANISOU 1637  O   PHE C 209     3446   8719   6140     78    382    -10       O  \nATOM   1638  CB  PHE C 209     -26.806  -0.528  12.832  1.00 47.55           C  \nANISOU 1638  CB  PHE C 209     3791   8140   6134    -34    604    266       C  \nATOM   1639  CG  PHE C 209     -26.039   0.733  12.593  1.00 46.78           C  \nANISOU 1639  CG  PHE C 209     3762   8052   5960    141    422    272       C  \nATOM   1640  CD1 PHE C 209     -26.474   1.930  13.151  1.00 47.79           C  \nANISOU 1640  CD1 PHE C 209     3865   8298   5992    288    376    259       C  \nATOM   1641  CD2 PHE C 209     -24.911   0.734  11.785  1.00 45.33           C  \nANISOU 1641  CD2 PHE C 209     3660   7739   5824    150    330    275       C  \nATOM   1642  CE1 PHE C 209     -25.816   3.114  12.903  1.00 46.94           C  \nANISOU 1642  CE1 PHE C 209     3819   8161   5853    433    252    248       C  \nATOM   1643  CE2 PHE C 209     -24.221   1.924  11.533  1.00 45.70           C  \nANISOU 1643  CE2 PHE C 209     3764   7768   5830    291    204    271       C  \nATOM   1644  CZ  PHE C 209     -24.684   3.123  12.095  1.00 46.92           C  \nANISOU 1644  CZ  PHE C 209     3899   8021   5905    429    171    257       C  \nATOM   1645  N   ASN C 210     -29.837   0.456  12.832  1.00 51.33           N  \nANISOU 1645  N   ASN C 210     3825   9103   6573    -33    665     43       N  \nATOM   1646  CA  ASN C 210     -30.703   1.595  13.045  1.00 53.16           C  \nANISOU 1646  CA  ASN C 210     3928   9532   6738    120    616      0       C  \nATOM   1647  C   ASN C 210     -30.384   2.299  14.332  1.00 53.96           C  \nANISOU 1647  C   ASN C 210     4180   9581   6740    263    659     95       C  \nATOM   1648  O   ASN C 210     -30.247   1.661  15.380  1.00 54.23           O  \nANISOU 1648  O   ASN C 210     4321   9538   6744    201    806    176       O  \nATOM   1649  CB  ASN C 210     -32.166   1.160  13.070  1.00 55.78           C  \nANISOU 1649  CB  ASN C 210     3993  10057   7144      1    740   -124       C  \nATOM   1650  CG  ASN C 210     -32.502   0.352  11.891  1.00 57.03           C  \nANISOU 1650  CG  ASN C 210     3982  10289   7394   -175    708   -269       C  \nATOM   1651  OD1 ASN C 210     -32.379   0.815  10.775  1.00 55.61           O  \nANISOU 1651  OD1 ASN C 210     3742  10218   7168    -98    521   -326       O  \nATOM   1652  ND2 ASN C 210     -32.863  -0.896  12.114  1.00 60.28           N  \nANISOU 1652  ND2 ASN C 210     4337  10631   7936   -420    908   -331       N  \nATOM   1653  N   ARG C 211     -30.311   3.618  14.252  1.00 55.30           N  \nANISOU 1653  N   ARG C 211     4358   9800   6853    459    545     82       N  \nATOM   1654  CA  ARG C 211     -30.091   4.438  15.425  1.00 58.09           C  \nANISOU 1654  CA  ARG C 211     4830  10128   7113    592    584    111       C  \nATOM   1655  C   ARG C 211     -31.125   4.271  16.542  1.00 63.26           C  \nANISOU 1655  C   ARG C 211     5408  10901   7725    569    772     93       C  \nATOM   1656  O   ARG C 211     -30.792   4.481  17.707  1.00 64.70           O  \nANISOU 1656  O   ARG C 211     5734  11057   7790    620    842    129       O  \nATOM   1657  CB  ARG C 211     -29.981   5.899  15.025  1.00 56.80           C  \nANISOU 1657  CB  ARG C 211     4666   9968   6948    793    474     73       C  \nATOM   1658  CG  ARG C 211     -28.614   6.230  14.488  1.00 54.78           C  \nANISOU 1658  CG  ARG C 211     4575   9534   6703    827    349    110       C  \nATOM   1659  CD  ARG C 211     -28.451   7.680  14.096  1.00 54.04           C  \nANISOU 1659  CD  ARG C 211     4506   9387   6638   1016    291     85       C  \nATOM   1660  NE  ARG C 211     -28.740   8.546  15.211  1.00 54.16           N  \nANISOU 1660  NE  ARG C 211     4548   9412   6616   1121    376     23       N  \nATOM   1661  CZ  ARG C 211     -29.820   9.318  15.323  1.00 58.07           C  \nANISOU 1661  CZ  ARG C 211     4919  10010   7135   1258    443    -17       C  \nATOM   1662  NH1 ARG C 211     -29.983  10.032  16.424  1.00 59.30           N  \nANISOU 1662  NH1 ARG C 211     5119  10157   7255   1335    543    -98       N  \nATOM   1663  NH2 ARG C 211     -30.741   9.393  14.364  1.00 57.12           N  \nANISOU 1663  NH2 ARG C 211     4618  10017   7066   1331    408      7       N  \nATOM   1664  N   ASN C 212     -32.355   3.899  16.188  1.00 68.18           N  \nANISOU 1664  N   ASN C 212     5796  11675   8434    490    856     20       N  \nATOM   1665  CA  ASN C 212     -33.430   3.749  17.163  1.00 73.57           C  \nANISOU 1665  CA  ASN C 212     6371  12474   9106    455   1067    -12       C  \nATOM   1666  C   ASN C 212     -33.526   2.326  17.726  1.00 77.71           C  \nANISOU 1666  C   ASN C 212     6944  12926   9654    238   1277     54       C  \nATOM   1667  O   ASN C 212     -34.484   1.973  18.373  1.00 79.44           O  \nANISOU 1667  O   ASN C 212     7054  13230   9899    158   1495     26       O  \nATOM   1668  CB  ASN C 212     -34.785   4.265  16.602  1.00 74.94           C  \nANISOU 1668  CB  ASN C 212     6224  12869   9378    513   1066   -144       C  \nATOM   1669  CG  ASN C 212     -35.324   3.466  15.373  1.00 75.64           C  \nANISOU 1669  CG  ASN C 212     6075  13067   9596    357   1003   -237       C  \nATOM   1670  OD1 ASN C 212     -35.116   2.254  15.298  1.00 76.02           O  \nANISOU 1670  OD1 ASN C 212     6158  13023   9703    133   1095   -232       O  \nATOM   1671  ND2 ASN C 212     -35.968   4.132  14.428  1.00 74.83           N  \nANISOU 1671  ND2 ASN C 212     5743  13158   9530    483    853   -324       N  \nATOM   1672  N   GLU C 213     -32.534   1.505  17.415  1.00 53.43           N  \nATOM   1673  CA  GLU C 213     -32.249   0.287  18.166  1.00 56.65           C  \nATOM   1674  C   GLU C 213     -30.745   0.304  18.484  1.00 57.45           C  \nATOM   1675  O   GLU C 213     -30.317  -0.107  19.573  1.00 59.94           O  \nATOM   1676  CB  GLU C 213     -32.571  -0.953  17.328  1.00 57.78           C  \nATOM   1677  CG  GLU C 213     -33.897  -0.892  16.566  1.00 61.45           C  \nATOM   1678  CD  GLU C 213     -33.998  -1.995  15.487  1.00 66.25           C  \nATOM   1679  OE1 GLU C 213     -33.203  -2.976  15.563  1.00 69.48           O  \nATOM   1680  OE2 GLU C 213     -34.858  -1.872  14.567  1.00 69.17           O  \nTER    1681      GLU C 213                                                      \nATOM   1682  N   GLU D   1      28.698 -10.262  10.248  1.00 78.00           N  \nANISOU 1682  N   GLU D   1     8870  10971   9793   2610   -274   1869       N  \nATOM   1683  CA  GLU D   1      28.916  -9.433   9.034  1.00 75.55           C  \nANISOU 1683  CA  GLU D   1     8420  10756   9529   2462   -271   1567       C  \nATOM   1684  C   GLU D   1      27.934  -8.238   9.017  1.00 71.65           C  \nANISOU 1684  C   GLU D   1     7939  10326   8956   2187   -180   1499       C  \nATOM   1685  O   GLU D   1      27.347  -7.923  10.065  1.00 73.03           O  \nANISOU 1685  O   GLU D   1     8193  10558   8996   2134   -140   1650       O  \nATOM   1686  CB  GLU D   1      28.869 -10.309   7.765  1.00 76.33           C  \nANISOU 1686  CB  GLU D   1     8517  10584   9899   2499   -251   1450       C  \nATOM   1687  CG  GLU D   1      30.017  -9.987   6.738  1.00 77.51           C  \nANISOU 1687  CG  GLU D   1     8478  10923  10048   2550   -320   1182       C  \nATOM   1688  CD  GLU D   1      29.693  -8.786   5.839  1.00 74.39           C  \nANISOU 1688  CD  GLU D   1     8003  10650   9609   2301   -263    971       C  \nATOM   1689  OE1 GLU D   1      28.486  -8.494   5.752  1.00 77.28           O  \nANISOU 1689  OE1 GLU D   1     8469  10870  10021   2119   -175   1009       O  \nATOM   1690  OE2 GLU D   1      30.601  -8.148   5.216  1.00 69.60           O  \nANISOU 1690  OE2 GLU D   1     7236  10275   8931   2286   -299    779       O  \nATOM   1691  N   VAL D   2      27.741  -7.582   7.863  1.00 67.20           N  \nANISOU 1691  N   VAL D   2     7302   9759   8469   2024   -146   1281       N  \nATOM   1692  CA  VAL D   2      27.349  -6.171   7.838  1.00 62.96           C  \nANISOU 1692  CA  VAL D   2     6718   9390   7814   1810   -108   1170       C  \nATOM   1693  C   VAL D   2      25.886  -5.889   8.134  1.00 61.56           C  \nANISOU 1693  C   VAL D   2     6656   9063   7669   1640     -1   1255       C  \nATOM   1694  O   VAL D   2      25.018  -6.608   7.679  1.00 61.89           O  \nANISOU 1694  O   VAL D   2     6782   8838   7893   1604     64   1301       O  \nATOM   1695  CB  VAL D   2      27.679  -5.504   6.496  1.00 60.88           C  \nANISOU 1695  CB  VAL D   2     6340   9186   7605   1700   -108    933       C  \nATOM   1696  CG1 VAL D   2      26.678  -5.906   5.400  1.00 59.42           C  \nANISOU 1696  CG1 VAL D   2     6222   8736   7617   1602    -34    881       C  \nATOM   1697  CG2 VAL D   2      27.683  -4.003   6.652  1.00 57.32           C  \nANISOU 1697  CG2 VAL D   2     5820   8948   7011   1526    -98    833       C  \nATOM   1698  N   GLN D   3      25.637  -4.799   8.835  1.00 59.87           N  \nANISOU 1698  N   GLN D   3     6425   9029   7292   1529     14   1244       N  \nATOM   1699  CA  GLN D   3      24.309  -4.288   9.079  1.00 58.27           C  \nANISOU 1699  CA  GLN D   3     6296   8736   7106   1358    115   1277       C  \nATOM   1700  C   GLN D   3      24.259  -2.792   8.825  1.00 55.16           C  \nANISOU 1700  C   GLN D   3     5819   8504   6633   1195    115   1101       C  \nATOM   1701  O   GLN D   3      25.153  -2.083   9.182  1.00 54.34           O  \nANISOU 1701  O   GLN D   3     5626   8632   6385   1213     50   1021       O  \nATOM   1702  CB  GLN D   3      23.872  -4.576  10.503  1.00 60.13           C  \nANISOU 1702  CB  GLN D   3     6623   9007   7214   1408    155   1485       C  \nATOM   1703  CG  GLN D   3      23.959  -6.016  10.895  1.00 64.94           C  \nANISOU 1703  CG  GLN D   3     7330   9451   7892   1575    159   1701       C  \nATOM   1704  CD  GLN D   3      23.289  -6.929   9.905  1.00 69.13           C  \nANISOU 1704  CD  GLN D   3     7916   9648   8702   1540    217   1702       C  \nATOM   1705  OE1 GLN D   3      23.066  -6.561   8.766  1.00 70.65           O  \nANISOU 1705  OE1 GLN D   3     8052   9776   9015   1433    221   1516       O  \nATOM   1706  NE2 GLN D   3      22.957  -8.129  10.339  1.00 72.34           N  \nANISOU 1706  NE2 GLN D   3     8434   9840   9210   1630    263   1913       N  \nATOM   1707  N   LEU D   4      23.172  -2.332   8.235  1.00 52.68           N  \nANISOU 1707  N   LEU D   4     5533   8054   6426   1038    188   1044       N  \nATOM   1708  CA  LEU D   4      22.963  -0.955   7.866  1.00 51.48           C  \nANISOU 1708  CA  LEU D   4     5322   7992   6243    885    196    894       C  \nATOM   1709  C   LEU D   4      21.624  -0.460   8.446  1.00 50.23           C  \nANISOU 1709  C   LEU D   4     5224   7768   6090    770    282    933       C  \nATOM   1710  O   LEU D   4      20.623  -1.175   8.369  1.00 50.79           O  \nANISOU 1710  O   LEU D   4     5366   7650   6281    753    350   1021       O  \nATOM   1711  CB  LEU D   4      22.907  -0.840   6.345  1.00 50.74           C  \nANISOU 1711  CB  LEU D   4     5195   7795   6289    818    191    772       C  \nATOM   1712  CG  LEU D   4      24.028  -1.324   5.428  1.00 52.30           C  \nANISOU 1712  CG  LEU D   4     5323   8032   6514    907    131    698       C  \nATOM   1713  CD1 LEU D   4      23.519  -1.242   3.963  1.00 53.71           C  \nANISOU 1713  CD1 LEU D   4     5499   8088   6820    822    153    596       C  \nATOM   1714  CD2 LEU D   4      25.235  -0.488   5.595  1.00 52.91           C  \nANISOU 1714  CD2 LEU D   4     5289   8352   6460    906     76    607       C  \nATOM   1715  N   GLN D   5      21.611   0.758   8.982  1.00 48.02           N  \nANISOU 1715  N   GLN D   5     4903   7641   5700    689    282    848       N  \nATOM   1716  CA  GLN D   5      20.434   1.337   9.643  1.00 47.57           C  \nANISOU 1716  CA  GLN D   5     4882   7561   5629    597    362    857       C  \nATOM   1717  C   GLN D   5      20.292   2.824   9.266  1.00 44.66           C  \nANISOU 1717  C   GLN D   5     4455   7240   5274    468    353    686       C  \nATOM   1718  O   GLN D   5      21.114   3.636   9.638  1.00 43.38           O  \nANISOU 1718  O   GLN D   5     4230   7247   5003    457    303    591       O  \nATOM   1719  CB  GLN D   5      20.603   1.192  11.172  1.00 50.18           C  \nANISOU 1719  CB  GLN D   5     5238   8064   5764    672    376    954       C  \nATOM   1720  CG  GLN D   5      19.509   1.758  12.096  1.00 54.94           C  \nANISOU 1720  CG  GLN D   5     5866   8704   6301    597    470    958       C  \nATOM   1721  CD  GLN D   5      18.321   0.822  12.191  1.00 60.61           C  \nANISOU 1721  CD  GLN D   5     6664   9237   7126    583    581   1113       C  \nATOM   1722  OE1 GLN D   5      17.430   0.857  11.339  1.00 65.19           O  \nANISOU 1722  OE1 GLN D   5     7242   9632   7894    493    624   1067       O  \nATOM   1723  NE2 GLN D   5      18.328  -0.055  13.195  1.00 62.02           N  \nANISOU 1723  NE2 GLN D   5     6909   9464   7190    672    626   1302       N  \nATOM   1724  N   GLU D   6      19.219   3.162   8.552  1.00 42.32           N  \nANISOU 1724  N   GLU D   6     4174   6783   5120    374    399    648       N  \nATOM   1725  CA  GLU D   6      18.876   4.549   8.247  1.00 41.27           C  \nANISOU 1725  CA  GLU D   6     4004   6653   5023    265    398    514       C  \nATOM   1726  C   GLU D   6      18.254   5.266   9.464  1.00 41.41           C  \nANISOU 1726  C   GLU D   6     4020   6753   4959    232    450    476       C  \nATOM   1727  O   GLU D   6      17.452   4.687  10.169  1.00 43.02           O  \nANISOU 1727  O   GLU D   6     4263   6938   5144    255    523    563       O  \nATOM   1728  CB  GLU D   6      17.838   4.599   7.105  1.00 40.25           C  \nANISOU 1728  CB  GLU D   6     3892   6331   5067    202    419    497       C  \nATOM   1729  CG  GLU D   6      18.165   3.895   5.797  1.00 39.42           C  \nANISOU 1729  CG  GLU D   6     3791   6137   5049    227    378    510       C  \nATOM   1730  CD  GLU D   6      17.862   2.402   5.754  1.00 40.12           C  \nANISOU 1730  CD  GLU D   6     3921   6119   5201    299    402    610       C  \nATOM   1731  OE1 GLU D   6      17.478   1.791   6.775  1.00 40.50           O  \nANISOU 1731  OE1 GLU D   6     4005   6160   5222    333    457    707       O  \nATOM   1732  OE2 GLU D   6      18.030   1.829   4.659  1.00 40.07           O  \nANISOU 1732  OE2 GLU D   6     3912   6034   5276    320    369    589       O  \nATOM   1733  N   SER D   7      18.562   6.540   9.686  1.00 40.85           N  \nANISOU 1733  N   SER D   7     3900   6767   4852    170    425    337       N  \nATOM   1734  CA  SER D   7      17.829   7.296  10.686  1.00 40.73           C  \nANISOU 1734  CA  SER D   7     3877   6809   4789    136    479    262       C  \nATOM   1735  C   SER D   7      17.734   8.742  10.234  1.00 40.82           C  \nANISOU 1735  C   SER D   7     3849   6762   4898     42    456    103       C  \nATOM   1736  O   SER D   7      18.589   9.219   9.495  1.00 38.76           O  \nANISOU 1736  O   SER D   7     3560   6490   4677      2    396     54       O  \nATOM   1737  CB  SER D   7      18.565   7.262  12.041  1.00 43.92           C  \nANISOU 1737  CB  SER D   7     4261   7453   4975    197    463    246       C  \nATOM   1738  OG  SER D   7      19.841   7.905  11.953  1.00 43.29           O  \nANISOU 1738  OG  SER D   7     4113   7491   4842    181    375    132       O  \nATOM   1739  N   GLY D   8      16.721   9.440  10.728  1.00 40.08           N  \nANISOU 1739  N   GLY D   8     3750   6633   4844      8    511     23       N  \nATOM   1740  CA  GLY D   8      16.604  10.881  10.528  1.00 40.81           C  \nANISOU 1740  CA  GLY D   8     3808   6661   5034    -66    493   -136       C  \nATOM   1741  C   GLY D   8      15.143  11.284  10.538  1.00 40.47           C  \nANISOU 1741  C   GLY D   8     3769   6494   5112    -78    555   -174       C  \nATOM   1742  O   GLY D   8      14.290  10.442  10.667  1.00 40.21           O  \nANISOU 1742  O   GLY D   8     3754   6439   5084    -44    615    -80       O  \nATOM   1743  N   PRO D   9      14.855  12.578  10.385  1.00 41.14           N  \nANISOU 1743  N   PRO D   9     3830   6487   5312   -126    542   -313       N  \nATOM   1744  CA  PRO D   9      13.500  13.079  10.503  1.00 40.82           C  \nANISOU 1744  CA  PRO D   9     3774   6346   5390   -119    594   -379       C  \nATOM   1745  C   PRO D   9      12.554  12.498   9.451  1.00 39.05           C  \nANISOU 1745  C   PRO D   9     3567   5967   5300   -103    597   -263       C  \nATOM   1746  O   PRO D   9      12.951  12.303   8.288  1.00 38.98           O  \nANISOU 1746  O   PRO D   9     3590   5868   5352   -115    535   -178       O  \nATOM   1747  CB  PRO D   9      13.662  14.577  10.259  1.00 41.10           C  \nANISOU 1747  CB  PRO D   9     3792   6270   5553   -168    551   -531       C  \nATOM   1748  CG  PRO D   9      15.051  14.879  10.769  1.00 43.76           C  \nANISOU 1748  CG  PRO D   9     4110   6742   5771   -209    512   -607       C  \nATOM   1749  CD  PRO D   9      15.852  13.673  10.333  1.00 42.82           C  \nANISOU 1749  CD  PRO D   9     4017   6708   5545   -189    485   -439       C  \nATOM   1750  N   GLY D  10      11.318  12.279   9.873  1.00 36.37           N  \nANISOU 1750  N   GLY D  10     3197   5618   5004    -77    671   -278       N  \nATOM   1751  CA  GLY D  10      10.239  11.771   9.022  1.00 36.04           C  \nANISOU 1751  CA  GLY D  10     3142   5447   5102    -64    676   -208       C  \nATOM   1752  C   GLY D  10       9.456  12.814   8.249  1.00 34.95           C  \nANISOU 1752  C   GLY D  10     2977   5150   5151    -55    627   -287       C  \nATOM   1753  O   GLY D  10       8.614  12.483   7.425  1.00 34.71           O  \nANISOU 1753  O   GLY D  10     2926   5025   5236    -36    606   -243       O  \nATOM   1754  N   LEU D  11       9.717  14.084   8.511  1.00 36.80           N  \nANISOU 1754  N   LEU D  11     3207   5350   5423    -62    603   -412       N  \nATOM   1755  CA  LEU D  11       8.973  15.164   7.880  1.00 37.06           C  \nANISOU 1755  CA  LEU D  11     3221   5214   5645    -35    556   -482       C  \nATOM   1756  C   LEU D  11       9.941  16.328   7.671  1.00 37.78           C  \nANISOU 1756  C   LEU D  11     3357   5225   5773    -74    496   -537       C  \nATOM   1757  O   LEU D  11      10.595  16.704   8.601  1.00 36.87           O  \nANISOU 1757  O   LEU D  11     3232   5200   5576   -106    526   -642       O  \nATOM   1758  CB  LEU D  11       7.836  15.594   8.778  1.00 38.13           C  \nANISOU 1758  CB  LEU D  11     3275   5371   5841      6    630   -627       C  \nATOM   1759  CG  LEU D  11       6.971  16.800   8.316  1.00 38.60           C  \nANISOU 1759  CG  LEU D  11     3300   5253   6114     63    582   -729       C  \nATOM   1760  CD1 LEU D  11       6.207  16.430   7.013  1.00 37.14           C  \nANISOU 1760  CD1 LEU D  11     3107   4956   6048    106    509   -613       C  \nATOM   1761  CD2 LEU D  11       5.973  17.172   9.360  1.00 41.27           C  \nANISOU 1761  CD2 LEU D  11     3540   5648   6490    109    670   -901       C  \nATOM   1762  N   VAL D  12       9.975  16.873   6.463  1.00 37.49           N  \nANISOU 1762  N   VAL D  12     3362   5024   5856    -73    417   -465       N  \nATOM   1763  CA  VAL D  12      10.793  18.030   6.094  1.00 37.85           C  \nANISOU 1763  CA  VAL D  12     3455   4949   5976   -123    371   -487       C  \nATOM   1764  C   VAL D  12       9.897  19.027   5.349  1.00 38.50           C  \nANISOU 1764  C   VAL D  12     3549   4814   6263    -65    317   -486       C  \nATOM   1765  O   VAL D  12       9.017  18.601   4.600  1.00 37.13           O  \nANISOU 1765  O   VAL D  12     3368   4606   6134      3    280   -401       O  \nATOM   1766  CB  VAL D  12      11.942  17.554   5.158  1.00 37.96           C  \nANISOU 1766  CB  VAL D  12     3526   4993   5901   -183    331   -334       C  \nATOM   1767  CG1 VAL D  12      12.782  18.735   4.680  1.00 36.37           C  \nANISOU 1767  CG1 VAL D  12     3369   4659   5788   -257    300   -333       C  \nATOM   1768  CG2 VAL D  12      12.846  16.519   5.883  1.00 35.31           C  \nANISOU 1768  CG2 VAL D  12     3172   4871   5372   -216    371   -331       C  \nATOM   1769  N   LYS D  13      10.122  20.302   5.533  1.00 39.27           N  \nANISOU 1769  N   LYS D  13     3664   4766   6491    -86    305   -580       N  \nATOM   1770  CA  LYS D  13       9.375  21.286   4.814  1.00 40.87           C  \nANISOU 1770  CA  LYS D  13     3892   4740   6896    -18    247   -557       C  \nATOM   1771  C   LYS D  13       9.886  21.520   3.426  1.00 39.41           C  \nANISOU 1771  C   LYS D  13     3799   4438   6736    -44    179   -353       C  \nATOM   1772  O   LYS D  13      11.028  21.378   3.175  1.00 40.34           O  \nANISOU 1772  O   LYS D  13     3959   4606   6763   -144    191   -282       O  \nATOM   1773  CB  LYS D  13       9.349  22.575   5.575  1.00 43.58           C  \nANISOU 1773  CB  LYS D  13     4220   4940   7396    -22    265   -744       C  \nATOM   1774  CG  LYS D  13       8.582  22.470   6.787  1.00 46.80           C  \nANISOU 1774  CG  LYS D  13     4533   5455   7792     33    328   -947       C  \nATOM   1775  CD  LYS D  13       8.632  23.722   7.515  1.00 52.24           C  \nANISOU 1775  CD  LYS D  13     5204   6011   8632     30    343  -1160       C  \nATOM   1776  CE  LYS D  13       7.480  23.826   8.412  1.00 55.87           C  \nANISOU 1776  CE  LYS D  13     5564   6525   9137    132    394  -1354       C  \nATOM   1777  NZ  LYS D  13       7.995  24.000   9.753  1.00 61.95           N  \nANISOU 1777  NZ  LYS D  13     6286   7446   9806     77    465  -1580       N  \nATOM   1778  N   PRO D  14       9.023  21.907   2.526  1.00 40.27           N  \nANISOU 1778  N   PRO D  14     3932   4403   6962     51    108   -260       N  \nATOM   1779  CA  PRO D  14       9.473  22.185   1.182  1.00 41.33           C  \nANISOU 1779  CA  PRO D  14     4164   4441   7098     35     46    -49       C  \nATOM   1780  C   PRO D  14      10.460  23.316   1.250  1.00 42.47           C  \nANISOU 1780  C   PRO D  14     4372   4422   7339    -69     72    -48       C  \nATOM   1781  O   PRO D  14      10.293  24.171   2.046  1.00 43.16           O  \nANISOU 1781  O   PRO D  14     4438   4384   7576    -69     94   -205       O  \nATOM   1782  CB  PRO D  14       8.206  22.630   0.499  1.00 42.68           C  \nANISOU 1782  CB  PRO D  14     4335   4476   7406    185    -40      4       C  \nATOM   1783  CG  PRO D  14       7.202  21.925   1.172  1.00 42.71           C  \nANISOU 1783  CG  PRO D  14     4226   4601   7398    259    -23   -131       C  \nATOM   1784  CD  PRO D  14       7.565  21.862   2.580  1.00 41.16           C  \nANISOU 1784  CD  PRO D  14     3974   4489   7173    188     77   -320       C  \nATOM   1785  N   SER D  15      11.515  23.208   0.473  1.00 42.37           N  \nANISOU 1785  N   SER D  15     4426   4438   7234   -169     79    107       N  \nATOM   1786  CA  SER D  15      12.618  24.140   0.340  1.00 42.78           C  \nANISOU 1786  CA  SER D  15     4535   4356   7363   -304    116    145       C  \nATOM   1787  C   SER D  15      13.726  23.955   1.353  1.00 42.72           C  \nANISOU 1787  C   SER D  15     4464   4481   7285   -440    189    -15       C  \nATOM   1788  O   SER D  15      14.765  24.494   1.169  1.00 41.70           O  \nANISOU 1788  O   SER D  15     4359   4294   7189   -572    224     17       O  \nATOM   1789  CB  SER D  15      12.160  25.584   0.337  1.00 45.59           C  \nANISOU 1789  CB  SER D  15     4940   4398   7981   -273     94    127       C  \nATOM   1790  OG  SER D  15      12.199  26.097   1.633  1.00 47.98           O  \nANISOU 1790  OG  SER D  15     5178   4654   8396   -307    137   -129       O  \nATOM   1791  N   GLN D  16      13.521  23.152   2.381  1.00 42.57           N  \nANISOU 1791  N   GLN D  16     4361   4656   7157   -408    211   -174       N  \nATOM   1792  CA  GLN D  16      14.573  22.847   3.335  1.00 43.66           C  \nANISOU 1792  CA  GLN D  16     4435   4965   7188   -512    262   -314       C  \nATOM   1793  C   GLN D  16      15.444  21.701   2.860  1.00 42.72           C  \nANISOU 1793  C   GLN D  16     4307   5063   6858   -555    271   -194       C  \nATOM   1794  O   GLN D  16      15.286  21.232   1.789  1.00 40.58           O  \nANISOU 1794  O   GLN D  16     4084   4801   6533   -519    246    -18       O  \nATOM   1795  CB  GLN D  16      14.052  22.523   4.715  1.00 44.40           C  \nANISOU 1795  CB  GLN D  16     4448   5187   7233   -455    287   -527       C  \nATOM   1796  CG  GLN D  16      12.866  23.290   5.186  1.00 49.06           C  \nANISOU 1796  CG  GLN D  16     5024   5620   7994   -362    280   -657       C  \nATOM   1797  CD  GLN D  16      13.181  24.644   5.717  1.00 55.82           C  \nANISOU 1797  CD  GLN D  16     5877   6291   9041   -426    291   -830       C  \nATOM   1798  OE1 GLN D  16      14.140  25.279   5.304  1.00 60.71           O  \nANISOU 1798  OE1 GLN D  16     6533   6797   9735   -546    293   -787       O  \nATOM   1799  NE2 GLN D  16      12.351  25.118   6.627  1.00 58.38           N  \nANISOU 1799  NE2 GLN D  16     6149   6573   9458   -349    305  -1038       N  \nATOM   1800  N   SER D  17      16.384  21.282   3.684  1.00 43.89           N  \nANISOU 1800  N   SER D  17     4390   5396   6890   -623    303   -305       N  \nATOM   1801  CA  SER D  17      17.308  20.232   3.327  1.00 43.59           C  \nANISOU 1801  CA  SER D  17     4330   5561   6668   -653    310   -214       C  \nATOM   1802  C   SER D  17      16.892  18.957   4.009  1.00 41.98           C  \nANISOU 1802  C   SER D  17     4088   5552   6309   -556    310   -247       C  \nATOM   1803  O   SER D  17      16.597  18.955   5.197  1.00 43.16           O  \nANISOU 1803  O   SER D  17     4192   5769   6435   -527    326   -396       O  \nATOM   1804  CB  SER D  17      18.719  20.555   3.787  1.00 44.85           C  \nANISOU 1804  CB  SER D  17     4427   5813   6799   -785    336   -311       C  \nATOM   1805  OG  SER D  17      19.274  21.656   3.061  1.00 50.28           O  \nANISOU 1805  OG  SER D  17     5146   6321   7635   -908    355   -256       O  \nATOM   1806  N   LEU D  18      16.890  17.872   3.282  1.00 40.05           N  \nANISOU 1806  N   LEU D  18     3862   5399   5956   -507    297   -112       N  \nATOM   1807  CA  LEU D  18      16.563  16.554   3.885  1.00 38.66           C  \nANISOU 1807  CA  LEU D  18     3656   5386   5647   -423    305   -120       C  \nATOM   1808  C   LEU D  18      17.866  15.877   4.267  1.00 39.14           C  \nANISOU 1808  C   LEU D  18     3669   5640   5560   -456    314   -134       C  \nATOM   1809  O   LEU D  18      18.774  15.743   3.413  1.00 39.83           O  \nANISOU 1809  O   LEU D  18     3757   5763   5613   -504    306    -57       O  \nATOM   1810  CB  LEU D  18      15.787  15.743   2.874  1.00 37.90           C  \nANISOU 1810  CB  LEU D  18     3597   5257   5543   -348    280     10       C  \nATOM   1811  CG  LEU D  18      15.445  14.236   3.024  1.00 35.25           C  \nANISOU 1811  CG  LEU D  18     3247   5038   5107   -273    287     51       C  \nATOM   1812  CD1 LEU D  18      14.300  13.935   2.032  1.00 35.28           C  \nANISOU 1812  CD1 LEU D  18     3277   4945   5180   -211    252    124       C  \nATOM   1813  CD2 LEU D  18      16.538  13.278   2.749  1.00 38.92           C  \nANISOU 1813  CD2 LEU D  18     3702   5640   5445   -278    286    105       C  \nATOM   1814  N   SER D  19      18.000  15.459   5.528  1.00 38.38           N  \nANISOU 1814  N   SER D  19     3528   5687   5367   -426    329   -230       N  \nATOM   1815  CA  SER D  19      19.214  14.794   5.961  1.00 39.25           C  \nANISOU 1815  CA  SER D  19     3585   5994   5330   -431    320   -243       C  \nATOM   1816  C   SER D  19      18.939  13.430   6.562  1.00 37.75           C  \nANISOU 1816  C   SER D  19     3398   5934   5009   -325    328   -188       C  \nATOM   1817  O   SER D  19      18.024  13.272   7.357  1.00 37.56           O  \nANISOU 1817  O   SER D  19     3385   5913   4972   -276    358   -216       O  \nATOM   1818  CB  SER D  19      19.923  15.652   6.983  1.00 41.25           C  \nANISOU 1818  CB  SER D  19     3773   6329   5569   -498    317   -415       C  \nATOM   1819  OG  SER D  19      20.403  16.809   6.332  1.00 44.26           O  \nANISOU 1819  OG  SER D  19     4148   6578   6087   -616    316   -448       O  \nATOM   1820  N   LEU D  20      19.741  12.458   6.187  1.00 36.31           N  \nANISOU 1820  N   LEU D  20     3204   5855   4737   -290    310   -108       N  \nATOM   1821  CA  LEU D  20      19.668  11.141   6.775  1.00 35.79           C  \nANISOU 1821  CA  LEU D  20     3145   5895   4557   -188    315    -41       C  \nATOM   1822  C   LEU D  20      21.079  10.601   7.038  1.00 36.12           C  \nANISOU 1822  C   LEU D  20     3128   6121   4474   -159    278    -44       C  \nATOM   1823  O   LEU D  20      22.025  10.944   6.346  1.00 35.09           O  \nANISOU 1823  O   LEU D  20     2951   6017   4361   -215    256    -67       O  \nATOM   1824  CB  LEU D  20      18.879  10.186   5.844  1.00 34.99           C  \nANISOU 1824  CB  LEU D  20     3099   5679   4514   -136    325     81       C  \nATOM   1825  CG  LEU D  20      17.359  10.423   5.574  1.00 34.70           C  \nANISOU 1825  CG  LEU D  20     3102   5482   4597   -137    352     93       C  \nATOM   1826  CD1 LEU D  20      16.882   9.428   4.508  1.00 33.33           C  \nANISOU 1826  CD1 LEU D  20     2960   5229   4474    -95    341    188       C  \nATOM   1827  CD2 LEU D  20      16.451  10.284   6.800  1.00 35.12           C  \nANISOU 1827  CD2 LEU D  20     3154   5561   4627   -106    406     64       C  \nATOM   1828  N   THR D  21      21.145   9.661   7.988  1.00 36.64           N  \nANISOU 1828  N   THR D  21     3195   6309   4416    -61    276     -3       N  \nATOM   1829  CA  THR D  21      22.355   8.988   8.409  1.00 37.37           C  \nANISOU 1829  CA  THR D  21     3233   6587   4378      9    229      7       C  \nATOM   1830  C   THR D  21      22.156   7.472   8.242  1.00 38.19           C  \nANISOU 1830  C   THR D  21     3390   6663   4456    130    235    160       C  \nATOM   1831  O   THR D  21      21.049   6.927   8.517  1.00 36.50           O  \nANISOU 1831  O   THR D  21     3247   6351   4267    164    285    243       O  \nATOM   1832  CB  THR D  21      22.590   9.304   9.891  1.00 38.98           C  \nANISOU 1832  CB  THR D  21     3398   6974   4439     34    213    -79       C  \nATOM   1833  OG1 THR D  21      22.733  10.726  10.031  1.00 37.16           O  \nANISOU 1833  OG1 THR D  21     3115   6740   4264    -85    208   -249       O  \nATOM   1834  CG2 THR D  21      23.818   8.598  10.430  1.00 38.57           C  \nANISOU 1834  CG2 THR D  21     3281   7139   4235    132    145    -65       C  \nATOM   1835  N   CYS D  22      23.197   6.801   7.743  1.00 38.30           N  \nANISOU 1835  N   CYS D  22     3362   6747   4443    190    191    189       N  \nATOM   1836  CA  CYS D  22      23.259   5.332   7.755  1.00 39.40           C  \nANISOU 1836  CA  CYS D  22     3540   6870   4557    326    183    317       C  \nATOM   1837  C   CYS D  22      24.337   4.920   8.735  1.00 40.23           C  \nANISOU 1837  C   CYS D  22     3588   7188   4508    434    122    322       C  \nATOM   1838  O   CYS D  22      25.472   5.335   8.570  1.00 39.90           O  \nANISOU 1838  O   CYS D  22     3443   7286   4428    420     69    226       O  \nATOM   1839  CB  CYS D  22      23.647   4.780   6.367  1.00 40.02           C  \nANISOU 1839  CB  CYS D  22     3608   6869   4727    341    171    331       C  \nATOM   1840  SG  CYS D  22      23.523   2.922   6.146  1.00 44.61           S  \nANISOU 1840  SG  CYS D  22     4250   7348   5350    503    169    466       S  \nATOM   1841  N   THR D  23      23.994   4.080   9.697  1.00 40.27           N  \nANISOU 1841  N   THR D  23     3653   7218   4427    543    131    441       N  \nATOM   1842  CA  THR D  23      24.932   3.608  10.718  1.00 43.31           C  \nANISOU 1842  CA  THR D  23     3997   7816   4641    676     62    475       C  \nATOM   1843  C   THR D  23      25.278   2.172  10.320  1.00 43.81           C  \nANISOU 1843  C   THR D  23     4097   7801   4748    826     40    616       C  \nATOM   1844  O   THR D  23      24.398   1.321  10.158  1.00 45.47           O  \nANISOU 1844  O   THR D  23     4410   7819   5046    855     99    748       O  \nATOM   1845  CB  THR D  23      24.339   3.724  12.134  1.00 43.34           C  \nANISOU 1845  CB  THR D  23     4050   7925   4490    703     89    524       C  \nATOM   1846  OG1 THR D  23      24.071   5.106  12.400  1.00 45.30           O  \nANISOU 1846  OG1 THR D  23     4252   8232   4725    566    105    353       O  \nATOM   1847  CG2 THR D  23      25.294   3.151  13.261  1.00 47.15           C  \nANISOU 1847  CG2 THR D  23     4500   8657   4757    870      4    587       C  \nATOM   1848  N   VAL D  24      26.549   1.961  10.042  1.00 44.10           N  \nANISOU 1848  N   VAL D  24     4033   7967   4754    906    -41    562       N  \nATOM   1849  CA  VAL D  24      27.070   0.676   9.585  1.00 45.31           C  \nANISOU 1849  CA  VAL D  24     4195   8055   4964   1063    -75    655       C  \nATOM   1850  C   VAL D  24      27.842   0.018  10.739  1.00 47.28           C  \nANISOU 1850  C   VAL D  24     4426   8487   5050   1255   -160    750       C  \nATOM   1851  O   VAL D  24      28.670   0.672  11.409  1.00 46.12           O  \nANISOU 1851  O   VAL D  24     4171   8598   4754   1268   -235    652       O  \nATOM   1852  CB  VAL D  24      28.021   0.847   8.358  1.00 44.94           C  \nANISOU 1852  CB  VAL D  24     4031   8043   5000   1040   -107    518       C  \nATOM   1853  CG1 VAL D  24      28.520  -0.495   7.889  1.00 45.79           C  \nANISOU 1853  CG1 VAL D  24     4142   8078   5178   1216   -140    587       C  \nATOM   1854  CG2 VAL D  24      27.298   1.586   7.186  1.00 44.44           C  \nANISOU 1854  CG2 VAL D  24     3990   7827   5067    856    -30    438       C  \nATOM   1855  N   THR D  25      27.561  -1.262  10.957  1.00 48.70           N  \nANISOU 1855  N   THR D  25     4709   8529   5264   1402   -151    939       N  \nATOM   1856  CA  THR D  25      28.260  -2.058  11.946  1.00 52.07           C  \nANISOU 1856  CA  THR D  25     5140   9092   5551   1616   -234   1075       C  \nATOM   1857  C   THR D  25      28.652  -3.379  11.294  1.00 52.62           C  \nANISOU 1857  C   THR D  25     5236   8989   5769   1781   -260   1166       C  \nATOM   1858  O   THR D  25      28.093  -3.766  10.254  1.00 52.62           O  \nANISOU 1858  O   THR D  25     5283   8741   5967   1718   -193   1148       O  \nATOM   1859  CB  THR D  25      27.347  -2.340  13.129  1.00 54.04           C  \nANISOU 1859  CB  THR D  25     5526   9321   5682   1640   -177   1270       C  \nATOM   1860  OG1 THR D  25      26.084  -2.774  12.613  1.00 55.17           O  \nANISOU 1860  OG1 THR D  25     5793   9161   6006   1543    -52   1361       O  \nATOM   1861  CG2 THR D  25      27.141  -1.064  13.981  1.00 55.05           C  \nANISOU 1861  CG2 THR D  25     5610   9679   5625   1520   -171   1156       C  \nATOM   1862  N   GLY D  26      29.623  -4.051  11.881  1.00 54.39           N  \nANISOU 1862  N   GLY D  26     5419   9348   5898   2001   -366   1245       N  \nATOM   1863  CA  GLY D  26      30.115  -5.304  11.347  1.00 55.81           C  \nANISOU 1863  CA  GLY D  26     5612   9371   6222   2189   -405   1318       C  \nATOM   1864  C   GLY D  26      31.030  -5.198  10.136  1.00 55.07           C  \nANISOU 1864  C   GLY D  26     5362   9318   6242   2194   -446   1102       C  \nATOM   1865  O   GLY D  26      31.580  -6.193   9.712  1.00 57.08           O  \nANISOU 1865  O   GLY D  26     5600   9479   6609   2371   -490   1125       O  \nATOM   1866  N   TYR D  27      31.186  -4.013   9.553  1.00 52.86           N  \nANISOU 1866  N   TYR D  27     4970   9168   5945   2002   -423    895       N  \nATOM   1867  CA  TYR D  27      32.097  -3.837   8.422  1.00 51.66           C  \nANISOU 1867  CA  TYR D  27     4659   9092   5874   1991   -443    698       C  \nATOM   1868  C   TYR D  27      32.525  -2.357   8.358  1.00 50.19           C  \nANISOU 1868  C   TYR D  27     4333   9145   5590   1799   -443    512       C  \nATOM   1869  O   TYR D  27      31.731  -1.456   8.613  1.00 48.22           O  \nANISOU 1869  O   TYR D  27     4144   8874   5303   1616   -383    504       O  \nATOM   1870  CB  TYR D  27      31.438  -4.327   7.115  1.00 50.33           C  \nANISOU 1870  CB  TYR D  27     4563   8650   5911   1927   -355    665       C  \nATOM   1871  CG  TYR D  27      32.430  -4.469   5.964  1.00 50.22           C  \nANISOU 1871  CG  TYR D  27     4395   8714   5970   1972   -373    485       C  \nATOM   1872  CD1 TYR D  27      33.078  -5.673   5.712  1.00 52.46           C  \nANISOU 1872  CD1 TYR D  27     4648   8939   6346   2204   -427    494       C  \nATOM   1873  CD2 TYR D  27      32.735  -3.389   5.146  1.00 47.70           C  \nANISOU 1873  CD2 TYR D  27     3959   8533   5630   1788   -329    309       C  \nATOM   1874  CE1 TYR D  27      33.987  -5.789   4.673  1.00 51.88           C  \nANISOU 1874  CE1 TYR D  27     4419   8963   6330   2249   -433    310       C  \nATOM   1875  CE2 TYR D  27      33.665  -3.487   4.121  1.00 47.00           C  \nANISOU 1875  CE2 TYR D  27     3721   8551   5586   1820   -328    149       C  \nATOM   1876  CZ  TYR D  27      34.273  -4.688   3.876  1.00 51.52           C  \nANISOU 1876  CZ  TYR D  27     4254   9082   6239   2050   -377    139       C  \nATOM   1877  OH  TYR D  27      35.200  -4.773   2.843  1.00 55.99           O  \nANISOU 1877  OH  TYR D  27     4655   9776   6840   2085   -365    -39       O  \nATOM   1878  N   SER D  28      33.781  -2.092   8.036  1.00 50.35           N  \nANISOU 1878  N   SER D  28     4157   9387   5584   1836   -504    356       N  \nATOM   1879  CA  SER D  28      34.274  -0.724   8.101  1.00 49.95           C  \nANISOU 1879  CA  SER D  28     3963   9560   5454   1653   -505    185       C  \nATOM   1880  C   SER D  28      34.063  -0.114   6.734  1.00 47.35           C  \nANISOU 1880  C   SER D  28     3610   9132   5246   1454   -398     73       C  \nATOM   1881  O   SER D  28      34.364  -0.740   5.739  1.00 47.52           O  \nANISOU 1881  O   SER D  28     3599   9091   5364   1516   -374     38       O  \nATOM   1882  CB  SER D  28      35.756  -0.675   8.520  1.00 53.30           C  \nANISOU 1882  CB  SER D  28     4163  10301   5787   1776   -624     65       C  \nATOM   1883  OG  SER D  28      36.373   0.459   7.949  1.00 54.95           O  \nANISOU 1883  OG  SER D  28     4201  10663   6012   1576   -588   -136       O  \nATOM   1884  N   ILE D  29      33.524   1.102   6.684  1.00 45.43           N  \nANISOU 1884  N   ILE D  29     3391   8875   4996   1223   -335     18       N  \nATOM   1885  CA  ILE D  29      33.188   1.741   5.413  1.00 42.95           C  \nANISOU 1885  CA  ILE D  29     3084   8452   4782   1034   -232    -49       C  \nATOM   1886  C   ILE D  29      34.417   2.237   4.658  1.00 44.47           C  \nANISOU 1886  C   ILE D  29     3071   8839   4984    966   -220   -208       C  \nATOM   1887  O   ILE D  29      34.274   2.743   3.535  1.00 44.27           O  \nANISOU 1887  O   ILE D  29     3043   8753   5022    817   -129   -252       O  \nATOM   1888  CB  ILE D  29      32.188   2.922   5.543  1.00 40.97           C  \nANISOU 1888  CB  ILE D  29     2928   8096   4542    817   -167    -45       C  \nATOM   1889  CG1 ILE D  29      32.772   4.066   6.371  1.00 43.45           C  \nANISOU 1889  CG1 ILE D  29     3124   8607   4776    708   -203   -161       C  \nATOM   1890  CG2 ILE D  29      30.866   2.435   6.097  1.00 39.29           C  \nANISOU 1890  CG2 ILE D  29     2907   7683   4338    863   -150    103       C  \nATOM   1891  CD1 ILE D  29      31.888   5.276   6.490  1.00 41.07           C  \nANISOU 1891  CD1 ILE D  29     2902   8195   4507    505   -143   -184       C  \nATOM   1892  N   THR D  30      35.590   2.130   5.277  1.00 46.37           N  \nANISOU 1892  N   THR D  30     3138   9326   5155   1069   -308   -291       N  \nATOM   1893  CA  THR D  30      36.846   2.477   4.622  1.00 47.93           C  \nANISOU 1893  CA  THR D  30     3109   9735   5367   1019   -295   -452       C  \nATOM   1894  C   THR D  30      37.556   1.278   3.996  1.00 49.29           C  \nANISOU 1894  C   THR D  30     3197   9954   5575   1230   -318   -472       C  \nATOM   1895  O   THR D  30      38.593   1.484   3.388  1.00 51.05           O  \nANISOU 1895  O   THR D  30     3221  10364   5812   1199   -294   -611       O  \nATOM   1896  CB  THR D  30      37.855   3.086   5.623  1.00 49.31           C  \nANISOU 1896  CB  THR D  30     3088  10191   5456   1009   -388   -577       C  \nATOM   1897  OG1 THR D  30      38.083   2.161   6.683  1.00 47.88           O  \nANISOU 1897  OG1 THR D  30     2911  10095   5184   1265   -521   -509       O  \nATOM   1898  CG2 THR D  30      37.369   4.404   6.189  1.00 49.33           C  \nANISOU 1898  CG2 THR D  30     3127  10177   5438    784   -363   -619       C  \nATOM   1899  N   SER D  31      37.078   0.038   4.181  1.00 49.67           N  \nANISOU 1899  N   SER D  31     3379   9843   5648   1446   -363   -348       N  \nATOM   1900  CA  SER D  31      37.874  -1.141   3.727  1.00 51.99           C  \nANISOU 1900  CA  SER D  31     3576  10185   5992   1682   -405   -390       C  \nATOM   1901  C   SER D  31      37.642  -1.395   2.271  1.00 50.43           C  \nANISOU 1901  C   SER D  31     3403   9869   5886   1626   -296   -444       C  \nATOM   1902  O   SER D  31      38.600  -1.597   1.543  1.00 50.56           O  \nANISOU 1902  O   SER D  31     3244  10044   5922   1678   -276   -580       O  \nATOM   1903  CB  SER D  31      37.565  -2.435   4.474  1.00 52.74           C  \nANISOU 1903  CB  SER D  31     3797  10138   6103   1950   -498   -237       C  \nATOM   1904  OG  SER D  31      37.454  -2.193   5.849  1.00 57.08           O  \nANISOU 1904  OG  SER D  31     4384  10764   6537   1988   -585   -143       O  \nATOM   1905  N   ASP D  32      36.379  -1.426   1.872  1.00 48.38           N  \nANISOU 1905  N   ASP D  32     3350   9353   5676   1535   -230   -347       N  \nATOM   1906  CA  ASP D  32      35.960  -1.751   0.528  1.00 47.79           C  \nANISOU 1906  CA  ASP D  32     3329   9153   5674   1497   -141   -390       C  \nATOM   1907  C   ASP D  32      34.507  -1.359   0.356  1.00 45.74           C  \nANISOU 1907  C   ASP D  32     3279   8658   5442   1341    -84   -283       C  \nATOM   1908  O   ASP D  32      33.885  -0.907   1.269  1.00 45.91           O  \nANISOU 1908  O   ASP D  32     3394   8613   5435   1277   -106   -184       O  \nATOM   1909  CB  ASP D  32      36.109  -3.236   0.280  1.00 49.34           C  \nANISOU 1909  CB  ASP D  32     3544   9240   5962   1752   -184   -398       C  \nATOM   1910  CG  ASP D  32      36.296  -3.586  -1.186  1.00 50.51           C  \nANISOU 1910  CG  ASP D  32     3638   9396   6156   1753   -106   -538       C  \nATOM   1911  OD1 ASP D  32      36.138  -2.747  -2.058  1.00 47.07           O  \nANISOU 1911  OD1 ASP D  32     3186   9026   5672   1556    -13   -592       O  \nATOM   1912  OD2 ASP D  32      36.580  -4.744  -1.461  1.00 51.79           O  \nANISOU 1912  OD2 ASP D  32     3782   9492   6404   1964   -140   -591       O  \nATOM   1913  N   TYR D  33      33.998  -1.516  -0.848  1.00 45.22           N  \nANISOU 1913  N   TYR D  33     3270   8489   5421   1286    -12   -322       N  \nATOM   1914  CA  TYR D  33      32.609  -1.314  -1.180  1.00 43.42           C  \nANISOU 1914  CA  TYR D  33     3223   8040   5233   1170     30   -242       C  \nATOM   1915  C   TYR D  33      32.280   0.118  -1.452  1.00 42.15           C  \nANISOU 1915  C   TYR D  33     3073   7928   5013    931     93   -230       C  \nATOM   1916  O   TYR D  33      33.073   0.988  -1.236  1.00 41.69           O  \nANISOU 1916  O   TYR D  33     2895   8050   4894    837    106   -273       O  \nATOM   1917  CB  TYR D  33      31.693  -1.847  -0.097  1.00 43.37           C  \nANISOU 1917  CB  TYR D  33     3368   7831   5280   1242    -20   -100       C  \nATOM   1918  CG  TYR D  33      31.695  -3.331   0.076  1.00 47.18           C  \nANISOU 1918  CG  TYR D  33     3894   8170   5860   1464    -68    -71       C  \nATOM   1919  CD1 TYR D  33      32.510  -3.933   0.994  1.00 52.08           C  \nANISOU 1919  CD1 TYR D  33     4454   8866   6466   1649   -146    -33       C  \nATOM   1920  CD2 TYR D  33      30.890  -4.132  -0.662  1.00 50.81           C  \nANISOU 1920  CD2 TYR D  33     4453   8415   6434   1495    -43    -84       C  \nATOM   1921  CE1 TYR D  33      32.517  -5.278   1.165  1.00 55.93           C  \nANISOU 1921  CE1 TYR D  33     4993   9195   7061   1860   -190     12       C  \nATOM   1922  CE2 TYR D  33      30.890  -5.481  -0.496  1.00 51.99           C  \nANISOU 1922  CE2 TYR D  33     4647   8400   6705   1690    -83    -61       C  \nATOM   1923  CZ  TYR D  33      31.711  -6.050   0.421  1.00 55.56           C  \nANISOU 1923  CZ  TYR D  33     5051   8907   7151   1874   -153     -2       C  \nATOM   1924  OH  TYR D  33      31.722  -7.399   0.609  1.00 60.45           O  \nANISOU 1924  OH  TYR D  33     5724   9333   7908   2079   -193     41       O  \nATOM   1925  N   ALA D  34      31.074   0.324  -1.951  1.00 41.31           N  \nANISOU 1925  N   ALA D  34     3109   7645   4941    838    128   -175       N  \nATOM   1926  CA  ALA D  34      30.495   1.628  -2.159  1.00 39.93           C  \nANISOU 1926  CA  ALA D  34     2984   7451   4735    632    178   -133       C  \nATOM   1927  C   ALA D  34      29.229   1.730  -1.315  1.00 38.76           C  \nANISOU 1927  C   ALA D  34     2983   7103   4638    607    152    -27       C  \nATOM   1928  O   ALA D  34      28.480   0.804  -1.197  1.00 38.67           O  \nANISOU 1928  O   ALA D  34     3064   6933   4694    702    129     13       O  \nATOM   1929  CB  ALA D  34      30.205   1.857  -3.562  1.00 38.61           C  \nANISOU 1929  CB  ALA D  34     2838   7283   4548    555    238   -165       C  \nATOM   1930  N   TRP D  35      29.056   2.874  -0.699  1.00 39.10           N  \nANISOU 1930  N   TRP D  35     3035   7163   4655    474    162      4       N  \nATOM   1931  CA  TRP D  35      27.988   3.112   0.244  1.00 38.58           C  \nANISOU 1931  CA  TRP D  35     3081   6955   4621    446    146     85       C  \nATOM   1932  C   TRP D  35      26.929   4.035  -0.346  1.00 37.28           C  \nANISOU 1932  C   TRP D  35     3003   6665   4493    301    188    116       C  \nATOM   1933  O   TRP D  35      27.161   5.185  -0.567  1.00 38.43           O  \nANISOU 1933  O   TRP D  35     3118   6861   4622    168    218     98       O  \nATOM   1934  CB  TRP D  35      28.630   3.596   1.529  1.00 38.91           C  \nANISOU 1934  CB  TRP D  35     3054   7125   4603    442    111     72       C  \nATOM   1935  CG  TRP D  35      29.706   2.626   1.896  1.00 41.23           C  \nANISOU 1935  CG  TRP D  35     3252   7554   4857    610     57     45       C  \nATOM   1936  CD1 TRP D  35      30.975   2.627   1.462  1.00 42.33           C  \nANISOU 1936  CD1 TRP D  35     3239   7880   4961    632     51    -48       C  \nATOM   1937  CD2 TRP D  35      29.553   1.445   2.666  1.00 41.56           C  \nANISOU 1937  CD2 TRP D  35     3347   7539   4904    789      6    121       C  \nATOM   1938  NE1 TRP D  35      31.651   1.558   1.951  1.00 43.68           N  \nANISOU 1938  NE1 TRP D  35     3355   8124   5116    828    -13    -49       N  \nATOM   1939  CE2 TRP D  35      30.799   0.808   2.697  1.00 43.11           C  \nANISOU 1939  CE2 TRP D  35     3417   7892   5068    931    -44     67       C  \nATOM   1940  CE3 TRP D  35      28.495   0.883   3.367  1.00 40.43           C  \nANISOU 1940  CE3 TRP D  35     3340   7227   4792    842      4    239       C  \nATOM   1941  CZ2 TRP D  35      31.007  -0.352   3.379  1.00 43.92           C  \nANISOU 1941  CZ2 TRP D  35     3541   7972   5173   1135   -106    137       C  \nATOM   1942  CZ3 TRP D  35      28.700  -0.267   4.032  1.00 42.91           C  \nANISOU 1942  CZ3 TRP D  35     3680   7517   5106   1024    -41    319       C  \nATOM   1943  CH2 TRP D  35      29.953  -0.879   4.042  1.00 43.08           C  \nANISOU 1943  CH2 TRP D  35     3588   7682   5098   1177   -102    275       C  \nATOM   1944  N   ASN D  36      25.754   3.475  -0.573  1.00 36.20           N  \nANISOU 1944  N   ASN D  36     2972   6358   4423    336    186    162       N  \nATOM   1945  CA  ASN D  36      24.792   4.024  -1.523  1.00 34.87           C  \nANISOU 1945  CA  ASN D  36     2871   6087   4290    246    209    177       C  \nATOM   1946  C   ASN D  36      23.526   4.565  -0.838  1.00 34.33           C  \nANISOU 1946  C   ASN D  36     2887   5872   4281    190    210    232       C  \nATOM   1947  O   ASN D  36      23.130   4.087   0.225  1.00 33.20           O  \nANISOU 1947  O   ASN D  36     2774   5676   4163    243    201    265       O  \nATOM   1948  CB  ASN D  36      24.316   2.911  -2.447  1.00 35.21           C  \nANISOU 1948  CB  ASN D  36     2948   6052   4374    333    197    152       C  \nATOM   1949  CG  ASN D  36      25.371   2.437  -3.428  1.00 34.85           C  \nANISOU 1949  CG  ASN D  36     2822   6148   4270    387    206     73       C  \nATOM   1950  OD1 ASN D  36      25.242   2.665  -4.641  1.00 34.20           O  \nANISOU 1950  OD1 ASN D  36     2742   6102   4147    347    223     42       O  \nATOM   1951  ND2 ASN D  36      26.394   1.738  -2.927  1.00 36.80           N  \nANISOU 1951  ND2 ASN D  36     2993   6484   4503    491    191     39       N  \nATOM   1952  N   TRP D  37      22.869   5.522  -1.489  1.00 33.19           N  \nANISOU 1952  N   TRP D  37     2782   5668   4159     92    223    246       N  \nATOM   1953  CA  TRP D  37      21.490   5.874  -1.190  1.00 32.80           C  \nANISOU 1953  CA  TRP D  37     2805   5469   4187     62    219    280       C  \nATOM   1954  C   TRP D  37      20.595   5.658  -2.395  1.00 32.64           C  \nANISOU 1954  C   TRP D  37     2828   5369   4204     70    200    282       C  \nATOM   1955  O   TRP D  37      20.932   6.079  -3.505  1.00 33.33           O  \nANISOU 1955  O   TRP D  37     2908   5517   4237     37    200    282       O  \nATOM   1956  CB  TRP D  37      21.394   7.351  -0.729  1.00 33.67           C  \nANISOU 1956  CB  TRP D  37     2919   5564   4307    -46    235    286       C  \nATOM   1957  CG  TRP D  37      22.020   7.598   0.613  1.00 35.41           C  \nANISOU 1957  CG  TRP D  37     3097   5862   4495    -54    242    256       C  \nATOM   1958  CD1 TRP D  37      23.278   8.057   0.852  1.00 39.53           C  \nANISOU 1958  CD1 TRP D  37     3540   6521   4958    -97    246    211       C  \nATOM   1959  CD2 TRP D  37      21.440   7.335   1.891  1.00 35.87           C  \nANISOU 1959  CD2 TRP D  37     3176   5891   4561    -14    244    259       C  \nATOM   1960  NE1 TRP D  37      23.496   8.144   2.189  1.00 39.70           N  \nANISOU 1960  NE1 TRP D  37     3533   6603   4946    -81    235    175       N  \nATOM   1961  CE2 TRP D  37      22.398   7.683   2.855  1.00 38.30           C  \nANISOU 1961  CE2 TRP D  37     3423   6334   4796    -25    238    212       C  \nATOM   1962  CE3 TRP D  37      20.198   6.841   2.316  1.00 38.35           C  \nANISOU 1962  CE3 TRP D  37     3547   6093   4932     25    257    294       C  \nATOM   1963  CZ2 TRP D  37      22.153   7.578   4.231  1.00 39.63           C  \nANISOU 1963  CZ2 TRP D  37     3596   6542   4920     11    239    204       C  \nATOM   1964  CZ3 TRP D  37      19.941   6.756   3.696  1.00 37.97           C  \nANISOU 1964  CZ3 TRP D  37     3503   6074   4850     49    277    298       C  \nATOM   1965  CH2 TRP D  37      20.917   7.118   4.628  1.00 36.43           C  \nANISOU 1965  CH2 TRP D  37     3257   6027   4555     49    265    256       C  \nATOM   1966  N   ILE D  38      19.464   4.972  -2.179  1.00 31.79           N  \nANISOU 1966  N   ILE D  38     2757   5140   4182    112    187    284       N  \nATOM   1967  CA  ILE D  38      18.378   4.880  -3.157  1.00 30.66           C  \nANISOU 1967  CA  ILE D  38     2641   4917   4090    114    154    267       C  \nATOM   1968  C   ILE D  38      17.060   5.318  -2.512  1.00 30.53           C  \nANISOU 1968  C   ILE D  38     2649   4778   4172     84    155    286       C  \nATOM   1969  O   ILE D  38      16.986   5.535  -1.306  1.00 31.12           O  \nANISOU 1969  O   ILE D  38     2725   4832   4268     69    191    308       O  \nATOM   1970  CB  ILE D  38      18.228   3.476  -3.779  1.00 31.75           C  \nANISOU 1970  CB  ILE D  38     2770   5029   4263    192    132    206       C  \nATOM   1971  CG1 ILE D  38      17.766   2.459  -2.732  1.00 31.30           C  \nANISOU 1971  CG1 ILE D  38     2722   4859   4310    234    154    218       C  \nATOM   1972  CG2 ILE D  38      19.568   3.043  -4.408  1.00 29.92           C  \nANISOU 1972  CG2 ILE D  38     2500   4933   3934    237    135    166       C  \nATOM   1973  CD1 ILE D  38      17.415   1.085  -3.278  1.00 34.11           C  \nANISOU 1973  CD1 ILE D  38     3074   5130   4756    296    135    151       C  \nATOM   1974  N   ARG D  39      16.035   5.512  -3.331  1.00 29.42           N  \nANISOU 1974  N   ARG D  39     2519   4579   4080     81    114    269       N  \nATOM   1975  CA  ARG D  39      14.742   5.795  -2.806  1.00 30.10           C  \nANISOU 1975  CA  ARG D  39     2603   4558   4272     67    114    267       C  \nATOM   1976  C   ARG D  39      13.641   5.229  -3.634  1.00 30.06           C  \nANISOU 1976  C   ARG D  39     2580   4498   4344     95     62    213       C  \nATOM   1977  O   ARG D  39      13.767   5.016  -4.840  1.00 31.21           O  \nANISOU 1977  O   ARG D  39     2724   4698   4436    121      7    180       O  \nATOM   1978  CB  ARG D  39      14.538   7.314  -2.568  1.00 30.31           C  \nANISOU 1978  CB  ARG D  39     2647   4567   4302     19    114    302       C  \nATOM   1979  CG  ARG D  39      14.640   8.164  -3.780  1.00 30.22           C  \nANISOU 1979  CG  ARG D  39     2659   4580   4239      9     64    336       C  \nATOM   1980  CD  ARG D  39      14.483   9.651  -3.469  1.00 34.10           C  \nANISOU 1980  CD  ARG D  39     3175   5011   4767    -35     69    378       C  \nATOM   1981  NE  ARG D  39      14.708  10.461  -4.670  1.00 31.29           N  \nANISOU 1981  NE  ARG D  39     2860   4673   4355    -46     30    450       N  \nATOM   1982  CZ  ARG D  39      14.459  11.761  -4.773  1.00 34.48           C  \nANISOU 1982  CZ  ARG D  39     3302   4993   4806    -72     18    509       C  \nATOM   1983  NH1 ARG D  39      13.990  12.479  -3.759  1.00 34.36           N  \nANISOU 1983  NH1 ARG D  39     3279   4872   4903    -89     38    477       N  \nATOM   1984  NH2 ARG D  39      14.644  12.342  -5.921  1.00 35.77           N  \nANISOU 1984  NH2 ARG D  39     3510   5174   4903    -74    -13    602       N  \nATOM   1985  N   GLN D  40      12.524   4.989  -2.958  1.00 31.21           N  \nANISOU 1985  N   GLN D  40     2698   4550   4610     85     82    192       N  \nATOM   1986  CA  GLN D  40      11.323   4.491  -3.602  1.00 32.07           C  \nANISOU 1986  CA  GLN D  40     2761   4602   4821     99     33    120       C  \nATOM   1987  C   GLN D  40      10.208   5.483  -3.412  1.00 32.03           C  \nANISOU 1987  C   GLN D  40     2726   4555   4888     87     13    117       C  \nATOM   1988  O   GLN D  40       9.825   5.762  -2.281  1.00 30.74           O  \nANISOU 1988  O   GLN D  40     2549   4347   4783     61     80    134       O  \nATOM   1989  CB  GLN D  40      10.918   3.134  -2.981  1.00 32.39           C  \nANISOU 1989  CB  GLN D  40     2773   4554   4979     90     87     86       C  \nATOM   1990  CG  GLN D  40       9.624   2.520  -3.582  1.00 36.47           C  \nANISOU 1990  CG  GLN D  40     3217   5001   5636     83     43    -16       C  \nATOM   1991  CD  GLN D  40       9.406   1.066  -3.162  1.00 40.17           C  \nANISOU 1991  CD  GLN D  40     3666   5360   6237     61    102    -47       C  \nATOM   1992  OE1 GLN D  40       9.333   0.791  -1.980  1.00 46.87           O  \nANISOU 1992  OE1 GLN D  40     4526   6147   7133     30    200     27       O  \nATOM   1993  NE2 GLN D  40       9.291   0.147  -4.117  1.00 39.17           N  \nANISOU 1993  NE2 GLN D  40     3510   5205   6169     78     45   -158       N  \nATOM   1994  N   PHE D  41       9.611   5.942  -4.502  1.00 33.44           N  \nANISOU 1994  N   PHE D  41     2887   4755   5064    120    -81     86       N  \nATOM   1995  CA  PHE D  41       8.542   6.910  -4.426  1.00 34.60           C  \nANISOU 1995  CA  PHE D  41     2998   4860   5288    134   -118     81       C  \nATOM   1996  C   PHE D  41       7.190   6.207  -4.142  1.00 35.66           C  \nANISOU 1996  C   PHE D  41     3030   4936   5583    128   -115    -15       C  \nATOM   1997  O   PHE D  41       7.041   4.993  -4.309  1.00 36.11           O  \nANISOU 1997  O   PHE D  41     3050   4977   5692    110   -105    -80       O  \nATOM   1998  CB  PHE D  41       8.431   7.700  -5.758  1.00 36.01           C  \nANISOU 1998  CB  PHE D  41     3200   5094   5388    190   -234    108       C  \nATOM   1999  CG  PHE D  41       9.690   8.421  -6.154  1.00 33.62           C  \nANISOU 1999  CG  PHE D  41     2989   4846   4937    179   -225    214       C  \nATOM   2000  CD1 PHE D  41      10.059   9.610  -5.536  1.00 35.93           C  \nANISOU 2000  CD1 PHE D  41     3328   5086   5237    151   -183    292       C  \nATOM   2001  CD2 PHE D  41      10.498   7.920  -7.137  1.00 34.51           C  \nANISOU 2001  CD2 PHE D  41     3131   5064   4914    191   -250    220       C  \nATOM   2002  CE1 PHE D  41      11.253  10.268  -5.901  1.00 36.68           C  \nANISOU 2002  CE1 PHE D  41     3495   5225   5216    117   -162    385       C  \nATOM   2003  CE2 PHE D  41      11.681   8.568  -7.505  1.00 35.54           C  \nANISOU 2003  CE2 PHE D  41     3331   5260   4912    165   -223    318       C  \nATOM   2004  CZ  PHE D  41      12.036   9.764  -6.914  1.00 34.53           C  \nANISOU 2004  CZ  PHE D  41     3245   5069   4803    122   -179    407       C  \nATOM   2005  N   PRO D  42       6.195   6.964  -3.682  1.00 38.74           N  \nANISOU 2005  N   PRO D  42     3364   5285   6070    138   -114    -35       N  \nATOM   2006  CA  PRO D  42       4.827   6.421  -3.627  1.00 41.25           C  \nANISOU 2006  CA  PRO D  42     3557   5570   6546    132   -124   -141       C  \nATOM   2007  C   PRO D  42       4.441   6.030  -5.049  1.00 42.65           C  \nANISOU 2007  C   PRO D  42     3692   5800   6712    180   -262   -217       C  \nATOM   2008  O   PRO D  42       4.712   6.789  -5.994  1.00 45.08           O  \nANISOU 2008  O   PRO D  42     4049   6170   6909    246   -366   -173       O  \nATOM   2009  CB  PRO D  42       3.959   7.634  -3.175  1.00 42.38           C  \nANISOU 2009  CB  PRO D  42     3648   5688   6766    170   -133   -151       C  \nATOM   2010  CG  PRO D  42       4.886   8.657  -2.776  1.00 42.02           C  \nANISOU 2010  CG  PRO D  42     3707   5634   6623    177   -104    -56       C  \nATOM   2011  CD  PRO D  42       6.202   8.416  -3.476  1.00 39.12           C  \nANISOU 2011  CD  PRO D  42     3446   5315   6101    169   -131     18       C  \nATOM   2012  N   GLY D  43       3.859   4.871  -5.240  1.00 43.67           N  \nANISOU 2012  N   GLY D  43     3735   5912   6946    144   -264   -327       N  \nATOM   2013  CA  GLY D  43       3.672   4.362  -6.623  1.00 44.37           C  \nANISOU 2013  CA  GLY D  43     3785   6072   6998    187   -399   -428       C  \nATOM   2014  C   GLY D  43       4.734   3.331  -6.967  1.00 43.60           C  \nANISOU 2014  C   GLY D  43     3758   5982   6824    163   -373   -439       C  \nATOM   2015  O   GLY D  43       4.673   2.695  -7.999  1.00 43.19           O  \nANISOU 2015  O   GLY D  43     3673   5987   6747    188   -463   -551       O  \nATOM   2016  N   ASN D  44       5.737   3.209  -6.098  1.00 41.94           N  \nANISOU 2016  N   ASN D  44     3639   5726   6570    127   -256   -332       N  \nATOM   2017  CA  ASN D  44       6.726   2.147  -6.164  1.00 42.03           C  \nANISOU 2017  CA  ASN D  44     3704   5719   6545    113   -212   -340       C  \nATOM   2018  C   ASN D  44       7.946   2.339  -7.061  1.00 40.97           C  \nANISOU 2018  C   ASN D  44     3652   5699   6213    167   -262   -309       C  \nATOM   2019  O   ASN D  44       8.824   1.498  -7.050  1.00 41.03           O  \nANISOU 2019  O   ASN D  44     3696   5696   6196    168   -221   -321       O  \nATOM   2020  CB  ASN D  44       6.072   0.795  -6.461  1.00 43.50           C  \nANISOU 2020  CB  ASN D  44     3805   5828   6894     78   -223   -491       C  \nATOM   2021  CG  ASN D  44       4.958   0.465  -5.465  1.00 46.16           C  \nANISOU 2021  CG  ASN D  44     4054   6045   7439     -1   -136   -507       C  \nATOM   2022  OD1 ASN D  44       5.042   0.816  -4.289  1.00 46.10           O  \nANISOU 2022  OD1 ASN D  44     4078   5994   7440    -33    -24   -389       O  \nATOM   2023  ND2 ASN D  44       3.940  -0.225  -5.928  1.00 49.15           N  \nANISOU 2023  ND2 ASN D  44     4314   6382   7979    -38   -180   -663       N  \nATOM   2024  N   LYS D  45       8.041   3.432  -7.804  1.00 40.20           N  \nANISOU 2024  N   LYS D  45     3584   5708   5980    214   -340   -259       N  \nATOM   2025  CA  LYS D  45       9.206   3.602  -8.661  1.00 39.74           C  \nANISOU 2025  CA  LYS D  45     3597   5774   5727    250   -365   -221       C  \nATOM   2026  C   LYS D  45      10.458   3.783  -7.798  1.00 37.45           C  \nANISOU 2026  C   LYS D  45     3379   5469   5381    218   -256   -108       C  \nATOM   2027  O   LYS D  45      10.392   4.375  -6.725  1.00 35.07           O  \nANISOU 2027  O   LYS D  45     3093   5097   5132    182   -192    -27       O  \nATOM   2028  CB  LYS D  45       9.058   4.777  -9.617  1.00 41.33           C  \nANISOU 2028  CB  LYS D  45     3828   6085   5789    300   -458   -154       C  \nATOM   2029  CG  LYS D  45       8.143   4.482 -10.797  1.00 49.15           C  \nANISOU 2029  CG  LYS D  45     4752   7164   6758    360   -594   -278       C  \nATOM   2030  CD  LYS D  45       8.201   5.632 -11.842  1.00 56.31           C  \nANISOU 2030  CD  LYS D  45     5713   8204   7476    428   -687   -171       C  \nATOM   2031  CE  LYS D  45       7.459   5.247 -13.125  1.00 61.83           C  \nANISOU 2031  CE  LYS D  45     6348   9046   8098    506   -836   -301       C  \nATOM   2032  NZ  LYS D  45       8.032   3.933 -13.613  1.00 65.74           N  \nANISOU 2032  NZ  LYS D  45     6817   9611   8548    496   -824   -465       N  \nATOM   2033  N   LEU D  46      11.586   3.268  -8.275  1.00 36.50           N  \nANISOU 2033  N   LEU D  46     3288   5429   5149    238   -240   -123       N  \nATOM   2034  CA  LEU D  46      12.830   3.295  -7.536  1.00 35.82           C  \nANISOU 2034  CA  LEU D  46     3246   5353   5010    219   -151    -43       C  \nATOM   2035  C   LEU D  46      13.886   4.157  -8.259  1.00 35.47           C  \nANISOU 2035  C   LEU D  46     3243   5454   4777    221   -153     30       C  \nATOM   2036  O   LEU D  46      13.963   4.144  -9.474  1.00 35.53           O  \nANISOU 2036  O   LEU D  46     3251   5577   4671    255   -209     -8       O  \nATOM   2037  CB  LEU D  46      13.377   1.892  -7.398  1.00 36.79           C  \nANISOU 2037  CB  LEU D  46     3352   5444   5181    246   -119   -124       C  \nATOM   2038  CG  LEU D  46      12.644   0.928  -6.452  1.00 37.86           C  \nANISOU 2038  CG  LEU D  46     3462   5411   5512    227    -77   -155       C  \nATOM   2039  CD1 LEU D  46      12.960  -0.475  -6.853  1.00 38.18           C  \nANISOU 2039  CD1 LEU D  46     3484   5406   5616    268    -82   -268       C  \nATOM   2040  CD2 LEU D  46      13.131   1.232  -5.055  1.00 36.94           C  \nANISOU 2040  CD2 LEU D  46     3380   5254   5399    201     10    -30       C  \nATOM   2041  N   GLU D  47      14.736   4.817  -7.489  1.00 34.06           N  \nANISOU 2041  N   GLU D  47     3093   5281   4564    180    -84    126       N  \nATOM   2042  CA  GLU D  47      15.789   5.655  -8.016  1.00 34.43           C  \nANISOU 2042  CA  GLU D  47     3168   5448   4463    154    -61    203       C  \nATOM   2043  C   GLU D  47      17.064   5.554  -7.237  1.00 33.47           C  \nANISOU 2043  C   GLU D  47     3036   5367   4314    127     15    225       C  \nATOM   2044  O   GLU D  47      17.077   5.670  -6.015  1.00 33.07           O  \nANISOU 2044  O   GLU D  47     2983   5240   4341    103     52    249       O  \nATOM   2045  CB  GLU D  47      15.341   7.103  -8.006  1.00 34.54           C  \nANISOU 2045  CB  GLU D  47     3224   5419   4479    111    -75    310       C  \nATOM   2046  CG  GLU D  47      16.370   8.065  -8.605  1.00 40.16           C  \nANISOU 2046  CG  GLU D  47     3970   6230   5056     63    -39    411       C  \nATOM   2047  CD  GLU D  47      15.928   9.522  -8.542  1.00 43.67           C  \nANISOU 2047  CD  GLU D  47     4467   6585   5539     21    -49    528       C  \nATOM   2048  OE1 GLU D  47      15.679  10.015  -7.436  1.00 44.13           O  \nANISOU 2048  OE1 GLU D  47     4524   6525   5717    -12    -24    531       O  \nATOM   2049  OE2 GLU D  47      15.870  10.191  -9.599  1.00 48.42           O  \nANISOU 2049  OE2 GLU D  47     5113   7237   6046     26    -80    620       O  \nATOM   2050  N   TRP D  48      18.168   5.429  -7.964  1.00 33.79           N  \nANISOU 2050  N   TRP D  48     3060   5552   4227    133     39    215       N  \nATOM   2051  CA  TRP D  48      19.465   5.484  -7.351  1.00 32.60           C  \nANISOU 2051  CA  TRP D  48     2876   5471   4038    108    104    231       C  \nATOM   2052  C   TRP D  48      19.887   6.930  -7.246  1.00 32.52           C  \nANISOU 2052  C   TRP D  48     2885   5482   3987     10    142    333       C  \nATOM   2053  O   TRP D  48      19.871   7.627  -8.246  1.00 33.26           O  \nANISOU 2053  O   TRP D  48     3008   5632   3998    -21    139    394       O  \nATOM   2054  CB  TRP D  48      20.446   4.719  -8.217  1.00 33.53           C  \nANISOU 2054  CB  TRP D  48     2947   5744   4048    158    121    157       C  \nATOM   2055  CG  TRP D  48      21.877   4.701  -7.699  1.00 33.94           C  \nANISOU 2055  CG  TRP D  48     2936   5901   4056    145    182    153       C  \nATOM   2056  CD1 TRP D  48      22.379   3.950  -6.677  1.00 31.25           C  \nANISOU 2056  CD1 TRP D  48     2557   5535   3781    199    190    116       C  \nATOM   2057  CD2 TRP D  48      22.971   5.477  -8.190  1.00 33.49           C  \nANISOU 2057  CD2 TRP D  48     2838   6001   3884     75    242    191       C  \nATOM   2058  NE1 TRP D  48      23.703   4.183  -6.530  1.00 33.87           N  \nANISOU 2058  NE1 TRP D  48     2816   6010   4043    180    235    109       N  \nATOM   2059  CE2 TRP D  48      24.106   5.111  -7.439  1.00 35.94           C  \nANISOU 2059  CE2 TRP D  48     3067   6385   4201     94    276    148       C  \nATOM   2060  CE3 TRP D  48      23.115   6.397  -9.214  1.00 34.89           C  \nANISOU 2060  CE3 TRP D  48     3037   6269   3951      1    274    264       C  \nATOM   2061  CZ2 TRP D  48      25.363   5.681  -7.647  1.00 37.37           C  \nANISOU 2061  CZ2 TRP D  48     3169   6730   4299     26    343    154       C  \nATOM   2062  CZ3 TRP D  48      24.367   6.960  -9.432  1.00 36.75           C  \nANISOU 2062  CZ3 TRP D  48     3208   6653   4100    -75    356    292       C  \nATOM   2063  CH2 TRP D  48      25.472   6.604  -8.634  1.00 34.54           C  \nANISOU 2063  CH2 TRP D  48     2828   6446   3847    -69    391    225       C  \nATOM   2064  N   MET D  49      20.316   7.357  -6.067  1.00 30.93           N  \nANISOU 2064  N   MET D  49     2666   5244   3840    -36    177    351       N  \nATOM   2065  CA  MET D  49      20.652   8.747  -5.838  1.00 31.62           C  \nANISOU 2065  CA  MET D  49     2767   5315   3931   -141    212    423       C  \nATOM   2066  C   MET D  49      22.154   8.933  -5.917  1.00 32.35           C  \nANISOU 2066  C   MET D  49     2792   5555   3943   -198    274    416       C  \nATOM   2067  O   MET D  49      22.630   9.925  -6.478  1.00 33.31           O  \nANISOU 2067  O   MET D  49     2919   5710   4026   -293    317    484       O  \nATOM   2068  CB  MET D  49      20.171   9.180  -4.473  1.00 31.82           C  \nANISOU 2068  CB  MET D  49     2801   5222   4066   -164    211    413       C  \nATOM   2069  CG  MET D  49      18.700   8.953  -4.279  1.00 32.25           C  \nANISOU 2069  CG  MET D  49     2897   5145   4210   -111    165    407       C  \nATOM   2070  SD  MET D  49      18.163   9.451  -2.675  1.00 33.89           S  \nANISOU 2070  SD  MET D  49     3103   5251   4521   -135    183    381       S  \nATOM   2071  CE  MET D  49      18.149  11.216  -2.846  1.00 33.36           C  \nANISOU 2071  CE  MET D  49     3070   5104   4501   -228    192    430       C  \nATOM   2072  N   GLY D  50      22.905   7.961  -5.420  1.00 31.83           N  \nANISOU 2072  N   GLY D  50     2658   5578   3858   -138    280    339       N  \nATOM   2073  CA  GLY D  50      24.366   8.059  -5.446  1.00 33.71           C  \nANISOU 2073  CA  GLY D  50     2801   5979   4026   -180    333    309       C  \nATOM   2074  C   GLY D  50      25.080   7.230  -4.405  1.00 33.92           C  \nANISOU 2074  C   GLY D  50     2751   6071   4065   -106    319    232       C  \nATOM   2075  O   GLY D  50      24.442   6.524  -3.615  1.00 35.03           O  \nANISOU 2075  O   GLY D  50     2926   6120   4262    -23    277    220       O  \nATOM   2076  N   TYR D  51      26.403   7.369  -4.400  1.00 35.02           N  \nANISOU 2076  N   TYR D  51     2782   6372   4150   -141    358    190       N  \nATOM   2077  CA  TYR D  51      27.243   6.721  -3.445  1.00 36.62           C  \nANISOU 2077  CA  TYR D  51     2894   6669   4350    -66    335    121       C  \nATOM   2078  C   TYR D  51      28.473   7.522  -3.053  1.00 37.37           C  \nANISOU 2078  C   TYR D  51     2865   6909   4422   -167    370     77       C  \nATOM   2079  O   TYR D  51      28.879   8.461  -3.755  1.00 39.79           O  \nANISOU 2079  O   TYR D  51     3143   7260   4713   -304    436     99       O  \nATOM   2080  CB  TYR D  51      27.575   5.268  -3.895  1.00 36.15           C  \nANISOU 2080  CB  TYR D  51     2799   6674   4261     92    314     64       C  \nATOM   2081  CG  TYR D  51      28.648   4.959  -4.941  1.00 38.41           C  \nANISOU 2081  CG  TYR D  51     2980   7146   4466    110    360     -3       C  \nATOM   2082  CD1 TYR D  51      28.438   3.929  -5.852  1.00 38.18           C  \nANISOU 2082  CD1 TYR D  51     2968   7121   4416    221    352    -53       C  \nATOM   2083  CD2 TYR D  51      29.897   5.564  -4.938  1.00 40.87           C  \nANISOU 2083  CD2 TYR D  51     3158   7638   4731     30    411    -41       C  \nATOM   2084  CE1 TYR D  51      29.425   3.537  -6.753  1.00 44.47           C  \nANISOU 2084  CE1 TYR D  51     3657   8105   5132    261    398   -140       C  \nATOM   2085  CE2 TYR D  51      30.910   5.180  -5.870  1.00 44.40           C  \nANISOU 2085  CE2 TYR D  51     3487   8281   5101     58    466   -117       C  \nATOM   2086  CZ  TYR D  51      30.663   4.148  -6.751  1.00 44.08           C  \nANISOU 2086  CZ  TYR D  51     3470   8247   5027    183    459   -167       C  \nATOM   2087  OH  TYR D  51      31.590   3.711  -7.677  1.00 45.16           O  \nANISOU 2087  OH  TYR D  51     3491   8585   5082    227    516   -263       O  \nATOM   2088  N   ILE D  52      29.036   7.135  -1.911  1.00 38.32           N  \nANISOU 2088  N   ILE D  52     2913   7104   4543    -99    325     19       N  \nATOM   2089  CA  ILE D  52      30.386   7.485  -1.534  1.00 38.36           C  \nANISOU 2089  CA  ILE D  52     2757   7298   4518   -147    337    -63       C  \nATOM   2090  C   ILE D  52      31.182   6.153  -1.396  1.00 39.99           C  \nANISOU 2090  C   ILE D  52     2869   7645   4679     37    293   -124       C  \nATOM   2091  O   ILE D  52      30.766   5.203  -0.679  1.00 39.62           O  \nANISOU 2091  O   ILE D  52     2878   7535   4640    191    226   -101       O  \nATOM   2092  CB  ILE D  52      30.446   8.334  -0.265  1.00 38.33           C  \nANISOU 2092  CB  ILE D  52     2728   7291   4545   -225    306   -101       C  \nATOM   2093  CG1 ILE D  52      31.896   8.806   0.004  1.00 40.87           C  \nANISOU 2093  CG1 ILE D  52     2856   7825   4848   -302    317   -214       C  \nATOM   2094  CG2 ILE D  52      29.887   7.543   0.982  1.00 38.61           C  \nANISOU 2094  CG2 ILE D  52     2822   7284   4563    -73    223    -89       C  \nATOM   2095  CD1 ILE D  52      31.990   9.958   0.986  1.00 37.67           C  \nANISOU 2095  CD1 ILE D  52     2414   7410   4489   -436    303   -282       C  \nATOM   2096  N   SER D  53      32.316   6.073  -2.088  1.00 40.65           N  \nANISOU 2096  N   SER D  53     2809   7912   4723     26    336   -196       N  \nATOM   2097  CA  SER D  53      33.091   4.840  -2.066  1.00 42.82           C  \nANISOU 2097  CA  SER D  53     2983   8314   4970    215    295   -266       C  \nATOM   2098  C   SER D  53      33.873   4.685  -0.742  1.00 43.84           C  \nANISOU 2098  C   SER D  53     2998   8570   5087    296    212   -323       C  \nATOM   2099  O   SER D  53      33.955   5.620   0.048  1.00 44.05           O  \nANISOU 2099  O   SER D  53     2997   8622   5116    180    199   -338       O  \nATOM   2100  CB  SER D  53      34.076   4.813  -3.240  1.00 44.94           C  \nANISOU 2100  CB  SER D  53     3114   8767   5193    184    376   -343       C  \nATOM   2101  OG  SER D  53      35.201   5.521  -2.890  1.00 47.66           O  \nANISOU 2101  OG  SER D  53     3279   9299   5527     83    400   -419       O  \nATOM   2102  N   TYR D  54      34.501   3.540  -0.561  1.00 45.00           N  \nANISOU 2102  N   TYR D  54     3068   8809   5220    498    155   -368       N  \nATOM   2103  CA  TYR D  54      35.347   3.290   0.576  1.00 46.21           C  \nANISOU 2103  CA  TYR D  54     3096   9117   5342    609     63   -420       C  \nATOM   2104  C   TYR D  54      36.507   4.282   0.575  1.00 47.67           C  \nANISOU 2104  C   TYR D  54     3071   9535   5506    461     94   -543       C  \nATOM   2105  O   TYR D  54      37.052   4.559   1.588  1.00 48.50           O  \nANISOU 2105  O   TYR D  54     3075   9770   5582    473     21   -599       O  \nATOM   2106  CB  TYR D  54      35.859   1.864   0.563  1.00 47.42           C  \nANISOU 2106  CB  TYR D  54     3200   9315   5501    867      0   -441       C  \nATOM   2107  CG  TYR D  54      36.929   1.622  -0.469  1.00 50.20           C  \nANISOU 2107  CG  TYR D  54     3372   9848   5851    894     53   -568       C  \nATOM   2108  CD1 TYR D  54      38.276   1.697  -0.137  1.00 51.49           C  \nANISOU 2108  CD1 TYR D  54     3300  10277   5987    941     17   -690       C  \nATOM   2109  CD2 TYR D  54      36.607   1.341  -1.772  1.00 47.81           C  \nANISOU 2109  CD2 TYR D  54     3119   9477   5566    872    139   -582       C  \nATOM   2110  CE1 TYR D  54      39.252   1.489  -1.069  1.00 52.68           C  \nANISOU 2110  CE1 TYR D  54     3268  10610   6136    962     78   -816       C  \nATOM   2111  CE2 TYR D  54      37.581   1.137  -2.702  1.00 51.68           C  \nANISOU 2111  CE2 TYR D  54     3439  10158   6036    896    200   -707       C  \nATOM   2112  CZ  TYR D  54      38.911   1.213  -2.343  1.00 53.08           C  \nANISOU 2112  CZ  TYR D  54     3379  10593   6195    939    176   -823       C  \nATOM   2113  OH  TYR D  54      39.870   1.020  -3.276  1.00 56.29           O  \nANISOU 2113  OH  TYR D  54     3600  11203   6582    959    251   -956       O  \nATOM   2114  N   SER D  55      36.875   4.800  -0.584  1.00 47.26           N  \nANISOU 2114  N   SER D  55     2949   9542   5465    316    206   -584       N  \nATOM   2115  CA  SER D  55      37.970   5.774  -0.748  1.00 48.68           C  \nANISOU 2115  CA  SER D  55     2921   9927   5647    138    268   -694       C  \nATOM   2116  C   SER D  55      37.598   7.237  -0.510  1.00 48.02           C  \nANISOU 2116  C   SER D  55     2883   9754   5607   -120    319   -670       C  \nATOM   2117  O   SER D  55      38.471   8.104  -0.609  1.00 48.39           O  \nANISOU 2117  O   SER D  55     2761   9941   5682   -294    377   -761       O  \nATOM   2118  CB  SER D  55      38.549   5.689  -2.173  1.00 49.59           C  \nANISOU 2118  CB  SER D  55     2941  10154   5746     86    392   -733       C  \nATOM   2119  OG  SER D  55      37.541   6.005  -3.151  1.00 47.25           O  \nANISOU 2119  OG  SER D  55     2833   9674   5445    -15    480   -615       O  \nATOM   2120  N   GLY D  56      36.315   7.515  -0.266  1.00 46.81           N  \nANISOU 2120  N   GLY D  56     2949   9360   5476   -151    306   -557       N  \nATOM   2121  CA  GLY D  56      35.810   8.876  -0.128  1.00 46.48           C  \nANISOU 2121  CA  GLY D  56     2977   9187   5496   -376    355   -528       C  \nATOM   2122  C   GLY D  56      35.318   9.503  -1.423  1.00 47.17           C  \nANISOU 2122  C   GLY D  56     3164   9145   5613   -529    478   -426       C  \nATOM   2123  O   GLY D  56      34.836  10.647  -1.404  1.00 48.00           O  \nANISOU 2123  O   GLY D  56     3344   9104   5788   -707    522   -381       O  \nATOM   2124  N   THR D  57      35.398   8.775  -2.542  1.00 47.20           N  \nANISOU 2124  N   THR D  57     3176   9196   5561   -452    530   -388       N  \nATOM   2125  CA  THR D  57      34.989   9.328  -3.839  1.00 47.62           C  \nANISOU 2125  CA  THR D  57     3319   9171   5603   -582    644   -283       C  \nATOM   2126  C   THR D  57      33.451   9.229  -3.997  1.00 44.30           C  \nANISOU 2126  C   THR D  57     3136   8500   5193   -529    606   -158       C  \nATOM   2127  O   THR D  57      32.853   8.211  -3.715  1.00 43.09           O  \nANISOU 2127  O   THR D  57     3059   8286   5024   -350    527   -155       O  \nATOM   2128  CB  THR D  57      35.678   8.616  -5.022  1.00 47.88           C  \nANISOU 2128  CB  THR D  57     3257   9389   5546   -520    719   -314       C  \nATOM   2129  OG1 THR D  57      37.081   8.819  -4.941  1.00 54.05           O  \nANISOU 2129  OG1 THR D  57     3799  10409   6328   -589    770   -432       O  \nATOM   2130  CG2 THR D  57      35.189   9.194  -6.349  1.00 51.28           C  \nANISOU 2130  CG2 THR D  57     3797   9759   5928   -643    831   -187       C  \nATOM   2131  N   THR D  58      32.829  10.281  -4.486  1.00 43.29           N  \nANISOU 2131  N   THR D  58     3118   8228   5102   -684    665    -52       N  \nATOM   2132  CA  THR D  58      31.383  10.255  -4.673  1.00 42.10           C  \nANISOU 2132  CA  THR D  58     3169   7859   4967   -634    624     55       C  \nATOM   2133  C   THR D  58      31.020  10.036  -6.119  1.00 42.28           C  \nANISOU 2133  C   THR D  58     3265   7892   4904   -620    679    141       C  \nATOM   2134  O   THR D  58      31.766  10.427  -7.008  1.00 42.49           O  \nANISOU 2134  O   THR D  58     3221   8051   4871   -721    779    165       O  \nATOM   2135  CB  THR D  58      30.720  11.546  -4.155  1.00 41.23           C  \nANISOU 2135  CB  THR D  58     3148   7551   4963   -776    625    113       C  \nATOM   2136  OG1 THR D  58      31.396  12.677  -4.680  1.00 42.99           O  \nANISOU 2136  OG1 THR D  58     3315   7797   5221   -977    727    150       O  \nATOM   2137  CG2 THR D  58      30.805  11.601  -2.641  1.00 40.07           C  \nANISOU 2137  CG2 THR D  58     2954   7392   4877   -751    549      9       C  \nATOM   2138  N   SER D  59      29.852   9.408  -6.331  1.00 40.92           N  \nANISOU 2138  N   SER D  59     3231   7594   4723   -497    613    183       N  \nATOM   2139  CA  SER D  59      29.177   9.413  -7.614  1.00 41.13           C  \nANISOU 2139  CA  SER D  59     3359   7595   4673   -490    638    272       C  \nATOM   2140  C   SER D  59      27.690   9.720  -7.403  1.00 39.82           C  \nANISOU 2140  C   SER D  59     3354   7198   4578   -468    568    353       C  \nATOM   2141  O   SER D  59      27.047   9.127  -6.538  1.00 37.77           O  \nANISOU 2141  O   SER D  59     3127   6835   4387   -371    490    307       O  \nATOM   2142  CB  SER D  59      29.325   8.052  -8.262  1.00 41.36           C  \nANISOU 2142  CB  SER D  59     3353   7749   4613   -329    619    185       C  \nATOM   2143  OG  SER D  59      28.856   8.070  -9.590  1.00 43.85           O  \nANISOU 2143  OG  SER D  59     3740   8101   4819   -327    648    245       O  \nATOM   2144  N   TYR D  60      27.175  10.669  -8.168  1.00 40.51           N  \nANISOU 2144  N   TYR D  60     3532   7210   4650   -558    600    480       N  \nATOM   2145  CA  TYR D  60      25.828  11.201  -7.968  1.00 40.09           C  \nANISOU 2145  CA  TYR D  60     3612   6940   4680   -550    537    559       C  \nATOM   2146  C   TYR D  60      24.999  10.996  -9.213  1.00 39.07           C  \nANISOU 2146  C   TYR D  60     3574   6815   4455   -485    510    635       C  \nATOM   2147  O   TYR D  60      25.519  11.123 -10.313  1.00 40.15           O  \nANISOU 2147  O   TYR D  60     3700   7094   4459   -520    573    692       O  \nATOM   2148  CB  TYR D  60      25.848  12.712  -7.650  1.00 40.71           C  \nANISOU 2148  CB  TYR D  60     3726   6881   4860   -707    579    651       C  \nATOM   2149  CG  TYR D  60      26.518  13.108  -6.357  1.00 42.12           C  \nANISOU 2149  CG  TYR D  60     3817   7041   5146   -784    591    556       C  \nATOM   2150  CD1 TYR D  60      26.459  12.294  -5.233  1.00 43.16           C  \nANISOU 2150  CD1 TYR D  60     3902   7190   5305   -685    527    433       C  \nATOM   2151  CD2 TYR D  60      27.217  14.320  -6.262  1.00 45.91           C  \nANISOU 2151  CD2 TYR D  60     4259   7484   5698   -962    667    590       C  \nATOM   2152  CE1 TYR D  60      27.106  12.667  -4.034  1.00 43.81           C  \nANISOU 2152  CE1 TYR D  60     3897   7292   5456   -746    526    336       C  \nATOM   2153  CE2 TYR D  60      27.835  14.710  -5.070  1.00 45.37           C  \nANISOU 2153  CE2 TYR D  60     4097   7414   5727  -1037    667    470       C  \nATOM   2154  CZ  TYR D  60      27.775  13.870  -3.969  1.00 44.86           C  \nANISOU 2154  CZ  TYR D  60     3983   7402   5658   -920    590    340       C  \nATOM   2155  OH  TYR D  60      28.365  14.238  -2.799  1.00 42.04           O  \nANISOU 2155  OH  TYR D  60     3530   7074   5366   -979    576    216       O  \nATOM   2156  N   ASN D  61      23.721  10.677  -9.041  1.00 37.18           N  \nANISOU 2156  N   ASN D  61     3415   6440   4272   -392    419    630       N  \nATOM   2157  CA  ASN D  61      22.840  10.572 -10.185  1.00 38.24           C  \nANISOU 2157  CA  ASN D  61     3626   6581   4319   -328    372    690       C  \nATOM   2158  C   ASN D  61      22.795  11.959 -10.841  1.00 39.86           C  \nANISOU 2158  C   ASN D  61     3906   6740   4496   -431    414    869       C  \nATOM   2159  O   ASN D  61      22.525  12.935 -10.159  1.00 39.35           O  \nANISOU 2159  O   ASN D  61     3881   6503   4567   -502    415    930       O  \nATOM   2160  CB  ASN D  61      21.438  10.113  -9.782  1.00 36.95           C  \nANISOU 2160  CB  ASN D  61     3514   6269   4255   -228    267    644       C  \nATOM   2161  CG  ASN D  61      20.551   9.817 -10.969  1.00 39.52           C  \nANISOU 2161  CG  ASN D  61     3892   6637   4486   -145    198    663       C  \nATOM   2162  OD1 ASN D  61      20.623  10.494 -12.004  1.00 37.83           O  \nANISOU 2162  OD1 ASN D  61     3726   6497   4150   -173    214    781       O  \nATOM   2163  ND2 ASN D  61      19.704   8.797 -10.838  1.00 36.55           N  \nANISOU 2163  ND2 ASN D  61     3505   6221   4161    -44    121    549       N  \nATOM   2164  N   PRO D  62      22.960  12.047 -12.133  1.00 42.38           N  \nANISOU 2164  N   PRO D  62     4255   7199   4647   -429    443    956       N  \nATOM   2165  CA  PRO D  62      22.932  13.336 -12.802  1.00 45.74           C  \nANISOU 2165  CA  PRO D  62     4766   7575   5037   -521    489   1162       C  \nATOM   2166  C   PRO D  62      21.608  14.036 -12.595  1.00 46.13           C  \nANISOU 2166  C   PRO D  62     4921   7399   5205   -476    392   1249       C  \nATOM   2167  O   PRO D  62      21.577  15.224 -12.611  1.00 47.82           O  \nANISOU 2167  O   PRO D  62     5203   7477   5490   -560    425   1401       O  \nATOM   2168  CB  PRO D  62      23.120  12.963 -14.250  1.00 46.80           C  \nANISOU 2168  CB  PRO D  62     4915   7940   4927   -475    512   1215       C  \nATOM   2169  CG  PRO D  62      23.879  11.768 -14.206  1.00 46.38           C  \nANISOU 2169  CG  PRO D  62     4746   8071   4806   -429    540   1031       C  \nATOM   2170  CD  PRO D  62      23.482  11.007 -13.010  1.00 43.43           C  \nANISOU 2170  CD  PRO D  62     4328   7568   4603   -359    463    867       C  \nATOM   2171  N   SER D  63      20.541  13.302 -12.374  1.00 45.07           N  \nANISOU 2171  N   SER D  63     4793   7218   5112   -347    278   1146       N  \nATOM   2172  CA  SER D  63      19.246  13.903 -12.106  1.00 47.17           C  \nANISOU 2172  CA  SER D  63     5133   7284   5506   -292    183   1200       C  \nATOM   2173  C   SER D  63      19.206  14.723 -10.832  1.00 47.69           C  \nANISOU 2173  C   SER D  63     5199   7134   5787   -368    207   1191       C  \nATOM   2174  O   SER D  63      18.339  15.518 -10.651  1.00 47.92           O  \nANISOU 2174  O   SER D  63     5289   6987   5931   -345    155   1257       O  \nATOM   2175  CB  SER D  63      18.170  12.855 -12.062  1.00 44.85           C  \nANISOU 2175  CB  SER D  63     4813   7001   5226   -156     70   1062       C  \nATOM   2176  OG  SER D  63      18.336  12.034 -10.960  1.00 46.75           O  \nANISOU 2176  OG  SER D  63     4978   7212   5572   -154     84    902       O  \nATOM   2177  N   LEU D  64      20.125  14.466  -9.926  1.00 47.42           N  \nANISOU 2177  N   LEU D  64     5086   7128   5804   -445    277   1087       N  \nATOM   2178  CA  LEU D  64      20.228  15.196  -8.685  1.00 47.87           C  \nANISOU 2178  CA  LEU D  64     5126   7020   6039   -522    302   1045       C  \nATOM   2179  C   LEU D  64      21.447  16.103  -8.501  1.00 51.31           C  \nANISOU 2179  C   LEU D  64     5535   7447   6511   -687    410   1092       C  \nATOM   2180  O   LEU D  64      21.678  16.562  -7.408  1.00 50.44           O  \nANISOU 2180  O   LEU D  64     5389   7239   6538   -754    428   1010       O  \nATOM   2181  CB  LEU D  64      20.222  14.206  -7.537  1.00 45.43           C  \nANISOU 2181  CB  LEU D  64     4738   6746   5777   -473    282    867       C  \nATOM   2182  CG  LEU D  64      19.166  13.128  -7.485  1.00 44.80           C  \nANISOU 2182  CG  LEU D  64     4656   6670   5692   -338    199    789       C  \nATOM   2183  CD1 LEU D  64      19.445  12.189  -6.396  1.00 40.64           C  \nANISOU 2183  CD1 LEU D  64     4058   6185   5196   -312    209    656       C  \nATOM   2184  CD2 LEU D  64      17.840  13.723  -7.315  1.00 42.22           C  \nANISOU 2184  CD2 LEU D  64     4385   6174   5482   -289    133    818       C  \nATOM   2185  N   LYS D  65      22.200  16.406  -9.552  1.00 54.87           N  \nANISOU 2185  N   LYS D  65     6000   8004   6845   -761    484   1219       N  \nATOM   2186  CA  LYS D  65      23.550  16.921  -9.405  1.00 57.51           C  \nANISOU 2186  CA  LYS D  65     6262   8393   7194   -927    603   1225       C  \nATOM   2187  C   LYS D  65      23.665  18.147  -8.558  1.00 57.72           C  \nANISOU 2187  C   LYS D  65     6299   8200   7428  -1054    634   1228       C  \nATOM   2188  O   LYS D  65      24.476  18.212  -7.678  1.00 59.06           O  \nANISOU 2188  O   LYS D  65     6368   8398   7672  -1144    675   1099       O  \nATOM   2189  CB  LYS D  65      24.078  17.370 -10.762  1.00 60.80           C  \nANISOU 2189  CB  LYS D  65     6722   8907   7472  -1002    692   1415       C  \nATOM   2190  CG  LYS D  65      24.887  16.404 -11.539  1.00 64.55           C  \nANISOU 2190  CG  LYS D  65     7117   9672   7735   -980    746   1378       C  \nATOM   2191  CD  LYS D  65      25.824  15.676 -10.672  1.00 66.93           C  \nANISOU 2191  CD  LYS D  65     7267  10097   8063  -1000    773   1179       C  \nATOM   2192  CE  LYS D  65      26.885  16.596 -10.135  1.00 70.09           C  \nANISOU 2192  CE  LYS D  65     7589  10458   8582  -1195    879   1178       C  \nATOM   2193  NZ  LYS D  65      27.908  15.798  -9.436  1.00 70.12           N  \nANISOU 2193  NZ  LYS D  65     7425  10644   8574  -1196    897    983       N  \nATOM   2194  N   SER D  66      22.842  19.119  -8.772  1.00 57.71           N  \nANISOU 2194  N   SER D  66     6413   7979   7534  -1052    605   1356       N  \nATOM   2195  CA  SER D  66      22.958  20.263  -7.923  1.00 58.22           C  \nANISOU 2195  CA  SER D  66     6481   7817   7820  -1169    634   1326       C  \nATOM   2196  C   SER D  66      22.638  20.036  -6.435  1.00 55.12           C  \nANISOU 2196  C   SER D  66     6023   7369   7551  -1128    574   1099       C  \nATOM   2197  O   SER D  66      23.257  20.628  -5.600  1.00 57.12           O  \nANISOU 2197  O   SER D  66     6213   7558   7932  -1248    616    993       O  \nATOM   2198  CB  SER D  66      22.197  21.461  -8.502  1.00 60.48           C  \nANISOU 2198  CB  SER D  66     6912   7846   8220  -1173    621   1526       C  \nATOM   2199  OG  SER D  66      20.855  21.174  -8.769  1.00 60.74           O  \nANISOU 2199  OG  SER D  66     7023   7826   8226   -988    503   1564       O  \nATOM   2200  N   ARG D  67      21.643  19.233  -6.119  1.00 50.84           N  \nANISOU 2200  N   ARG D  67     5493   6851   6971   -965    480   1027       N  \nATOM   2201  CA  ARG D  67      21.141  19.154  -4.762  1.00 48.63           C  \nANISOU 2201  CA  ARG D  67     5173   6501   6802   -920    433    848       C  \nATOM   2202  C   ARG D  67      21.651  18.162  -3.753  1.00 45.71           C  \nANISOU 2202  C   ARG D  67     4693   6309   6365   -895    428    670       C  \nATOM   2203  O   ARG D  67      21.311  18.271  -2.626  1.00 44.91           O  \nANISOU 2203  O   ARG D  67     4564   6154   6344   -876    403    539       O  \nATOM   2204  CB  ARG D  67      19.630  18.953  -4.806  1.00 47.33           C  \nANISOU 2204  CB  ARG D  67     5077   6236   6671   -763    341    865       C  \nATOM   2205  CG  ARG D  67      18.913  19.627  -5.880  1.00 47.36           C  \nANISOU 2205  CG  ARG D  67     5188   6106   6700   -721    309   1047       C  \nATOM   2206  CD  ARG D  67      17.456  19.528  -5.646  1.00 45.73           C  \nANISOU 2206  CD  ARG D  67     5012   5799   6565   -573    214   1012       C  \nATOM   2207  NE  ARG D  67      16.881  18.279  -6.081  1.00 45.03           N  \nANISOU 2207  NE  ARG D  67     4901   5870   6338   -452    155    993       N  \nATOM   2208  CZ  ARG D  67      15.862  17.674  -5.501  1.00 43.47           C  \nANISOU 2208  CZ  ARG D  67     4668   5666   6181   -347     97    883       C  \nATOM   2209  NH1 ARG D  67      15.401  16.575  -6.031  1.00 43.37           N  \nANISOU 2209  NH1 ARG D  67     4635   5783   6059   -257     47    872       N  \nATOM   2210  NH2 ARG D  67      15.536  17.964  -4.272  1.00 42.41           N  \nANISOU 2210  NH2 ARG D  67     4495   5441   6175   -353    108    754       N  \nATOM   2211  N   ILE D  68      22.432  17.192  -4.152  1.00 44.43           N  \nANISOU 2211  N   ILE D  68     4470   6359   6051   -883    450    667       N  \nATOM   2212  CA  ILE D  68      22.782  16.119  -3.262  1.00 41.76           C  \nANISOU 2212  CA  ILE D  68     4044   6179   5645   -819    428    526       C  \nATOM   2213  C   ILE D  68      24.208  16.094  -2.769  1.00 43.06           C  \nANISOU 2213  C   ILE D  68     4086   6496   5779   -915    476    432       C  \nATOM   2214  O   ILE D  68      25.116  16.444  -3.479  1.00 41.66           O  \nANISOU 2214  O   ILE D  68     3870   6383   5575  -1020    542    486       O  \nATOM   2215  CB  ILE D  68      22.514  14.792  -3.915  1.00 41.18           C  \nANISOU 2215  CB  ILE D  68     3977   6232   5437   -691    396    555       C  \nATOM   2216  CG1 ILE D  68      22.913  13.657  -3.000  1.00 40.52           C  \nANISOU 2216  CG1 ILE D  68     3812   6285   5296   -617    375    435       C  \nATOM   2217  CG2 ILE D  68      23.284  14.660  -5.169  1.00 40.45           C  \nANISOU 2217  CG2 ILE D  68     3872   6262   5232   -731    445    644       C  \nATOM   2218  CD1 ILE D  68      22.517  12.336  -3.507  1.00 40.60           C  \nANISOU 2218  CD1 ILE D  68     3836   6368   5221   -488    340    444       C  \nATOM   2219  N   SER D  69      24.396  15.671  -1.535  1.00 42.34           N  \nANISOU 2219  N   SER D  69     3925   6477   5683   -876    444    291       N  \nATOM   2220  CA  SER D  69      25.757  15.540  -1.019  1.00 43.02           C  \nANISOU 2220  CA  SER D  69     3875   6743   5727   -941    468    185       C  \nATOM   2221  C   SER D  69      25.758  14.298  -0.110  1.00 40.60           C  \nANISOU 2221  C   SER D  69     3523   6579   5324   -795    409    101       C  \nATOM   2222  O   SER D  69      24.829  14.094   0.697  1.00 38.24           O  \nANISOU 2222  O   SER D  69     3277   6209   5042   -713    366     71       O  \nATOM   2223  CB  SER D  69      26.146  16.852  -0.321  1.00 45.35           C  \nANISOU 2223  CB  SER D  69     4127   6946   6157  -1094    492     90       C  \nATOM   2224  OG  SER D  69      27.188  16.653   0.592  1.00 50.29           O  \nANISOU 2224  OG  SER D  69     4610   7752   6744  -1123    479    -64       O  \nATOM   2225  N   ILE D  70      26.721  13.416  -0.359  1.00 38.59           N  \nANISOU 2225  N   ILE D  70     3179   6517   4966   -751    413     83       N  \nATOM   2226  CA  ILE D  70      26.893  12.219   0.437  1.00 37.43           C  \nANISOU 2226  CA  ILE D  70     2987   6501   4731   -605    357     26       C  \nATOM   2227  C   ILE D  70      28.265  12.339   1.086  1.00 38.06           C  \nANISOU 2227  C   ILE D  70     2909   6774   4776   -652    351    -93       C  \nATOM   2228  O   ILE D  70      29.279  12.506   0.388  1.00 36.04           O  \nANISOU 2228  O   ILE D  70     2557   6626   4508   -730    398   -105       O  \nATOM   2229  CB  ILE D  70      26.831  10.951  -0.434  1.00 36.49           C  \nANISOU 2229  CB  ILE D  70     2890   6437   4536   -480    352     93       C  \nATOM   2230  CG1 ILE D  70      25.493  10.865  -1.160  1.00 35.68           C  \nANISOU 2230  CG1 ILE D  70     2923   6164   4469   -444    348    190       C  \nATOM   2231  CG2 ILE D  70      27.052   9.691   0.436  1.00 36.13           C  \nANISOU 2231  CG2 ILE D  70     2806   6497   4423   -322    296     51       C  \nATOM   2232  CD1 ILE D  70      25.408   9.652  -2.145  1.00 33.79           C  \nANISOU 2232  CD1 ILE D  70     2701   5974   4163   -331    340    226       C  \nATOM   2233  N   THR D  71      28.295  12.346   2.413  1.00 37.99           N  \nANISOU 2233  N   THR D  71     2864   6822   4748   -614    298   -189       N  \nATOM   2234  CA  THR D  71      29.541  12.501   3.145  1.00 38.84           C  \nANISOU 2234  CA  THR D  71     2810   7132   4816   -649    269   -326       C  \nATOM   2235  C   THR D  71      29.627  11.320   4.089  1.00 38.85           C  \nANISOU 2235  C   THR D  71     2790   7274   4694   -459    191   -340       C  \nATOM   2236  O   THR D  71      28.762  10.438   4.055  1.00 37.43           O  \nANISOU 2236  O   THR D  71     2724   7013   4484   -330    179   -236       O  \nATOM   2237  CB  THR D  71      29.544  13.829   3.925  1.00 40.63           C  \nANISOU 2237  CB  THR D  71     3004   7302   5130   -795    270   -451       C  \nATOM   2238  OG1 THR D  71      28.312  13.926   4.638  1.00 40.53           O  \nANISOU 2238  OG1 THR D  71     3112   7158   5127   -734    246   -440       O  \nATOM   2239  CG2 THR D  71      29.718  15.038   2.952  1.00 41.00           C  \nANISOU 2239  CG2 THR D  71     3054   7203   5320   -998    356   -425       C  \nATOM   2240  N   ARG D  72      30.657  11.299   4.933  1.00 39.98           N  \nANISOU 2240  N   ARG D  72     2789   7630   4772   -442    135   -463       N  \nATOM   2241  CA  ARG D  72      30.896  10.182   5.826  1.00 41.25           C  \nANISOU 2241  CA  ARG D  72     2923   7947   4801   -247     53   -457       C  \nATOM   2242  C   ARG D  72      31.711  10.642   7.030  1.00 42.97           C  \nANISOU 2242  C   ARG D  72     3000   8378   4948   -262    -21   -622       C  \nATOM   2243  O   ARG D  72      32.377  11.659   6.974  1.00 44.19           O  \nANISOU 2243  O   ARG D  72     3037   8582   5170   -426     -5   -758       O  \nATOM   2244  CB  ARG D  72      31.648   9.069   5.102  1.00 41.20           C  \nANISOU 2244  CB  ARG D  72     2854   8044   4756   -126     43   -406       C  \nATOM   2245  CG  ARG D  72      33.098   9.456   4.749  1.00 44.12           C  \nANISOU 2245  CG  ARG D  72     3016   8611   5135   -209     47   -531       C  \nATOM   2246  CD  ARG D  72      33.860   8.297   4.109  1.00 44.44           C  \nANISOU 2246  CD  ARG D  72     2977   8773   5133    -61     35   -504       C  \nATOM   2247  NE  ARG D  72      35.152   8.721   3.640  1.00 45.12           N  \nANISOU 2247  NE  ARG D  72     2857   9043   5240   -159     63   -623       N  \nATOM   2248  CZ  ARG D  72      36.111   7.902   3.239  1.00 47.88           C  \nANISOU 2248  CZ  ARG D  72     3071   9565   5554    -42     47   -660       C  \nATOM   2249  NH1 ARG D  72      35.952   6.590   3.252  1.00 49.90           N  \nANISOU 2249  NH1 ARG D  72     3384   9813   5762    187     -5   -585       N  \nATOM   2250  NH2 ARG D  72      37.239   8.399   2.814  1.00 51.97           N  \nANISOU 2250  NH2 ARG D  72     3387  10257   6100   -157     90   -777       N  \nATOM   2251  N   ASP D  73      31.641   9.886   8.113  1.00 43.99           N  \nANISOU 2251  N   ASP D  73     3141   8631   4939    -92   -101   -606       N  \nATOM   2252  CA  ASP D  73      32.500  10.097   9.271  1.00 46.01           C  \nANISOU 2252  CA  ASP D  73     3252   9146   5082    -59   -197   -758       C  \nATOM   2253  C   ASP D  73      33.110   8.754   9.573  1.00 46.57           C  \nANISOU 2253  C   ASP D  73     3280   9391   5023    170   -279   -679       C  \nATOM   2254  O   ASP D  73      32.427   7.852  10.049  1.00 45.63           O  \nANISOU 2254  O   ASP D  73     3290   9226   4818    331   -298   -532       O  \nATOM   2255  CB  ASP D  73      31.689  10.603  10.445  1.00 47.50           C  \nANISOU 2255  CB  ASP D  73     3517   9328   5201    -65   -217   -811       C  \nATOM   2256  CG  ASP D  73      32.518  10.777  11.702  1.00 51.06           C  \nANISOU 2256  CG  ASP D  73     3823  10077   5499    -13   -330   -979       C  \nATOM   2257  OD1 ASP D  73      33.539  10.083  11.879  1.00 53.94           O  \nANISOU 2257  OD1 ASP D  73     4063  10663   5767    112   -415   -990       O  \nATOM   2258  OD2 ASP D  73      32.102  11.602  12.542  1.00 55.30           O  \nANISOU 2258  OD2 ASP D  73     4369  10635   6006    -84   -339  -1109       O  \nATOM   2259  N   THR D  74      34.400   8.612   9.273  1.00 47.90           N  \nANISOU 2259  N   THR D  74     3260   9748   5188    187   -323   -771       N  \nATOM   2260  CA  THR D  74      35.033   7.313   9.350  1.00 47.96           C  \nANISOU 2260  CA  THR D  74     3219   9893   5108    420   -399   -693       C  \nATOM   2261  C   THR D  74      35.221   6.903  10.820  1.00 49.98           C  \nANISOU 2261  C   THR D  74     3454  10361   5174    595   -528   -699       C  \nATOM   2262  O   THR D  74      35.247   5.715  11.123  1.00 51.15           O  \nANISOU 2262  O   THR D  74     3655  10542   5235    822   -586   -555       O  \nATOM   2263  CB  THR D  74      36.360   7.251   8.508  1.00 48.50           C  \nANISOU 2263  CB  THR D  74     3075  10112   5238    397   -400   -798       C  \nATOM   2264  OG1 THR D  74      37.297   8.218   8.990  1.00 47.42           O  \nANISOU 2264  OG1 THR D  74     2729  10192   5094    268   -446  -1014       O  \nATOM   2265  CG2 THR D  74      36.105   7.496   7.041  1.00 45.19           C  \nANISOU 2265  CG2 THR D  74     2703   9500   4965    253   -265   -753       C  \nATOM   2266  N   SER D  75      35.333   7.853  11.746  1.00 51.89           N  \nANISOU 2266  N   SER D  75     3625  10745   5346    500   -574   -859       N  \nATOM   2267  CA  SER D  75      35.499   7.471  13.144  1.00 53.92           C  \nANISOU 2267  CA  SER D  75     3863  11238   5384    676   -700   -864       C  \nATOM   2268  C   SER D  75      34.178   6.890  13.685  1.00 53.74           C  \nANISOU 2268  C   SER D  75     4083  11060   5276    777   -658   -654       C  \nATOM   2269  O   SER D  75      34.203   6.069  14.574  1.00 54.69           O  \nANISOU 2269  O   SER D  75     4245  11317   5217    983   -738   -540       O  \nATOM   2270  CB  SER D  75      36.017   8.632  14.004  1.00 55.59           C  \nANISOU 2270  CB  SER D  75     3915  11673   5531    550   -770  -1129       C  \nATOM   2271  OG  SER D  75      34.993   9.577  14.281  1.00 57.66           O  \nANISOU 2271  OG  SER D  75     4295  11778   5835    388   -691  -1184       O  \nATOM   2272  N   LYS D  76      33.031   7.280  13.134  1.00 52.18           N  \nANISOU 2272  N   LYS D  76     4039  10579   5207    639   -531   -591       N  \nATOM   2273  CA  LYS D  76      31.736   6.719  13.606  1.00 52.83           C  \nANISOU 2273  CA  LYS D  76     4332  10512   5228    719   -476   -399       C  \nATOM   2274  C   LYS D  76      31.200   5.598  12.724  1.00 50.92           C  \nANISOU 2274  C   LYS D  76     4223  10031   5092    806   -411   -178       C  \nATOM   2275  O   LYS D  76      30.207   4.995  13.052  1.00 51.27           O  \nANISOU 2275  O   LYS D  76     4424   9947   5106    874   -362    -10       O  \nATOM   2276  CB  LYS D  76      30.685   7.818  13.699  1.00 52.14           C  \nANISOU 2276  CB  LYS D  76     4324  10276   5211    533   -385   -481       C  \nATOM   2277  CG  LYS D  76      31.151   8.964  14.577  1.00 57.97           C  \nANISOU 2277  CG  LYS D  76     4934  11224   5867    438   -445   -731       C  \nATOM   2278  CD  LYS D  76      30.216  10.174  14.529  1.00 61.89           C  \nANISOU 2278  CD  LYS D  76     5489  11542   6483    246   -355   -848       C  \nATOM   2279  CE  LYS D  76      30.811  11.324  15.381  1.00 67.51           C  \nANISOU 2279  CE  LYS D  76     6053  12460   7138    146   -423  -1139       C  \nATOM   2280  NZ  LYS D  76      29.987  12.582  15.253  1.00 69.74           N  \nANISOU 2280  NZ  LYS D  76     6381  12534   7580    -42   -338  -1275       N  \nATOM   2281  N   ASN D  77      31.881   5.314  11.619  1.00 50.80           N  \nANISOU 2281  N   ASN D  77     4132   9968   5199    802   -408   -193       N  \nATOM   2282  CA  ASN D  77      31.438   4.303  10.626  1.00 49.50           C  \nANISOU 2282  CA  ASN D  77     4074   9576   5156    871   -349    -32       C  \nATOM   2283  C   ASN D  77      30.031   4.605  10.128  1.00 46.74           C  \nANISOU 2283  C   ASN D  77     3885   8954   4921    742   -234     35       C  \nATOM   2284  O   ASN D  77      29.188   3.735  10.054  1.00 45.86           O  \nANISOU 2284  O   ASN D  77     3909   8671   4842    820   -193    195       O  \nATOM   2285  CB  ASN D  77      31.563   2.862  11.179  1.00 51.27           C  \nANISOU 2285  CB  ASN D  77     4359   9826   5293   1125   -410    146       C  \nATOM   2286  CG  ASN D  77      31.894   1.830  10.088  1.00 51.12           C  \nANISOU 2286  CG  ASN D  77     4341   9676   5404   1227   -400    212       C  \nATOM   2287  OD1 ASN D  77      32.829   2.003   9.295  1.00 51.44           O  \nANISOU 2287  OD1 ASN D  77     4237   9801   5504   1203   -416     88       O  \nATOM   2288  ND2 ASN D  77      31.136   0.753  10.061  1.00 49.82           N  \nANISOU 2288  ND2 ASN D  77     4330   9309   5288   1339   -366    397       N  \nATOM   2289  N   GLN D  78      29.800   5.875   9.821  1.00 45.53           N  \nANISOU 2289  N   GLN D  78     3702   8759   4837    544   -187    -93       N  \nATOM   2290  CA  GLN D  78      28.536   6.329   9.268  1.00 44.52           C  \nANISOU 2290  CA  GLN D  78     3700   8386   4828    420    -91    -52       C  \nATOM   2291  C   GLN D  78      28.751   7.063   7.969  1.00 42.89           C  \nANISOU 2291  C   GLN D  78     3449   8083   4762    267    -43   -124       C  \nATOM   2292  O   GLN D  78      29.802   7.678   7.769  1.00 44.57           O  \nANISOU 2292  O   GLN D  78     3522   8431   4978    191    -66   -248       O  \nATOM   2293  CB  GLN D  78      27.833   7.289  10.219  1.00 44.08           C  \nANISOU 2293  CB  GLN D  78     3678   8344   4727    333    -73   -125       C  \nATOM   2294  CG  GLN D  78      27.358   6.676  11.522  1.00 47.22           C  \nANISOU 2294  CG  GLN D  78     4144   8833   4965    463    -91    -38       C  \nATOM   2295  CD  GLN D  78      26.872   7.719  12.533  1.00 49.68           C  \nANISOU 2295  CD  GLN D  78     4452   9223   5201    381    -79   -164       C  \nATOM   2296  OE1 GLN D  78      27.405   8.830  12.614  1.00 51.96           O  \nANISOU 2296  OE1 GLN D  78     4637   9592   5511    264   -106   -357       O  \nATOM   2297  NE2 GLN D  78      25.851   7.359  13.296  1.00 49.34           N  \nANISOU 2297  NE2 GLN D  78     4515   9151   5080    437    -30    -65       N  \nATOM   2298  N   PHE D  79      27.744   7.010   7.102  1.00 41.29           N  \nANISOU 2298  N   PHE D  79     3360   7658   4670    218     25    -43       N  \nATOM   2299  CA  PHE D  79      27.684   7.901   5.946  1.00 41.04           C  \nANISOU 2299  CA  PHE D  79     3319   7519   4755     61     78    -86       C  \nATOM   2300  C   PHE D  79      26.300   8.597   5.914  1.00 40.76           C  \nANISOU 2300  C   PHE D  79     3401   7283   4802    -25    130    -59       C  \nATOM   2301  O   PHE D  79      25.347   8.098   6.513  1.00 40.53           O  \nANISOU 2301  O   PHE D  79     3459   7184   4753     46    138      8       O  \nATOM   2302  CB  PHE D  79      28.083   7.190   4.618  1.00 39.72           C  \nANISOU 2302  CB  PHE D  79     3137   7323   4631     98     98    -37       C  \nATOM   2303  CG  PHE D  79      27.193   6.043   4.201  1.00 37.96           C  \nANISOU 2303  CG  PHE D  79     3030   6952   4441    210    110     79       C  \nATOM   2304  CD1 PHE D  79      26.361   6.176   3.076  1.00 38.98           C  \nANISOU 2304  CD1 PHE D  79     3238   6915   4658    148    157    118       C  \nATOM   2305  CD2 PHE D  79      27.185   4.835   4.901  1.00 39.15           C  \nANISOU 2305  CD2 PHE D  79     3209   7122   4542    376     71    149       C  \nATOM   2306  CE1 PHE D  79      25.547   5.126   2.653  1.00 36.19           C  \nANISOU 2306  CE1 PHE D  79     2972   6427   4351    238    163    194       C  \nATOM   2307  CE2 PHE D  79      26.395   3.772   4.490  1.00 37.59           C  \nANISOU 2307  CE2 PHE D  79     3109   6763   4408    461     89    245       C  \nATOM   2308  CZ  PHE D  79      25.557   3.920   3.351  1.00 39.12           C  \nANISOU 2308  CZ  PHE D  79     3366   6797   4700    385    135    251       C  \nATOM   2309  N   PHE D  80      26.243   9.752   5.233  1.00 40.29           N  \nANISOU 2309  N   PHE D  80     3333   7137   4838   -177    167   -109       N  \nATOM   2310  CA  PHE D  80      25.163  10.716   5.336  1.00 39.20           C  \nANISOU 2310  CA  PHE D  80     3272   6833   4789   -265    200   -123       C  \nATOM   2311  C   PHE D  80      24.645  11.143   3.976  1.00 38.34           C  \nANISOU 2311  C   PHE D  80     3225   6550   4789   -339    241    -54       C  \nATOM   2312  O   PHE D  80      25.415  11.291   3.013  1.00 38.58           O  \nANISOU 2312  O   PHE D  80     3211   6615   4832   -397    259    -40       O  \nATOM   2313  CB  PHE D  80      25.643  11.988   6.037  1.00 39.74           C  \nANISOU 2313  CB  PHE D  80     3266   6951   4879   -384    194   -272       C  \nATOM   2314  CG  PHE D  80      26.344  11.750   7.339  1.00 41.20           C  \nANISOU 2314  CG  PHE D  80     3363   7355   4933   -324    138   -373       C  \nATOM   2315  CD1 PHE D  80      25.619  11.460   8.488  1.00 40.36           C  \nANISOU 2315  CD1 PHE D  80     3307   7287   4740   -236    125   -377       C  \nATOM   2316  CD2 PHE D  80      27.722  11.835   7.423  1.00 40.82           C  \nANISOU 2316  CD2 PHE D  80     3175   7494   4839   -352     99   -465       C  \nATOM   2317  CE1 PHE D  80      26.261  11.253   9.722  1.00 43.17           C  \nANISOU 2317  CE1 PHE D  80     3587   7874   4940   -167     66   -462       C  \nATOM   2318  CE2 PHE D  80      28.361  11.653   8.658  1.00 44.46           C  \nANISOU 2318  CE2 PHE D  80     3545   8182   5163   -284     28   -569       C  \nATOM   2319  CZ  PHE D  80      27.613  11.361   9.813  1.00 42.73           C  \nANISOU 2319  CZ  PHE D  80     3392   8006   4835   -185      8   -561       C  \nATOM   2320  N   LEU D  81      23.343  11.398   3.924  1.00 36.33           N  \nANISOU 2320  N   LEU D  81     3066   6129   4608   -337    258    -13       N  \nATOM   2321  CA  LEU D  81      22.694  11.984   2.738  1.00 35.40           C  \nANISOU 2321  CA  LEU D  81     3013   5844   4591   -397    281     51       C  \nATOM   2322  C   LEU D  81      22.238  13.378   3.076  1.00 36.10           C  \nANISOU 2322  C   LEU D  81     3121   5807   4787   -494    295     -9       C  \nATOM   2323  O   LEU D  81      21.613  13.578   4.127  1.00 36.79           O  \nANISOU 2323  O   LEU D  81     3216   5875   4884   -468    292    -79       O  \nATOM   2324  CB  LEU D  81      21.463  11.167   2.336  1.00 33.90           C  \nANISOU 2324  CB  LEU D  81     2904   5551   4423   -304    276    135       C  \nATOM   2325  CG  LEU D  81      20.538  11.717   1.212  1.00 34.22           C  \nANISOU 2325  CG  LEU D  81     3014   5430   4556   -334    277    200       C  \nATOM   2326  CD1 LEU D  81      21.233  11.891  -0.149  1.00 34.32           C  \nANISOU 2326  CD1 LEU D  81     3025   5469   4544   -381    285    262       C  \nATOM   2327  CD2 LEU D  81      19.299  10.801   1.014  1.00 31.87           C  \nANISOU 2327  CD2 LEU D  81     2767   5058   4284   -239    262    245       C  \nATOM   2328  N   GLN D  82      22.509  14.329   2.200  1.00 37.01           N  \nANISOU 2328  N   GLN D  82     3246   5831   4983   -600    317     19       N  \nATOM   2329  CA  GLN D  82      21.850  15.637   2.223  1.00 38.53           C  \nANISOU 2329  CA  GLN D  82     3486   5833   5318   -674    329     -2       C  \nATOM   2330  C   GLN D  82      21.255  15.954   0.830  1.00 38.99           C  \nANISOU 2330  C   GLN D  82     3630   5743   5438   -681    335    143       C  \nATOM   2331  O   GLN D  82      21.946  15.875  -0.177  1.00 39.00           O  \nANISOU 2331  O   GLN D  82     3628   5794   5397   -726    357    229       O  \nATOM   2332  CB  GLN D  82      22.780  16.769   2.604  1.00 40.78           C  \nANISOU 2332  CB  GLN D  82     3706   6110   5676   -817    352   -107       C  \nATOM   2333  CG  GLN D  82      21.997  18.030   2.872  1.00 44.57           C  \nANISOU 2333  CG  GLN D  82     4238   6372   6324   -867    358   -158       C  \nATOM   2334  CD  GLN D  82      22.822  19.138   3.494  1.00 54.61           C  \nANISOU 2334  CD  GLN D  82     5438   7618   7694  -1009    376   -311       C  \nATOM   2335  OE1 GLN D  82      23.742  18.890   4.277  1.00 57.86           O  \nANISOU 2335  OE1 GLN D  82     5743   8217   8023  -1038    364   -439       O  \nATOM   2336  NE2 GLN D  82      22.478  20.375   3.172  1.00 59.08           N  \nANISOU 2336  NE2 GLN D  82     6056   7945   8446  -1094    397   -305       N  \nATOM   2337  N   LEU D  83      19.941  16.227   0.795  1.00 37.99           N  \nANISOU 2337  N   LEU D  83     3573   5463   5395   -621    313    169       N  \nATOM   2338  CA  LEU D  83      19.243  16.610  -0.424  1.00 36.78           C  \nANISOU 2338  CA  LEU D  83     3501   5174   5298   -604    297    302       C  \nATOM   2339  C   LEU D  83      18.664  17.983  -0.162  1.00 38.14           C  \nANISOU 2339  C   LEU D  83     3713   5135   5641   -645    296    275       C  \nATOM   2340  O   LEU D  83      17.853  18.142   0.736  1.00 37.36           O  \nANISOU 2340  O   LEU D  83     3605   4978   5609   -593    283    174       O  \nATOM   2341  CB  LEU D  83      18.160  15.593  -0.726  1.00 35.63           C  \nANISOU 2341  CB  LEU D  83     3383   5044   5110   -475    256    341       C  \nATOM   2342  CG  LEU D  83      17.405  15.759  -2.035  1.00 36.57           C  \nANISOU 2342  CG  LEU D  83     3571   5077   5248   -429    216    467       C  \nATOM   2343  CD1 LEU D  83      18.308  15.505  -3.250  1.00 34.16           C  \nANISOU 2343  CD1 LEU D  83     3278   4875   4826   -467    232    573       C  \nATOM   2344  CD2 LEU D  83      16.180  14.836  -2.007  1.00 32.87           C  \nANISOU 2344  CD2 LEU D  83     3099   4611   4777   -311    170    446       C  \nATOM   2345  N   ASN D  84      19.132  18.981  -0.901  1.00 37.74           N  \nANISOU 2345  N   ASN D  84     3701   4971   5665   -741    320    362       N  \nATOM   2346  CA  ASN D  84      18.697  20.373  -0.692  1.00 39.71           C  \nANISOU 2346  CA  ASN D  84     3995   4980   6111   -786    322    342       C  \nATOM   2347  C   ASN D  84      17.452  20.728  -1.507  1.00 39.64           C  \nANISOU 2347  C   ASN D  84     4078   4804   6177   -682    270    471       C  \nATOM   2348  O   ASN D  84      17.070  20.001  -2.405  1.00 39.50           O  \nANISOU 2348  O   ASN D  84     4091   4866   6049   -603    236    588       O  \nATOM   2349  CB  ASN D  84      19.822  21.325  -1.063  1.00 42.20           C  \nANISOU 2349  CB  ASN D  84     4311   5223   6500   -954    382    387       C  \nATOM   2350  CG  ASN D  84      21.015  21.226  -0.119  1.00 43.85           C  \nANISOU 2350  CG  ASN D  84     4404   5578   6677  -1063    421    217       C  \nATOM   2351  OD1 ASN D  84      20.885  20.878   1.065  1.00 45.31           O  \nANISOU 2351  OD1 ASN D  84     4527   5854   6835  -1018    398     42       O  \nATOM   2352  ND2 ASN D  84      22.168  21.569  -0.631  1.00 48.62           N  \nANISOU 2352  ND2 ASN D  84     4975   6216   7281  -1207    481    269       N  \nATOM   2353  N   SER D  85      16.837  21.839  -1.148  1.00 41.06           N  \nANISOU 2353  N   SER D  85     4292   4760   6548   -676    258    428       N  \nATOM   2354  CA  SER D  85      15.656  22.407  -1.811  1.00 41.48           C  \nANISOU 2354  CA  SER D  85     4424   4624   6711   -566    198    537       C  \nATOM   2355  C   SER D  85      14.614  21.361  -2.140  1.00 39.46           C  \nANISOU 2355  C   SER D  85     4155   4486   6350   -415    133    562       C  \nATOM   2356  O   SER D  85      14.216  21.256  -3.290  1.00 39.71           O  \nANISOU 2356  O   SER D  85     4245   4512   6331   -349     83    725       O  \nATOM   2357  CB  SER D  85      16.024  23.153  -3.112  1.00 42.13           C  \nANISOU 2357  CB  SER D  85     4607   4581   6819   -618    204    771       C  \nATOM   2358  OG  SER D  85      17.185  23.891  -2.990  1.00 44.89           O  \nANISOU 2358  OG  SER D  85     4956   4861   7239   -791    284    772       O  \nATOM   2359  N   VAL D  86      14.174  20.581  -1.165  1.00 38.79           N  \nANISOU 2359  N   VAL D  86     3994   4516   6228   -364    135    405       N  \nATOM   2360  CA  VAL D  86      13.179  19.540  -1.438  1.00 37.11           C  \nANISOU 2360  CA  VAL D  86     3755   4404   5941   -241     85    416       C  \nATOM   2361  C   VAL D  86      11.844  20.169  -1.826  1.00 38.51           C  \nANISOU 2361  C   VAL D  86     3954   4421   6257   -121     13    446       C  \nATOM   2362  O   VAL D  86      11.555  21.345  -1.540  1.00 40.06           O  \nANISOU 2362  O   VAL D  86     4175   4422   6624   -112      8    416       O  \nATOM   2363  CB  VAL D  86      13.001  18.606  -0.241  1.00 36.89           C  \nANISOU 2363  CB  VAL D  86     3643   4517   5855   -226    123    260       C  \nATOM   2364  CG1 VAL D  86      14.323  17.859   0.017  1.00 34.89           C  \nANISOU 2364  CG1 VAL D  86     3366   4439   5449   -313    173    251       C  \nATOM   2365  CG2 VAL D  86      12.599  19.414   0.942  1.00 34.85           C  \nANISOU 2365  CG2 VAL D  86     3349   4163   5727   -225    152    101       C  \nATOM   2366  N   THR D  87      11.093  19.413  -2.603  1.00 38.24           N  \nANISOU 2366  N   THR D  87     3911   4465   6153    -26    -51    511       N  \nATOM   2367  CA  THR D  87       9.716  19.690  -2.918  1.00 38.45           C  \nANISOU 2367  CA  THR D  87     3919   4402   6286    109   -134    511       C  \nATOM   2368  C   THR D  87       8.951  18.423  -2.508  1.00 37.69           C  \nANISOU 2368  C   THR D  87     3723   4456   6139    159   -135    399       C  \nATOM   2369  O   THR D  87       9.556  17.431  -2.130  1.00 34.88           O  \nANISOU 2369  O   THR D  87     3341   4243   5666     94    -78    361       O  \nATOM   2370  CB  THR D  87       9.514  19.859  -4.430  1.00 39.68           C  \nANISOU 2370  CB  THR D  87     4147   4546   6383    177   -228    701       C  \nATOM   2371  OG1 THR D  87       9.736  18.576  -5.050  1.00 37.33           O  \nANISOU 2371  OG1 THR D  87     3825   4456   5900    173   -241    724       O  \nATOM   2372  CG2 THR D  87      10.495  20.879  -5.042  1.00 39.48           C  \nANISOU 2372  CG2 THR D  87     4235   4406   6359     98   -203    868       C  \nATOM   2373  N   THR D  88       7.626  18.458  -2.625  1.00 38.96           N  \nANISOU 2373  N   THR D  88     3825   4580   6399    276   -202    355       N  \nATOM   2374  CA  THR D  88       6.757  17.311  -2.310  1.00 39.59           C  \nANISOU 2374  CA  THR D  88     3796   4781   6464    314   -199    251       C  \nATOM   2375  C   THR D  88       7.082  16.086  -3.125  1.00 39.77           C  \nANISOU 2375  C   THR D  88     3822   4952   6335    293   -224    308       C  \nATOM   2376  O   THR D  88       6.735  14.978  -2.699  1.00 39.86           O  \nANISOU 2376  O   THR D  88     3759   5059   6328    277   -187    224       O  \nATOM   2377  CB  THR D  88       5.259  17.662  -2.531  1.00 41.91           C  \nANISOU 2377  CB  THR D  88     4009   5012   6902    449   -284    198       C  \nATOM   2378  OG1 THR D  88       5.027  17.896  -3.933  1.00 43.14           O  \nANISOU 2378  OG1 THR D  88     4212   5156   7022    533   -412    332       O  \nATOM   2379  CG2 THR D  88       4.885  18.901  -1.732  1.00 39.59           C  \nANISOU 2379  CG2 THR D  88     3703   4557   6779    490   -260    118       C  \nATOM   2380  N   GLU D  89       7.757  16.243  -4.280  1.00 39.99           N  \nANISOU 2380  N   GLU D  89     3936   5002   6254    288   -277    448       N  \nATOM   2381  CA  GLU D  89       8.138  15.065  -5.067  1.00 41.63           C  \nANISOU 2381  CA  GLU D  89     4143   5364   6310    273   -298    475       C  \nATOM   2382  C   GLU D  89       9.304  14.307  -4.453  1.00 38.33           C  \nANISOU 2382  C   GLU D  89     3734   5031   5798    168   -195    447       C  \nATOM   2383  O   GLU D  89       9.642  13.243  -4.935  1.00 39.16           O  \nANISOU 2383  O   GLU D  89     3829   5250   5798    158   -199    442       O  \nATOM   2384  CB  GLU D  89       8.517  15.393  -6.521  1.00 43.48           C  \nANISOU 2384  CB  GLU D  89     4459   5638   6422    306   -377    625       C  \nATOM   2385  CG  GLU D  89       7.335  15.633  -7.443  1.00 50.72           C  \nANISOU 2385  CG  GLU D  89     5352   6551   7365    439   -515    654       C  \nATOM   2386  CD  GLU D  89       6.917  17.077  -7.446  1.00 60.10           C  \nANISOU 2386  CD  GLU D  89     6591   7568   8676    504   -558    742       C  \nATOM   2387  OE1 GLU D  89       7.400  17.841  -6.565  1.00 66.65           O  \nANISOU 2387  OE1 GLU D  89     7454   8263   9604    437   -472    736       O  \nATOM   2388  OE2 GLU D  89       6.118  17.474  -8.324  1.00 66.17           O  \nANISOU 2388  OE2 GLU D  89     7364   8329   9448    630   -684    811       O  \nATOM   2389  N   ASP D  90       9.933  14.861  -3.429  1.00 36.66           N  \nANISOU 2389  N   ASP D  90     3537   4766   5622     99   -112    421       N  \nATOM   2390  CA  ASP D  90      10.998  14.149  -2.754  1.00 35.00           C  \nANISOU 2390  CA  ASP D  90     3323   4653   5323     19    -29    389       C  \nATOM   2391  C   ASP D  90      10.458  13.234  -1.624  1.00 34.06           C  \nANISOU 2391  C   ASP D  90     3131   4574   5237     25     25    280       C  \nATOM   2392  O   ASP D  90      11.246  12.553  -0.947  1.00 34.60           O  \nANISOU 2392  O   ASP D  90     3192   4723   5229    -20     89    260       O  \nATOM   2393  CB  ASP D  90      12.067  15.125  -2.255  1.00 34.74           C  \nANISOU 2393  CB  ASP D  90     3331   4577   5290    -65     25    405       C  \nATOM   2394  CG  ASP D  90      12.801  15.800  -3.388  1.00 35.08           C  \nANISOU 2394  CG  ASP D  90     3447   4600   5281   -100      2    538       C  \nATOM   2395  OD1 ASP D  90      12.815  17.079  -3.474  1.00 36.17           O  \nANISOU 2395  OD1 ASP D  90     3632   4595   5513   -122     -2    588       O  \nATOM   2396  OD2 ASP D  90      13.349  15.043  -4.220  1.00 30.94           O  \nANISOU 2396  OD2 ASP D  90     2932   4198   4624   -104     -6    593       O  \nATOM   2397  N   THR D  91       9.136  13.212  -1.434  1.00 33.52           N  \nANISOU 2397  N   THR D  91     3002   4456   5278     83      3    219       N  \nATOM   2398  CA  THR D  91       8.487  12.302  -0.534  1.00 33.24           C  \nANISOU 2398  CA  THR D  91     2893   4459   5278     82     65    138       C  \nATOM   2399  C   THR D  91       8.768  10.892  -0.981  1.00 32.99           C  \nANISOU 2399  C   THR D  91     2855   4504   5174     70     64    159       C  \nATOM   2400  O   THR D  91       8.494  10.525  -2.112  1.00 33.11           O  \nANISOU 2400  O   THR D  91     2867   4532   5180    105    -13    176       O  \nATOM   2401  CB  THR D  91       6.962  12.582  -0.482  1.00 33.84           C  \nANISOU 2401  CB  THR D  91     2884   4474   5498    145     35     66       C  \nATOM   2402  OG1 THR D  91       6.764  13.876   0.114  1.00 34.60           O  \nANISOU 2402  OG1 THR D  91     2983   4487   5675    164     49     24       O  \nATOM   2403  CG2 THR D  91       6.229  11.547   0.271  1.00 33.56           C  \nANISOU 2403  CG2 THR D  91     2762   4483   5505    128    109     -3       C  \nATOM   2404  N   ALA D  92       9.366  10.089  -0.110  1.00 33.39           N  \nANISOU 2404  N   ALA D  92     2908   4610   5166     30    146    156       N  \nATOM   2405  CA  ALA D  92       9.791   8.770  -0.528  1.00 33.26           C  \nANISOU 2405  CA  ALA D  92     2898   4642   5096     27    146    178       C  \nATOM   2406  C   ALA D  92      10.318   7.959   0.627  1.00 33.17           C  \nANISOU 2406  C   ALA D  92     2891   4673   5039      1    239    191       C  \nATOM   2407  O   ALA D  92      10.655   8.525   1.684  1.00 33.04           O  \nANISOU 2407  O   ALA D  92     2883   4687   4983    -18    294    187       O  \nATOM   2408  CB  ALA D  92      10.945   8.912  -1.634  1.00 33.14           C  \nANISOU 2408  CB  ALA D  92     2942   4680   4967     28     89    234       C  \nATOM   2409  N   THR D  93      10.438   6.638   0.411  1.00 32.57           N  \nANISOU 2409  N   THR D  93     2811   4599   4963      8    249    205       N  \nATOM   2410  CA  THR D  93      11.185   5.755   1.338  1.00 31.79           C  \nANISOU 2410  CA  THR D  93     2737   4538   4801      5    321    253       C  \nATOM   2411  C   THR D  93      12.664   5.622   0.870  1.00 31.64           C  \nANISOU 2411  C   THR D  93     2762   4594   4664     25    284    285       C  \nATOM   2412  O   THR D  93      12.963   5.148  -0.253  1.00 30.00           O  \nANISOU 2412  O   THR D  93     2559   4388   4449     47    230    272       O  \nATOM   2413  CB  THR D  93      10.510   4.388   1.559  1.00 33.69           C  \nANISOU 2413  CB  THR D  93     2954   4711   5136      2    370    263       C  \nATOM   2414  OG1 THR D  93       9.121   4.549   1.828  1.00 33.71           O  \nANISOU 2414  OG1 THR D  93     2891   4657   5258    -26    404    219       O  \nATOM   2415  CG2 THR D  93      11.151   3.570   2.747  1.00 33.12           C  \nANISOU 2415  CG2 THR D  93     2918   4665   4998     12    455    349       C  \nATOM   2416  N   TYR D  94      13.562   6.061   1.763  1.00 31.64           N  \nANISOU 2416  N   TYR D  94     2779   4674   4568     18    317    310       N  \nATOM   2417  CA  TYR D  94      15.034   6.219   1.561  1.00 32.46           C  \nANISOU 2417  CA  TYR D  94     2897   4877   4558     24    292    324       C  \nATOM   2418  C   TYR D  94      15.752   5.050   2.185  1.00 32.17           C  \nANISOU 2418  C   TYR D  94     2866   4888   4466     76    318    368       C  \nATOM   2419  O   TYR D  94      15.515   4.721   3.373  1.00 33.41           O  \nANISOU 2419  O   TYR D  94     3030   5056   4606     89    371    405       O  \nATOM   2420  CB  TYR D  94      15.497   7.535   2.222  1.00 32.02           C  \nANISOU 2420  CB  TYR D  94     2835   4877   4451    -21    302    298       C  \nATOM   2421  CG  TYR D  94      15.063   8.729   1.436  1.00 33.05           C  \nANISOU 2421  CG  TYR D  94     2972   4941   4642    -62    267    275       C  \nATOM   2422  CD1 TYR D  94      15.936   9.351   0.540  1.00 32.33           C  \nANISOU 2422  CD1 TYR D  94     2893   4881   4509    -95    234    291       C  \nATOM   2423  CD2 TYR D  94      13.764   9.209   1.529  1.00 32.87           C  \nANISOU 2423  CD2 TYR D  94     2942   4824   4722    -61    268    247       C  \nATOM   2424  CE1 TYR D  94      15.523  10.471  -0.216  1.00 32.59           C  \nANISOU 2424  CE1 TYR D  94     2948   4835   4598   -126    203    304       C  \nATOM   2425  CE2 TYR D  94      13.347  10.299   0.782  1.00 33.19           C  \nANISOU 2425  CE2 TYR D  94     2995   4790   4826    -75    224    243       C  \nATOM   2426  CZ  TYR D  94      14.223  10.911  -0.111  1.00 31.23           C  \nANISOU 2426  CZ  TYR D  94     2777   4557   4531   -106    190    284       C  \nATOM   2427  OH  TYR D  94      13.801  11.934  -0.879  1.00 29.61           O  \nANISOU 2427  OH  TYR D  94     2599   4267   4385   -111    147    312       O  \nATOM   2428  N   TYR D  95      16.555   4.374   1.365  1.00 32.58           N  \nANISOU 2428  N   TYR D  95     2918   4968   4492    116    283    368       N  \nATOM   2429  CA  TYR D  95      17.343   3.232   1.775  1.00 33.28           C  \nANISOU 2429  CA  TYR D  95     3011   5090   4544    190    291    407       C  \nATOM   2430  C   TYR D  95      18.807   3.537   1.575  1.00 34.00           C  \nANISOU 2430  C   TYR D  95     3070   5322   4525    210    261    387       C  \nATOM   2431  O   TYR D  95      19.210   4.118   0.552  1.00 32.76           O  \nANISOU 2431  O   TYR D  95     2893   5209   4345    174    234    343       O  \nATOM   2432  CB  TYR D  95      17.053   2.031   0.891  1.00 33.32           C  \nANISOU 2432  CB  TYR D  95     3023   4996   4639    236    274    390       C  \nATOM   2433  CG  TYR D  95      15.693   1.395   1.024  1.00 35.72           C  \nANISOU 2433  CG  TYR D  95     3339   5149   5081    216    307    399       C  \nATOM   2434  CD1 TYR D  95      15.564   0.187   1.655  1.00 38.64           C  \nANISOU 2434  CD1 TYR D  95     3733   5429   5517    258    350    462       C  \nATOM   2435  CD2 TYR D  95      14.556   1.965   0.460  1.00 36.17           C  \nANISOU 2435  CD2 TYR D  95     3377   5151   5213    157    293    346       C  \nATOM   2436  CE1 TYR D  95      14.370  -0.426   1.749  1.00 40.63           C  \nANISOU 2436  CE1 TYR D  95     3985   5538   5913    220    393    467       C  \nATOM   2437  CE2 TYR D  95      13.301   1.320   0.569  1.00 37.00           C  \nANISOU 2437  CE2 TYR D  95     3466   5128   5461    131    325    335       C  \nATOM   2438  CZ  TYR D  95      13.245   0.154   1.215  1.00 38.10           C  \nANISOU 2438  CZ  TYR D  95     3626   5181   5669    151    382    394       C  \nATOM   2439  OH  TYR D  95      12.117  -0.567   1.347  1.00 39.79           O  \nANISOU 2439  OH  TYR D  95     3819   5260   6039    109    430    389       O  \nATOM   2440  N   CYS D  96      19.605   3.080   2.534  1.00 34.80           N  \nANISOU 2440  N   CYS D  96     3161   5505   4555    271    266    425       N  \nATOM   2441  CA  CYS D  96      21.029   2.976   2.350  1.00 35.33           C  \nANISOU 2441  CA  CYS D  96     3176   5709   4537    318    233    399       C  \nATOM   2442  C   CYS D  96      21.398   1.558   1.973  1.00 35.65           C  \nANISOU 2442  C   CYS D  96     3220   5707   4616    432    217    416       C  \nATOM   2443  O   CYS D  96      20.585   0.637   2.094  1.00 35.39           O  \nANISOU 2443  O   CYS D  96     3239   5528   4677    469    236    463       O  \nATOM   2444  CB  CYS D  96      21.795   3.488   3.570  1.00 36.94           C  \nANISOU 2444  CB  CYS D  96     3344   6061   4630    325    226    403       C  \nATOM   2445  SG  CYS D  96      21.552   2.660   5.224  1.00 43.68           S  \nANISOU 2445  SG  CYS D  96     4241   6930   5424    421    244    511       S  \nATOM   2446  N   GLY D  97      22.600   1.393   1.419  1.00 36.47           N  \nANISOU 2446  N   GLY D  97     3261   5926   4667    482    186    365       N  \nATOM   2447  CA  GLY D  97      23.044   0.100   0.951  1.00 37.42           C  \nANISOU 2447  CA  GLY D  97     3374   6008   4836    604    167    351       C  \nATOM   2448  C   GLY D  97      24.507   0.034   0.678  1.00 39.06           C  \nANISOU 2448  C   GLY D  97     3487   6388   4964    671    137    291       C  \nATOM   2449  O   GLY D  97      25.173   1.058   0.634  1.00 38.59           O  \nANISOU 2449  O   GLY D  97     3361   6481   4818    596    138    250       O  \nATOM   2450  N   ARG D  98      24.997  -1.196   0.481  1.00 40.10           N  \nANISOU 2450  N   ARG D  98     3605   6483   5144    813    114    278       N  \nATOM   2451  CA  ARG D  98      26.358  -1.473   0.102  1.00 41.22           C  \nANISOU 2451  CA  ARG D  98     3642   6784   5235    906     86    200       C  \nATOM   2452  C   ARG D  98      26.394  -2.122  -1.299  1.00 41.21           C  \nANISOU 2452  C   ARG D  98     3621   6741   5295    945     93     87       C  \nATOM   2453  O   ARG D  98      25.629  -3.072  -1.559  1.00 41.24           O  \nANISOU 2453  O   ARG D  98     3695   6552   5420    996     92     86       O  \nATOM   2454  CB  ARG D  98      26.941  -2.462   1.126  1.00 42.71           C  \nANISOU 2454  CB  ARG D  98     3828   6964   5434   1079     43    273       C  \nATOM   2455  CG  ARG D  98      28.378  -2.610   1.034  1.00 45.79           C  \nANISOU 2455  CG  ARG D  98     4088   7548   5761   1186      3    198       C  \nATOM   2456  CD  ARG D  98      28.971  -3.489   2.130  1.00 49.14           C  \nANISOU 2456  CD  ARG D  98     4508   7983   6179   1376    -58    288       C  \nATOM   2457  NE  ARG D  98      28.616  -4.882   1.948  1.00 50.00           N  \nANISOU 2457  NE  ARG D  98     4695   7868   6434   1518    -64    331       N  \nATOM   2458  CZ  ARG D  98      29.119  -5.884   2.663  1.00 53.02           C  \nANISOU 2458  CZ  ARG D  98     5089   8205   6849   1716   -117    419       C  \nATOM   2459  NH1 ARG D  98      30.020  -5.657   3.617  1.00 55.07           N  \nANISOU 2459  NH1 ARG D  98     5277   8663   6981   1808   -180    469       N  \nATOM   2460  NH2 ARG D  98      28.721  -7.123   2.412  1.00 53.84           N  \nANISOU 2460  NH2 ARG D  98     5273   8061   7121   1826   -112    454       N  \nATOM   2461  N   THR D  99      27.266  -1.641  -2.181  1.00 40.00           N  \nANISOU 2461  N   THR D  99     3367   6769   5059    916    107    -14       N  \nATOM   2462  CA  THR D  99      27.491  -2.313  -3.473  1.00 40.86           C  \nANISOU 2462  CA  THR D  99     3439   6893   5193    978    115   -143       C  \nATOM   2463  C   THR D  99      28.996  -2.477  -3.695  1.00 42.68           C  \nANISOU 2463  C   THR D  99     3523   7337   5355   1070    114   -235       C  \nATOM   2464  O   THR D  99      29.808  -1.846  -3.009  1.00 40.64           O  \nANISOU 2464  O   THR D  99     3185   7232   5024   1047    109   -205       O  \nATOM   2465  CB  THR D  99      26.928  -1.529  -4.653  1.00 39.77           C  \nANISOU 2465  CB  THR D  99     3319   6794   4995    841    152   -188       C  \nATOM   2466  OG1 THR D  99      27.521  -0.224  -4.693  1.00 38.55           O  \nANISOU 2466  OG1 THR D  99     3105   6818   4722    714    188   -161       O  \nATOM   2467  CG2 THR D  99      25.355  -1.426  -4.551  1.00 37.21           C  \nANISOU 2467  CG2 THR D  99     3120   6262   4753    764    143   -122       C  \nATOM   2468  N   GLY D 100      29.350  -3.307  -4.672  1.00 44.44           N  \nANISOU 2468  N   GLY D 100     3697   7580   5606   1172    118   -368       N  \nATOM   2469  CA  GLY D 100      30.754  -3.587  -4.955  1.00 47.08           C  \nANISOU 2469  CA  GLY D 100     3875   8121   5892   1280    123   -480       C  \nATOM   2470  C   GLY D 100      31.298  -2.421  -5.750  1.00 48.19           C  \nANISOU 2470  C   GLY D 100     3923   8502   5884   1126    194   -526       C  \nATOM   2471  O   GLY D 100      30.633  -1.923  -6.653  1.00 46.93           O  \nANISOU 2471  O   GLY D 100     3821   8336   5673   1008    236   -532       O  \nATOM   2472  N   VAL D 101      32.495  -1.964  -5.402  1.00 50.70           N  \nANISOU 2472  N   VAL D 101     4093   9033   6135   1123    207   -550       N  \nATOM   2473  CA  VAL D 101      33.172  -0.927  -6.168  1.00 52.13           C  \nANISOU 2473  CA  VAL D 101     4165   9449   6193    973    293   -595       C  \nATOM   2474  C   VAL D 101      33.857  -1.565  -7.334  1.00 54.90           C  \nANISOU 2474  C   VAL D 101     4406   9953   6500   1065    342   -757       C  \nATOM   2475  O   VAL D 101      33.707  -1.093  -8.449  1.00 56.87           O  \nANISOU 2475  O   VAL D 101     4659  10297   6651    958    419   -787       O  \nATOM   2476  CB  VAL D 101      34.172  -0.097  -5.309  1.00 53.37           C  \nANISOU 2476  CB  VAL D 101     4188   9780   6311    902    295   -574       C  \nATOM   2477  CG1 VAL D 101      35.370   0.349  -6.133  1.00 55.10           C  \nANISOU 2477  CG1 VAL D 101     4215  10279   6441    837    386   -685       C  \nATOM   2478  CG2 VAL D 101      33.476   1.093  -4.727  1.00 49.29           C  \nANISOU 2478  CG2 VAL D 101     3768   9175   5784    712    302   -446       C  \nATOM   2479  N   TYR D 102      34.543  -2.669  -7.112  1.00 57.49           N  \nANISOU 2479  N   TYR D 102     4644  10300   6898   1275    295   -861       N  \nATOM   2480  CA  TYR D 102      35.293  -3.351  -8.144  1.00 59.63           C  \nANISOU 2480  CA  TYR D 102     4786  10729   7139   1391    339  -1049       C  \nATOM   2481  C   TYR D 102      34.501  -4.521  -8.647  1.00 60.66           C  \nANISOU 2481  C   TYR D 102     5027  10651   7367   1529    299  -1129       C  \nATOM   2482  O   TYR D 102      33.784  -5.144  -7.917  1.00 59.43           O  \nANISOU 2482  O   TYR D 102     4995  10237   7346   1607    221  -1053       O  \nATOM   2483  CB  TYR D 102      36.708  -3.792  -7.674  1.00 61.60           C  \nANISOU 2483  CB  TYR D 102     4827  11162   7414   1550    316  -1151       C  \nATOM   2484  CG  TYR D 102      37.508  -2.655  -7.124  1.00 61.62           C  \nANISOU 2484  CG  TYR D 102     4699  11374   7338   1404    348  -1098       C  \nATOM   2485  CD1 TYR D 102      37.967  -1.662  -7.939  1.00 61.63           C  \nANISOU 2485  CD1 TYR D 102     4601  11600   7216   1211    471  -1128       C  \nATOM   2486  CD2 TYR D 102      37.736  -2.537  -5.782  1.00 59.80           C  \nANISOU 2486  CD2 TYR D 102     4453  11109   7157   1444    257  -1010       C  \nATOM   2487  CE1 TYR D 102      38.648  -0.601  -7.428  1.00 61.17           C  \nANISOU 2487  CE1 TYR D 102     4423  11700   7116   1054    504  -1087       C  \nATOM   2488  CE2 TYR D 102      38.417  -1.489  -5.282  1.00 60.48           C  \nANISOU 2488  CE2 TYR D 102     4415  11380   7184   1300    279   -990       C  \nATOM   2489  CZ  TYR D 102      38.859  -0.526  -6.095  1.00 58.98           C  \nANISOU 2489  CZ  TYR D 102     4123  11382   6903   1099    402  -1033       C  \nATOM   2490  OH  TYR D 102      39.512   0.517  -5.566  1.00 57.01           O  \nANISOU 2490  OH  TYR D 102     3748  11287   6624    940    425  -1021       O  \nATOM   2491  N   ARG D 103      34.670  -4.756  -9.925  1.00 62.95           N  \nANISOU 2491  N   ARG D 103     5261  11074   7580   1545    363  -1289       N  \nATOM   2492  CA  ARG D 103      33.948  -5.822 -10.586  1.00 63.85           C  \nANISOU 2492  CA  ARG D 103     5460  11019   7779   1661    329  -1416       C  \nATOM   2493  C   ARG D 103      34.285  -7.170 -10.048  1.00 65.11           C  \nANISOU 2493  C   ARG D 103     5593  11013   8131   1906    252  -1505       C  \nATOM   2494  O   ARG D 103      33.440  -8.021  -9.973  1.00 66.16           O  \nANISOU 2494  O   ARG D 103     5848  10873   8414   1981    195  -1522       O  \nATOM   2495  CB  ARG D 103      34.124  -5.769 -12.092  1.00 65.14           C  \nANISOU 2495  CB  ARG D 103     5556  11404   7787   1634    413  -1592       C  \nATOM   2496  CG  ARG D 103      33.272  -4.721 -12.696  1.00 63.99           C  \nANISOU 2496  CG  ARG D 103     5518  11302   7492   1422    457  -1479       C  \nATOM   2497  CD  ARG D 103      33.292  -4.752 -14.164  1.00 63.82           C  \nANISOU 2497  CD  ARG D 103     5457  11491   7299   1411    526  -1636       C  \nATOM   2498  NE  ARG D 103      33.074  -3.440 -14.703  1.00 58.67           N  \nANISOU 2498  NE  ARG D 103     4843  11000   6447   1202    603  -1489       N  \nATOM   2499  CZ  ARG D 103      34.040  -2.600 -14.980  1.00 61.26           C  \nANISOU 2499  CZ  ARG D 103     5050  11597   6626   1099    717  -1446       C  \nATOM   2500  NH1 ARG D 103      35.290  -2.952 -14.787  1.00 60.09           N  \nANISOU 2500  NH1 ARG D 103     4719  11613   6500   1190    762  -1561       N  \nATOM   2501  NH2 ARG D 103      33.760  -1.421 -15.462  1.00 61.91           N  \nANISOU 2501  NH2 ARG D 103     5191  11781   6549    907    786  -1288       N  \nATOM   2502  N   TYR D 104      35.533  -7.379  -9.703  1.00 64.91           N  \nANISOU 2502  N   TYR D 104     5401  11150   8111   2034    251  -1567       N  \nATOM   2503  CA  TYR D 104      35.907  -8.619  -9.096  1.00 66.53           C  \nANISOU 2503  CA  TYR D 104     5584  11189   8506   2288    166  -1622       C  \nATOM   2504  C   TYR D 104      36.658  -8.305  -7.814  1.00 66.05           C  \nANISOU 2504  C   TYR D 104     5450  11192   8451   2334    112  -1478       C  \nATOM   2505  O   TYR D 104      37.410  -7.380  -7.783  1.00 65.85           O  \nANISOU 2505  O   TYR D 104     5290  11439   8289   2229    159  -1470       O  \nATOM   2506  CB  TYR D 104      36.777  -9.436 -10.032  1.00 69.54           C  \nANISOU 2506  CB  TYR D 104     5803  11715   8903   2471    197  -1896       C  \nATOM   2507  CG  TYR D 104      37.273 -10.653  -9.342  1.00 73.07           C  \nANISOU 2507  CG  TYR D 104     6217  11986   9560   2752    103  -1939       C  \nATOM   2508  CD1 TYR D 104      36.652 -11.859  -9.507  1.00 76.73           C  \nANISOU 2508  CD1 TYR D 104     6790  12133  10227   2901     51  -2023       C  \nATOM   2509  CD2 TYR D 104      38.306 -10.573  -8.454  1.00 74.80           C  \nANISOU 2509  CD2 TYR D 104     6303  12332   9784   2865     56  -1877       C  \nATOM   2510  CE1 TYR D 104      37.078 -12.952  -8.848  1.00 79.23           C  \nANISOU 2510  CE1 TYR D 104     7095  12255  10752   3160    -33  -2031       C  \nATOM   2511  CE2 TYR D 104      38.720 -11.648  -7.786  1.00 78.45           C  \nANISOU 2511  CE2 TYR D 104     6748  12627  10430   3134    -40  -1883       C  \nATOM   2512  CZ  TYR D 104      38.111 -12.842  -7.984  1.00 81.09           C  \nANISOU 2512  CZ  TYR D 104     7205  12631  10972   3285    -82  -1949       C  \nATOM   2513  OH  TYR D 104      38.546 -13.949  -7.300  1.00 85.86           O  \nANISOU 2513  OH  TYR D 104     7805  13036  11782   3569   -180  -1934       O  \nATOM   2514  N   PRO D 105      36.434  -9.034  -6.736  1.00 65.87           N  \nANISOU 2514  N   PRO D 105     5518  10927   8582   2481     13  -1356       N  \nATOM   2515  CA  PRO D 105      35.483 -10.127  -6.654  1.00 65.75           C  \nANISOU 2515  CA  PRO D 105     5674  10547   8760   2584    -34  -1335       C  \nATOM   2516  C   PRO D 105      34.045  -9.619  -6.702  1.00 63.06           C  \nANISOU 2516  C   PRO D 105     5525  10029   8405   2365     -8  -1209       C  \nATOM   2517  O   PRO D 105      33.797  -8.478  -6.433  1.00 60.37           O  \nANISOU 2517  O   PRO D 105     5206   9801   7928   2172     21  -1086       O  \nATOM   2518  CB  PRO D 105      35.776 -10.733  -5.288  1.00 66.85           C  \nANISOU 2518  CB  PRO D 105     5847  10535   9015   2767   -134  -1170       C  \nATOM   2519  CG  PRO D 105      36.504  -9.754  -4.592  1.00 65.97           C  \nANISOU 2519  CG  PRO D 105     5627  10689   8748   2699   -144  -1079       C  \nATOM   2520  CD  PRO D 105      37.258  -8.962  -5.539  1.00 66.36           C  \nANISOU 2520  CD  PRO D 105     5495  11073   8645   2589    -60  -1249       C  \nATOM   2521  N   GLU D 106      33.135 -10.496  -7.065  1.00 62.66           N  \nANISOU 2521  N   GLU D 106     5596   9698   8513   2405    -22  -1262       N  \nATOM   2522  CA  GLU D 106      31.774 -10.135  -7.314  1.00 61.19           C  \nANISOU 2522  CA  GLU D 106     5558   9361   8329   2215      0  -1198       C  \nATOM   2523  C   GLU D 106      31.013  -9.899  -6.042  1.00 58.81           C  \nANISOU 2523  C   GLU D 106     5396   8867   8081   2142    -29   -937       C  \nATOM   2524  O   GLU D 106      30.841 -10.803  -5.279  1.00 59.65           O  \nANISOU 2524  O   GLU D 106     5577   8729   8355   2269    -74   -847       O  \nATOM   2525  CB  GLU D 106      31.123 -11.310  -7.993  1.00 62.76           C  \nANISOU 2525  CB  GLU D 106     5820   9306   8718   2302    -16  -1360       C  \nATOM   2526  CG  GLU D 106      30.179 -10.969  -9.053  1.00 64.33           C  \nANISOU 2526  CG  GLU D 106     6063   9523   8853   2144     16  -1471       C  \nATOM   2527  CD  GLU D 106      30.757 -11.180 -10.409  1.00 67.73           C  \nANISOU 2527  CD  GLU D 106     6371  10168   9192   2206     49  -1752       C  \nATOM   2528  OE1 GLU D 106      30.646 -12.284 -10.926  1.00 69.28           O  \nANISOU 2528  OE1 GLU D 106     6563  10209   9548   2337     24  -1953       O  \nATOM   2529  OE2 GLU D 106      31.307 -10.232 -10.955  1.00 72.04           O  \nANISOU 2529  OE2 GLU D 106     6826  11036   9509   2117    105  -1773       O  \nATOM   2530  N   ARG D 107      30.480  -8.701  -5.879  1.00 55.10           N  \nANISOU 2530  N   ARG D 107     4969   8494   7471   1933      2   -820       N  \nATOM   2531  CA  ARG D 107      29.689  -8.354  -4.707  1.00 53.67           C  \nANISOU 2531  CA  ARG D 107     4912   8163   7317   1846    -12   -592       C  \nATOM   2532  C   ARG D 107      28.183  -8.193  -4.977  1.00 51.20           C  \nANISOU 2532  C   ARG D 107     4729   7659   7063   1688     10   -556       C  \nATOM   2533  O   ARG D 107      27.764  -7.788  -6.022  1.00 48.18           O  \nANISOU 2533  O   ARG D 107     4336   7348   6619   1586     35   -669       O  \nATOM   2534  CB  ARG D 107      30.211  -7.091  -4.054  1.00 52.94           C  \nANISOU 2534  CB  ARG D 107     4763   8304   7046   1741     -2   -482       C  \nATOM   2535  CG  ARG D 107      31.683  -7.015  -3.908  1.00 55.70           C  \nANISOU 2535  CG  ARG D 107     4948   8898   7315   1854    -20   -544       C  \nATOM   2536  CD  ARG D 107      32.217  -8.078  -2.994  1.00 60.66           C  \nANISOU 2536  CD  ARG D 107     5573   9420   8053   2085    -93   -483       C  \nATOM   2537  NE  ARG D 107      33.575  -7.765  -2.597  1.00 63.03           N  \nANISOU 2537  NE  ARG D 107     5704   9990   8253   2175   -127   -514       N  \nATOM   2538  CZ  ARG D 107      34.299  -8.504  -1.778  1.00 68.85           C  \nANISOU 2538  CZ  ARG D 107     6398  10719   9043   2394   -206   -464       C  \nATOM   2539  NH1 ARG D 107      33.807  -9.607  -1.280  1.00 71.08           N  \nANISOU 2539  NH1 ARG D 107     6809  10715   9482   2543   -249   -360       N  \nATOM   2540  NH2 ARG D 107      35.521  -8.132  -1.466  1.00 68.61           N  \nANISOU 2540  NH2 ARG D 107     6189  10966   8913   2463   -243   -515       N  \nATOM   2541  N   ALA D 108      27.398  -8.545  -3.986  1.00 50.45           N  \nANISOU 2541  N   ALA D 108     4750   7334   7082   1680      0   -391       N  \nATOM   2542  CA  ALA D 108      25.975  -8.463  -4.077  1.00 49.70           C  \nANISOU 2542  CA  ALA D 108     4760   7054   7067   1540     21   -352       C  \nATOM   2543  C   ALA D 108      25.481  -7.222  -3.408  1.00 47.86           C  \nANISOU 2543  C   ALA D 108     4565   6911   6708   1379     44   -200       C  \nATOM   2544  O   ALA D 108      25.808  -6.976  -2.284  1.00 50.19           O  \nANISOU 2544  O   ALA D 108     4873   7241   6954   1402     39    -51       O  \nATOM   2545  CB  ALA D 108      25.395  -9.600  -3.414  1.00 50.35           C  \nANISOU 2545  CB  ALA D 108     4937   6829   7363   1614     16   -265       C  \nATOM   2546  N   PRO D 109      24.665  -6.445  -4.091  1.00 46.01           N  \nANISOU 2546  N   PRO D 109     4345   6713   6421   1226     63   -244       N  \nATOM   2547  CA  PRO D 109      24.039  -5.303  -3.432  1.00 44.25           C  \nANISOU 2547  CA  PRO D 109     4165   6529   6115   1079     85   -109       C  \nATOM   2548  C   PRO D 109      23.187  -5.707  -2.226  1.00 43.70           C  \nANISOU 2548  C   PRO D 109     4190   6254   6159   1069    101     48       C  \nATOM   2549  O   PRO D 109      22.465  -6.680  -2.289  1.00 44.96           O  \nANISOU 2549  O   PRO D 109     4402   6191   6489   1093    107     38       O  \nATOM   2550  CB  PRO D 109      23.138  -4.732  -4.513  1.00 43.32           C  \nANISOU 2550  CB  PRO D 109     4057   6425   5975    956     90   -197       C  \nATOM   2551  CG  PRO D 109      23.658  -5.224  -5.782  1.00 44.90           C  \nANISOU 2551  CG  PRO D 109     4195   6709   6155   1024     75   -379       C  \nATOM   2552  CD  PRO D 109      24.262  -6.548  -5.506  1.00 45.94           C  \nANISOU 2552  CD  PRO D 109     4313   6725   6417   1189     59   -426       C  \nATOM   2553  N   TYR D 110      23.285  -4.948  -1.146  1.00 42.87           N  \nANISOU 2553  N   TYR D 110     4101   6232   5956   1026    114    185       N  \nATOM   2554  CA  TYR D 110      22.641  -5.244   0.123  1.00 42.25           C  \nANISOU 2554  CA  TYR D 110     4102   6016   5932   1024    141    352       C  \nATOM   2555  C   TYR D 110      22.055  -3.952   0.714  1.00 40.69           C  \nANISOU 2555  C   TYR D 110     3919   5911   5629    883    170    417       C  \nATOM   2556  O   TYR D 110      22.779  -3.011   0.945  1.00 39.60           O  \nANISOU 2556  O   TYR D 110     3729   5967   5348    859    155    410       O  \nATOM   2557  CB  TYR D 110      23.669  -5.823   1.083  1.00 44.49           C  \nANISOU 2557  CB  TYR D 110     4381   6344   6176   1180    115    453       C  \nATOM   2558  CG  TYR D 110      23.070  -6.189   2.424  1.00 47.68           C  \nANISOU 2558  CG  TYR D 110     4878   6630   6606   1192    150    650       C  \nATOM   2559  CD1 TYR D 110      23.200  -5.334   3.526  1.00 49.07           C  \nANISOU 2559  CD1 TYR D 110     5057   6968   6619   1157    155    753       C  \nATOM   2560  CD2 TYR D 110      22.342  -7.364   2.586  1.00 50.55           C  \nANISOU 2560  CD2 TYR D 110     5326   6723   7156   1228    186    729       C  \nATOM   2561  CE1 TYR D 110      22.629  -5.635   4.757  1.00 51.16           C  \nANISOU 2561  CE1 TYR D 110     5407   7160   6872   1167    199    936       C  \nATOM   2562  CE2 TYR D 110      21.762  -7.674   3.832  1.00 54.02           C  \nANISOU 2562  CE2 TYR D 110     5855   7066   7604   1225    239    936       C  \nATOM   2563  CZ  TYR D 110      21.929  -6.798   4.908  1.00 53.75           C  \nANISOU 2563  CZ  TYR D 110     5821   7229   7370   1200    245   1040       C  \nATOM   2564  OH  TYR D 110      21.391  -7.083   6.132  1.00 57.51           O  \nANISOU 2564  OH  TYR D 110     6382   7648   7818   1203    305   1243       O  \nATOM   2565  N   TRP D 111      20.761  -3.966   1.021  1.00 40.66           N  \nANISOU 2565  N   TRP D 111     3976   5758   5714    795    214    473       N  \nATOM   2566  CA  TRP D 111      20.012  -2.745   1.370  1.00 40.08           C  \nANISOU 2566  CA  TRP D 111     3908   5746   5573    662    242    496       C  \nATOM   2567  C   TRP D 111      19.575  -2.755   2.813  1.00 39.90           C  \nANISOU 2567  C   TRP D 111     3936   5697   5525    655    293    643       C  \nATOM   2568  O   TRP D 111      19.434  -3.814   3.426  1.00 40.88           O  \nANISOU 2568  O   TRP D 111     4112   5696   5724    724    322    749       O  \nATOM   2569  CB  TRP D 111      18.822  -2.581   0.426  1.00 39.29           C  \nANISOU 2569  CB  TRP D 111     3809   5539   5578    565    248    410       C  \nATOM   2570  CG  TRP D 111      19.266  -2.586  -0.970  1.00 39.17           C  \nANISOU 2570  CG  TRP D 111     3749   5582   5549    582    199    272       C  \nATOM   2571  CD1 TRP D 111      19.159  -3.630  -1.855  1.00 43.52           C  \nANISOU 2571  CD1 TRP D 111     4293   6028   6213    635    178    171       C  \nATOM   2572  CD2 TRP D 111      20.010  -1.570  -1.642  1.00 37.29           C  \nANISOU 2572  CD2 TRP D 111     3464   5532   5171    553    173    214       C  \nATOM   2573  NE1 TRP D 111      19.752  -3.301  -3.057  1.00 41.42           N  \nANISOU 2573  NE1 TRP D 111     3977   5900   5860    646    138     48       N  \nATOM   2574  CE2 TRP D 111      20.265  -2.034  -2.959  1.00 38.75           C  \nANISOU 2574  CE2 TRP D 111     3616   5739   5366    591    141     88       C  \nATOM   2575  CE3 TRP D 111      20.449  -0.296  -1.283  1.00 36.77           C  \nANISOU 2575  CE3 TRP D 111     3378   5612   4980    489    179    250       C  \nATOM   2576  CZ2 TRP D 111      20.972  -1.284  -3.896  1.00 37.95           C  \nANISOU 2576  CZ2 TRP D 111     3467   5817   5133    568    127     24       C  \nATOM   2577  CZ3 TRP D 111      21.150   0.473  -2.234  1.00 37.11           C  \nANISOU 2577  CZ3 TRP D 111     3374   5803   4921    455    164    187       C  \nATOM   2578  CH2 TRP D 111      21.411  -0.035  -3.523  1.00 37.86           C  \nANISOU 2578  CH2 TRP D 111     3442   5933   5010    495    144     87       C  \nATOM   2579  N   GLY D 112      19.465  -1.563   3.374  1.00 38.87           N  \nANISOU 2579  N   GLY D 112     3790   5696   5280    579    304    650       N  \nATOM   2580  CA  GLY D 112      18.907  -1.356   4.680  1.00 39.85           C  \nANISOU 2580  CA  GLY D 112     3953   5832   5356    554    361    757       C  \nATOM   2581  C   GLY D 112      17.410  -1.574   4.690  1.00 40.27           C  \nANISOU 2581  C   GLY D 112     4037   5718   5544    468    431    780       C  \nATOM   2582  O   GLY D 112      16.828  -2.093   3.728  1.00 40.67           O  \nANISOU 2582  O   GLY D 112     4082   5626   5744    442    425    717       O  \nATOM   2583  N  AGLN D 113      16.780  -1.142   5.773  0.50 40.80           N  \nANISOU 2583  N  AGLN D 113     4121   5824   5555    422    496    849       N  \nATOM   2584  N  BGLN D 113      16.828  -1.237   5.819  0.50 40.90           N  \nANISOU 2584  N  BGLN D 113     4138   5835   5567    431    497    859       N  \nATOM   2585  CA AGLN D 113      15.378  -1.368   6.000  0.50 41.49           C  \nANISOU 2585  CA AGLN D 113     4220   5779   5762    341    581    881       C  \nATOM   2586  CA BGLN D 113      15.417  -1.273   6.117  0.50 41.48           C  \nANISOU 2586  CA BGLN D 113     4219   5798   5741    342    583    885       C  \nATOM   2587  C  AGLN D 113      14.527  -0.290   5.364  0.50 38.46           C  \nANISOU 2587  C  AGLN D 113     3783   5401   5428    241    571    752       C  \nATOM   2588  C  BGLN D 113      14.566  -0.300   5.366  0.50 38.46           C  \nANISOU 2588  C  BGLN D 113     3785   5403   5425    244    570    753       C  \nATOM   2589  O  AGLN D 113      13.334  -0.449   5.207  0.50 36.17           O  \nANISOU 2589  O  AGLN D 113     3474   5000   5269    173    621    733       O  \nATOM   2590  O  BGLN D 113      13.445  -0.557   5.105  0.50 36.18           O  \nANISOU 2590  O  BGLN D 113     3478   4993   5274    182    612    732       O  \nATOM   2591  CB AGLN D 113      15.086  -1.356   7.521  0.50 44.22           C  \nANISOU 2591  CB AGLN D 113     4601   6199   5999    342    671   1014       C  \nATOM   2592  CB BGLN D 113      15.212  -0.931   7.575  0.50 43.90           C  \nANISOU 2592  CB BGLN D 113     4548   6217   5913    336    657    984       C  \nATOM   2593  CG AGLN D 113      15.948  -2.340   8.386  0.50 51.63           C  \nANISOU 2593  CG AGLN D 113     5605   7164   6846    463    678   1185       C  \nATOM   2594  CG BGLN D 113      14.959  -2.065   8.481  0.50 51.50           C  \nANISOU 2594  CG BGLN D 113     5574   7103   6888    375    743   1166       C  \nATOM   2595  CD AGLN D 113      17.472  -1.948   8.528  0.50 58.36           C  \nANISOU 2595  CD AGLN D 113     6437   8212   7521    569    573   1156       C  \nATOM   2596  CD BGLN D 113      14.236  -1.619   9.756  0.50 59.21           C  \nANISOU 2596  CD BGLN D 113     6559   8184   7754    327    850   1238       C  \nATOM   2597  OE1AGLN D 113      17.892  -0.791   8.272  0.50 59.70           O  \nANISOU 2597  OE1AGLN D 113     6548   8526   7608    530    518   1022       O  \nATOM   2598  OE1BGLN D 113      14.572  -0.600  10.342  0.50 61.36           O  \nANISOU 2598  OE1BGLN D 113     6805   8651   7855    331    829   1179       O  \nATOM   2599  NE2AGLN D 113      18.290  -2.933   8.917  0.50 61.93           N  \nANISOU 2599  NE2AGLN D 113     6933   8660   7936    701    546   1282       N  \nATOM   2600  NE2BGLN D 113      13.214  -2.357  10.143  0.50 62.65           N  \nANISOU 2600  NE2BGLN D 113     7018   8489   8295    272    970   1347       N  \nATOM   2601  N   GLY D 114      15.099   0.877   5.148  1.00 37.46           N  \nANISOU 2601  N   GLY D 114     3628   5407   5196    231    514    672       N  \nATOM   2602  CA  GLY D 114      14.343   1.973   4.585  1.00 35.41           C  \nANISOU 2602  CA  GLY D 114     3330   5141   4983    154    498    570       C  \nATOM   2603  C   GLY D 114      13.680   2.805   5.651  1.00 36.25           C  \nANISOU 2603  C   GLY D 114     3422   5306   5045    110    562    568       C  \nATOM   2604  O   GLY D 114      13.222   2.276   6.666  1.00 35.51           O  \nANISOU 2604  O   GLY D 114     3344   5210   4936    111    647    649       O  \nATOM   2605  N   THR D 115      13.574   4.111   5.380  1.00 34.12           N  \nANISOU 2605  N   THR D 115     3122   5078   4762     70    527    475       N  \nATOM   2606  CA  THR D 115      12.888   5.030   6.261  1.00 35.03           C  \nANISOU 2606  CA  THR D 115     3213   5238   4858     33    580    431       C  \nATOM   2607  C   THR D 115      12.085   6.021   5.435  1.00 33.80           C  \nANISOU 2607  C   THR D 115     3020   5006   4813     -5    541    336       C  \nATOM   2608  O   THR D 115      12.586   6.545   4.452  1.00 32.65           O  \nANISOU 2608  O   THR D 115     2881   4845   4676     -8    463    304       O  \nATOM   2609  CB  THR D 115      13.887   5.755   7.217  1.00 35.15           C  \nANISOU 2609  CB  THR D 115     3233   5411   4708     47    574    408       C  \nATOM   2610  OG1 THR D 115      13.160   6.541   8.191  1.00 36.27           O  \nANISOU 2610  OG1 THR D 115     3349   5605   4827     20    636    346       O  \nATOM   2611  CG2 THR D 115      14.806   6.606   6.439  1.00 35.65           C  \nANISOU 2611  CG2 THR D 115     3288   5500   4757     30    490    342       C  \nATOM   2612  N   LEU D 116      10.815   6.232   5.797  1.00 33.28           N  \nANISOU 2612  N   LEU D 116     2911   4897   4836    -30    598    299       N  \nATOM   2613  CA  LEU D 116       9.945   7.104   5.030  1.00 33.44           C  \nANISOU 2613  CA  LEU D 116     2888   4841   4975    -43    551    214       C  \nATOM   2614  C   LEU D 116      10.252   8.561   5.378  1.00 33.70           C  \nANISOU 2614  C   LEU D 116     2922   4913   4970    -47    531    139       C  \nATOM   2615  O   LEU D 116      10.436   8.884   6.529  1.00 35.04           O  \nANISOU 2615  O   LEU D 116     3086   5168   5056    -52    590    110       O  \nATOM   2616  CB  LEU D 116       8.461   6.795   5.321  1.00 35.09           C  \nANISOU 2616  CB  LEU D 116     3026   4998   5309    -61    621    184       C  \nATOM   2617  CG  LEU D 116       7.377   7.618   4.603  1.00 36.04           C  \nANISOU 2617  CG  LEU D 116     3077   5047   5567    -53    567     90       C  \nATOM   2618  CD1 LEU D 116       7.439   7.572   3.088  1.00 34.28           C  \nANISOU 2618  CD1 LEU D 116     2864   4759   5399    -31    445     88       C  \nATOM   2619  CD2 LEU D 116       6.003   7.140   5.118  1.00 36.70           C  \nANISOU 2619  CD2 LEU D 116     3066   5113   5765    -80    660     54       C  \nATOM   2620  N   VAL D 117      10.379   9.422   4.369  1.00 33.37           N  \nANISOU 2620  N   VAL D 117     2890   4808   4980    -46    445    110       N  \nATOM   2621  CA  VAL D 117      10.458  10.850   4.599  1.00 33.18           C  \nANISOU 2621  CA  VAL D 117     2865   4764   4978    -55    427     35       C  \nATOM   2622  C   VAL D 117       9.341  11.530   3.784  1.00 33.59           C  \nANISOU 2622  C   VAL D 117     2885   4697   5179    -26    374      0       C  \nATOM   2623  O   VAL D 117       9.253  11.359   2.566  1.00 32.61           O  \nANISOU 2623  O   VAL D 117     2778   4523   5090     -9    298     49       O  \nATOM   2624  CB  VAL D 117      11.834  11.439   4.266  1.00 33.29           C  \nANISOU 2624  CB  VAL D 117     2926   4805   4916    -85    380     52       C  \nATOM   2625  CG1 VAL D 117      11.805  12.974   4.486  1.00 34.22           C  \nANISOU 2625  CG1 VAL D 117     3041   4856   5102   -107    367    -34       C  \nATOM   2626  CG2 VAL D 117      12.980  10.829   5.139  1.00 33.21           C  \nANISOU 2626  CG2 VAL D 117     2925   4936   4754    -97    417     70       C  \nATOM   2627  N   THR D 118       8.485  12.282   4.471  1.00 33.89           N  \nANISOU 2627  N   THR D 118     2873   4706   5297     -9    411    -94       N  \nATOM   2628  CA  THR D 118       7.444  13.051   3.844  1.00 33.48           C  \nANISOU 2628  CA  THR D 118     2781   4544   5393     39    354   -139       C  \nATOM   2629  C   THR D 118       7.941  14.482   3.707  1.00 34.10           C  \nANISOU 2629  C   THR D 118     2906   4536   5513     42    308   -169       C  \nATOM   2630  O   THR D 118       8.476  15.064   4.675  1.00 33.75           O  \nANISOU 2630  O   THR D 118     2869   4522   5433     10    358   -246       O  \nATOM   2631  CB  THR D 118       6.130  13.012   4.695  1.00 34.95           C  \nANISOU 2631  CB  THR D 118     2864   4748   5666     66    430   -240       C  \nATOM   2632  OG1 THR D 118       5.662  11.656   4.761  1.00 32.52           O  \nANISOU 2632  OG1 THR D 118     2513   4497   5344     43    483   -197       O  \nATOM   2633  CG2 THR D 118       5.031  13.913   4.097  1.00 32.55           C  \nANISOU 2633  CG2 THR D 118     2500   4334   5532    141    360   -306       C  \nATOM   2634  N   VAL D 119       7.730  15.052   2.526  1.00 32.93           N  \nANISOU 2634  N   VAL D 119     2787   4280   5445     80    212   -113       N  \nATOM   2635  CA  VAL D 119       8.003  16.476   2.339  1.00 34.45           C  \nANISOU 2635  CA  VAL D 119     3026   4341   5720     87    172   -125       C  \nATOM   2636  C   VAL D 119       6.671  17.160   2.225  1.00 35.77           C  \nANISOU 2636  C   VAL D 119     3136   4400   6055    184    131   -190       C  \nATOM   2637  O   VAL D 119       5.913  16.935   1.281  1.00 34.85           O  \nANISOU 2637  O   VAL D 119     2996   4257   5985    252     52   -134       O  \nATOM   2638  CB  VAL D 119       8.900  16.717   1.121  1.00 34.97           C  \nANISOU 2638  CB  VAL D 119     3183   4364   5739     59    103     16       C  \nATOM   2639  CG1 VAL D 119       9.042  18.211   0.850  1.00 35.80           C  \nANISOU 2639  CG1 VAL D 119     3342   4294   5964     63     67     30       C  \nATOM   2640  CG2 VAL D 119      10.274  16.034   1.371  1.00 33.03           C  \nANISOU 2640  CG2 VAL D 119     2969   4246   5335    -31    153     50       C  \nATOM   2641  N   SER D 120       6.390  17.995   3.218  1.00 37.01           N  \nANISOU 2641  N   SER D 120     3255   4506   6297    198    181   -327       N  \nATOM   2642  CA  SER D 120       5.158  18.693   3.271  1.00 38.32           C  \nANISOU 2642  CA  SER D 120     3350   4574   6635    301    153   -419       C  \nATOM   2643  C   SER D 120       5.238  19.886   4.205  1.00 40.25           C  \nANISOU 2643  C   SER D 120     3588   4724   6979    308    195   -571       C  \nATOM   2644  O   SER D 120       6.070  19.954   5.115  1.00 40.46           O  \nANISOU 2644  O   SER D 120     3633   4819   6919    227    268   -647       O  \nATOM   2645  CB  SER D 120       4.090  17.734   3.710  1.00 38.77           C  \nANISOU 2645  CB  SER D 120     3286   4756   6688    330    206   -487       C  \nATOM   2646  OG  SER D 120       2.965  18.398   4.145  1.00 35.96           O  \nANISOU 2646  OG  SER D 120     2830   4347   6486    420    215   -626       O  \nATOM   2647  N   ALA D 121       4.352  20.816   3.950  1.00 41.34           N  \nANISOU 2647  N   ALA D 121     3694   4708   7305    417    138   -626       N  \nATOM   2648  CA  ALA D 121       4.242  22.025   4.759  1.00 43.60           C  \nANISOU 2648  CA  ALA D 121     3962   4869   7733    449    168   -800       C  \nATOM   2649  C   ALA D 121       3.244  21.794   5.915  1.00 44.70           C  \nANISOU 2649  C   ALA D 121     3957   5135   7891    500    263  -1006       C  \nATOM   2650  O   ALA D 121       3.176  22.619   6.813  1.00 45.23           O  \nANISOU 2650  O   ALA D 121     3990   5157   8036    519    313  -1196       O  \nATOM   2651  CB  ALA D 121       3.767  23.143   3.906  1.00 45.96           C  \nANISOU 2651  CB  ALA D 121     4300   4922   8241    560     59   -750       C  \nATOM   2652  N   ALA D 122       2.524  20.670   5.930  1.00 46.10           N  \nANISOU 2652  N   ALA D 122     4437   4929   8147   -225    795    586       N  \nATOM   2653  CA  ALA D 122       1.508  20.451   6.969  1.00 46.71           C  \nANISOU 2653  CA  ALA D 122     4470   4991   8286    -92    748    438       C  \nATOM   2654  C   ALA D 122       2.143  20.081   8.334  1.00 47.44           C  \nANISOU 2654  C   ALA D 122     4501   5233   8289   -132    776     35       C  \nATOM   2655  O   ALA D 122       3.273  19.595   8.419  1.00 45.87           O  \nANISOU 2655  O   ALA D 122     4289   5222   7916   -220    767    -94       O  \nATOM   2656  CB  ALA D 122       0.531  19.403   6.534  1.00 43.86           C  \nANISOU 2656  CB  ALA D 122     4157   4812   7694     22    588    621       C  \nATOM   2657  N   LYS D 123       1.377  20.314   9.395  1.00 49.18           N  \nANISOU 2657  N   LYS D 123     4669   5387   8628    -72    808   -149       N  \nATOM   2658  CA  LYS D 123       1.844  20.239  10.783  1.00 50.36           C  \nANISOU 2658  CA  LYS D 123     4752   5676   8706   -145    849   -530       C  \nATOM   2659  C   LYS D 123       1.743  18.787  11.280  1.00 47.21           C  \nANISOU 2659  C   LYS D 123     4372   5620   7942    -81    696   -552       C  \nATOM   2660  O   LYS D 123       0.745  18.111  11.008  1.00 45.22           O  \nANISOU 2660  O   LYS D 123     4164   5408   7608     40    614   -377       O  \nATOM   2661  CB  LYS D 123       0.933  21.142  11.625  1.00 53.56           C  \nANISOU 2661  CB  LYS D 123     5095   5859   9395   -122    985   -718       C  \nATOM   2662  CG  LYS D 123       1.394  21.453  13.045  1.00 58.97           C  \nANISOU 2662  CG  LYS D 123     5704   6652  10047   -257   1081  -1160       C  \nATOM   2663  CD  LYS D 123       0.442  22.481  13.783  1.00 65.09           C  \nANISOU 2663  CD  LYS D 123     6408   7156  11166   -250   1281  -1396       C  \nATOM   2664  CE  LYS D 123      -1.013  21.934  14.068  1.00 67.12           C  \nANISOU 2664  CE  LYS D 123     6660   7457  11385    -85   1251  -1313       C  \nATOM   2665  NZ  LYS D 123      -1.100  20.626  14.862  1.00 65.22           N  \nANISOU 2665  NZ  LYS D 123     6450   7647  10682    -87   1116  -1381       N  \nATOM   2666  N   THR D 124       2.755  18.311  12.005  1.00 45.98           N  \nANISOU 2666  N   THR D 124     4169   5706   7594   -167    653   -748       N  \nATOM   2667  CA  THR D 124       2.640  17.026  12.677  1.00 44.29           C  \nANISOU 2667  CA  THR D 124     3955   5785   7089   -108    517   -757       C  \nATOM   2668  C   THR D 124       1.441  16.980  13.623  1.00 44.25           C  \nANISOU 2668  C   THR D 124     3949   5805   7057    -59    539   -847       C  \nATOM   2669  O   THR D 124       1.251  17.894  14.410  1.00 45.82           O  \nANISOU 2669  O   THR D 124     4098   5929   7381   -139    663  -1090       O  \nATOM   2670  CB  THR D 124       3.902  16.719  13.484  1.00 45.07           C  \nANISOU 2670  CB  THR D 124     3960   6137   7026   -215    458   -944       C  \nATOM   2671  OG1 THR D 124       4.980  16.609  12.562  1.00 46.12           O  \nANISOU 2671  OG1 THR D 124     4071   6259   7191   -247    448   -856       O  \nATOM   2672  CG2 THR D 124       3.736  15.395  14.288  1.00 41.31           C  \nANISOU 2672  CG2 THR D 124     3472   5953   6268   -149    307   -899       C  \nATOM   2673  N   THR D 125       0.633  15.925  13.534  1.00 43.08           N  \nANISOU 2673  N   THR D 125     3848   5756   6761     54    443   -676       N  \nATOM   2674  CA  THR D 125      -0.587  15.800  14.339  1.00 43.23           C  \nANISOU 2674  CA  THR D 125     3859   5806   6757     98    479   -734       C  \nATOM   2675  C   THR D 125      -0.827  14.354  14.766  1.00 41.52           C  \nANISOU 2675  C   THR D 125     3670   5840   6265    148    350   -623       C  \nATOM   2676  O   THR D 125      -0.841  13.480  13.922  1.00 40.09           O  \nANISOU 2676  O   THR D 125     3538   5660   6035    224    254   -409       O  \nATOM   2677  CB  THR D 125      -1.814  16.304  13.515  1.00 44.13           C  \nANISOU 2677  CB  THR D 125     3986   5653   7126    205    534   -572       C  \nATOM   2678  OG1 THR D 125      -1.521  17.619  13.014  1.00 48.88           O  \nANISOU 2678  OG1 THR D 125     4561   5983   8027    169    647   -604       O  \nATOM   2679  CG2 THR D 125      -3.091  16.355  14.375  1.00 45.22           C  \nANISOU 2679  CG2 THR D 125     4075   5794   7311    246    616   -675       C  \nATOM   2680  N   PRO D 126      -1.063  14.097  16.072  1.00 42.16           N  \nANISOU 2680  N   PRO D 126     3719   6130   6167     89    363   -767       N  \nATOM   2681  CA  PRO D 126      -1.287  12.720  16.539  1.00 41.22           C  \nANISOU 2681  CA  PRO D 126     3623   6233   5804    127    246   -617       C  \nATOM   2682  C   PRO D 126      -2.709  12.230  16.227  1.00 39.33           C  \nANISOU 2682  C   PRO D 126     3418   5901   5623    223    268   -472       C  \nATOM   2683  O   PRO D 126      -3.602  13.016  16.046  1.00 39.55           O  \nANISOU 2683  O   PRO D 126     3423   5760   5843    249    380   -534       O  \nATOM   2684  CB  PRO D 126      -1.142  12.835  18.057  1.00 43.51           C  \nANISOU 2684  CB  PRO D 126     3864   6796   5869     -4    274   -817       C  \nATOM   2685  CG  PRO D 126      -1.695  14.196  18.341  1.00 46.10           C  \nANISOU 2685  CG  PRO D 126     4158   6974   6382    -70    472  -1094       C  \nATOM   2686  CD  PRO D 126      -1.163  15.061  17.182  1.00 44.64           C  \nANISOU 2686  CD  PRO D 126     3975   6493   6493    -34    503  -1081       C  \nATOM   2687  N   PRO D 127      -2.897  10.926  16.137  1.00 37.64           N  \nANISOU 2687  N   PRO D 127     3240   5780   5280    275    163   -276       N  \nATOM   2688  CA  PRO D 127      -4.201  10.400  15.774  1.00 36.93           C  \nANISOU 2688  CA  PRO D 127     3168   5611   5251    343    176   -146       C  \nATOM   2689  C   PRO D 127      -5.171  10.531  16.928  1.00 38.89           C  \nANISOU 2689  C   PRO D 127     3376   5970   5430    293    283   -255       C  \nATOM   2690  O   PRO D 127      -4.743  10.518  18.076  1.00 39.98           O  \nANISOU 2690  O   PRO D 127     3499   6324   5366    197    303   -367       O  \nATOM   2691  CB  PRO D 127      -3.923   8.912  15.547  1.00 37.10           C  \nANISOU 2691  CB  PRO D 127     3231   5705   5157    379     54     51       C  \nATOM   2692  CG  PRO D 127      -2.709   8.625  16.293  1.00 35.13           C  \nANISOU 2692  CG  PRO D 127     2961   5631   4753    334    -12     33       C  \nATOM   2693  CD  PRO D 127      -1.890   9.867  16.336  1.00 36.96           C  \nANISOU 2693  CD  PRO D 127     3156   5853   5031    275     31   -160       C  \nATOM   2694  N   SER D 128      -6.459  10.608  16.636  1.00 39.40           N  \nANISOU 2694  N   SER D 128     3407   5921   5640    344    349   -218       N  \nATOM   2695  CA  SER D 128      -7.484  10.275  17.639  1.00 40.94           C  \nANISOU 2695  CA  SER D 128     3559   6248   5745    299    448   -266       C  \nATOM   2696  C   SER D 128      -7.767   8.804  17.376  1.00 40.01           C  \nANISOU 2696  C   SER D 128     3489   6185   5526    323    335    -21       C  \nATOM   2697  O   SER D 128      -7.773   8.407  16.206  1.00 40.42           O  \nANISOU 2697  O   SER D 128     3569   6096   5693    393    238    118       O  \nATOM   2698  CB  SER D 128      -8.750  11.085  17.419  1.00 41.46           C  \nANISOU 2698  CB  SER D 128     3525   6145   6081    351    583   -349       C  \nATOM   2699  OG  SER D 128      -8.558  12.455  17.671  1.00 45.18           O  \nANISOU 2699  OG  SER D 128     3940   6504   6722    334    720   -586       O  \nATOM   2700  N   VAL D 129      -8.039   8.003  18.417  1.00 40.91           N  \nANISOU 2700  N   VAL D 129     3611   6498   5435    248    361     27       N  \nATOM   2701  CA  VAL D 129      -8.252   6.549  18.246  1.00 39.74           C  \nANISOU 2701  CA  VAL D 129     3505   6363   5230    259    271    270       C  \nATOM   2702  C   VAL D 129      -9.659   6.134  18.737  1.00 41.19           C  \nANISOU 2702  C   VAL D 129     3637   6592   5419    211    384    301       C  \nATOM   2703  O   VAL D 129     -10.003   6.352  19.906  1.00 42.52           O  \nANISOU 2703  O   VAL D 129     3776   6951   5426    114    508    208       O  \nATOM   2704  CB  VAL D 129      -7.184   5.744  18.993  1.00 40.28           C  \nANISOU 2704  CB  VAL D 129     3622   6609   5074    216    173    401       C  \nATOM   2705  CG1 VAL D 129      -7.440   4.264  18.886  1.00 39.72           C  \nANISOU 2705  CG1 VAL D 129     3583   6497   5012    230    110    659       C  \nATOM   2706  CG2 VAL D 129      -5.799   6.068  18.409  1.00 38.59           C  \nANISOU 2706  CG2 VAL D 129     3423   6340   4896    268     63    373       C  \nATOM   2707  N   TYR D 130     -10.474   5.540  17.864  1.00 40.08           N  \nANISOU 2707  N   TYR D 130     3476   6303   5448    255    352    412       N  \nATOM   2708  CA  TYR D 130     -11.845   5.232  18.255  1.00 41.11           C  \nANISOU 2708  CA  TYR D 130     3525   6468   5625    203    467    423       C  \nATOM   2709  C   TYR D 130     -12.119   3.747  18.138  1.00 42.21           C  \nANISOU 2709  C   TYR D 130     3703   6586   5746    161    412    637       C  \nATOM   2710  O   TYR D 130     -11.624   3.089  17.214  1.00 40.41           O  \nANISOU 2710  O   TYR D 130     3533   6223   5596    205    286    737       O  \nATOM   2711  CB  TYR D 130     -12.856   6.000  17.423  1.00 41.67           C  \nANISOU 2711  CB  TYR D 130     3475   6392   5964    271    501    338       C  \nATOM   2712  CG  TYR D 130     -12.689   7.502  17.445  1.00 41.24           C  \nANISOU 2712  CG  TYR D 130     3362   6279   6028    327    576    144       C  \nATOM   2713  CD1 TYR D 130     -12.380   8.200  16.280  1.00 41.52           C  \nANISOU 2713  CD1 TYR D 130     3391   6138   6245    424    475    163       C  \nATOM   2714  CD2 TYR D 130     -12.830   8.216  18.613  1.00 43.04           C  \nANISOU 2714  CD2 TYR D 130     3540   6621   6190    266    761    -61       C  \nATOM   2715  CE1 TYR D 130     -12.241   9.601  16.277  1.00 42.33           C  \nANISOU 2715  CE1 TYR D 130     3432   6132   6519    477    558     11       C  \nATOM   2716  CE2 TYR D 130     -12.659   9.606  18.634  1.00 43.51           C  \nANISOU 2716  CE2 TYR D 130     3538   6577   6416    310    858   -274       C  \nATOM   2717  CZ  TYR D 130     -12.373  10.285  17.464  1.00 44.54           C  \nANISOU 2717  CZ  TYR D 130     3657   6483   6780    424    755   -220       C  \nATOM   2718  OH  TYR D 130     -12.237  11.649  17.475  1.00 45.75           O  \nANISOU 2718  OH  TYR D 130     3742   6484   7154    466    864   -402       O  \nATOM   2719  N   PRO D 131     -12.919   3.216  19.070  1.00 43.44           N  \nANISOU 2719  N   PRO D 131     3824   6865   5815     59    530    694       N  \nATOM   2720  CA  PRO D 131     -13.219   1.796  19.011  1.00 44.05           C  \nANISOU 2720  CA  PRO D 131     3933   6886   5916      3    500    909       C  \nATOM   2721  C   PRO D 131     -14.294   1.515  17.949  1.00 43.40           C  \nANISOU 2721  C   PRO D 131     3764   6641   6084     10    489    889       C  \nATOM   2722  O   PRO D 131     -15.131   2.368  17.640  1.00 43.26           O  \nANISOU 2722  O   PRO D 131     3625   6619   6193     37    540    750       O  \nATOM   2723  CB  PRO D 131     -13.744   1.503  20.431  1.00 46.92           C  \nANISOU 2723  CB  PRO D 131     4279   7470   6077   -132    653    975       C  \nATOM   2724  CG  PRO D 131     -14.548   2.755  20.757  1.00 47.59           C  \nANISOU 2724  CG  PRO D 131     4246   7648   6187   -144    815    712       C  \nATOM   2725  CD  PRO D 131     -13.632   3.881  20.177  1.00 45.98           C  \nANISOU 2725  CD  PRO D 131     4066   7370   6034    -24    724    547       C  \nATOM   2726  N   LEU D 132     -14.238   0.319  17.380  1.00 43.38           N  \nANISOU 2726  N   LEU D 132     3807   6502   6172    -18    418   1024       N  \nATOM   2727  CA  LEU D 132     -15.247  -0.157  16.459  1.00 42.98           C  \nANISOU 2727  CA  LEU D 132     3673   6337   6322    -64    401   1002       C  \nATOM   2728  C   LEU D 132     -15.768  -1.429  17.111  1.00 45.00           C  \nANISOU 2728  C   LEU D 132     3931   6568   6597   -193    493   1161       C  \nATOM   2729  O   LEU D 132     -15.112  -2.499  17.046  1.00 43.07           O  \nANISOU 2729  O   LEU D 132     3783   6192   6388   -210    453   1303       O  \nATOM   2730  CB  LEU D 132     -14.635  -0.413  15.068  1.00 41.29           C  \nANISOU 2730  CB  LEU D 132     3514   5969   6202    -17    253    964       C  \nATOM   2731  CG  LEU D 132     -14.013   0.818  14.365  1.00 41.05           C  \nANISOU 2731  CG  LEU D 132     3495   5957   6142     94    163    852       C  \nATOM   2732  CD1 LEU D 132     -13.183   0.399  13.112  1.00 37.16           C  \nANISOU 2732  CD1 LEU D 132     3087   5350   5681    110     48    826       C  \nATOM   2733  CD2 LEU D 132     -15.110   1.872  13.971  1.00 41.29           C  \nANISOU 2733  CD2 LEU D 132     3371   6039   6277    118    163    768       C  \nATOM   2734  N   ALA D 133     -16.938  -1.294  17.753  1.00 46.92           N  \nANISOU 2734  N   ALA D 133     4054   6921   6849   -282    633   1143       N  \nATOM   2735  CA  ALA D 133     -17.667  -2.407  18.335  1.00 48.92           C  \nANISOU 2735  CA  ALA D 133     4283   7160   7145   -433    749   1291       C  \nATOM   2736  C   ALA D 133     -18.983  -2.509  17.592  1.00 49.84           C  \nANISOU 2736  C   ALA D 133     4227   7226   7484   -505    769   1183       C  \nATOM   2737  O   ALA D 133     -19.513  -1.492  17.160  1.00 48.38           O  \nANISOU 2737  O   ALA D 133     3910   7107   7364   -438    745   1025       O  \nATOM   2738  CB  ALA D 133     -17.919  -2.184  19.800  1.00 50.92           C  \nANISOU 2738  CB  ALA D 133     4526   7636   7184   -514    922   1358       C  \nATOM   2739  N   PRO D 134     -19.498  -3.738  17.411  1.00 51.38           N  \nANISOU 2739  N   PRO D 134     4405   7291   7825   -644    803   1275       N  \nATOM   2740  CA  PRO D 134     -20.778  -3.948  16.734  1.00 53.50           C  \nANISOU 2740  CA  PRO D 134     4485   7537   8303   -751    812   1170       C  \nATOM   2741  C   PRO D 134     -21.941  -3.303  17.451  1.00 55.49           C  \nANISOU 2741  C   PRO D 134     4541   7973   8569   -797    971   1112       C  \nATOM   2742  O   PRO D 134     -21.954  -3.259  18.683  1.00 56.51           O  \nANISOU 2742  O   PRO D 134     4700   8224   8545   -842   1144   1195       O  \nATOM   2743  CB  PRO D 134     -20.976  -5.466  16.770  1.00 55.10           C  \nANISOU 2743  CB  PRO D 134     4731   7558   8646   -922    877   1297       C  \nATOM   2744  CG  PRO D 134     -19.896  -5.988  17.615  1.00 55.29           C  \nANISOU 2744  CG  PRO D 134     4947   7517   8542   -886    915   1517       C  \nATOM   2745  CD  PRO D 134     -18.825  -5.002  17.725  1.00 52.57           C  \nANISOU 2745  CD  PRO D 134     4701   7280   7993   -703    818   1484       C  \nATOM   2746  N   GLY D 135     -22.913  -2.829  16.674  1.00 57.44           N  \nANISOU 2746  N   GLY D 135     4571   8255   8998   -795    911    973       N  \nATOM   2747  CA  GLY D 135     -24.211  -2.378  17.227  1.00 60.93           C  \nANISOU 2747  CA  GLY D 135     4758   8838   9554   -851   1077    903       C  \nATOM   2748  C   GLY D 135     -24.763  -3.432  18.160  1.00 64.58           C  \nANISOU 2748  C   GLY D 135     5214   9312  10010  -1059   1290   1019       C  \nATOM   2749  O   GLY D 135     -24.689  -4.630  17.861  1.00 65.35           O  \nANISOU 2749  O   GLY D 135     5392   9259  10177  -1191   1260   1121       O  \nATOM   2750  N   SER D 136     -25.299  -3.012  19.301  1.00 68.46           N  \nANISOU 2750  N   SER D 136     5612   9974  10425  -1104   1528   1000       N  \nATOM   2751  CA  SER D 136     -25.771  -3.991  20.310  1.00 72.89           C  \nANISOU 2751  CA  SER D 136     6187  10581  10927  -1325   1759   1152       C  \nATOM   2752  C   SER D 136     -26.936  -4.891  19.806  1.00 76.14           C  \nANISOU 2752  C   SER D 136     6399  10904  11625  -1512   1793   1152       C  \nATOM   2753  O   SER D 136     -27.155  -6.001  20.322  1.00 78.34           O  \nANISOU 2753  O   SER D 136     6732  11119  11913  -1712   1929   1323       O  \nATOM   2754  CB  SER D 136     -26.116  -3.297  21.638  1.00 74.79           C  \nANISOU 2754  CB  SER D 136     6363  11074  10979  -1365   2034   1095       C  \nATOM   2755  OG  SER D 136     -27.387  -2.683  21.617  1.00 77.09           O  \nANISOU 2755  OG  SER D 136     6334  11461  11493  -1383   2179    897       O  \nATOM   2756  N   ALA D 137     -27.653  -4.423  18.784  1.00 77.52           N  \nANISOU 2756  N   ALA D 137     6338  11075  12038  -1458   1655    979       N  \nATOM   2757  CA  ALA D 137     -28.636  -5.255  18.090  1.00 80.83           C  \nANISOU 2757  CA  ALA D 137     6563  11424  12723  -1641   1619    947       C  \nATOM   2758  C   ALA D 137     -27.997  -6.188  17.032  1.00 80.91           C  \nANISOU 2758  C   ALA D 137     6741  11216  12781  -1692   1402    974       C  \nATOM   2759  O   ALA D 137     -28.709  -6.958  16.408  1.00 82.98           O  \nANISOU 2759  O   ALA D 137     6867  11410  13249  -1875   1366    915       O  \nATOM   2760  CB  ALA D 137     -29.741  -4.377  17.453  1.00 81.80           C  \nANISOU 2760  CB  ALA D 137     6318  11679  13083  -1578   1543    771       C  \nATOM   2761  N   ALA D 138     -26.675  -6.127  16.832  1.00 79.70           N  \nANISOU 2761  N   ALA D 138     6865  10960  12454  -1549   1277   1032       N  \nATOM   2762  CA  ALA D 138     -26.002  -6.985  15.846  1.00 79.76           C  \nANISOU 2762  CA  ALA D 138     7028  10755  12522  -1594   1113   1016       C  \nATOM   2763  C   ALA D 138     -25.901  -8.437  16.344  1.00 82.62           C  \nANISOU 2763  C   ALA D 138     7512  10892  12987  -1788   1270   1172       C  \nATOM   2764  O   ALA D 138     -25.987  -8.713  17.557  1.00 84.13           O  \nANISOU 2764  O   ALA D 138     7749  11106  13108  -1848   1476   1369       O  \nATOM   2765  CB  ALA D 138     -24.630  -6.436  15.495  1.00 76.58           C  \nANISOU 2765  CB  ALA D 138     6849  10312  11933  -1378    957   1021       C  \nATOM   2766  N   GLN D 139     -25.725  -9.360  15.396  1.00 83.88           N  \nANISOU 2766  N   GLN D 139     7717  10833  13318  -1900   1181   1083       N  \nATOM   2767  CA  GLN D 139     -25.684 -10.794  15.703  1.00 86.68           C  \nANISOU 2767  CA  GLN D 139     8162  10899  13874  -2093   1333   1210       C  \nATOM   2768  C   GLN D 139     -24.282 -11.324  16.022  1.00 86.05           C  \nANISOU 2768  C   GLN D 139     8361  10579  13753  -1972   1339   1404       C  \nATOM   2769  O   GLN D 139     -23.343 -11.158  15.235  1.00 83.64           O  \nANISOU 2769  O   GLN D 139     8173  10196  13409  -1835   1184   1291       O  \nATOM   2770  CB  GLN D 139     -26.314 -11.618  14.572  1.00 88.56           C  \nANISOU 2770  CB  GLN D 139     8276  10994  14379  -2319   1281    973       C  \nATOM   2771  CG  GLN D 139     -27.847 -11.582  14.569  1.00 92.10           C  \nANISOU 2771  CG  GLN D 139     8415  11615  14963  -2525   1343    869       C  \nATOM   2772  CD  GLN D 139     -28.499 -12.325  15.755  1.00 96.62           C  \nANISOU 2772  CD  GLN D 139     8941  12100  15668  -2710   1629   1086       C  \nATOM   2773  OE1 GLN D 139     -28.021 -13.369  16.209  1.00 99.46           O  \nANISOU 2773  OE1 GLN D 139     9473  12163  16152  -2798   1770   1273       O  \nATOM   2774  NE2 GLN D 139     -29.616 -11.788  16.240  1.00 99.22           N  \nANISOU 2774  NE2 GLN D 139     9020  12684  15996  -2775   1725   1072       N  \nATOM   2775  N   THR D 140     -24.174 -11.934  17.211  1.00 88.42           N  \nANISOU 2775  N   THR D 140     8746  10790  14058  -2027   1520   1718       N  \nATOM   2776  CA  THR D 140     -23.111 -12.896  17.563  1.00 89.54           C  \nANISOU 2776  CA  THR D 140     9093  10618  14308  -1988   1559   1978       C  \nATOM   2777  C   THR D 140     -23.039 -13.950  16.474  1.00 90.40           C  \nANISOU 2777  C   THR D 140     9205  10357  14785  -2107   1548   1790       C  \nATOM   2778  O   THR D 140     -24.095 -14.486  16.083  1.00 93.16           O  \nANISOU 2778  O   THR D 140     9403  10638  15355  -2346   1631   1633       O  \nATOM   2779  CB  THR D 140     -23.463 -13.701  18.861  1.00 93.11           C  \nANISOU 2779  CB  THR D 140     9569  10997  14810  -2142   1781   2366       C  \nATOM   2780  OG1 THR D 140     -24.010 -12.824  19.851  1.00 94.18           O  \nANISOU 2780  OG1 THR D 140     9636  11522  14625  -2146   1865   2451       O  \nATOM   2781  CG2 THR D 140     -22.237 -14.443  19.422  1.00 93.89           C  \nANISOU 2781  CG2 THR D 140     9868  10840  14964  -2036   1780   2735       C  \nATOM   2782  N   ASN D 141     -21.829 -14.256  16.000  1.00 88.14           N  \nANISOU 2782  N   ASN D 141     9069   9839  14580  -1961   1465   1779       N  \nATOM   2783  CA  ASN D 141     -21.606 -15.371  15.066  1.00 89.14           C  \nANISOU 2783  CA  ASN D 141     9215   9561  15092  -2076   1508   1590       C  \nATOM   2784  C   ASN D 141     -20.833 -16.507  15.799  1.00 90.28           C  \nANISOU 2784  C   ASN D 141     9484   9288  15530  -2041   1644   1957       C  \nATOM   2785  O   ASN D 141     -20.956 -16.659  17.038  1.00 91.90           O  \nANISOU 2785  O   ASN D 141     9717   9535  15665  -2046   1735   2373       O  \nATOM   2786  CB  ASN D 141     -20.877 -14.859  13.798  1.00 87.35           C  \nANISOU 2786  CB  ASN D 141     9029   9382  14777  -1955   1335   1237       C  \nATOM   2787  CG  ASN D 141     -21.081 -15.762  12.569  1.00 89.90           C  \nANISOU 2787  CG  ASN D 141     9307   9435  15413  -2164   1380    860       C  \nATOM   2788  OD1 ASN D 141     -22.174 -16.287  12.336  1.00 94.91           O  \nANISOU 2788  OD1 ASN D 141     9808  10032  16220  -2429   1460    716       O  \nATOM   2789  ND2 ASN D 141     -20.020 -15.938  11.784  1.00 89.27           N  \nANISOU 2789  ND2 ASN D 141     9329   9184  15405  -2062   1341    674       N  \nATOM   2790  N   SER D 142     -20.107 -17.337  15.042  1.00 89.12           N  \nANISOU 2790  N   SER D 142     9394   8739  15728  -2027   1673   1812       N  \nATOM   2791  CA  SER D 142     -19.013 -18.141  15.592  1.00 88.82           C  \nANISOU 2791  CA  SER D 142     9466   8319  15962  -1879   1737   2160       C  \nATOM   2792  C   SER D 142     -17.851 -17.190  15.889  1.00 83.69           C  \nANISOU 2792  C   SER D 142     8907   7921  14968  -1573   1556   2298       C  \nATOM   2793  O   SER D 142     -17.273 -17.230  16.973  1.00 84.37           O  \nANISOU 2793  O   SER D 142     9055   8027  14974  -1440   1539   2750       O  \nATOM   2794  CB  SER D 142     -18.565 -19.205  14.592  1.00 91.06           C  \nANISOU 2794  CB  SER D 142     9752   8094  16750  -1940   1842   1880       C  \nATOM   2795  OG  SER D 142     -17.242 -19.634  14.859  1.00 91.79           O  \nANISOU 2795  OG  SER D 142     9927   7881  17068  -1703   1843   2130       O  \nATOM   2796  N   MET D 143     -17.532 -16.340  14.910  1.00 77.99           N  \nANISOU 2796  N   MET D 143     8186   7409  14034  -1486   1418   1914       N  \nATOM   2797  CA  MET D 143     -16.461 -15.354  15.010  1.00 72.80           C  \nANISOU 2797  CA  MET D 143     7601   6994  13064  -1223   1251   1964       C  \nATOM   2798  C   MET D 143     -17.068 -13.967  15.137  1.00 68.12           C  \nANISOU 2798  C   MET D 143     6971   6908  12002  -1211   1133   1864       C  \nATOM   2799  O   MET D 143     -18.081 -13.697  14.517  1.00 67.59           O  \nANISOU 2799  O   MET D 143     6811   6979  11890  -1367   1130   1591       O  \nATOM   2800  CB  MET D 143     -15.610 -15.384  13.735  1.00 72.22           C  \nANISOU 2800  CB  MET D 143     7553   6769  13119  -1145   1208   1594       C  \nATOM   2801  CG  MET D 143     -14.853 -16.698  13.456  1.00 74.93           C  \nANISOU 2801  CG  MET D 143     7912   6567  13991  -1124   1349   1607       C  \nATOM   2802  SD  MET D 143     -13.303 -16.782  14.364  1.00 76.31           S  \nANISOU 2802  SD  MET D 143     8138   6611  14243   -804   1283   2064       S  \nATOM   2803  CE  MET D 143     -12.166 -15.845  13.345  1.00 72.26           C  \nANISOU 2803  CE  MET D 143     7650   6285  13521   -620   1155   1701       C  \nATOM   2804  N   VAL D 144     -16.448 -13.097  15.941  1.00 64.17           N  \nANISOU 2804  N   VAL D 144     6525   6675  11181  -1030   1036   2080       N  \nATOM   2805  CA  VAL D 144     -16.775 -11.672  15.993  1.00 59.61           C  \nANISOU 2805  CA  VAL D 144     5916   6527  10206   -974    931   1947       C  \nATOM   2806  C   VAL D 144     -15.617 -10.845  15.409  1.00 56.07           C  \nANISOU 2806  C   VAL D 144     5530   6170   9601   -769    781   1800       C  \nATOM   2807  O   VAL D 144     -14.461 -11.227  15.537  1.00 54.89           O  \nANISOU 2807  O   VAL D 144     5451   5854   9551   -635    754   1936       O  \nATOM   2808  CB  VAL D 144     -17.107 -11.209  17.442  1.00 60.13           C  \nANISOU 2808  CB  VAL D 144     5979   6869   9995   -977    977   2250       C  \nATOM   2809  CG1 VAL D 144     -15.925 -11.358  18.391  1.00 58.51           C  \nANISOU 2809  CG1 VAL D 144     5875   6662   9691   -833    930   2604       C  \nATOM   2810  CG2 VAL D 144     -17.622  -9.790  17.419  1.00 56.45           C  \nANISOU 2810  CG2 VAL D 144     5448   6781   9217   -942    918   2047       C  \nATOM   2811  N   THR D 145     -15.950  -9.724  14.764  1.00 53.08           N  \nANISOU 2811  N   THR D 145     5109   6049   9009   -748    686   1542       N  \nATOM   2812  CA  THR D 145     -14.970  -8.855  14.147  1.00 50.40           C  \nANISOU 2812  CA  THR D 145     4822   5811   8517   -586    558   1397       C  \nATOM   2813  C   THR D 145     -15.069  -7.468  14.785  1.00 48.31           C  \nANISOU 2813  C   THR D 145     4539   5883   7930   -493    496   1435       C  \nATOM   2814  O   THR D 145     -16.149  -6.863  14.822  1.00 47.76           O  \nANISOU 2814  O   THR D 145     4373   5994   7779   -565    510   1353       O  \nATOM   2815  CB  THR D 145     -15.192  -8.796  12.609  1.00 50.74           C  \nANISOU 2815  CB  THR D 145     4832   5823   8621   -664    504   1050       C  \nATOM   2816  OG1 THR D 145     -14.892 -10.079  12.019  1.00 53.58           O  \nANISOU 2816  OG1 THR D 145     5217   5848   9289   -751    591    954       O  \nATOM   2817  CG2 THR D 145     -14.299  -7.717  11.962  1.00 46.89           C  \nANISOU 2817  CG2 THR D 145     4392   5491   7929   -517    379    918       C  \nATOM   2818  N   LEU D 146     -13.959  -6.992  15.323  1.00 46.98           N  \nANISOU 2818  N   LEU D 146     4444   5790   7615   -341    439   1551       N  \nATOM   2819  CA  LEU D 146     -13.878  -5.665  15.927  1.00 46.36           C  \nANISOU 2819  CA  LEU D 146     4357   6005   7253   -261    397   1541       C  \nATOM   2820  C   LEU D 146     -12.850  -4.871  15.196  1.00 45.20           C  \nANISOU 2820  C   LEU D 146     4253   5885   7034   -128    284   1393       C  \nATOM   2821  O   LEU D 146     -12.163  -5.410  14.319  1.00 45.17           O  \nANISOU 2821  O   LEU D 146     4287   5696   7178    -98    251   1316       O  \nATOM   2822  CB  LEU D 146     -13.464  -5.761  17.401  1.00 47.57           C  \nANISOU 2822  CB  LEU D 146     4548   6282   7241   -244    433   1817       C  \nATOM   2823  CG  LEU D 146     -14.208  -6.807  18.248  1.00 49.53           C  \nANISOU 2823  CG  LEU D 146     4781   6472   7565   -385    556   2064       C  \nATOM   2824  CD1 LEU D 146     -13.479  -7.001  19.608  1.00 52.57           C  \nANISOU 2824  CD1 LEU D 146     5224   6997   7753   -364    546   2398       C  \nATOM   2825  CD2 LEU D 146     -15.694  -6.437  18.456  1.00 49.19           C  \nANISOU 2825  CD2 LEU D 146     4636   6579   7474   -525    674   1957       C  \nATOM   2826  N   GLY D 147     -12.703  -3.604  15.583  1.00 44.33           N  \nANISOU 2826  N   GLY D 147     4132   5996   6714    -59    251   1340       N  \nATOM   2827  CA  GLY D 147     -11.645  -2.779  15.029  1.00 43.83           C  \nANISOU 2827  CA  GLY D 147     4110   5964   6578     57    158   1227       C  \nATOM   2828  C   GLY D 147     -11.349  -1.484  15.760  1.00 42.81           C  \nANISOU 2828  C   GLY D 147     3973   6051   6240    118    149   1193       C  \nATOM   2829  O   GLY D 147     -11.884  -1.213  16.828  1.00 41.16           O  \nANISOU 2829  O   GLY D 147     3733   5997   5907     69    224   1248       O  \nATOM   2830  N   CYS D 148     -10.435  -0.724  15.172  1.00 43.42           N  \nANISOU 2830  N   CYS D 148     4079   6133   6283    205     75   1084       N  \nATOM   2831  CA  CYS D 148      -9.979   0.575  15.680  1.00 44.56           C  \nANISOU 2831  CA  CYS D 148     4218   6438   6275    255     68   1003       C  \nATOM   2832  C   CYS D 148      -9.885   1.520  14.505  1.00 42.16           C  \nANISOU 2832  C   CYS D 148     3903   6084   6029    302     21    847       C  \nATOM   2833  O   CYS D 148      -9.344   1.147  13.459  1.00 42.72           O  \nANISOU 2833  O   CYS D 148     4012   6045   6173    319    -35    820       O  \nATOM   2834  CB  CYS D 148      -8.582   0.468  16.375  1.00 45.91           C  \nANISOU 2834  CB  CYS D 148     4430   6676   6334    304     14   1093       C  \nATOM   2835  SG  CYS D 148      -8.916   0.289  18.166  1.00 60.04           S  \nANISOU 2835  SG  CYS D 148     6208   8706   7899    216     76   1248       S  \nATOM   2836  N   LEU D 149     -10.427   2.725  14.687  1.00 40.22           N  \nANISOU 2836  N   LEU D 149     3600   5917   5765    314     60    749       N  \nATOM   2837  CA  LEU D 149     -10.402   3.784  13.693  1.00 38.76           C  \nANISOU 2837  CA  LEU D 149     3391   5682   5652    363     16    657       C  \nATOM   2838  C   LEU D 149      -9.387   4.799  14.186  1.00 37.23           C  \nANISOU 2838  C   LEU D 149     3223   5537   5385    406     33    576       C  \nATOM   2839  O   LEU D 149      -9.524   5.314  15.275  1.00 37.18           O  \nANISOU 2839  O   LEU D 149     3184   5630   5311    388    117    514       O  \nATOM   2840  CB  LEU D 149     -11.774   4.435  13.587  1.00 38.70           C  \nANISOU 2840  CB  LEU D 149     3262   5681   5758    360     56    625       C  \nATOM   2841  CG  LEU D 149     -11.914   5.666  12.701  1.00 39.72           C  \nANISOU 2841  CG  LEU D 149     3336   5753   6002    422      9    592       C  \nATOM   2842  CD1 LEU D 149     -11.533   5.384  11.261  1.00 38.45           C  \nANISOU 2842  CD1 LEU D 149     3229   5548   5829    407   -120    647       C  \nATOM   2843  CD2 LEU D 149     -13.344   6.172  12.786  1.00 38.99           C  \nANISOU 2843  CD2 LEU D 149     3078   5659   6076    438     53    590       C  \nATOM   2844  N   VAL D 150      -8.355   5.024  13.390  1.00 36.20           N  \nANISOU 2844  N   VAL D 150     3145   5350   5258    438    -30    559       N  \nATOM   2845  CA  VAL D 150      -7.251   5.868  13.715  1.00 35.73           C  \nANISOU 2845  CA  VAL D 150     3103   5324   5148    459    -23    479       C  \nATOM   2846  C   VAL D 150      -7.335   7.085  12.791  1.00 35.92           C  \nANISOU 2846  C   VAL D 150     3107   5255   5285    486    -23    426       C  \nATOM   2847  O   VAL D 150      -6.995   7.027  11.591  1.00 36.18           O  \nANISOU 2847  O   VAL D 150     3176   5225   5344    488    -83    470       O  \nATOM   2848  CB  VAL D 150      -5.962   5.100  13.499  1.00 36.18           C  \nANISOU 2848  CB  VAL D 150     3210   5376   5158    472    -84    522       C  \nATOM   2849  CG1 VAL D 150      -4.728   5.952  13.870  1.00 34.42           C  \nANISOU 2849  CG1 VAL D 150     2979   5214   4884    477    -87    433       C  \nATOM   2850  CG2 VAL D 150      -5.980   3.746  14.295  1.00 36.01           C  \nANISOU 2850  CG2 VAL D 150     3196   5398   5088    461    -99    650       C  \nATOM   2851  N   LYS D 151      -7.736   8.199  13.344  1.00 36.20           N  \nANISOU 2851  N   LYS D 151     3082   5279   5392    496     56    335       N  \nATOM   2852  CA  LYS D 151      -8.192   9.295  12.514  1.00 37.97           C  \nANISOU 2852  CA  LYS D 151     3256   5372   5797    537     61    348       C  \nATOM   2853  C   LYS D 151      -7.523  10.617  12.827  1.00 39.13           C  \nANISOU 2853  C   LYS D 151     3387   5445   6035    541    143    221       C  \nATOM   2854  O   LYS D 151      -7.226  10.915  14.009  1.00 39.15           O  \nANISOU 2854  O   LYS D 151     3373   5521   5978    501    236     55       O  \nATOM   2855  CB  LYS D 151      -9.718   9.410  12.672  1.00 38.64           C  \nANISOU 2855  CB  LYS D 151     3228   5433   6020    564    101    375       C  \nATOM   2856  CG  LYS D 151     -10.377  10.594  11.945  1.00 41.64           C  \nANISOU 2856  CG  LYS D 151     3505   5662   6654    633     99    434       C  \nATOM   2857  CD  LYS D 151     -11.830  10.305  11.667  1.00 41.67           C  \nANISOU 2857  CD  LYS D 151     3379   5672   6781    661     64    533       C  \nATOM   2858  CE  LYS D 151     -12.248  10.946  10.369  1.00 45.32           C  \nANISOU 2858  CE  LYS D 151     3770   6045   7405    712    -60    726       C  \nATOM   2859  NZ  LYS D 151     -12.265  12.421  10.660  1.00 44.75           N  \nANISOU 2859  NZ  LYS D 151     3606   5781   7616    799     50    683       N  \nATOM   2860  N   GLY D 152      -7.275  11.384  11.752  1.00 38.62           N  \nANISOU 2860  N   GLY D 152     3327   5248   6098    565    108    301       N  \nATOM   2861  CA  GLY D 152      -6.779  12.752  11.858  1.00 39.55           C  \nANISOU 2861  CA  GLY D 152     3416   5224   6384    565    199    207       C  \nATOM   2862  C   GLY D 152      -5.303  12.923  12.224  1.00 38.66           C  \nANISOU 2862  C   GLY D 152     3362   5164   6161    495    225     73       C  \nATOM   2863  O   GLY D 152      -4.955  13.902  12.889  1.00 39.34           O  \nANISOU 2863  O   GLY D 152     3408   5184   6353    458    336   -105       O  \nATOM   2864  N   TYR D 153      -4.433  12.014  11.763  1.00 36.22           N  \nANISOU 2864  N   TYR D 153     3125   4962   5672    468    133    139       N  \nATOM   2865  CA  TYR D 153      -3.002  12.130  12.001  1.00 35.50           C  \nANISOU 2865  CA  TYR D 153     3052   4929   5505    409    142     34       C  \nATOM   2866  C   TYR D 153      -2.139  12.574  10.781  1.00 35.09           C  \nANISOU 2866  C   TYR D 153     3036   4788   5509    379    135    109       C  \nATOM   2867  O   TYR D 153      -2.538  12.462   9.610  1.00 35.32           O  \nANISOU 2867  O   TYR D 153     3103   4763   5552    394     93    275       O  \nATOM   2868  CB  TYR D 153      -2.474  10.804  12.523  1.00 34.68           C  \nANISOU 2868  CB  TYR D 153     2964   5007   5202    406     66     44       C  \nATOM   2869  CG  TYR D 153      -2.391   9.678  11.497  1.00 32.86           C  \nANISOU 2869  CG  TYR D 153     2785   4777   4923    436     -7    186       C  \nATOM   2870  CD1 TYR D 153      -3.446   8.786  11.317  1.00 33.99           C  \nANISOU 2870  CD1 TYR D 153     2948   4925   5041    466    -45    284       C  \nATOM   2871  CD2 TYR D 153      -1.222   9.452  10.788  1.00 33.50           C  \nANISOU 2871  CD2 TYR D 153     2879   4861   4988    415    -19    184       C  \nATOM   2872  CE1 TYR D 153      -3.353   7.703  10.399  1.00 33.92           C  \nANISOU 2872  CE1 TYR D 153     2982   4911   4995    464    -91    357       C  \nATOM   2873  CE2 TYR D 153      -1.083   8.369   9.894  1.00 32.36           C  \nANISOU 2873  CE2 TYR D 153     2771   4717   4807    424    -48    251       C  \nATOM   2874  CZ  TYR D 153      -2.174   7.519   9.687  1.00 33.10           C  \nANISOU 2874  CZ  TYR D 153     2895   4802   4878    443    -83    328       C  \nATOM   2875  OH  TYR D 153      -2.063   6.477   8.816  1.00 32.12           O  \nANISOU 2875  OH  TYR D 153     2803   4666   4734    426    -89    341       O  \nATOM   2876  N   PHE D 154      -0.935  13.045  11.065  1.00 35.49           N  \nANISOU 2876  N   PHE D 154     3064   4855   5564    314    177    -15       N  \nATOM   2877  CA  PHE D 154       0.014  13.425  10.032  1.00 34.54           C  \nANISOU 2877  CA  PHE D 154     2965   4674   5482    261    198     34       C  \nATOM   2878  C   PHE D 154       1.427  13.542  10.606  1.00 35.78           C  \nANISOU 2878  C   PHE D 154     3062   4922   5608    187    222   -132       C  \nATOM   2879  O   PHE D 154       1.603  13.983  11.738  1.00 36.71           O  \nANISOU 2879  O   PHE D 154     3121   5089   5735    146    248   -305       O  \nATOM   2880  CB  PHE D 154      -0.354  14.815   9.447  1.00 36.04           C  \nANISOU 2880  CB  PHE D 154     3156   4644   5892    240    278    105       C  \nATOM   2881  CG  PHE D 154       0.439  15.168   8.199  1.00 34.52           C  \nANISOU 2881  CG  PHE D 154     3003   4401   5710    168    304    230       C  \nATOM   2882  CD1 PHE D 154       0.033  14.701   6.929  1.00 33.36           C  \nANISOU 2882  CD1 PHE D 154     2923   4295   5455    170    241    449       C  \nATOM   2883  CD2 PHE D 154       1.606  15.885   8.287  1.00 35.53           C  \nANISOU 2883  CD2 PHE D 154     3096   4481   5921     71    393    115       C  \nATOM   2884  CE1 PHE D 154       0.831  14.945   5.784  1.00 35.52           C  \nANISOU 2884  CE1 PHE D 154     3239   4580   5674     70    284    551       C  \nATOM   2885  CE2 PHE D 154       2.384  16.176   7.120  1.00 38.00           C  \nANISOU 2885  CE2 PHE D 154     3443   4768   6226    -18    442    234       C  \nATOM   2886  CZ  PHE D 154       1.982  15.709   5.892  1.00 36.62           C  \nANISOU 2886  CZ  PHE D 154     3345   4650   5916    -18    393    455       C  \nATOM   2887  N   PRO D 155       2.451  13.153   9.833  1.00 34.10           N  \nANISOU 2887  N   PRO D 155     2847   4754   5353    154    219   -100       N  \nATOM   2888  CA  PRO D 155       2.445  12.412   8.598  1.00 33.80           C  \nANISOU 2888  CA  PRO D 155     2870   4726   5244    169    205     36       C  \nATOM   2889  C   PRO D 155       2.337  10.889   8.858  1.00 32.79           C  \nANISOU 2889  C   PRO D 155     2738   4717   5003    245    126     47       C  \nATOM   2890  O   PRO D 155       2.285  10.463  10.008  1.00 32.85           O  \nANISOU 2890  O   PRO D 155     2697   4804   4980    290     69     -2       O  \nATOM   2891  CB  PRO D 155       3.840  12.699   8.043  1.00 35.68           C  \nANISOU 2891  CB  PRO D 155     3063   4981   5512     80    280    -24       C  \nATOM   2892  CG  PRO D 155       4.721  12.680   9.306  1.00 34.07           C  \nANISOU 2892  CG  PRO D 155     2736   4878   5328     72    251   -196       C  \nATOM   2893  CD  PRO D 155       3.829  13.429  10.310  1.00 36.03           C  \nANISOU 2893  CD  PRO D 155     2995   5077   5616     76    243   -255       C  \nATOM   2894  N   GLU D 156       2.379  10.098   7.793  1.00 33.36           N  \nANISOU 2894  N   GLU D 156     2855   4801   5018    241    136    105       N  \nATOM   2895  CA  GLU D 156       2.653   8.653   7.926  1.00 33.97           C  \nANISOU 2895  CA  GLU D 156     2901   4936   5067    301    105     80       C  \nATOM   2896  C   GLU D 156       4.026   8.395   8.518  1.00 35.53           C  \nANISOU 2896  C   GLU D 156     2973   5194   5331    321    110     -9       C  \nATOM   2897  O   GLU D 156       4.932   9.268   8.451  1.00 35.50           O  \nANISOU 2897  O   GLU D 156     2910   5203   5372    253    162    -81       O  \nATOM   2898  CB  GLU D 156       2.529   7.986   6.571  1.00 34.40           C  \nANISOU 2898  CB  GLU D 156     3020   4984   5065    256    158     92       C  \nATOM   2899  CG  GLU D 156       1.075   7.906   6.081  1.00 36.71           C  \nANISOU 2899  CG  GLU D 156     3406   5265   5275    240    105    196       C  \nATOM   2900  CD  GLU D 156       0.443   6.561   6.465  1.00 41.04           C  \nANISOU 2900  CD  GLU D 156     3953   5806   5831    300     59    188       C  \nATOM   2901  OE1 GLU D 156       0.237   6.254   7.678  1.00 38.58           O  \nANISOU 2901  OE1 GLU D 156     3599   5485   5573    382      6    210       O  \nATOM   2902  OE2 GLU D 156       0.206   5.781   5.520  1.00 42.80           O  \nANISOU 2902  OE2 GLU D 156     4218   6041   6001    243     90    150       O  \nATOM   2903  N   PRO D 157       4.219   7.213   9.134  1.00 36.32           N  \nANISOU 2903  N   PRO D 157     3008   5328   5464    409     49     12       N  \nATOM   2904  CA  PRO D 157       3.316   6.094   9.327  1.00 36.60           C  \nANISOU 2904  CA  PRO D 157     3089   5326   5489    478      2     96       C  \nATOM   2905  C   PRO D 157       2.652   6.037  10.702  1.00 38.04           C  \nANISOU 2905  C   PRO D 157     3265   5577   5611    518    -97    178       C  \nATOM   2906  O   PRO D 157       2.851   6.909  11.542  1.00 38.83           O  \nANISOU 2906  O   PRO D 157     3326   5770   5655    485   -129    139       O  \nATOM   2907  CB  PRO D 157       4.231   4.874   9.104  1.00 38.08           C  \nANISOU 2907  CB  PRO D 157     3179   5472   5816    545     31     77       C  \nATOM   2908  CG  PRO D 157       5.585   5.331   9.685  1.00 37.81           C  \nANISOU 2908  CG  PRO D 157     2988   5530   5847    556      3     37       C  \nATOM   2909  CD  PRO D 157       5.595   6.865   9.544  1.00 37.49           C  \nANISOU 2909  CD  PRO D 157     2995   5537   5711    444     36    -36       C  \nATOM   2910  N   VAL D 158       1.791   5.035  10.866  1.00 38.93           N  \nANISOU 2910  N   VAL D 158     3419   5645   5725    563   -124    270       N  \nATOM   2911  CA  VAL D 158       1.207   4.636  12.144  1.00 39.73           C  \nANISOU 2911  CA  VAL D 158     3508   5823   5764    594   -201    379       C  \nATOM   2912  C   VAL D 158       1.375   3.086  12.159  1.00 41.15           C  \nANISOU 2912  C   VAL D 158     3651   5913   6071    671   -220    496       C  \nATOM   2913  O   VAL D 158       1.322   2.481  11.102  1.00 40.39           O  \nANISOU 2913  O   VAL D 158     3584   5677   6083    674   -147    442       O  \nATOM   2914  CB  VAL D 158      -0.268   5.055  12.176  1.00 39.92           C  \nANISOU 2914  CB  VAL D 158     3621   5832   5712    554   -179    387       C  \nATOM   2915  CG1 VAL D 158      -1.135   4.038  12.837  1.00 42.30           C  \nANISOU 2915  CG1 VAL D 158     3937   6134   5998    576   -207    513       C  \nATOM   2916  CG2 VAL D 158      -0.432   6.424  12.886  1.00 38.89           C  \nANISOU 2916  CG2 VAL D 158     3481   5794   5501    503   -166    301       C  \nATOM   2917  N   THR D 159       1.635   2.463  13.309  1.00 41.60           N  \nANISOU 2917  N   THR D 159     3634   6046   6123    722   -309    652       N  \nATOM   2918  CA  THR D 159       1.508   1.010  13.416  1.00 43.83           C  \nANISOU 2918  CA  THR D 159     3892   6194   6567    795   -318    811       C  \nATOM   2919  C   THR D 159       0.403   0.683  14.460  1.00 43.22           C  \nANISOU 2919  C   THR D 159     3867   6190   6362    764   -361    979       C  \nATOM   2920  O   THR D 159       0.238   1.375  15.457  1.00 43.37           O  \nANISOU 2920  O   THR D 159     3884   6423   6171    711   -418   1008       O  \nATOM   2921  CB  THR D 159       2.824   0.419  13.770  1.00 46.06           C  \nANISOU 2921  CB  THR D 159     4016   6474   7010    893   -384    917       C  \nATOM   2922  OG1 THR D 159       3.362   1.182  14.835  1.00 52.59           O  \nANISOU 2922  OG1 THR D 159     4768   7559   7652    865   -506    969       O  \nATOM   2923  CG2 THR D 159       3.840   0.546  12.608  1.00 49.08           C  \nANISOU 2923  CG2 THR D 159     4332   6750   7565    919   -290    728       C  \nATOM   2924  N   VAL D 160      -0.409  -0.317  14.170  1.00 42.63           N  \nANISOU 2924  N   VAL D 160     3842   5946   6409    768   -309   1052       N  \nATOM   2925  CA  VAL D 160      -1.471  -0.725  15.060  1.00 42.99           C  \nANISOU 2925  CA  VAL D 160     3930   6041   6361    723   -321   1215       C  \nATOM   2926  C   VAL D 160      -1.185  -2.200  15.312  1.00 45.18           C  \nANISOU 2926  C   VAL D 160     4152   6139   6872    796   -335   1445       C  \nATOM   2927  O   VAL D 160      -0.855  -2.904  14.371  1.00 46.28           O  \nANISOU 2927  O   VAL D 160     4272   6039   7273    845   -265   1367       O  \nATOM   2928  CB  VAL D 160      -2.859  -0.561  14.394  1.00 40.69           C  \nANISOU 2928  CB  VAL D 160     3732   5679   6048    641   -232   1091       C  \nATOM   2929  CG1 VAL D 160      -4.007  -0.902  15.377  1.00 39.73           C  \nANISOU 2929  CG1 VAL D 160     3635   5631   5829    577   -219   1243       C  \nATOM   2930  CG2 VAL D 160      -3.020   0.848  13.845  1.00 39.53           C  \nANISOU 2930  CG2 VAL D 160     3618   5628   5775    600   -214    886       C  \nATOM   2931  N   THR D 161      -1.292  -2.641  16.567  1.00 46.78           N  \nANISOU 2931  N   THR D 161     4325   6460   6987    794   -413   1724       N  \nATOM   2932  CA  THR D 161      -1.252  -4.048  16.921  1.00 49.48           C  \nANISOU 2932  CA  THR D 161     4622   6608   7570    853   -423   2014       C  \nATOM   2933  C   THR D 161      -2.458  -4.340  17.810  1.00 50.12           C  \nANISOU 2933  C   THR D 161     4773   6780   7487    745   -401   2199       C  \nATOM   2934  O   THR D 161      -3.200  -3.430  18.188  1.00 49.28           O  \nANISOU 2934  O   THR D 161     4729   6905   7088    639   -379   2083       O  \nATOM   2935  CB  THR D 161       0.026  -4.373  17.692  1.00 52.73           C  \nANISOU 2935  CB  THR D 161     4888   7105   8039    962   -573   2280       C  \nATOM   2936  OG1 THR D 161       0.098  -3.549  18.870  1.00 53.71           O  \nANISOU 2936  OG1 THR D 161     5005   7630   7771    882   -697   2376       O  \nATOM   2937  CG2 THR D 161       1.292  -4.126  16.808  1.00 53.22           C  \nANISOU 2937  CG2 THR D 161     4843   7070   8306   1071   -574   2087       C  \nATOM   2938  N   TRP D 162      -2.646  -5.599  18.160  1.00 52.38           N  \nANISOU 2938  N   TRP D 162     5038   6873   7991    769   -388   2488       N  \nATOM   2939  CA  TRP D 162      -3.767  -5.983  19.008  1.00 53.58           C  \nANISOU 2939  CA  TRP D 162     5250   7102   8006    649   -347   2694       C  \nATOM   2940  C   TRP D 162      -3.267  -6.794  20.202  1.00 56.95           C  \nANISOU 2940  C   TRP D 162     5607   7595   8433    682   -461   3174       C  \nATOM   2941  O   TRP D 162      -2.458  -7.698  20.024  1.00 59.48           O  \nANISOU 2941  O   TRP D 162     5836   7660   9104    817   -506   3376       O  \nATOM   2942  CB  TRP D 162      -4.789  -6.743  18.164  1.00 52.85           C  \nANISOU 2942  CB  TRP D 162     5211   6686   8182    592   -189   2579       C  \nATOM   2943  CG  TRP D 162      -5.517  -5.858  17.183  1.00 50.59           C  \nANISOU 2943  CG  TRP D 162     4985   6439   7798    521   -112   2178       C  \nATOM   2944  CD1 TRP D 162      -5.143  -5.574  15.900  1.00 49.88           C  \nANISOU 2944  CD1 TRP D 162     4898   6219   7835    562    -83   1878       C  \nATOM   2945  CD2 TRP D 162      -6.687  -5.084  17.427  1.00 47.68           C  \nANISOU 2945  CD2 TRP D 162     4661   6275   7177    399    -62   2059       C  \nATOM   2946  NE1 TRP D 162      -6.052  -4.715  15.315  1.00 46.62           N  \nANISOU 2946  NE1 TRP D 162     4533   5915   7263    472    -43   1627       N  \nATOM   2947  CE2 TRP D 162      -7.003  -4.403  16.244  1.00 45.75           C  \nANISOU 2947  CE2 TRP D 162     4437   5992   6952    386    -28   1730       C  \nATOM   2948  CE3 TRP D 162      -7.515  -4.923  18.523  1.00 48.53           C  \nANISOU 2948  CE3 TRP D 162     4782   6599   7058    293    -29   2203       C  \nATOM   2949  CZ2 TRP D 162      -8.100  -3.574  16.142  1.00 44.50           C  \nANISOU 2949  CZ2 TRP D 162     4289   5976   6641    300     15   1572       C  \nATOM   2950  CZ3 TRP D 162      -8.603  -4.116  18.420  1.00 44.29           C  \nANISOU 2950  CZ3 TRP D 162     4255   6195   6378    202     47   1996       C  \nATOM   2951  CH2 TRP D 162      -8.897  -3.460  17.239  1.00 46.63           C  \nANISOU 2951  CH2 TRP D 162     4550   6419   6746    219     60   1697       C  \nATOM   2952  N   ASN D 163      -3.750  -6.461  21.406  1.00 58.54           N  \nANISOU 2952  N   ASN D 163     5842   8148   8250    555   -502   3359       N  \nATOM   2953  CA  ASN D 163      -3.321  -7.084  22.675  1.00 62.50           C  \nANISOU 2953  CA  ASN D 163     6286   8833   8628    543   -639   3859       C  \nATOM   2954  C   ASN D 163      -1.804  -7.197  22.723  1.00 64.76           C  \nANISOU 2954  C   ASN D 163     6427   9131   9048    710   -834   4022       C  \nATOM   2955  O   ASN D 163      -1.244  -8.250  23.026  1.00 67.47           O  \nANISOU 2955  O   ASN D 163     6670   9297   9668    818   -926   4439       O  \nATOM   2956  CB  ASN D 163      -3.990  -8.444  22.872  1.00 65.03           C  \nANISOU 2956  CB  ASN D 163     6625   8855   9226    519   -554   4214       C  \nATOM   2957  CG  ASN D 163      -5.461  -8.330  23.212  1.00 64.60           C  \nANISOU 2957  CG  ASN D 163     6681   8910   8954    317   -387   4146       C  \nATOM   2958  OD1 ASN D 163      -6.024  -7.246  23.276  1.00 63.19           O  \nANISOU 2958  OD1 ASN D 163     6554   9007   8446    211   -327   3825       O  \nATOM   2959  ND2 ASN D 163      -6.093  -9.467  23.440  1.00 71.21           N  \nANISOU 2959  ND2 ASN D 163     7534   9505  10015    262   -298   4454       N  \nATOM   2960  N   SER D 164      -1.149  -6.126  22.325  1.00 63.51           N  \nANISOU 2960  N   SER D 164     6238   9135   8757    740   -883   3685       N  \nATOM   2961  CA  SER D 164       0.293  -6.049  22.286  1.00 65.91           C  \nANISOU 2961  CA  SER D 164     6381   9484   9177    881  -1055   3759       C  \nATOM   2962  C   SER D 164       0.992  -7.039  21.386  1.00 67.12           C  \nANISOU 2962  C   SER D 164     6421   9167   9911   1086  -1027   3827       C  \nATOM   2963  O   SER D 164       2.098  -7.401  21.633  1.00 68.89           O  \nANISOU 2963  O   SER D 164     6470   9389  10314   1221  -1180   4068       O  \nATOM   2964  CB  SER D 164       0.843  -6.156  23.676  1.00 69.53           C  \nANISOU 2964  CB  SER D 164     6742  10338   9336    836  -1281   4187       C  \nATOM   2965  OG  SER D 164       0.543  -4.985  24.368  1.00 70.08           O  \nANISOU 2965  OG  SER D 164     6882  10880   8865    644  -1300   3979       O  \nATOM   2966  N   GLY D 165       0.361  -7.421  20.305  1.00 66.07           N  \nANISOU 2966  N   GLY D 165     6374   8654  10075   1100   -824   3576       N  \nATOM   2967  CA  GLY D 165       0.944  -8.357  19.383  1.00 67.40           C  \nANISOU 2967  CA  GLY D 165     6444   8362  10801   1264   -741   3552       C  \nATOM   2968  C   GLY D 165       0.609  -9.807  19.630  1.00 71.02           C  \nANISOU 2968  C   GLY D 165     6872   8453  11658   1316   -688   3922       C  \nATOM   2969  O   GLY D 165       0.927 -10.647  18.822  1.00 72.52           O  \nANISOU 2969  O   GLY D 165     6990   8204  12360   1431   -566   3849       O  \nATOM   2970  N   SER D 166      -0.056 -10.111  20.730  1.00 73.29           N  \nANISOU 2970  N   SER D 166     7213   8906  11726   1216   -752   4305       N  \nATOM   2971  CA  SER D 166      -0.478 -11.487  20.960  1.00 77.21           C  \nANISOU 2971  CA  SER D 166     7695   9022  12620   1241   -678   4678       C  \nATOM   2972  C   SER D 166      -1.510 -11.954  19.960  1.00 75.81           C  \nANISOU 2972  C   SER D 166     7636   8461  12707   1154   -419   4345       C  \nATOM   2973  O   SER D 166      -1.533 -13.107  19.592  1.00 78.92           O  \nANISOU 2973  O   SER D 166     7980   8379  13628   1219   -299   4454       O  \nATOM   2974  CB  SER D 166      -0.902 -11.747  22.383  1.00 80.10           C  \nANISOU 2974  CB  SER D 166     8085   9670  12677   1135   -803   5212       C  \nATOM   2975  OG  SER D 166      -2.024 -11.000  22.708  1.00 79.62           O  \nANISOU 2975  OG  SER D 166     8193   9935  12122    914   -728   5021       O  \nATOM   2976  N   LEU D 167      -2.393 -11.060  19.543  1.00 72.38           N  \nANISOU 2976  N   LEU D 167     7345   8235  11921    996   -333   3943       N  \nATOM   2977  CA  LEU D 167      -3.381 -11.406  18.539  1.00 71.25           C  \nANISOU 2977  CA  LEU D 167     7294   7798  11979    891   -119   3601       C  \nATOM   2978  C   LEU D 167      -2.773 -11.064  17.218  1.00 69.05           C  \nANISOU 2978  C   LEU D 167     6988   7379  11868    966    -52   3142       C  \nATOM   2979  O   LEU D 167      -2.618  -9.929  16.892  1.00 67.09           O  \nANISOU 2979  O   LEU D 167     6776   7417  11298    946   -100   2867       O  \nATOM   2980  CB  LEU D 167      -4.647 -10.594  18.736  1.00 68.23           C  \nANISOU 2980  CB  LEU D 167     7042   7727  11154    693    -76   3427       C  \nATOM   2981  CG  LEU D 167      -5.904 -11.290  19.215  1.00 69.50           C  \nANISOU 2981  CG  LEU D 167     7264   7797  11346    531     36   3615       C  \nATOM   2982  CD1 LEU D 167      -6.761 -10.294  19.929  1.00 63.77           C  \nANISOU 2982  CD1 LEU D 167     6610   7521  10097    382     18   3576       C  \nATOM   2983  CD2 LEU D 167      -6.627 -11.926  18.042  1.00 66.62           C  \nANISOU 2983  CD2 LEU D 167     6924   7050  11336    453    222   3293       C  \nATOM   2984  N   SER D 168      -2.420 -12.072  16.461  1.00 71.50           N  \nANISOU 2984  N   SER D 168     7230   7235  12702   1042     80   3058       N  \nATOM   2985  CA  SER D 168      -1.753 -11.861  15.223  1.00 70.31           C  \nANISOU 2985  CA  SER D 168     7040   6954  12718   1100    171   2629       C  \nATOM   2986  C   SER D 168      -2.567 -12.336  14.072  1.00 69.74           C  \nANISOU 2986  C   SER D 168     7044   6616  12836    955    384   2231       C  \nATOM   2987  O   SER D 168      -2.692 -11.669  13.073  1.00 68.01           O  \nANISOU 2987  O   SER D 168     6885   6522  12431    873    438   1814       O  \nATOM   2988  CB  SER D 168      -0.430 -12.618  15.244  1.00 73.43           C  \nANISOU 2988  CB  SER D 168     7244   7052  13600   1320    167   2803       C  \nATOM   2989  OG  SER D 168      -0.615 -13.934  15.726  1.00 78.02           O  \nANISOU 2989  OG  SER D 168     7764   7238  14642   1368    228   3157       O  \nATOM   2990  N   SER D 169      -3.088 -13.531  14.187  1.00 71.59           N  \nANISOU 2990  N   SER D 169     7267   6475  13457    912    507   2367       N  \nATOM   2991  CA  SER D 169      -3.888 -14.043  13.116  1.00 71.51           C  \nANISOU 2991  CA  SER D 169     7316   6222  13629    739    710   1964       C  \nATOM   2992  C   SER D 169      -5.218 -13.366  13.225  1.00 67.90           C  \nANISOU 2992  C   SER D 169     6986   6089  12724    537    664   1888       C  \nATOM   2993  O   SER D 169      -5.562 -12.856  14.263  1.00 66.89           O  \nANISOU 2993  O   SER D 169     6889   6244  12280    537    531   2198       O  \nATOM   2994  CB  SER D 169      -4.019 -15.560  13.176  1.00 75.79           C  \nANISOU 2994  CB  SER D 169     7793   6213  14791    740    883   2098       C  \nATOM   2995  OG  SER D 169      -4.486 -15.966  14.428  1.00 79.30           O  \nANISOU 2995  OG  SER D 169     8242   6647  15240    741    802   2626       O  \nATOM   2996  N   GLY D 170      -5.938 -13.346  12.125  1.00 66.10           N  \nANISOU 2996  N   GLY D 170     6812   5837  12464    359    777   1457       N  \nATOM   2997  CA  GLY D 170      -7.243 -12.752  12.100  1.00 63.39           C  \nANISOU 2997  CA  GLY D 170     6547   5775  11761    171    736   1365       C  \nATOM   2998  C   GLY D 170      -7.163 -11.256  12.218  1.00 58.86           C  \nANISOU 2998  C   GLY D 170     6015   5667  10682    213    572   1335       C  \nATOM   2999  O   GLY D 170      -8.116 -10.620  12.570  1.00 58.07           O  \nANISOU 2999  O   GLY D 170     5951   5827  10285    119    511   1374       O  \nATOM   3000  N   VAL D 171      -6.002 -10.711  11.935  1.00 56.93           N  \nANISOU 3000  N   VAL D 171     5748   5500  10381    356    518   1262       N  \nATOM   3001  CA  VAL D 171      -5.748  -9.270  12.019  1.00 53.49           C  \nANISOU 3001  CA  VAL D 171     5343   5458   9521    402    379   1225       C  \nATOM   3002  C   VAL D 171      -5.317  -8.684  10.682  1.00 52.37           C  \nANISOU 3002  C   VAL D 171     5220   5388   9287    370    411    843       C  \nATOM   3003  O   VAL D 171      -4.449  -9.222  10.014  1.00 53.49           O  \nANISOU 3003  O   VAL D 171     5318   5322   9681    419    510    681       O  \nATOM   3004  CB  VAL D 171      -4.582  -8.911  13.003  1.00 53.55           C  \nANISOU 3004  CB  VAL D 171     5294   5576   9476    590    259   1514       C  \nATOM   3005  CG1 VAL D 171      -4.144  -7.449  12.823  1.00 51.04           C  \nANISOU 3005  CG1 VAL D 171     4999   5598   8796    619    156   1373       C  \nATOM   3006  CG2 VAL D 171      -4.974  -9.179  14.453  1.00 55.94           C  \nANISOU 3006  CG2 VAL D 171     5590   5956   9707    599    186   1932       C  \nATOM   3007  N   HIS D 172      -5.877  -7.540  10.311  1.00 49.25           N  \nANISOU 3007  N   HIS D 172     4879   5295   8539    293    334    715       N  \nATOM   3008  CA  HIS D 172      -5.280  -6.782   9.245  1.00 48.62           C  \nANISOU 3008  CA  HIS D 172     4818   5342   8313    283    333    456       C  \nATOM   3009  C   HIS D 172      -5.646  -5.320   9.350  1.00 44.42           C  \nANISOU 3009  C   HIS D 172     4322   5135   7417    275    209    482       C  \nATOM   3010  O   HIS D 172      -6.737  -4.961   9.843  1.00 43.80           O  \nANISOU 3010  O   HIS D 172     4255   5181   7205    219    154    580       O  \nATOM   3011  CB  HIS D 172      -5.643  -7.327   7.853  1.00 50.09           C  \nANISOU 3011  CB  HIS D 172     5026   5433   8571    113    449    113       C  \nATOM   3012  CG  HIS D 172      -7.114  -7.428   7.602  1.00 51.59           C  \nANISOU 3012  CG  HIS D 172     5239   5702   8661    -67    426     54       C  \nATOM   3013  ND1 HIS D 172      -7.761  -8.638   7.456  1.00 57.37           N  \nANISOU 3013  ND1 HIS D 172     5952   6197   9649   -193    535    -32       N  \nATOM   3014  CD2 HIS D 172      -8.054  -6.474   7.413  1.00 54.01           C  \nANISOU 3014  CD2 HIS D 172     5561   6285   8673   -148    309     58       C  \nATOM   3015  CE1 HIS D 172      -9.043  -8.430   7.231  1.00 57.46           C  \nANISOU 3015  CE1 HIS D 172     5961   6365   9504   -353    476    -78       C  \nATOM   3016  NE2 HIS D 172      -9.246  -7.123   7.192  1.00 58.51           N  \nANISOU 3016  NE2 HIS D 172     6107   6812   9311   -317    334    -15       N  \nATOM   3017  N   THR D 173      -4.724  -4.517   8.839  1.00 42.48           N  \nANISOU 3017  N   THR D 173     4082   5000   7058    325    190    379       N  \nATOM   3018  CA  THR D 173      -4.753  -3.074   8.929  1.00 40.36           C  \nANISOU 3018  CA  THR D 173     3836   4983   6516    342     93    406       C  \nATOM   3019  C   THR D 173      -4.807  -2.478   7.535  1.00 40.31           C  \nANISOU 3019  C   THR D 173     3871   5083   6362    235    106    193       C  \nATOM   3020  O   THR D 173      -3.990  -2.848   6.670  1.00 41.30           O  \nANISOU 3020  O   THR D 173     3997   5140   6554    208    196     18       O  \nATOM   3021  CB  THR D 173      -3.475  -2.599   9.649  1.00 40.73           C  \nANISOU 3021  CB  THR D 173     3840   5073   6563    482     56    510       C  \nATOM   3022  OG1 THR D 173      -3.551  -3.066  10.988  1.00 43.93           O  \nANISOU 3022  OG1 THR D 173     4208   5454   7029    553     11    749       O  \nATOM   3023  CG2 THR D 173      -3.412  -1.106   9.736  1.00 38.13           C  \nANISOU 3023  CG2 THR D 173     3529   4958   5998    486    -15    503       C  \nATOM   3024  N   PHE D 174      -5.742  -1.562   7.307  1.00 38.71           N  \nANISOU 3024  N   PHE D 174     3688   5052   5967    172     23    218       N  \nATOM   3025  CA  PHE D 174      -5.991  -1.030   5.966  1.00 38.41           C  \nANISOU 3025  CA  PHE D 174     3682   5148   5762     48      1     84       C  \nATOM   3026  C   PHE D 174      -5.017   0.129   5.676  1.00 37.84           C  \nANISOU 3026  C   PHE D 174     3630   5177   5568     99    -10     93       C  \nATOM   3027  O   PHE D 174      -4.676   0.871   6.567  1.00 37.71           O  \nANISOU 3027  O   PHE D 174     3595   5177   5556    210    -45    212       O  \nATOM   3028  CB  PHE D 174      -7.483  -0.587   5.790  1.00 36.99           C  \nANISOU 3028  CB  PHE D 174     3477   5100   5474    -35   -102    151       C  \nATOM   3029  CG  PHE D 174      -8.459  -1.728   5.931  1.00 38.99           C  \nANISOU 3029  CG  PHE D 174     3699   5268   5848   -127    -79    113       C  \nATOM   3030  CD1 PHE D 174      -8.797  -2.508   4.826  1.00 38.38           C  \nANISOU 3030  CD1 PHE D 174     3628   5199   5753   -307    -49    -83       C  \nATOM   3031  CD2 PHE D 174      -8.995  -2.059   7.179  1.00 37.71           C  \nANISOU 3031  CD2 PHE D 174     3497   5022   5808    -59    -68    258       C  \nATOM   3032  CE1 PHE D 174      -9.617  -3.598   4.949  1.00 40.04           C  \nANISOU 3032  CE1 PHE D 174     3801   5300   6109   -411     -7   -148       C  \nATOM   3033  CE2 PHE D 174      -9.841  -3.152   7.317  1.00 41.40           C  \nANISOU 3033  CE2 PHE D 174     3931   5384   6413   -159    -24    233       C  \nATOM   3034  CZ  PHE D 174     -10.166  -3.925   6.187  1.00 39.68           C  \nANISOU 3034  CZ  PHE D 174     3714   5142   6218   -335      5     23       C  \nATOM   3035  N   PRO D 175      -4.572   0.285   4.433  1.00 37.93           N  \nANISOU 3035  N   PRO D 175     3678   5269   5463     -6     31    -43       N  \nATOM   3036  CA  PRO D 175      -3.738   1.473   4.111  1.00 37.92           C  \nANISOU 3036  CA  PRO D 175     3695   5366   5345     16     27     -7       C  \nATOM   3037  C   PRO D 175      -4.485   2.766   4.442  1.00 36.48           C  \nANISOU 3037  C   PRO D 175     3504   5275   5078     54    -94    180       C  \nATOM   3038  O   PRO D 175      -5.688   2.817   4.234  1.00 34.15           O  \nANISOU 3038  O   PRO D 175     3195   5045   4735      0   -180    246       O  \nATOM   3039  CB  PRO D 175      -3.550   1.379   2.583  1.00 39.84           C  \nANISOU 3039  CB  PRO D 175     3987   5737   5412   -163     84   -162       C  \nATOM   3040  CG  PRO D 175      -3.677  -0.039   2.259  1.00 40.67           C  \nANISOU 3040  CG  PRO D 175     4087   5747   5615   -244    181   -368       C  \nATOM   3041  CD  PRO D 175      -4.618  -0.682   3.338  1.00 39.96           C  \nANISOU 3041  CD  PRO D 175     3959   5521   5703   -164    119   -264       C  \nATOM   3042  N   ALA D 176      -3.786   3.755   4.985  1.00 35.99           N  \nANISOU 3042  N   ALA D 176     3431   5203   5039    143    -91    250       N  \nATOM   3043  CA  ALA D 176      -4.353   5.084   5.267  1.00 36.13           C  \nANISOU 3043  CA  ALA D 176     3430   5254   5041    182   -164    395       C  \nATOM   3044  C   ALA D 176      -4.859   5.849   4.023  1.00 38.67           C  \nANISOU 3044  C   ALA D 176     3773   5684   5232     81   -229    492       C  \nATOM   3045  O   ALA D 176      -4.350   5.658   2.925  1.00 39.61           O  \nANISOU 3045  O   ALA D 176     3944   5893   5212    -35   -195    434       O  \nATOM   3046  CB  ALA D 176      -3.359   5.924   5.987  1.00 34.17           C  \nANISOU 3046  CB  ALA D 176     3165   4962   4856    259   -121    395       C  \nATOM   3047  N   VAL D 177      -5.854   6.731   4.210  1.00 40.41           N  \nANISOU 3047  N   VAL D 177     3943   5906   5505    123   -317    650       N  \nATOM   3048  CA  VAL D 177      -6.272   7.674   3.161  1.00 42.47           C  \nANISOU 3048  CA  VAL D 177     4197   6252   5685     59   -404    828       C  \nATOM   3049  C   VAL D 177      -6.096   9.108   3.633  1.00 42.59           C  \nANISOU 3049  C   VAL D 177     4175   6142   5862    157   -386    953       C  \nATOM   3050  O   VAL D 177      -6.290   9.429   4.797  1.00 42.08           O  \nANISOU 3050  O   VAL D 177     4057   5958   5971    269   -344    911       O  \nATOM   3051  CB  VAL D 177      -7.721   7.442   2.688  1.00 45.10           C  \nANISOU 3051  CB  VAL D 177     4460   6693   5983     12   -547    941       C  \nATOM   3052  CG1 VAL D 177      -7.850   6.008   2.181  1.00 45.48           C  \nANISOU 3052  CG1 VAL D 177     4545   6850   5883   -121   -542    768       C  \nATOM   3053  CG2 VAL D 177      -8.729   7.728   3.833  1.00 45.41           C  \nANISOU 3053  CG2 VAL D 177     4385   6620   6247    148   -567    992       C  \nATOM   3054  N   LEU D 178      -5.697   9.961   2.706  1.00 44.94           N  \nANISOU 3054  N   LEU D 178     4505   6471   6098     93   -400   1097       N  \nATOM   3055  CA  LEU D 178      -5.298  11.337   2.988  1.00 45.19           C  \nANISOU 3055  CA  LEU D 178     4514   6345   6311    156   -349   1204       C  \nATOM   3056  C   LEU D 178      -6.436  12.217   2.570  1.00 48.00           C  \nANISOU 3056  C   LEU D 178     4782   6664   6789    196   -468   1482       C  \nATOM   3057  O   LEU D 178      -6.838  12.183   1.419  1.00 49.70           O  \nANISOU 3057  O   LEU D 178     5006   7040   6838     99   -588   1678       O  \nATOM   3058  CB  LEU D 178      -4.068  11.742   2.167  1.00 45.69           C  \nANISOU 3058  CB  LEU D 178     4659   6446   6255     44   -271   1226       C  \nATOM   3059  CG  LEU D 178      -3.517  13.170   2.360  1.00 44.84           C  \nANISOU 3059  CG  LEU D 178     4533   6151   6352     74   -195   1331       C  \nATOM   3060  CD1 LEU D 178      -3.058  13.345   3.808  1.00 37.83           C  \nANISOU 3060  CD1 LEU D 178     3601   5107   5665    174    -92   1102       C  \nATOM   3061  CD2 LEU D 178      -2.381  13.519   1.340  1.00 44.84           C  \nANISOU 3061  CD2 LEU D 178     4612   6223   6201    -76   -115   1392       C  \nATOM   3062  N   GLN D 179      -6.925  13.009   3.512  1.00 48.97           N  \nANISOU 3062  N   GLN D 179     4808   6586   7209    333   -430   1494       N  \nATOM   3063  CA  GLN D 179      -7.896  14.069   3.251  1.00 52.09           C  \nANISOU 3063  CA  GLN D 179     5080   6861   7849    414   -509   1766       C  \nATOM   3064  C   GLN D 179      -7.481  15.339   4.019  1.00 52.69           C  \nANISOU 3064  C   GLN D 179     5113   6643   8262    504   -359   1726       C  \nATOM   3065  O   GLN D 179      -7.208  15.292   5.217  1.00 51.66           O  \nANISOU 3065  O   GLN D 179     4975   6423   8230    552   -228   1453       O  \nATOM   3066  CB  GLN D 179      -9.294  13.589   3.706  1.00 52.04           C  \nANISOU 3066  CB  GLN D 179     4938   6890   7941    496   -592   1764       C  \nATOM   3067  CG  GLN D 179     -10.427  14.490   3.295  1.00 58.77           C  \nANISOU 3067  CG  GLN D 179     5617   7655   9056    589   -708   2072       C  \nATOM   3068  CD  GLN D 179     -11.772  13.785   3.297  1.00 60.78           C  \nANISOU 3068  CD  GLN D 179     5731   8050   9311    612   -841   2110       C  \nATOM   3069  OE1 GLN D 179     -12.119  13.016   4.227  1.00 64.36           O  \nANISOU 3069  OE1 GLN D 179     6163   8521   9767    634   -763   1864       O  \nATOM   3070  NE2 GLN D 179     -12.514  14.000   2.242  1.00 62.95           N  \nANISOU 3070  NE2 GLN D 179     5904   8453   9560    585  -1048   2431       N  \nATOM   3071  N   SER D 180      -7.410  16.476   3.350  1.00 55.04           N  \nANISOU 3071  N   SER D 180     5382   6794   8734    509   -373   1994       N  \nATOM   3072  CA  SER D 180      -7.227  17.769   4.061  1.00 56.82           C  \nANISOU 3072  CA  SER D 180     5536   6679   9373    597   -217   1956       C  \nATOM   3073  C   SER D 180      -6.042  17.747   4.995  1.00 54.38           C  \nANISOU 3073  C   SER D 180     5308   6320   9033    544    -36   1596       C  \nATOM   3074  O   SER D 180      -6.176  18.119   6.172  1.00 54.83           O  \nANISOU 3074  O   SER D 180     5295   6222   9314    610     95   1350       O  \nATOM   3075  CB  SER D 180      -8.462  18.129   4.908  1.00 57.85           C  \nANISOU 3075  CB  SER D 180     5485   6636   9857    759   -188   1912       C  \nATOM   3076  OG  SER D 180      -9.594  18.292   4.096  1.00 59.95           O  \nANISOU 3076  OG  SER D 180     5623   6925  10228    828   -367   2270       O  \nATOM   3077  N   ASP D 181      -4.912  17.277   4.471  1.00 52.80           N  \nANISOU 3077  N   ASP D 181     5236   6279   8544    414    -30   1554       N  \nATOM   3078  CA  ASP D 181      -3.661  17.194   5.216  1.00 50.87           C  \nANISOU 3078  CA  ASP D 181     5046   6032   8248    349    107   1248       C  \nATOM   3079  C   ASP D 181      -3.750  16.301   6.481  1.00 47.42           C  \nANISOU 3079  C   ASP D 181     4591   5707   7717    394    129    938       C  \nATOM   3080  O   ASP D 181      -2.938  16.442   7.428  1.00 46.78           O  \nANISOU 3080  O   ASP D 181     4505   5607   7660    363    234    680       O  \nATOM   3081  CB  ASP D 181      -3.178  18.636   5.533  1.00 53.46           C  \nANISOU 3081  CB  ASP D 181     5328   6059   8923    338    257   1225       C  \nATOM   3082  CG  ASP D 181      -2.509  19.341   4.309  1.00 57.77           C  \nANISOU 3082  CG  ASP D 181     5930   6538   9479    231    270   1504       C  \nATOM   3083  OD1 ASP D 181      -1.887  18.653   3.438  1.00 59.32           O  \nANISOU 3083  OD1 ASP D 181     6221   6971   9345    122    220   1575       O  \nATOM   3084  OD2 ASP D 181      -2.581  20.599   4.260  1.00 62.84           O  \nANISOU 3084  OD2 ASP D 181     6517   6877  10481    247    356   1636       O  \nATOM   3085  N   LEU D 182      -4.699  15.358   6.507  1.00 44.34           N  \nANISOU 3085  N   LEU D 182     4186   5456   7204    447     26    973       N  \nATOM   3086  CA  LEU D 182      -4.755  14.418   7.625  1.00 41.76           C  \nANISOU 3086  CA  LEU D 182     3856   5249   6762    471     45    739       C  \nATOM   3087  C   LEU D 182      -5.057  13.003   7.143  1.00 40.05           C  \nANISOU 3087  C   LEU D 182     3689   5233   6295    450    -66    787       C  \nATOM   3088  O   LEU D 182      -5.828  12.810   6.208  1.00 42.28           O  \nANISOU 3088  O   LEU D 182     3963   5564   6535    442   -169    974       O  \nATOM   3089  CB  LEU D 182      -5.762  14.914   8.680  1.00 42.80           C  \nANISOU 3089  CB  LEU D 182     3878   5267   7115    557    113    643       C  \nATOM   3090  CG  LEU D 182      -5.471  16.310   9.288  1.00 43.11           C  \nANISOU 3090  CG  LEU D 182     3856   5075   7446    562    269    512       C  \nATOM   3091  CD1 LEU D 182      -6.692  16.910  10.023  1.00 44.31           C  \nANISOU 3091  CD1 LEU D 182     3873   5077   7886    656    360    442       C  \nATOM   3092  CD2 LEU D 182      -4.226  16.235  10.195  1.00 39.79           C  \nANISOU 3092  CD2 LEU D 182     3479   4742   6896    469    353    233       C  \nATOM   3093  N   TYR D 183      -4.445  12.009   7.760  1.00 37.34           N  \nANISOU 3093  N   TYR D 183     3383   5003   5799    431    -49    624       N  \nATOM   3094  CA  TYR D 183      -4.652  10.618   7.376  1.00 36.87           C  \nANISOU 3094  CA  TYR D 183     3365   5079   5562    407   -121    636       C  \nATOM   3095  C   TYR D 183      -5.669   9.912   8.251  1.00 36.75           C  \nANISOU 3095  C   TYR D 183     3304   5099   5560    456   -139    601       C  \nATOM   3096  O   TYR D 183      -5.802  10.260   9.415  1.00 38.22           O  \nANISOU 3096  O   TYR D 183     3444   5259   5819    496    -75    507       O  \nATOM   3097  CB  TYR D 183      -3.360   9.847   7.475  1.00 35.54           C  \nANISOU 3097  CB  TYR D 183     3244   4979   5280    371    -85    514       C  \nATOM   3098  CG  TYR D 183      -2.378  10.144   6.385  1.00 37.14           C  \nANISOU 3098  CG  TYR D 183     3492   5193   5423    293    -53    536       C  \nATOM   3099  CD1 TYR D 183      -2.434   9.467   5.159  1.00 38.34           C  \nANISOU 3099  CD1 TYR D 183     3699   5436   5432    214    -80    582       C  \nATOM   3100  CD2 TYR D 183      -1.378  11.090   6.578  1.00 37.98           C  \nANISOU 3100  CD2 TYR D 183     3583   5239   5606    270     20    485       C  \nATOM   3101  CE1 TYR D 183      -1.523   9.750   4.136  1.00 42.53           C  \nANISOU 3101  CE1 TYR D 183     4272   6011   5874    115    -22    590       C  \nATOM   3102  CE2 TYR D 183      -0.454  11.346   5.600  1.00 42.14           C  \nANISOU 3102  CE2 TYR D 183     4144   5787   6079    181     73    505       C  \nATOM   3103  CZ  TYR D 183      -0.507  10.681   4.385  1.00 42.30           C  \nANISOU 3103  CZ  TYR D 183     4223   5912   5936    105     59    561       C  \nATOM   3104  OH  TYR D 183       0.404  11.002   3.387  1.00 46.45           O  \nANISOU 3104  OH  TYR D 183     4782   6485   6380     -9    141    576       O  \nATOM   3105  N   THR D 184      -6.371   8.927   7.685  1.00 35.87           N  \nANISOU 3105  N   THR D 184     3201   5060   5366    427   -212    661       N  \nATOM   3106  CA  THR D 184      -7.239   8.038   8.466  1.00 36.04           C  \nANISOU 3106  CA  THR D 184     3183   5116   5391    446   -215    631       C  \nATOM   3107  C   THR D 184      -7.037   6.623   8.018  1.00 35.80           C  \nANISOU 3107  C   THR D 184     3210   5141   5252    385   -242    602       C  \nATOM   3108  O   THR D 184      -6.956   6.362   6.830  1.00 35.99           O  \nANISOU 3108  O   THR D 184     3270   5206   5197    312   -287    621       O  \nATOM   3109  CB  THR D 184      -8.757   8.445   8.283  1.00 37.62           C  \nANISOU 3109  CB  THR D 184     3278   5307   5708    470   -265    735       C  \nATOM   3110  OG1 THR D 184      -8.921   9.809   8.684  1.00 39.37           O  \nANISOU 3110  OG1 THR D 184     3428   5422   6106    541   -209    747       O  \nATOM   3111  CG2 THR D 184      -9.736   7.570   9.053  1.00 35.76           C  \nANISOU 3111  CG2 THR D 184     2984   5112   5488    468   -248    704       C  \nATOM   3112  N   LEU D 185      -6.941   5.700   8.964  1.00 34.82           N  \nANISOU 3112  N   LEU D 185     3088   5016   5124    402   -205    554       N  \nATOM   3113  CA  LEU D 185      -7.011   4.281   8.658  1.00 35.88           C  \nANISOU 3113  CA  LEU D 185     3251   5141   5238    352   -210    534       C  \nATOM   3114  C   LEU D 185      -7.840   3.548   9.691  1.00 36.04           C  \nANISOU 3114  C   LEU D 185     3233   5155   5305    359   -188    572       C  \nATOM   3115  O   LEU D 185      -8.109   4.080  10.752  1.00 34.55           O  \nANISOU 3115  O   LEU D 185     3005   4999   5121    401   -155    592       O  \nATOM   3116  CB  LEU D 185      -5.598   3.665   8.615  1.00 35.51           C  \nANISOU 3116  CB  LEU D 185     3251   5055   5185    366   -168    469       C  \nATOM   3117  CG  LEU D 185      -4.717   3.445   9.855  1.00 36.33           C  \nANISOU 3117  CG  LEU D 185     3335   5152   5315    440   -143    486       C  \nATOM   3118  CD1 LEU D 185      -5.108   2.226  10.789  1.00 37.25           C  \nANISOU 3118  CD1 LEU D 185     3435   5234   5483    455   -136    569       C  \nATOM   3119  CD2 LEU D 185      -3.221   3.268   9.322  1.00 30.05           C  \nANISOU 3119  CD2 LEU D 185     2546   4326   4545    455   -114    414       C  \nATOM   3120  N   SER D 186      -8.159   2.292   9.417  1.00 37.58           N  \nANISOU 3120  N   SER D 186     3439   5303   5534    300   -182    564       N  \nATOM   3121  CA  SER D 186      -8.635   1.419  10.463  1.00 39.00           C  \nANISOU 3121  CA  SER D 186     3598   5452   5768    297   -140    628       C  \nATOM   3122  C   SER D 186      -7.997   0.033  10.401  1.00 39.32           C  \nANISOU 3122  C   SER D 186     3676   5365   5898    283   -103    629       C  \nATOM   3123  O   SER D 186      -7.320  -0.385   9.405  1.00 37.90           O  \nANISOU 3123  O   SER D 186     3529   5114   5755    257    -91    525       O  \nATOM   3124  CB  SER D 186     -10.170   1.334  10.438  1.00 41.29           C  \nANISOU 3124  CB  SER D 186     3813   5776   6097    231   -147    652       C  \nATOM   3125  OG  SER D 186     -10.561   1.058   9.133  1.00 48.18           O  \nANISOU 3125  OG  SER D 186     4680   6651   6974    144   -204    587       O  \nATOM   3126  N   SER D 187      -8.209  -0.679  11.495  1.00 38.96           N  \nANISOU 3126  N   SER D 187     3616   5285   5902    293    -68    749       N  \nATOM   3127  CA  SER D 187      -7.636  -1.993  11.661  1.00 39.52           C  \nANISOU 3127  CA  SER D 187     3700   5191   6121    304    -28    812       C  \nATOM   3128  C   SER D 187      -8.738  -2.927  12.167  1.00 40.64           C  \nANISOU 3128  C   SER D 187     3821   5263   6358    222     20    911       C  \nATOM   3129  O   SER D 187      -9.570  -2.543  12.980  1.00 40.86           O  \nANISOU 3129  O   SER D 187     3819   5411   6293    195     29    994       O  \nATOM   3130  CB  SER D 187      -6.437  -1.933  12.630  1.00 39.25           C  \nANISOU 3130  CB  SER D 187     3659   5189   6065    412    -55    942       C  \nATOM   3131  OG  SER D 187      -5.930  -3.249  12.879  1.00 39.63           O  \nANISOU 3131  OG  SER D 187     3691   5050   6316    446    -25   1066       O  \nATOM   3132  N   SER D 188      -8.709  -4.160  11.674  1.00 41.66           N  \nANISOU 3132  N   SER D 188     3955   5180   6692    172     77    882       N  \nATOM   3133  CA  SER D 188      -9.725  -5.156  11.957  1.00 43.81           C  \nANISOU 3133  CA  SER D 188     4204   5335   7106     66    143    951       C  \nATOM   3134  C   SER D 188      -9.093  -6.355  12.641  1.00 45.78           C  \nANISOU 3134  C   SER D 188     4457   5358   7578    115    201   1145       C  \nATOM   3135  O   SER D 188      -7.954  -6.725  12.310  1.00 47.27           O  \nANISOU 3135  O   SER D 188     4649   5402   7908    206    210   1119       O  \nATOM   3136  CB  SER D 188     -10.306  -5.573  10.616  1.00 45.11           C  \nANISOU 3136  CB  SER D 188     4360   5422   7357    -70    168    709       C  \nATOM   3137  OG  SER D 188     -10.939  -6.809  10.637  1.00 46.30           O  \nANISOU 3137  OG  SER D 188     4488   5371   7732   -187    259    712       O  \nATOM   3138  N   VAL D 189      -9.789  -6.926  13.615  1.00 46.74           N  \nANISOU 3138  N   VAL D 189     4563   5452   7743     61    245   1363       N  \nATOM   3139  CA  VAL D 189      -9.381  -8.173  14.231  1.00 48.90           C  \nANISOU 3139  CA  VAL D 189     4830   5475   8273     88    301   1607       C  \nATOM   3140  C   VAL D 189     -10.616  -9.077  14.380  1.00 52.06           C  \nANISOU 3140  C   VAL D 189     5212   5731   8836    -76    409   1663       C  \nATOM   3141  O   VAL D 189     -11.741  -8.602  14.632  1.00 51.02           O  \nANISOU 3141  O   VAL D 189     5059   5791   8535   -184    421   1636       O  \nATOM   3142  CB  VAL D 189      -8.650  -7.963  15.572  1.00 49.30           C  \nANISOU 3142  CB  VAL D 189     4878   5673   8180    199    225   1939       C  \nATOM   3143  CG1 VAL D 189      -9.560  -7.418  16.569  1.00 50.49           C  \nANISOU 3143  CG1 VAL D 189     5034   6094   8053    111    230   2062       C  \nATOM   3144  CG2 VAL D 189      -8.078  -9.287  16.094  1.00 52.19           C  \nANISOU 3144  CG2 VAL D 189     5216   5751   8860    255    255   2250       C  \nATOM   3145  N   THR D 190     -10.424 -10.366  14.146  1.00 54.31           N  \nANISOU 3145  N   THR D 190     5486   5656   9491   -101    504   1708       N  \nATOM   3146  CA  THR D 190     -11.512 -11.296  14.221  1.00 57.67           C  \nANISOU 3146  CA  THR D 190     5888   5896  10125   -276    624   1743       C  \nATOM   3147  C   THR D 190     -11.100 -12.384  15.188  1.00 60.73           C  \nANISOU 3147  C   THR D 190     6272   6018  10785   -227    683   2144       C  \nATOM   3148  O   THR D 190     -10.054 -12.999  14.998  1.00 62.92           O  \nANISOU 3148  O   THR D 190     6536   6022  11348    -99    695   2204       O  \nATOM   3149  CB  THR D 190     -11.846 -11.878  12.832  1.00 58.68           C  \nANISOU 3149  CB  THR D 190     5998   5803  10492   -411    710   1356       C  \nATOM   3150  OG1 THR D 190     -12.296 -10.820  11.971  1.00 56.44           O  \nANISOU 3150  OG1 THR D 190     5709   5820   9914   -467    622   1055       O  \nATOM   3151  CG2 THR D 190     -12.938 -12.884  12.938  1.00 59.74           C  \nANISOU 3151  CG2 THR D 190     6093   5727  10876   -613    841   1378       C  \nATOM   3152  N   VAL D 191     -11.917 -12.566  16.231  1.00 62.44           N  \nANISOU 3152  N   VAL D 191     6485   6330  10907   -327    721   2432       N  \nATOM   3153  CA  VAL D 191     -11.723 -13.579  17.295  1.00 65.77           C  \nANISOU 3153  CA  VAL D 191     6904   6547  11537   -318    772   2907       C  \nATOM   3154  C   VAL D 191     -13.049 -14.308  17.640  1.00 68.43           C  \nANISOU 3154  C   VAL D 191     7223   6772  12006   -548    927   3011       C  \nATOM   3155  O   VAL D 191     -14.151 -13.807  17.318  1.00 66.67           O  \nANISOU 3155  O   VAL D 191     6974   6743  11613   -702    967   2751       O  \nATOM   3156  CB  VAL D 191     -11.217 -12.884  18.566  1.00 66.17           C  \nANISOU 3156  CB  VAL D 191     6977   6968  11197   -223    643   3260       C  \nATOM   3157  CG1 VAL D 191     -10.163 -11.859  18.206  1.00 61.45           C  \nANISOU 3157  CG1 VAL D 191     6385   6579  10384    -47    492   3072       C  \nATOM   3158  CG2 VAL D 191     -12.373 -12.184  19.303  1.00 64.65           C  \nANISOU 3158  CG2 VAL D 191     6795   7157  10611   -384    682   3277       C  \nATOM   3159  N   PRO D 192     -12.965 -15.490  18.299  1.00 72.16           N  \nANISOU 3159  N   PRO D 192     7690   6923  12805   -577   1017   3411       N  \nATOM   3160  CA  PRO D 192     -14.186 -16.239  18.629  1.00 74.90           C  \nANISOU 3160  CA  PRO D 192     8015   7131  13312   -815   1186   3525       C  \nATOM   3161  C   PRO D 192     -15.169 -15.467  19.522  1.00 74.49           C  \nANISOU 3161  C   PRO D 192     7962   7547  12794   -951   1197   3628       C  \nATOM   3162  O   PRO D 192     -14.744 -14.833  20.486  1.00 74.05           O  \nANISOU 3162  O   PRO D 192     7942   7833  12358   -870   1100   3891       O  \nATOM   3163  CB  PRO D 192     -13.668 -17.486  19.369  1.00 79.27           C  \nANISOU 3163  CB  PRO D 192     8569   7293  14256   -774   1248   4052       C  \nATOM   3164  CG  PRO D 192     -12.219 -17.594  19.035  1.00 78.30           C  \nANISOU 3164  CG  PRO D 192     8436   6977  14337   -512   1136   4087       C  \nATOM   3165  CD  PRO D 192     -11.741 -16.206  18.706  1.00 75.01           C  \nANISOU 3165  CD  PRO D 192     8042   7007  13451   -389    967   3784       C  \nATOM   3166  N   SER D 193     -16.459 -15.524  19.183  1.00 75.05           N  \nANISOU 3166  N   SER D 193     7973   7636  12904  -1168   1322   3392       N  \nATOM   3167  CA  SER D 193     -17.557 -14.968  20.011  1.00 76.24           C  \nANISOU 3167  CA  SER D 193     8084   8167  12715  -1329   1396   3468       C  \nATOM   3168  C   SER D 193     -17.445 -15.350  21.488  1.00 79.90           C  \nANISOU 3168  C   SER D 193     8596   8738  13022  -1375   1452   4030       C  \nATOM   3169  O   SER D 193     -17.711 -14.548  22.383  1.00 79.01           O  \nANISOU 3169  O   SER D 193     8490   9067  12462  -1410   1452   4128       O  \nATOM   3170  CB  SER D 193     -18.918 -15.498  19.506  1.00 77.99           C  \nANISOU 3170  CB  SER D 193     8202   8243  13187  -1585   1560   3247       C  \nATOM   3171  OG  SER D 193     -19.253 -14.941  18.242  1.00 75.28           O  \nANISOU 3171  OG  SER D 193     7789   7954  12859  -1587   1486   2737       O  \nATOM   3172  N   SER D 194     -17.056 -16.595  21.729  1.00 84.20           N  \nANISOU 3172  N   SER D 194     9170   8873  13949  -1387   1511   4399       N  \nATOM   3173  CA  SER D 194     -16.870 -17.078  23.084  1.00 88.71           C  \nANISOU 3173  CA  SER D 194     9787   9524  14394  -1434   1540   5013       C  \nATOM   3174  C   SER D 194     -15.756 -16.355  23.865  1.00 88.17           C  \nANISOU 3174  C   SER D 194     9778   9826  13895  -1245   1335   5271       C  \nATOM   3175  O   SER D 194     -15.749 -16.399  25.088  1.00 91.34           O  \nANISOU 3175  O   SER D 194    10214  10505  13983  -1326   1337   5723       O  \nATOM   3176  CB  SER D 194     -16.620 -18.602  23.074  1.00 93.37           C  \nANISOU 3176  CB  SER D 194    10377   9517  15580  -1460   1636   5383       C  \nATOM   3177  OG  SER D 194     -15.363 -18.934  22.487  1.00 93.61           O  \nANISOU 3177  OG  SER D 194    10414   9212  15940  -1208   1508   5384       O  \nATOM   3178  N   THR D 195     -14.829 -15.691  23.182  1.00 85.07           N  \nANISOU 3178  N   THR D 195     9391   9468  13461  -1022   1163   4986       N  \nATOM   3179  CA  THR D 195     -13.684 -15.061  23.858  1.00 84.75           C  \nANISOU 3179  CA  THR D 195     9385   9750  13063   -850    958   5210       C  \nATOM   3180  C   THR D 195     -13.782 -13.536  24.070  1.00 81.18           C  \nANISOU 3180  C   THR D 195     8946   9854  12043   -845    888   4885       C  \nATOM   3181  O   THR D 195     -13.023 -12.997  24.855  1.00 81.70           O  \nANISOU 3181  O   THR D 195     9036  10263  11740   -778    748   5080       O  \nATOM   3182  CB  THR D 195     -12.375 -15.335  23.099  1.00 84.14           C  \nANISOU 3182  CB  THR D 195     9287   9348  13333   -591    812   5166       C  \nATOM   3183  OG1 THR D 195     -12.417 -14.684  21.813  1.00 80.55           O  \nANISOU 3183  OG1 THR D 195     8820   8840  12946   -527    809   4560       O  \nATOM   3184  CG2 THR D 195     -12.150 -16.843  22.945  1.00 87.59           C  \nANISOU 3184  CG2 THR D 195     9692   9188  14398   -567    894   5496       C  \nATOM   3185  N   TRP D 196     -14.673 -12.837  23.362  1.00 77.83           N  \nANISOU 3185  N   TRP D 196     8489   9510  11572   -914    977   4393       N  \nATOM   3186  CA  TRP D 196     -14.962 -11.427  23.648  1.00 74.28           C  \nANISOU 3186  CA  TRP D 196     8030   9537  10653   -931    962   4105       C  \nATOM   3187  C   TRP D 196     -16.460 -11.300  23.949  1.00 75.73           C  \nANISOU 3187  C   TRP D 196     8154   9872  10748  -1158   1175   3988       C  \nATOM   3188  O   TRP D 196     -17.284 -11.905  23.259  1.00 76.45           O  \nANISOU 3188  O   TRP D 196     8187   9679  11181  -1252   1285   3857       O  \nATOM   3189  CB  TRP D 196     -14.554 -10.549  22.451  1.00 70.02           C  \nANISOU 3189  CB  TRP D 196     7473   8956  10174   -764    852   3632       C  \nATOM   3190  CG  TRP D 196     -14.826  -9.074  22.596  1.00 63.90           C  \nANISOU 3190  CG  TRP D 196     6674   8580   9023   -757    844   3315       C  \nATOM   3191  CD1 TRP D 196     -14.000  -8.145  23.149  1.00 60.61           C  \nANISOU 3191  CD1 TRP D 196     6290   8475   8262   -671    736   3301       C  \nATOM   3192  CD2 TRP D 196     -16.004  -8.361  22.165  1.00 61.39           C  \nANISOU 3192  CD2 TRP D 196     6272   8365   8688   -840    955   2959       C  \nATOM   3193  NE1 TRP D 196     -14.572  -6.893  23.076  1.00 58.90           N  \nANISOU 3193  NE1 TRP D 196     6028   8509   7842   -691    794   2942       N  \nATOM   3194  CE2 TRP D 196     -15.806  -7.000  22.481  1.00 59.48           C  \nANISOU 3194  CE2 TRP D 196     6020   8456   8121   -780    922   2748       C  \nATOM   3195  CE3 TRP D 196     -17.194  -8.739  21.526  1.00 61.72           C  \nANISOU 3195  CE3 TRP D 196     6223   8242   8984   -959   1071   2797       C  \nATOM   3196  CZ2 TRP D 196     -16.766  -6.021  22.212  1.00 58.41           C  \nANISOU 3196  CZ2 TRP D 196     5782   8463   7945   -812   1014   2414       C  \nATOM   3197  CZ3 TRP D 196     -18.150  -7.765  21.254  1.00 59.85           C  \nANISOU 3197  CZ3 TRP D 196     5873   8193   8675   -994   1133   2478       C  \nATOM   3198  CH2 TRP D 196     -17.929  -6.420  21.596  1.00 59.19           C  \nANISOU 3198  CH2 TRP D 196     5777   8408   8304   -907   1108   2301       C  \nATOM   3199  N   PRO D 197     -16.834 -10.507  24.969  1.00 76.61           N  \nANISOU 3199  N   PRO D 197     8260  10440  10407  -1262   1250   4000       N  \nATOM   3200  CA  PRO D 197     -16.018  -9.642  25.829  1.00 76.53           C  \nANISOU 3200  CA  PRO D 197     8302  10842   9930  -1208   1145   4063       C  \nATOM   3201  C   PRO D 197     -15.403 -10.267  27.068  1.00 80.52           C  \nANISOU 3201  C   PRO D 197     8878  11532  10181  -1284   1094   4614       C  \nATOM   3202  O   PRO D 197     -14.773  -9.542  27.827  1.00 81.27           O  \nANISOU 3202  O   PRO D 197     9005  12030   9843  -1281   1003   4647       O  \nATOM   3203  CB  PRO D 197     -17.013  -8.569  26.261  1.00 76.16           C  \nANISOU 3203  CB  PRO D 197     8188  11169   9579  -1340   1321   3738       C  \nATOM   3204  CG  PRO D 197     -18.313  -9.307  26.316  1.00 78.65           C  \nANISOU 3204  CG  PRO D 197     8432  11358  10091  -1538   1542   3804       C  \nATOM   3205  CD  PRO D 197     -18.274 -10.228  25.136  1.00 77.18           C  \nANISOU 3205  CD  PRO D 197     8235  10659  10429  -1456   1472   3800       C  \nATOM   3206  N   SER D 198     -15.554 -11.572  27.291  1.00 83.32           N  \nANISOU 3206  N   SER D 198     9251  11612  10794  -1363   1143   5053       N  \nATOM   3207  CA  SER D 198     -14.933 -12.191  28.472  1.00 87.63           C  \nANISOU 3207  CA  SER D 198     9852  12338  11101  -1428   1063   5662       C  \nATOM   3208  C   SER D 198     -13.414 -11.961  28.494  1.00 87.15           C  \nANISOU 3208  C   SER D 198     9811  12340  10962  -1206    774   5803       C  \nATOM   3209  O   SER D 198     -12.850 -11.558  29.521  1.00 89.23           O  \nANISOU 3209  O   SER D 198    10099  13065  10737  -1262    661   6034       O  \nATOM   3210  CB  SER D 198     -15.256 -13.686  28.553  1.00 91.27           C  \nANISOU 3210  CB  SER D 198    10319  12382  11978  -1513   1153   6140       C  \nATOM   3211  OG  SER D 198     -15.149 -14.299  27.285  1.00 89.06           O  \nANISOU 3211  OG  SER D 198    10004  11514  12319  -1363   1141   5951       O  \nATOM   3212  N   GLU D 199     -12.764 -12.218  27.359  1.00 84.35           N  \nANISOU 3212  N   GLU D 199     9429  11544  11075   -975    662   5643       N  \nATOM   3213  CA  GLU D 199     -11.364 -11.845  27.162  1.00 83.25           C  \nANISOU 3213  CA  GLU D 199     9274  11444  10914   -750    412   5647       C  \nATOM   3214  C   GLU D 199     -11.346 -10.431  26.551  1.00 77.89           C  \nANISOU 3214  C   GLU D 199     8588  10976  10027   -687    398   5030       C  \nATOM   3215  O   GLU D 199     -12.127 -10.112  25.657  1.00 74.63           O  \nANISOU 3215  O   GLU D 199     8164  10392   9799   -696    528   4605       O  \nATOM   3216  CB  GLU D 199     -10.602 -12.862  26.274  1.00 83.67           C  \nANISOU 3216  CB  GLU D 199     9283  10908  11596   -537    329   5789       C  \nATOM   3217  CG  GLU D 199     -10.801 -14.371  26.671  1.00 90.05           C  \nANISOU 3217  CG  GLU D 199    10083  11342  12787   -594    398   6365       C  \nATOM   3218  CD  GLU D 199     -10.017 -14.779  27.907  1.00 95.72           C  \nANISOU 3218  CD  GLU D 199    10786  12303  13279   -586    217   7047       C  \nATOM   3219  OE1 GLU D 199      -8.919 -14.228  28.112  1.00 96.53           O  \nANISOU 3219  OE1 GLU D 199    10846  12661  13169   -441    -13   7086       O  \nATOM   3220  OE2 GLU D 199     -10.484 -15.663  28.676  1.00105.00           O  \nANISOU 3220  OE2 GLU D 199    11979  13424  14489   -736    296   7569       O  \nATOM   3221  N   THR D 200     -10.470  -9.590  27.080  1.00 77.25           N  \nANISOU 3221  N   THR D 200     8506  11282   9562   -639    236   5009       N  \nATOM   3222  CA  THR D 200     -10.410  -8.192  26.710  1.00 73.59           C  \nANISOU 3222  CA  THR D 200     8037  11047   8875   -605    234   4478       C  \nATOM   3223  C   THR D 200      -9.552  -8.013  25.475  1.00 69.73           C  \nANISOU 3223  C   THR D 200     7518  10237   8737   -370    111   4227       C  \nATOM   3224  O   THR D 200      -8.530  -8.675  25.325  1.00 70.95           O  \nANISOU 3224  O   THR D 200     7641  10196   9121   -222    -42   4493       O  \nATOM   3225  CB  THR D 200      -9.815  -7.338  27.831  1.00 75.22           C  \nANISOU 3225  CB  THR D 200     8248  11816   8514   -692    130   4520       C  \nATOM   3226  OG1 THR D 200      -8.500  -7.801  28.120  1.00 77.64           O  \nANISOU 3226  OG1 THR D 200     8520  12143   8835   -571   -122   4899       O  \nATOM   3227  CG2 THR D 200     -10.668  -7.428  29.076  1.00 78.34           C  \nANISOU 3227  CG2 THR D 200     8678  12600   8488   -962    280   4722       C  \nATOM   3228  N   VAL D 201      -9.975  -7.098  24.603  1.00 65.56           N  \nANISOU 3228  N   VAL D 201     6988   9667   8253   -338    186   3727       N  \nATOM   3229  CA  VAL D 201      -9.328  -6.863  23.320  1.00 61.99           C  \nANISOU 3229  CA  VAL D 201     6518   8933   8103   -154    107   3449       C  \nATOM   3230  C   VAL D 201      -9.018  -5.372  23.221  1.00 59.80           C  \nANISOU 3230  C   VAL D 201     6234   8931   7554   -127     69   3076       C  \nATOM   3231  O   VAL D 201      -9.917  -4.541  23.428  1.00 57.81           O  \nANISOU 3231  O   VAL D 201     5983   8871   7108   -234    196   2829       O  \nATOM   3232  CB  VAL D 201     -10.245  -7.271  22.142  1.00 60.11           C  \nANISOU 3232  CB  VAL D 201     6276   8329   8232   -162    237   3216       C  \nATOM   3233  CG1 VAL D 201      -9.643  -6.813  20.808  1.00 58.66           C  \nANISOU 3233  CG1 VAL D 201     6082   7952   8251    -14    171   2878       C  \nATOM   3234  CG2 VAL D 201     -10.469  -8.771  22.105  1.00 62.71           C  \nANISOU 3234  CG2 VAL D 201     6604   8307   8913   -191    294   3530       C  \nATOM   3235  N   THR D 202      -7.755  -5.058  22.906  1.00 58.16           N  \nANISOU 3235  N   THR D 202     6004   8716   7378     13    -88   3038       N  \nATOM   3236  CA  THR D 202      -7.215  -3.708  22.959  1.00 56.86           C  \nANISOU 3236  CA  THR D 202     5826   8810   6965     29   -141   2746       C  \nATOM   3237  C   THR D 202      -6.412  -3.446  21.673  1.00 54.32           C  \nANISOU 3237  C   THR D 202     5485   8232   6923    194   -210   2524       C  \nATOM   3238  O   THR D 202      -5.590  -4.272  21.283  1.00 54.86           O  \nANISOU 3238  O   THR D 202     5519   8078   7245    312   -297   2699       O  \nATOM   3239  CB  THR D 202      -6.271  -3.579  24.178  1.00 59.55           C  \nANISOU 3239  CB  THR D 202     6137   9522   6966    -14   -291   2986       C  \nATOM   3240  OG1 THR D 202      -7.017  -3.837  25.365  1.00 61.97           O  \nANISOU 3240  OG1 THR D 202     6472  10109   6963   -199   -215   3200       O  \nATOM   3241  CG2 THR D 202      -5.634  -2.185  24.277  1.00 57.71           C  \nANISOU 3241  CG2 THR D 202     5881   9554   6491    -25   -341   2655       C  \nATOM   3242  N   CYS D 203      -6.655  -2.337  20.994  1.00 52.38           N  \nANISOU 3242  N   CYS D 203     5249   7997   6655    202   -155   2155       N  \nATOM   3243  CA  CYS D 203      -5.756  -1.986  19.903  1.00 51.45           C  \nANISOU 3243  CA  CYS D 203     5115   7711   6723    329   -222   1973       C  \nATOM   3244  C   CYS D 203      -4.692  -1.002  20.394  1.00 50.66           C  \nANISOU 3244  C   CYS D 203     4976   7866   6404    341   -321   1885       C  \nATOM   3245  O   CYS D 203      -4.989  -0.075  21.144  1.00 50.89           O  \nANISOU 3245  O   CYS D 203     5010   8166   6159    238   -282   1755       O  \nATOM   3246  CB  CYS D 203      -6.492  -1.420  18.718  1.00 49.74           C  \nANISOU 3246  CB  CYS D 203     4923   7332   6643    334   -132   1676       C  \nATOM   3247  SG  CYS D 203      -7.039   0.270  18.966  1.00 54.58           S  \nANISOU 3247  SG  CYS D 203     5529   8169   7037    271    -62   1383       S  \nATOM   3248  N   ASN D 204      -3.460  -1.224  19.953  1.00 49.99           N  \nANISOU 3248  N   ASN D 204     4837   7686   6467    454   -431   1929       N  \nATOM   3249  CA  ASN D 204      -2.333  -0.399  20.341  1.00 49.64           C  \nANISOU 3249  CA  ASN D 204     4729   7869   6261    460   -539   1852       C  \nATOM   3250  C   ASN D 204      -1.886   0.435  19.121  1.00 46.66           C  \nANISOU 3250  C   ASN D 204     4352   7337   6038    521   -500   1542       C  \nATOM   3251  O   ASN D 204      -1.524  -0.103  18.083  1.00 45.80           O  \nANISOU 3251  O   ASN D 204     4233   6969   6199    618   -487   1528       O  \nATOM   3252  CB  ASN D 204      -1.196  -1.279  20.862  1.00 52.03           C  \nANISOU 3252  CB  ASN D 204     4928   8216   6626    540   -707   2178       C  \nATOM   3253  CG  ASN D 204      -1.694  -2.477  21.675  1.00 55.25           C  \nANISOU 3253  CG  ASN D 204     5342   8624   7024    516   -733   2576       C  \nATOM   3254  OD1 ASN D 204      -1.620  -3.631  21.225  1.00 57.24           O  \nANISOU 3254  OD1 ASN D 204     5571   8563   7612    621   -726   2780       O  \nATOM   3255  ND2 ASN D 204      -2.204  -2.211  22.876  1.00 56.19           N  \nANISOU 3255  ND2 ASN D 204     5491   9088   6768    362   -741   2680       N  \nATOM   3256  N   VAL D 205      -1.945   1.751  19.225  1.00 44.47           N  \nANISOU 3256  N   VAL D 205     4087   7211   5597    449   -460   1287       N  \nATOM   3257  CA  VAL D 205      -1.665   2.565  18.093  1.00 42.85           C  \nANISOU 3257  CA  VAL D 205     3893   6854   5532    487   -410   1043       C  \nATOM   3258  C   VAL D 205      -0.421   3.390  18.386  1.00 43.98           C  \nANISOU 3258  C   VAL D 205     3958   7163   5589    468   -485    933       C  \nATOM   3259  O   VAL D 205      -0.387   4.080  19.400  1.00 46.67           O  \nANISOU 3259  O   VAL D 205     4276   7761   5695    361   -500    858       O  \nATOM   3260  CB  VAL D 205      -2.845   3.494  17.774  1.00 41.05           C  \nANISOU 3260  CB  VAL D 205     3728   6584   5283    429   -281    840       C  \nATOM   3261  CG1 VAL D 205      -2.513   4.352  16.599  1.00 38.25           C  \nANISOU 3261  CG1 VAL D 205     3384   6080   5067    463   -247    653       C  \nATOM   3262  CG2 VAL D 205      -4.188   2.639  17.511  1.00 40.22           C  \nANISOU 3262  CG2 VAL D 205     3672   6342   5265    428   -213    946       C  \nATOM   3263  N   ALA D 206       0.565   3.342  17.487  1.00 41.91           N  \nANISOU 3263  N   ALA D 206     3645   6762   5513    546   -512    891       N  \nATOM   3264  CA  ALA D 206       1.821   4.095  17.644  1.00 42.10           C  \nANISOU 3264  CA  ALA D 206     3570   6925   5502    522   -577    778       C  \nATOM   3265  C   ALA D 206       1.997   5.061  16.463  1.00 39.61           C  \nANISOU 3265  C   ALA D 206     3289   6445   5316    514   -470    542       C  \nATOM   3266  O   ALA D 206       1.920   4.655  15.313  1.00 37.43           O  \nANISOU 3266  O   ALA D 206     3052   5954   5215    578   -410    542       O  \nATOM   3267  CB  ALA D 206       3.001   3.117  17.746  1.00 42.71           C  \nANISOU 3267  CB  ALA D 206     3508   7012   5707    621   -707    981       C  \nATOM   3268  N   HIS D 207       2.199   6.344  16.742  1.00 39.59           N  \nANISOU 3268  N   HIS D 207     3274   6545   5221    415   -436    340       N  \nATOM   3269  CA  HIS D 207       2.472   7.326  15.702  1.00 38.62           C  \nANISOU 3269  CA  HIS D 207     3174   6268   5232    394   -339    162       C  \nATOM   3270  C   HIS D 207       3.833   7.985  15.944  1.00 39.54           C  \nANISOU 3270  C   HIS D 207     3167   6508   5348    330   -381     41       C  \nATOM   3271  O   HIS D 207       3.963   8.840  16.813  1.00 40.43           O  \nANISOU 3271  O   HIS D 207     3242   6784   5335    215   -384   -106       O  \nATOM   3272  CB  HIS D 207       1.384   8.408  15.707  1.00 38.08           C  \nANISOU 3272  CB  HIS D 207     3189   6132   5146    331   -223     21       C  \nATOM   3273  CG  HIS D 207       1.584   9.471  14.676  1.00 37.38           C  \nANISOU 3273  CG  HIS D 207     3125   5868   5211    307   -129    -99       C  \nATOM   3274  ND1 HIS D 207       1.643  10.816  14.995  1.00 36.61           N  \nANISOU 3274  ND1 HIS D 207     3007   5755   5146    213    -47   -290       N  \nATOM   3275  CD2 HIS D 207       1.679   9.390  13.322  1.00 34.48           C  \nANISOU 3275  CD2 HIS D 207     2801   5329   4969    348    -92    -43       C  \nATOM   3276  CE1 HIS D 207       1.778  11.516  13.872  1.00 37.26           C  \nANISOU 3276  CE1 HIS D 207     3120   5640   5394    212     27   -303       C  \nATOM   3277  NE2 HIS D 207       1.792  10.676  12.846  1.00 36.04           N  \nANISOU 3277  NE2 HIS D 207     3010   5418   5266    286     -4   -149       N  \nATOM   3278  N   PRO D 208       4.860   7.562  15.190  1.00 40.23           N  \nANISOU 3278  N   PRO D 208     3175   6526   5584    389   -399     78       N  \nATOM   3279  CA  PRO D 208       6.237   7.948  15.575  1.00 41.20           C  \nANISOU 3279  CA  PRO D 208     3129   6808   5717    334   -470     -2       C  \nATOM   3280  C   PRO D 208       6.530   9.426  15.405  1.00 40.99           C  \nANISOU 3280  C   PRO D 208     3103   6765   5705    195   -372   -244       C  \nATOM   3281  O   PRO D 208       7.254   9.993  16.190  1.00 38.74           O  \nANISOU 3281  O   PRO D 208     2700   6674   5344     85   -432   -366       O  \nATOM   3282  CB  PRO D 208       7.149   7.066  14.696  1.00 42.06           C  \nANISOU 3282  CB  PRO D 208     3139   6806   6035    446   -471     86       C  \nATOM   3283  CG  PRO D 208       6.261   6.455  13.653  1.00 40.08           C  \nANISOU 3283  CG  PRO D 208     3037   6320   5872    522   -364    144       C  \nATOM   3284  CD  PRO D 208       4.831   6.487  14.190  1.00 39.23           C  \nANISOU 3284  CD  PRO D 208     3073   6217   5614    505   -370    198       C  \nATOM   3285  N   ALA D 209       5.937  10.054  14.404  1.00 39.52           N  \nANISOU 3285  N   ALA D 209     3042   6351   5622    186   -226   -303       N  \nATOM   3286  CA  ALA D 209       6.221  11.455  14.164  1.00 40.58           C  \nANISOU 3286  CA  ALA D 209     3175   6409   5834     60   -116   -493       C  \nATOM   3287  C   ALA D 209       5.797  12.314  15.373  1.00 42.41           C  \nANISOU 3287  C   ALA D 209     3400   6756   5957    -55   -108   -670       C  \nATOM   3288  O   ALA D 209       6.456  13.269  15.681  1.00 42.56           O  \nANISOU 3288  O   ALA D 209     3342   6813   6014   -191    -66   -870       O  \nATOM   3289  CB  ALA D 209       5.543  11.934  12.873  1.00 39.41           C  \nANISOU 3289  CB  ALA D 209     3161   5998   5813     80     17   -448       C  \nATOM   3290  N   SER D 210       4.698  11.978  16.043  1.00 42.35           N  \nANISOU 3290  N   SER D 210     3466   6803   5820    -22   -125   -625       N  \nATOM   3291  CA  SER D 210       4.286  12.719  17.250  1.00 43.61           C  \nANISOU 3291  CA  SER D 210     3612   7107   5848   -153    -85   -834       C  \nATOM   3292  C   SER D 210       4.799  12.076  18.541  1.00 45.46           C  \nANISOU 3292  C   SER D 210     3746   7720   5804   -221   -247   -816       C  \nATOM   3293  O   SER D 210       4.427  12.525  19.603  1.00 45.26           O  \nANISOU 3293  O   SER D 210     3715   7882   5598   -352   -218   -989       O  \nATOM   3294  CB  SER D 210       2.758  12.787  17.354  1.00 42.84           C  \nANISOU 3294  CB  SER D 210     3628   6893   5756   -104     12   -817       C  \nATOM   3295  OG  SER D 210       2.178  11.486  17.366  1.00 42.82           O  \nANISOU 3295  OG  SER D 210     3672   6949   5647     12    -79   -569       O  \nATOM   3296  N   SER D 211       5.622  11.032  18.445  1.00 45.55           N  \nANISOU 3296  N   SER D 211     3671   7847   5788   -136   -410   -602       N  \nATOM   3297  CA  SER D 211       6.023  10.211  19.602  1.00 47.82           C  \nANISOU 3297  CA  SER D 211     3855   8488   5824   -163   -605   -461       C  \nATOM   3298  C   SER D 211       4.854   9.726  20.488  1.00 49.18           C  \nANISOU 3298  C   SER D 211     4125   8797   5762   -177   -607   -364       C  \nATOM   3299  O   SER D 211       4.980   9.670  21.705  1.00 52.55           O  \nANISOU 3299  O   SER D 211     4492   9578   5894   -307   -706   -375       O  \nATOM   3300  CB  SER D 211       7.053  10.965  20.410  1.00 50.32           C  \nANISOU 3300  CB  SER D 211     4017   9097   6006   -354   -683   -676       C  \nATOM   3301  OG  SER D 211       8.170  11.256  19.552  1.00 50.88           O  \nANISOU 3301  OG  SER D 211     3976   9038   6316   -334   -679   -727       O  \nATOM   3302  N   THR D 212       3.759   9.312  19.854  1.00 47.34           N  \nANISOU 3302  N   THR D 212     4027   8312   5646    -56   -507   -251       N  \nATOM   3303  CA  THR D 212       2.506   8.986  20.507  1.00 47.82           C  \nANISOU 3303  CA  THR D 212     4182   8440   5546    -74   -453   -193       C  \nATOM   3304  C   THR D 212       2.198   7.496  20.498  1.00 46.29           C  \nANISOU 3304  C   THR D 212     4011   8234   5340     53   -556    162       C  \nATOM   3305  O   THR D 212       2.219   6.869  19.450  1.00 43.74           O  \nANISOU 3305  O   THR D 212     3715   7651   5252    198   -553    296       O  \nATOM   3306  CB  THR D 212       1.356   9.710  19.777  1.00 46.20           C  \nANISOU 3306  CB  THR D 212     4087   7937   5530    -43   -250   -343       C  \nATOM   3307  OG1 THR D 212       1.448  11.097  20.079  1.00 52.60           O  \nANISOU 3307  OG1 THR D 212     4871   8754   6357   -179   -126   -674       O  \nATOM   3308  CG2 THR D 212      -0.026   9.198  20.204  1.00 48.47           C  \nANISOU 3308  CG2 THR D 212     4451   8238   5726    -27   -181   -250       C  \nATOM   3309  N   LYS D 213       1.866   6.952  21.667  1.00 47.31           N  \nANISOU 3309  N   LYS D 213     4134   8644   5195    -21   -626    303       N  \nATOM   3310  CA  LYS D 213       1.268   5.632  21.759  1.00 46.97           C  \nANISOU 3310  CA  LYS D 213     4136   8553   5157     73   -674    636       C  \nATOM   3311  C   LYS D 213      -0.063   5.733  22.562  1.00 48.29           C  \nANISOU 3311  C   LYS D 213     4391   8849   5107    -40   -546    594       C  \nATOM   3312  O   LYS D 213      -0.120   6.331  23.629  1.00 50.45           O  \nANISOU 3312  O   LYS D 213     4645   9442   5079   -216   -523    444       O  \nATOM   3313  CB  LYS D 213       2.272   4.635  22.370  1.00 49.26           C  \nANISOU 3313  CB  LYS D 213     4304   9047   5364    110   -902    964       C  \nATOM   3314  CG  LYS D 213       3.353   4.226  21.368  1.00 48.00           C  \nANISOU 3314  CG  LYS D 213     4047   8660   5531    273   -979   1040       C  \nATOM   3315  CD  LYS D 213       4.430   3.290  21.950  1.00 51.47           C  \nANISOU 3315  CD  LYS D 213     4312   9272   5969    339  -1212   1375       C  \nATOM   3316  CE  LYS D 213       5.053   2.364  20.881  1.00 47.37           C  \nANISOU 3316  CE  LYS D 213     3715   8406   5874    554  -1223   1526       C  \nATOM   3317  NZ  LYS D 213       6.312   1.736  21.361  1.00 50.83           N  \nANISOU 3317  NZ  LYS D 213     3924   8997   6391    633  -1446   1795       N  \nATOM   3318  N   VAL D 214      -1.119   5.143  22.019  1.00 47.41           N  \nANISOU 3318  N   VAL D 214     4363   8497   5152     45   -451    702       N  \nATOM   3319  CA  VAL D 214      -2.451   5.120  22.623  1.00 49.14           C  \nANISOU 3319  CA  VAL D 214     4645   8793   5234    -43   -309    678       C  \nATOM   3320  C   VAL D 214      -2.927   3.659  22.630  1.00 50.21           C  \nANISOU 3320  C   VAL D 214     4812   8843   5421     24   -358   1046       C  \nATOM   3321  O   VAL D 214      -2.722   2.924  21.657  1.00 48.24           O  \nANISOU 3321  O   VAL D 214     4569   8308   5452    168   -407   1187       O  \nATOM   3322  CB  VAL D 214      -3.446   5.979  21.772  1.00 47.79           C  \nANISOU 3322  CB  VAL D 214     4515   8349   5291     -6   -120    416       C  \nATOM   3323  CG1 VAL D 214      -4.908   5.820  22.284  1.00 48.69           C  \nANISOU 3323  CG1 VAL D 214     4659   8505   5336    -73     38    408       C  \nATOM   3324  CG2 VAL D 214      -3.003   7.470  21.745  1.00 48.44           C  \nANISOU 3324  CG2 VAL D 214     4562   8446   5394    -71    -44     62       C  \nATOM   3325  N   ASP D 215      -3.562   3.229  23.710  1.00 53.25           N  \nANISOU 3325  N   ASP D 215     5215   9469   5547    -96   -325   1189       N  \nATOM   3326  CA  ASP D 215      -4.219   1.911  23.718  1.00 54.68           C  \nANISOU 3326  CA  ASP D 215     5433   9528   5815    -56   -325   1525       C  \nATOM   3327  C   ASP D 215      -5.711   2.103  23.945  1.00 54.00           C  \nANISOU 3327  C   ASP D 215     5391   9443   5681   -152   -113   1403       C  \nATOM   3328  O   ASP D 215      -6.074   2.847  24.823  1.00 56.22           O  \nANISOU 3328  O   ASP D 215     5665  10004   5688   -305     -6   1216       O  \nATOM   3329  CB  ASP D 215      -3.578   1.043  24.801  1.00 58.34           C  \nANISOU 3329  CB  ASP D 215     5858  10271   6034   -115   -491   1909       C  \nATOM   3330  CG  ASP D 215      -2.086   0.974  24.637  1.00 60.14           C  \nANISOU 3330  CG  ASP D 215     5994  10528   6328    -18   -705   2008       C  \nATOM   3331  OD1 ASP D 215      -1.639   0.549  23.536  1.00 58.76           O  \nANISOU 3331  OD1 ASP D 215     5797  10001   6528    159   -739   2038       O  \nATOM   3332  OD2 ASP D 215      -1.354   1.399  25.577  1.00 66.48           O  \nANISOU 3332  OD2 ASP D 215     6730  11722   6805   -135   -828   2017       O  \nATOM   3333  N   LYS D 216      -6.569   1.498  23.118  1.00 52.53           N  \nANISOU 3333  N   LYS D 216     5232   8950   5776    -74    -40   1464       N  \nATOM   3334  CA  LYS D 216      -8.028   1.605  23.291  1.00 51.69           C  \nANISOU 3334  CA  LYS D 216     5130   8838   5670   -159    155   1366       C  \nATOM   3335  C   LYS D 216      -8.654   0.233  23.455  1.00 51.96           C  \nANISOU 3335  C   LYS D 216     5187   8784   5770   -187    171   1695       C  \nATOM   3336  O   LYS D 216      -8.610  -0.590  22.532  1.00 50.61           O  \nANISOU 3336  O   LYS D 216     5027   8304   5897    -80    113   1822       O  \nATOM   3337  CB  LYS D 216      -8.695   2.286  22.091  1.00 50.13           C  \nANISOU 3337  CB  LYS D 216     4911   8362   5772    -67    240   1104       C  \nATOM   3338  CG  LYS D 216     -10.067   2.885  22.446  1.00 53.87           C  \nANISOU 3338  CG  LYS D 216     5333   8900   6233   -156    451    908       C  \nATOM   3339  CD  LYS D 216      -9.852   4.304  23.004  1.00 57.83           C  \nANISOU 3339  CD  LYS D 216     5799   9579   6594   -214    548    582       C  \nATOM   3340  CE  LYS D 216     -11.024   4.827  23.819  1.00 62.45           C  \nANISOU 3340  CE  LYS D 216     6317  10321   7090   -341    793    382       C  \nATOM   3341  NZ  LYS D 216     -10.654   6.137  24.487  1.00 65.51           N  \nANISOU 3341  NZ  LYS D 216     6671  10886   7331   -426    906     31       N  \nATOM   3342  N   LYS D 217      -9.261   0.009  24.613  1.00 53.83           N  \nANISOU 3342  N   LYS D 217     5428   9291   5734   -352    271   1810       N  \nATOM   3343  CA  LYS D 217     -10.058  -1.186  24.888  1.00 54.66           C  \nANISOU 3343  CA  LYS D 217     5548   9325   5892   -421    337   2111       C  \nATOM   3344  C   LYS D 217     -11.364  -1.117  24.094  1.00 53.04           C  \nANISOU 3344  C   LYS D 217     5306   8882   5965   -412    499   1918       C  \nATOM   3345  O   LYS D 217     -12.005  -0.071  24.052  1.00 51.01           O  \nANISOU 3345  O   LYS D 217     4996   8697   5688   -439    631   1596       O  \nATOM   3346  CB  LYS D 217     -10.354  -1.287  26.379  1.00 58.23           C  \nANISOU 3346  CB  LYS D 217     6013  10192   5920   -634    422   2267       C  \nATOM   3347  CG  LYS D 217     -10.906  -2.644  26.802  1.00 59.87           C  \nANISOU 3347  CG  LYS D 217     6245  10345   6155   -719    460   2689       C  \nATOM   3348  CD  LYS D 217     -11.168  -2.738  28.294  1.00 63.75           C  \nANISOU 3348  CD  LYS D 217     6755  11297   6166   -959    546   2879       C  \nATOM   3349  CE  LYS D 217     -12.036  -3.963  28.580  1.00 66.09           C  \nANISOU 3349  CE  LYS D 217     7069  11486   6554  -1064    655   3248       C  \nATOM   3350  NZ  LYS D 217     -12.048  -4.380  29.976  1.00 69.47           N  \nANISOU 3350  NZ  LYS D 217     7532  12337   6524  -1289    682   3601       N  \nATOM   3351  N   ILE D 218     -11.714  -2.211  23.441  1.00 52.86           N  \nANISOU 3351  N   ILE D 218     5290   8566   6227   -373    482   2106       N  \nATOM   3352  CA  ILE D 218     -12.974  -2.343  22.720  1.00 53.04           C  \nANISOU 3352  CA  ILE D 218     5255   8391   6503   -396    608   1968       C  \nATOM   3353  C   ILE D 218     -14.046  -2.924  23.662  1.00 56.53           C  \nANISOU 3353  C   ILE D 218     5671   8973   6833   -582    786   2128       C  \nATOM   3354  O   ILE D 218     -14.011  -4.057  24.040  1.00 58.17           O  \nANISOU 3354  O   ILE D 218     5918   9119   7064   -647    779   2458       O  \nATOM   3355  CB  ILE D 218     -12.855  -3.175  21.424  1.00 51.50           C  \nANISOU 3355  CB  ILE D 218     5071   7817   6677   -296    517   2010       C  \nATOM   3356  CG1 ILE D 218     -11.665  -2.718  20.571  1.00 50.05           C  \nANISOU 3356  CG1 ILE D 218     4920   7525   6570   -134    358   1889       C  \nATOM   3357  CG2 ILE D 218     -14.141  -3.141  20.618  1.00 49.83           C  \nANISOU 3357  CG2 ILE D 218     4777   7466   6690   -338    612   1825       C  \nATOM   3358  CD1 ILE D 218     -11.633  -1.239  20.231  1.00 48.71           C  \nANISOU 3358  CD1 ILE D 218     4718   7465   6323    -80    360   1574       C  \nATOM   3359  N   VAL D 219     -14.989  -2.094  24.043  1.00 57.91           N  \nANISOU 3359  N   VAL D 219     5766   9330   6908   -669    964   1886       N  \nATOM   3360  CA  VAL D 219     -16.002  -2.475  24.986  1.00 61.86           C  \nANISOU 3360  CA  VAL D 219     6224  10013   7268   -865   1171   1985       C  \nATOM   3361  C   VAL D 219     -17.329  -2.631  24.273  1.00 62.10           C  \nANISOU 3361  C   VAL D 219     6126   9848   7619   -887   1295   1848       C  \nATOM   3362  O   VAL D 219     -17.640  -1.822  23.437  1.00 59.41           O  \nANISOU 3362  O   VAL D 219     5698   9400   7473   -778   1277   1567       O  \nATOM   3363  CB  VAL D 219     -16.074  -1.451  26.124  1.00 64.13           C  \nANISOU 3363  CB  VAL D 219     6490  10701   7174   -982   1322   1789       C  \nATOM   3364  CG1 VAL D 219     -14.758  -1.424  26.878  1.00 64.85           C  \nANISOU 3364  CG1 VAL D 219     6693  11036   6911   -999   1170   1958       C  \nATOM   3365  CG2 VAL D 219     -16.404  -0.092  25.608  1.00 63.28           C  \nANISOU 3365  CG2 VAL D 219     6280  10557   7205   -885   1394   1352       C  \nATOM   3366  N   PRO D 220     -18.113  -3.644  24.615  1.00 65.15           N  \nANISOU 3366  N   PRO D 220     6488  10199   8065  -1039   1414   2062       N  \nATOM   3367  CA  PRO D 220     -19.390  -3.875  23.945  1.00 66.00           C  \nANISOU 3367  CA  PRO D 220     6448  10139   8490  -1086   1521   1936       C  \nATOM   3368  C   PRO D 220     -20.321  -2.676  24.073  1.00 67.12           C  \nANISOU 3368  C   PRO D 220     6418  10449   8635  -1093   1690   1589       C  \nATOM   3369  O   PRO D 220     -20.277  -1.991  25.052  1.00 68.52           O  \nANISOU 3369  O   PRO D 220     6594  10907   8531  -1158   1832   1490       O  \nATOM   3370  CB  PRO D 220     -19.992  -5.028  24.727  1.00 69.14           C  \nANISOU 3370  CB  PRO D 220     6853  10567   8848  -1299   1676   2239       C  \nATOM   3371  CG  PRO D 220     -18.915  -5.667  25.432  1.00 70.41           C  \nANISOU 3371  CG  PRO D 220     7183  10787   8783  -1315   1577   2597       C  \nATOM   3372  CD  PRO D 220     -17.806  -4.719  25.576  1.00 67.97           C  \nANISOU 3372  CD  PRO D 220     6945  10647   8230  -1178   1435   2477       C  \nATOM   3373  N   ARG D 221     -21.085  -2.396  23.034  1.00 67.33           N  \nANISOU 3373  N   ARG D 221     6290  10300   8992  -1019   1662   1398       N  \nATOM   3374  CA  ARG D 221     -22.111  -1.380  23.098  1.00 69.36           C  \nANISOU 3374  CA  ARG D 221     6330  10663   9359  -1011   1828   1111       C  \nATOM   3375  C   ARG D 221     -23.316  -1.929  23.849  1.00 73.53           C  \nANISOU 3375  C   ARG D 221     6721  11317   9898  -1224   2091   1157       C  \nATOM   3376  O   ARG D 221     -23.686  -3.075  23.663  1.00 74.23           O  \nANISOU 3376  O   ARG D 221     6816  11284  10103  -1341   2084   1361       O  \nATOM   3377  CB  ARG D 221     -22.479  -0.837  21.715  1.00 67.05           C  \nANISOU 3377  CB  ARG D 221     5895  10169   9413   -850   1669    941       C  \nATOM   3378  CG  ARG D 221     -21.318  -0.263  20.979  1.00 64.57           C  \nANISOU 3378  CG  ARG D 221     5712   9746   9073   -664   1441    901       C  \nATOM   3379  CD  ARG D 221     -21.616   0.070  19.565  1.00 63.71           C  \nANISOU 3379  CD  ARG D 221     5492   9462   9251   -542   1259    815       C  \nATOM   3380  NE  ARG D 221     -22.635   1.094  19.465  1.00 64.95           N  \nANISOU 3380  NE  ARG D 221     5396   9663   9619   -483   1356    625       N  \nATOM   3381  CZ  ARG D 221     -22.436   2.370  19.166  1.00 62.28           C  \nANISOU 3381  CZ  ARG D 221     4992   9296   9373   -320   1322    475       C  \nATOM   3382  NH1 ARG D 221     -23.461   3.193  19.100  1.00 61.54           N  \nANISOU 3382  NH1 ARG D 221     4632   9206   9545   -261   1425    333       N  \nATOM   3383  NH2 ARG D 221     -21.229   2.815  18.927  1.00 58.77           N  \nANISOU 3383  NH2 ARG D 221     4728   8801   8798   -217   1193    474       N  \nATOM   3384  N   ASP D 222     -23.909  -1.101  24.691  1.00 77.12           N  \nANISOU 3384  N   ASP D 222     7046  12003  10250  -1286   2344    946       N  \nATOM   3385  CA  ASP D 222     -25.132  -1.452  25.372  1.00 81.49           C  \nANISOU 3385  CA  ASP D 222     7429  12698  10836  -1488   2634    931       C  \nATOM   3386  C   ASP D 222     -26.232  -0.502  24.911  1.00 82.24           C  \nANISOU 3386  C   ASP D 222     7206  12754  11285  -1395   2749    609       C  \nATOM   3387  O   ASP D 222     -26.040   0.709  24.837  1.00 81.54           O  \nANISOU 3387  O   ASP D 222     7052  12679  11250  -1240   2763    353       O  \nATOM   3388  CB  ASP D 222     -24.943  -1.342  26.865  1.00 84.85           C  \nANISOU 3388  CB  ASP D 222     7947  13473  10817  -1675   2884    948       C  \nTER    3389      ASP D 222                                                      \nHETATM 3390  O   HOH C 214      18.214   5.372 -10.860  1.00 29.19           O  \nHETATM 3391  O   HOH C 215      18.936 -12.366 -14.582  1.00 42.37           O  \nHETATM 3392  O   HOH C 216      23.148   5.996 -21.156  1.00 67.02           O  \nHETATM 3393  O   HOH C 217      15.960   6.681 -19.579  1.00 64.34           O  \nHETATM 3394  O   HOH C 218     -12.091   3.273   4.558  1.00 39.84           O  \nHETATM 3395  O   HOH C 219     -13.216   3.624  -4.422  1.00 53.57           O  \nHETATM 3396  O   HOH C 220     -25.076  -6.049  11.524  1.00 48.42           O  \nHETATM 3397  O   HOH C 221      12.931 -14.305   0.083  1.00 69.55           O  \nHETATM 3398  O   HOH C 222      16.359  -4.662   3.201  1.00 49.46           O  \nHETATM 3399  O   HOH C 223      25.757 -13.290  -0.616  1.00 63.09           O  \nHETATM 3400  O   HOH C 224     -21.074 -11.220   5.752  1.00 43.84           O  \nHETATM 3401  O   HOH C 225     -13.274  -2.726  -7.490  1.00 65.09           O  \nHETATM 3402  O   HOH C 226     -28.979  -9.125  -0.861  1.00 62.89           O  \nHETATM 3403  O   HOH C 227      22.368   4.616 -16.803  1.00 35.74           O  \nHETATM 3404  O   HOH C 228      19.005  -6.586   0.502  1.00 31.72           O  \nHETATM 3405  O   HOH C 229     -16.122   6.409  15.844  1.00 40.93           O  \nHETATM 3406  O   HOH C 230     -30.385   2.814   4.781  1.00 41.85           O  \nHETATM 3407  O   HOH C 231      25.810 -10.449 -20.227  1.00 45.97           O  \nHETATM 3408  O   HOH C 232     -22.455  18.429  14.112  1.00 46.81           O  \nHETATM 3409  O   HOH C 233     -17.357   4.089  13.578  1.00 44.43           O  \nHETATM 3410  O   HOH C 234     -22.431   4.623  -2.105  1.00 45.18           O  \nHETATM 3411  O   HOH C 235       9.673  -1.319 -16.185  1.00 41.48           O  \nHETATM 3412  O   HOH C 236      19.521 -10.713   2.546  1.00 53.38           O  \nHETATM 3413  O   HOH C 237      26.218  -7.503 -22.409  1.00 50.64           O  \nHETATM 3414  O   HOH C 238      11.401   1.680 -10.708  1.00 39.10           O  \nHETATM 3415  O   HOH C 239      10.322  -7.965   1.011  1.00 47.35           O  \nHETATM 3416  O   HOH C 240       5.282  -1.638  -9.526  1.00 68.42           O  \nHETATM 3417  O   HOH C 241     -29.416   2.300  -4.714  1.00 66.47           O  \nHETATM 3418  O   HOH C 242     -29.064  -1.806  -3.698  1.00 65.00           O  \nHETATM 3419  O   HOH C 243      15.733   3.949 -11.911  1.00 31.15           O  \nHETATM 3420  O   HOH C 244     -27.146 -10.147   3.482  1.00 55.33           O  \nHETATM 3421  O   HOH C 245      33.099  -8.264 -16.240  1.00 52.23           O  \nHETATM 3422  O   HOH C 246      25.076 -13.416 -17.679  1.00 51.59           O  \nHETATM 3423  O   HOH C 247      24.478   5.278 -18.266  1.00 43.09           O  \nHETATM 3424  O   HOH C 248      -7.427 -21.801  -2.676  1.00 68.41           O  \nHETATM 3425  O   HOH C 249     -31.395   3.478  -3.056  1.00 55.36           O  \nHETATM 3426  O   HOH C 250     -27.815   9.689  -0.042  1.00 62.35           O  \nHETATM 3427  O   HOH C 251      26.458  -6.916 -28.366  1.00 33.93           O  \nHETATM 3428  O   HOH C 252      28.551 -13.937 -16.242  1.00 33.93           O  \nHETATM 3429  O   HOH C 253      -9.396   2.148   6.719  1.00 49.57           O  \nHETATM 3430  O   HOH C 254     -35.285   3.209   9.417  1.00 49.30           O  \nHETATM 3431  O   HOH C 255      29.918   1.109 -11.528  1.00 47.77           O  \nHETATM 3432  O   HOH C 256      19.802  -5.282  -5.326  1.00 53.29           O  \nHETATM 3433  O   HOH C 257     -27.694  11.299   2.514  1.00 33.93           O  \nHETATM 3434  O   HOH C 258     -22.120  -6.051  11.426  0.50 40.94           O  \nHETATM 3435  O   HOH C 259     -12.036   6.040  -2.015  1.00 55.73           O  \nHETATM 3436  O   HOH C 260      20.416 -18.239 -10.555  1.00 44.71           O  \nHETATM 3437  O   HOH C 261     -17.516   0.579  -4.505  1.00 57.71           O  \nHETATM 3438  O   HOH C 262     -25.710  -4.107  12.904  1.00 49.02           O  \nHETATM 3439  O   HOH C 263       7.160  -2.120 -14.517  1.00 40.27           O  \nHETATM 3440  O   HOH C 264      -7.039   0.969  -2.013  1.00 65.73           O  \nHETATM 3441  O   HOH C 265     -26.826   8.622  18.193  1.00 56.62           O  \nHETATM 3442  O   HOH C 266       3.852  -3.217 -10.852  1.00 53.86           O  \nHETATM 3443  O   HOH C 267     -24.335  16.047   3.379  1.00 55.32           O  \nHETATM 3444  O   HOH C 268     -14.848  11.343   3.890  1.00 42.89           O  \nHETATM 3445  O   HOH C 269      26.314 -10.155 -23.842  1.00 51.93           O  \nHETATM 3446  O   HOH C 270     -14.858   8.916   5.272  1.00 38.15           O  \nHETATM 3447  O   HOH C 271     -33.111  -2.407  -1.567  1.00 66.54           O  \nHETATM 3448  O   HOH C 272      10.336 -15.400  -0.904  1.00 49.48           O  \nHETATM 3449  O   HOH C 273      10.712  -6.635 -20.610  1.00 47.50           O  \nHETATM 3450  O   HOH C 274     -15.020 -14.077   3.806  1.00 53.05           O  \nHETATM 3451  O   HOH C 275      19.656  -9.433   0.020  1.00 53.93           O  \nHETATM 3452  O   HOH C 276     -27.015  -6.240   9.479  1.00 62.23           O  \nHETATM 3453  O   HOH C 277     -31.133   6.283  -3.736  1.00 55.82           O  \nHETATM 3454  O   HOH C 278      14.439  -1.006 -21.773  1.00 49.21           O  \nHETATM 3455  O   HOH C 279       3.299  -8.905   3.371  1.00 56.78           O  \nHETATM 3456  O   HOH C 280       8.845   0.448 -17.572  1.00 48.71           O  \nHETATM 3457  O   HOH C 281      14.125  -9.432 -21.933  1.00 52.20           O  \nHETATM 3458  O   HOH C 282      24.399  -2.528 -26.491  1.00 42.38           O  \nHETATM 3459  O   HOH C 283     -29.653  -1.937  14.830  1.00 49.10           O  \nHETATM 3460  O   HOH C 284     -19.676   4.160  -1.580  1.00 50.31           O  \nHETATM 3461  O   HOH C 285     -25.598   6.123  17.248  1.00 55.54           O  \nHETATM 3462  O   HOH C 286     -27.802  16.357  16.412  1.00 55.63           O  \nHETATM 3463  O   HOH C 287      -8.102 -10.525  -8.259  1.00 46.91           O  \nHETATM 3464  O   HOH C 288      14.432 -11.721 -21.161  1.00 60.16           O  \nHETATM 3465  O   HOH C 289     -14.284  12.888  13.539  1.00 47.51           O  \nHETATM 3466  O   HOH C 290     -11.276   3.801   8.089  1.00 45.08           O  \nHETATM 3467  O   HOH C 291       4.729  -5.868  -2.361  1.00 48.56           O  \nHETATM 3468  O   HOH C 292     -16.084  -8.174   8.250  1.00 46.33           O  \nHETATM 3469  O   HOH C 293      -5.945   2.108  -0.078  1.00 49.96           O  \nHETATM 3470  O   HOH C 294     -20.852  -5.479  13.006  0.50 44.77           O  \nHETATM 3471  O   HOH C 295      26.945 -18.053  -6.806  1.00 67.43           O  \nHETATM 3472  O   HOH C 296      27.365 -14.279 -12.956  1.00 53.98           O  \nHETATM 3473  O   HOH C 297      29.618   4.652 -16.011  1.00 48.63           O  \nHETATM 3474  O   HOH C 298      14.585   2.104 -16.152  1.00 36.89           O  \nHETATM 3475  O   HOH C 299      20.805   3.031 -23.537  1.00 44.71           O  \nHETATM 3476  O   HOH C 300      -0.189  -9.322   3.370  1.00 65.02           O  \nHETATM 3477  O   HOH C 301     -15.078  10.873  -0.725  1.00 51.87           O  \nHETATM 3478  O   HOH C 302       4.744  -2.708  -1.249  1.00 67.09           O  \nHETATM 3479  O   HOH C 303      21.121   2.251 -26.914  1.00 59.81           O  \nHETATM 3480  O   HOH C 304     -13.871 -19.951  -1.078  1.00 56.54           O  \nHETATM 3481  O   HOH C 305      10.067  -8.594 -14.336  1.00 54.25           O  \nHETATM 3482  O   HOH C 306      20.323  -9.950 -25.047  1.00 60.99           O  \nHETATM 3483  O   HOH C 307      15.411 -17.421 -15.277  1.00 55.09           O  \nHETATM 3484  O   HOH C 308     -33.841   7.167  14.400  1.00 53.55           O  \nHETATM 3485  O   HOH C 309     -27.028   1.335  16.762  1.00 61.13           O  \nHETATM 3486  O   HOH C 364      23.836 -15.805 -26.880  1.00 62.93           O  \nHETATM 3487  O   HOH D 256      38.603  11.015   3.993  1.00 33.93           O  \nHETATM 3488  O   HOH D 257       4.638   9.182  11.702  1.00 37.76           O  \nHETATM 3489  O   HOH D 258       2.896  11.237   5.215  1.00 32.40           O  \nHETATM 3490  O   HOH D 259      33.510   5.206   2.735  1.00 42.22           O  \nHETATM 3491  O   HOH D 260       6.702  10.589   6.791  1.00 34.86           O  \nHETATM 3492  O   HOH D 261       0.692   3.918   8.103  1.00 34.16           O  \nHETATM 3493  O   HOH D 262       9.626   4.851   8.307  1.00 42.21           O  \nHETATM 3494  O   HOH D 263      17.664   7.614 -12.688  1.00 34.61           O  \nHETATM 3495  O   HOH D 264      14.986  13.446   7.136  1.00 42.23           O  \nHETATM 3496  O   HOH D 265      17.715  23.279   1.188  1.00 42.01           O  \nHETATM 3497  O   HOH D 266      25.782  14.553   3.266  1.00 39.15           O  \nHETATM 3498  O   HOH D 267      21.525   5.678  11.465  1.00 41.95           O  \nHETATM 3499  O   HOH D 268      31.231  -6.516  -7.401  1.00 46.92           O  \nHETATM 3500  O   HOH D 269      12.145  17.837  -6.000  1.00 40.84           O  \nHETATM 3501  O   HOH D 270      -8.252  11.522   6.657  1.00 43.04           O  \nHETATM 3502  O   HOH D 271      34.498  -3.653  -4.252  1.00 48.66           O  \nHETATM 3503  O   HOH D 272       7.295  11.751  -4.141  1.00 36.92           O  \nHETATM 3504  O   HOH D 273       5.678  20.462   7.935  1.00 45.64           O  \nHETATM 3505  O   HOH D 274      -1.260  -7.506  16.610  1.00 54.69           O  \nHETATM 3506  O   HOH D 275      -7.952   3.951   5.293  1.00 44.72           O  \nHETATM 3507  O   HOH D 276      12.281  21.292   7.310  1.00 43.11           O  \nHETATM 3508  O   HOH D 277      14.831  21.623  -6.032  1.00 44.23           O  \nHETATM 3509  O   HOH D 278       6.438   2.582  -0.963  1.00 55.17           O  \nHETATM 3510  O   HOH D 279      35.848  11.230   3.422  1.00 42.78           O  \nHETATM 3511  O   HOH D 280      32.822  13.233   4.077  1.00 42.21           O  \nHETATM 3512  O   HOH D 281       6.207   5.779  -8.206  1.00 34.11           O  \nHETATM 3513  O   HOH D 282      35.419  11.063   8.004  1.00 43.13           O  \nHETATM 3514  O   HOH D 283      35.043   3.870   9.518  1.00 44.19           O  \nHETATM 3515  O   HOH D 284       2.894  20.676  15.466  1.00 64.18           O  \nHETATM 3516  O   HOH D 285      34.683  12.613  -5.287  1.00 49.41           O  \nHETATM 3517  O   HOH D 286       7.987   3.083   4.026  1.00 46.78           O  \nHETATM 3518  O   HOH D 287      10.306  12.243  12.761  1.00 43.72           O  \nHETATM 3519  O   HOH D 288      26.650  -6.570  11.694  1.00 65.89           O  \nHETATM 3520  O   HOH D 289      30.855  -2.696 -10.208  1.00 60.06           O  \nHETATM 3521  O   HOH D 290      27.727  -4.926  -6.165  1.00 45.27           O  \nHETATM 3522  O   HOH D 291       2.958  20.845   1.421  1.00 48.64           O  \nHETATM 3523  O   HOH D 292      23.668  -0.839  12.197  1.00 53.47           O  \nHETATM 3524  O   HOH D 293      16.196  25.920  -4.837  1.00 48.62           O  \nHETATM 3525  O   HOH D 294       0.578   1.450  21.635  1.00 71.07           O  \nHETATM 3526  O   HOH D 295      29.032  12.702  -9.538  1.00 49.76           O  \nHETATM 3527  O   HOH D 296      23.155  17.310   6.426  1.00 62.35           O  \nHETATM 3528  O   HOH D 297      -0.772   3.392   5.528  1.00 43.49           O  \nHETATM 3529  O   HOH D 298       9.201   7.964   8.795  1.00 42.79           O  \nHETATM 3530  O   HOH D 299      30.452  -2.747 -14.927  1.00 47.44           O  \nHETATM 3531  O   HOH D 300      -0.753   6.370   2.721  1.00 55.34           O  \nHETATM 3532  O   HOH D 301      36.519   4.178  -5.450  1.00 48.02           O  \nHETATM 3533  O   HOH D 302     -14.328 -10.144   9.294  1.00 51.32           O  \nHETATM 3534  O   HOH D 303       7.336   9.674  10.164  1.00 47.56           O  \nHETATM 3535  O   HOH D 304      12.807   9.080   8.332  1.00 42.31           O  \nHETATM 3536  O   HOH D 305     -16.505   0.357  22.187  1.00 60.67           O  \nHETATM 3537  O   HOH D 306      31.574 -10.828  -1.324  1.00 60.10           O  \nHETATM 3538  O   HOH D 307      37.787  -6.438   0.492  1.00 61.38           O  \nHETATM 3539  O   HOH D 308       9.963   1.105   0.537  1.00 41.87           O  \nHETATM 3540  O   HOH D 309      10.079   2.757 -14.569  1.00 58.85           O  \nHETATM 3541  O   HOH D 310      15.976  15.979   7.429  1.00 45.97           O  \nHETATM 3542  O   HOH D 311      -1.449  18.486   9.414  1.00 48.76           O  \nHETATM 3543  O   HOH D 312       4.638   5.413 -10.588  1.00 54.16           O  \nHETATM 3544  O   HOH D 313      41.261   0.551   2.696  1.00 56.93           O  \nHETATM 3545  O   HOH D 314       5.257  19.658  12.332  1.00 45.45           O  \nHETATM 3546  O   HOH D 315      17.071  23.102   5.942  1.00 45.93           O  \nHETATM 3547  O   HOH D 316     -23.293   5.866  18.390  1.00 44.51           O  \nHETATM 3548  O   HOH D 317      18.848  18.742   6.986  1.00 52.34           O  \nHETATM 3549  O   HOH D 318      -8.742  14.095   6.732  1.00 52.84           O  \nHETATM 3550  O   HOH D 319       3.711  15.941   0.385  1.00 50.77           O  \nHETATM 3551  O   HOH D 320      15.347   7.989  12.923  1.00 50.80           O  \nHETATM 3552  O   HOH D 321      35.052  -6.599  -5.292  1.00 59.77           O  \nHETATM 3553  O   HOH D 322      31.859  14.539  -3.281  1.00 51.03           O  \nHETATM 3554  O   HOH D 323      -6.876   9.101  21.434  1.00 57.05           O  \nHETATM 3555  O   HOH D 324      14.649  12.607  -9.473  1.00 49.11           O  \nHETATM 3556  O   HOH D 325      27.933  -8.233  -8.546  1.00 42.26           O  \nHETATM 3557  O   HOH D 326      27.781  -6.133  14.945  1.00 68.87           O  \nHETATM 3558  O   HOH D 327      19.541  13.432  10.179  1.00 50.80           O  \nHETATM 3559  O   HOH D 328      12.173  15.663  -8.025  1.00 54.16           O  \nHETATM 3560  O   HOH D 329      19.687  10.708  12.709  1.00 55.05           O  \nHETATM 3561  O   HOH D 330      22.056  12.979   9.033  1.00 53.61           O  \nHETATM 3562  O   HOH D 331      38.425   6.959  -6.388  1.00 60.70           O  \nHETATM 3563  O   HOH D 332      26.710  -7.953   0.275  1.00 54.16           O  \nHETATM 3564  O   HOH D 333     -10.134  -9.288  10.891  1.00 46.25           O  \nHETATM 3565  O   HOH D 334       5.290  25.308   1.408  1.00 66.00           O  \nHETATM 3566  O   HOH D 335      26.591   9.091 -11.685  1.00 54.00           O  \nHETATM 3567  O   HOH D 336      11.534  28.524   2.225  1.00 55.37           O  \nHETATM 3568  O   HOH D 337      31.749   1.400  -8.743  1.00 51.81           O  \nHETATM 3569  O   HOH D 338      -1.439   0.967   6.857  1.00 65.87           O  \nHETATM 3570  O   HOH D 339       6.861  21.438  -3.079  1.00 50.90           O  \nHETATM 3571  O   HOH D 340      -0.110  -1.791  11.381  1.00 51.61           O  \nHETATM 3572  O   HOH D 341      30.607  13.558  -7.095  1.00 48.93           O  \nHETATM 3573  O   HOH D 342       0.700  17.203   2.704  1.00 57.20           O  \nHETATM 3574  O   HOH D 343      28.623 -10.217  -1.665  1.00 63.61           O  \nHETATM 3575  O   HOH D 344      -2.227  -5.433   7.405  1.00 46.37           O  \nHETATM 3576  O   HOH D 345       2.321  -2.745  20.980  1.00 53.46           O  \nHETATM 3577  O   HOH D 346       4.184  15.399  -5.359  1.00 56.38           O  \nHETATM 3578  O   HOH D 347     -12.206  -5.991  25.323  1.00 55.20           O  \nHETATM 3579  O   HOH D 348      23.381  11.211  12.808  1.00 59.52           O  \nHETATM 3580  O   HOH D 349      14.944  20.142   7.464  1.00 56.10           O  \nHETATM 3581  O   HOH D 350       6.925  20.471  10.075  1.00 54.79           O  \nHETATM 3582  O   HOH D 351      34.753  -4.871  10.998  1.00 70.48           O  \nHETATM 3583  O   HOH D 352       7.432   5.056  -0.430  1.00 44.61           O  \nHETATM 3584  O   HOH D 353      13.572  19.664  -7.435  1.00 47.69           O  \nHETATM 3585  O   HOH D 354      19.704  25.428   0.127  1.00 58.81           O  \nHETATM 3586  O   HOH D 355      10.071   0.249   4.892  1.00 61.31           O  \nHETATM 3587  O   HOH D 356       1.486  13.948   2.226  1.00 56.77           O  \nHETATM 3588  O   HOH D 357      -0.127  23.312   4.916  1.00 69.08           O  \nHETATM 3589  O   HOH D 358      -9.830  15.082  11.960  1.00 53.50           O  \nHETATM 3590  O   HOH D 359      -2.647  -4.127  25.173  1.00 58.10           O  \nHETATM 3591  O   HOH D 360     -11.115  11.078   6.306  1.00 50.77           O  \nHETATM 3592  O   HOH D 361     -14.812  12.444   1.268  1.00 63.61           O  \nHETATM 3593  O   HOH D 362       8.848   9.948  12.695  1.00 42.49           O  \nHETATM 3594  O   HOH D 363      18.358  15.929  10.270  1.00 62.07           O  \nHETATM 3595  O   HOH D 365      11.437  20.978   9.448  1.00 47.99           O  \nHETATM 3596  O   HOH D 366      12.958   7.675 -11.412  1.00 63.85           O  \nHETATM 3597  O   HOH D 367      28.895   2.796  13.466  1.00 48.50           O  \nHETATM 3598  O   HOH D 368      27.283  -5.592  -0.466  1.00 53.91           O  \nHETATM 3599  O   HOH D 369      -3.448   4.737  26.109  1.00 58.98           O  \nHETATM 3600  O   HOH D 370     -18.937  -9.111  14.757  1.00 64.45           O  \nHETATM 3601  O   HOH D 371     -20.916  -4.148  20.853  1.00 51.81           O  \nHETATM 3602  O   HOH D 372     -23.221  -6.679  20.421  1.00 71.64           O  \nHETATM 3603  O   HOH D 373     -23.482  -2.824  13.893  1.00 45.22           O  \nHETATM 3604  O   HOH D 374      21.001  -4.130   8.003  1.00 54.02           O  \nHETATM 3605  O   HOH D 375      15.675   9.512 -11.794  1.00 53.71           O  \nHETATM 3606  O   HOH D 376       4.967   1.938 -10.776  1.00 64.28           O  \nHETATM 3607  O   HOH D 377      31.137  14.595  -0.294  1.00 33.93           O  \nHETATM 3608  O   HOH D 378      30.436  -7.239  -9.710  1.00 33.93           O  \nENDMDL                                                                          \nMASTER        0    0    0    7   47    0    0    6 3597    2    0   37          \nEND                                                                             \n",
                    "type": "blob",
                    "binary": false
                  }
                ],
                "kwargs": {
                  "ext": "pdb",
                  "defaultRepresentation": false
                },
                "type": "call_method"
              },
              {
                "reconstruc_color_scheme": false,
                "methodName": "removeAllRepresentations",
                "target": "compList",
                "args": [],
                "kwargs": {},
                "component_index": 0,
                "type": "call_method"
              },
              {
                "reconstruc_color_scheme": false,
                "methodName": "addRepresentation",
                "target": "compList",
                "args": [
                  "cartoon"
                ],
                "kwargs": {
                  "color": "chainname",
                  "sele": "protein and not ANI"
                },
                "component_index": 0,
                "type": "call_method"
              },
              {
                "reconstruc_color_scheme": false,
                "methodName": "addRepresentation",
                "target": "compList",
                "args": [
                  "ball+stick"
                ],
                "kwargs": {
                  "sele": "hetero"
                },
                "component_index": 0,
                "type": "call_method"
              }
            ]
          }
        },
        "8034f0af4c554b958f6fa7208128916e": {
          "model_module": "@jupyter-widgets/controls",
          "model_name": "ButtonStyleModel",
          "model_module_version": "1.5.0",
          "state": {
            "_view_name": "StyleView",
            "_model_name": "ButtonStyleModel",
            "_view_module": "@jupyter-widgets/base",
            "_model_module_version": "1.5.0",
            "_view_count": null,
            "button_color": null,
            "font_weight": "",
            "_view_module_version": "1.2.0",
            "_model_module": "@jupyter-widgets/controls"
          }
        },
        "0c1506490b374fe78ef5c40ff7157fce": {
          "model_module": "@jupyter-widgets/base",
          "model_name": "LayoutModel",
          "model_module_version": "1.2.0",
          "state": {
            "_view_name": "LayoutView",
            "grid_template_rows": null,
            "right": null,
            "justify_content": null,
            "_view_module": "@jupyter-widgets/base",
            "overflow": null,
            "_model_module_version": "1.2.0",
            "_view_count": null,
            "flex_flow": null,
            "width": "34px",
            "min_width": null,
            "border": null,
            "align_items": null,
            "bottom": null,
            "_model_module": "@jupyter-widgets/base",
            "top": null,
            "grid_column": null,
            "overflow_y": null,
            "overflow_x": null,
            "grid_auto_flow": null,
            "grid_area": null,
            "grid_template_columns": null,
            "flex": null,
            "_model_name": "LayoutModel",
            "justify_items": null,
            "grid_row": null,
            "max_height": null,
            "align_content": null,
            "visibility": null,
            "align_self": null,
            "height": null,
            "min_height": null,
            "padding": null,
            "grid_auto_rows": null,
            "grid_gap": null,
            "max_width": null,
            "order": null,
            "_view_module_version": "1.2.0",
            "grid_template_areas": null,
            "object_position": null,
            "object_fit": null,
            "grid_auto_columns": null,
            "margin": null,
            "display": null,
            "left": null
          }
        },
        "4f9cb564e9ec4e988af0472c8b5d71b2": {
          "model_module": "@jupyter-widgets/controls",
          "model_name": "ButtonModel",
          "model_module_version": "1.5.0",
          "state": {
            "_view_name": "ButtonView",
            "style": "IPY_MODEL_8034f0af4c554b958f6fa7208128916e",
            "_dom_classes": [],
            "description": "",
            "_model_name": "ButtonModel",
            "button_style": "",
            "_view_module": "@jupyter-widgets/controls",
            "_model_module_version": "1.5.0",
            "tooltip": "",
            "_view_count": null,
            "disabled": false,
            "_view_module_version": "1.5.0",
            "layout": "IPY_MODEL_0c1506490b374fe78ef5c40ff7157fce",
            "_model_module": "@jupyter-widgets/controls",
            "icon": "compress"
          }
        },
        "be67cf72554145c68ff0dbce54693c52": {
          "model_module": "@jupyter-widgets/controls",
          "model_name": "HBoxModel",
          "model_module_version": "1.5.0",
          "state": {
            "_view_name": "HBoxView",
            "_dom_classes": [],
            "_model_name": "HBoxModel",
            "_view_module": "@jupyter-widgets/controls",
            "_model_module_version": "1.5.0",
            "_view_count": null,
            "_view_module_version": "1.5.0",
            "box_style": "",
            "layout": "IPY_MODEL_8923f1adb4e543f69c2d34347cd528a6",
            "_model_module": "@jupyter-widgets/controls",
            "children": [
              "IPY_MODEL_b12ef8a8f80546458034bc0fcfa711d1",
              "IPY_MODEL_dc0a1d755a454dcfa5df20e4b3a5951c"
            ]
          }
        },
        "fd82cc5e2c93453cb2c4d93c24bbc9b6": {
          "model_module": "nglview-js-widgets",
          "model_name": "NGLModel",
          "model_module_version": "3.0.1",
          "state": {
            "_view_name": "NGLView",
            "_scene_rotation": {},
            "_ngl_view_id": [
              "E023D542-035C-48C1-ABC2-C6524A42BC42"
            ],
            "_synced_model_ids": [],
            "_camera_orientation": [],
            "frame": 0,
            "_view_module": "nglview-js-widgets",
            "_ibtn_fullscreen": "IPY_MODEL_646656c490fd40769c2fac0eac0a2dec",
            "_camera_str": "orthographic",
            "_ngl_serialize": false,
            "picked": {},
            "_model_module": "nglview-js-widgets",
            "_igui": null,
            "_iplayer": "IPY_MODEL_f81c50f0e2c841079df1752b9b2e56b8",
            "layout": "IPY_MODEL_270c2b1869914eceb75615b0c86e0f5a",
            "_view_width": "",
            "_ngl_coordinate_resource": {},
            "_view_module_version": "3.0.1",
            "_player_dict": {},
            "_synced_repr_model_ids": [],
            "_ngl_version": "2.0.0-dev.36",
            "max_frame": 0,
            "_dom_classes": [],
            "_model_name": "NGLModel",
            "_scene_position": {},
            "_model_module_version": "3.0.1",
            "gui_style": null,
            "background": "white",
            "_view_count": null,
            "_view_height": "",
            "_ngl_repr_dict": {},
            "_ngl_original_stage_parameters": {
              "impostor": true,
              "quality": "medium",
              "workerDefault": true,
              "sampleLevel": 0,
              "backgroundColor": "white",
              "rotateSpeed": 2,
              "zoomSpeed": 1.2,
              "panSpeed": 1,
              "clipNear": 0,
              "clipFar": 100,
              "clipDist": 10,
              "fogNear": 50,
              "fogFar": 100,
              "cameraFov": 40,
              "cameraEyeSep": 0.3,
              "cameraType": "perspective",
              "lightColor": 14540253,
              "lightIntensity": 1,
              "ambientColor": 14540253,
              "ambientIntensity": 0.2,
              "hoverTimeout": 0,
              "tooltip": true,
              "mousePreset": "default"
            },
            "_ngl_full_stage_parameters": {
              "impostor": true,
              "quality": "medium",
              "workerDefault": true,
              "sampleLevel": 0,
              "backgroundColor": "white",
              "rotateSpeed": 2,
              "zoomSpeed": 1.2,
              "panSpeed": 1,
              "clipNear": 0,
              "clipFar": 100,
              "clipDist": 10,
              "fogNear": 50,
              "fogFar": 100,
              "cameraFov": 40,
              "cameraEyeSep": 0.3,
              "cameraType": "perspective",
              "lightColor": 14540253,
              "lightIntensity": 1,
              "ambientColor": 14540253,
              "ambientIntensity": 0.2,
              "hoverTimeout": 0,
              "tooltip": true,
              "mousePreset": "default"
            },
            "n_components": 0,
            "_ngl_color_dict": {},
            "_gui_theme": null,
            "_ngl_msg_archive": [
              {
                "reconstruc_color_scheme": false,
                "methodName": "loadFile",
                "target": "Stage",
                "args": [
                  {
                    "data": "3RVT.pdb",
                    "type": "path",
                    "binary": false
                  }
                ],
                "kwargs": {
                  "ext": "pdb",
                  "defaultRepresentation": true
                },
                "type": "call_method"
              }
            ]
          }
        },
        "270c2b1869914eceb75615b0c86e0f5a": {
          "model_module": "@jupyter-widgets/base",
          "model_name": "LayoutModel",
          "model_module_version": "1.2.0",
          "state": {
            "_view_name": "LayoutView",
            "grid_template_rows": null,
            "right": null,
            "justify_content": null,
            "_view_module": "@jupyter-widgets/base",
            "overflow": null,
            "_model_module_version": "1.2.0",
            "_view_count": null,
            "flex_flow": null,
            "width": null,
            "min_width": null,
            "border": null,
            "align_items": null,
            "bottom": null,
            "_model_module": "@jupyter-widgets/base",
            "top": null,
            "grid_column": null,
            "overflow_y": null,
            "overflow_x": null,
            "grid_auto_flow": null,
            "grid_area": null,
            "grid_template_columns": null,
            "flex": null,
            "_model_name": "LayoutModel",
            "justify_items": null,
            "grid_row": null,
            "max_height": null,
            "align_content": null,
            "visibility": null,
            "align_self": null,
            "height": null,
            "min_height": null,
            "padding": null,
            "grid_auto_rows": null,
            "grid_gap": null,
            "max_width": null,
            "order": null,
            "_view_module_version": "1.2.0",
            "grid_template_areas": null,
            "object_position": null,
            "object_fit": null,
            "grid_auto_columns": null,
            "margin": null,
            "display": null,
            "left": null
          }
        },
        "646656c490fd40769c2fac0eac0a2dec": {
          "model_module": "@jupyter-widgets/controls",
          "model_name": "ButtonModel",
          "model_module_version": "1.5.0",
          "state": {
            "_view_name": "ButtonView",
            "style": "IPY_MODEL_ffc860b7206347a59f3c685d4fc80afb",
            "_dom_classes": [],
            "description": "",
            "_model_name": "ButtonModel",
            "button_style": "",
            "_view_module": "@jupyter-widgets/controls",
            "_model_module_version": "1.5.0",
            "tooltip": "",
            "_view_count": null,
            "disabled": false,
            "_view_module_version": "1.5.0",
            "layout": "IPY_MODEL_16a0eb72574c4115ad5a32abf37c451a",
            "_model_module": "@jupyter-widgets/controls",
            "icon": "compress"
          }
        },
        "f81c50f0e2c841079df1752b9b2e56b8": {
          "model_module": "@jupyter-widgets/controls",
          "model_name": "HBoxModel",
          "model_module_version": "1.5.0",
          "state": {
            "_view_name": "HBoxView",
            "_dom_classes": [],
            "_model_name": "HBoxModel",
            "_view_module": "@jupyter-widgets/controls",
            "_model_module_version": "1.5.0",
            "_view_count": null,
            "_view_module_version": "1.5.0",
            "box_style": "",
            "layout": "IPY_MODEL_dc71da214ccc457d818e16aa540aad08",
            "_model_module": "@jupyter-widgets/controls",
            "children": [
              "IPY_MODEL_765a86ac7ecd4e2c90591be94180f4a9",
              "IPY_MODEL_1eb3571e34424e769036b7bad0e352b4"
            ]
          }
        },
        "6867fbb8a1c94e00b7f50935e4cbafca": {
          "model_module": "@jupyter-widgets/controls",
          "model_name": "DescriptionStyleModel",
          "model_module_version": "1.5.0",
          "state": {
            "_view_name": "StyleView",
            "_model_name": "DescriptionStyleModel",
            "description_width": "",
            "_view_module": "@jupyter-widgets/base",
            "_model_module_version": "1.5.0",
            "_view_count": null,
            "_view_module_version": "1.2.0",
            "_model_module": "@jupyter-widgets/controls"
          }
        },
        "f8bcf1ead2564c0ba0b34d29bd935950": {
          "model_module": "@jupyter-widgets/base",
          "model_name": "LayoutModel",
          "model_module_version": "1.2.0",
          "state": {
            "_view_name": "LayoutView",
            "grid_template_rows": null,
            "right": null,
            "justify_content": null,
            "_view_module": "@jupyter-widgets/base",
            "overflow": null,
            "_model_module_version": "1.2.0",
            "_view_count": null,
            "flex_flow": null,
            "width": null,
            "min_width": null,
            "border": null,
            "align_items": null,
            "bottom": null,
            "_model_module": "@jupyter-widgets/base",
            "top": null,
            "grid_column": null,
            "overflow_y": null,
            "overflow_x": null,
            "grid_auto_flow": null,
            "grid_area": null,
            "grid_template_columns": null,
            "flex": null,
            "_model_name": "LayoutModel",
            "justify_items": null,
            "grid_row": null,
            "max_height": null,
            "align_content": null,
            "visibility": null,
            "align_self": null,
            "height": null,
            "min_height": null,
            "padding": null,
            "grid_auto_rows": null,
            "grid_gap": null,
            "max_width": null,
            "order": null,
            "_view_module_version": "1.2.0",
            "grid_template_areas": null,
            "object_position": null,
            "object_fit": null,
            "grid_auto_columns": null,
            "margin": null,
            "display": null,
            "left": null
          }
        },
        "714b0e64d97d4ea3a0e01ae75f9c2ab5": {
          "model_module": "@jupyter-widgets/controls",
          "model_name": "SliderStyleModel",
          "model_module_version": "1.5.0",
          "state": {
            "_view_name": "StyleView",
            "handle_color": null,
            "_model_name": "SliderStyleModel",
            "description_width": "",
            "_view_module": "@jupyter-widgets/base",
            "_model_module_version": "1.5.0",
            "_view_count": null,
            "_view_module_version": "1.2.0",
            "_model_module": "@jupyter-widgets/controls"
          }
        },
        "975bc1fe30a249a8a3368028ea6300bf": {
          "model_module": "@jupyter-widgets/base",
          "model_name": "LayoutModel",
          "model_module_version": "1.2.0",
          "state": {
            "_view_name": "LayoutView",
            "grid_template_rows": null,
            "right": null,
            "justify_content": null,
            "_view_module": "@jupyter-widgets/base",
            "overflow": null,
            "_model_module_version": "1.2.0",
            "_view_count": null,
            "flex_flow": null,
            "width": null,
            "min_width": null,
            "border": null,
            "align_items": null,
            "bottom": null,
            "_model_module": "@jupyter-widgets/base",
            "top": null,
            "grid_column": null,
            "overflow_y": null,
            "overflow_x": null,
            "grid_auto_flow": null,
            "grid_area": null,
            "grid_template_columns": null,
            "flex": null,
            "_model_name": "LayoutModel",
            "justify_items": null,
            "grid_row": null,
            "max_height": null,
            "align_content": null,
            "visibility": null,
            "align_self": null,
            "height": null,
            "min_height": null,
            "padding": null,
            "grid_auto_rows": null,
            "grid_gap": null,
            "max_width": null,
            "order": null,
            "_view_module_version": "1.2.0",
            "grid_template_areas": null,
            "object_position": null,
            "object_fit": null,
            "grid_auto_columns": null,
            "margin": null,
            "display": null,
            "left": null
          }
        },
        "dc71da214ccc457d818e16aa540aad08": {
          "model_module": "@jupyter-widgets/base",
          "model_name": "LayoutModel",
          "model_module_version": "1.2.0",
          "state": {
            "_view_name": "LayoutView",
            "grid_template_rows": null,
            "right": null,
            "justify_content": null,
            "_view_module": "@jupyter-widgets/base",
            "overflow": null,
            "_model_module_version": "1.2.0",
            "_view_count": null,
            "flex_flow": null,
            "width": null,
            "min_width": null,
            "border": null,
            "align_items": null,
            "bottom": null,
            "_model_module": "@jupyter-widgets/base",
            "top": null,
            "grid_column": null,
            "overflow_y": null,
            "overflow_x": null,
            "grid_auto_flow": null,
            "grid_area": null,
            "grid_template_columns": null,
            "flex": null,
            "_model_name": "LayoutModel",
            "justify_items": null,
            "grid_row": null,
            "max_height": null,
            "align_content": null,
            "visibility": null,
            "align_self": null,
            "height": null,
            "min_height": null,
            "padding": null,
            "grid_auto_rows": null,
            "grid_gap": null,
            "max_width": null,
            "order": null,
            "_view_module_version": "1.2.0",
            "grid_template_areas": null,
            "object_position": null,
            "object_fit": null,
            "grid_auto_columns": null,
            "margin": null,
            "display": null,
            "left": null
          }
        },
        "765a86ac7ecd4e2c90591be94180f4a9": {
          "model_module": "@jupyter-widgets/controls",
          "model_name": "PlayModel",
          "model_module_version": "1.5.0",
          "state": {
            "_view_name": "PlayView",
            "style": "IPY_MODEL_6867fbb8a1c94e00b7f50935e4cbafca",
            "interval": 100,
            "_dom_classes": [],
            "description": "",
            "_model_name": "PlayModel",
            "max": 0,
            "_view_module": "@jupyter-widgets/controls",
            "_model_module_version": "1.5.0",
            "value": 0,
            "_view_count": null,
            "disabled": false,
            "_repeat": false,
            "_view_module_version": "1.5.0",
            "show_repeat": true,
            "min": 0,
            "_playing": false,
            "step": 1,
            "description_tooltip": null,
            "_model_module": "@jupyter-widgets/controls",
            "layout": "IPY_MODEL_f8bcf1ead2564c0ba0b34d29bd935950"
          }
        },
        "1eb3571e34424e769036b7bad0e352b4": {
          "model_module": "@jupyter-widgets/controls",
          "model_name": "IntSliderModel",
          "model_module_version": "1.5.0",
          "state": {
            "_view_name": "IntSliderView",
            "style": "IPY_MODEL_714b0e64d97d4ea3a0e01ae75f9c2ab5",
            "_dom_classes": [],
            "description": "",
            "step": 1,
            "_model_name": "IntSliderModel",
            "orientation": "horizontal",
            "max": 0,
            "_view_module": "@jupyter-widgets/controls",
            "_model_module_version": "1.5.0",
            "value": 0,
            "_view_count": null,
            "disabled": false,
            "_view_module_version": "1.5.0",
            "min": 0,
            "continuous_update": true,
            "readout_format": "d",
            "description_tooltip": null,
            "readout": true,
            "_model_module": "@jupyter-widgets/controls",
            "layout": "IPY_MODEL_975bc1fe30a249a8a3368028ea6300bf"
          }
        },
        "ffc860b7206347a59f3c685d4fc80afb": {
          "model_module": "@jupyter-widgets/controls",
          "model_name": "ButtonStyleModel",
          "model_module_version": "1.5.0",
          "state": {
            "_view_name": "StyleView",
            "_model_name": "ButtonStyleModel",
            "_view_module": "@jupyter-widgets/base",
            "_model_module_version": "1.5.0",
            "_view_count": null,
            "button_color": null,
            "font_weight": "",
            "_view_module_version": "1.2.0",
            "_model_module": "@jupyter-widgets/controls"
          }
        },
        "16a0eb72574c4115ad5a32abf37c451a": {
          "model_module": "@jupyter-widgets/base",
          "model_name": "LayoutModel",
          "model_module_version": "1.2.0",
          "state": {
            "_view_name": "LayoutView",
            "grid_template_rows": null,
            "right": null,
            "justify_content": null,
            "_view_module": "@jupyter-widgets/base",
            "overflow": null,
            "_model_module_version": "1.2.0",
            "_view_count": null,
            "flex_flow": null,
            "width": "34px",
            "min_width": null,
            "border": null,
            "align_items": null,
            "bottom": null,
            "_model_module": "@jupyter-widgets/base",
            "top": null,
            "grid_column": null,
            "overflow_y": null,
            "overflow_x": null,
            "grid_auto_flow": null,
            "grid_area": null,
            "grid_template_columns": null,
            "flex": null,
            "_model_name": "LayoutModel",
            "justify_items": null,
            "grid_row": null,
            "max_height": null,
            "align_content": null,
            "visibility": null,
            "align_self": null,
            "height": null,
            "min_height": null,
            "padding": null,
            "grid_auto_rows": null,
            "grid_gap": null,
            "max_width": null,
            "order": null,
            "_view_module_version": "1.2.0",
            "grid_template_areas": null,
            "object_position": null,
            "object_fit": null,
            "grid_auto_columns": null,
            "margin": null,
            "display": null,
            "left": null
          }
        }
      }
    }
  },
  "nbformat": 4,
  "nbformat_minor": 0
}